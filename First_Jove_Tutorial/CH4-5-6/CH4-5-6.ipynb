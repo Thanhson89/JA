{
 "cells": [
  {
   "cell_type": "markdown",
   "metadata": {
    "run_control": {
     "frozen": false,
     "read_only": false
    }
   },
   "source": [
    "# A DFA Overview Video\n",
    "\n",
    "If you'd like to relive my first lecture on DFA, be my guest; play the Youtube video below!\n",
    "My own advice: listen a little and then stop the video and start playing with the code below!"
   ]
  },
  {
   "cell_type": "code",
   "execution_count": 1,
   "metadata": {
    "run_control": {
     "frozen": false,
     "read_only": false
    }
   },
   "outputs": [
    {
     "data": {
      "image/jpeg": "[encoded data removed]",
      "text/html": [
       "\n",
       "        <iframe\n",
       "            width=\"400\"\n",
       "            height=\"300\"\n",
       "            src=\"https://www.youtube.com/embed/FItN6CK1mow\"\n",
       "            frameborder=\"0\"\n",
       "            allowfullscreen\n",
       "        ></iframe>\n",
       "        "
      ],
      "text/plain": [
       "<IPython.lib.display.YouTubeVideo at 0x10d5d8550>"
      ]
     },
     "execution_count": 1,
     "metadata": {},
     "output_type": "execute_result"
    }
   ],
   "source": [
    "# This Youtube video walks through a basic DFA lecture\n",
    "from IPython.display import YouTubeVideo\n",
    "YouTubeVideo('FItN6CK1mow')"
   ]
  },
  {
   "cell_type": "markdown",
   "metadata": {
    "run_control": {
     "frozen": false,
     "read_only": false
    }
   },
   "source": [
    "# Simple DFA Exercises"
   ]
  },
  {
   "cell_type": "code",
   "execution_count": 2,
   "metadata": {
    "run_control": {
     "frozen": false,
     "read_only": false
    }
   },
   "outputs": [
    {
     "name": "stdout",
     "output_type": "stream",
     "text": [
      "You may use any of these help commands:\n",
      "help(ResetStNum)\n",
      "help(NxtStateStr)\n",
      "\n",
      "You may use any of these help commands:\n",
      "help(md2mc)\n",
      ".. and if you want to dig more, then ..\n",
      "help(default_line_attr)\n",
      "help(length_ok_input_items)\n",
      "help(union_line_attr_list_fld)\n",
      "help(extend_rsltdict)\n",
      "help(form_delta)\n",
      "help(get_machine_components)\n",
      "\n",
      "You may use any of these help commands:\n",
      "help(mkp_dfa)\n",
      "help(mk_dfa)\n",
      "help(totalize_dfa)\n",
      "help(addtosigma_delta)\n",
      "help(step_dfa)\n",
      "help(run_dfa)\n",
      "help(accepts_dfa)\n",
      "help(comp_dfa)\n",
      "help(union_dfa)\n",
      "help(intersect_dfa)\n",
      "help(pruneUnreach)\n",
      "help(iso_dfa)\n",
      "help(langeq_dfa)\n",
      "help(same_status)\n",
      "help(h_langeq_dfa)\n",
      "help(fixptDist)\n",
      "help(min_dfa)\n",
      "help(pairFR)\n",
      "help(state_combos)\n",
      "help(sepFinNonFin)\n",
      "help(bash_eql_classes)\n",
      "help(listminus)\n",
      "help(bash_1)\n",
      "help(mk_rep_eqc)\n",
      "help(F_of)\n",
      "help(rep_of_s)\n",
      "help(q0_of)\n",
      "help(Delta_of)\n",
      "help(mk_state_eqc_name)\n",
      "\n"
     ]
    }
   ],
   "source": [
    "import sys\n",
    "sys.path[0:0] = ['../..','../../3rdparty'] # Put these at the head of the search path\n",
    "from jove.DotBashers import *\n",
    "from jove.Def_md2mc  import *\n",
    "from jove.Def_DFA    import *"
   ]
  },
  {
   "cell_type": "markdown",
   "metadata": {
    "run_control": {
     "frozen": false,
     "read_only": false
    }
   },
   "source": [
    "# Try using a few help commands"
   ]
  },
  {
   "cell_type": "code",
   "execution_count": 3,
   "metadata": {
    "run_control": {
     "frozen": false,
     "read_only": false
    }
   },
   "outputs": [
    {
     "name": "stdout",
     "output_type": "stream",
     "text": [
      "Help on function md2mc in module jove.Def_md2mc:\n",
      "\n",
      "md2mc(src='None', fname='None')\n",
      "    md2mc converts a markdown source to a machine (mc).\n",
      "    \n",
      "    One can feed the markdown in three ways, shown via \n",
      "    pseudo-examples:\n",
      "    \n",
      "    1) md2mc()\n",
      "    \n",
      "       It means you will provide a file-name\n",
      "       (you will be prompted for one). Then the markdown is read from\n",
      "       that file. \n",
      "       \n",
      "    2) md2mc(src=\"<any string S other than 'File'>\")\n",
      "    \n",
      "       S is now taken as the markdown string and parsed. This is \n",
      "       bound to be a multi-line file. \n",
      "       \n",
      "       There is a Jupyter bug that if the parser (or any process) \n",
      "       consuming a multi-line input throws an exception, you will get \n",
      "       a strange error message: \n",
      "       ERROR:root:An unexpected error occurred while tokenizing input\n",
      "       Ignore it please, and instead spend your time fixing the \n",
      "       markdown input. See for details:\n",
      "       https://github.com/ipython/ipython/issues/6864\n",
      "       \n",
      "       \n",
      "    3) md2mc(src=\"File\", fname=\"<your file name path>\")\n",
      "    \n",
      "       Obviously, you should not be feeding a markdown with contents \n",
      "       \"File\". It is not legit markdown syntax. So if src=\"File\", \n",
      "       then fname is taken to be the path-name to a file that is \n",
      "       opened and read.\n",
      "     \n",
      "    In all cases, the returned result is a machine structure (dict).\n",
      "\n"
     ]
    }
   ],
   "source": [
    "help(md2mc)"
   ]
  },
  {
   "cell_type": "code",
   "execution_count": 4,
   "metadata": {
    "run_control": {
     "frozen": false,
     "read_only": false
    }
   },
   "outputs": [
    {
     "name": "stdout",
     "output_type": "stream",
     "text": [
      "Help on function intersect_dfa in module jove.Def_DFA:\n",
      "\n",
      "intersect_dfa(D1in, D2in)\n",
      "    In : D1in (consistent DFA)\n",
      "         D2in (consistent DFA)\n",
      "    Out: DFA for language intersection of D1in, D2in (consistent DFA).\n",
      "\n"
     ]
    }
   ],
   "source": [
    "help(intersect_dfa)"
   ]
  },
  {
   "cell_type": "markdown",
   "metadata": {
    "run_control": {
     "frozen": false,
     "read_only": false
    }
   },
   "source": [
    "# Specify your DFA : now as a \"raw\" dict\n",
    "\n",
    "This is error-prone. A better method will be introduced momentarily!"
   ]
  },
  {
   "cell_type": "code",
   "execution_count": 5,
   "metadata": {
    "run_control": {
     "frozen": false,
     "read_only": false
    }
   },
   "outputs": [],
   "source": [
    "Fig34 = {\n",
    " 'Q': {'A', 'F', 'I'},\n",
    " 'Sigma': {'0', '1'},\n",
    " 'Delta': {('A', '0'): 'I',\n",
    "  ('A', '1'): 'I',\n",
    "  ('F', '0'): 'I',\n",
    "  ('F', '1'): 'I',\n",
    "  ('I', '0'): 'A',\n",
    "  ('I', '1'): 'F'},\n",
    " 'q0': 'I',\n",
    " 'F': {'F'}\n",
    "}"
   ]
  },
  {
   "cell_type": "code",
   "execution_count": 6,
   "metadata": {
    "run_control": {
     "frozen": false,
     "read_only": false
    }
   },
   "outputs": [
    {
     "data": {
      "image/svg+xml": [
       "<?xml version=\"1.0\" encoding=\"UTF-8\" standalone=\"no\"?>\n",
       "<!DOCTYPE svg PUBLIC \"-//W3C//DTD SVG 1.1//EN\"\n",
       " \"http://www.w3.org/Graphics/SVG/1.1/DTD/svg11.dtd\">\n",
       "<!-- Generated by graphviz version 2.38.0 (20140413.2041)\n",
       " -->\n",
       "<!-- Title: %3 Pages: 1 -->\n",
       "<svg width=\"222pt\" height=\"160pt\"\n",
       " viewBox=\"0.00 0.00 222.00 159.85\" xmlns=\"http://www.w3.org/2000/svg\" xmlns:xlink=\"http://www.w3.org/1999/xlink\">\n",
       "<g id=\"graph0\" class=\"graph\" transform=\"scale(1 1) rotate(0) translate(4 155.851)\">\n",
       "<title>%3</title>\n",
       "<polygon fill=\"white\" stroke=\"none\" points=\"-4,4 -4,-155.851 218,-155.851 218,4 -4,4\"/>\n",
       "<!-- EMPTY -->\n",
       "<g id=\"node1\" class=\"node\"><title>EMPTY</title>\n",
       "</g>\n",
       "<!-- I -->\n",
       "<g id=\"node3\" class=\"node\"><title>I</title>\n",
       "<ellipse fill=\"none\" stroke=\"black\" cx=\"109\" cy=\"-77.8506\" rx=\"18\" ry=\"18\"/>\n",
       "<text text-anchor=\"middle\" x=\"109\" y=\"-73.6506\" font-family=\"Times,serif\" font-size=\"14.00\">I</text>\n",
       "</g>\n",
       "<!-- EMPTY&#45;&gt;I -->\n",
       "<g id=\"edge1\" class=\"edge\"><title>EMPTY&#45;&gt;I</title>\n",
       "<path fill=\"none\" stroke=\"black\" d=\"M54.195,-77.8506C62.6538,-77.8506 72.0513,-77.8506 80.5951,-77.8506\"/>\n",
       "<polygon fill=\"black\" stroke=\"black\" points=\"80.8257,-81.3507 90.8257,-77.8506 80.8257,-74.3507 80.8257,-81.3507\"/>\n",
       "</g>\n",
       "<!-- A -->\n",
       "<g id=\"node2\" class=\"node\"><title>A</title>\n",
       "<ellipse fill=\"none\" stroke=\"black\" cx=\"192\" cy=\"-133.851\" rx=\"18\" ry=\"18\"/>\n",
       "<text text-anchor=\"middle\" x=\"192\" y=\"-129.651\" font-family=\"Times,serif\" font-size=\"14.00\">A</text>\n",
       "</g>\n",
       "<!-- A&#45;&gt;I -->\n",
       "<g id=\"edge2\" class=\"edge\"><title>A&#45;&gt;I</title>\n",
       "<path fill=\"none\" stroke=\"black\" d=\"M174.973,-127.709C165.797,-123.828 154.297,-118.328 145,-111.851 139.344,-107.91 133.747,-103.039 128.743,-98.2276\"/>\n",
       "<polygon fill=\"black\" stroke=\"black\" points=\"130.969,-95.5007 121.445,-90.8577 125.995,-100.426 130.969,-95.5007\"/>\n",
       "<text text-anchor=\"middle\" x=\"148.5\" y=\"-117.651\" font-family=\"Times,serif\" font-size=\"14.00\">0</text>\n",
       "</g>\n",
       "<!-- A&#45;&gt;I -->\n",
       "<g id=\"edge3\" class=\"edge\"><title>A&#45;&gt;I</title>\n",
       "<path fill=\"none\" stroke=\"black\" d=\"M180.272,-120.116C173.04,-111.609 162.864,-100.984 152,-93.8506 147.19,-90.6921 141.665,-88.0255 136.237,-85.8296\"/>\n",
       "<polygon fill=\"black\" stroke=\"black\" points=\"137.341,-82.5066 126.746,-82.3806 134.95,-89.0856 137.341,-82.5066\"/>\n",
       "<text text-anchor=\"middle\" x=\"148.5\" y=\"-96.6506\" font-family=\"Times,serif\" font-size=\"14.00\">1</text>\n",
       "</g>\n",
       "<!-- I&#45;&gt;A -->\n",
       "<g id=\"edge6\" class=\"edge\"><title>I&#45;&gt;A</title>\n",
       "<path fill=\"none\" stroke=\"black\" d=\"M115.748,-94.8323C121.115,-107.763 130.503,-124.686 145,-132.851 150.755,-136.092 157.592,-137.343 164.21,-137.553\"/>\n",
       "<polygon fill=\"black\" stroke=\"black\" points=\"164.39,-141.049 174.245,-137.16 164.116,-134.054 164.39,-141.049\"/>\n",
       "<text text-anchor=\"middle\" x=\"148.5\" y=\"-137.651\" font-family=\"Times,serif\" font-size=\"14.00\">0</text>\n",
       "</g>\n",
       "<!-- F -->\n",
       "<g id=\"node4\" class=\"node\"><title>F</title>\n",
       "<ellipse fill=\"none\" stroke=\"black\" cx=\"192\" cy=\"-22.8506\" rx=\"18\" ry=\"18\"/>\n",
       "<ellipse fill=\"none\" stroke=\"black\" cx=\"192\" cy=\"-22.8506\" rx=\"22\" ry=\"22\"/>\n",
       "<text text-anchor=\"middle\" x=\"192\" y=\"-18.6506\" font-family=\"Times,serif\" font-size=\"14.00\">F</text>\n",
       "</g>\n",
       "<!-- I&#45;&gt;F -->\n",
       "<g id=\"edge7\" class=\"edge\"><title>I&#45;&gt;F</title>\n",
       "<path fill=\"none\" stroke=\"black\" d=\"M124.481,-68.0177C135.68,-60.4138 151.481,-49.6848 164.872,-40.5915\"/>\n",
       "<polygon fill=\"black\" stroke=\"black\" points=\"166.945,-43.4146 173.252,-34.9015 163.013,-37.6235 166.945,-43.4146\"/>\n",
       "<text text-anchor=\"middle\" x=\"148.5\" y=\"-55.6506\" font-family=\"Times,serif\" font-size=\"14.00\">1</text>\n",
       "</g>\n",
       "<!-- F&#45;&gt;I -->\n",
       "<g id=\"edge4\" class=\"edge\"><title>F&#45;&gt;I</title>\n",
       "<path fill=\"none\" stroke=\"black\" d=\"M170.208,-19.2536C161.899,-18.8141 152.535,-19.6487 145,-23.8506 133.907,-30.0374 125.763,-41.38 120.138,-52.0785\"/>\n",
       "<polygon fill=\"black\" stroke=\"black\" points=\"116.95,-50.6329 115.831,-61.1686 123.276,-53.6299 116.95,-50.6329\"/>\n",
       "<text text-anchor=\"middle\" x=\"148.5\" y=\"-26.6506\" font-family=\"Times,serif\" font-size=\"14.00\">0</text>\n",
       "</g>\n",
       "<!-- F&#45;&gt;I -->\n",
       "<g id=\"edge5\" class=\"edge\"><title>F&#45;&gt;I</title>\n",
       "<path fill=\"none\" stroke=\"black\" d=\"M175.051,-8.35986C165.902,-1.86294 154.402,3.13706 145,-2.85062 128.741,-13.2056 119.911,-33.3045 115.189,-50.0911\"/>\n",
       "<polygon fill=\"black\" stroke=\"black\" points=\"111.742,-49.4515 112.75,-59.9983 118.539,-51.1249 111.742,-49.4515\"/>\n",
       "<text text-anchor=\"middle\" x=\"148.5\" y=\"-5.65062\" font-family=\"Times,serif\" font-size=\"14.00\">1</text>\n",
       "</g>\n",
       "</g>\n",
       "</svg>\n"
      ],
      "text/plain": [
       "<graphviz.dot.Digraph at 0x10ee81c18>"
      ]
     },
     "execution_count": 6,
     "metadata": {},
     "output_type": "execute_result"
    }
   ],
   "source": [
    "dotObj_dfa(Fig34)"
   ]
  },
  {
   "cell_type": "markdown",
   "metadata": {
    "run_control": {
     "frozen": false,
     "read_only": false
    }
   },
   "source": [
    "# The same DFA in automd (Jove's markdown)\n",
    "\n",
    "This is much less error-prone than a \"plain old dict\" that Fig34 above represented.\n",
    "\n",
    "Notice that there is a mini compiler that processes this markdown language\n",
    "and generates \"code\". The code is basically the dict defined as Fig34 above.\n",
    "\n",
    "This mini-compiler would be studied in later chapters. In particular,\n",
    "students will get to know:\n",
    "\n",
    "* how we parse Fig34md below, and pick out \"->\" as a token\n",
    "\n",
    "* how to collect state names\n",
    "\n",
    "* how \"I\" will be recognized to be an initial-state name\n",
    "\n",
    "* how \"F\" will be recognized to be a final state name\n",
    "\n",
    "In general, anything that starts with \"i\" or \"I\" will be an initial state,\n",
    "and anything that starts with \"f\" or \"F\" will be a final state. The parser\n",
    "underlies function \"md2mc\" below. \n",
    "\n",
    "The parser will also do error-checking. Try renaming all the \"I\"\n",
    "states below to, say, \"j\". Then the error message obtained will be this (after a huge gory Python error stack dump, you'll see this):\n",
    "\n",
    ">> AssertionError: Error: DFA with 0 starting states is illegal.\n",
    "\n",
    "Try keeping the \"I\" state name, but naming the state \"A\" to be \"IA\".\n",
    "Then, the error message obtained will be:\n",
    "\n",
    ">> AssertionError: Error: DFA with 2 starting states is illegal.\n",
    "\n",
    "Studying this mini-compiler will be a treat, in that a student will\n",
    "understand how lexing and parsing works \"for real\", how error-checks\n",
    "are done, how comments are processed, and how the \"code\" is generated\n",
    "if all is well.\n",
    "\n",
    "It also generates well-documented DFA for the reader to study. Why not\n",
    "teach good SW engineering practices even when developing a DFA? After\n",
    "all, these DFA may go into airplanes to be critical controllers, and\n",
    "we don't want them to be ill-documented.\n"
   ]
  },
  {
   "cell_type": "code",
   "execution_count": 7,
   "metadata": {
    "run_control": {
     "frozen": false,
     "read_only": false
    }
   },
   "outputs": [],
   "source": [
    "Fig34md = '''  !! Comments begin with !! and last till the end of line\n",
    "DFA            !! This keyword tells \"md2mc\" that it is parsing a DFA\n",
    "I : 0     -> A !! DFA transition: From initial state I, upon 0, go to state A\n",
    "A : 0 | 1 -> I !! Two DFA transitions: from A, upon 0 or a 1, go to state I\n",
    "I : 1     -> F !! A DFA transition from I to F. I is the initial state and F is final \n",
    "F : 0 | 1 -> I !! From F upon 0 or a 1, go to I.\n",
    "'''"
   ]
  },
  {
   "cell_type": "markdown",
   "metadata": {
    "run_control": {
     "frozen": false,
     "read_only": false
    }
   },
   "source": [
    "# Function md2mc is your automd compiler"
   ]
  },
  {
   "cell_type": "code",
   "execution_count": 8,
   "metadata": {
    "run_control": {
     "frozen": false,
     "read_only": false
    }
   },
   "outputs": [
    {
     "data": {
      "text/plain": [
       "{'Delta': {('A', '0'): 'I',\n",
       "  ('A', '1'): 'I',\n",
       "  ('F', '0'): 'I',\n",
       "  ('F', '1'): 'I',\n",
       "  ('I', '0'): 'A',\n",
       "  ('I', '1'): 'F'},\n",
       " 'F': {'F'},\n",
       " 'Q': {'A', 'F', 'I'},\n",
       " 'Sigma': {'0', '1'},\n",
       " 'q0': 'I'}"
      ]
     },
     "execution_count": 8,
     "metadata": {},
     "output_type": "execute_result"
    }
   ],
   "source": [
    "Fig34MC = md2mc(Fig34md)\n",
    "Fig34MC"
   ]
  },
  {
   "cell_type": "code",
   "execution_count": 9,
   "metadata": {
    "run_control": {
     "frozen": false,
     "read_only": false
    }
   },
   "outputs": [
    {
     "data": {
      "image/svg+xml": [
       "<?xml version=\"1.0\" encoding=\"UTF-8\" standalone=\"no\"?>\n",
       "<!DOCTYPE svg PUBLIC \"-//W3C//DTD SVG 1.1//EN\"\n",
       " \"http://www.w3.org/Graphics/SVG/1.1/DTD/svg11.dtd\">\n",
       "<!-- Generated by graphviz version 2.38.0 (20140413.2041)\n",
       " -->\n",
       "<!-- Title: %3 Pages: 1 -->\n",
       "<svg width=\"222pt\" height=\"172pt\"\n",
       " viewBox=\"0.00 0.00 222.00 172.00\" xmlns=\"http://www.w3.org/2000/svg\" xmlns:xlink=\"http://www.w3.org/1999/xlink\">\n",
       "<g id=\"graph0\" class=\"graph\" transform=\"scale(1 1) rotate(0) translate(4 168)\">\n",
       "<title>%3</title>\n",
       "<polygon fill=\"white\" stroke=\"none\" points=\"-4,4 -4,-168 218,-168 218,4 -4,4\"/>\n",
       "<!-- EMPTY -->\n",
       "<g id=\"node1\" class=\"node\"><title>EMPTY</title>\n",
       "</g>\n",
       "<!-- I -->\n",
       "<g id=\"node3\" class=\"node\"><title>I</title>\n",
       "<ellipse fill=\"none\" stroke=\"black\" cx=\"109\" cy=\"-77\" rx=\"18\" ry=\"18\"/>\n",
       "<text text-anchor=\"middle\" x=\"109\" y=\"-72.8\" font-family=\"Times,serif\" font-size=\"14.00\">I</text>\n",
       "</g>\n",
       "<!-- EMPTY&#45;&gt;I -->\n",
       "<g id=\"edge1\" class=\"edge\"><title>EMPTY&#45;&gt;I</title>\n",
       "<path fill=\"none\" stroke=\"black\" d=\"M54.195,-77C62.6538,-77 72.0513,-77 80.5951,-77\"/>\n",
       "<polygon fill=\"black\" stroke=\"black\" points=\"80.8257,-80.5001 90.8257,-77 80.8257,-73.5001 80.8257,-80.5001\"/>\n",
       "</g>\n",
       "<!-- A -->\n",
       "<g id=\"node2\" class=\"node\"><title>A</title>\n",
       "<ellipse fill=\"none\" stroke=\"black\" cx=\"192\" cy=\"-133\" rx=\"18\" ry=\"18\"/>\n",
       "<text text-anchor=\"middle\" x=\"192\" y=\"-128.8\" font-family=\"Times,serif\" font-size=\"14.00\">A</text>\n",
       "</g>\n",
       "<!-- A&#45;&gt;I -->\n",
       "<g id=\"edge3\" class=\"edge\"><title>A&#45;&gt;I</title>\n",
       "<path fill=\"none\" stroke=\"black\" d=\"M174.973,-126.858C165.797,-122.977 154.297,-117.477 145,-111 139.344,-107.059 133.747,-102.188 128.743,-97.3769\"/>\n",
       "<polygon fill=\"black\" stroke=\"black\" points=\"130.969,-94.6501 121.445,-90.0071 125.995,-99.5755 130.969,-94.6501\"/>\n",
       "<text text-anchor=\"middle\" x=\"148.5\" y=\"-116.8\" font-family=\"Times,serif\" font-size=\"14.00\">0</text>\n",
       "</g>\n",
       "<!-- A&#45;&gt;I -->\n",
       "<g id=\"edge4\" class=\"edge\"><title>A&#45;&gt;I</title>\n",
       "<path fill=\"none\" stroke=\"black\" d=\"M180.272,-119.266C173.04,-110.759 162.864,-100.133 152,-93 147.19,-89.8414 141.665,-87.1749 136.237,-84.9789\"/>\n",
       "<polygon fill=\"black\" stroke=\"black\" points=\"137.341,-81.656 126.746,-81.53 134.95,-88.235 137.341,-81.656\"/>\n",
       "<text text-anchor=\"middle\" x=\"148.5\" y=\"-95.8\" font-family=\"Times,serif\" font-size=\"14.00\">1</text>\n",
       "</g>\n",
       "<!-- I&#45;&gt;A -->\n",
       "<g id=\"edge2\" class=\"edge\"><title>I&#45;&gt;A</title>\n",
       "<path fill=\"none\" stroke=\"black\" d=\"M113.197,-94.5657C117.324,-111.556 126.328,-136.387 145,-148 151.921,-152.305 160.204,-151.191 167.822,-148.148\"/>\n",
       "<polygon fill=\"black\" stroke=\"black\" points=\"169.62,-151.162 176.964,-143.525 166.461,-144.915 169.62,-151.162\"/>\n",
       "<text text-anchor=\"middle\" x=\"148.5\" y=\"-152.8\" font-family=\"Times,serif\" font-size=\"14.00\">0</text>\n",
       "</g>\n",
       "<!-- F -->\n",
       "<g id=\"node4\" class=\"node\"><title>F</title>\n",
       "<ellipse fill=\"none\" stroke=\"black\" cx=\"192\" cy=\"-22\" rx=\"18\" ry=\"18\"/>\n",
       "<ellipse fill=\"none\" stroke=\"black\" cx=\"192\" cy=\"-22\" rx=\"22\" ry=\"22\"/>\n",
       "<text text-anchor=\"middle\" x=\"192\" y=\"-17.8\" font-family=\"Times,serif\" font-size=\"14.00\">F</text>\n",
       "</g>\n",
       "<!-- I&#45;&gt;F -->\n",
       "<g id=\"edge5\" class=\"edge\"><title>I&#45;&gt;F</title>\n",
       "<path fill=\"none\" stroke=\"black\" d=\"M124.481,-67.1671C135.68,-59.5632 151.481,-48.8342 164.872,-39.7409\"/>\n",
       "<polygon fill=\"black\" stroke=\"black\" points=\"166.945,-42.564 173.252,-34.0509 163.013,-36.7728 166.945,-42.564\"/>\n",
       "<text text-anchor=\"middle\" x=\"148.5\" y=\"-54.8\" font-family=\"Times,serif\" font-size=\"14.00\">1</text>\n",
       "</g>\n",
       "<!-- F&#45;&gt;I -->\n",
       "<g id=\"edge6\" class=\"edge\"><title>F&#45;&gt;I</title>\n",
       "<path fill=\"none\" stroke=\"black\" d=\"M169.671,-22.9537C161.468,-24.1151 152.323,-26.4416 145,-31 136.366,-36.3744 129.083,-44.7026 123.435,-52.8036\"/>\n",
       "<polygon fill=\"black\" stroke=\"black\" points=\"120.404,-51.0455 117.96,-61.3545 126.3,-54.8199 120.404,-51.0455\"/>\n",
       "<text text-anchor=\"middle\" x=\"148.5\" y=\"-33.8\" font-family=\"Times,serif\" font-size=\"14.00\">0</text>\n",
       "</g>\n",
       "<!-- F&#45;&gt;I -->\n",
       "<g id=\"edge7\" class=\"edge\"><title>F&#45;&gt;I</title>\n",
       "<path fill=\"none\" stroke=\"black\" d=\"M173.045,-10.5006C164.141,-6.34636 153.502,-3.81404 145,-9 130.448,-17.8762 121.69,-34.9499 116.573,-49.7676\"/>\n",
       "<polygon fill=\"black\" stroke=\"black\" points=\"113.163,-48.9507 113.587,-59.5371 119.857,-50.9973 113.163,-48.9507\"/>\n",
       "<text text-anchor=\"middle\" x=\"148.5\" y=\"-11.8\" font-family=\"Times,serif\" font-size=\"14.00\">1</text>\n",
       "</g>\n",
       "</g>\n",
       "</svg>\n"
      ],
      "text/plain": [
       "<graphviz.dot.Digraph at 0x10d5c19b0>"
      ]
     },
     "execution_count": 9,
     "metadata": {},
     "output_type": "execute_result"
    }
   ],
   "source": [
    "# md2mc alone produces a dict similar to Fig34, above.\n",
    "# We pass it to dotObj_dfa which prints the DFA image,\n",
    "# as shown below.\n",
    "\n",
    "dotObj_dfa(md2mc(Fig34md))"
   ]
  },
  {
   "cell_type": "code",
   "execution_count": 10,
   "metadata": {
    "run_control": {
     "frozen": false,
     "read_only": false
    }
   },
   "outputs": [
    {
     "data": {
      "text/plain": [
       "True"
      ]
     },
     "execution_count": 10,
     "metadata": {},
     "output_type": "execute_result"
    }
   ],
   "source": [
    "accepts_dfa(md2mc(Fig34md), \"10101\")"
   ]
  },
  {
   "cell_type": "markdown",
   "metadata": {
    "run_control": {
     "frozen": false,
     "read_only": false
    }
   },
   "source": [
    "# Testing acceptance in one \"go\"\n",
    "\n",
    "Generating multiple strings according to the numeric order (increasing\n",
    "lengths, with each length category exhausted before going to the next \n",
    "length category) is a handy test-input generator.\n",
    "\n",
    "Plus, the \"numeric order\" is a powerful concept which we shall use \n",
    "when we later discuss the \"dovetail enumeration\" order (in Chapter 14\n",
    "and beyond).\n"
   ]
  },
  {
   "cell_type": "code",
   "execution_count": 11,
   "metadata": {
    "run_control": {
     "frozen": false,
     "read_only": false
    }
   },
   "outputs": [],
   "source": [
    "from math import floor, log, pow\n",
    "def nthnumeric(N, Sigma={'0','1'}):\n",
    "    \"\"\"Assume Sigma is a 2-sized list/set of chars (default {'a','b'}). \n",
    "       Produce the Nth string in numeric order, where N >= 0.\n",
    "       Idea : Given N, get b = floor(log_2(N+1)) - need that \n",
    "       many places; what to fill in the places is the binary \n",
    "       code for N - (2^b - 1) with 0 as Sigma[0] and 1 as Sigma[1].    \n",
    "    \"\"\"\n",
    "    if (type(Sigma)==set):\n",
    "       S = list(Sigma)\n",
    "    else:\n",
    "       assert(type(Sigma)==list\n",
    "       ), \"Expected to be given set/list for arg2 of nthnumeric.\"\n",
    "       S = Sigma\n",
    "    assert(len(Sigma)==2\n",
    "          ),\"Expected to be given a Sigma of length 2.\"\n",
    "    if(N==0):\n",
    "        return ''\n",
    "    else:\n",
    "        width = floor(log(N+1, 2))\n",
    "        tofill = int(N - pow(2, width) + 1)\n",
    "        relevant_binstr = bin(tofill)[2::] # strip the 0b \n",
    "                                           # in the leading string\n",
    "        len_to_makeup = width - len(relevant_binstr)\n",
    "        return (S[0]*len_to_makeup + \n",
    "                shomo(relevant_binstr,\n",
    "                      lambda x: S[1] if x=='1' else S[0]))"
   ]
  },
  {
   "cell_type": "code",
   "execution_count": 12,
   "metadata": {
    "run_control": {
     "frozen": false,
     "read_only": false
    }
   },
   "outputs": [
    {
     "data": {
      "text/plain": [
       "['',\n",
       " '1',\n",
       " '0',\n",
       " '11',\n",
       " '10',\n",
       " '01',\n",
       " '00',\n",
       " '111',\n",
       " '110',\n",
       " '101',\n",
       " '100',\n",
       " '011',\n",
       " '010',\n",
       " '001',\n",
       " '000',\n",
       " '1111',\n",
       " '1110',\n",
       " '1101',\n",
       " '1100',\n",
       " '1011']"
      ]
     },
     "execution_count": 12,
     "metadata": {},
     "output_type": "execute_result"
    }
   ],
   "source": [
    "[ nthnumeric(i) for i in range(20) ]"
   ]
  },
  {
   "cell_type": "markdown",
   "metadata": {
    "run_control": {
     "frozen": false,
     "read_only": false
    }
   },
   "source": [
    "# Now one can write a test loop\n",
    "\n",
    "We plow thru the first 20 numeric-order listed strings,\n",
    "and test for acceptance.\n"
   ]
  },
  {
   "cell_type": "code",
   "execution_count": 13,
   "metadata": {
    "run_control": {
     "frozen": false,
     "read_only": false
    }
   },
   "outputs": [
    {
     "name": "stdout",
     "output_type": "stream",
     "text": [
      "Fig34md DFA does not accept  \n",
      "Fig34md DFA accepts  1\n",
      "Fig34md DFA does not accept  0\n",
      "Fig34md DFA does not accept  11\n",
      "Fig34md DFA does not accept  10\n",
      "Fig34md DFA does not accept  01\n",
      "Fig34md DFA does not accept  00\n",
      "Fig34md DFA accepts  111\n",
      "Fig34md DFA does not accept  110\n",
      "Fig34md DFA accepts  101\n",
      "Fig34md DFA does not accept  100\n",
      "Fig34md DFA accepts  011\n",
      "Fig34md DFA does not accept  010\n",
      "Fig34md DFA accepts  001\n",
      "Fig34md DFA does not accept  000\n",
      "Fig34md DFA does not accept  1111\n",
      "Fig34md DFA does not accept  1110\n",
      "Fig34md DFA does not accept  1101\n",
      "Fig34md DFA does not accept  1100\n",
      "Fig34md DFA does not accept  1011\n"
     ]
    }
   ],
   "source": [
    "for s in [ nthnumeric(i) for i in range(20) ]:\n",
    "    if accepts_dfa(md2mc(Fig34md), s):\n",
    "        print(\"Fig34md DFA accepts \", s)\n",
    "    else:\n",
    "        print(\"Fig34md DFA does not accept \", s)"
   ]
  },
  {
   "cell_type": "markdown",
   "metadata": {
    "run_control": {
     "frozen": false,
     "read_only": false
    }
   },
   "source": [
    "# Now, simply run the cells, use help\n",
    "\n",
    "Run the cell contents. At any time if you have a doubt about\n",
    "some function, say \"foo\", run the \"help(foo)\" command. Also\n",
    "refer to Appendix B of our book for a complete explanation of\n",
    "all the Jove functions.\n"
   ]
  },
  {
   "cell_type": "code",
   "execution_count": 14,
   "metadata": {
    "run_control": {
     "frozen": false,
     "read_only": false
    }
   },
   "outputs": [
    {
     "data": {
      "text/plain": [
       "{'Delta': {('A', '0'): 'I',\n",
       "  ('A', '1'): 'I',\n",
       "  ('F', '0'): 'I',\n",
       "  ('F', '1'): 'I',\n",
       "  ('I', '0'): 'A',\n",
       "  ('I', '1'): 'F'},\n",
       " 'F': {'F'},\n",
       " 'Q': {'A', 'F', 'I'},\n",
       " 'Sigma': {'0', '1'},\n",
       " 'q0': 'I'}"
      ]
     },
     "execution_count": 14,
     "metadata": {},
     "output_type": "execute_result"
    }
   ],
   "source": [
    "Fig34MC = md2mc(Fig34md)\n",
    "Fig34MC"
   ]
  },
  {
   "cell_type": "code",
   "execution_count": 15,
   "metadata": {
    "run_control": {
     "frozen": false,
     "read_only": false
    }
   },
   "outputs": [
    {
     "data": {
      "text/plain": [
       "True"
      ]
     },
     "execution_count": 15,
     "metadata": {},
     "output_type": "execute_result"
    }
   ],
   "source": [
    "is_partially_consistent_dfa(Fig34MC)"
   ]
  },
  {
   "cell_type": "code",
   "execution_count": 16,
   "metadata": {
    "run_control": {
     "frozen": false,
     "read_only": false
    }
   },
   "outputs": [
    {
     "data": {
      "image/svg+xml": [
       "<?xml version=\"1.0\" encoding=\"UTF-8\" standalone=\"no\"?>\n",
       "<!DOCTYPE svg PUBLIC \"-//W3C//DTD SVG 1.1//EN\"\n",
       " \"http://www.w3.org/Graphics/SVG/1.1/DTD/svg11.dtd\">\n",
       "<!-- Generated by graphviz version 2.38.0 (20140413.2041)\n",
       " -->\n",
       "<!-- Title: %3 Pages: 1 -->\n",
       "<svg width=\"230pt\" height=\"172pt\"\n",
       " viewBox=\"0.00 0.00 230.00 172.00\" xmlns=\"http://www.w3.org/2000/svg\" xmlns:xlink=\"http://www.w3.org/1999/xlink\">\n",
       "<g id=\"graph0\" class=\"graph\" transform=\"scale(1 1) rotate(0) translate(4 168)\">\n",
       "<title>%3</title>\n",
       "<polygon fill=\"white\" stroke=\"none\" points=\"-4,4 -4,-168 226,-168 226,4 -4,4\"/>\n",
       "<!-- EMPTY -->\n",
       "<g id=\"node1\" class=\"node\"><title>EMPTY</title>\n",
       "</g>\n",
       "<!-- I -->\n",
       "<g id=\"node4\" class=\"node\"><title>I</title>\n",
       "<ellipse fill=\"none\" stroke=\"black\" cx=\"113\" cy=\"-77\" rx=\"18\" ry=\"18\"/>\n",
       "<ellipse fill=\"none\" stroke=\"black\" cx=\"113\" cy=\"-77\" rx=\"22\" ry=\"22\"/>\n",
       "<text text-anchor=\"middle\" x=\"113\" y=\"-72.8\" font-family=\"Times,serif\" font-size=\"14.00\">I</text>\n",
       "</g>\n",
       "<!-- EMPTY&#45;&gt;I -->\n",
       "<g id=\"edge1\" class=\"edge\"><title>EMPTY&#45;&gt;I</title>\n",
       "<path fill=\"none\" stroke=\"black\" d=\"M54.1177,-77C62.5406,-77 71.9629,-77 80.7191,-77\"/>\n",
       "<polygon fill=\"black\" stroke=\"black\" points=\"80.9574,-80.5001 90.9574,-77 80.9573,-73.5001 80.9574,-80.5001\"/>\n",
       "</g>\n",
       "<!-- F -->\n",
       "<g id=\"node2\" class=\"node\"><title>F</title>\n",
       "<ellipse fill=\"none\" stroke=\"black\" cx=\"200\" cy=\"-133\" rx=\"18\" ry=\"18\"/>\n",
       "<text text-anchor=\"middle\" x=\"200\" y=\"-128.8\" font-family=\"Times,serif\" font-size=\"14.00\">F</text>\n",
       "</g>\n",
       "<!-- F&#45;&gt;I -->\n",
       "<g id=\"edge6\" class=\"edge\"><title>F&#45;&gt;I</title>\n",
       "<path fill=\"none\" stroke=\"black\" d=\"M183.101,-126.668C173.968,-122.725 162.468,-117.225 153,-111 147.582,-107.438 142.118,-103.181 137.065,-98.9051\"/>\n",
       "<polygon fill=\"black\" stroke=\"black\" points=\"139.347,-96.2504 129.53,-92.266 134.719,-101.503 139.347,-96.2504\"/>\n",
       "<text text-anchor=\"middle\" x=\"156.5\" y=\"-116.8\" font-family=\"Times,serif\" font-size=\"14.00\">0</text>\n",
       "</g>\n",
       "<!-- F&#45;&gt;I -->\n",
       "<g id=\"edge7\" class=\"edge\"><title>F&#45;&gt;I</title>\n",
       "<path fill=\"none\" stroke=\"black\" d=\"M188.342,-119.157C181.138,-110.606 170.967,-99.9739 160,-93 155.184,-89.9374 149.709,-87.3775 144.259,-85.2681\"/>\n",
       "<polygon fill=\"black\" stroke=\"black\" points=\"145.215,-81.8957 134.62,-81.9465 142.934,-88.5138 145.215,-81.8957\"/>\n",
       "<text text-anchor=\"middle\" x=\"156.5\" y=\"-95.8\" font-family=\"Times,serif\" font-size=\"14.00\">1</text>\n",
       "</g>\n",
       "<!-- A -->\n",
       "<g id=\"node3\" class=\"node\"><title>A</title>\n",
       "<ellipse fill=\"none\" stroke=\"black\" cx=\"200\" cy=\"-22\" rx=\"18\" ry=\"18\"/>\n",
       "<ellipse fill=\"none\" stroke=\"black\" cx=\"200\" cy=\"-22\" rx=\"22\" ry=\"22\"/>\n",
       "<text text-anchor=\"middle\" x=\"200\" y=\"-17.8\" font-family=\"Times,serif\" font-size=\"14.00\">A</text>\n",
       "</g>\n",
       "<!-- A&#45;&gt;I -->\n",
       "<g id=\"edge3\" class=\"edge\"><title>A&#45;&gt;I</title>\n",
       "<path fill=\"none\" stroke=\"black\" d=\"M177.783,-22.0132C169.596,-22.8161 160.432,-24.7472 153,-29 144.147,-34.0661 136.493,-41.9824 130.369,-49.9357\"/>\n",
       "<polygon fill=\"black\" stroke=\"black\" points=\"127.493,-47.9405 124.553,-58.1195 133.199,-51.9953 127.493,-47.9405\"/>\n",
       "<text text-anchor=\"middle\" x=\"156.5\" y=\"-31.8\" font-family=\"Times,serif\" font-size=\"14.00\">0</text>\n",
       "</g>\n",
       "<!-- A&#45;&gt;I -->\n",
       "<g id=\"edge4\" class=\"edge\"><title>A&#45;&gt;I</title>\n",
       "<path fill=\"none\" stroke=\"black\" d=\"M181.646,-9.70569C172.697,-4.97164 161.836,-1.80832 153,-7 138.577,-15.4749 129.098,-31.433 123.102,-45.9743\"/>\n",
       "<polygon fill=\"black\" stroke=\"black\" points=\"119.688,-45.1127 119.489,-55.7056 126.251,-47.5493 119.688,-45.1127\"/>\n",
       "<text text-anchor=\"middle\" x=\"156.5\" y=\"-9.8\" font-family=\"Times,serif\" font-size=\"14.00\">1</text>\n",
       "</g>\n",
       "<!-- I&#45;&gt;F -->\n",
       "<g id=\"edge5\" class=\"edge\"><title>I&#45;&gt;F</title>\n",
       "<path fill=\"none\" stroke=\"black\" d=\"M119.292,-98.25C124.712,-115.029 134.965,-137.33 153,-148 160.015,-152.15 168.321,-150.999 175.931,-147.97\"/>\n",
       "<polygon fill=\"black\" stroke=\"black\" points=\"177.687,-151.004 185.049,-143.385 174.542,-144.75 177.687,-151.004\"/>\n",
       "<text text-anchor=\"middle\" x=\"156.5\" y=\"-152.8\" font-family=\"Times,serif\" font-size=\"14.00\">1</text>\n",
       "</g>\n",
       "<!-- I&#45;&gt;A -->\n",
       "<g id=\"edge2\" class=\"edge\"><title>I&#45;&gt;A</title>\n",
       "<path fill=\"none\" stroke=\"black\" d=\"M132.026,-65.3359C143.746,-57.7523 159.233,-47.7314 172.362,-39.2361\"/>\n",
       "<polygon fill=\"black\" stroke=\"black\" points=\"174.505,-42.0183 181,-33.6473 170.703,-36.1413 174.505,-42.0183\"/>\n",
       "<text text-anchor=\"middle\" x=\"156.5\" y=\"-53.8\" font-family=\"Times,serif\" font-size=\"14.00\">0</text>\n",
       "</g>\n",
       "</g>\n",
       "</svg>\n"
      ],
      "text/plain": [
       "<graphviz.dot.Digraph at 0x10f3b8c18>"
      ]
     },
     "execution_count": 16,
     "metadata": {},
     "output_type": "execute_result"
    }
   ],
   "source": [
    "dotObj_dfa_w_bh(comp_dfa(Fig34MC))"
   ]
  },
  {
   "cell_type": "code",
   "execution_count": 17,
   "metadata": {
    "run_control": {
     "frozen": false,
     "read_only": false
    }
   },
   "outputs": [],
   "source": [
    "ev0 = md2mc('''\n",
    "DFA\n",
    "IF : 0 -> A\n",
    "A  : 0 -> IF\n",
    "''')"
   ]
  },
  {
   "cell_type": "code",
   "execution_count": 18,
   "metadata": {
    "run_control": {
     "frozen": false,
     "read_only": false
    }
   },
   "outputs": [
    {
     "data": {
      "text/plain": [
       "{'Delta': {('A', '0'): 'IF', ('IF', '0'): 'A'},\n",
       " 'F': {'IF'},\n",
       " 'Q': {'A', 'IF'},\n",
       " 'Sigma': {'0'},\n",
       " 'q0': 'IF'}"
      ]
     },
     "execution_count": 18,
     "metadata": {},
     "output_type": "execute_result"
    }
   ],
   "source": [
    "ev0"
   ]
  },
  {
   "cell_type": "code",
   "execution_count": 19,
   "metadata": {
    "run_control": {
     "frozen": false,
     "read_only": false
    }
   },
   "outputs": [],
   "source": [
    "dev0 = dotObj_dfa(ev0)"
   ]
  },
  {
   "cell_type": "code",
   "execution_count": 20,
   "metadata": {
    "run_control": {
     "frozen": false,
     "read_only": false
    }
   },
   "outputs": [
    {
     "data": {
      "image/svg+xml": [
       "<?xml version=\"1.0\" encoding=\"UTF-8\" standalone=\"no\"?>\n",
       "<!DOCTYPE svg PUBLIC \"-//W3C//DTD SVG 1.1//EN\"\n",
       " \"http://www.w3.org/Graphics/SVG/1.1/DTD/svg11.dtd\">\n",
       "<!-- Generated by graphviz version 2.38.0 (20140413.2041)\n",
       " -->\n",
       "<!-- Title: %3 Pages: 1 -->\n",
       "<svg width=\"222pt\" height=\"52pt\"\n",
       " viewBox=\"0.00 0.00 222.00 52.00\" xmlns=\"http://www.w3.org/2000/svg\" xmlns:xlink=\"http://www.w3.org/1999/xlink\">\n",
       "<g id=\"graph0\" class=\"graph\" transform=\"scale(1 1) rotate(0) translate(4 48)\">\n",
       "<title>%3</title>\n",
       "<polygon fill=\"white\" stroke=\"none\" points=\"-4,4 -4,-48 218,-48 218,4 -4,4\"/>\n",
       "<!-- EMPTY -->\n",
       "<g id=\"node1\" class=\"node\"><title>EMPTY</title>\n",
       "</g>\n",
       "<!-- IF -->\n",
       "<g id=\"node3\" class=\"node\"><title>IF</title>\n",
       "<ellipse fill=\"none\" stroke=\"black\" cx=\"113\" cy=\"-22\" rx=\"18\" ry=\"18\"/>\n",
       "<ellipse fill=\"none\" stroke=\"black\" cx=\"113\" cy=\"-22\" rx=\"22\" ry=\"22\"/>\n",
       "<text text-anchor=\"middle\" x=\"113\" y=\"-17.8\" font-family=\"Times,serif\" font-size=\"14.00\">IF</text>\n",
       "</g>\n",
       "<!-- EMPTY&#45;&gt;IF -->\n",
       "<g id=\"edge1\" class=\"edge\"><title>EMPTY&#45;&gt;IF</title>\n",
       "<path fill=\"none\" stroke=\"black\" d=\"M54.1177,-22C62.5406,-22 71.9629,-22 80.7191,-22\"/>\n",
       "<polygon fill=\"black\" stroke=\"black\" points=\"80.9574,-25.5001 90.9574,-22 80.9573,-18.5001 80.9574,-25.5001\"/>\n",
       "</g>\n",
       "<!-- A -->\n",
       "<g id=\"node2\" class=\"node\"><title>A</title>\n",
       "<ellipse fill=\"none\" stroke=\"black\" cx=\"196\" cy=\"-22\" rx=\"18\" ry=\"18\"/>\n",
       "<text text-anchor=\"middle\" x=\"196\" y=\"-17.8\" font-family=\"Times,serif\" font-size=\"14.00\">A</text>\n",
       "</g>\n",
       "<!-- A&#45;&gt;IF -->\n",
       "<g id=\"edge3\" class=\"edge\"><title>A&#45;&gt;IF</title>\n",
       "<path fill=\"none\" stroke=\"black\" d=\"M180.283,-12.4577C174.25,-9.08304 167.04,-5.70409 160,-4 153.655,-2.46403 147.016,-3.43319 140.819,-5.55343\"/>\n",
       "<polygon fill=\"black\" stroke=\"black\" points=\"139.289,-2.40258 131.55,-9.63813 142.112,-8.80816 139.289,-2.40258\"/>\n",
       "<text text-anchor=\"middle\" x=\"156.5\" y=\"-6.8\" font-family=\"Times,serif\" font-size=\"14.00\">0</text>\n",
       "</g>\n",
       "<!-- IF&#45;&gt;A -->\n",
       "<g id=\"edge2\" class=\"edge\"><title>IF&#45;&gt;A</title>\n",
       "<path fill=\"none\" stroke=\"black\" d=\"M135.282,-22C145.266,-22 157.278,-22 167.903,-22\"/>\n",
       "<polygon fill=\"black\" stroke=\"black\" points=\"167.94,-25.5001 177.939,-22 167.939,-18.5001 167.94,-25.5001\"/>\n",
       "<text text-anchor=\"middle\" x=\"156.5\" y=\"-24.8\" font-family=\"Times,serif\" font-size=\"14.00\">0</text>\n",
       "</g>\n",
       "</g>\n",
       "</svg>\n"
      ],
      "text/plain": [
       "<graphviz.dot.Digraph at 0x10f3b8668>"
      ]
     },
     "execution_count": 20,
     "metadata": {},
     "output_type": "execute_result"
    }
   ],
   "source": [
    "dev0"
   ]
  },
  {
   "cell_type": "markdown",
   "metadata": {
    "run_control": {
     "frozen": false,
     "read_only": false
    }
   },
   "source": [
    "# You can generate PDF out of a DFA\n",
    "\n",
    "This is one way to \"print\" a DFA as PDF. There are \n",
    "a few more such commands tucked away within Jupyter.\n"
   ]
  },
  {
   "cell_type": "code",
   "execution_count": 21,
   "metadata": {
    "run_control": {
     "frozen": false,
     "read_only": false
    }
   },
   "outputs": [
    {
     "data": {
      "text/plain": [
       "'dev0.pdf'"
      ]
     },
     "execution_count": 21,
     "metadata": {},
     "output_type": "execute_result"
    }
   ],
   "source": [
    "# Generate a PDF this way\n",
    "dev0.render('dev0')"
   ]
  },
  {
   "cell_type": "markdown",
   "metadata": {
    "run_control": {
     "frozen": false,
     "read_only": false
    }
   },
   "source": [
    "# Poke a DFA, add to its Sigma\n",
    "\n",
    "You can expand the Sigma of a DFA later on. Then\n",
    "if you totalize the DFA, you will see black-hole\n",
    "states emerging. The newly added symbols lead to\n",
    "the Black hole states, as shown below.\n"
   ]
  },
  {
   "cell_type": "code",
   "execution_count": 22,
   "metadata": {
    "run_control": {
     "frozen": false,
     "read_only": false
    }
   },
   "outputs": [],
   "source": [
    "ev0_bh =  addtosigma_dfa(ev0, set({'1'}))"
   ]
  },
  {
   "cell_type": "code",
   "execution_count": 23,
   "metadata": {
    "run_control": {
     "frozen": false,
     "read_only": false
    }
   },
   "outputs": [
    {
     "data": {
      "text/plain": [
       "{'Delta': {('A', '0'): 'IF', ('IF', '0'): 'A'},\n",
       " 'F': {'IF'},\n",
       " 'Q': {'A', 'IF'},\n",
       " 'Sigma': {'0', '1'},\n",
       " 'q0': 'IF'}"
      ]
     },
     "execution_count": 23,
     "metadata": {},
     "output_type": "execute_result"
    }
   ],
   "source": [
    "ev0_bh"
   ]
  },
  {
   "cell_type": "code",
   "execution_count": 24,
   "metadata": {
    "run_control": {
     "frozen": false,
     "read_only": false
    }
   },
   "outputs": [],
   "source": [
    "ev0_bh_totalize = totalize_dfa(ev0_bh)"
   ]
  },
  {
   "cell_type": "code",
   "execution_count": 25,
   "metadata": {
    "run_control": {
     "frozen": false,
     "read_only": false
    }
   },
   "outputs": [
    {
     "data": {
      "text/plain": [
       "{'Delta': {('A', '0'): 'IF', ('IF', '0'): 'A'},\n",
       " 'F': {'IF'},\n",
       " 'Q': {'A', 'IF'},\n",
       " 'Sigma': {'0', '1'},\n",
       " 'q0': 'IF'}"
      ]
     },
     "execution_count": 25,
     "metadata": {},
     "output_type": "execute_result"
    }
   ],
   "source": [
    "ev0_bh"
   ]
  },
  {
   "cell_type": "code",
   "execution_count": 26,
   "metadata": {
    "run_control": {
     "frozen": false,
     "read_only": false
    }
   },
   "outputs": [],
   "source": [
    "do_ev0_tot = dotObj_dfa_w_bh(ev0_bh_totalize)"
   ]
  },
  {
   "cell_type": "code",
   "execution_count": 27,
   "metadata": {
    "run_control": {
     "frozen": false,
     "read_only": false
    }
   },
   "outputs": [
    {
     "data": {
      "image/svg+xml": [
       "<?xml version=\"1.0\" encoding=\"UTF-8\" standalone=\"no\"?>\n",
       "<!DOCTYPE svg PUBLIC \"-//W3C//DTD SVG 1.1//EN\"\n",
       " \"http://www.w3.org/Graphics/SVG/1.1/DTD/svg11.dtd\">\n",
       "<!-- Generated by graphviz version 2.38.0 (20140413.2041)\n",
       " -->\n",
       "<!-- Title: %3 Pages: 1 -->\n",
       "<svg width=\"310pt\" height=\"117pt\"\n",
       " viewBox=\"0.00 0.00 309.78 116.78\" xmlns=\"http://www.w3.org/2000/svg\" xmlns:xlink=\"http://www.w3.org/1999/xlink\">\n",
       "<g id=\"graph0\" class=\"graph\" transform=\"scale(1 1) rotate(0) translate(4 112.784)\">\n",
       "<title>%3</title>\n",
       "<polygon fill=\"white\" stroke=\"none\" points=\"-4,4 -4,-112.784 305.784,-112.784 305.784,4 -4,4\"/>\n",
       "<!-- EMPTY -->\n",
       "<g id=\"node1\" class=\"node\"><title>EMPTY</title>\n",
       "</g>\n",
       "<!-- IF -->\n",
       "<g id=\"node4\" class=\"node\"><title>IF</title>\n",
       "<ellipse fill=\"none\" stroke=\"black\" cx=\"113\" cy=\"-35.3918\" rx=\"18\" ry=\"18\"/>\n",
       "<ellipse fill=\"none\" stroke=\"black\" cx=\"113\" cy=\"-35.3918\" rx=\"22\" ry=\"22\"/>\n",
       "<text text-anchor=\"middle\" x=\"113\" y=\"-31.1918\" font-family=\"Times,serif\" font-size=\"14.00\">IF</text>\n",
       "</g>\n",
       "<!-- EMPTY&#45;&gt;IF -->\n",
       "<g id=\"edge1\" class=\"edge\"><title>EMPTY&#45;&gt;IF</title>\n",
       "<path fill=\"none\" stroke=\"black\" d=\"M54.1177,-35.3918C62.5406,-35.3918 71.9629,-35.3918 80.7191,-35.3918\"/>\n",
       "<polygon fill=\"black\" stroke=\"black\" points=\"80.9574,-38.8919 90.9574,-35.3918 80.9573,-31.8919 80.9574,-38.8919\"/>\n",
       "</g>\n",
       "<!-- A -->\n",
       "<g id=\"node2\" class=\"node\"><title>A</title>\n",
       "<ellipse fill=\"none\" stroke=\"black\" cx=\"196\" cy=\"-52.3918\" rx=\"18\" ry=\"18\"/>\n",
       "<text text-anchor=\"middle\" x=\"196\" y=\"-48.1918\" font-family=\"Times,serif\" font-size=\"14.00\">A</text>\n",
       "</g>\n",
       "<!-- BH -->\n",
       "<g id=\"node3\" class=\"node\"><title>BH</title>\n",
       "<ellipse fill=\"none\" stroke=\"black\" cx=\"279.392\" cy=\"-22.3918\" rx=\"22.2841\" ry=\"22.2841\"/>\n",
       "<text text-anchor=\"middle\" x=\"279.392\" y=\"-18.1918\" font-family=\"Times,serif\" font-size=\"14.00\">BH</text>\n",
       "</g>\n",
       "<!-- A&#45;&gt;BH -->\n",
       "<g id=\"edge5\" class=\"edge\"><title>A&#45;&gt;BH</title>\n",
       "<path fill=\"none\" stroke=\"black\" d=\"M213.08,-46.4648C223.142,-42.7561 236.42,-37.8621 248.375,-33.4557\"/>\n",
       "<polygon fill=\"black\" stroke=\"black\" points=\"249.833,-36.6483 258.006,-29.9058 247.412,-30.0803 249.833,-36.6483\"/>\n",
       "<text text-anchor=\"middle\" x=\"235.5\" y=\"-41.1918\" font-family=\"Times,serif\" font-size=\"14.00\">1</text>\n",
       "</g>\n",
       "<!-- A&#45;&gt;IF -->\n",
       "<g id=\"edge3\" class=\"edge\"><title>A&#45;&gt;IF</title>\n",
       "<path fill=\"none\" stroke=\"black\" d=\"M181.093,-42.2244C174.949,-38.3382 167.44,-34.3677 160,-32.3918 155.224,-31.1234 150.075,-30.6414 145.012,-30.6403\"/>\n",
       "<polygon fill=\"black\" stroke=\"black\" points=\"144.67,-27.154 134.885,-31.2155 145.067,-34.1427 144.67,-27.154\"/>\n",
       "<text text-anchor=\"middle\" x=\"156.5\" y=\"-35.1918\" font-family=\"Times,serif\" font-size=\"14.00\">0</text>\n",
       "</g>\n",
       "<!-- BH&#45;&gt;BH -->\n",
       "<g id=\"edge6\" class=\"edge\"><title>BH&#45;&gt;BH</title>\n",
       "<path fill=\"none\" stroke=\"black\" d=\"M275.501,-44.8217C275.183,-54.4985 276.48,-62.7836 279.392,-62.7836 281.166,-62.7836 282.341,-59.707 282.916,-55.1138\"/>\n",
       "<polygon fill=\"black\" stroke=\"black\" points=\"286.424,-54.9399 283.282,-44.8217 279.429,-54.6909 286.424,-54.9399\"/>\n",
       "<text text-anchor=\"middle\" x=\"279.392\" y=\"-65.5836\" font-family=\"Times,serif\" font-size=\"14.00\">1</text>\n",
       "</g>\n",
       "<!-- BH&#45;&gt;BH -->\n",
       "<g id=\"edge7\" class=\"edge\"><title>BH&#45;&gt;BH</title>\n",
       "<path fill=\"none\" stroke=\"black\" d=\"M272.718,-43.9522C269.867,-61.9636 272.091,-80.7836 279.392,-80.7836 285.324,-80.7836 287.904,-68.3594 287.134,-54.0395\"/>\n",
       "<polygon fill=\"black\" stroke=\"black\" points=\"290.599,-53.5277 286.065,-43.9522 283.638,-54.2653 290.599,-53.5277\"/>\n",
       "<text text-anchor=\"middle\" x=\"279.392\" y=\"-83.5836\" font-family=\"Times,serif\" font-size=\"14.00\">0</text>\n",
       "</g>\n",
       "<!-- IF&#45;&gt;A -->\n",
       "<g id=\"edge2\" class=\"edge\"><title>IF&#45;&gt;A</title>\n",
       "<path fill=\"none\" stroke=\"black\" d=\"M133.469,-44.2806C139.595,-46.6939 146.469,-49.0177 153,-50.3918 157.625,-51.365 162.598,-51.9739 167.446,-52.3404\"/>\n",
       "<polygon fill=\"black\" stroke=\"black\" points=\"167.529,-55.8477 177.677,-52.8032 167.846,-48.8548 167.529,-55.8477\"/>\n",
       "<text text-anchor=\"middle\" x=\"156.5\" y=\"-54.1918\" font-family=\"Times,serif\" font-size=\"14.00\">0</text>\n",
       "</g>\n",
       "<!-- IF&#45;&gt;BH -->\n",
       "<g id=\"edge4\" class=\"edge\"><title>IF&#45;&gt;BH</title>\n",
       "<path fill=\"none\" stroke=\"black\" d=\"M133.091,-26.168C145.552,-20.6717 162.354,-14.229 178,-11.3918 201.212,-7.18264 227.756,-10.4364 247.717,-14.4712\"/>\n",
       "<polygon fill=\"black\" stroke=\"black\" points=\"246.986,-17.8939 257.504,-16.6169 248.485,-11.0563 246.986,-17.8939\"/>\n",
       "<text text-anchor=\"middle\" x=\"196\" y=\"-14.1918\" font-family=\"Times,serif\" font-size=\"14.00\">1</text>\n",
       "</g>\n",
       "</g>\n",
       "</svg>\n"
      ],
      "text/plain": [
       "<graphviz.dot.Digraph at 0x10f3bf828>"
      ]
     },
     "execution_count": 27,
     "metadata": {},
     "output_type": "execute_result"
    }
   ],
   "source": [
    "do_ev0_tot"
   ]
  },
  {
   "cell_type": "code",
   "execution_count": 28,
   "metadata": {
    "run_control": {
     "frozen": false,
     "read_only": false
    }
   },
   "outputs": [
    {
     "data": {
      "image/svg+xml": [
       "<?xml version=\"1.0\" encoding=\"UTF-8\" standalone=\"no\"?>\n",
       "<!DOCTYPE svg PUBLIC \"-//W3C//DTD SVG 1.1//EN\"\n",
       " \"http://www.w3.org/Graphics/SVG/1.1/DTD/svg11.dtd\">\n",
       "<!-- Generated by graphviz version 2.38.0 (20140413.2041)\n",
       " -->\n",
       "<!-- Title: %3 Pages: 1 -->\n",
       "<svg width=\"310pt\" height=\"99pt\"\n",
       " viewBox=\"0.00 0.00 309.78 98.78\" xmlns=\"http://www.w3.org/2000/svg\" xmlns:xlink=\"http://www.w3.org/1999/xlink\">\n",
       "<g id=\"graph0\" class=\"graph\" transform=\"scale(1 1) rotate(0) translate(4 94.7836)\">\n",
       "<title>%3</title>\n",
       "<polygon fill=\"white\" stroke=\"none\" points=\"-4,4 -4,-94.7836 305.784,-94.7836 305.784,4 -4,4\"/>\n",
       "<!-- EMPTY -->\n",
       "<g id=\"node1\" class=\"node\"><title>EMPTY</title>\n",
       "</g>\n",
       "<!-- IF -->\n",
       "<g id=\"node4\" class=\"node\"><title>IF</title>\n",
       "<ellipse fill=\"none\" stroke=\"black\" cx=\"113\" cy=\"-35.3918\" rx=\"18\" ry=\"18\"/>\n",
       "<ellipse fill=\"none\" stroke=\"black\" cx=\"113\" cy=\"-35.3918\" rx=\"22\" ry=\"22\"/>\n",
       "<text text-anchor=\"middle\" x=\"113\" y=\"-31.1918\" font-family=\"Times,serif\" font-size=\"14.00\">IF</text>\n",
       "</g>\n",
       "<!-- EMPTY&#45;&gt;IF -->\n",
       "<g id=\"edge1\" class=\"edge\"><title>EMPTY&#45;&gt;IF</title>\n",
       "<path fill=\"none\" stroke=\"black\" d=\"M54.1177,-35.3918C62.5406,-35.3918 71.9629,-35.3918 80.7191,-35.3918\"/>\n",
       "<polygon fill=\"black\" stroke=\"black\" points=\"80.9574,-38.8919 90.9574,-35.3918 80.9573,-31.8919 80.9574,-38.8919\"/>\n",
       "</g>\n",
       "<!-- A -->\n",
       "<g id=\"node2\" class=\"node\"><title>A</title>\n",
       "<ellipse fill=\"none\" stroke=\"black\" cx=\"196\" cy=\"-52.3918\" rx=\"18\" ry=\"18\"/>\n",
       "<text text-anchor=\"middle\" x=\"196\" y=\"-48.1918\" font-family=\"Times,serif\" font-size=\"14.00\">A</text>\n",
       "</g>\n",
       "<!-- BH -->\n",
       "<g id=\"node3\" class=\"node\"><title>BH</title>\n",
       "<ellipse fill=\"none\" stroke=\"black\" cx=\"279.392\" cy=\"-22.3918\" rx=\"22.2841\" ry=\"22.2841\"/>\n",
       "<text text-anchor=\"middle\" x=\"279.392\" y=\"-18.1918\" font-family=\"Times,serif\" font-size=\"14.00\">BH</text>\n",
       "</g>\n",
       "<!-- A&#45;&gt;BH -->\n",
       "<g id=\"edge5\" class=\"edge\"><title>A&#45;&gt;BH</title>\n",
       "<path fill=\"none\" stroke=\"black\" d=\"M213.08,-46.4648C223.142,-42.7561 236.42,-37.8621 248.375,-33.4557\"/>\n",
       "<polygon fill=\"black\" stroke=\"black\" points=\"249.833,-36.6483 258.006,-29.9058 247.412,-30.0803 249.833,-36.6483\"/>\n",
       "<text text-anchor=\"middle\" x=\"235.5\" y=\"-41.1918\" font-family=\"Times,serif\" font-size=\"14.00\">1</text>\n",
       "</g>\n",
       "<!-- A&#45;&gt;IF -->\n",
       "<g id=\"edge3\" class=\"edge\"><title>A&#45;&gt;IF</title>\n",
       "<path fill=\"none\" stroke=\"black\" d=\"M181.093,-42.2244C174.949,-38.3382 167.44,-34.3677 160,-32.3918 155.224,-31.1234 150.075,-30.6414 145.012,-30.6403\"/>\n",
       "<polygon fill=\"black\" stroke=\"black\" points=\"144.67,-27.154 134.885,-31.2155 145.067,-34.1427 144.67,-27.154\"/>\n",
       "<text text-anchor=\"middle\" x=\"156.5\" y=\"-35.1918\" font-family=\"Times,serif\" font-size=\"14.00\">0</text>\n",
       "</g>\n",
       "<!-- BH&#45;&gt;BH -->\n",
       "<g id=\"edge6\" class=\"edge\"><title>BH&#45;&gt;BH</title>\n",
       "<path fill=\"none\" stroke=\"black\" d=\"M271.709,-43.5882C270.761,-53.7836 273.321,-62.7836 279.392,-62.7836 283.281,-62.7836 285.729,-59.09 286.737,-53.7547\"/>\n",
       "<polygon fill=\"black\" stroke=\"black\" points=\"290.241,-53.6987 287.075,-43.5882 283.245,-53.4666 290.241,-53.6987\"/>\n",
       "<text text-anchor=\"middle\" x=\"279.392\" y=\"-79.5836\" font-family=\"Times,serif\" font-size=\"14.00\">1 </text>\n",
       "<text text-anchor=\"middle\" x=\"279.392\" y=\"-65.5836\" font-family=\"Times,serif\" font-size=\"14.00\"> 0</text>\n",
       "</g>\n",
       "<!-- IF&#45;&gt;A -->\n",
       "<g id=\"edge2\" class=\"edge\"><title>IF&#45;&gt;A</title>\n",
       "<path fill=\"none\" stroke=\"black\" d=\"M133.469,-44.2806C139.595,-46.6939 146.469,-49.0177 153,-50.3918 157.625,-51.365 162.598,-51.9739 167.446,-52.3404\"/>\n",
       "<polygon fill=\"black\" stroke=\"black\" points=\"167.529,-55.8477 177.677,-52.8032 167.846,-48.8548 167.529,-55.8477\"/>\n",
       "<text text-anchor=\"middle\" x=\"156.5\" y=\"-54.1918\" font-family=\"Times,serif\" font-size=\"14.00\">0</text>\n",
       "</g>\n",
       "<!-- IF&#45;&gt;BH -->\n",
       "<g id=\"edge4\" class=\"edge\"><title>IF&#45;&gt;BH</title>\n",
       "<path fill=\"none\" stroke=\"black\" d=\"M133.091,-26.168C145.552,-20.6717 162.354,-14.229 178,-11.3918 201.212,-7.18264 227.756,-10.4364 247.717,-14.4712\"/>\n",
       "<polygon fill=\"black\" stroke=\"black\" points=\"246.986,-17.8939 257.504,-16.6169 248.485,-11.0563 246.986,-17.8939\"/>\n",
       "<text text-anchor=\"middle\" x=\"196\" y=\"-14.1918\" font-family=\"Times,serif\" font-size=\"14.00\">1</text>\n",
       "</g>\n",
       "</g>\n",
       "</svg>\n"
      ],
      "text/plain": [
       "<graphviz.dot.Digraph at 0x10f3bfb38>"
      ]
     },
     "execution_count": 28,
     "metadata": {},
     "output_type": "execute_result"
    }
   ],
   "source": [
    "dotObj_dfa_w_bh(ev0_bh_totalize, FuseEdges=True)"
   ]
  },
  {
   "cell_type": "markdown",
   "metadata": {
    "run_control": {
     "frozen": false,
     "read_only": false
    }
   },
   "source": [
    "<span style=\"color:blue\"> **We can now write routines to print DFA using dot. The main routines are listed below.** </span>\n",
    "\n",
    "* dot_dfa_w_bh : lists all states of a DFA including black-hole states\n",
    "* dot_dfa      : lists all isNotBH states (see below for a defn), i.e. suppress black-holes\n",
    "     - Usually there are too many transitions to them and that clutters the view\n",
    "     "
   ]
  },
  {
   "cell_type": "code",
   "execution_count": 29,
   "metadata": {
    "run_control": {
     "frozen": false,
     "read_only": false
    }
   },
   "outputs": [
    {
     "data": {
      "image/svg+xml": [
       "<?xml version=\"1.0\" encoding=\"UTF-8\" standalone=\"no\"?>\n",
       "<!DOCTYPE svg PUBLIC \"-//W3C//DTD SVG 1.1//EN\"\n",
       " \"http://www.w3.org/Graphics/SVG/1.1/DTD/svg11.dtd\">\n",
       "<!-- Generated by graphviz version 2.38.0 (20140413.2041)\n",
       " -->\n",
       "<!-- Title: %3 Pages: 1 -->\n",
       "<svg width=\"324pt\" height=\"192pt\"\n",
       " viewBox=\"0.00 0.00 323.63 191.74\" xmlns=\"http://www.w3.org/2000/svg\" xmlns:xlink=\"http://www.w3.org/1999/xlink\">\n",
       "<g id=\"graph0\" class=\"graph\" transform=\"scale(1 1) rotate(0) translate(4 187.737)\">\n",
       "<title>%3</title>\n",
       "<polygon fill=\"white\" stroke=\"none\" points=\"-4,4 -4,-187.737 319.631,-187.737 319.631,4 -4,4\"/>\n",
       "<!-- EMPTY -->\n",
       "<g id=\"node1\" class=\"node\"><title>EMPTY</title>\n",
       "</g>\n",
       "<!-- IF -->\n",
       "<g id=\"node4\" class=\"node\"><title>IF</title>\n",
       "<ellipse fill=\"none\" stroke=\"black\" cx=\"113\" cy=\"-79.8686\" rx=\"18\" ry=\"18\"/>\n",
       "<ellipse fill=\"none\" stroke=\"black\" cx=\"113\" cy=\"-79.8686\" rx=\"22\" ry=\"22\"/>\n",
       "<text text-anchor=\"middle\" x=\"113\" y=\"-75.6686\" font-family=\"Times,serif\" font-size=\"14.00\">IF</text>\n",
       "</g>\n",
       "<!-- EMPTY&#45;&gt;IF -->\n",
       "<g id=\"edge1\" class=\"edge\"><title>EMPTY&#45;&gt;IF</title>\n",
       "<path fill=\"none\" stroke=\"black\" d=\"M54.1177,-79.8686C62.5406,-79.8686 71.9629,-79.8686 80.7191,-79.8686\"/>\n",
       "<polygon fill=\"black\" stroke=\"black\" points=\"80.9574,-83.3687 90.9574,-79.8686 80.9573,-76.3687 80.9574,-83.3687\"/>\n",
       "</g>\n",
       "<!-- S01 -->\n",
       "<g id=\"node2\" class=\"node\"><title>S01</title>\n",
       "<ellipse fill=\"none\" stroke=\"black\" cx=\"291.762\" cy=\"-127.869\" rx=\"23.7379\" ry=\"23.7379\"/>\n",
       "<text text-anchor=\"middle\" x=\"291.762\" y=\"-123.669\" font-family=\"Times,serif\" font-size=\"14.00\">S01</text>\n",
       "</g>\n",
       "<!-- S01&#45;&gt;S01 -->\n",
       "<g id=\"edge6\" class=\"edge\"><title>S01&#45;&gt;S01</title>\n",
       "<path fill=\"none\" stroke=\"black\" d=\"M283.641,-150.694C282.868,-160.906 285.575,-169.737 291.762,-169.737 295.726,-169.737 298.262,-166.113 299.369,-160.823\"/>\n",
       "<polygon fill=\"black\" stroke=\"black\" points=\"302.871,-160.859 299.883,-150.694 295.88,-160.503 302.871,-160.859\"/>\n",
       "<text text-anchor=\"middle\" x=\"291.762\" y=\"-172.537\" font-family=\"Times,serif\" font-size=\"14.00\">1</text>\n",
       "</g>\n",
       "<!-- F0 -->\n",
       "<g id=\"node5\" class=\"node\"><title>F0</title>\n",
       "<ellipse fill=\"none\" stroke=\"black\" cx=\"201.447\" cy=\"-120.869\" rx=\"19.4029\" ry=\"19.4029\"/>\n",
       "<ellipse fill=\"none\" stroke=\"black\" cx=\"201.447\" cy=\"-120.869\" rx=\"23.3939\" ry=\"23.3939\"/>\n",
       "<text text-anchor=\"middle\" x=\"201.447\" y=\"-116.669\" font-family=\"Times,serif\" font-size=\"14.00\">F0</text>\n",
       "</g>\n",
       "<!-- S01&#45;&gt;F0 -->\n",
       "<g id=\"edge7\" class=\"edge\"><title>S01&#45;&gt;F0</title>\n",
       "<path fill=\"none\" stroke=\"black\" d=\"M271.615,-115.045C265.017,-111.326 257.395,-107.759 249.894,-105.869 243.99,-104.381 237.742,-104.848 231.786,-106.308\"/>\n",
       "<polygon fill=\"black\" stroke=\"black\" points=\"230.523,-103.04 222.15,-109.531 232.744,-109.678 230.523,-103.04\"/>\n",
       "<text text-anchor=\"middle\" x=\"246.394\" y=\"-108.669\" font-family=\"Times,serif\" font-size=\"14.00\">0</text>\n",
       "</g>\n",
       "<!-- S10 -->\n",
       "<g id=\"node3\" class=\"node\"><title>S10</title>\n",
       "<ellipse fill=\"none\" stroke=\"black\" cx=\"291.762\" cy=\"-23.8686\" rx=\"23.7379\" ry=\"23.7379\"/>\n",
       "<text text-anchor=\"middle\" x=\"291.762\" y=\"-19.6686\" font-family=\"Times,serif\" font-size=\"14.00\">S10</text>\n",
       "</g>\n",
       "<!-- S10&#45;&gt;S10 -->\n",
       "<g id=\"edge10\" class=\"edge\"><title>S10&#45;&gt;S10</title>\n",
       "<path fill=\"none\" stroke=\"black\" d=\"M283.641,-46.6939C282.868,-56.9055 285.575,-65.7372 291.762,-65.7372 295.726,-65.7372 298.262,-62.1127 299.369,-56.8228\"/>\n",
       "<polygon fill=\"black\" stroke=\"black\" points=\"302.871,-56.8587 299.883,-46.6939 295.88,-56.5034 302.871,-56.8587\"/>\n",
       "<text text-anchor=\"middle\" x=\"291.762\" y=\"-68.5372\" font-family=\"Times,serif\" font-size=\"14.00\">0</text>\n",
       "</g>\n",
       "<!-- F1 -->\n",
       "<g id=\"node6\" class=\"node\"><title>F1</title>\n",
       "<ellipse fill=\"none\" stroke=\"black\" cx=\"201.447\" cy=\"-23.8686\" rx=\"19.4029\" ry=\"19.4029\"/>\n",
       "<ellipse fill=\"none\" stroke=\"black\" cx=\"201.447\" cy=\"-23.8686\" rx=\"23.3939\" ry=\"23.3939\"/>\n",
       "<text text-anchor=\"middle\" x=\"201.447\" y=\"-19.6686\" font-family=\"Times,serif\" font-size=\"14.00\">F1</text>\n",
       "</g>\n",
       "<!-- S10&#45;&gt;F1 -->\n",
       "<g id=\"edge11\" class=\"edge\"><title>S10&#45;&gt;F1</title>\n",
       "<path fill=\"none\" stroke=\"black\" d=\"M270.077,-12.7746C261.749,-9.52944 251.98,-7.23799 242.894,-8.8686 239.473,-9.4825 235.963,-10.3667 232.509,-11.4031\"/>\n",
       "<polygon fill=\"black\" stroke=\"black\" points=\"231.379,-8.09038 223.043,-14.6287 233.637,-14.7163 231.379,-8.09038\"/>\n",
       "<text text-anchor=\"middle\" x=\"246.394\" y=\"-11.6686\" font-family=\"Times,serif\" font-size=\"14.00\">1</text>\n",
       "</g>\n",
       "<!-- IF&#45;&gt;F0 -->\n",
       "<g id=\"edge2\" class=\"edge\"><title>IF&#45;&gt;F0</title>\n",
       "<path fill=\"none\" stroke=\"black\" d=\"M133.185,-88.9678C144.205,-94.1941 158.281,-100.87 170.705,-106.763\"/>\n",
       "<polygon fill=\"black\" stroke=\"black\" points=\"169.271,-109.956 179.806,-111.079 172.27,-103.631 169.271,-109.956\"/>\n",
       "<text text-anchor=\"middle\" x=\"156.5\" y=\"-104.669\" font-family=\"Times,serif\" font-size=\"14.00\">0</text>\n",
       "</g>\n",
       "<!-- IF&#45;&gt;F1 -->\n",
       "<g id=\"edge3\" class=\"edge\"><title>IF&#45;&gt;F1</title>\n",
       "<path fill=\"none\" stroke=\"black\" d=\"M131.912,-68.2654C143.758,-60.5916 159.52,-50.3809 172.942,-41.6865\"/>\n",
       "<polygon fill=\"black\" stroke=\"black\" points=\"174.869,-44.6083 181.359,-36.2339 171.063,-38.7333 174.869,-44.6083\"/>\n",
       "<text text-anchor=\"middle\" x=\"156.5\" y=\"-56.6686\" font-family=\"Times,serif\" font-size=\"14.00\">1</text>\n",
       "</g>\n",
       "<!-- F0&#45;&gt;S01 -->\n",
       "<g id=\"edge5\" class=\"edge\"><title>F0&#45;&gt;S01</title>\n",
       "<path fill=\"none\" stroke=\"black\" d=\"M225.19,-122.671C235.105,-123.457 246.921,-124.394 257.773,-125.254\"/>\n",
       "<polygon fill=\"black\" stroke=\"black\" points=\"257.544,-128.747 267.789,-126.048 258.097,-121.768 257.544,-128.747\"/>\n",
       "<text text-anchor=\"middle\" x=\"246.394\" y=\"-126.669\" font-family=\"Times,serif\" font-size=\"14.00\">1</text>\n",
       "</g>\n",
       "<!-- F0&#45;&gt;F0 -->\n",
       "<g id=\"edge4\" class=\"edge\"><title>F0&#45;&gt;F0</title>\n",
       "<path fill=\"none\" stroke=\"black\" d=\"M193.36,-143.042C192.478,-153.328 195.173,-162.315 201.447,-162.315 205.466,-162.315 208.016,-158.627 209.099,-153.272\"/>\n",
       "<polygon fill=\"black\" stroke=\"black\" points=\"212.606,-153.182 209.534,-143.042 205.612,-152.884 212.606,-153.182\"/>\n",
       "<text text-anchor=\"middle\" x=\"201.447\" y=\"-165.115\" font-family=\"Times,serif\" font-size=\"14.00\">0</text>\n",
       "</g>\n",
       "<!-- F1&#45;&gt;S10 -->\n",
       "<g id=\"edge9\" class=\"edge\"><title>F1&#45;&gt;S10</title>\n",
       "<path fill=\"none\" stroke=\"black\" d=\"M225.106,-25.8462C230.9,-26.2703 237.124,-26.6549 242.894,-26.8686 247.736,-27.0479 252.849,-26.9907 257.861,-26.7953\"/>\n",
       "<polygon fill=\"black\" stroke=\"black\" points=\"258.099,-30.2876 267.887,-26.2314 257.706,-23.2986 258.099,-30.2876\"/>\n",
       "<text text-anchor=\"middle\" x=\"246.394\" y=\"-30.6686\" font-family=\"Times,serif\" font-size=\"14.00\">0</text>\n",
       "</g>\n",
       "<!-- F1&#45;&gt;F1 -->\n",
       "<g id=\"edge8\" class=\"edge\"><title>F1&#45;&gt;F1</title>\n",
       "<path fill=\"none\" stroke=\"black\" d=\"M193.36,-46.0421C192.478,-56.3282 195.173,-65.3155 201.447,-65.3155 205.466,-65.3155 208.016,-61.6271 209.099,-56.2717\"/>\n",
       "<polygon fill=\"black\" stroke=\"black\" points=\"212.606,-56.1818 209.534,-46.0421 205.612,-55.8843 212.606,-56.1818\"/>\n",
       "<text text-anchor=\"middle\" x=\"201.447\" y=\"-68.1155\" font-family=\"Times,serif\" font-size=\"14.00\">1</text>\n",
       "</g>\n",
       "</g>\n",
       "</svg>\n"
      ],
      "text/plain": [
       "<graphviz.dot.Digraph at 0x10f39f358>"
      ]
     },
     "execution_count": 29,
     "metadata": {},
     "output_type": "execute_result"
    }
   ],
   "source": [
    "dfaBESame = md2mc('''\n",
    "DFA !! Begins and ends with same; epsilon allowed\n",
    "IF  : 0 -> F0\n",
    "IF  : 1 -> F1\n",
    "!!\n",
    "F0  : 0 -> F0\n",
    "F0  : 1 -> S01\n",
    "S01 : 1 -> S01\n",
    "S01 : 0 -> F0\n",
    "!!\n",
    "F1  : 1 -> F1\n",
    "F1  : 0 -> S10\n",
    "S10 : 0 -> S10\n",
    "S10 : 1 -> F1\n",
    "''')\n",
    "DOdfaBESame = dotObj_dfa(dfaBESame)\n",
    "DOdfaBESame"
   ]
  },
  {
   "cell_type": "markdown",
   "metadata": {
    "run_control": {
     "frozen": false,
     "read_only": false
    }
   },
   "source": [
    "## Let us now administer some tests to print dot-strings generated.\n",
    "\n",
    "We will demonstrate two ways to print automata: \n",
    "\n",
    "1. First generate a dot string via dot_dfa or dot_dfa_w_bh\n",
    "   (calling the result \"dot_string\") \n",
    "   1. Then use the srcObj = Source(dot_string) call\n",
    "   2. Thereafter we can display the srcObj object directly into the browser\n",
    "   3. Or, one can also later convert the dot_string to svg or PDF\n",
    "2. OR, one can directly generate a dot object via the dotObj_dfa or dotObj_dfa_w_bh call\n",
    "   (calling the result \"dot_object\")\n",
    "   1. Then directly display the dot_object\n",
    "   2. There are conversions available for dot_object to other formats too"
   ]
  },
  {
   "cell_type": "markdown",
   "metadata": {
    "run_control": {
     "frozen": false,
     "read_only": false
    }
   },
   "source": [
    "# One can read DFAs from files"
   ]
  },
  {
   "cell_type": "code",
   "execution_count": 30,
   "metadata": {
    "run_control": {
     "frozen": false,
     "read_only": false
    }
   },
   "outputs": [],
   "source": [
    "dped1 = md2mc(src=\"File\", fname=\"pedagogical1.dfa\")\n",
    "#machines/dfafiles/pedagogical1.dfa"
   ]
  },
  {
   "cell_type": "code",
   "execution_count": 31,
   "metadata": {
    "run_control": {
     "frozen": false,
     "read_only": false
    }
   },
   "outputs": [
    {
     "data": {
      "text/plain": [
       "{'Delta': {('A', '0'): 'B',\n",
       "  ('A', '1'): 'B',\n",
       "  ('B', '0'): 'IF',\n",
       "  ('B', '1'): 'F',\n",
       "  ('F', '0'): 'B',\n",
       "  ('F', '1'): 'B',\n",
       "  ('IF', '0'): 'A',\n",
       "  ('IF', '1'): 'B'},\n",
       " 'F': {'F', 'IF'},\n",
       " 'Q': {'A', 'B', 'F', 'IF'},\n",
       " 'Sigma': {'0', '1'},\n",
       " 'q0': 'IF'}"
      ]
     },
     "execution_count": 31,
     "metadata": {},
     "output_type": "execute_result"
    }
   ],
   "source": [
    "dped1"
   ]
  },
  {
   "cell_type": "code",
   "execution_count": 32,
   "metadata": {
    "run_control": {
     "frozen": false,
     "read_only": false
    }
   },
   "outputs": [
    {
     "data": {
      "image/svg+xml": [
       "<?xml version=\"1.0\" encoding=\"UTF-8\" standalone=\"no\"?>\n",
       "<!DOCTYPE svg PUBLIC \"-//W3C//DTD SVG 1.1//EN\"\n",
       " \"http://www.w3.org/Graphics/SVG/1.1/DTD/svg11.dtd\">\n",
       "<!-- Generated by graphviz version 2.38.0 (20140413.2041)\n",
       " -->\n",
       "<!-- Title: %3 Pages: 1 -->\n",
       "<svg width=\"388pt\" height=\"113pt\"\n",
       " viewBox=\"0.00 0.00 388.00 113.00\" xmlns=\"http://www.w3.org/2000/svg\" xmlns:xlink=\"http://www.w3.org/1999/xlink\">\n",
       "<g id=\"graph0\" class=\"graph\" transform=\"scale(1 1) rotate(0) translate(4 109)\">\n",
       "<title>%3</title>\n",
       "<polygon fill=\"white\" stroke=\"none\" points=\"-4,4 -4,-109 384,-109 384,4 -4,4\"/>\n",
       "<!-- EMPTY -->\n",
       "<g id=\"node1\" class=\"node\"><title>EMPTY</title>\n",
       "</g>\n",
       "<!-- IF -->\n",
       "<g id=\"node4\" class=\"node\"><title>IF</title>\n",
       "<ellipse fill=\"none\" stroke=\"black\" cx=\"113\" cy=\"-72\" rx=\"18\" ry=\"18\"/>\n",
       "<ellipse fill=\"none\" stroke=\"black\" cx=\"113\" cy=\"-72\" rx=\"22\" ry=\"22\"/>\n",
       "<text text-anchor=\"middle\" x=\"113\" y=\"-67.8\" font-family=\"Times,serif\" font-size=\"14.00\">IF</text>\n",
       "</g>\n",
       "<!-- EMPTY&#45;&gt;IF -->\n",
       "<g id=\"edge1\" class=\"edge\"><title>EMPTY&#45;&gt;IF</title>\n",
       "<path fill=\"none\" stroke=\"black\" d=\"M54.1177,-72C62.5406,-72 71.9629,-72 80.7191,-72\"/>\n",
       "<polygon fill=\"black\" stroke=\"black\" points=\"80.9574,-75.5001 90.9574,-72 80.9573,-68.5001 80.9574,-75.5001\"/>\n",
       "</g>\n",
       "<!-- A -->\n",
       "<g id=\"node2\" class=\"node\"><title>A</title>\n",
       "<ellipse fill=\"none\" stroke=\"black\" cx=\"196\" cy=\"-18\" rx=\"18\" ry=\"18\"/>\n",
       "<text text-anchor=\"middle\" x=\"196\" y=\"-13.8\" font-family=\"Times,serif\" font-size=\"14.00\">A</text>\n",
       "</g>\n",
       "<!-- B -->\n",
       "<g id=\"node3\" class=\"node\"><title>B</title>\n",
       "<ellipse fill=\"none\" stroke=\"black\" cx=\"275\" cy=\"-57\" rx=\"18\" ry=\"18\"/>\n",
       "<text text-anchor=\"middle\" x=\"275\" y=\"-52.8\" font-family=\"Times,serif\" font-size=\"14.00\">B</text>\n",
       "</g>\n",
       "<!-- A&#45;&gt;B -->\n",
       "<g id=\"edge4\" class=\"edge\"><title>A&#45;&gt;B</title>\n",
       "<path fill=\"none\" stroke=\"black\" d=\"M212.582,-25.8922C223.193,-31.2664 237.455,-38.49 249.564,-44.6235\"/>\n",
       "<polygon fill=\"black\" stroke=\"black\" points=\"248.201,-47.8565 258.704,-49.2526 251.364,-41.6118 248.201,-47.8565\"/>\n",
       "<text text-anchor=\"middle\" x=\"235.5\" y=\"-41.8\" font-family=\"Times,serif\" font-size=\"14.00\">0</text>\n",
       "</g>\n",
       "<!-- A&#45;&gt;B -->\n",
       "<g id=\"edge5\" class=\"edge\"><title>A&#45;&gt;B</title>\n",
       "<path fill=\"none\" stroke=\"black\" d=\"M214.029,-15.4392C221.946,-14.9779 231.292,-15.5104 239,-19 246.303,-22.3062 252.772,-27.9356 258.1,-33.8629\"/>\n",
       "<polygon fill=\"black\" stroke=\"black\" points=\"255.621,-36.3635 264.63,-41.9403 261.065,-31.963 255.621,-36.3635\"/>\n",
       "<text text-anchor=\"middle\" x=\"235.5\" y=\"-21.8\" font-family=\"Times,serif\" font-size=\"14.00\">1</text>\n",
       "</g>\n",
       "<!-- B&#45;&gt;IF -->\n",
       "<g id=\"edge7\" class=\"edge\"><title>B&#45;&gt;IF</title>\n",
       "<path fill=\"none\" stroke=\"black\" d=\"M256.986,-58.5951C230.367,-61.0906 178.466,-65.9563 145.059,-69.0883\"/>\n",
       "<polygon fill=\"black\" stroke=\"black\" points=\"144.547,-65.6208 134.917,-70.039 145.2,-72.5902 144.547,-65.6208\"/>\n",
       "<text text-anchor=\"middle\" x=\"196\" y=\"-67.8\" font-family=\"Times,serif\" font-size=\"14.00\">0</text>\n",
       "</g>\n",
       "<!-- F -->\n",
       "<g id=\"node5\" class=\"node\"><title>F</title>\n",
       "<ellipse fill=\"none\" stroke=\"black\" cx=\"358\" cy=\"-57\" rx=\"18\" ry=\"18\"/>\n",
       "<ellipse fill=\"none\" stroke=\"black\" cx=\"358\" cy=\"-57\" rx=\"22\" ry=\"22\"/>\n",
       "<text text-anchor=\"middle\" x=\"358\" y=\"-52.8\" font-family=\"Times,serif\" font-size=\"14.00\">F</text>\n",
       "</g>\n",
       "<!-- B&#45;&gt;F -->\n",
       "<g id=\"edge6\" class=\"edge\"><title>B&#45;&gt;F</title>\n",
       "<path fill=\"none\" stroke=\"black\" d=\"M291.241,-65.1226C297.226,-67.8828 304.265,-70.6176 311,-72 316.904,-73.2118 323.112,-72.5661 328.99,-71.0088\"/>\n",
       "<polygon fill=\"black\" stroke=\"black\" points=\"330.176,-74.3019 338.458,-67.6945 327.863,-67.695 330.176,-74.3019\"/>\n",
       "<text text-anchor=\"middle\" x=\"314.5\" y=\"-74.8\" font-family=\"Times,serif\" font-size=\"14.00\">1</text>\n",
       "</g>\n",
       "<!-- IF&#45;&gt;A -->\n",
       "<g id=\"edge2\" class=\"edge\"><title>IF&#45;&gt;A</title>\n",
       "<path fill=\"none\" stroke=\"black\" d=\"M131.294,-59.1978C138.001,-54.3353 145.79,-48.812 153,-44 158.805,-40.1262 165.163,-36.088 171.136,-32.3814\"/>\n",
       "<polygon fill=\"black\" stroke=\"black\" points=\"173.377,-35.113 180.071,-26.9009 169.717,-29.1461 173.377,-35.113\"/>\n",
       "<text text-anchor=\"middle\" x=\"156.5\" y=\"-46.8\" font-family=\"Times,serif\" font-size=\"14.00\">0</text>\n",
       "</g>\n",
       "<!-- IF&#45;&gt;B -->\n",
       "<g id=\"edge3\" class=\"edge\"><title>IF&#45;&gt;B</title>\n",
       "<path fill=\"none\" stroke=\"black\" d=\"M133.618,-79.8462C139.75,-82.0804 146.59,-84.352 153,-86 179.314,-92.7653 186.916,-92.153 214,-90 225.217,-89.1083 228.75,-90.6426 239,-86 244.301,-83.5989 249.453,-80.1744 254.101,-76.5155\"/>\n",
       "<polygon fill=\"black\" stroke=\"black\" points=\"256.553,-79.0233 261.848,-69.8466 251.986,-73.7183 256.553,-79.0233\"/>\n",
       "<text text-anchor=\"middle\" x=\"196\" y=\"-93.8\" font-family=\"Times,serif\" font-size=\"14.00\">1</text>\n",
       "</g>\n",
       "<!-- F&#45;&gt;B -->\n",
       "<g id=\"edge8\" class=\"edge\"><title>F&#45;&gt;B</title>\n",
       "<path fill=\"none\" stroke=\"black\" d=\"M335.943,-54.6705C328.115,-54.0565 319.156,-53.6511 311,-54 308.441,-54.1095 305.779,-54.2638 303.118,-54.4453\"/>\n",
       "<polygon fill=\"black\" stroke=\"black\" points=\"302.763,-50.9623 293.071,-55.2425 303.317,-57.9404 302.763,-50.9623\"/>\n",
       "<text text-anchor=\"middle\" x=\"314.5\" y=\"-56.8\" font-family=\"Times,serif\" font-size=\"14.00\">0</text>\n",
       "</g>\n",
       "<!-- F&#45;&gt;B -->\n",
       "<g id=\"edge9\" class=\"edge\"><title>F&#45;&gt;B</title>\n",
       "<path fill=\"none\" stroke=\"black\" d=\"M340.914,-42.7689C332.311,-36.8656 321.378,-32.0093 311,-35 306.535,-36.2869 302.089,-38.3302 297.939,-40.665\"/>\n",
       "<polygon fill=\"black\" stroke=\"black\" points=\"296.002,-37.7488 289.432,-46.0611 299.752,-43.6598 296.002,-37.7488\"/>\n",
       "<text text-anchor=\"middle\" x=\"314.5\" y=\"-37.8\" font-family=\"Times,serif\" font-size=\"14.00\">1</text>\n",
       "</g>\n",
       "</g>\n",
       "</svg>\n"
      ],
      "text/plain": [
       "<graphviz.dot.Digraph at 0x10f3dd0f0>"
      ]
     },
     "execution_count": 32,
     "metadata": {},
     "output_type": "execute_result"
    }
   ],
   "source": [
    "dotObj_dfa(dped1)"
   ]
  },
  {
   "cell_type": "code",
   "execution_count": 33,
   "metadata": {
    "run_control": {
     "frozen": false,
     "read_only": false
    }
   },
   "outputs": [
    {
     "data": {
      "image/svg+xml": [
       "<?xml version=\"1.0\" encoding=\"UTF-8\" standalone=\"no\"?>\n",
       "<!DOCTYPE svg PUBLIC \"-//W3C//DTD SVG 1.1//EN\"\n",
       " \"http://www.w3.org/Graphics/SVG/1.1/DTD/svg11.dtd\">\n",
       "<!-- Generated by graphviz version 2.38.0 (20140413.2041)\n",
       " -->\n",
       "<!-- Title: %3 Pages: 1 -->\n",
       "<svg width=\"395pt\" height=\"115pt\"\n",
       " viewBox=\"0.00 0.00 395.00 115.00\" xmlns=\"http://www.w3.org/2000/svg\" xmlns:xlink=\"http://www.w3.org/1999/xlink\">\n",
       "<g id=\"graph0\" class=\"graph\" transform=\"scale(1 1) rotate(0) translate(4 111)\">\n",
       "<title>%3</title>\n",
       "<polygon fill=\"white\" stroke=\"none\" points=\"-4,4 -4,-111 391,-111 391,4 -4,4\"/>\n",
       "<!-- EMPTY -->\n",
       "<g id=\"node1\" class=\"node\"><title>EMPTY</title>\n",
       "</g>\n",
       "<!-- IF -->\n",
       "<g id=\"node4\" class=\"node\"><title>IF</title>\n",
       "<ellipse fill=\"none\" stroke=\"black\" cx=\"113\" cy=\"-72\" rx=\"18\" ry=\"18\"/>\n",
       "<ellipse fill=\"none\" stroke=\"black\" cx=\"113\" cy=\"-72\" rx=\"22\" ry=\"22\"/>\n",
       "<text text-anchor=\"middle\" x=\"113\" y=\"-67.8\" font-family=\"Times,serif\" font-size=\"14.00\">IF</text>\n",
       "</g>\n",
       "<!-- EMPTY&#45;&gt;IF -->\n",
       "<g id=\"edge1\" class=\"edge\"><title>EMPTY&#45;&gt;IF</title>\n",
       "<path fill=\"none\" stroke=\"black\" d=\"M54.1177,-72C62.5406,-72 71.9629,-72 80.7191,-72\"/>\n",
       "<polygon fill=\"black\" stroke=\"black\" points=\"80.9574,-75.5001 90.9574,-72 80.9573,-68.5001 80.9574,-75.5001\"/>\n",
       "</g>\n",
       "<!-- A -->\n",
       "<g id=\"node2\" class=\"node\"><title>A</title>\n",
       "<ellipse fill=\"none\" stroke=\"black\" cx=\"196\" cy=\"-18\" rx=\"18\" ry=\"18\"/>\n",
       "<text text-anchor=\"middle\" x=\"196\" y=\"-13.8\" font-family=\"Times,serif\" font-size=\"14.00\">A</text>\n",
       "</g>\n",
       "<!-- B -->\n",
       "<g id=\"node3\" class=\"node\"><title>B</title>\n",
       "<ellipse fill=\"none\" stroke=\"black\" cx=\"278.5\" cy=\"-72\" rx=\"18\" ry=\"18\"/>\n",
       "<text text-anchor=\"middle\" x=\"278.5\" y=\"-67.8\" font-family=\"Times,serif\" font-size=\"14.00\">B</text>\n",
       "</g>\n",
       "<!-- A&#45;&gt;B -->\n",
       "<g id=\"edge4\" class=\"edge\"><title>A&#45;&gt;B</title>\n",
       "<path fill=\"none\" stroke=\"black\" d=\"M214,-19.9417C223.013,-21.574 233.955,-24.5594 242.5,-30 249.931,-34.7313 256.574,-41.5525 262.024,-48.3263\"/>\n",
       "<polygon fill=\"black\" stroke=\"black\" points=\"259.486,-50.7793 268.259,-56.7203 265.106,-46.6054 259.486,-50.7793\"/>\n",
       "<text text-anchor=\"middle\" x=\"237.25\" y=\"-46.8\" font-family=\"Times,serif\" font-size=\"14.00\">1 </text>\n",
       "<text text-anchor=\"middle\" x=\"237.25\" y=\"-32.8\" font-family=\"Times,serif\" font-size=\"14.00\"> 0</text>\n",
       "</g>\n",
       "<!-- B&#45;&gt;IF -->\n",
       "<g id=\"edge6\" class=\"edge\"><title>B&#45;&gt;IF</title>\n",
       "<path fill=\"none\" stroke=\"black\" d=\"M260.033,-72C232.711,-72 179.469,-72 145.378,-72\"/>\n",
       "<polygon fill=\"black\" stroke=\"black\" points=\"145.04,-68.5001 135.04,-72 145.04,-75.5001 145.04,-68.5001\"/>\n",
       "<text text-anchor=\"middle\" x=\"196\" y=\"-74.8\" font-family=\"Times,serif\" font-size=\"14.00\">0</text>\n",
       "</g>\n",
       "<!-- F -->\n",
       "<g id=\"node5\" class=\"node\"><title>F</title>\n",
       "<ellipse fill=\"none\" stroke=\"black\" cx=\"365\" cy=\"-72\" rx=\"18\" ry=\"18\"/>\n",
       "<ellipse fill=\"none\" stroke=\"black\" cx=\"365\" cy=\"-72\" rx=\"22\" ry=\"22\"/>\n",
       "<text text-anchor=\"middle\" x=\"365\" y=\"-67.8\" font-family=\"Times,serif\" font-size=\"14.00\">F</text>\n",
       "</g>\n",
       "<!-- B&#45;&gt;F -->\n",
       "<g id=\"edge5\" class=\"edge\"><title>B&#45;&gt;F</title>\n",
       "<path fill=\"none\" stroke=\"black\" d=\"M296.556,-74.3431C302.251,-75.0202 308.638,-75.6661 314.5,-76 320.31,-76.3309 326.498,-76.2093 332.46,-75.8507\"/>\n",
       "<polygon fill=\"black\" stroke=\"black\" points=\"333.14,-79.3066 342.818,-74.9959 332.564,-72.3303 333.14,-79.3066\"/>\n",
       "<text text-anchor=\"middle\" x=\"319.75\" y=\"-78.8\" font-family=\"Times,serif\" font-size=\"14.00\">1</text>\n",
       "</g>\n",
       "<!-- IF&#45;&gt;A -->\n",
       "<g id=\"edge2\" class=\"edge\"><title>IF&#45;&gt;A</title>\n",
       "<path fill=\"none\" stroke=\"black\" d=\"M131.294,-59.1978C138.001,-54.3353 145.79,-48.812 153,-44 158.805,-40.1262 165.163,-36.088 171.136,-32.3814\"/>\n",
       "<polygon fill=\"black\" stroke=\"black\" points=\"173.377,-35.113 180.071,-26.9009 169.717,-29.1461 173.377,-35.113\"/>\n",
       "<text text-anchor=\"middle\" x=\"156.5\" y=\"-46.8\" font-family=\"Times,serif\" font-size=\"14.00\">0</text>\n",
       "</g>\n",
       "<!-- IF&#45;&gt;B -->\n",
       "<g id=\"edge3\" class=\"edge\"><title>IF&#45;&gt;B</title>\n",
       "<path fill=\"none\" stroke=\"black\" d=\"M133.618,-79.8462C139.75,-82.0804 146.59,-84.352 153,-86 191.525,-95.9048 204.059,-96.2251 242.5,-86 245.726,-85.142 249.055,-84.0703 252.319,-82.904\"/>\n",
       "<polygon fill=\"black\" stroke=\"black\" points=\"253.692,-86.1255 261.745,-79.2406 251.156,-79.6009 253.692,-86.1255\"/>\n",
       "<text text-anchor=\"middle\" x=\"196\" y=\"-95.8\" font-family=\"Times,serif\" font-size=\"14.00\">1</text>\n",
       "</g>\n",
       "<!-- F&#45;&gt;B -->\n",
       "<g id=\"edge7\" class=\"edge\"><title>F&#45;&gt;B</title>\n",
       "<path fill=\"none\" stroke=\"black\" d=\"M348.185,-57.2138C341.543,-51.9722 333.41,-46.7065 325,-44 315.564,-40.9634 306.076,-45.3423 298.225,-51.4744\"/>\n",
       "<polygon fill=\"black\" stroke=\"black\" points=\"295.783,-48.9631 290.706,-58.2619 300.474,-54.1591 295.783,-48.9631\"/>\n",
       "<text text-anchor=\"middle\" x=\"319.75\" y=\"-60.8\" font-family=\"Times,serif\" font-size=\"14.00\">1 </text>\n",
       "<text text-anchor=\"middle\" x=\"319.75\" y=\"-46.8\" font-family=\"Times,serif\" font-size=\"14.00\"> 0</text>\n",
       "</g>\n",
       "</g>\n",
       "</svg>\n"
      ],
      "text/plain": [
       "<graphviz.dot.Digraph at 0x10f3d21d0>"
      ]
     },
     "execution_count": 33,
     "metadata": {},
     "output_type": "execute_result"
    }
   ],
   "source": [
    "dotObj_dfa(dped1, FuseEdges=True)"
   ]
  },
  {
   "cell_type": "code",
   "execution_count": 34,
   "metadata": {
    "run_control": {
     "frozen": false,
     "read_only": false
    }
   },
   "outputs": [],
   "source": [
    "ends0101 = md2mc(src=\"File\", fname=\"endsin0101.dfa\")"
   ]
  },
  {
   "cell_type": "code",
   "execution_count": 35,
   "metadata": {
    "run_control": {
     "frozen": false,
     "read_only": false
    }
   },
   "outputs": [
    {
     "data": {
      "image/svg+xml": [
       "<?xml version=\"1.0\" encoding=\"UTF-8\" standalone=\"no\"?>\n",
       "<!DOCTYPE svg PUBLIC \"-//W3C//DTD SVG 1.1//EN\"\n",
       " \"http://www.w3.org/Graphics/SVG/1.1/DTD/svg11.dtd\">\n",
       "<!-- Generated by graphviz version 2.38.0 (20140413.2041)\n",
       " -->\n",
       "<!-- Title: %3 Pages: 1 -->\n",
       "<svg width=\"524pt\" height=\"142pt\"\n",
       " viewBox=\"0.00 0.00 523.64 141.58\" xmlns=\"http://www.w3.org/2000/svg\" xmlns:xlink=\"http://www.w3.org/1999/xlink\">\n",
       "<g id=\"graph0\" class=\"graph\" transform=\"scale(1 1) rotate(0) translate(4 137.581)\">\n",
       "<title>%3</title>\n",
       "<polygon fill=\"white\" stroke=\"none\" points=\"-4,4 -4,-137.581 519.636,-137.581 519.636,4 -4,4\"/>\n",
       "<!-- EMPTY -->\n",
       "<g id=\"node1\" class=\"node\"><title>EMPTY</title>\n",
       "</g>\n",
       "<!-- I -->\n",
       "<g id=\"node4\" class=\"node\"><title>I</title>\n",
       "<ellipse fill=\"none\" stroke=\"black\" cx=\"109\" cy=\"-50.7121\" rx=\"18\" ry=\"18\"/>\n",
       "<text text-anchor=\"middle\" x=\"109\" y=\"-46.5121\" font-family=\"Times,serif\" font-size=\"14.00\">I</text>\n",
       "</g>\n",
       "<!-- EMPTY&#45;&gt;I -->\n",
       "<g id=\"edge1\" class=\"edge\"><title>EMPTY&#45;&gt;I</title>\n",
       "<path fill=\"none\" stroke=\"black\" d=\"M54.195,-50.7121C62.6538,-50.7121 72.0513,-50.7121 80.5951,-50.7121\"/>\n",
       "<polygon fill=\"black\" stroke=\"black\" points=\"80.8257,-54.2122 90.8257,-50.7121 80.8257,-47.2122 80.8257,-54.2122\"/>\n",
       "</g>\n",
       "<!-- S01 -->\n",
       "<g id=\"node2\" class=\"node\"><title>S01</title>\n",
       "<ellipse fill=\"none\" stroke=\"black\" cx=\"275.762\" cy=\"-109.712\" rx=\"23.7379\" ry=\"23.7379\"/>\n",
       "<text text-anchor=\"middle\" x=\"275.762\" y=\"-105.512\" font-family=\"Times,serif\" font-size=\"14.00\">S01</text>\n",
       "</g>\n",
       "<!-- S010 -->\n",
       "<g id=\"node3\" class=\"node\"><title>S010</title>\n",
       "<ellipse fill=\"none\" stroke=\"black\" cx=\"370.921\" cy=\"-66.7121\" rx=\"28.0822\" ry=\"28.0822\"/>\n",
       "<text text-anchor=\"middle\" x=\"370.921\" y=\"-62.5121\" font-family=\"Times,serif\" font-size=\"14.00\">S010</text>\n",
       "</g>\n",
       "<!-- S01&#45;&gt;S010 -->\n",
       "<g id=\"edge6\" class=\"edge\"><title>S01&#45;&gt;S010</title>\n",
       "<path fill=\"none\" stroke=\"black\" d=\"M297.902,-99.9547C309.024,-94.8208 322.938,-88.3984 335.563,-82.5709\"/>\n",
       "<polygon fill=\"black\" stroke=\"black\" points=\"337.286,-85.6305 344.899,-78.2618 334.353,-79.2749 337.286,-85.6305\"/>\n",
       "<text text-anchor=\"middle\" x=\"321.131\" y=\"-94.5121\" font-family=\"Times,serif\" font-size=\"14.00\">0</text>\n",
       "</g>\n",
       "<!-- S01&#45;&gt;I -->\n",
       "<g id=\"edge7\" class=\"edge\"><title>S01&#45;&gt;I</title>\n",
       "<path fill=\"none\" stroke=\"black\" d=\"M252.132,-114.874C230.234,-118.751 196.551,-121.71 170,-110.712 151.854,-103.196 136.335,-87.2339 125.628,-73.6623\"/>\n",
       "<polygon fill=\"black\" stroke=\"black\" points=\"128.399,-71.5237 119.603,-65.6178 122.796,-75.72 128.399,-71.5237\"/>\n",
       "<text text-anchor=\"middle\" x=\"189.447\" y=\"-120.512\" font-family=\"Times,serif\" font-size=\"14.00\">1</text>\n",
       "</g>\n",
       "<!-- S0 -->\n",
       "<g id=\"node5\" class=\"node\"><title>S0</title>\n",
       "<ellipse fill=\"none\" stroke=\"black\" cx=\"189.447\" cy=\"-50.7121\" rx=\"19.3939\" ry=\"19.3939\"/>\n",
       "<text text-anchor=\"middle\" x=\"189.447\" y=\"-46.5121\" font-family=\"Times,serif\" font-size=\"14.00\">S0</text>\n",
       "</g>\n",
       "<!-- S010&#45;&gt;S0 -->\n",
       "<g id=\"edge8\" class=\"edge\"><title>S010&#45;&gt;S0</title>\n",
       "<path fill=\"none\" stroke=\"black\" d=\"M342.458,-64.2638C309.094,-61.2894 253.074,-56.2952 219.156,-53.2715\"/>\n",
       "<polygon fill=\"black\" stroke=\"black\" points=\"219.249,-49.766 208.978,-52.3641 218.627,-56.7383 219.249,-49.766\"/>\n",
       "<text text-anchor=\"middle\" x=\"275.762\" y=\"-63.5121\" font-family=\"Times,serif\" font-size=\"14.00\">0</text>\n",
       "</g>\n",
       "<!-- F0101 -->\n",
       "<g id=\"node6\" class=\"node\"><title>F0101</title>\n",
       "<ellipse fill=\"none\" stroke=\"black\" cx=\"478.924\" cy=\"-36.7121\" rx=\"32.9021\" ry=\"32.9021\"/>\n",
       "<ellipse fill=\"none\" stroke=\"black\" cx=\"478.924\" cy=\"-36.7121\" rx=\"36.9254\" ry=\"36.9254\"/>\n",
       "<text text-anchor=\"middle\" x=\"478.924\" y=\"-32.5121\" font-family=\"Times,serif\" font-size=\"14.00\">F0101</text>\n",
       "</g>\n",
       "<!-- S010&#45;&gt;F0101 -->\n",
       "<g id=\"edge9\" class=\"edge\"><title>S010&#45;&gt;F0101</title>\n",
       "<path fill=\"none\" stroke=\"black\" d=\"M398.397,-59.2192C409.032,-56.2092 421.588,-52.6558 433.543,-49.2725\"/>\n",
       "<polygon fill=\"black\" stroke=\"black\" points=\"434.719,-52.5772 443.388,-46.4862 432.812,-45.8417 434.719,-52.5772\"/>\n",
       "<text text-anchor=\"middle\" x=\"420.712\" y=\"-56.5121\" font-family=\"Times,serif\" font-size=\"14.00\">1</text>\n",
       "</g>\n",
       "<!-- I&#45;&gt;I -->\n",
       "<g id=\"edge3\" class=\"edge\"><title>I&#45;&gt;I</title>\n",
       "<path fill=\"none\" stroke=\"black\" d=\"M102.621,-67.7494C101.319,-77.57 103.445,-86.7121 109,-86.7121 112.472,-86.7121 114.604,-83.1409 115.398,-78.065\"/>\n",
       "<polygon fill=\"black\" stroke=\"black\" points=\"118.897,-77.7431 115.379,-67.7494 111.897,-77.7556 118.897,-77.7431\"/>\n",
       "<text text-anchor=\"middle\" x=\"109\" y=\"-89.5121\" font-family=\"Times,serif\" font-size=\"14.00\">1</text>\n",
       "</g>\n",
       "<!-- I&#45;&gt;S0 -->\n",
       "<g id=\"edge2\" class=\"edge\"><title>I&#45;&gt;S0</title>\n",
       "<path fill=\"none\" stroke=\"black\" d=\"M127.022,-50.7121C136.583,-50.7121 148.77,-50.7121 159.763,-50.7121\"/>\n",
       "<polygon fill=\"black\" stroke=\"black\" points=\"159.813,-54.2122 169.813,-50.7121 159.813,-47.2122 159.813,-54.2122\"/>\n",
       "<text text-anchor=\"middle\" x=\"148.5\" y=\"-53.5121\" font-family=\"Times,serif\" font-size=\"14.00\">0</text>\n",
       "</g>\n",
       "<!-- S0&#45;&gt;S01 -->\n",
       "<g id=\"edge5\" class=\"edge\"><title>S0&#45;&gt;S01</title>\n",
       "<path fill=\"none\" stroke=\"black\" d=\"M205.912,-61.5336C217.565,-69.6882 233.842,-81.0776 247.643,-90.7354\"/>\n",
       "<polygon fill=\"black\" stroke=\"black\" points=\"245.653,-93.6148 255.853,-96.4805 249.667,-87.8795 245.653,-93.6148\"/>\n",
       "<text text-anchor=\"middle\" x=\"230.394\" y=\"-83.5121\" font-family=\"Times,serif\" font-size=\"14.00\">1</text>\n",
       "</g>\n",
       "<!-- S0&#45;&gt;S0 -->\n",
       "<g id=\"edge4\" class=\"edge\"><title>S0&#45;&gt;S0</title>\n",
       "<path fill=\"none\" stroke=\"black\" d=\"M182.306,-68.8217C180.973,-78.8886 183.353,-88.1589 189.447,-88.1589 193.351,-88.1589 195.731,-84.3544 196.586,-78.9732\"/>\n",
       "<polygon fill=\"black\" stroke=\"black\" points=\"200.086,-78.8223 196.588,-68.8217 193.086,-78.8211 200.086,-78.8223\"/>\n",
       "<text text-anchor=\"middle\" x=\"189.447\" y=\"-90.9589\" font-family=\"Times,serif\" font-size=\"14.00\">0</text>\n",
       "</g>\n",
       "<!-- F0101&#45;&gt;S010 -->\n",
       "<g id=\"edge10\" class=\"edge\"><title>F0101&#45;&gt;S010</title>\n",
       "<path fill=\"none\" stroke=\"black\" d=\"M442.376,-31.5488C433.973,-31.4149 425.152,-32.1899 417.212,-34.7121 411.568,-36.5045 406.023,-39.2825 400.854,-42.4692\"/>\n",
       "<polygon fill=\"black\" stroke=\"black\" points=\"398.856,-39.5953 392.559,-48.1159 402.795,-45.3818 398.856,-39.5953\"/>\n",
       "<text text-anchor=\"middle\" x=\"420.712\" y=\"-37.5121\" font-family=\"Times,serif\" font-size=\"14.00\">0</text>\n",
       "</g>\n",
       "<!-- F0101&#45;&gt;I -->\n",
       "<g id=\"edge11\" class=\"edge\"><title>F0101&#45;&gt;I</title>\n",
       "<path fill=\"none\" stroke=\"black\" d=\"M445.314,-20.9853C424.751,-12.4857 397.363,-3.71207 371.921,-3.71207 188.447,-3.71207 188.447,-3.71207 188.447,-3.71207 165.942,-3.71207 144.308,-18.1221 129.48,-30.9841\"/>\n",
       "<polygon fill=\"black\" stroke=\"black\" points=\"126.98,-28.528 121.981,-37.8691 131.714,-33.6846 126.98,-28.528\"/>\n",
       "<text text-anchor=\"middle\" x=\"275.762\" y=\"-6.51207\" font-family=\"Times,serif\" font-size=\"14.00\">1</text>\n",
       "</g>\n",
       "</g>\n",
       "</svg>\n"
      ],
      "text/plain": [
       "<graphviz.dot.Digraph at 0x10fc02080>"
      ]
     },
     "execution_count": 35,
     "metadata": {},
     "output_type": "execute_result"
    }
   ],
   "source": [
    "dotObj_dfa(ends0101)"
   ]
  },
  {
   "cell_type": "code",
   "execution_count": 36,
   "metadata": {
    "run_control": {
     "frozen": false,
     "read_only": false
    }
   },
   "outputs": [],
   "source": [
    "thirdlastis1=md2mc(src=\"File\", fname=\"thirdlastis1.dfa\")\n",
    "#machines/dfafiles/thirdlastis1.dfa"
   ]
  },
  {
   "cell_type": "code",
   "execution_count": 37,
   "metadata": {
    "run_control": {
     "frozen": false,
     "read_only": false
    }
   },
   "outputs": [
    {
     "data": {
      "text/plain": [
       "{'Delta': {('F100', '0'): 'S000',\n",
       "  ('F100', '1'): 'S001',\n",
       "  ('F101', '0'): 'S010',\n",
       "  ('F101', '1'): 'S011',\n",
       "  ('F110', '0'): 'F100',\n",
       "  ('F110', '1'): 'F101',\n",
       "  ('F111', '0'): 'F110',\n",
       "  ('F111', '1'): 'F111',\n",
       "  ('I', '0'): 'S0',\n",
       "  ('I', '1'): 'S1',\n",
       "  ('S0', '0'): 'S00',\n",
       "  ('S0', '1'): 'S01',\n",
       "  ('S00', '0'): 'S000',\n",
       "  ('S00', '1'): 'S001',\n",
       "  ('S000', '0'): 'S000',\n",
       "  ('S000', '1'): 'S001',\n",
       "  ('S001', '0'): 'S010',\n",
       "  ('S001', '1'): 'S011',\n",
       "  ('S01', '0'): 'S010',\n",
       "  ('S01', '1'): 'S011',\n",
       "  ('S010', '0'): 'F100',\n",
       "  ('S010', '1'): 'F101',\n",
       "  ('S011', '0'): 'F110',\n",
       "  ('S011', '1'): 'F111',\n",
       "  ('S1', '0'): 'S10',\n",
       "  ('S1', '1'): 'S11',\n",
       "  ('S10', '0'): 'F100',\n",
       "  ('S10', '1'): 'F101',\n",
       "  ('S11', '0'): 'F110',\n",
       "  ('S11', '1'): 'F111'},\n",
       " 'F': {'F100', 'F101', 'F110', 'F111'},\n",
       " 'Q': {'F100',\n",
       "  'F101',\n",
       "  'F110',\n",
       "  'F111',\n",
       "  'I',\n",
       "  'S0',\n",
       "  'S00',\n",
       "  'S000',\n",
       "  'S001',\n",
       "  'S01',\n",
       "  'S010',\n",
       "  'S011',\n",
       "  'S1',\n",
       "  'S10',\n",
       "  'S11'},\n",
       " 'Sigma': {'0', '1'},\n",
       " 'q0': 'I'}"
      ]
     },
     "execution_count": 37,
     "metadata": {},
     "output_type": "execute_result"
    }
   ],
   "source": [
    "thirdlastis1"
   ]
  },
  {
   "cell_type": "code",
   "execution_count": 38,
   "metadata": {
    "run_control": {
     "frozen": false,
     "read_only": false
    }
   },
   "outputs": [
    {
     "data": {
      "image/svg+xml": [
       "<?xml version=\"1.0\" encoding=\"UTF-8\" standalone=\"no\"?>\n",
       "<!DOCTYPE svg PUBLIC \"-//W3C//DTD SVG 1.1//EN\"\n",
       " \"http://www.w3.org/Graphics/SVG/1.1/DTD/svg11.dtd\">\n",
       "<!-- Generated by graphviz version 2.38.0 (20140413.2041)\n",
       " -->\n",
       "<!-- Title: %3 Pages: 1 -->\n",
       "<svg width=\"1133pt\" height=\"449pt\"\n",
       " viewBox=\"0.00 0.00 1133.04 449.00\" xmlns=\"http://www.w3.org/2000/svg\" xmlns:xlink=\"http://www.w3.org/1999/xlink\">\n",
       "<g id=\"graph0\" class=\"graph\" transform=\"scale(1 1) rotate(0) translate(4 445)\">\n",
       "<title>%3</title>\n",
       "<polygon fill=\"white\" stroke=\"none\" points=\"-4,4 -4,-445 1129.04,-445 1129.04,4 -4,4\"/>\n",
       "<!-- EMPTY -->\n",
       "<g id=\"node1\" class=\"node\"><title>EMPTY</title>\n",
       "</g>\n",
       "<!-- I -->\n",
       "<g id=\"node4\" class=\"node\"><title>I</title>\n",
       "<ellipse fill=\"none\" stroke=\"black\" cx=\"109\" cy=\"-274\" rx=\"18\" ry=\"18\"/>\n",
       "<text text-anchor=\"middle\" x=\"109\" y=\"-269.8\" font-family=\"Times,serif\" font-size=\"14.00\">I</text>\n",
       "</g>\n",
       "<!-- EMPTY&#45;&gt;I -->\n",
       "<g id=\"edge1\" class=\"edge\"><title>EMPTY&#45;&gt;I</title>\n",
       "<path fill=\"none\" stroke=\"black\" d=\"M54.195,-274C62.6538,-274 72.0513,-274 80.5951,-274\"/>\n",
       "<polygon fill=\"black\" stroke=\"black\" points=\"80.8257,-277.5 90.8257,-274 80.8257,-270.5 80.8257,-277.5\"/>\n",
       "</g>\n",
       "<!-- S01 -->\n",
       "<g id=\"node2\" class=\"node\"><title>S01</title>\n",
       "<ellipse fill=\"none\" stroke=\"black\" cx=\"481.206\" cy=\"-358\" rx=\"23.7379\" ry=\"23.7379\"/>\n",
       "<text text-anchor=\"middle\" x=\"481.206\" y=\"-353.8\" font-family=\"Times,serif\" font-size=\"14.00\">S01</text>\n",
       "</g>\n",
       "<!-- S010 -->\n",
       "<g id=\"node8\" class=\"node\"><title>S010</title>\n",
       "<ellipse fill=\"none\" stroke=\"black\" cx=\"584.787\" cy=\"-219\" rx=\"28.0822\" ry=\"28.0822\"/>\n",
       "<text text-anchor=\"middle\" x=\"584.787\" y=\"-214.8\" font-family=\"Times,serif\" font-size=\"14.00\">S010</text>\n",
       "</g>\n",
       "<!-- S01&#45;&gt;S010 -->\n",
       "<g id=\"edge10\" class=\"edge\"><title>S01&#45;&gt;S010</title>\n",
       "<path fill=\"none\" stroke=\"black\" d=\"M498.308,-340.99C510.032,-328.238 525.983,-310.11 538.497,-293 547.961,-280.06 557.384,-265.088 565.165,-252.01\"/>\n",
       "<polygon fill=\"black\" stroke=\"black\" points=\"568.229,-253.704 570.269,-243.308 562.191,-250.163 568.229,-253.704\"/>\n",
       "<text text-anchor=\"middle\" x=\"534.997\" y=\"-303.8\" font-family=\"Times,serif\" font-size=\"14.00\">0</text>\n",
       "</g>\n",
       "<!-- S011 -->\n",
       "<g id=\"node12\" class=\"node\"><title>S011</title>\n",
       "<ellipse fill=\"none\" stroke=\"black\" cx=\"990.786\" cy=\"-130\" rx=\"27.933\" ry=\"27.933\"/>\n",
       "<text text-anchor=\"middle\" x=\"990.786\" y=\"-125.8\" font-family=\"Times,serif\" font-size=\"14.00\">S011</text>\n",
       "</g>\n",
       "<!-- S01&#45;&gt;S011 -->\n",
       "<g id=\"edge11\" class=\"edge\"><title>S01&#45;&gt;S011</title>\n",
       "<path fill=\"none\" stroke=\"black\" d=\"M499.444,-373.91C518.556,-389.838 551.032,-412 583.787,-412 583.787,-412 583.787,-412 892.529,-412 943.537,-412 973.631,-245.031 984.795,-168.05\"/>\n",
       "<polygon fill=\"black\" stroke=\"black\" points=\"988.309,-168.203 986.245,-157.811 981.378,-167.221 988.309,-168.203\"/>\n",
       "<text text-anchor=\"middle\" x=\"742.158\" y=\"-414.8\" font-family=\"Times,serif\" font-size=\"14.00\">1</text>\n",
       "</g>\n",
       "<!-- S11 -->\n",
       "<g id=\"node3\" class=\"node\"><title>S11</title>\n",
       "<ellipse fill=\"none\" stroke=\"black\" cx=\"275.438\" cy=\"-115\" rx=\"23.5896\" ry=\"23.5896\"/>\n",
       "<text text-anchor=\"middle\" x=\"275.438\" y=\"-110.8\" font-family=\"Times,serif\" font-size=\"14.00\">S11</text>\n",
       "</g>\n",
       "<!-- F110 -->\n",
       "<g id=\"node15\" class=\"node\"><title>F110</title>\n",
       "<ellipse fill=\"none\" stroke=\"black\" cx=\"373.95\" cy=\"-115\" rx=\"27.9372\" ry=\"27.9372\"/>\n",
       "<ellipse fill=\"none\" stroke=\"black\" cx=\"373.95\" cy=\"-115\" rx=\"31.933\" ry=\"31.933\"/>\n",
       "<text text-anchor=\"middle\" x=\"373.95\" y=\"-110.8\" font-family=\"Times,serif\" font-size=\"14.00\">F110</text>\n",
       "</g>\n",
       "<!-- S11&#45;&gt;F110 -->\n",
       "<g id=\"edge14\" class=\"edge\"><title>S11&#45;&gt;F110</title>\n",
       "<path fill=\"none\" stroke=\"black\" d=\"M299.31,-115C309.041,-115 320.696,-115 331.833,-115\"/>\n",
       "<polygon fill=\"black\" stroke=\"black\" points=\"331.844,-118.5 341.844,-115 331.844,-111.5 331.844,-118.5\"/>\n",
       "<text text-anchor=\"middle\" x=\"320.483\" y=\"-117.8\" font-family=\"Times,serif\" font-size=\"14.00\">0</text>\n",
       "</g>\n",
       "<!-- F111 -->\n",
       "<g id=\"node16\" class=\"node\"><title>F111</title>\n",
       "<ellipse fill=\"none\" stroke=\"black\" cx=\"1093.4\" cy=\"-42\" rx=\"27.7678\" ry=\"27.7678\"/>\n",
       "<ellipse fill=\"none\" stroke=\"black\" cx=\"1093.4\" cy=\"-42\" rx=\"31.7859\" ry=\"31.7859\"/>\n",
       "<text text-anchor=\"middle\" x=\"1093.4\" y=\"-37.8\" font-family=\"Times,serif\" font-size=\"14.00\">F111</text>\n",
       "</g>\n",
       "<!-- S11&#45;&gt;F111 -->\n",
       "<g id=\"edge15\" class=\"edge\"><title>S11&#45;&gt;F111</title>\n",
       "<path fill=\"none\" stroke=\"black\" d=\"M283.666,-92.8268C296.115,-59.4092 324.991,-0 372.95,-0 372.95,-0 372.95,-0 991.786,-0 1015.05,-0 1039.16,-9.67847 1057.95,-19.7433\"/>\n",
       "<polygon fill=\"black\" stroke=\"black\" points=\"1056.28,-22.8229 1066.71,-24.6745 1059.71,-16.7217 1056.28,-22.8229\"/>\n",
       "<text text-anchor=\"middle\" x=\"688.368\" y=\"-2.8\" font-family=\"Times,serif\" font-size=\"14.00\">1</text>\n",
       "</g>\n",
       "<!-- S1 -->\n",
       "<g id=\"node5\" class=\"node\"><title>S1</title>\n",
       "<ellipse fill=\"none\" stroke=\"black\" cx=\"189.447\" cy=\"-207\" rx=\"19.3939\" ry=\"19.3939\"/>\n",
       "<text text-anchor=\"middle\" x=\"189.447\" y=\"-202.8\" font-family=\"Times,serif\" font-size=\"14.00\">S1</text>\n",
       "</g>\n",
       "<!-- I&#45;&gt;S1 -->\n",
       "<g id=\"edge3\" class=\"edge\"><title>I&#45;&gt;S1</title>\n",
       "<path fill=\"none\" stroke=\"black\" d=\"M123.307,-262.634C135.074,-252.585 152.472,-237.725 166.329,-225.891\"/>\n",
       "<polygon fill=\"black\" stroke=\"black\" points=\"168.678,-228.487 174.009,-219.332 164.131,-223.165 168.678,-228.487\"/>\n",
       "<text text-anchor=\"middle\" x=\"148.5\" y=\"-245.8\" font-family=\"Times,serif\" font-size=\"14.00\">1</text>\n",
       "</g>\n",
       "<!-- S0 -->\n",
       "<g id=\"node11\" class=\"node\"><title>S0</title>\n",
       "<ellipse fill=\"none\" stroke=\"black\" cx=\"373.95\" cy=\"-358\" rx=\"19.3939\" ry=\"19.3939\"/>\n",
       "<text text-anchor=\"middle\" x=\"373.95\" y=\"-353.8\" font-family=\"Times,serif\" font-size=\"14.00\">S0</text>\n",
       "</g>\n",
       "<!-- I&#45;&gt;S0 -->\n",
       "<g id=\"edge2\" class=\"edge\"><title>I&#45;&gt;S0</title>\n",
       "<path fill=\"none\" stroke=\"black\" d=\"M126.449,-279.255C170.389,-293.292 290.87,-331.779 345.442,-349.213\"/>\n",
       "<polygon fill=\"black\" stroke=\"black\" points=\"344.543,-352.6 355.134,-352.309 346.674,-345.932 344.543,-352.6\"/>\n",
       "<text text-anchor=\"middle\" x=\"230.394\" y=\"-316.8\" font-family=\"Times,serif\" font-size=\"14.00\">0</text>\n",
       "</g>\n",
       "<!-- S1&#45;&gt;S11 -->\n",
       "<g id=\"edge7\" class=\"edge\"><title>S1&#45;&gt;S11</title>\n",
       "<path fill=\"none\" stroke=\"black\" d=\"M203.203,-193.027C216.177,-178.817 236.542,-156.51 252.18,-139.381\"/>\n",
       "<polygon fill=\"black\" stroke=\"black\" points=\"254.831,-141.668 258.989,-131.923 249.662,-136.948 254.831,-141.668\"/>\n",
       "<text text-anchor=\"middle\" x=\"230.394\" y=\"-169.8\" font-family=\"Times,serif\" font-size=\"14.00\">1</text>\n",
       "</g>\n",
       "<!-- S10 -->\n",
       "<g id=\"node6\" class=\"node\"><title>S10</title>\n",
       "<ellipse fill=\"none\" stroke=\"black\" cx=\"373.95\" cy=\"-207\" rx=\"23.7379\" ry=\"23.7379\"/>\n",
       "<text text-anchor=\"middle\" x=\"373.95\" y=\"-202.8\" font-family=\"Times,serif\" font-size=\"14.00\">S10</text>\n",
       "</g>\n",
       "<!-- S1&#45;&gt;S10 -->\n",
       "<g id=\"edge6\" class=\"edge\"><title>S1&#45;&gt;S10</title>\n",
       "<path fill=\"none\" stroke=\"black\" d=\"M208.951,-207C239.599,-207 301.315,-207 339.683,-207\"/>\n",
       "<polygon fill=\"black\" stroke=\"black\" points=\"339.84,-210.5 349.84,-207 339.84,-203.5 339.84,-210.5\"/>\n",
       "<text text-anchor=\"middle\" x=\"275.438\" y=\"-209.8\" font-family=\"Times,serif\" font-size=\"14.00\">0</text>\n",
       "</g>\n",
       "<!-- F101 -->\n",
       "<g id=\"node13\" class=\"node\"><title>F101</title>\n",
       "<ellipse fill=\"none\" stroke=\"black\" cx=\"481.206\" cy=\"-196\" rx=\"28.1078\" ry=\"28.1078\"/>\n",
       "<ellipse fill=\"none\" stroke=\"black\" cx=\"481.206\" cy=\"-196\" rx=\"32.082\" ry=\"32.082\"/>\n",
       "<text text-anchor=\"middle\" x=\"481.206\" y=\"-191.8\" font-family=\"Times,serif\" font-size=\"14.00\">F101</text>\n",
       "</g>\n",
       "<!-- S10&#45;&gt;F101 -->\n",
       "<g id=\"edge13\" class=\"edge\"><title>S10&#45;&gt;F101</title>\n",
       "<path fill=\"none\" stroke=\"black\" d=\"M397.789,-204.613C409.855,-203.352 425.036,-201.766 439.071,-200.299\"/>\n",
       "<polygon fill=\"black\" stroke=\"black\" points=\"439.445,-203.779 449.027,-199.259 438.717,-196.817 439.445,-203.779\"/>\n",
       "<text text-anchor=\"middle\" x=\"427.416\" y=\"-204.8\" font-family=\"Times,serif\" font-size=\"14.00\">1</text>\n",
       "</g>\n",
       "<!-- F100 -->\n",
       "<g id=\"node14\" class=\"node\"><title>F100</title>\n",
       "<ellipse fill=\"none\" stroke=\"black\" cx=\"688.368\" cy=\"-190\" rx=\"28.1078\" ry=\"28.1078\"/>\n",
       "<ellipse fill=\"none\" stroke=\"black\" cx=\"688.368\" cy=\"-190\" rx=\"32.082\" ry=\"32.082\"/>\n",
       "<text text-anchor=\"middle\" x=\"688.368\" y=\"-185.8\" font-family=\"Times,serif\" font-size=\"14.00\">F100</text>\n",
       "</g>\n",
       "<!-- S10&#45;&gt;F100 -->\n",
       "<g id=\"edge12\" class=\"edge\"><title>S10&#45;&gt;F100</title>\n",
       "<path fill=\"none\" stroke=\"black\" d=\"M394.997,-218.485C436.74,-240.827 535.549,-285.464 613.077,-256 631.142,-249.135 647.622,-235.641 660.445,-222.634\"/>\n",
       "<polygon fill=\"black\" stroke=\"black\" points=\"663.246,-224.764 667.556,-215.086 658.151,-219.964 663.246,-224.764\"/>\n",
       "<text text-anchor=\"middle\" x=\"534.997\" y=\"-267.8\" font-family=\"Times,serif\" font-size=\"14.00\">0</text>\n",
       "</g>\n",
       "<!-- S000 -->\n",
       "<g id=\"node7\" class=\"node\"><title>S000</title>\n",
       "<ellipse fill=\"none\" stroke=\"black\" cx=\"791.948\" cy=\"-274\" rx=\"28.0822\" ry=\"28.0822\"/>\n",
       "<text text-anchor=\"middle\" x=\"791.948\" y=\"-269.8\" font-family=\"Times,serif\" font-size=\"14.00\">S000</text>\n",
       "</g>\n",
       "<!-- S000&#45;&gt;S000 -->\n",
       "<g id=\"edge16\" class=\"edge\"><title>S000&#45;&gt;S000</title>\n",
       "<path fill=\"none\" stroke=\"black\" d=\"M782.984,-301.102C782.585,-311.581 785.573,-320.29 791.948,-320.29 796.032,-320.29 798.727,-316.716 800.031,-311.392\"/>\n",
       "<polygon fill=\"black\" stroke=\"black\" points=\"803.546,-311.365 800.913,-301.102 796.571,-310.766 803.546,-311.365\"/>\n",
       "<text text-anchor=\"middle\" x=\"791.948\" y=\"-323.09\" font-family=\"Times,serif\" font-size=\"14.00\">0</text>\n",
       "</g>\n",
       "<!-- S001 -->\n",
       "<g id=\"node9\" class=\"node\"><title>S001</title>\n",
       "<ellipse fill=\"none\" stroke=\"black\" cx=\"891.529\" cy=\"-218\" rx=\"28.0822\" ry=\"28.0822\"/>\n",
       "<text text-anchor=\"middle\" x=\"891.529\" y=\"-213.8\" font-family=\"Times,serif\" font-size=\"14.00\">S001</text>\n",
       "</g>\n",
       "<!-- S000&#45;&gt;S001 -->\n",
       "<g id=\"edge17\" class=\"edge\"><title>S000&#45;&gt;S001</title>\n",
       "<path fill=\"none\" stroke=\"black\" d=\"M817.07,-260.157C829.359,-253.105 844.482,-244.426 857.806,-236.779\"/>\n",
       "<polygon fill=\"black\" stroke=\"black\" points=\"859.754,-239.697 866.686,-231.683 856.27,-233.625 859.754,-239.697\"/>\n",
       "<text text-anchor=\"middle\" x=\"841.739\" y=\"-250.8\" font-family=\"Times,serif\" font-size=\"14.00\">1</text>\n",
       "</g>\n",
       "<!-- S010&#45;&gt;F101 -->\n",
       "<g id=\"edge21\" class=\"edge\"><title>S010&#45;&gt;F101</title>\n",
       "<path fill=\"none\" stroke=\"black\" d=\"M556.508,-215.583C548.412,-214.366 539.556,-212.833 531.497,-211 528.313,-210.276 525.036,-209.454 521.755,-208.575\"/>\n",
       "<polygon fill=\"black\" stroke=\"black\" points=\"522.573,-205.169 511.998,-205.817 520.668,-211.905 522.573,-205.169\"/>\n",
       "<text text-anchor=\"middle\" x=\"534.997\" y=\"-215.8\" font-family=\"Times,serif\" font-size=\"14.00\">1</text>\n",
       "</g>\n",
       "<!-- S010&#45;&gt;F100 -->\n",
       "<g id=\"edge20\" class=\"edge\"><title>S010&#45;&gt;F100</title>\n",
       "<path fill=\"none\" stroke=\"black\" d=\"M612.211,-211.456C622.958,-208.388 635.612,-204.776 647.441,-201.399\"/>\n",
       "<polygon fill=\"black\" stroke=\"black\" points=\"648.468,-204.745 657.123,-198.634 646.547,-198.014 648.468,-204.745\"/>\n",
       "<text text-anchor=\"middle\" x=\"634.577\" y=\"-208.8\" font-family=\"Times,serif\" font-size=\"14.00\">0</text>\n",
       "</g>\n",
       "<!-- S001&#45;&gt;S010 -->\n",
       "<g id=\"edge18\" class=\"edge\"><title>S001&#45;&gt;S010</title>\n",
       "<path fill=\"none\" stroke=\"black\" d=\"M863.417,-221.962C819.718,-227.795 731.022,-237.351 656.077,-231 645.14,-230.073 633.348,-228.349 622.604,-226.491\"/>\n",
       "<polygon fill=\"black\" stroke=\"black\" points=\"623.151,-223.033 612.687,-224.69 621.901,-229.92 623.151,-223.033\"/>\n",
       "<text text-anchor=\"middle\" x=\"742.158\" y=\"-235.8\" font-family=\"Times,serif\" font-size=\"14.00\">0</text>\n",
       "</g>\n",
       "<!-- S001&#45;&gt;S011 -->\n",
       "<g id=\"edge19\" class=\"edge\"><title>S001&#45;&gt;S011</title>\n",
       "<path fill=\"none\" stroke=\"black\" d=\"M913.155,-199.337C927.305,-186.534 946.253,-169.39 961.767,-155.352\"/>\n",
       "<polygon fill=\"black\" stroke=\"black\" points=\"964.457,-157.639 969.524,-148.334 959.76,-152.448 964.457,-157.639\"/>\n",
       "<text text-anchor=\"middle\" x=\"941.319\" y=\"-179.8\" font-family=\"Times,serif\" font-size=\"14.00\">1</text>\n",
       "</g>\n",
       "<!-- S00 -->\n",
       "<g id=\"node10\" class=\"node\"><title>S00</title>\n",
       "<ellipse fill=\"none\" stroke=\"black\" cx=\"688.368\" cy=\"-360\" rx=\"23.7379\" ry=\"23.7379\"/>\n",
       "<text text-anchor=\"middle\" x=\"688.368\" y=\"-355.8\" font-family=\"Times,serif\" font-size=\"14.00\">S00</text>\n",
       "</g>\n",
       "<!-- S00&#45;&gt;S000 -->\n",
       "<g id=\"edge8\" class=\"edge\"><title>S00&#45;&gt;S000</title>\n",
       "<path fill=\"none\" stroke=\"black\" d=\"M707.062,-345.02C722.146,-332.25 744.127,-313.64 761.805,-298.673\"/>\n",
       "<polygon fill=\"black\" stroke=\"black\" points=\"764.214,-301.22 769.584,-292.087 759.691,-295.878 764.214,-301.22\"/>\n",
       "<text text-anchor=\"middle\" x=\"742.158\" y=\"-319.8\" font-family=\"Times,serif\" font-size=\"14.00\">0</text>\n",
       "</g>\n",
       "<!-- S00&#45;&gt;S001 -->\n",
       "<g id=\"edge9\" class=\"edge\"><title>S00&#45;&gt;S001</title>\n",
       "<path fill=\"none\" stroke=\"black\" d=\"M712.331,-362.873C740.284,-365.143 787.768,-364.923 820.239,-343 850.787,-322.375 869.51,-283.801 879.869,-254.935\"/>\n",
       "<polygon fill=\"black\" stroke=\"black\" points=\"883.282,-255.77 883.19,-245.176 876.656,-253.515 883.282,-255.77\"/>\n",
       "<text text-anchor=\"middle\" x=\"791.948\" y=\"-364.8\" font-family=\"Times,serif\" font-size=\"14.00\">1</text>\n",
       "</g>\n",
       "<!-- S0&#45;&gt;S01 -->\n",
       "<g id=\"edge5\" class=\"edge\"><title>S0&#45;&gt;S01</title>\n",
       "<path fill=\"none\" stroke=\"black\" d=\"M393.767,-358C408.458,-358 429.244,-358 446.751,-358\"/>\n",
       "<polygon fill=\"black\" stroke=\"black\" points=\"447.144,-361.5 457.144,-358 447.144,-354.5 447.144,-361.5\"/>\n",
       "<text text-anchor=\"middle\" x=\"427.416\" y=\"-360.8\" font-family=\"Times,serif\" font-size=\"14.00\">1</text>\n",
       "</g>\n",
       "<!-- S0&#45;&gt;S00 -->\n",
       "<g id=\"edge4\" class=\"edge\"><title>S0&#45;&gt;S00</title>\n",
       "<path fill=\"none\" stroke=\"black\" d=\"M391.103,-367.753C418.694,-383.769 477.195,-414.968 531.497,-426 579.725,-435.798 631.558,-404.533 661.641,-381.736\"/>\n",
       "<polygon fill=\"black\" stroke=\"black\" points=\"664.171,-384.2 669.889,-375.28 659.857,-378.687 664.171,-384.2\"/>\n",
       "<text text-anchor=\"middle\" x=\"534.997\" y=\"-429.8\" font-family=\"Times,serif\" font-size=\"14.00\">0</text>\n",
       "</g>\n",
       "<!-- S011&#45;&gt;F110 -->\n",
       "<g id=\"edge22\" class=\"edge\"><title>S011&#45;&gt;F110</title>\n",
       "<path fill=\"none\" stroke=\"black\" d=\"M967.38,-114.122C948.384,-102.228 919.933,-88 892.529,-88 741.158,-88 741.158,-88 741.158,-88 622.855,-88 483.635,-102.188 415.988,-109.994\"/>\n",
       "<polygon fill=\"black\" stroke=\"black\" points=\"415.286,-106.552 405.759,-111.189 416.098,-113.505 415.286,-106.552\"/>\n",
       "<text text-anchor=\"middle\" x=\"688.368\" y=\"-92.8\" font-family=\"Times,serif\" font-size=\"14.00\">0</text>\n",
       "</g>\n",
       "<!-- S011&#45;&gt;F111 -->\n",
       "<g id=\"edge23\" class=\"edge\"><title>S011&#45;&gt;F111</title>\n",
       "<path fill=\"none\" stroke=\"black\" d=\"M1012.63,-111.766C1026.65,-99.5054 1045.38,-83.123 1061.17,-69.3144\"/>\n",
       "<polygon fill=\"black\" stroke=\"black\" points=\"1063.89,-71.5816 1069.11,-62.3634 1059.28,-66.3127 1063.89,-71.5816\"/>\n",
       "<text text-anchor=\"middle\" x=\"1040.25\" y=\"-91.8\" font-family=\"Times,serif\" font-size=\"14.00\">1</text>\n",
       "</g>\n",
       "<!-- F101&#45;&gt;S010 -->\n",
       "<g id=\"edge26\" class=\"edge\"><title>F101&#45;&gt;S010</title>\n",
       "<path fill=\"none\" stroke=\"black\" d=\"M513.242,-190.904C521.553,-190.468 530.459,-190.857 538.497,-193 543.178,-194.248 547.879,-196.108 552.386,-198.27\"/>\n",
       "<polygon fill=\"black\" stroke=\"black\" points=\"550.83,-201.407 561.3,-203.033 554.129,-195.233 550.83,-201.407\"/>\n",
       "<text text-anchor=\"middle\" x=\"534.997\" y=\"-195.8\" font-family=\"Times,serif\" font-size=\"14.00\">0</text>\n",
       "</g>\n",
       "<!-- F101&#45;&gt;S011 -->\n",
       "<g id=\"edge27\" class=\"edge\"><title>F101&#45;&gt;S011</title>\n",
       "<path fill=\"none\" stroke=\"black\" d=\"M511.108,-183.586C558.317,-164.467 655.329,-130 741.158,-130 741.158,-130 741.158,-130 892.529,-130 912.29,-130 934.309,-130 952.391,-130\"/>\n",
       "<polygon fill=\"black\" stroke=\"black\" points=\"952.537,-133.5 962.537,-130 952.537,-126.5 952.537,-133.5\"/>\n",
       "<text text-anchor=\"middle\" x=\"742.158\" y=\"-132.8\" font-family=\"Times,serif\" font-size=\"14.00\">1</text>\n",
       "</g>\n",
       "<!-- F100&#45;&gt;S000 -->\n",
       "<g id=\"edge24\" class=\"edge\"><title>F100&#45;&gt;S000</title>\n",
       "<path fill=\"none\" stroke=\"black\" d=\"M719.627,-198.892C728.558,-202.4 737.986,-207.045 745.658,-213 755.59,-220.708 764.404,-231.132 771.556,-241.182\"/>\n",
       "<polygon fill=\"black\" stroke=\"black\" points=\"768.659,-243.145 777.161,-249.467 774.457,-239.223 768.659,-243.145\"/>\n",
       "<text text-anchor=\"middle\" x=\"742.158\" y=\"-215.8\" font-family=\"Times,serif\" font-size=\"14.00\">0</text>\n",
       "</g>\n",
       "<!-- F100&#45;&gt;S001 -->\n",
       "<g id=\"edge25\" class=\"edge\"><title>F100&#45;&gt;S001</title>\n",
       "<path fill=\"none\" stroke=\"black\" d=\"M720.617,-186.718C747.329,-184.69 786.657,-183.557 820.239,-190 832.412,-192.335 845.161,-196.753 856.407,-201.401\"/>\n",
       "<polygon fill=\"black\" stroke=\"black\" points=\"855.284,-204.729 865.851,-205.498 858.07,-198.307 855.284,-204.729\"/>\n",
       "<text text-anchor=\"middle\" x=\"791.948\" y=\"-192.8\" font-family=\"Times,serif\" font-size=\"14.00\">1</text>\n",
       "</g>\n",
       "<!-- F110&#45;&gt;F101 -->\n",
       "<g id=\"edge29\" class=\"edge\"><title>F110&#45;&gt;F101</title>\n",
       "<path fill=\"none\" stroke=\"black\" d=\"M399.894,-134.196C413.949,-145.011 431.685,-158.661 446.914,-170.38\"/>\n",
       "<polygon fill=\"black\" stroke=\"black\" points=\"445.017,-173.336 455.076,-176.661 449.286,-167.789 445.017,-173.336\"/>\n",
       "<text text-anchor=\"middle\" x=\"427.416\" y=\"-160.8\" font-family=\"Times,serif\" font-size=\"14.00\">1</text>\n",
       "</g>\n",
       "<!-- F110&#45;&gt;F100 -->\n",
       "<g id=\"edge28\" class=\"edge\"><title>F110&#45;&gt;F100</title>\n",
       "<path fill=\"none\" stroke=\"black\" d=\"M406.078,-116.652C439.269,-118.912 493.183,-124.017 538.497,-135 577.11,-144.359 619.458,-160.625 649.081,-173.048\"/>\n",
       "<polygon fill=\"black\" stroke=\"black\" points=\"648.043,-176.409 658.616,-177.098 650.78,-169.966 648.043,-176.409\"/>\n",
       "<text text-anchor=\"middle\" x=\"534.997\" y=\"-137.8\" font-family=\"Times,serif\" font-size=\"14.00\">0</text>\n",
       "</g>\n",
       "<!-- F111&#45;&gt;F110 -->\n",
       "<g id=\"edge30\" class=\"edge\"><title>F111&#45;&gt;F110</title>\n",
       "<path fill=\"none\" stroke=\"black\" d=\"M1061.57,-42C1041.66,-42 1015.19,-42 991.786,-42 480.206,-42 480.206,-42 480.206,-42 449.444,-42 421.195,-63.3139 401.724,-82.9081\"/>\n",
       "<polygon fill=\"black\" stroke=\"black\" points=\"399.062,-80.6283 394.704,-90.2855 404.133,-85.4535 399.062,-80.6283\"/>\n",
       "<text text-anchor=\"middle\" x=\"742.158\" y=\"-44.8\" font-family=\"Times,serif\" font-size=\"14.00\">0</text>\n",
       "</g>\n",
       "<!-- F111&#45;&gt;F111 -->\n",
       "<g id=\"edge31\" class=\"edge\"><title>F111&#45;&gt;F111</title>\n",
       "<path fill=\"none\" stroke=\"black\" d=\"M1083.65,-72.5404C1083.54,-83.1083 1086.79,-91.6426 1093.4,-91.6426 1097.62,-91.6426 1100.48,-88.1401 1101.96,-82.8443\"/>\n",
       "<polygon fill=\"black\" stroke=\"black\" points=\"1105.47,-82.8754 1103.14,-72.5404 1098.52,-82.0738 1105.47,-82.8754\"/>\n",
       "<text text-anchor=\"middle\" x=\"1093.4\" y=\"-94.4426\" font-family=\"Times,serif\" font-size=\"14.00\">1</text>\n",
       "</g>\n",
       "</g>\n",
       "</svg>\n"
      ],
      "text/plain": [
       "<graphviz.dot.Digraph at 0x10f3bf160>"
      ]
     },
     "execution_count": 38,
     "metadata": {},
     "output_type": "execute_result"
    }
   ],
   "source": [
    "dotObj_dfa(thirdlastis1)"
   ]
  },
  {
   "cell_type": "code",
   "execution_count": 39,
   "metadata": {
    "run_control": {
     "frozen": false,
     "read_only": false
    }
   },
   "outputs": [],
   "source": [
    "dped1=md2mc(src=\"File\", fname=\"pedagogical2.dfa\")\n",
    "#machines/dfafiles/pedagogical2.dfa"
   ]
  },
  {
   "cell_type": "code",
   "execution_count": 40,
   "metadata": {
    "run_control": {
     "frozen": false,
     "read_only": false
    }
   },
   "outputs": [
    {
     "data": {
      "image/svg+xml": [
       "<?xml version=\"1.0\" encoding=\"UTF-8\" standalone=\"no\"?>\n",
       "<!DOCTYPE svg PUBLIC \"-//W3C//DTD SVG 1.1//EN\"\n",
       " \"http://www.w3.org/Graphics/SVG/1.1/DTD/svg11.dtd\">\n",
       "<!-- Generated by graphviz version 2.38.0 (20140413.2041)\n",
       " -->\n",
       "<!-- Title: %3 Pages: 1 -->\n",
       "<svg width=\"473pt\" height=\"74pt\"\n",
       " viewBox=\"0.00 0.00 472.79 74.00\" xmlns=\"http://www.w3.org/2000/svg\" xmlns:xlink=\"http://www.w3.org/1999/xlink\">\n",
       "<g id=\"graph0\" class=\"graph\" transform=\"scale(1 1) rotate(0) translate(4 70)\">\n",
       "<title>%3</title>\n",
       "<polygon fill=\"white\" stroke=\"none\" points=\"-4,4 -4,-70 468.787,-70 468.787,4 -4,4\"/>\n",
       "<!-- EMPTY -->\n",
       "<g id=\"node1\" class=\"node\"><title>EMPTY</title>\n",
       "</g>\n",
       "<!-- I -->\n",
       "<g id=\"node3\" class=\"node\"><title>I</title>\n",
       "<ellipse fill=\"none\" stroke=\"black\" cx=\"109\" cy=\"-18\" rx=\"18\" ry=\"18\"/>\n",
       "<text text-anchor=\"middle\" x=\"109\" y=\"-13.8\" font-family=\"Times,serif\" font-size=\"14.00\">I</text>\n",
       "</g>\n",
       "<!-- EMPTY&#45;&gt;I -->\n",
       "<g id=\"edge1\" class=\"edge\"><title>EMPTY&#45;&gt;I</title>\n",
       "<path fill=\"none\" stroke=\"black\" d=\"M54.195,-18C62.6538,-18 72.0513,-18 80.5951,-18\"/>\n",
       "<polygon fill=\"black\" stroke=\"black\" points=\"80.8257,-21.5001 90.8257,-18 80.8257,-14.5001 80.8257,-21.5001\"/>\n",
       "</g>\n",
       "<!-- A -->\n",
       "<g id=\"node2\" class=\"node\"><title>A</title>\n",
       "<ellipse fill=\"none\" stroke=\"black\" cx=\"188\" cy=\"-48\" rx=\"18\" ry=\"18\"/>\n",
       "<text text-anchor=\"middle\" x=\"188\" y=\"-43.8\" font-family=\"Times,serif\" font-size=\"14.00\">A</text>\n",
       "</g>\n",
       "<!-- B -->\n",
       "<g id=\"node4\" class=\"node\"><title>B</title>\n",
       "<ellipse fill=\"none\" stroke=\"black\" cx=\"267\" cy=\"-31\" rx=\"18\" ry=\"18\"/>\n",
       "<text text-anchor=\"middle\" x=\"267\" y=\"-26.8\" font-family=\"Times,serif\" font-size=\"14.00\">B</text>\n",
       "</g>\n",
       "<!-- A&#45;&gt;B -->\n",
       "<g id=\"edge4\" class=\"edge\"><title>A&#45;&gt;B</title>\n",
       "<path fill=\"none\" stroke=\"black\" d=\"M206.354,-48.5543C213.997,-48.446 223.032,-47.834 231,-46 234.455,-45.2048 237.998,-44.0845 241.441,-42.8103\"/>\n",
       "<polygon fill=\"black\" stroke=\"black\" points=\"242.831,-46.023 250.722,-38.9536 240.144,-39.5589 242.831,-46.023\"/>\n",
       "<text text-anchor=\"middle\" x=\"227.5\" y=\"-49.8\" font-family=\"Times,serif\" font-size=\"14.00\">0</text>\n",
       "</g>\n",
       "<!-- A&#45;&gt;B -->\n",
       "<g id=\"edge5\" class=\"edge\"><title>A&#45;&gt;B</title>\n",
       "<path fill=\"none\" stroke=\"black\" d=\"M202.907,-37.8326C209.051,-33.9464 216.56,-29.9759 224,-28 228.782,-26.73 233.972,-26.3413 239.019,-26.4566\"/>\n",
       "<polygon fill=\"black\" stroke=\"black\" points=\"238.749,-29.9462 249.003,-27.2805 239.325,-22.9699 238.749,-29.9462\"/>\n",
       "<text text-anchor=\"middle\" x=\"227.5\" y=\"-30.8\" font-family=\"Times,serif\" font-size=\"14.00\">1</text>\n",
       "</g>\n",
       "<!-- I&#45;&gt;A -->\n",
       "<g id=\"edge2\" class=\"edge\"><title>I&#45;&gt;A</title>\n",
       "<path fill=\"none\" stroke=\"black\" d=\"M125.954,-24.216C136.279,-28.2385 149.943,-33.5621 161.726,-38.1528\"/>\n",
       "<polygon fill=\"black\" stroke=\"black\" points=\"160.478,-41.4228 171.066,-41.7919 163.019,-34.9004 160.478,-41.4228\"/>\n",
       "<text text-anchor=\"middle\" x=\"148.5\" y=\"-35.8\" font-family=\"Times,serif\" font-size=\"14.00\">0</text>\n",
       "</g>\n",
       "<!-- I&#45;&gt;B -->\n",
       "<g id=\"edge3\" class=\"edge\"><title>I&#45;&gt;B</title>\n",
       "<path fill=\"none\" stroke=\"black\" d=\"M126.422,-13.1049C145.63,-8.07317 178.325,-1.67034 206,-7 218.146,-9.33908 230.958,-14.1148 241.611,-18.7945\"/>\n",
       "<polygon fill=\"black\" stroke=\"black\" points=\"240.159,-21.9791 250.705,-22.9926 243.093,-15.6236 240.159,-21.9791\"/>\n",
       "<text text-anchor=\"middle\" x=\"188\" y=\"-9.8\" font-family=\"Times,serif\" font-size=\"14.00\">1</text>\n",
       "</g>\n",
       "<!-- F1 -->\n",
       "<g id=\"node6\" class=\"node\"><title>F1</title>\n",
       "<ellipse fill=\"none\" stroke=\"black\" cx=\"351.447\" cy=\"-31\" rx=\"19.4029\" ry=\"19.4029\"/>\n",
       "<ellipse fill=\"none\" stroke=\"black\" cx=\"351.447\" cy=\"-31\" rx=\"23.3939\" ry=\"23.3939\"/>\n",
       "<text text-anchor=\"middle\" x=\"351.447\" y=\"-26.8\" font-family=\"Times,serif\" font-size=\"14.00\">F1</text>\n",
       "</g>\n",
       "<!-- B&#45;&gt;F1 -->\n",
       "<g id=\"edge6\" class=\"edge\"><title>B&#45;&gt;F1</title>\n",
       "<path fill=\"none\" stroke=\"black\" d=\"M285.083,-31C294.448,-31 306.379,-31 317.478,-31\"/>\n",
       "<polygon fill=\"black\" stroke=\"black\" points=\"317.753,-34.5001 327.753,-31 317.753,-27.5001 317.753,-34.5001\"/>\n",
       "<text text-anchor=\"middle\" x=\"306.5\" y=\"-33.8\" font-family=\"Times,serif\" font-size=\"14.00\">1</text>\n",
       "</g>\n",
       "<!-- F2 -->\n",
       "<g id=\"node5\" class=\"node\"><title>F2</title>\n",
       "<ellipse fill=\"none\" stroke=\"black\" cx=\"441.341\" cy=\"-31\" rx=\"19.4029\" ry=\"19.4029\"/>\n",
       "<ellipse fill=\"none\" stroke=\"black\" cx=\"441.341\" cy=\"-31\" rx=\"23.3939\" ry=\"23.3939\"/>\n",
       "<text text-anchor=\"middle\" x=\"441.341\" y=\"-26.8\" font-family=\"Times,serif\" font-size=\"14.00\">F2</text>\n",
       "</g>\n",
       "<!-- F1&#45;&gt;F2 -->\n",
       "<g id=\"edge7\" class=\"edge\"><title>F1&#45;&gt;F2</title>\n",
       "<path fill=\"none\" stroke=\"black\" d=\"M375.082,-31C385.026,-31 396.892,-31 407.762,-31\"/>\n",
       "<polygon fill=\"black\" stroke=\"black\" points=\"407.783,-34.5001 417.782,-31 407.782,-27.5001 407.783,-34.5001\"/>\n",
       "<text text-anchor=\"middle\" x=\"396.394\" y=\"-33.8\" font-family=\"Times,serif\" font-size=\"14.00\">0</text>\n",
       "</g>\n",
       "<!-- F1&#45;&gt;F2 -->\n",
       "<g id=\"edge8\" class=\"edge\"><title>F1&#45;&gt;F2</title>\n",
       "<path fill=\"none\" stroke=\"black\" d=\"M372.461,-20.1126C378.808,-17.2076 385.977,-14.4696 392.894,-13 399.228,-11.6542 405.836,-12.565 412.038,-14.5475\"/>\n",
       "<polygon fill=\"black\" stroke=\"black\" points=\"410.774,-17.8118 421.354,-18.3747 413.434,-11.337 410.774,-17.8118\"/>\n",
       "<text text-anchor=\"middle\" x=\"396.394\" y=\"-15.8\" font-family=\"Times,serif\" font-size=\"14.00\">1</text>\n",
       "</g>\n",
       "</g>\n",
       "</svg>\n"
      ],
      "text/plain": [
       "<graphviz.dot.Digraph at 0x10f3b89e8>"
      ]
     },
     "execution_count": 40,
     "metadata": {},
     "output_type": "execute_result"
    }
   ],
   "source": [
    "dotObj_dfa(dped1)"
   ]
  },
  {
   "cell_type": "code",
   "execution_count": 41,
   "metadata": {
    "run_control": {
     "frozen": false,
     "read_only": false
    }
   },
   "outputs": [],
   "source": [
    "secondLastIs1 = md2mc('''\n",
    "!!------------------------------------------------------------\n",
    "!! This DFA looks for patterns of the form ....1.\n",
    "!! i.e., the second-last (counting from the end-point) is a 1\n",
    "!!\n",
    "!! DFAs find such patterns \"very stressful to handle\",\n",
    "!! as they are kept guessing of the form  'are we there yet?'\n",
    "!! 'are we seeing the second-last' ?\n",
    "!! They must keep all the failure options at hand. Even after\n",
    "!! a 'fleeting glimpse' of the second-last, more inputs can\n",
    "!! come barreling-in to make that \"lucky 1\" a non-second-last.\n",
    "!!\n",
    "!! We take 7 states in the DFA solution.\n",
    "!!------------------------------------------------------------\n",
    "\n",
    "DFA\n",
    "!!------------------------------------------------------------\n",
    "!! State : in ->  tostate !! comment\n",
    "!!------------------------------------------------------------\n",
    "\n",
    "I   :  0 ->  S0  !! Enter at init state I\n",
    "I   :  1 ->  S1  !! Record bit seen in state letter\n",
    "                     !! i.e., S0 means \"state after seeing a 0\"\n",
    "\t\t\t \n",
    "S0  :  0 ->  S00 !! continue recording input seen\n",
    "S0  :  1 ->  S01 !! in state-letter. This is a problem-specific\n",
    "                 !! way of compressing the input seen so far.\n",
    "\n",
    "S1  :  0 ->  F10 !! We now have a \"second last\" available!\n",
    "S1  :  1 ->  F11 !! Both F10 and F10 are \"F\" (final)\n",
    "\n",
    "S00 :  0 ->  S00 !! History of things seen is still 00\n",
    "S00 :  1 ->  S01 !! Remember 01 in the state\n",
    "\n",
    "S01 :  0 ->  F10 !! We again have a second-last of 1\n",
    "S01 :  1 ->  F11 !! We are in F11 because of 11 being last seen\n",
    "\n",
    "F10 :  0 ->  S00 !! The second-last 1 gets pushed-out\n",
    "F10 :  1 ->  S01 !! The second-last 1 gets pushed-out here too\n",
    "\n",
    "F11 :  0 ->  F10 !! Still we have a second-last 1\n",
    "F11 :  1 ->  F11 !! Stay in F11, as last two seen are 11\n",
    "\n",
    "!!------------------------------------------------------------\n",
    "''')"
   ]
  },
  {
   "cell_type": "code",
   "execution_count": null,
   "metadata": {
    "run_control": {
     "frozen": false,
     "read_only": false
    }
   },
   "outputs": [],
   "source": []
  },
  {
   "cell_type": "code",
   "execution_count": 42,
   "metadata": {
    "run_control": {
     "frozen": false,
     "read_only": false
    }
   },
   "outputs": [
    {
     "data": {
      "text/plain": [
       "'0101'"
      ]
     },
     "execution_count": 42,
     "metadata": {},
     "output_type": "execute_result"
    }
   ],
   "source": [
    "nthnumeric(20,['0','1'])"
   ]
  },
  {
   "cell_type": "code",
   "execution_count": 43,
   "metadata": {
    "run_control": {
     "frozen": false,
     "read_only": false
    }
   },
   "outputs": [
    {
     "data": {
      "text/plain": [
       "'S01'"
      ]
     },
     "execution_count": 43,
     "metadata": {},
     "output_type": "execute_result"
    }
   ],
   "source": [
    "run_dfa(secondLastIs1, '0101')"
   ]
  },
  {
   "cell_type": "code",
   "execution_count": 44,
   "metadata": {
    "run_control": {
     "frozen": false,
     "read_only": false
    }
   },
   "outputs": [
    {
     "data": {
      "text/plain": [
       "False"
      ]
     },
     "execution_count": 44,
     "metadata": {},
     "output_type": "execute_result"
    }
   ],
   "source": [
    "accepts_dfa(secondLastIs1, '0101')"
   ]
  },
  {
   "cell_type": "code",
   "execution_count": 45,
   "metadata": {
    "run_control": {
     "frozen": false,
     "read_only": false
    }
   },
   "outputs": [
    {
     "name": "stdout",
     "output_type": "stream",
     "text": [
      "This DFA rejects  \n",
      "This DFA rejects  0\n",
      "This DFA rejects  1\n",
      "This DFA rejects  00\n",
      "This DFA rejects  01\n",
      "This DFA accepts  10\n",
      "This DFA accepts  11\n",
      "This DFA rejects  000\n",
      "This DFA rejects  001\n",
      "This DFA accepts  010\n",
      "This DFA accepts  011\n",
      "This DFA rejects  100\n"
     ]
    }
   ],
   "source": [
    "tests = [ nthnumeric(i, ['0','1']) for i in range(12) ]\n",
    "for t in tests:\n",
    "    if accepts_dfa(secondLastIs1, t):\n",
    "        print(\"This DFA accepts \", t)\n",
    "    else:\n",
    "        print(\"This DFA rejects \", t)"
   ]
  },
  {
   "cell_type": "code",
   "execution_count": 46,
   "metadata": {
    "run_control": {
     "frozen": false,
     "read_only": false
    }
   },
   "outputs": [
    {
     "name": "stdout",
     "output_type": "stream",
     "text": [
      "Help on function run_dfa in module jove.Def_DFA:\n",
      "\n",
      "run_dfa(D, s)\n",
      "    In : D (consistent DFA)\n",
      "         s (string over D's sigma, including \"\")\n",
      "    Out: next state of D[\"q0\"] via string s\n",
      "\n"
     ]
    }
   ],
   "source": [
    "help(run_dfa)"
   ]
  },
  {
   "cell_type": "markdown",
   "metadata": {
    "run_control": {
     "frozen": false,
     "read_only": false
    }
   },
   "source": [
    "# Study DeMorgan's Law on DFA\n",
    "\n",
    "This is an extensive illustration of union, intersection and complementation, DFA minimization, isomorphism test, language equivalence test, and an application of DeMorgan's law\n",
    "\n",
    "## Define a DFA for \"odd 1s\" (over {0,1})"
   ]
  },
  {
   "cell_type": "code",
   "execution_count": 47,
   "metadata": {
    "run_control": {
     "frozen": false,
     "read_only": false
    }
   },
   "outputs": [],
   "source": [
    "dfaOdd1s = md2mc('''\n",
    "DFA\n",
    "I : 0 -> I\n",
    "I : 1 -> F\n",
    "F : 0 -> F \n",
    "F : 1 -> I\n",
    "''')"
   ]
  },
  {
   "cell_type": "code",
   "execution_count": 48,
   "metadata": {
    "run_control": {
     "frozen": false,
     "read_only": false
    }
   },
   "outputs": [
    {
     "data": {
      "image/svg+xml": [
       "<?xml version=\"1.0\" encoding=\"UTF-8\" standalone=\"no\"?>\n",
       "<!DOCTYPE svg PUBLIC \"-//W3C//DTD SVG 1.1//EN\"\n",
       " \"http://www.w3.org/Graphics/SVG/1.1/DTD/svg11.dtd\">\n",
       "<!-- Generated by graphviz version 2.38.0 (20140413.2041)\n",
       " -->\n",
       "<!-- Title: %3 Pages: 1 -->\n",
       "<svg width=\"222pt\" height=\"84pt\"\n",
       " viewBox=\"0.00 0.00 222.00 84.00\" xmlns=\"http://www.w3.org/2000/svg\" xmlns:xlink=\"http://www.w3.org/1999/xlink\">\n",
       "<g id=\"graph0\" class=\"graph\" transform=\"scale(1 1) rotate(0) translate(4 80)\">\n",
       "<title>%3</title>\n",
       "<polygon fill=\"white\" stroke=\"none\" points=\"-4,4 -4,-80 218,-80 218,4 -4,4\"/>\n",
       "<!-- EMPTY -->\n",
       "<g id=\"node1\" class=\"node\"><title>EMPTY</title>\n",
       "</g>\n",
       "<!-- I -->\n",
       "<g id=\"node2\" class=\"node\"><title>I</title>\n",
       "<ellipse fill=\"none\" stroke=\"black\" cx=\"109\" cy=\"-22\" rx=\"18\" ry=\"18\"/>\n",
       "<text text-anchor=\"middle\" x=\"109\" y=\"-17.8\" font-family=\"Times,serif\" font-size=\"14.00\">I</text>\n",
       "</g>\n",
       "<!-- EMPTY&#45;&gt;I -->\n",
       "<g id=\"edge1\" class=\"edge\"><title>EMPTY&#45;&gt;I</title>\n",
       "<path fill=\"none\" stroke=\"black\" d=\"M54.195,-22C62.6538,-22 72.0513,-22 80.5951,-22\"/>\n",
       "<polygon fill=\"black\" stroke=\"black\" points=\"80.8257,-25.5001 90.8257,-22 80.8257,-18.5001 80.8257,-25.5001\"/>\n",
       "</g>\n",
       "<!-- I&#45;&gt;I -->\n",
       "<g id=\"edge2\" class=\"edge\"><title>I&#45;&gt;I</title>\n",
       "<path fill=\"none\" stroke=\"black\" d=\"M102.621,-39.0373C101.319,-48.8579 103.445,-58 109,-58 112.472,-58 114.604,-54.4289 115.398,-49.3529\"/>\n",
       "<polygon fill=\"black\" stroke=\"black\" points=\"118.897,-49.031 115.379,-39.0373 111.897,-49.0435 118.897,-49.031\"/>\n",
       "<text text-anchor=\"middle\" x=\"109\" y=\"-60.8\" font-family=\"Times,serif\" font-size=\"14.00\">0</text>\n",
       "</g>\n",
       "<!-- F -->\n",
       "<g id=\"node3\" class=\"node\"><title>F</title>\n",
       "<ellipse fill=\"none\" stroke=\"black\" cx=\"192\" cy=\"-22\" rx=\"18\" ry=\"18\"/>\n",
       "<ellipse fill=\"none\" stroke=\"black\" cx=\"192\" cy=\"-22\" rx=\"22\" ry=\"22\"/>\n",
       "<text text-anchor=\"middle\" x=\"192\" y=\"-17.8\" font-family=\"Times,serif\" font-size=\"14.00\">F</text>\n",
       "</g>\n",
       "<!-- I&#45;&gt;F -->\n",
       "<g id=\"edge3\" class=\"edge\"><title>I&#45;&gt;F</title>\n",
       "<path fill=\"none\" stroke=\"black\" d=\"M127.178,-22C136.61,-22 148.601,-22 159.637,-22\"/>\n",
       "<polygon fill=\"black\" stroke=\"black\" points=\"159.811,-25.5001 169.811,-22 159.811,-18.5001 159.811,-25.5001\"/>\n",
       "<text text-anchor=\"middle\" x=\"148.5\" y=\"-24.8\" font-family=\"Times,serif\" font-size=\"14.00\">1</text>\n",
       "</g>\n",
       "<!-- F&#45;&gt;I -->\n",
       "<g id=\"edge5\" class=\"edge\"><title>F&#45;&gt;I</title>\n",
       "<path fill=\"none\" stroke=\"black\" d=\"M173.45,-9.63813C165.02,-5.13585 154.669,-1.65948 145,-4 141.26,-4.9053 137.472,-6.28328 133.838,-7.8822\"/>\n",
       "<polygon fill=\"black\" stroke=\"black\" points=\"132.086,-4.84541 124.717,-12.4577 135.225,-11.1023 132.086,-4.84541\"/>\n",
       "<text text-anchor=\"middle\" x=\"148.5\" y=\"-6.8\" font-family=\"Times,serif\" font-size=\"14.00\">1</text>\n",
       "</g>\n",
       "<!-- F&#45;&gt;F -->\n",
       "<g id=\"edge4\" class=\"edge\"><title>F&#45;&gt;F</title>\n",
       "<path fill=\"none\" stroke=\"black\" d=\"M184.317,-42.9908C183.369,-53.0872 185.93,-62 192,-62 195.889,-62 198.337,-58.3422 199.346,-53.0587\"/>\n",
       "<polygon fill=\"black\" stroke=\"black\" points=\"202.846,-53.1023 199.683,-42.9908 195.85,-52.868 202.846,-53.1023\"/>\n",
       "<text text-anchor=\"middle\" x=\"192\" y=\"-64.8\" font-family=\"Times,serif\" font-size=\"14.00\">0</text>\n",
       "</g>\n",
       "</g>\n",
       "</svg>\n"
      ],
      "text/plain": [
       "<graphviz.dot.Digraph at 0x10fc02c88>"
      ]
     },
     "execution_count": 48,
     "metadata": {},
     "output_type": "execute_result"
    }
   ],
   "source": [
    "dotObj_dfa(dfaOdd1s)"
   ]
  },
  {
   "cell_type": "markdown",
   "metadata": {
    "run_control": {
     "frozen": false,
     "read_only": false
    }
   },
   "source": [
    "## Define a DFA for \"ends in 0101\""
   ]
  },
  {
   "cell_type": "code",
   "execution_count": 49,
   "metadata": {
    "run_control": {
     "frozen": false,
     "read_only": false
    }
   },
   "outputs": [],
   "source": [
    "ends0101 = md2mc('''\n",
    "DFA \n",
    "I     : 0 -> S0  \n",
    "I     : 1 -> I \n",
    "S0    : 0 -> S0 \n",
    "S0    : 1 -> S01 \n",
    "S01   : 0 -> S010 \n",
    "S01   : 1 -> I \n",
    "S010  : 0 -> S0 \n",
    "S010  : 1 -> F0101 \n",
    "F0101 : 0 -> S010 \n",
    "F0101 : 1 -> I \n",
    "''')"
   ]
  },
  {
   "cell_type": "code",
   "execution_count": 50,
   "metadata": {
    "run_control": {
     "frozen": false,
     "read_only": false
    }
   },
   "outputs": [
    {
     "data": {
      "image/svg+xml": [
       "<?xml version=\"1.0\" encoding=\"UTF-8\" standalone=\"no\"?>\n",
       "<!DOCTYPE svg PUBLIC \"-//W3C//DTD SVG 1.1//EN\"\n",
       " \"http://www.w3.org/Graphics/SVG/1.1/DTD/svg11.dtd\">\n",
       "<!-- Generated by graphviz version 2.38.0 (20140413.2041)\n",
       " -->\n",
       "<!-- Title: %3 Pages: 1 -->\n",
       "<svg width=\"524pt\" height=\"142pt\"\n",
       " viewBox=\"0.00 0.00 523.64 141.58\" xmlns=\"http://www.w3.org/2000/svg\" xmlns:xlink=\"http://www.w3.org/1999/xlink\">\n",
       "<g id=\"graph0\" class=\"graph\" transform=\"scale(1 1) rotate(0) translate(4 137.581)\">\n",
       "<title>%3</title>\n",
       "<polygon fill=\"white\" stroke=\"none\" points=\"-4,4 -4,-137.581 519.636,-137.581 519.636,4 -4,4\"/>\n",
       "<!-- EMPTY -->\n",
       "<g id=\"node1\" class=\"node\"><title>EMPTY</title>\n",
       "</g>\n",
       "<!-- I -->\n",
       "<g id=\"node4\" class=\"node\"><title>I</title>\n",
       "<ellipse fill=\"none\" stroke=\"black\" cx=\"109\" cy=\"-50.7121\" rx=\"18\" ry=\"18\"/>\n",
       "<text text-anchor=\"middle\" x=\"109\" y=\"-46.5121\" font-family=\"Times,serif\" font-size=\"14.00\">I</text>\n",
       "</g>\n",
       "<!-- EMPTY&#45;&gt;I -->\n",
       "<g id=\"edge1\" class=\"edge\"><title>EMPTY&#45;&gt;I</title>\n",
       "<path fill=\"none\" stroke=\"black\" d=\"M54.195,-50.7121C62.6538,-50.7121 72.0513,-50.7121 80.5951,-50.7121\"/>\n",
       "<polygon fill=\"black\" stroke=\"black\" points=\"80.8257,-54.2122 90.8257,-50.7121 80.8257,-47.2122 80.8257,-54.2122\"/>\n",
       "</g>\n",
       "<!-- S01 -->\n",
       "<g id=\"node2\" class=\"node\"><title>S01</title>\n",
       "<ellipse fill=\"none\" stroke=\"black\" cx=\"275.762\" cy=\"-109.712\" rx=\"23.7379\" ry=\"23.7379\"/>\n",
       "<text text-anchor=\"middle\" x=\"275.762\" y=\"-105.512\" font-family=\"Times,serif\" font-size=\"14.00\">S01</text>\n",
       "</g>\n",
       "<!-- S010 -->\n",
       "<g id=\"node3\" class=\"node\"><title>S010</title>\n",
       "<ellipse fill=\"none\" stroke=\"black\" cx=\"370.921\" cy=\"-66.7121\" rx=\"28.0822\" ry=\"28.0822\"/>\n",
       "<text text-anchor=\"middle\" x=\"370.921\" y=\"-62.5121\" font-family=\"Times,serif\" font-size=\"14.00\">S010</text>\n",
       "</g>\n",
       "<!-- S01&#45;&gt;S010 -->\n",
       "<g id=\"edge6\" class=\"edge\"><title>S01&#45;&gt;S010</title>\n",
       "<path fill=\"none\" stroke=\"black\" d=\"M297.902,-99.9547C309.024,-94.8208 322.938,-88.3984 335.563,-82.5709\"/>\n",
       "<polygon fill=\"black\" stroke=\"black\" points=\"337.286,-85.6305 344.899,-78.2618 334.353,-79.2749 337.286,-85.6305\"/>\n",
       "<text text-anchor=\"middle\" x=\"321.131\" y=\"-94.5121\" font-family=\"Times,serif\" font-size=\"14.00\">0</text>\n",
       "</g>\n",
       "<!-- S01&#45;&gt;I -->\n",
       "<g id=\"edge7\" class=\"edge\"><title>S01&#45;&gt;I</title>\n",
       "<path fill=\"none\" stroke=\"black\" d=\"M252.132,-114.874C230.234,-118.751 196.551,-121.71 170,-110.712 151.854,-103.196 136.335,-87.2339 125.628,-73.6623\"/>\n",
       "<polygon fill=\"black\" stroke=\"black\" points=\"128.399,-71.5237 119.603,-65.6178 122.796,-75.72 128.399,-71.5237\"/>\n",
       "<text text-anchor=\"middle\" x=\"189.447\" y=\"-120.512\" font-family=\"Times,serif\" font-size=\"14.00\">1</text>\n",
       "</g>\n",
       "<!-- S0 -->\n",
       "<g id=\"node5\" class=\"node\"><title>S0</title>\n",
       "<ellipse fill=\"none\" stroke=\"black\" cx=\"189.447\" cy=\"-50.7121\" rx=\"19.3939\" ry=\"19.3939\"/>\n",
       "<text text-anchor=\"middle\" x=\"189.447\" y=\"-46.5121\" font-family=\"Times,serif\" font-size=\"14.00\">S0</text>\n",
       "</g>\n",
       "<!-- S010&#45;&gt;S0 -->\n",
       "<g id=\"edge8\" class=\"edge\"><title>S010&#45;&gt;S0</title>\n",
       "<path fill=\"none\" stroke=\"black\" d=\"M342.458,-64.2638C309.094,-61.2894 253.074,-56.2952 219.156,-53.2715\"/>\n",
       "<polygon fill=\"black\" stroke=\"black\" points=\"219.249,-49.766 208.978,-52.3641 218.627,-56.7383 219.249,-49.766\"/>\n",
       "<text text-anchor=\"middle\" x=\"275.762\" y=\"-63.5121\" font-family=\"Times,serif\" font-size=\"14.00\">0</text>\n",
       "</g>\n",
       "<!-- F0101 -->\n",
       "<g id=\"node6\" class=\"node\"><title>F0101</title>\n",
       "<ellipse fill=\"none\" stroke=\"black\" cx=\"478.924\" cy=\"-36.7121\" rx=\"32.9021\" ry=\"32.9021\"/>\n",
       "<ellipse fill=\"none\" stroke=\"black\" cx=\"478.924\" cy=\"-36.7121\" rx=\"36.9254\" ry=\"36.9254\"/>\n",
       "<text text-anchor=\"middle\" x=\"478.924\" y=\"-32.5121\" font-family=\"Times,serif\" font-size=\"14.00\">F0101</text>\n",
       "</g>\n",
       "<!-- S010&#45;&gt;F0101 -->\n",
       "<g id=\"edge9\" class=\"edge\"><title>S010&#45;&gt;F0101</title>\n",
       "<path fill=\"none\" stroke=\"black\" d=\"M398.397,-59.2192C409.032,-56.2092 421.588,-52.6558 433.543,-49.2725\"/>\n",
       "<polygon fill=\"black\" stroke=\"black\" points=\"434.719,-52.5772 443.388,-46.4862 432.812,-45.8417 434.719,-52.5772\"/>\n",
       "<text text-anchor=\"middle\" x=\"420.712\" y=\"-56.5121\" font-family=\"Times,serif\" font-size=\"14.00\">1</text>\n",
       "</g>\n",
       "<!-- I&#45;&gt;I -->\n",
       "<g id=\"edge3\" class=\"edge\"><title>I&#45;&gt;I</title>\n",
       "<path fill=\"none\" stroke=\"black\" d=\"M102.621,-67.7494C101.319,-77.57 103.445,-86.7121 109,-86.7121 112.472,-86.7121 114.604,-83.1409 115.398,-78.065\"/>\n",
       "<polygon fill=\"black\" stroke=\"black\" points=\"118.897,-77.7431 115.379,-67.7494 111.897,-77.7556 118.897,-77.7431\"/>\n",
       "<text text-anchor=\"middle\" x=\"109\" y=\"-89.5121\" font-family=\"Times,serif\" font-size=\"14.00\">1</text>\n",
       "</g>\n",
       "<!-- I&#45;&gt;S0 -->\n",
       "<g id=\"edge2\" class=\"edge\"><title>I&#45;&gt;S0</title>\n",
       "<path fill=\"none\" stroke=\"black\" d=\"M127.022,-50.7121C136.583,-50.7121 148.77,-50.7121 159.763,-50.7121\"/>\n",
       "<polygon fill=\"black\" stroke=\"black\" points=\"159.813,-54.2122 169.813,-50.7121 159.813,-47.2122 159.813,-54.2122\"/>\n",
       "<text text-anchor=\"middle\" x=\"148.5\" y=\"-53.5121\" font-family=\"Times,serif\" font-size=\"14.00\">0</text>\n",
       "</g>\n",
       "<!-- S0&#45;&gt;S01 -->\n",
       "<g id=\"edge5\" class=\"edge\"><title>S0&#45;&gt;S01</title>\n",
       "<path fill=\"none\" stroke=\"black\" d=\"M205.912,-61.5336C217.565,-69.6882 233.842,-81.0776 247.643,-90.7354\"/>\n",
       "<polygon fill=\"black\" stroke=\"black\" points=\"245.653,-93.6148 255.853,-96.4805 249.667,-87.8795 245.653,-93.6148\"/>\n",
       "<text text-anchor=\"middle\" x=\"230.394\" y=\"-83.5121\" font-family=\"Times,serif\" font-size=\"14.00\">1</text>\n",
       "</g>\n",
       "<!-- S0&#45;&gt;S0 -->\n",
       "<g id=\"edge4\" class=\"edge\"><title>S0&#45;&gt;S0</title>\n",
       "<path fill=\"none\" stroke=\"black\" d=\"M182.306,-68.8217C180.973,-78.8886 183.353,-88.1589 189.447,-88.1589 193.351,-88.1589 195.731,-84.3544 196.586,-78.9732\"/>\n",
       "<polygon fill=\"black\" stroke=\"black\" points=\"200.086,-78.8223 196.588,-68.8217 193.086,-78.8211 200.086,-78.8223\"/>\n",
       "<text text-anchor=\"middle\" x=\"189.447\" y=\"-90.9589\" font-family=\"Times,serif\" font-size=\"14.00\">0</text>\n",
       "</g>\n",
       "<!-- F0101&#45;&gt;S010 -->\n",
       "<g id=\"edge10\" class=\"edge\"><title>F0101&#45;&gt;S010</title>\n",
       "<path fill=\"none\" stroke=\"black\" d=\"M442.376,-31.5488C433.973,-31.4149 425.152,-32.1899 417.212,-34.7121 411.568,-36.5045 406.023,-39.2825 400.854,-42.4692\"/>\n",
       "<polygon fill=\"black\" stroke=\"black\" points=\"398.856,-39.5953 392.559,-48.1159 402.795,-45.3818 398.856,-39.5953\"/>\n",
       "<text text-anchor=\"middle\" x=\"420.712\" y=\"-37.5121\" font-family=\"Times,serif\" font-size=\"14.00\">0</text>\n",
       "</g>\n",
       "<!-- F0101&#45;&gt;I -->\n",
       "<g id=\"edge11\" class=\"edge\"><title>F0101&#45;&gt;I</title>\n",
       "<path fill=\"none\" stroke=\"black\" d=\"M445.314,-20.9853C424.751,-12.4857 397.363,-3.71207 371.921,-3.71207 188.447,-3.71207 188.447,-3.71207 188.447,-3.71207 165.942,-3.71207 144.308,-18.1221 129.48,-30.9841\"/>\n",
       "<polygon fill=\"black\" stroke=\"black\" points=\"126.98,-28.528 121.981,-37.8691 131.714,-33.6846 126.98,-28.528\"/>\n",
       "<text text-anchor=\"middle\" x=\"275.762\" y=\"-6.51207\" font-family=\"Times,serif\" font-size=\"14.00\">1</text>\n",
       "</g>\n",
       "</g>\n",
       "</svg>\n"
      ],
      "text/plain": [
       "<graphviz.dot.Digraph at 0x10f3cb278>"
      ]
     },
     "execution_count": 50,
     "metadata": {},
     "output_type": "execute_result"
    }
   ],
   "source": [
    "dotObj_dfa(ends0101)"
   ]
  },
  {
   "cell_type": "markdown",
   "metadata": {
    "run_control": {
     "frozen": false,
     "read_only": false
    }
   },
   "source": [
    "## Now produce a DFA for the union\n",
    "\n",
    "Union of \"odd 1s\" and \"ends in 0101\"\n"
   ]
  },
  {
   "cell_type": "code",
   "execution_count": 51,
   "metadata": {
    "run_control": {
     "frozen": false,
     "read_only": false
    }
   },
   "outputs": [],
   "source": [
    "odd1sORends0101 = union_dfa(dfaOdd1s,ends0101)"
   ]
  },
  {
   "cell_type": "code",
   "execution_count": 52,
   "metadata": {
    "run_control": {
     "frozen": false,
     "read_only": false
    }
   },
   "outputs": [
    {
     "data": {
      "image/svg+xml": [
       "<?xml version=\"1.0\" encoding=\"UTF-8\" standalone=\"no\"?>\n",
       "<!DOCTYPE svg PUBLIC \"-//W3C//DTD SVG 1.1//EN\"\n",
       " \"http://www.w3.org/Graphics/SVG/1.1/DTD/svg11.dtd\">\n",
       "<!-- Generated by graphviz version 2.38.0 (20140413.2041)\n",
       " -->\n",
       "<!-- Title: %3 Pages: 1 -->\n",
       "<svg width=\"1288pt\" height=\"336pt\"\n",
       " viewBox=\"0.00 0.00 1288.34 336.00\" xmlns=\"http://www.w3.org/2000/svg\" xmlns:xlink=\"http://www.w3.org/1999/xlink\">\n",
       "<g id=\"graph0\" class=\"graph\" transform=\"scale(1 1) rotate(0) translate(4 332)\">\n",
       "<title>%3</title>\n",
       "<polygon fill=\"white\" stroke=\"none\" points=\"-4,4 -4,-332 1284.34,-332 1284.34,4 -4,4\"/>\n",
       "<!-- EMPTY -->\n",
       "<g id=\"node1\" class=\"node\"><title>EMPTY</title>\n",
       "</g>\n",
       "<!-- \\(I_I\\) -->\n",
       "<g id=\"node5\" class=\"node\"><title>\\(I_I\\)</title>\n",
       "<ellipse fill=\"none\" stroke=\"black\" cx=\"117.308\" cy=\"-189\" rx=\"26.118\" ry=\"26.118\"/>\n",
       "<text text-anchor=\"middle\" x=\"117.308\" y=\"-184.8\" font-family=\"Times,serif\" font-size=\"14.00\">(I_I)</text>\n",
       "</g>\n",
       "<!-- EMPTY&#45;&gt;\\(I_I\\) -->\n",
       "<g id=\"edge1\" class=\"edge\"><title>EMPTY&#45;&gt;\\(I_I\\)</title>\n",
       "<path fill=\"none\" stroke=\"black\" d=\"M54.0178,-189C62.3552,-189 71.7368,-189 80.64,-189\"/>\n",
       "<polygon fill=\"black\" stroke=\"black\" points=\"80.7808,-192.5 90.7807,-189 80.7807,-185.5 80.7808,-192.5\"/>\n",
       "</g>\n",
       "<!-- \\(I_S010\\) -->\n",
       "<g id=\"node2\" class=\"node\"><title>\\(I_S010\\)</title>\n",
       "<ellipse fill=\"none\" stroke=\"black\" cx=\"1091.91\" cy=\"-155\" rx=\"41.5938\" ry=\"41.5938\"/>\n",
       "<text text-anchor=\"middle\" x=\"1091.91\" y=\"-150.8\" font-family=\"Times,serif\" font-size=\"14.00\">(I_S010)</text>\n",
       "</g>\n",
       "<!-- \\(I_S0\\) -->\n",
       "<g id=\"node4\" class=\"node\"><title>\\(I_S0\\)</title>\n",
       "<ellipse fill=\"none\" stroke=\"black\" cx=\"219.32\" cy=\"-88\" rx=\"32.9081\" ry=\"32.9081\"/>\n",
       "<text text-anchor=\"middle\" x=\"219.32\" y=\"-83.8\" font-family=\"Times,serif\" font-size=\"14.00\">(I_S0)</text>\n",
       "</g>\n",
       "<!-- \\(I_S010\\)&#45;&gt;\\(I_S0\\) -->\n",
       "<g id=\"edge13\" class=\"edge\"><title>\\(I_S010\\)&#45;&gt;\\(I_S0\\)</title>\n",
       "<path fill=\"none\" stroke=\"black\" d=\"M1072.66,-117.98C1052.85,-83.7031 1017.73,-38 971.241,-38 337.122,-38 337.122,-38 337.122,-38 308.042,-38 277.936,-51.2604 255.574,-64.1235\"/>\n",
       "<polygon fill=\"black\" stroke=\"black\" points=\"253.575,-61.2408 246.795,-69.3818 257.172,-67.246 253.575,-61.2408\"/>\n",
       "<text text-anchor=\"middle\" x=\"683.698\" y=\"-40.8\" font-family=\"Times,serif\" font-size=\"14.00\">0</text>\n",
       "</g>\n",
       "<!-- \\(F_F0101\\) -->\n",
       "<g id=\"node10\" class=\"node\"><title>\\(F_F0101\\)</title>\n",
       "<ellipse fill=\"none\" stroke=\"black\" cx=\"1228.4\" cy=\"-84\" rx=\"47.8885\" ry=\"47.8885\"/>\n",
       "<ellipse fill=\"none\" stroke=\"black\" cx=\"1228.4\" cy=\"-84\" rx=\"51.8841\" ry=\"51.8841\"/>\n",
       "<text text-anchor=\"middle\" x=\"1228.4\" y=\"-79.8\" font-family=\"Times,serif\" font-size=\"14.00\">(F_F0101)</text>\n",
       "</g>\n",
       "<!-- \\(I_S010\\)&#45;&gt;\\(F_F0101\\) -->\n",
       "<g id=\"edge12\" class=\"edge\"><title>\\(I_S010\\)&#45;&gt;\\(F_F0101\\)</title>\n",
       "<path fill=\"none\" stroke=\"black\" d=\"M1128.95,-135.973C1142.48,-128.83 1158.18,-120.543 1173.01,-112.714\"/>\n",
       "<polygon fill=\"black\" stroke=\"black\" points=\"1174.9,-115.676 1182.11,-107.912 1171.63,-109.486 1174.9,-115.676\"/>\n",
       "<text text-anchor=\"middle\" x=\"1154.96\" y=\"-126.8\" font-family=\"Times,serif\" font-size=\"14.00\">1</text>\n",
       "</g>\n",
       "<!-- \\(I_S01\\) -->\n",
       "<g id=\"node3\" class=\"node\"><title>\\(I_S01\\)</title>\n",
       "<ellipse fill=\"none\" stroke=\"black\" cx=\"970.241\" cy=\"-227\" rx=\"37.2507\" ry=\"37.2507\"/>\n",
       "<text text-anchor=\"middle\" x=\"970.241\" y=\"-222.8\" font-family=\"Times,serif\" font-size=\"14.00\">(I_S01)</text>\n",
       "</g>\n",
       "<!-- \\(I_S01\\)&#45;&gt;\\(I_S010\\) -->\n",
       "<g id=\"edge18\" class=\"edge\"><title>\\(I_S01\\)&#45;&gt;\\(I_S010\\)</title>\n",
       "<path fill=\"none\" stroke=\"black\" d=\"M1002.37,-208.271C1015.91,-200.128 1032.01,-190.439 1046.75,-181.572\"/>\n",
       "<polygon fill=\"black\" stroke=\"black\" points=\"1048.95,-184.332 1055.71,-176.178 1045.34,-178.334 1048.95,-184.332\"/>\n",
       "<text text-anchor=\"middle\" x=\"1028.87\" y=\"-196.8\" font-family=\"Times,serif\" font-size=\"14.00\">0</text>\n",
       "</g>\n",
       "<!-- \\(F_I\\) -->\n",
       "<g id=\"node6\" class=\"node\"><title>\\(F_I\\)</title>\n",
       "<ellipse fill=\"none\" stroke=\"black\" cx=\"737.48\" cy=\"-274\" rx=\"28.0917\" ry=\"28.0917\"/>\n",
       "<ellipse fill=\"none\" stroke=\"black\" cx=\"737.48\" cy=\"-274\" rx=\"32.0649\" ry=\"32.0649\"/>\n",
       "<text text-anchor=\"middle\" x=\"737.48\" y=\"-269.8\" font-family=\"Times,serif\" font-size=\"14.00\">(F_I)</text>\n",
       "</g>\n",
       "<!-- \\(I_S01\\)&#45;&gt;\\(F_I\\) -->\n",
       "<g id=\"edge7\" class=\"edge\"><title>\\(I_S01\\)&#45;&gt;\\(F_I\\)</title>\n",
       "<path fill=\"none\" stroke=\"black\" d=\"M948.6,-257.726C934.512,-275.789 914.091,-296.991 890.115,-307 852.6,-322.66 806.629,-308.395 775.204,-294.041\"/>\n",
       "<polygon fill=\"black\" stroke=\"black\" points=\"776.475,-290.77 765.943,-289.616 773.457,-297.086 776.475,-290.77\"/>\n",
       "<text text-anchor=\"middle\" x=\"851.439\" y=\"-316.8\" font-family=\"Times,serif\" font-size=\"14.00\">1</text>\n",
       "</g>\n",
       "<!-- \\(I_S0\\)&#45;&gt;\\(I_S0\\) -->\n",
       "<g id=\"edge11\" class=\"edge\"><title>\\(I_S0\\)&#45;&gt;\\(I_S0\\)</title>\n",
       "<path fill=\"none\" stroke=\"black\" d=\"M209.198,-119.193C209.09,-129.987 212.465,-138.703 219.32,-138.703 223.819,-138.703 226.819,-134.949 228.319,-129.318\"/>\n",
       "<polygon fill=\"black\" stroke=\"black\" points=\"231.818,-129.518 229.443,-119.193 224.861,-128.746 231.818,-129.518\"/>\n",
       "<text text-anchor=\"middle\" x=\"219.32\" y=\"-141.503\" font-family=\"Times,serif\" font-size=\"14.00\">0</text>\n",
       "</g>\n",
       "<!-- \\(F_S01\\) -->\n",
       "<g id=\"node11\" class=\"node\"><title>\\(F_S01\\)</title>\n",
       "<ellipse fill=\"none\" stroke=\"black\" cx=\"338.122\" cy=\"-118\" rx=\"39.1881\" ry=\"39.1881\"/>\n",
       "<ellipse fill=\"none\" stroke=\"black\" cx=\"338.122\" cy=\"-118\" rx=\"43.1973\" ry=\"43.1973\"/>\n",
       "<text text-anchor=\"middle\" x=\"338.122\" y=\"-113.8\" font-family=\"Times,serif\" font-size=\"14.00\">(F_S01)</text>\n",
       "</g>\n",
       "<!-- \\(I_S0\\)&#45;&gt;\\(F_S01\\) -->\n",
       "<g id=\"edge8\" class=\"edge\"><title>\\(I_S0\\)&#45;&gt;\\(F_S01\\)</title>\n",
       "<path fill=\"none\" stroke=\"black\" d=\"M251.314,-95.9607C262.085,-98.7272 274.465,-101.907 286.409,-104.975\"/>\n",
       "<polygon fill=\"black\" stroke=\"black\" points=\"285.737,-108.416 296.293,-107.513 287.479,-101.636 285.737,-108.416\"/>\n",
       "<text text-anchor=\"middle\" x=\"273.524\" y=\"-105.8\" font-family=\"Times,serif\" font-size=\"14.00\">1</text>\n",
       "</g>\n",
       "<!-- \\(I_I\\)&#45;&gt;\\(I_S0\\) -->\n",
       "<g id=\"edge21\" class=\"edge\"><title>\\(I_I\\)&#45;&gt;\\(I_S0\\)</title>\n",
       "<path fill=\"none\" stroke=\"black\" d=\"M136.652,-170.475C151.029,-155.956 171.338,-135.446 188.107,-118.512\"/>\n",
       "<polygon fill=\"black\" stroke=\"black\" points=\"190.979,-120.586 195.528,-111.017 186.005,-115.66 190.979,-120.586\"/>\n",
       "<text text-anchor=\"middle\" x=\"165.117\" y=\"-147.8\" font-family=\"Times,serif\" font-size=\"14.00\">0</text>\n",
       "</g>\n",
       "<!-- \\(I_I\\)&#45;&gt;\\(F_I\\) -->\n",
       "<g id=\"edge3\" class=\"edge\"><title>\\(I_I\\)&#45;&gt;\\(F_I\\)</title>\n",
       "<path fill=\"none\" stroke=\"black\" d=\"M131.47,-211.333C148.19,-236.517 179.582,-274 218.32,-274 218.32,-274 218.32,-274 613.23,-274 640.443,-274 671.036,-274 694.935,-274\"/>\n",
       "<polygon fill=\"black\" stroke=\"black\" points=\"695.072,-277.5 705.072,-274 695.072,-270.5 695.072,-277.5\"/>\n",
       "<text text-anchor=\"middle\" x=\"402.721\" y=\"-276.8\" font-family=\"Times,serif\" font-size=\"14.00\">1</text>\n",
       "</g>\n",
       "<!-- \\(F_I\\)&#45;&gt;\\(I_I\\) -->\n",
       "<g id=\"edge9\" class=\"edge\"><title>\\(F_I\\)&#45;&gt;\\(I_I\\)</title>\n",
       "<path fill=\"none\" stroke=\"black\" d=\"M708.35,-287.934C683.846,-298.779 647.041,-312 613.23,-312 218.32,-312 218.32,-312 218.32,-312 172.534,-312 144.021,-260.058 129.667,-223.682\"/>\n",
       "<polygon fill=\"black\" stroke=\"black\" points=\"132.782,-222.023 125.991,-213.891 126.229,-224.483 132.782,-222.023\"/>\n",
       "<text text-anchor=\"middle\" x=\"402.721\" y=\"-314.8\" font-family=\"Times,serif\" font-size=\"14.00\">1</text>\n",
       "</g>\n",
       "<!-- \\(F_S0\\) -->\n",
       "<g id=\"node9\" class=\"node\"><title>\\(F_S0\\)</title>\n",
       "<ellipse fill=\"none\" stroke=\"black\" cx=\"851.439\" cy=\"-227\" rx=\"34.836\" ry=\"34.836\"/>\n",
       "<ellipse fill=\"none\" stroke=\"black\" cx=\"851.439\" cy=\"-227\" rx=\"38.8544\" ry=\"38.8544\"/>\n",
       "<text text-anchor=\"middle\" x=\"851.439\" y=\"-222.8\" font-family=\"Times,serif\" font-size=\"14.00\">(F_S0)</text>\n",
       "</g>\n",
       "<!-- \\(F_I\\)&#45;&gt;\\(F_S0\\) -->\n",
       "<g id=\"edge19\" class=\"edge\"><title>\\(F_I\\)&#45;&gt;\\(F_S0\\)</title>\n",
       "<path fill=\"none\" stroke=\"black\" d=\"M767.604,-261.774C779.386,-256.828 793.249,-251.008 806.229,-245.559\"/>\n",
       "<polygon fill=\"black\" stroke=\"black\" points=\"807.615,-248.773 815.481,-241.675 804.905,-242.319 807.615,-248.773\"/>\n",
       "<text text-anchor=\"middle\" x=\"791.262\" y=\"-254.8\" font-family=\"Times,serif\" font-size=\"14.00\">0</text>\n",
       "</g>\n",
       "<!-- \\(I_F0101\\) -->\n",
       "<g id=\"node7\" class=\"node\"><title>\\(I_F0101\\)</title>\n",
       "<ellipse fill=\"none\" stroke=\"black\" cx=\"612.23\" cy=\"-196\" rx=\"45.9398\" ry=\"45.9398\"/>\n",
       "<ellipse fill=\"none\" stroke=\"black\" cx=\"612.23\" cy=\"-196\" rx=\"49.9373\" ry=\"49.9373\"/>\n",
       "<text text-anchor=\"middle\" x=\"612.23\" y=\"-191.8\" font-family=\"Times,serif\" font-size=\"14.00\">(I_F0101)</text>\n",
       "</g>\n",
       "<!-- \\(I_F0101\\)&#45;&gt;\\(I_S010\\) -->\n",
       "<g id=\"edge2\" class=\"edge\"><title>\\(I_F0101\\)&#45;&gt;\\(I_S010\\)</title>\n",
       "<path fill=\"none\" stroke=\"black\" d=\"M657.482,-174.244C680.476,-164.862 709.372,-156 736.48,-156 736.48,-156 736.48,-156 971.241,-156 993.828,-156 1018.81,-155.82 1040.08,-155.612\"/>\n",
       "<polygon fill=\"black\" stroke=\"black\" points=\"1040.24,-159.111 1050.2,-155.509 1040.17,-152.111 1040.24,-159.111\"/>\n",
       "<text text-anchor=\"middle\" x=\"851.439\" y=\"-158.8\" font-family=\"Times,serif\" font-size=\"14.00\">0</text>\n",
       "</g>\n",
       "<!-- \\(I_F0101\\)&#45;&gt;\\(F_I\\) -->\n",
       "<g id=\"edge4\" class=\"edge\"><title>\\(I_F0101\\)&#45;&gt;\\(F_I\\)</title>\n",
       "<path fill=\"none\" stroke=\"black\" d=\"M654.957,-222.407C669.993,-231.923 686.8,-242.56 701.229,-251.691\"/>\n",
       "<polygon fill=\"black\" stroke=\"black\" points=\"699.548,-254.769 709.869,-257.159 703.291,-248.854 699.548,-254.769\"/>\n",
       "<text text-anchor=\"middle\" x=\"683.698\" y=\"-244.8\" font-family=\"Times,serif\" font-size=\"14.00\">1</text>\n",
       "</g>\n",
       "<!-- \\(F_S010\\) -->\n",
       "<g id=\"node8\" class=\"node\"><title>\\(F_S010\\)</title>\n",
       "<ellipse fill=\"none\" stroke=\"black\" cx=\"471.741\" cy=\"-118\" rx=\"43.5388\" ry=\"43.5388\"/>\n",
       "<ellipse fill=\"none\" stroke=\"black\" cx=\"471.741\" cy=\"-118\" rx=\"47.5405\" ry=\"47.5405\"/>\n",
       "<text text-anchor=\"middle\" x=\"471.741\" y=\"-113.8\" font-family=\"Times,serif\" font-size=\"14.00\">(F_S010)</text>\n",
       "</g>\n",
       "<!-- \\(F_S010\\)&#45;&gt;\\(I_F0101\\) -->\n",
       "<g id=\"edge16\" class=\"edge\"><title>\\(F_S010\\)&#45;&gt;\\(I_F0101\\)</title>\n",
       "<path fill=\"none\" stroke=\"black\" d=\"M513.543,-140.981C527.95,-149.095 544.344,-158.329 559.533,-166.883\"/>\n",
       "<polygon fill=\"black\" stroke=\"black\" points=\"557.881,-169.97 568.312,-171.828 561.317,-163.871 557.881,-169.97\"/>\n",
       "<text text-anchor=\"middle\" x=\"540.761\" y=\"-159.8\" font-family=\"Times,serif\" font-size=\"14.00\">1</text>\n",
       "</g>\n",
       "<!-- \\(F_S010\\)&#45;&gt;\\(F_S0\\) -->\n",
       "<g id=\"edge10\" class=\"edge\"><title>\\(F_S010\\)&#45;&gt;\\(F_S0\\)</title>\n",
       "<path fill=\"none\" stroke=\"black\" d=\"M519.462,-113.65C563.677,-111.041 631.401,-110.992 687.198,-128 734.201,-142.328 781.51,-173.262 813.007,-196.764\"/>\n",
       "<polygon fill=\"black\" stroke=\"black\" points=\"810.977,-199.617 821.061,-202.869 815.206,-194.039 810.977,-199.617\"/>\n",
       "<text text-anchor=\"middle\" x=\"683.698\" y=\"-130.8\" font-family=\"Times,serif\" font-size=\"14.00\">0</text>\n",
       "</g>\n",
       "<!-- \\(F_S0\\)&#45;&gt;\\(I_S01\\) -->\n",
       "<g id=\"edge15\" class=\"edge\"><title>\\(F_S0\\)&#45;&gt;\\(I_S01\\)</title>\n",
       "<path fill=\"none\" stroke=\"black\" d=\"M890.361,-227C900.76,-227 912.15,-227 922.961,-227\"/>\n",
       "<polygon fill=\"black\" stroke=\"black\" points=\"923.097,-230.5 933.097,-227 923.097,-223.5 923.097,-230.5\"/>\n",
       "<text text-anchor=\"middle\" x=\"911.615\" y=\"-229.8\" font-family=\"Times,serif\" font-size=\"14.00\">1</text>\n",
       "</g>\n",
       "<!-- \\(F_S0\\)&#45;&gt;\\(F_S0\\) -->\n",
       "<g id=\"edge6\" class=\"edge\"><title>\\(F_S0\\)&#45;&gt;\\(F_S0\\)</title>\n",
       "<path fill=\"none\" stroke=\"black\" d=\"M840.213,-264.067C840.548,-275.095 844.29,-283.677 851.439,-283.677 856.13,-283.677 859.354,-279.981 861.111,-274.324\"/>\n",
       "<polygon fill=\"black\" stroke=\"black\" points=\"864.627,-274.479 862.664,-264.067 857.706,-273.43 864.627,-274.479\"/>\n",
       "<text text-anchor=\"middle\" x=\"851.439\" y=\"-286.477\" font-family=\"Times,serif\" font-size=\"14.00\">0</text>\n",
       "</g>\n",
       "<!-- \\(F_F0101\\)&#45;&gt;\\(I_I\\) -->\n",
       "<g id=\"edge5\" class=\"edge\"><title>\\(F_F0101\\)&#45;&gt;\\(I_I\\)</title>\n",
       "<path fill=\"none\" stroke=\"black\" d=\"M1191.96,-46.6672C1166.75,-24.2329 1130.76,-0 1092.91,-0 218.32,-0 218.32,-0 218.32,-0 149.964,-0 128.2,-97.7787 121.367,-152.678\"/>\n",
       "<polygon fill=\"black\" stroke=\"black\" points=\"117.878,-152.389 120.224,-162.72 124.833,-153.181 117.878,-152.389\"/>\n",
       "<text text-anchor=\"middle\" x=\"683.698\" y=\"-2.8\" font-family=\"Times,serif\" font-size=\"14.00\">1</text>\n",
       "</g>\n",
       "<!-- \\(F_F0101\\)&#45;&gt;\\(F_S010\\) -->\n",
       "<g id=\"edge17\" class=\"edge\"><title>\\(F_F0101\\)&#45;&gt;\\(F_S010\\)</title>\n",
       "<path fill=\"none\" stroke=\"black\" d=\"M1176.31,-84C1151.19,-84 1120.46,-84 1092.91,-84 910.615,-84 910.615,-84 910.615,-84 744.309,-84 702.691,-91.9455 537.261,-109 534.559,-109.279 531.797,-109.584 529.008,-109.909\"/>\n",
       "<polygon fill=\"black\" stroke=\"black\" points=\"528.36,-106.462 518.862,-111.157 529.214,-113.41 528.36,-106.462\"/>\n",
       "<text text-anchor=\"middle\" x=\"851.439\" y=\"-88.8\" font-family=\"Times,serif\" font-size=\"14.00\">0</text>\n",
       "</g>\n",
       "<!-- \\(F_S01\\)&#45;&gt;\\(I_I\\) -->\n",
       "<g id=\"edge14\" class=\"edge\"><title>\\(F_S01\\)&#45;&gt;\\(I_I\\)</title>\n",
       "<path fill=\"none\" stroke=\"black\" d=\"M300.423,-139.818C285.774,-147.762 268.498,-156.205 252.024,-162 219.534,-173.427 180.808,-180.585 153.415,-184.635\"/>\n",
       "<polygon fill=\"black\" stroke=\"black\" points=\"152.918,-181.171 143.508,-186.038 153.9,-188.102 152.918,-181.171\"/>\n",
       "<text text-anchor=\"middle\" x=\"219.32\" y=\"-181.8\" font-family=\"Times,serif\" font-size=\"14.00\">1</text>\n",
       "</g>\n",
       "<!-- \\(F_S01\\)&#45;&gt;\\(F_S010\\) -->\n",
       "<g id=\"edge20\" class=\"edge\"><title>\\(F_S01\\)&#45;&gt;\\(F_S010\\)</title>\n",
       "<path fill=\"none\" stroke=\"black\" d=\"M381.492,-118C391.742,-118 402.866,-118 413.67,-118\"/>\n",
       "<polygon fill=\"black\" stroke=\"black\" points=\"413.891,-121.5 423.891,-118 413.891,-114.5 413.891,-121.5\"/>\n",
       "<text text-anchor=\"middle\" x=\"402.721\" y=\"-120.8\" font-family=\"Times,serif\" font-size=\"14.00\">0</text>\n",
       "</g>\n",
       "</g>\n",
       "</svg>\n"
      ],
      "text/plain": [
       "<graphviz.dot.Digraph at 0x10fc02b70>"
      ]
     },
     "execution_count": 52,
     "metadata": {},
     "output_type": "execute_result"
    }
   ],
   "source": [
    "dotObj_dfa(odd1sORends0101)"
   ]
  },
  {
   "cell_type": "code",
   "execution_count": 53,
   "metadata": {
    "run_control": {
     "frozen": false,
     "read_only": false
    },
    "scrolled": true
   },
   "outputs": [
    {
     "data": {
      "image/svg+xml": [
       "<?xml version=\"1.0\" encoding=\"UTF-8\" standalone=\"no\"?>\n",
       "<!DOCTYPE svg PUBLIC \"-//W3C//DTD SVG 1.1//EN\"\n",
       " \"http://www.w3.org/Graphics/SVG/1.1/DTD/svg11.dtd\">\n",
       "<!-- Generated by graphviz version 2.38.0 (20140413.2041)\n",
       " -->\n",
       "<!-- Title: %3 Pages: 1 -->\n",
       "<svg width=\"1288pt\" height=\"336pt\"\n",
       " viewBox=\"0.00 0.00 1288.34 336.00\" xmlns=\"http://www.w3.org/2000/svg\" xmlns:xlink=\"http://www.w3.org/1999/xlink\">\n",
       "<g id=\"graph0\" class=\"graph\" transform=\"scale(1 1) rotate(0) translate(4 332)\">\n",
       "<title>%3</title>\n",
       "<polygon fill=\"white\" stroke=\"none\" points=\"-4,4 -4,-332 1284.34,-332 1284.34,4 -4,4\"/>\n",
       "<!-- EMPTY -->\n",
       "<g id=\"node1\" class=\"node\"><title>EMPTY</title>\n",
       "</g>\n",
       "<!-- \\(I_I\\) -->\n",
       "<g id=\"node5\" class=\"node\"><title>\\(I_I\\)</title>\n",
       "<ellipse fill=\"none\" stroke=\"black\" cx=\"117.308\" cy=\"-189\" rx=\"26.118\" ry=\"26.118\"/>\n",
       "<text text-anchor=\"middle\" x=\"117.308\" y=\"-184.8\" font-family=\"Times,serif\" font-size=\"14.00\">(I_I)</text>\n",
       "</g>\n",
       "<!-- EMPTY&#45;&gt;\\(I_I\\) -->\n",
       "<g id=\"edge1\" class=\"edge\"><title>EMPTY&#45;&gt;\\(I_I\\)</title>\n",
       "<path fill=\"none\" stroke=\"black\" d=\"M54.0178,-189C62.3552,-189 71.7368,-189 80.64,-189\"/>\n",
       "<polygon fill=\"black\" stroke=\"black\" points=\"80.7808,-192.5 90.7807,-189 80.7807,-185.5 80.7808,-192.5\"/>\n",
       "</g>\n",
       "<!-- \\(I_S010\\) -->\n",
       "<g id=\"node2\" class=\"node\"><title>\\(I_S010\\)</title>\n",
       "<ellipse fill=\"none\" stroke=\"black\" cx=\"1091.91\" cy=\"-155\" rx=\"41.5938\" ry=\"41.5938\"/>\n",
       "<text text-anchor=\"middle\" x=\"1091.91\" y=\"-150.8\" font-family=\"Times,serif\" font-size=\"14.00\">(I_S010)</text>\n",
       "</g>\n",
       "<!-- \\(I_S0\\) -->\n",
       "<g id=\"node4\" class=\"node\"><title>\\(I_S0\\)</title>\n",
       "<ellipse fill=\"none\" stroke=\"black\" cx=\"219.32\" cy=\"-88\" rx=\"32.9081\" ry=\"32.9081\"/>\n",
       "<text text-anchor=\"middle\" x=\"219.32\" y=\"-83.8\" font-family=\"Times,serif\" font-size=\"14.00\">(I_S0)</text>\n",
       "</g>\n",
       "<!-- \\(I_S010\\)&#45;&gt;\\(I_S0\\) -->\n",
       "<g id=\"edge13\" class=\"edge\"><title>\\(I_S010\\)&#45;&gt;\\(I_S0\\)</title>\n",
       "<path fill=\"none\" stroke=\"black\" d=\"M1072.66,-117.98C1052.85,-83.7031 1017.73,-38 971.241,-38 337.122,-38 337.122,-38 337.122,-38 308.042,-38 277.936,-51.2604 255.574,-64.1235\"/>\n",
       "<polygon fill=\"black\" stroke=\"black\" points=\"253.575,-61.2408 246.795,-69.3818 257.172,-67.246 253.575,-61.2408\"/>\n",
       "<text text-anchor=\"middle\" x=\"683.698\" y=\"-40.8\" font-family=\"Times,serif\" font-size=\"14.00\">0</text>\n",
       "</g>\n",
       "<!-- \\(F_F0101\\) -->\n",
       "<g id=\"node10\" class=\"node\"><title>\\(F_F0101\\)</title>\n",
       "<ellipse fill=\"none\" stroke=\"black\" cx=\"1228.4\" cy=\"-84\" rx=\"47.8885\" ry=\"47.8885\"/>\n",
       "<ellipse fill=\"none\" stroke=\"black\" cx=\"1228.4\" cy=\"-84\" rx=\"51.8841\" ry=\"51.8841\"/>\n",
       "<text text-anchor=\"middle\" x=\"1228.4\" y=\"-79.8\" font-family=\"Times,serif\" font-size=\"14.00\">(F_F0101)</text>\n",
       "</g>\n",
       "<!-- \\(I_S010\\)&#45;&gt;\\(F_F0101\\) -->\n",
       "<g id=\"edge12\" class=\"edge\"><title>\\(I_S010\\)&#45;&gt;\\(F_F0101\\)</title>\n",
       "<path fill=\"none\" stroke=\"black\" d=\"M1128.95,-135.973C1142.48,-128.83 1158.18,-120.543 1173.01,-112.714\"/>\n",
       "<polygon fill=\"black\" stroke=\"black\" points=\"1174.9,-115.676 1182.11,-107.912 1171.63,-109.486 1174.9,-115.676\"/>\n",
       "<text text-anchor=\"middle\" x=\"1154.96\" y=\"-126.8\" font-family=\"Times,serif\" font-size=\"14.00\">1</text>\n",
       "</g>\n",
       "<!-- \\(I_S01\\) -->\n",
       "<g id=\"node3\" class=\"node\"><title>\\(I_S01\\)</title>\n",
       "<ellipse fill=\"none\" stroke=\"black\" cx=\"970.241\" cy=\"-227\" rx=\"37.2507\" ry=\"37.2507\"/>\n",
       "<text text-anchor=\"middle\" x=\"970.241\" y=\"-222.8\" font-family=\"Times,serif\" font-size=\"14.00\">(I_S01)</text>\n",
       "</g>\n",
       "<!-- \\(I_S01\\)&#45;&gt;\\(I_S010\\) -->\n",
       "<g id=\"edge18\" class=\"edge\"><title>\\(I_S01\\)&#45;&gt;\\(I_S010\\)</title>\n",
       "<path fill=\"none\" stroke=\"black\" d=\"M1002.37,-208.271C1015.91,-200.128 1032.01,-190.439 1046.75,-181.572\"/>\n",
       "<polygon fill=\"black\" stroke=\"black\" points=\"1048.95,-184.332 1055.71,-176.178 1045.34,-178.334 1048.95,-184.332\"/>\n",
       "<text text-anchor=\"middle\" x=\"1028.87\" y=\"-196.8\" font-family=\"Times,serif\" font-size=\"14.00\">0</text>\n",
       "</g>\n",
       "<!-- \\(F_I\\) -->\n",
       "<g id=\"node6\" class=\"node\"><title>\\(F_I\\)</title>\n",
       "<ellipse fill=\"none\" stroke=\"black\" cx=\"737.48\" cy=\"-274\" rx=\"28.0917\" ry=\"28.0917\"/>\n",
       "<ellipse fill=\"none\" stroke=\"black\" cx=\"737.48\" cy=\"-274\" rx=\"32.0649\" ry=\"32.0649\"/>\n",
       "<text text-anchor=\"middle\" x=\"737.48\" y=\"-269.8\" font-family=\"Times,serif\" font-size=\"14.00\">(F_I)</text>\n",
       "</g>\n",
       "<!-- \\(I_S01\\)&#45;&gt;\\(F_I\\) -->\n",
       "<g id=\"edge7\" class=\"edge\"><title>\\(I_S01\\)&#45;&gt;\\(F_I\\)</title>\n",
       "<path fill=\"none\" stroke=\"black\" d=\"M948.6,-257.726C934.512,-275.789 914.091,-296.991 890.115,-307 852.6,-322.66 806.629,-308.395 775.204,-294.041\"/>\n",
       "<polygon fill=\"black\" stroke=\"black\" points=\"776.475,-290.77 765.943,-289.616 773.457,-297.086 776.475,-290.77\"/>\n",
       "<text text-anchor=\"middle\" x=\"851.439\" y=\"-316.8\" font-family=\"Times,serif\" font-size=\"14.00\">1</text>\n",
       "</g>\n",
       "<!-- \\(I_S0\\)&#45;&gt;\\(I_S0\\) -->\n",
       "<g id=\"edge11\" class=\"edge\"><title>\\(I_S0\\)&#45;&gt;\\(I_S0\\)</title>\n",
       "<path fill=\"none\" stroke=\"black\" d=\"M209.198,-119.193C209.09,-129.987 212.465,-138.703 219.32,-138.703 223.819,-138.703 226.819,-134.949 228.319,-129.318\"/>\n",
       "<polygon fill=\"black\" stroke=\"black\" points=\"231.818,-129.518 229.443,-119.193 224.861,-128.746 231.818,-129.518\"/>\n",
       "<text text-anchor=\"middle\" x=\"219.32\" y=\"-141.503\" font-family=\"Times,serif\" font-size=\"14.00\">0</text>\n",
       "</g>\n",
       "<!-- \\(F_S01\\) -->\n",
       "<g id=\"node11\" class=\"node\"><title>\\(F_S01\\)</title>\n",
       "<ellipse fill=\"none\" stroke=\"black\" cx=\"338.122\" cy=\"-118\" rx=\"39.1881\" ry=\"39.1881\"/>\n",
       "<ellipse fill=\"none\" stroke=\"black\" cx=\"338.122\" cy=\"-118\" rx=\"43.1973\" ry=\"43.1973\"/>\n",
       "<text text-anchor=\"middle\" x=\"338.122\" y=\"-113.8\" font-family=\"Times,serif\" font-size=\"14.00\">(F_S01)</text>\n",
       "</g>\n",
       "<!-- \\(I_S0\\)&#45;&gt;\\(F_S01\\) -->\n",
       "<g id=\"edge8\" class=\"edge\"><title>\\(I_S0\\)&#45;&gt;\\(F_S01\\)</title>\n",
       "<path fill=\"none\" stroke=\"black\" d=\"M251.314,-95.9607C262.085,-98.7272 274.465,-101.907 286.409,-104.975\"/>\n",
       "<polygon fill=\"black\" stroke=\"black\" points=\"285.737,-108.416 296.293,-107.513 287.479,-101.636 285.737,-108.416\"/>\n",
       "<text text-anchor=\"middle\" x=\"273.524\" y=\"-105.8\" font-family=\"Times,serif\" font-size=\"14.00\">1</text>\n",
       "</g>\n",
       "<!-- \\(I_I\\)&#45;&gt;\\(I_S0\\) -->\n",
       "<g id=\"edge21\" class=\"edge\"><title>\\(I_I\\)&#45;&gt;\\(I_S0\\)</title>\n",
       "<path fill=\"none\" stroke=\"black\" d=\"M136.652,-170.475C151.029,-155.956 171.338,-135.446 188.107,-118.512\"/>\n",
       "<polygon fill=\"black\" stroke=\"black\" points=\"190.979,-120.586 195.528,-111.017 186.005,-115.66 190.979,-120.586\"/>\n",
       "<text text-anchor=\"middle\" x=\"165.117\" y=\"-147.8\" font-family=\"Times,serif\" font-size=\"14.00\">0</text>\n",
       "</g>\n",
       "<!-- \\(I_I\\)&#45;&gt;\\(F_I\\) -->\n",
       "<g id=\"edge3\" class=\"edge\"><title>\\(I_I\\)&#45;&gt;\\(F_I\\)</title>\n",
       "<path fill=\"none\" stroke=\"black\" d=\"M131.47,-211.333C148.19,-236.517 179.582,-274 218.32,-274 218.32,-274 218.32,-274 613.23,-274 640.443,-274 671.036,-274 694.935,-274\"/>\n",
       "<polygon fill=\"black\" stroke=\"black\" points=\"695.072,-277.5 705.072,-274 695.072,-270.5 695.072,-277.5\"/>\n",
       "<text text-anchor=\"middle\" x=\"402.721\" y=\"-276.8\" font-family=\"Times,serif\" font-size=\"14.00\">1</text>\n",
       "</g>\n",
       "<!-- \\(F_I\\)&#45;&gt;\\(I_I\\) -->\n",
       "<g id=\"edge9\" class=\"edge\"><title>\\(F_I\\)&#45;&gt;\\(I_I\\)</title>\n",
       "<path fill=\"none\" stroke=\"black\" d=\"M708.35,-287.934C683.846,-298.779 647.041,-312 613.23,-312 218.32,-312 218.32,-312 218.32,-312 172.534,-312 144.021,-260.058 129.667,-223.682\"/>\n",
       "<polygon fill=\"black\" stroke=\"black\" points=\"132.782,-222.023 125.991,-213.891 126.229,-224.483 132.782,-222.023\"/>\n",
       "<text text-anchor=\"middle\" x=\"402.721\" y=\"-314.8\" font-family=\"Times,serif\" font-size=\"14.00\">1</text>\n",
       "</g>\n",
       "<!-- \\(F_S0\\) -->\n",
       "<g id=\"node9\" class=\"node\"><title>\\(F_S0\\)</title>\n",
       "<ellipse fill=\"none\" stroke=\"black\" cx=\"851.439\" cy=\"-227\" rx=\"34.836\" ry=\"34.836\"/>\n",
       "<ellipse fill=\"none\" stroke=\"black\" cx=\"851.439\" cy=\"-227\" rx=\"38.8544\" ry=\"38.8544\"/>\n",
       "<text text-anchor=\"middle\" x=\"851.439\" y=\"-222.8\" font-family=\"Times,serif\" font-size=\"14.00\">(F_S0)</text>\n",
       "</g>\n",
       "<!-- \\(F_I\\)&#45;&gt;\\(F_S0\\) -->\n",
       "<g id=\"edge19\" class=\"edge\"><title>\\(F_I\\)&#45;&gt;\\(F_S0\\)</title>\n",
       "<path fill=\"none\" stroke=\"black\" d=\"M767.604,-261.774C779.386,-256.828 793.249,-251.008 806.229,-245.559\"/>\n",
       "<polygon fill=\"black\" stroke=\"black\" points=\"807.615,-248.773 815.481,-241.675 804.905,-242.319 807.615,-248.773\"/>\n",
       "<text text-anchor=\"middle\" x=\"791.262\" y=\"-254.8\" font-family=\"Times,serif\" font-size=\"14.00\">0</text>\n",
       "</g>\n",
       "<!-- \\(I_F0101\\) -->\n",
       "<g id=\"node7\" class=\"node\"><title>\\(I_F0101\\)</title>\n",
       "<ellipse fill=\"none\" stroke=\"black\" cx=\"612.23\" cy=\"-196\" rx=\"45.9398\" ry=\"45.9398\"/>\n",
       "<ellipse fill=\"none\" stroke=\"black\" cx=\"612.23\" cy=\"-196\" rx=\"49.9373\" ry=\"49.9373\"/>\n",
       "<text text-anchor=\"middle\" x=\"612.23\" y=\"-191.8\" font-family=\"Times,serif\" font-size=\"14.00\">(I_F0101)</text>\n",
       "</g>\n",
       "<!-- \\(I_F0101\\)&#45;&gt;\\(I_S010\\) -->\n",
       "<g id=\"edge2\" class=\"edge\"><title>\\(I_F0101\\)&#45;&gt;\\(I_S010\\)</title>\n",
       "<path fill=\"none\" stroke=\"black\" d=\"M657.482,-174.244C680.476,-164.862 709.372,-156 736.48,-156 736.48,-156 736.48,-156 971.241,-156 993.828,-156 1018.81,-155.82 1040.08,-155.612\"/>\n",
       "<polygon fill=\"black\" stroke=\"black\" points=\"1040.24,-159.111 1050.2,-155.509 1040.17,-152.111 1040.24,-159.111\"/>\n",
       "<text text-anchor=\"middle\" x=\"851.439\" y=\"-158.8\" font-family=\"Times,serif\" font-size=\"14.00\">0</text>\n",
       "</g>\n",
       "<!-- \\(I_F0101\\)&#45;&gt;\\(F_I\\) -->\n",
       "<g id=\"edge4\" class=\"edge\"><title>\\(I_F0101\\)&#45;&gt;\\(F_I\\)</title>\n",
       "<path fill=\"none\" stroke=\"black\" d=\"M654.957,-222.407C669.993,-231.923 686.8,-242.56 701.229,-251.691\"/>\n",
       "<polygon fill=\"black\" stroke=\"black\" points=\"699.548,-254.769 709.869,-257.159 703.291,-248.854 699.548,-254.769\"/>\n",
       "<text text-anchor=\"middle\" x=\"683.698\" y=\"-244.8\" font-family=\"Times,serif\" font-size=\"14.00\">1</text>\n",
       "</g>\n",
       "<!-- \\(F_S010\\) -->\n",
       "<g id=\"node8\" class=\"node\"><title>\\(F_S010\\)</title>\n",
       "<ellipse fill=\"none\" stroke=\"black\" cx=\"471.741\" cy=\"-118\" rx=\"43.5388\" ry=\"43.5388\"/>\n",
       "<ellipse fill=\"none\" stroke=\"black\" cx=\"471.741\" cy=\"-118\" rx=\"47.5405\" ry=\"47.5405\"/>\n",
       "<text text-anchor=\"middle\" x=\"471.741\" y=\"-113.8\" font-family=\"Times,serif\" font-size=\"14.00\">(F_S010)</text>\n",
       "</g>\n",
       "<!-- \\(F_S010\\)&#45;&gt;\\(I_F0101\\) -->\n",
       "<g id=\"edge16\" class=\"edge\"><title>\\(F_S010\\)&#45;&gt;\\(I_F0101\\)</title>\n",
       "<path fill=\"none\" stroke=\"black\" d=\"M513.543,-140.981C527.95,-149.095 544.344,-158.329 559.533,-166.883\"/>\n",
       "<polygon fill=\"black\" stroke=\"black\" points=\"557.881,-169.97 568.312,-171.828 561.317,-163.871 557.881,-169.97\"/>\n",
       "<text text-anchor=\"middle\" x=\"540.761\" y=\"-159.8\" font-family=\"Times,serif\" font-size=\"14.00\">1</text>\n",
       "</g>\n",
       "<!-- \\(F_S010\\)&#45;&gt;\\(F_S0\\) -->\n",
       "<g id=\"edge10\" class=\"edge\"><title>\\(F_S010\\)&#45;&gt;\\(F_S0\\)</title>\n",
       "<path fill=\"none\" stroke=\"black\" d=\"M519.462,-113.65C563.677,-111.041 631.401,-110.992 687.198,-128 734.201,-142.328 781.51,-173.262 813.007,-196.764\"/>\n",
       "<polygon fill=\"black\" stroke=\"black\" points=\"810.977,-199.617 821.061,-202.869 815.206,-194.039 810.977,-199.617\"/>\n",
       "<text text-anchor=\"middle\" x=\"683.698\" y=\"-130.8\" font-family=\"Times,serif\" font-size=\"14.00\">0</text>\n",
       "</g>\n",
       "<!-- \\(F_S0\\)&#45;&gt;\\(I_S01\\) -->\n",
       "<g id=\"edge15\" class=\"edge\"><title>\\(F_S0\\)&#45;&gt;\\(I_S01\\)</title>\n",
       "<path fill=\"none\" stroke=\"black\" d=\"M890.361,-227C900.76,-227 912.15,-227 922.961,-227\"/>\n",
       "<polygon fill=\"black\" stroke=\"black\" points=\"923.097,-230.5 933.097,-227 923.097,-223.5 923.097,-230.5\"/>\n",
       "<text text-anchor=\"middle\" x=\"911.615\" y=\"-229.8\" font-family=\"Times,serif\" font-size=\"14.00\">1</text>\n",
       "</g>\n",
       "<!-- \\(F_S0\\)&#45;&gt;\\(F_S0\\) -->\n",
       "<g id=\"edge6\" class=\"edge\"><title>\\(F_S0\\)&#45;&gt;\\(F_S0\\)</title>\n",
       "<path fill=\"none\" stroke=\"black\" d=\"M840.213,-264.067C840.548,-275.095 844.29,-283.677 851.439,-283.677 856.13,-283.677 859.354,-279.981 861.111,-274.324\"/>\n",
       "<polygon fill=\"black\" stroke=\"black\" points=\"864.627,-274.479 862.664,-264.067 857.706,-273.43 864.627,-274.479\"/>\n",
       "<text text-anchor=\"middle\" x=\"851.439\" y=\"-286.477\" font-family=\"Times,serif\" font-size=\"14.00\">0</text>\n",
       "</g>\n",
       "<!-- \\(F_F0101\\)&#45;&gt;\\(I_I\\) -->\n",
       "<g id=\"edge5\" class=\"edge\"><title>\\(F_F0101\\)&#45;&gt;\\(I_I\\)</title>\n",
       "<path fill=\"none\" stroke=\"black\" d=\"M1191.96,-46.6672C1166.75,-24.2329 1130.76,-0 1092.91,-0 218.32,-0 218.32,-0 218.32,-0 149.964,-0 128.2,-97.7787 121.367,-152.678\"/>\n",
       "<polygon fill=\"black\" stroke=\"black\" points=\"117.878,-152.389 120.224,-162.72 124.833,-153.181 117.878,-152.389\"/>\n",
       "<text text-anchor=\"middle\" x=\"683.698\" y=\"-2.8\" font-family=\"Times,serif\" font-size=\"14.00\">1</text>\n",
       "</g>\n",
       "<!-- \\(F_F0101\\)&#45;&gt;\\(F_S010\\) -->\n",
       "<g id=\"edge17\" class=\"edge\"><title>\\(F_F0101\\)&#45;&gt;\\(F_S010\\)</title>\n",
       "<path fill=\"none\" stroke=\"black\" d=\"M1176.31,-84C1151.19,-84 1120.46,-84 1092.91,-84 910.615,-84 910.615,-84 910.615,-84 744.309,-84 702.691,-91.9455 537.261,-109 534.559,-109.279 531.797,-109.584 529.008,-109.909\"/>\n",
       "<polygon fill=\"black\" stroke=\"black\" points=\"528.36,-106.462 518.862,-111.157 529.214,-113.41 528.36,-106.462\"/>\n",
       "<text text-anchor=\"middle\" x=\"851.439\" y=\"-88.8\" font-family=\"Times,serif\" font-size=\"14.00\">0</text>\n",
       "</g>\n",
       "<!-- \\(F_S01\\)&#45;&gt;\\(I_I\\) -->\n",
       "<g id=\"edge14\" class=\"edge\"><title>\\(F_S01\\)&#45;&gt;\\(I_I\\)</title>\n",
       "<path fill=\"none\" stroke=\"black\" d=\"M300.423,-139.818C285.774,-147.762 268.498,-156.205 252.024,-162 219.534,-173.427 180.808,-180.585 153.415,-184.635\"/>\n",
       "<polygon fill=\"black\" stroke=\"black\" points=\"152.918,-181.171 143.508,-186.038 153.9,-188.102 152.918,-181.171\"/>\n",
       "<text text-anchor=\"middle\" x=\"219.32\" y=\"-181.8\" font-family=\"Times,serif\" font-size=\"14.00\">1</text>\n",
       "</g>\n",
       "<!-- \\(F_S01\\)&#45;&gt;\\(F_S010\\) -->\n",
       "<g id=\"edge20\" class=\"edge\"><title>\\(F_S01\\)&#45;&gt;\\(F_S010\\)</title>\n",
       "<path fill=\"none\" stroke=\"black\" d=\"M381.492,-118C391.742,-118 402.866,-118 413.67,-118\"/>\n",
       "<polygon fill=\"black\" stroke=\"black\" points=\"413.891,-121.5 423.891,-118 413.891,-114.5 413.891,-121.5\"/>\n",
       "<text text-anchor=\"middle\" x=\"402.721\" y=\"-120.8\" font-family=\"Times,serif\" font-size=\"14.00\">0</text>\n",
       "</g>\n",
       "</g>\n",
       "</svg>\n"
      ],
      "text/plain": [
       "<graphviz.dot.Digraph at 0x10fc02908>"
      ]
     },
     "execution_count": 53,
     "metadata": {},
     "output_type": "execute_result"
    }
   ],
   "source": [
    "dotObj_dfa(odd1sORends0101)"
   ]
  },
  {
   "cell_type": "markdown",
   "metadata": {
    "run_control": {
     "frozen": false,
     "read_only": false
    }
   },
   "source": [
    "## Apply DFA minimization"
   ]
  },
  {
   "cell_type": "code",
   "execution_count": 54,
   "metadata": {
    "run_control": {
     "frozen": false,
     "read_only": false
    }
   },
   "outputs": [],
   "source": [
    "Minodd1sORends0101 = min_dfa(odd1sORends0101)"
   ]
  },
  {
   "cell_type": "code",
   "execution_count": 55,
   "metadata": {
    "run_control": {
     "frozen": false,
     "read_only": false
    }
   },
   "outputs": [
    {
     "data": {
      "image/svg+xml": [
       "<?xml version=\"1.0\" encoding=\"UTF-8\" standalone=\"no\"?>\n",
       "<!DOCTYPE svg PUBLIC \"-//W3C//DTD SVG 1.1//EN\"\n",
       " \"http://www.w3.org/Graphics/SVG/1.1/DTD/svg11.dtd\">\n",
       "<!-- Generated by graphviz version 2.38.0 (20140413.2041)\n",
       " -->\n",
       "<!-- Title: %3 Pages: 1 -->\n",
       "<svg width=\"830pt\" height=\"240pt\"\n",
       " viewBox=\"0.00 0.00 829.87 239.55\" xmlns=\"http://www.w3.org/2000/svg\" xmlns:xlink=\"http://www.w3.org/1999/xlink\">\n",
       "<g id=\"graph0\" class=\"graph\" transform=\"scale(1 1) rotate(0) translate(4 235.547)\">\n",
       "<title>%3</title>\n",
       "<polygon fill=\"white\" stroke=\"none\" points=\"-4,4 -4,-235.547 825.873,-235.547 825.873,4 -4,4\"/>\n",
       "<!-- EMPTY -->\n",
       "<g id=\"node1\" class=\"node\"><title>EMPTY</title>\n",
       "</g>\n",
       "<!-- \\(I_S01\\) -->\n",
       "<g id=\"node3\" class=\"node\"><title>\\(I_S01\\)</title>\n",
       "<ellipse fill=\"none\" stroke=\"black\" cx=\"128.125\" cy=\"-61\" rx=\"37.2507\" ry=\"37.2507\"/>\n",
       "<text text-anchor=\"middle\" x=\"128.125\" y=\"-56.8\" font-family=\"Times,serif\" font-size=\"14.00\">(I_S01)</text>\n",
       "</g>\n",
       "<!-- EMPTY&#45;&gt;\\(I_S01\\) -->\n",
       "<g id=\"edge1\" class=\"edge\"><title>EMPTY&#45;&gt;\\(I_S01\\)</title>\n",
       "<path fill=\"none\" stroke=\"black\" d=\"M54.044,-61C62.2126,-61 71.4908,-61 80.6295,-61\"/>\n",
       "<polygon fill=\"black\" stroke=\"black\" points=\"80.8214,-64.5001 90.8214,-61 80.8213,-57.5001 80.8214,-64.5001\"/>\n",
       "</g>\n",
       "<!-- \\(I_S010\\) -->\n",
       "<g id=\"node2\" class=\"node\"><title>\\(I_S010\\)</title>\n",
       "<ellipse fill=\"none\" stroke=\"black\" cx=\"249.797\" cy=\"-158\" rx=\"41.5938\" ry=\"41.5938\"/>\n",
       "<text text-anchor=\"middle\" x=\"249.797\" y=\"-153.8\" font-family=\"Times,serif\" font-size=\"14.00\">(I_S010)</text>\n",
       "</g>\n",
       "<!-- \\(I_S010\\)&#45;&gt;\\(I_S010\\) -->\n",
       "<g id=\"edge10\" class=\"edge\"><title>\\(I_S010\\)&#45;&gt;\\(I_S010\\)</title>\n",
       "<path fill=\"none\" stroke=\"black\" d=\"M238.243,-198.075C238.801,-209.113 242.653,-217.547 249.797,-217.547 254.486,-217.547 257.756,-213.915 259.608,-208.298\"/>\n",
       "<polygon fill=\"black\" stroke=\"black\" points=\"263.121,-208.521 261.351,-198.075 256.22,-207.345 263.121,-208.521\"/>\n",
       "<text text-anchor=\"middle\" x=\"249.797\" y=\"-220.347\" font-family=\"Times,serif\" font-size=\"14.00\">0</text>\n",
       "</g>\n",
       "<!-- \\(F_S01\\) -->\n",
       "<g id=\"node6\" class=\"node\"><title>\\(F_S01\\)</title>\n",
       "<ellipse fill=\"none\" stroke=\"black\" cx=\"377.443\" cy=\"-114\" rx=\"39.1881\" ry=\"39.1881\"/>\n",
       "<ellipse fill=\"none\" stroke=\"black\" cx=\"377.443\" cy=\"-114\" rx=\"43.1973\" ry=\"43.1973\"/>\n",
       "<text text-anchor=\"middle\" x=\"377.443\" y=\"-109.8\" font-family=\"Times,serif\" font-size=\"14.00\">(F_S01)</text>\n",
       "</g>\n",
       "<!-- \\(I_S010\\)&#45;&gt;\\(F_S01\\) -->\n",
       "<g id=\"edge7\" class=\"edge\"><title>\\(I_S010\\)&#45;&gt;\\(F_S01\\)</title>\n",
       "<path fill=\"none\" stroke=\"black\" d=\"M289.178,-144.559C301.14,-140.371 314.502,-135.691 327.105,-131.278\"/>\n",
       "<polygon fill=\"black\" stroke=\"black\" points=\"328.277,-134.576 336.558,-127.967 325.963,-127.969 328.277,-134.576\"/>\n",
       "<text text-anchor=\"middle\" x=\"312.844\" y=\"-140.8\" font-family=\"Times,serif\" font-size=\"14.00\">1</text>\n",
       "</g>\n",
       "<!-- \\(I_S01\\)&#45;&gt;\\(I_S010\\) -->\n",
       "<g id=\"edge13\" class=\"edge\"><title>\\(I_S01\\)&#45;&gt;\\(I_S010\\)</title>\n",
       "<path fill=\"none\" stroke=\"black\" d=\"M157.486,-83.9876C172.811,-96.4092 191.986,-111.952 208.804,-125.583\"/>\n",
       "<polygon fill=\"black\" stroke=\"black\" points=\"206.87,-128.522 216.843,-132.099 211.278,-123.084 206.87,-128.522\"/>\n",
       "<text text-anchor=\"middle\" x=\"186.75\" y=\"-112.8\" font-family=\"Times,serif\" font-size=\"14.00\">0</text>\n",
       "</g>\n",
       "<!-- \\(F_S0\\) -->\n",
       "<g id=\"node4\" class=\"node\"><title>\\(F_S0\\)</title>\n",
       "<ellipse fill=\"none\" stroke=\"black\" cx=\"783.196\" cy=\"-61\" rx=\"34.836\" ry=\"34.836\"/>\n",
       "<ellipse fill=\"none\" stroke=\"black\" cx=\"783.196\" cy=\"-61\" rx=\"38.8544\" ry=\"38.8544\"/>\n",
       "<text text-anchor=\"middle\" x=\"783.196\" y=\"-56.8\" font-family=\"Times,serif\" font-size=\"14.00\">(F_S0)</text>\n",
       "</g>\n",
       "<!-- \\(I_S01\\)&#45;&gt;\\(F_S0\\) -->\n",
       "<g id=\"edge3\" class=\"edge\"><title>\\(I_S01\\)&#45;&gt;\\(F_S0\\)</title>\n",
       "<path fill=\"none\" stroke=\"black\" d=\"M163.872,-50.7109C187.577,-44.587 219.813,-38 248.797,-38 248.797,-38 248.797,-38 652.55,-38 680.477,-38 711.275,-43.238 735.843,-48.7146\"/>\n",
       "<polygon fill=\"black\" stroke=\"black\" points=\"735.088,-52.1322 745.619,-50.9788 736.667,-45.3127 735.088,-52.1322\"/>\n",
       "<text text-anchor=\"middle\" x=\"442.041\" y=\"-40.8\" font-family=\"Times,serif\" font-size=\"14.00\">1</text>\n",
       "</g>\n",
       "<!-- \\(F_S0\\)&#45;&gt;\\(I_S01\\) -->\n",
       "<g id=\"edge8\" class=\"edge\"><title>\\(F_S0\\)&#45;&gt;\\(I_S01\\)</title>\n",
       "<path fill=\"none\" stroke=\"black\" d=\"M752.099,-37.5903C726.944,-20.3879 689.365,-0 652.55,-0 248.797,-0 248.797,-0 248.797,-0 218.4,-0 187.932,-15.8145 165.346,-31.339\"/>\n",
       "<polygon fill=\"black\" stroke=\"black\" points=\"163.191,-28.5775 157.092,-37.2411 167.262,-34.2715 163.191,-28.5775\"/>\n",
       "<text text-anchor=\"middle\" x=\"442.041\" y=\"-2.8\" font-family=\"Times,serif\" font-size=\"14.00\">1</text>\n",
       "</g>\n",
       "<!-- \\(F_S0\\)&#45;&gt;\\(F_S0\\) -->\n",
       "<g id=\"edge6\" class=\"edge\"><title>\\(F_S0\\)&#45;&gt;\\(F_S0\\)</title>\n",
       "<path fill=\"none\" stroke=\"black\" d=\"M771.97,-98.0672C772.306,-109.095 776.047,-117.677 783.196,-117.677 787.887,-117.677 791.111,-113.981 792.868,-108.324\"/>\n",
       "<polygon fill=\"black\" stroke=\"black\" points=\"796.384,-108.479 794.421,-98.0672 789.463,-107.43 796.384,-108.479\"/>\n",
       "<text text-anchor=\"middle\" x=\"783.196\" y=\"-120.477\" font-family=\"Times,serif\" font-size=\"14.00\">0</text>\n",
       "</g>\n",
       "<!-- \\(F_S010\\) -->\n",
       "<g id=\"node5\" class=\"node\"><title>\\(F_S010\\)</title>\n",
       "<ellipse fill=\"none\" stroke=\"black\" cx=\"511.061\" cy=\"-114\" rx=\"43.5388\" ry=\"43.5388\"/>\n",
       "<ellipse fill=\"none\" stroke=\"black\" cx=\"511.061\" cy=\"-114\" rx=\"47.5405\" ry=\"47.5405\"/>\n",
       "<text text-anchor=\"middle\" x=\"511.061\" y=\"-109.8\" font-family=\"Times,serif\" font-size=\"14.00\">(F_S010)</text>\n",
       "</g>\n",
       "<!-- \\(F_S010\\)&#45;&gt;\\(F_S0\\) -->\n",
       "<g id=\"edge9\" class=\"edge\"><title>\\(F_S010\\)&#45;&gt;\\(F_S0\\)</title>\n",
       "<path fill=\"none\" stroke=\"black\" d=\"M557.496,-102.831C571.589,-99.5037 587.196,-95.9593 601.582,-93 646.629,-83.733 698.333,-74.7375 734.845,-68.6565\"/>\n",
       "<polygon fill=\"black\" stroke=\"black\" points=\"735.429,-72.1076 744.723,-67.0208 734.285,-65.2017 735.429,-72.1076\"/>\n",
       "<text text-anchor=\"middle\" x=\"651.55\" y=\"-95.8\" font-family=\"Times,serif\" font-size=\"14.00\">0</text>\n",
       "</g>\n",
       "<!-- \\(I_F0101\\) -->\n",
       "<g id=\"node7\" class=\"node\"><title>\\(I_F0101\\)</title>\n",
       "<ellipse fill=\"none\" stroke=\"black\" cx=\"651.55\" cy=\"-166\" rx=\"45.9398\" ry=\"45.9398\"/>\n",
       "<ellipse fill=\"none\" stroke=\"black\" cx=\"651.55\" cy=\"-166\" rx=\"49.9373\" ry=\"49.9373\"/>\n",
       "<text text-anchor=\"middle\" x=\"651.55\" y=\"-161.8\" font-family=\"Times,serif\" font-size=\"14.00\">(I_F0101)</text>\n",
       "</g>\n",
       "<!-- \\(F_S010\\)&#45;&gt;\\(I_F0101\\) -->\n",
       "<g id=\"edge11\" class=\"edge\"><title>\\(F_S010\\)&#45;&gt;\\(I_F0101\\)</title>\n",
       "<path fill=\"none\" stroke=\"black\" d=\"M555.88,-130.453C568.378,-135.146 582.16,-140.321 595.248,-145.235\"/>\n",
       "<polygon fill=\"black\" stroke=\"black\" points=\"594.036,-148.518 604.628,-148.757 596.496,-141.965 594.036,-148.518\"/>\n",
       "<text text-anchor=\"middle\" x=\"580.082\" y=\"-142.8\" font-family=\"Times,serif\" font-size=\"14.00\">1</text>\n",
       "</g>\n",
       "<!-- \\(F_S01\\)&#45;&gt;\\(I_S01\\) -->\n",
       "<g id=\"edge5\" class=\"edge\"><title>\\(F_S01\\)&#45;&gt;\\(I_S01\\)</title>\n",
       "<path fill=\"none\" stroke=\"black\" d=\"M335.415,-103.46C321.462,-99.9868 305.754,-96.1975 291.344,-93 252.275,-84.331 207.65,-75.6138 175.106,-69.4718\"/>\n",
       "<polygon fill=\"black\" stroke=\"black\" points=\"175.461,-65.9774 164.987,-67.5715 174.169,-72.8571 175.461,-65.9774\"/>\n",
       "<text text-anchor=\"middle\" x=\"249.797\" y=\"-95.8\" font-family=\"Times,serif\" font-size=\"14.00\">1</text>\n",
       "</g>\n",
       "<!-- \\(F_S01\\)&#45;&gt;\\(F_S010\\) -->\n",
       "<g id=\"edge12\" class=\"edge\"><title>\\(F_S01\\)&#45;&gt;\\(F_S010\\)</title>\n",
       "<path fill=\"none\" stroke=\"black\" d=\"M420.812,-114C431.063,-114 442.187,-114 452.99,-114\"/>\n",
       "<polygon fill=\"black\" stroke=\"black\" points=\"453.212,-117.5 463.212,-114 453.212,-110.5 453.212,-117.5\"/>\n",
       "<text text-anchor=\"middle\" x=\"442.041\" y=\"-116.8\" font-family=\"Times,serif\" font-size=\"14.00\">0</text>\n",
       "</g>\n",
       "<!-- \\(I_F0101\\)&#45;&gt;\\(I_S010\\) -->\n",
       "<g id=\"edge2\" class=\"edge\"><title>\\(I_F0101\\)&#45;&gt;\\(I_S010\\)</title>\n",
       "<path fill=\"none\" stroke=\"black\" d=\"M601.409,-169.166C587.564,-169.924 572.488,-170.622 558.582,-171 458.933,-173.707 433.806,-172.681 334.344,-166 323.657,-165.282 312.219,-164.317 301.343,-163.306\"/>\n",
       "<polygon fill=\"black\" stroke=\"black\" points=\"301.417,-159.797 291.13,-162.328 300.751,-166.765 301.417,-159.797\"/>\n",
       "<text text-anchor=\"middle\" x=\"442.041\" y=\"-173.8\" font-family=\"Times,serif\" font-size=\"14.00\">0</text>\n",
       "</g>\n",
       "<!-- \\(I_F0101\\)&#45;&gt;\\(F_S0\\) -->\n",
       "<g id=\"edge4\" class=\"edge\"><title>\\(I_F0101\\)&#45;&gt;\\(F_S0\\)</title>\n",
       "<path fill=\"none\" stroke=\"black\" d=\"M691.097,-134.781C708.031,-121.066 727.845,-105.019 744.662,-91.3989\"/>\n",
       "<polygon fill=\"black\" stroke=\"black\" points=\"747.082,-93.9424 752.651,-84.9287 742.677,-88.5027 747.082,-93.9424\"/>\n",
       "<text text-anchor=\"middle\" x=\"723.019\" y=\"-113.8\" font-family=\"Times,serif\" font-size=\"14.00\">1</text>\n",
       "</g>\n",
       "</g>\n",
       "</svg>\n"
      ],
      "text/plain": [
       "<graphviz.dot.Digraph at 0x10fc02a58>"
      ]
     },
     "execution_count": 55,
     "metadata": {},
     "output_type": "execute_result"
    }
   ],
   "source": [
    "dotObj_dfa(Minodd1sORends0101)"
   ]
  },
  {
   "cell_type": "markdown",
   "metadata": {
    "run_control": {
     "frozen": false,
     "read_only": false
    }
   },
   "source": [
    "## Minimization vs. Isomorphism vs. Lang. Eql.\n",
    "\n",
    "After minimization, we may not have isomorphic DFA, but we \n",
    "will have language-equivalent DFA"
   ]
  },
  {
   "cell_type": "code",
   "execution_count": 56,
   "metadata": {
    "run_control": {
     "frozen": false,
     "read_only": false
    }
   },
   "outputs": [
    {
     "data": {
      "text/plain": [
       "False"
      ]
     },
     "execution_count": 56,
     "metadata": {},
     "output_type": "execute_result"
    }
   ],
   "source": [
    "iso_dfa(odd1sORends0101, Minodd1sORends0101)"
   ]
  },
  {
   "cell_type": "code",
   "execution_count": 57,
   "metadata": {
    "run_control": {
     "frozen": false,
     "read_only": false
    }
   },
   "outputs": [
    {
     "data": {
      "text/plain": [
       "True"
      ]
     },
     "execution_count": 57,
     "metadata": {},
     "output_type": "execute_result"
    }
   ],
   "source": [
    "langeq_dfa(odd1sORends0101, Minodd1sORends0101)"
   ]
  },
  {
   "cell_type": "markdown",
   "metadata": {
    "run_control": {
     "frozen": false,
     "read_only": false
    }
   },
   "source": [
    "## Now define \"odd 1s\" AND \"ends in 0101\"\n",
    "\n",
    "Define the and of these machines and minimize it"
   ]
  },
  {
   "cell_type": "code",
   "execution_count": 58,
   "metadata": {
    "run_control": {
     "frozen": false,
     "read_only": false
    }
   },
   "outputs": [],
   "source": [
    "odd1sANDends0101 = intersect_dfa(dfaOdd1s,ends0101)"
   ]
  },
  {
   "cell_type": "code",
   "execution_count": 59,
   "metadata": {
    "run_control": {
     "frozen": false,
     "read_only": false
    }
   },
   "outputs": [
    {
     "data": {
      "image/svg+xml": [
       "<?xml version=\"1.0\" encoding=\"UTF-8\" standalone=\"no\"?>\n",
       "<!DOCTYPE svg PUBLIC \"-//W3C//DTD SVG 1.1//EN\"\n",
       " \"http://www.w3.org/Graphics/SVG/1.1/DTD/svg11.dtd\">\n",
       "<!-- Generated by graphviz version 2.38.0 (20140413.2041)\n",
       " -->\n",
       "<!-- Title: %3 Pages: 1 -->\n",
       "<svg width=\"1140pt\" height=\"412pt\"\n",
       " viewBox=\"0.00 0.00 1139.94 412.00\" xmlns=\"http://www.w3.org/2000/svg\" xmlns:xlink=\"http://www.w3.org/1999/xlink\">\n",
       "<g id=\"graph0\" class=\"graph\" transform=\"scale(1 1) rotate(0) translate(4 408)\">\n",
       "<title>%3</title>\n",
       "<polygon fill=\"white\" stroke=\"none\" points=\"-4,4 -4,-408 1135.94,-408 1135.94,4 -4,4\"/>\n",
       "<!-- EMPTY -->\n",
       "<g id=\"node1\" class=\"node\"><title>EMPTY</title>\n",
       "</g>\n",
       "<!-- \\(I_I\\) -->\n",
       "<g id=\"node9\" class=\"node\"><title>\\(I_I\\)</title>\n",
       "<ellipse fill=\"none\" stroke=\"black\" cx=\"117.308\" cy=\"-82\" rx=\"26.118\" ry=\"26.118\"/>\n",
       "<text text-anchor=\"middle\" x=\"117.308\" y=\"-77.8\" font-family=\"Times,serif\" font-size=\"14.00\">(I_I)</text>\n",
       "</g>\n",
       "<!-- EMPTY&#45;&gt;\\(I_I\\) -->\n",
       "<g id=\"edge1\" class=\"edge\"><title>EMPTY&#45;&gt;\\(I_I\\)</title>\n",
       "<path fill=\"none\" stroke=\"black\" d=\"M54.0178,-82C62.3552,-82 71.7368,-82 80.64,-82\"/>\n",
       "<polygon fill=\"black\" stroke=\"black\" points=\"80.7808,-85.5001 90.7807,-82 80.7807,-78.5001 80.7808,-85.5001\"/>\n",
       "</g>\n",
       "<!-- \\(I_S010\\) -->\n",
       "<g id=\"node2\" class=\"node\"><title>\\(I_S010\\)</title>\n",
       "<ellipse fill=\"none\" stroke=\"black\" cx=\"557.331\" cy=\"-192\" rx=\"41.5938\" ry=\"41.5938\"/>\n",
       "<text text-anchor=\"middle\" x=\"557.331\" y=\"-187.8\" font-family=\"Times,serif\" font-size=\"14.00\">(I_S010)</text>\n",
       "</g>\n",
       "<!-- \\(I_S0\\) -->\n",
       "<g id=\"node4\" class=\"node\"><title>\\(I_S0\\)</title>\n",
       "<ellipse fill=\"none\" stroke=\"black\" cx=\"693.82\" cy=\"-99\" rx=\"32.9081\" ry=\"32.9081\"/>\n",
       "<text text-anchor=\"middle\" x=\"693.82\" y=\"-94.8\" font-family=\"Times,serif\" font-size=\"14.00\">(I_S0)</text>\n",
       "</g>\n",
       "<!-- \\(I_S010\\)&#45;&gt;\\(I_S0\\) -->\n",
       "<g id=\"edge13\" class=\"edge\"><title>\\(I_S010\\)&#45;&gt;\\(I_S0\\)</title>\n",
       "<path fill=\"none\" stroke=\"black\" d=\"M591.921,-168.772C612.072,-154.838 637.655,-137.147 658.018,-123.066\"/>\n",
       "<polygon fill=\"black\" stroke=\"black\" points=\"660.16,-125.84 666.395,-117.273 656.179,-120.082 660.16,-125.84\"/>\n",
       "<text text-anchor=\"middle\" x=\"620.378\" y=\"-154.8\" font-family=\"Times,serif\" font-size=\"14.00\">0</text>\n",
       "</g>\n",
       "<!-- \\(F_F0101\\) -->\n",
       "<g id=\"node11\" class=\"node\"><title>\\(F_F0101\\)</title>\n",
       "<ellipse fill=\"none\" stroke=\"black\" cx=\"693.82\" cy=\"-272\" rx=\"47.8885\" ry=\"47.8885\"/>\n",
       "<ellipse fill=\"none\" stroke=\"black\" cx=\"693.82\" cy=\"-272\" rx=\"51.8841\" ry=\"51.8841\"/>\n",
       "<text text-anchor=\"middle\" x=\"693.82\" y=\"-267.8\" font-family=\"Times,serif\" font-size=\"14.00\">(F_F0101)</text>\n",
       "</g>\n",
       "<!-- \\(I_S010\\)&#45;&gt;\\(F_F0101\\) -->\n",
       "<g id=\"edge12\" class=\"edge\"><title>\\(I_S010\\)&#45;&gt;\\(F_F0101\\)</title>\n",
       "<path fill=\"none\" stroke=\"black\" d=\"M593.315,-212.81C607.631,-221.326 624.503,-231.362 640.247,-240.727\"/>\n",
       "<polygon fill=\"black\" stroke=\"black\" points=\"638.471,-243.743 648.854,-245.847 642.049,-237.727 638.471,-243.743\"/>\n",
       "<text text-anchor=\"middle\" x=\"620.378\" y=\"-232.8\" font-family=\"Times,serif\" font-size=\"14.00\">1</text>\n",
       "</g>\n",
       "<!-- \\(F_I\\) -->\n",
       "<g id=\"node3\" class=\"node\"><title>\\(F_I\\)</title>\n",
       "<ellipse fill=\"none\" stroke=\"black\" cx=\"214.898\" cy=\"-119\" rx=\"28.0651\" ry=\"28.0651\"/>\n",
       "<text text-anchor=\"middle\" x=\"214.898\" y=\"-114.8\" font-family=\"Times,serif\" font-size=\"14.00\">(F_I)</text>\n",
       "</g>\n",
       "<!-- \\(F_S0\\) -->\n",
       "<g id=\"node7\" class=\"node\"><title>\\(F_S0\\)</title>\n",
       "<ellipse fill=\"none\" stroke=\"black\" cx=\"320.857\" cy=\"-193\" rx=\"34.8545\" ry=\"34.8545\"/>\n",
       "<text text-anchor=\"middle\" x=\"320.857\" y=\"-188.8\" font-family=\"Times,serif\" font-size=\"14.00\">(F_S0)</text>\n",
       "</g>\n",
       "<!-- \\(F_I\\)&#45;&gt;\\(F_S0\\) -->\n",
       "<g id=\"edge19\" class=\"edge\"><title>\\(F_I\\)&#45;&gt;\\(F_S0\\)</title>\n",
       "<path fill=\"none\" stroke=\"black\" d=\"M238.456,-135.057C251.758,-144.526 268.893,-156.723 284.008,-167.482\"/>\n",
       "<polygon fill=\"black\" stroke=\"black\" points=\"281.983,-170.337 292.16,-173.285 286.043,-164.634 281.983,-170.337\"/>\n",
       "<text text-anchor=\"middle\" x=\"264.68\" y=\"-158.8\" font-family=\"Times,serif\" font-size=\"14.00\">0</text>\n",
       "</g>\n",
       "<!-- \\(F_I\\)&#45;&gt;\\(I_I\\) -->\n",
       "<g id=\"edge9\" class=\"edge\"><title>\\(F_I\\)&#45;&gt;\\(I_I\\)</title>\n",
       "<path fill=\"none\" stroke=\"black\" d=\"M188.109,-109.018C177.007,-104.72 163.878,-99.6387 152.02,-95.0487\"/>\n",
       "<polygon fill=\"black\" stroke=\"black\" points=\"153.019,-91.6824 142.43,-91.3367 150.492,-98.2105 153.019,-91.6824\"/>\n",
       "<text text-anchor=\"middle\" x=\"165.117\" y=\"-103.8\" font-family=\"Times,serif\" font-size=\"14.00\">1</text>\n",
       "</g>\n",
       "<!-- \\(I_S0\\)&#45;&gt;\\(I_S0\\) -->\n",
       "<g id=\"edge11\" class=\"edge\"><title>\\(I_S0\\)&#45;&gt;\\(I_S0\\)</title>\n",
       "<path fill=\"none\" stroke=\"black\" d=\"M680.36,-128.939C679.841,-140.303 684.328,-149.703 693.82,-149.703 700.197,-149.703 704.315,-145.46 706.174,-139.229\"/>\n",
       "<polygon fill=\"black\" stroke=\"black\" points=\"709.691,-139.255 707.279,-128.939 702.731,-138.507 709.691,-139.255\"/>\n",
       "<text text-anchor=\"middle\" x=\"693.82\" y=\"-152.503\" font-family=\"Times,serif\" font-size=\"14.00\">0</text>\n",
       "</g>\n",
       "<!-- \\(F_S01\\) -->\n",
       "<g id=\"node10\" class=\"node\"><title>\\(F_S01\\)</title>\n",
       "<ellipse fill=\"none\" stroke=\"black\" cx=\"827.86\" cy=\"-105\" rx=\"39.1973\" ry=\"39.1973\"/>\n",
       "<text text-anchor=\"middle\" x=\"827.86\" y=\"-100.8\" font-family=\"Times,serif\" font-size=\"14.00\">(F_S01)</text>\n",
       "</g>\n",
       "<!-- \\(I_S0\\)&#45;&gt;\\(F_S01\\) -->\n",
       "<g id=\"edge8\" class=\"edge\"><title>\\(I_S0\\)&#45;&gt;\\(F_S01\\)</title>\n",
       "<path fill=\"none\" stroke=\"black\" d=\"M726.783,-100.452C742.205,-101.153 761.042,-102.009 778.196,-102.789\"/>\n",
       "<polygon fill=\"black\" stroke=\"black\" points=\"778.465,-106.304 788.613,-103.262 778.783,-99.3116 778.465,-106.304\"/>\n",
       "<text text-anchor=\"middle\" x=\"767.262\" y=\"-105.8\" font-family=\"Times,serif\" font-size=\"14.00\">1</text>\n",
       "</g>\n",
       "<!-- \\(I_F0101\\) -->\n",
       "<g id=\"node5\" class=\"node\"><title>\\(I_F0101\\)</title>\n",
       "<ellipse fill=\"none\" stroke=\"black\" cx=\"1085.97\" cy=\"-192\" rx=\"45.9373\" ry=\"45.9373\"/>\n",
       "<text text-anchor=\"middle\" x=\"1085.97\" y=\"-187.8\" font-family=\"Times,serif\" font-size=\"14.00\">(I_F0101)</text>\n",
       "</g>\n",
       "<!-- \\(I_F0101\\)&#45;&gt;\\(I_S010\\) -->\n",
       "<g id=\"edge2\" class=\"edge\"><title>\\(I_F0101\\)&#45;&gt;\\(I_S010\\)</title>\n",
       "<path fill=\"none\" stroke=\"black\" d=\"M1039.98,-192C1014.83,-192 982.91,-192 954.479,-192 692.82,-192 692.82,-192 692.82,-192 665.116,-192 634.202,-192 609.005,-192\"/>\n",
       "<polygon fill=\"black\" stroke=\"black\" points=\"608.939,-188.5 598.939,-192 608.939,-195.5 608.939,-188.5\"/>\n",
       "<text text-anchor=\"middle\" x=\"827.86\" y=\"-194.8\" font-family=\"Times,serif\" font-size=\"14.00\">0</text>\n",
       "</g>\n",
       "<!-- \\(I_F0101\\)&#45;&gt;\\(F_I\\) -->\n",
       "<g id=\"edge4\" class=\"edge\"><title>\\(I_F0101\\)&#45;&gt;\\(F_I\\)</title>\n",
       "<path fill=\"none\" stroke=\"black\" d=\"M1069.67,-148.693C1050.47,-103.143 1012.83,-38 954.479,-38 766.262,-38 766.262,-38 766.262,-38 644.389,-38 617.157,-80 495.284,-80 319.857,-80 319.857,-80 319.857,-80 294.729,-80 268.236,-90.1121 248.284,-100.038\"/>\n",
       "<polygon fill=\"black\" stroke=\"black\" points=\"246.583,-96.9779 239.328,-104.699 249.815,-103.187 246.583,-96.9779\"/>\n",
       "<text text-anchor=\"middle\" x=\"620.378\" y=\"-65.8\" font-family=\"Times,serif\" font-size=\"14.00\">1</text>\n",
       "</g>\n",
       "<!-- \\(F_S010\\) -->\n",
       "<g id=\"node6\" class=\"node\"><title>\\(F_S010\\)</title>\n",
       "<ellipse fill=\"none\" stroke=\"black\" cx=\"953.479\" cy=\"-266\" rx=\"43.5405\" ry=\"43.5405\"/>\n",
       "<text text-anchor=\"middle\" x=\"953.479\" y=\"-261.8\" font-family=\"Times,serif\" font-size=\"14.00\">(F_S010)</text>\n",
       "</g>\n",
       "<!-- \\(F_S010\\)&#45;&gt;\\(I_F0101\\) -->\n",
       "<g id=\"edge16\" class=\"edge\"><title>\\(F_S010\\)&#45;&gt;\\(I_F0101\\)</title>\n",
       "<path fill=\"none\" stroke=\"black\" d=\"M991.872,-244.795C1005.72,-236.943 1021.62,-227.923 1036.32,-219.586\"/>\n",
       "<polygon fill=\"black\" stroke=\"black\" points=\"1038.32,-222.477 1045.29,-214.5 1034.87,-216.388 1038.32,-222.477\"/>\n",
       "<text text-anchor=\"middle\" x=\"1018.5\" y=\"-234.8\" font-family=\"Times,serif\" font-size=\"14.00\">1</text>\n",
       "</g>\n",
       "<!-- \\(F_S010\\)&#45;&gt;\\(F_S0\\) -->\n",
       "<g id=\"edge10\" class=\"edge\"><title>\\(F_S010\\)&#45;&gt;\\(F_S0\\)</title>\n",
       "<path fill=\"none\" stroke=\"black\" d=\"M925.233,-299.496C902.348,-323.643 867.292,-352 828.86,-352 434.659,-352 434.659,-352 434.659,-352 377.783,-352 346.97,-283.486 332.512,-236.408\"/>\n",
       "<polygon fill=\"black\" stroke=\"black\" points=\"335.844,-235.331 329.671,-226.72 329.126,-237.301 335.844,-235.331\"/>\n",
       "<text text-anchor=\"middle\" x=\"620.378\" y=\"-354.8\" font-family=\"Times,serif\" font-size=\"14.00\">0</text>\n",
       "</g>\n",
       "<!-- \\(F_S0\\)&#45;&gt;\\(F_S0\\) -->\n",
       "<g id=\"edge6\" class=\"edge\"><title>\\(F_S0\\)&#45;&gt;\\(F_S0\\)</title>\n",
       "<path fill=\"none\" stroke=\"black\" d=\"M310.357,-226.18C310.412,-237.034 313.912,-245.677 320.857,-245.677 325.415,-245.677 328.489,-241.955 330.079,-236.328\"/>\n",
       "<polygon fill=\"black\" stroke=\"black\" points=\"333.58,-236.539 331.356,-226.18 326.635,-235.664 333.58,-236.539\"/>\n",
       "<text text-anchor=\"middle\" x=\"320.857\" y=\"-248.477\" font-family=\"Times,serif\" font-size=\"14.00\">0</text>\n",
       "</g>\n",
       "<!-- \\(I_S01\\) -->\n",
       "<g id=\"node8\" class=\"node\"><title>\\(I_S01\\)</title>\n",
       "<ellipse fill=\"none\" stroke=\"black\" cx=\"435.659\" cy=\"-192\" rx=\"37.2507\" ry=\"37.2507\"/>\n",
       "<text text-anchor=\"middle\" x=\"435.659\" y=\"-187.8\" font-family=\"Times,serif\" font-size=\"14.00\">(I_S01)</text>\n",
       "</g>\n",
       "<!-- \\(F_S0\\)&#45;&gt;\\(I_S01\\) -->\n",
       "<g id=\"edge15\" class=\"edge\"><title>\\(F_S0\\)&#45;&gt;\\(I_S01\\)</title>\n",
       "<path fill=\"none\" stroke=\"black\" d=\"M355.701,-192.7C365.93,-192.609 377.345,-192.508 388.245,-192.411\"/>\n",
       "<polygon fill=\"black\" stroke=\"black\" points=\"388.514,-195.909 398.483,-192.321 388.452,-188.91 388.514,-195.909\"/>\n",
       "<text text-anchor=\"middle\" x=\"377.034\" y=\"-195.8\" font-family=\"Times,serif\" font-size=\"14.00\">1</text>\n",
       "</g>\n",
       "<!-- \\(I_S01\\)&#45;&gt;\\(I_S010\\) -->\n",
       "<g id=\"edge18\" class=\"edge\"><title>\\(I_S01\\)&#45;&gt;\\(I_S010\\)</title>\n",
       "<path fill=\"none\" stroke=\"black\" d=\"M472.889,-192C483.107,-192 494.419,-192 505.33,-192\"/>\n",
       "<polygon fill=\"black\" stroke=\"black\" points=\"505.62,-195.5 515.62,-192 505.62,-188.5 505.62,-195.5\"/>\n",
       "<text text-anchor=\"middle\" x=\"494.284\" y=\"-194.8\" font-family=\"Times,serif\" font-size=\"14.00\">0</text>\n",
       "</g>\n",
       "<!-- \\(I_S01\\)&#45;&gt;\\(F_I\\) -->\n",
       "<g id=\"edge7\" class=\"edge\"><title>\\(I_S01\\)&#45;&gt;\\(F_I\\)</title>\n",
       "<path fill=\"none\" stroke=\"black\" d=\"M407.793,-167.332C393.361,-155.531 374.639,-142.392 355.534,-135 322.598,-122.257 282.274,-118.808 253.441,-118.218\"/>\n",
       "<polygon fill=\"black\" stroke=\"black\" points=\"253.408,-114.718 243.374,-118.118 253.338,-121.717 253.408,-114.718\"/>\n",
       "<text text-anchor=\"middle\" x=\"320.857\" y=\"-137.8\" font-family=\"Times,serif\" font-size=\"14.00\">1</text>\n",
       "</g>\n",
       "<!-- \\(I_I\\)&#45;&gt;\\(F_I\\) -->\n",
       "<g id=\"edge3\" class=\"edge\"><title>\\(I_I\\)&#45;&gt;\\(F_I\\)</title>\n",
       "<path fill=\"none\" stroke=\"black\" d=\"M143.71,-79.3514C151.868,-79.3243 160.809,-80.1872 168.617,-83 174.817,-85.2339 180.815,-88.6881 186.305,-92.5903\"/>\n",
       "<polygon fill=\"black\" stroke=\"black\" points=\"184.44,-95.575 194.473,-98.98 188.753,-90.0617 184.44,-95.575\"/>\n",
       "<text text-anchor=\"middle\" x=\"165.117\" y=\"-85.8\" font-family=\"Times,serif\" font-size=\"14.00\">1</text>\n",
       "</g>\n",
       "<!-- \\(I_I\\)&#45;&gt;\\(I_S0\\) -->\n",
       "<g id=\"edge21\" class=\"edge\"><title>\\(I_I\\)&#45;&gt;\\(I_S0\\)</title>\n",
       "<path fill=\"none\" stroke=\"black\" d=\"M139.65,-67.3326C158.358,-55.9166 186.734,-42 213.898,-42 213.898,-42 213.898,-42 558.331,-42 588.12,-42 596.259,-44.8387 623.878,-56 635.73,-60.7898 647.831,-67.5771 658.519,-74.3474\"/>\n",
       "<polygon fill=\"black\" stroke=\"black\" points=\"656.844,-77.4348 667.128,-79.9863 660.68,-71.5791 656.844,-77.4348\"/>\n",
       "<text text-anchor=\"middle\" x=\"377.034\" y=\"-44.8\" font-family=\"Times,serif\" font-size=\"14.00\">0</text>\n",
       "</g>\n",
       "<!-- \\(F_S01\\)&#45;&gt;\\(F_S010\\) -->\n",
       "<g id=\"edge20\" class=\"edge\"><title>\\(F_S01\\)&#45;&gt;\\(F_S010\\)</title>\n",
       "<path fill=\"none\" stroke=\"black\" d=\"M852.403,-135.662C871.594,-160.656 898.9,-196.219 920.142,-223.885\"/>\n",
       "<polygon fill=\"black\" stroke=\"black\" points=\"917.376,-226.029 926.242,-231.829 922.928,-221.766 917.376,-226.029\"/>\n",
       "<text text-anchor=\"middle\" x=\"888.459\" y=\"-188.8\" font-family=\"Times,serif\" font-size=\"14.00\">0</text>\n",
       "</g>\n",
       "<!-- \\(F_S01\\)&#45;&gt;\\(I_I\\) -->\n",
       "<g id=\"edge14\" class=\"edge\"><title>\\(F_S01\\)&#45;&gt;\\(I_I\\)</title>\n",
       "<path fill=\"none\" stroke=\"black\" d=\"M805.503,-72.6398C782.291,-41.7883 742.12,-0 694.82,-0 213.898,-0 213.898,-0 213.898,-0 181.183,-0 154.056,-28.0119 137.16,-51.2913\"/>\n",
       "<polygon fill=\"black\" stroke=\"black\" points=\"134.226,-49.3802 131.407,-59.5931 139.98,-53.3674 134.226,-49.3802\"/>\n",
       "<text text-anchor=\"middle\" x=\"435.659\" y=\"-2.8\" font-family=\"Times,serif\" font-size=\"14.00\">1</text>\n",
       "</g>\n",
       "<!-- \\(F_F0101\\)&#45;&gt;\\(F_S010\\) -->\n",
       "<g id=\"edge17\" class=\"edge\"><title>\\(F_F0101\\)&#45;&gt;\\(F_S010\\)</title>\n",
       "<path fill=\"none\" stroke=\"black\" d=\"M746.033,-270.807C790.556,-269.771 854.796,-268.275 899.757,-267.228\"/>\n",
       "<polygon fill=\"black\" stroke=\"black\" points=\"899.978,-270.724 909.894,-266.992 899.815,-263.726 899.978,-270.724\"/>\n",
       "<text text-anchor=\"middle\" x=\"827.86\" y=\"-271.8\" font-family=\"Times,serif\" font-size=\"14.00\">0</text>\n",
       "</g>\n",
       "<!-- \\(F_F0101\\)&#45;&gt;\\(I_I\\) -->\n",
       "<g id=\"edge5\" class=\"edge\"><title>\\(F_F0101\\)&#45;&gt;\\(I_I\\)</title>\n",
       "<path fill=\"none\" stroke=\"black\" d=\"M669.363,-317.917C657.883,-336.412 642.493,-356.515 623.878,-370 599.212,-387.869 588.789,-390 558.331,-390 213.898,-390 213.898,-390 213.898,-390 157.637,-390 130.798,-200.171 121.861,-118.57\"/>\n",
       "<polygon fill=\"black\" stroke=\"black\" points=\"125.302,-117.834 120.764,-108.26 118.341,-118.574 125.302,-117.834\"/>\n",
       "<text text-anchor=\"middle\" x=\"377.034\" y=\"-392.8\" font-family=\"Times,serif\" font-size=\"14.00\">1</text>\n",
       "</g>\n",
       "</g>\n",
       "</svg>\n"
      ],
      "text/plain": [
       "<graphviz.dot.Digraph at 0x10f39f828>"
      ]
     },
     "execution_count": 59,
     "metadata": {},
     "output_type": "execute_result"
    }
   ],
   "source": [
    "dotObj_dfa(odd1sANDends0101)"
   ]
  },
  {
   "cell_type": "code",
   "execution_count": 60,
   "metadata": {
    "run_control": {
     "frozen": false,
     "read_only": false
    }
   },
   "outputs": [],
   "source": [
    "Minodd1sANDends0101 = min_dfa(odd1sANDends0101)"
   ]
  },
  {
   "cell_type": "code",
   "execution_count": 61,
   "metadata": {
    "run_control": {
     "frozen": false,
     "read_only": false
    }
   },
   "outputs": [
    {
     "data": {
      "image/svg+xml": [
       "<?xml version=\"1.0\" encoding=\"UTF-8\" standalone=\"no\"?>\n",
       "<!DOCTYPE svg PUBLIC \"-//W3C//DTD SVG 1.1//EN\"\n",
       " \"http://www.w3.org/Graphics/SVG/1.1/DTD/svg11.dtd\">\n",
       "<!-- Generated by graphviz version 2.38.0 (20140413.2041)\n",
       " -->\n",
       "<!-- Title: %3 Pages: 1 -->\n",
       "<svg width=\"784pt\" height=\"258pt\"\n",
       " viewBox=\"0.00 0.00 784.24 257.68\" xmlns=\"http://www.w3.org/2000/svg\" xmlns:xlink=\"http://www.w3.org/1999/xlink\">\n",
       "<g id=\"graph0\" class=\"graph\" transform=\"scale(1 1) rotate(0) translate(4 253.677)\">\n",
       "<title>%3</title>\n",
       "<polygon fill=\"white\" stroke=\"none\" points=\"-4,4 -4,-253.677 780.239,-253.677 780.239,4 -4,4\"/>\n",
       "<!-- EMPTY -->\n",
       "<g id=\"node1\" class=\"node\"><title>EMPTY</title>\n",
       "</g>\n",
       "<!-- \\(I_S0\\) -->\n",
       "<g id=\"node6\" class=\"node\"><title>\\(I_S0\\)</title>\n",
       "<ellipse fill=\"none\" stroke=\"black\" cx=\"123.703\" cy=\"-62\" rx=\"32.9081\" ry=\"32.9081\"/>\n",
       "<text text-anchor=\"middle\" x=\"123.703\" y=\"-57.8\" font-family=\"Times,serif\" font-size=\"14.00\">(I_S0)</text>\n",
       "</g>\n",
       "<!-- EMPTY&#45;&gt;\\(I_S0\\) -->\n",
       "<g id=\"edge1\" class=\"edge\"><title>EMPTY&#45;&gt;\\(I_S0\\)</title>\n",
       "<path fill=\"none\" stroke=\"black\" d=\"M54.1288,-62C62.4028,-62 71.7668,-62 80.8565,-62\"/>\n",
       "<polygon fill=\"black\" stroke=\"black\" points=\"80.9299,-65.5001 90.9298,-62 80.9298,-58.5001 80.9299,-65.5001\"/>\n",
       "</g>\n",
       "<!-- \\(I_S010\\) -->\n",
       "<g id=\"node2\" class=\"node\"><title>\\(I_S010\\)</title>\n",
       "<ellipse fill=\"none\" stroke=\"black\" cx=\"587.808\" cy=\"-95\" rx=\"41.5938\" ry=\"41.5938\"/>\n",
       "<text text-anchor=\"middle\" x=\"587.808\" y=\"-90.8\" font-family=\"Times,serif\" font-size=\"14.00\">(I_S010)</text>\n",
       "</g>\n",
       "<!-- \\(I_S010\\)&#45;&gt;\\(I_S0\\) -->\n",
       "<g id=\"edge10\" class=\"edge\"><title>\\(I_S010\\)&#45;&gt;\\(I_S0\\)</title>\n",
       "<path fill=\"none\" stroke=\"black\" d=\"M551.882,-73.7929C526.772,-60.5501 491.603,-46 458.292,-46 226.689,-46 226.689,-46 226.689,-46 206.425,-46 184.168,-49.1209 165.63,-52.606\"/>\n",
       "<polygon fill=\"black\" stroke=\"black\" points=\"164.88,-49.1864 155.75,-54.5621 166.24,-56.0531 164.88,-49.1864\"/>\n",
       "<text text-anchor=\"middle\" x=\"333.647\" y=\"-48.8\" font-family=\"Times,serif\" font-size=\"14.00\">0</text>\n",
       "</g>\n",
       "<!-- \\(F_F0101\\) -->\n",
       "<g id=\"node7\" class=\"node\"><title>\\(F_F0101\\)</title>\n",
       "<ellipse fill=\"none\" stroke=\"black\" cx=\"724.297\" cy=\"-95\" rx=\"47.8885\" ry=\"47.8885\"/>\n",
       "<ellipse fill=\"none\" stroke=\"black\" cx=\"724.297\" cy=\"-95\" rx=\"51.8841\" ry=\"51.8841\"/>\n",
       "<text text-anchor=\"middle\" x=\"724.297\" y=\"-90.8\" font-family=\"Times,serif\" font-size=\"14.00\">(F_F0101)</text>\n",
       "</g>\n",
       "<!-- \\(I_S010\\)&#45;&gt;\\(F_F0101\\) -->\n",
       "<g id=\"edge9\" class=\"edge\"><title>\\(I_S010\\)&#45;&gt;\\(F_F0101\\)</title>\n",
       "<path fill=\"none\" stroke=\"black\" d=\"M629.524,-95C639.823,-95 651.112,-95 662.177,-95\"/>\n",
       "<polygon fill=\"black\" stroke=\"black\" points=\"662.241,-98.5001 672.241,-95 662.241,-91.5001 662.241,-98.5001\"/>\n",
       "<text text-anchor=\"middle\" x=\"650.855\" y=\"-97.8\" font-family=\"Times,serif\" font-size=\"14.00\">1</text>\n",
       "</g>\n",
       "<!-- \\(F_I\\) -->\n",
       "<g id=\"node3\" class=\"node\"><title>\\(F_I\\)</title>\n",
       "<ellipse fill=\"none\" stroke=\"black\" cx=\"227.689\" cy=\"-116\" rx=\"28.0651\" ry=\"28.0651\"/>\n",
       "<text text-anchor=\"middle\" x=\"227.689\" y=\"-111.8\" font-family=\"Times,serif\" font-size=\"14.00\">(F_I)</text>\n",
       "</g>\n",
       "<!-- \\(F_S0\\) -->\n",
       "<g id=\"node5\" class=\"node\"><title>\\(F_S0\\)</title>\n",
       "<ellipse fill=\"none\" stroke=\"black\" cx=\"333.647\" cy=\"-183\" rx=\"34.8545\" ry=\"34.8545\"/>\n",
       "<text text-anchor=\"middle\" x=\"333.647\" y=\"-178.8\" font-family=\"Times,serif\" font-size=\"14.00\">(F_S0)</text>\n",
       "</g>\n",
       "<!-- \\(F_I\\)&#45;&gt;\\(F_S0\\) -->\n",
       "<g id=\"edge13\" class=\"edge\"><title>\\(F_I\\)&#45;&gt;\\(F_S0\\)</title>\n",
       "<path fill=\"none\" stroke=\"black\" d=\"M251.76,-130.869C264.541,-139.106 280.74,-149.547 295.28,-158.917\"/>\n",
       "<polygon fill=\"black\" stroke=\"black\" points=\"293.771,-162.109 304.072,-164.584 297.563,-156.225 293.771,-162.109\"/>\n",
       "<text text-anchor=\"middle\" x=\"277.47\" y=\"-151.8\" font-family=\"Times,serif\" font-size=\"14.00\">0</text>\n",
       "</g>\n",
       "<!-- \\(F_I\\)&#45;&gt;\\(I_S0\\) -->\n",
       "<g id=\"edge7\" class=\"edge\"><title>\\(F_I\\)&#45;&gt;\\(I_S0\\)</title>\n",
       "<path fill=\"none\" stroke=\"black\" d=\"M207.532,-95.3826C199.997,-88.3263 190.883,-80.9672 181.407,-76 176.58,-73.4697 171.28,-71.3847 165.918,-69.6696\"/>\n",
       "<polygon fill=\"black\" stroke=\"black\" points=\"166.865,-66.3 156.291,-66.9657 164.972,-73.0393 166.865,-66.3\"/>\n",
       "<text text-anchor=\"middle\" x=\"177.907\" y=\"-78.8\" font-family=\"Times,serif\" font-size=\"14.00\">1</text>\n",
       "</g>\n",
       "<!-- \\(I_F0101\\) -->\n",
       "<g id=\"node4\" class=\"node\"><title>\\(I_F0101\\)</title>\n",
       "<ellipse fill=\"none\" stroke=\"black\" cx=\"457.292\" cy=\"-120\" rx=\"45.9373\" ry=\"45.9373\"/>\n",
       "<text text-anchor=\"middle\" x=\"457.292\" y=\"-115.8\" font-family=\"Times,serif\" font-size=\"14.00\">(I_F0101)</text>\n",
       "</g>\n",
       "<!-- \\(I_F0101\\)&#45;&gt;\\(I_S010\\) -->\n",
       "<g id=\"edge2\" class=\"edge\"><title>\\(I_F0101\\)&#45;&gt;\\(I_S010\\)</title>\n",
       "<path fill=\"none\" stroke=\"black\" d=\"M502.52,-111.396C513.527,-109.255 525.405,-106.945 536.673,-104.753\"/>\n",
       "<polygon fill=\"black\" stroke=\"black\" points=\"537.661,-108.126 546.808,-102.781 536.324,-101.255 537.661,-108.126\"/>\n",
       "<text text-anchor=\"middle\" x=\"524.761\" y=\"-110.8\" font-family=\"Times,serif\" font-size=\"14.00\">0</text>\n",
       "</g>\n",
       "<!-- \\(I_F0101\\)&#45;&gt;\\(F_I\\) -->\n",
       "<g id=\"edge4\" class=\"edge\"><title>\\(I_F0101\\)&#45;&gt;\\(F_I\\)</title>\n",
       "<path fill=\"none\" stroke=\"black\" d=\"M411.075,-119.205C368.649,-118.46 305.939,-117.358 266.212,-116.659\"/>\n",
       "<polygon fill=\"black\" stroke=\"black\" points=\"266.203,-113.159 256.143,-116.482 266.08,-120.158 266.203,-113.159\"/>\n",
       "<text text-anchor=\"middle\" x=\"333.647\" y=\"-120.8\" font-family=\"Times,serif\" font-size=\"14.00\">1</text>\n",
       "</g>\n",
       "<!-- \\(F_S0\\)&#45;&gt;\\(I_F0101\\) -->\n",
       "<g id=\"edge11\" class=\"edge\"><title>\\(F_S0\\)&#45;&gt;\\(I_F0101\\)</title>\n",
       "<path fill=\"none\" stroke=\"black\" d=\"M364.717,-167.427C377.414,-160.851 392.538,-153.019 406.8,-145.632\"/>\n",
       "<polygon fill=\"black\" stroke=\"black\" points=\"408.743,-148.567 416.013,-140.861 405.524,-142.351 408.743,-148.567\"/>\n",
       "<text text-anchor=\"middle\" x=\"389.824\" y=\"-157.8\" font-family=\"Times,serif\" font-size=\"14.00\">1</text>\n",
       "</g>\n",
       "<!-- \\(F_S0\\)&#45;&gt;\\(F_S0\\) -->\n",
       "<g id=\"edge6\" class=\"edge\"><title>\\(F_S0\\)&#45;&gt;\\(F_S0\\)</title>\n",
       "<path fill=\"none\" stroke=\"black\" d=\"M323.148,-216.18C323.202,-227.034 326.702,-235.677 333.647,-235.677 338.205,-235.677 341.279,-231.955 342.869,-226.328\"/>\n",
       "<polygon fill=\"black\" stroke=\"black\" points=\"346.37,-226.539 344.146,-216.18 339.425,-225.664 346.37,-226.539\"/>\n",
       "<text text-anchor=\"middle\" x=\"333.647\" y=\"-238.477\" font-family=\"Times,serif\" font-size=\"14.00\">0</text>\n",
       "</g>\n",
       "<!-- \\(I_S0\\)&#45;&gt;\\(F_I\\) -->\n",
       "<g id=\"edge3\" class=\"edge\"><title>\\(I_S0\\)&#45;&gt;\\(F_I\\)</title>\n",
       "<path fill=\"none\" stroke=\"black\" d=\"M151.019,-80.1471C158.428,-84.9221 166.599,-89.884 174.407,-94 179.82,-96.8538 185.686,-99.6184 191.465,-102.169\"/>\n",
       "<polygon fill=\"black\" stroke=\"black\" points=\"190.444,-105.538 201.016,-106.237 193.187,-99.0981 190.444,-105.538\"/>\n",
       "<text text-anchor=\"middle\" x=\"177.907\" y=\"-100.8\" font-family=\"Times,serif\" font-size=\"14.00\">1</text>\n",
       "</g>\n",
       "<!-- \\(I_S0\\)&#45;&gt;\\(I_S0\\) -->\n",
       "<g id=\"edge8\" class=\"edge\"><title>\\(I_S0\\)&#45;&gt;\\(I_S0\\)</title>\n",
       "<path fill=\"none\" stroke=\"black\" d=\"M114.328,-93.6896C114.328,-104.253 117.453,-112.703 123.703,-112.703 127.707,-112.703 130.429,-109.235 131.868,-103.965\"/>\n",
       "<polygon fill=\"black\" stroke=\"black\" points=\"135.384,-104.031 133.078,-93.6896 128.432,-103.211 135.384,-104.031\"/>\n",
       "<text text-anchor=\"middle\" x=\"123.703\" y=\"-115.503\" font-family=\"Times,serif\" font-size=\"14.00\">0</text>\n",
       "</g>\n",
       "<!-- \\(F_F0101\\)&#45;&gt;\\(F_S0\\) -->\n",
       "<g id=\"edge12\" class=\"edge\"><title>\\(F_F0101\\)&#45;&gt;\\(F_S0\\)</title>\n",
       "<path fill=\"none\" stroke=\"black\" d=\"M679.553,-121.946C664.118,-130.582 646.365,-139.564 629.355,-146 544.729,-178.019 437.66,-183.528 378.67,-183.825\"/>\n",
       "<polygon fill=\"black\" stroke=\"black\" points=\"378.579,-180.325 368.579,-183.827 378.58,-187.325 378.579,-180.325\"/>\n",
       "<text text-anchor=\"middle\" x=\"524.761\" y=\"-174.8\" font-family=\"Times,serif\" font-size=\"14.00\">0</text>\n",
       "</g>\n",
       "<!-- \\(F_F0101\\)&#45;&gt;\\(I_S0\\) -->\n",
       "<g id=\"edge5\" class=\"edge\"><title>\\(F_F0101\\)&#45;&gt;\\(I_S0\\)</title>\n",
       "<path fill=\"none\" stroke=\"black\" d=\"M690.927,-54.9868C666.08,-29.024 629.258,-0 588.808,-0 226.689,-0 226.689,-0 226.689,-0 199.674,-0 173.724,-16.0805 154.761,-31.8627\"/>\n",
       "<polygon fill=\"black\" stroke=\"black\" points=\"152.316,-29.3506 147.079,-38.5605 156.916,-34.6268 152.316,-29.3506\"/>\n",
       "<text text-anchor=\"middle\" x=\"389.824\" y=\"-2.8\" font-family=\"Times,serif\" font-size=\"14.00\">1</text>\n",
       "</g>\n",
       "</g>\n",
       "</svg>\n"
      ],
      "text/plain": [
       "<graphviz.dot.Digraph at 0x10f3dd198>"
      ]
     },
     "execution_count": 61,
     "metadata": {},
     "output_type": "execute_result"
    }
   ],
   "source": [
    "dotObj_dfa(Minodd1sANDends0101)"
   ]
  },
  {
   "cell_type": "markdown",
   "metadata": {
    "run_control": {
     "frozen": false,
     "read_only": false
    }
   },
   "source": [
    "## Now, complement the individual machines"
   ]
  },
  {
   "cell_type": "code",
   "execution_count": 62,
   "metadata": {
    "run_control": {
     "frozen": false,
     "read_only": false
    }
   },
   "outputs": [],
   "source": [
    "CdfaOdd1s = comp_dfa(dfaOdd1s)"
   ]
  },
  {
   "cell_type": "code",
   "execution_count": 63,
   "metadata": {
    "run_control": {
     "frozen": false,
     "read_only": false
    }
   },
   "outputs": [],
   "source": [
    "Cends0101 = comp_dfa(ends0101)"
   ]
  },
  {
   "cell_type": "markdown",
   "metadata": {
    "run_control": {
     "frozen": false,
     "read_only": false
    }
   },
   "source": [
    "## Complement of the union of the complements\n",
    "\n",
    "The complement of the union of the complements of M1 and M2 is of course the intersection of M1 and M2! Let us check that!\n"
   ]
  },
  {
   "cell_type": "code",
   "execution_count": 64,
   "metadata": {
    "run_control": {
     "frozen": false,
     "read_only": false
    }
   },
   "outputs": [],
   "source": [
    "C_CdfaOdd1sORCends0101 = comp_dfa(union_dfa(CdfaOdd1s, Cends0101))"
   ]
  },
  {
   "cell_type": "code",
   "execution_count": 65,
   "metadata": {
    "run_control": {
     "frozen": false,
     "read_only": false
    }
   },
   "outputs": [
    {
     "data": {
      "image/svg+xml": [
       "<?xml version=\"1.0\" encoding=\"UTF-8\" standalone=\"no\"?>\n",
       "<!DOCTYPE svg PUBLIC \"-//W3C//DTD SVG 1.1//EN\"\n",
       " \"http://www.w3.org/Graphics/SVG/1.1/DTD/svg11.dtd\">\n",
       "<!-- Generated by graphviz version 2.38.0 (20140413.2041)\n",
       " -->\n",
       "<!-- Title: %3 Pages: 1 -->\n",
       "<svg width=\"1140pt\" height=\"412pt\"\n",
       " viewBox=\"0.00 0.00 1139.94 412.00\" xmlns=\"http://www.w3.org/2000/svg\" xmlns:xlink=\"http://www.w3.org/1999/xlink\">\n",
       "<g id=\"graph0\" class=\"graph\" transform=\"scale(1 1) rotate(0) translate(4 408)\">\n",
       "<title>%3</title>\n",
       "<polygon fill=\"white\" stroke=\"none\" points=\"-4,4 -4,-408 1135.94,-408 1135.94,4 -4,4\"/>\n",
       "<!-- EMPTY -->\n",
       "<g id=\"node1\" class=\"node\"><title>EMPTY</title>\n",
       "</g>\n",
       "<!-- \\(I_I\\) -->\n",
       "<g id=\"node9\" class=\"node\"><title>\\(I_I\\)</title>\n",
       "<ellipse fill=\"none\" stroke=\"black\" cx=\"117.308\" cy=\"-82\" rx=\"26.118\" ry=\"26.118\"/>\n",
       "<text text-anchor=\"middle\" x=\"117.308\" y=\"-77.8\" font-family=\"Times,serif\" font-size=\"14.00\">(I_I)</text>\n",
       "</g>\n",
       "<!-- EMPTY&#45;&gt;\\(I_I\\) -->\n",
       "<g id=\"edge1\" class=\"edge\"><title>EMPTY&#45;&gt;\\(I_I\\)</title>\n",
       "<path fill=\"none\" stroke=\"black\" d=\"M54.0178,-82C62.3552,-82 71.7368,-82 80.64,-82\"/>\n",
       "<polygon fill=\"black\" stroke=\"black\" points=\"80.7808,-85.5001 90.7807,-82 80.7807,-78.5001 80.7808,-85.5001\"/>\n",
       "</g>\n",
       "<!-- \\(I_S010\\) -->\n",
       "<g id=\"node2\" class=\"node\"><title>\\(I_S010\\)</title>\n",
       "<ellipse fill=\"none\" stroke=\"black\" cx=\"557.331\" cy=\"-192\" rx=\"41.5938\" ry=\"41.5938\"/>\n",
       "<text text-anchor=\"middle\" x=\"557.331\" y=\"-187.8\" font-family=\"Times,serif\" font-size=\"14.00\">(I_S010)</text>\n",
       "</g>\n",
       "<!-- \\(I_S0\\) -->\n",
       "<g id=\"node4\" class=\"node\"><title>\\(I_S0\\)</title>\n",
       "<ellipse fill=\"none\" stroke=\"black\" cx=\"693.82\" cy=\"-99\" rx=\"32.9081\" ry=\"32.9081\"/>\n",
       "<text text-anchor=\"middle\" x=\"693.82\" y=\"-94.8\" font-family=\"Times,serif\" font-size=\"14.00\">(I_S0)</text>\n",
       "</g>\n",
       "<!-- \\(I_S010\\)&#45;&gt;\\(I_S0\\) -->\n",
       "<g id=\"edge13\" class=\"edge\"><title>\\(I_S010\\)&#45;&gt;\\(I_S0\\)</title>\n",
       "<path fill=\"none\" stroke=\"black\" d=\"M591.921,-168.772C612.072,-154.838 637.655,-137.147 658.018,-123.066\"/>\n",
       "<polygon fill=\"black\" stroke=\"black\" points=\"660.16,-125.84 666.395,-117.273 656.179,-120.082 660.16,-125.84\"/>\n",
       "<text text-anchor=\"middle\" x=\"620.378\" y=\"-154.8\" font-family=\"Times,serif\" font-size=\"14.00\">0</text>\n",
       "</g>\n",
       "<!-- \\(F_F0101\\) -->\n",
       "<g id=\"node11\" class=\"node\"><title>\\(F_F0101\\)</title>\n",
       "<ellipse fill=\"none\" stroke=\"black\" cx=\"693.82\" cy=\"-272\" rx=\"47.8885\" ry=\"47.8885\"/>\n",
       "<ellipse fill=\"none\" stroke=\"black\" cx=\"693.82\" cy=\"-272\" rx=\"51.8841\" ry=\"51.8841\"/>\n",
       "<text text-anchor=\"middle\" x=\"693.82\" y=\"-267.8\" font-family=\"Times,serif\" font-size=\"14.00\">(F_F0101)</text>\n",
       "</g>\n",
       "<!-- \\(I_S010\\)&#45;&gt;\\(F_F0101\\) -->\n",
       "<g id=\"edge12\" class=\"edge\"><title>\\(I_S010\\)&#45;&gt;\\(F_F0101\\)</title>\n",
       "<path fill=\"none\" stroke=\"black\" d=\"M593.315,-212.81C607.631,-221.326 624.503,-231.362 640.247,-240.727\"/>\n",
       "<polygon fill=\"black\" stroke=\"black\" points=\"638.471,-243.743 648.854,-245.847 642.049,-237.727 638.471,-243.743\"/>\n",
       "<text text-anchor=\"middle\" x=\"620.378\" y=\"-232.8\" font-family=\"Times,serif\" font-size=\"14.00\">1</text>\n",
       "</g>\n",
       "<!-- \\(F_I\\) -->\n",
       "<g id=\"node3\" class=\"node\"><title>\\(F_I\\)</title>\n",
       "<ellipse fill=\"none\" stroke=\"black\" cx=\"214.898\" cy=\"-119\" rx=\"28.0651\" ry=\"28.0651\"/>\n",
       "<text text-anchor=\"middle\" x=\"214.898\" y=\"-114.8\" font-family=\"Times,serif\" font-size=\"14.00\">(F_I)</text>\n",
       "</g>\n",
       "<!-- \\(F_S0\\) -->\n",
       "<g id=\"node7\" class=\"node\"><title>\\(F_S0\\)</title>\n",
       "<ellipse fill=\"none\" stroke=\"black\" cx=\"320.857\" cy=\"-193\" rx=\"34.8545\" ry=\"34.8545\"/>\n",
       "<text text-anchor=\"middle\" x=\"320.857\" y=\"-188.8\" font-family=\"Times,serif\" font-size=\"14.00\">(F_S0)</text>\n",
       "</g>\n",
       "<!-- \\(F_I\\)&#45;&gt;\\(F_S0\\) -->\n",
       "<g id=\"edge19\" class=\"edge\"><title>\\(F_I\\)&#45;&gt;\\(F_S0\\)</title>\n",
       "<path fill=\"none\" stroke=\"black\" d=\"M238.456,-135.057C251.758,-144.526 268.893,-156.723 284.008,-167.482\"/>\n",
       "<polygon fill=\"black\" stroke=\"black\" points=\"281.983,-170.337 292.16,-173.285 286.043,-164.634 281.983,-170.337\"/>\n",
       "<text text-anchor=\"middle\" x=\"264.68\" y=\"-158.8\" font-family=\"Times,serif\" font-size=\"14.00\">0</text>\n",
       "</g>\n",
       "<!-- \\(F_I\\)&#45;&gt;\\(I_I\\) -->\n",
       "<g id=\"edge9\" class=\"edge\"><title>\\(F_I\\)&#45;&gt;\\(I_I\\)</title>\n",
       "<path fill=\"none\" stroke=\"black\" d=\"M188.109,-109.018C177.007,-104.72 163.878,-99.6387 152.02,-95.0487\"/>\n",
       "<polygon fill=\"black\" stroke=\"black\" points=\"153.019,-91.6824 142.43,-91.3367 150.492,-98.2105 153.019,-91.6824\"/>\n",
       "<text text-anchor=\"middle\" x=\"165.117\" y=\"-103.8\" font-family=\"Times,serif\" font-size=\"14.00\">1</text>\n",
       "</g>\n",
       "<!-- \\(I_S0\\)&#45;&gt;\\(I_S0\\) -->\n",
       "<g id=\"edge11\" class=\"edge\"><title>\\(I_S0\\)&#45;&gt;\\(I_S0\\)</title>\n",
       "<path fill=\"none\" stroke=\"black\" d=\"M680.36,-128.939C679.841,-140.303 684.328,-149.703 693.82,-149.703 700.197,-149.703 704.315,-145.46 706.174,-139.229\"/>\n",
       "<polygon fill=\"black\" stroke=\"black\" points=\"709.691,-139.255 707.279,-128.939 702.731,-138.507 709.691,-139.255\"/>\n",
       "<text text-anchor=\"middle\" x=\"693.82\" y=\"-152.503\" font-family=\"Times,serif\" font-size=\"14.00\">0</text>\n",
       "</g>\n",
       "<!-- \\(F_S01\\) -->\n",
       "<g id=\"node10\" class=\"node\"><title>\\(F_S01\\)</title>\n",
       "<ellipse fill=\"none\" stroke=\"black\" cx=\"827.86\" cy=\"-105\" rx=\"39.1973\" ry=\"39.1973\"/>\n",
       "<text text-anchor=\"middle\" x=\"827.86\" y=\"-100.8\" font-family=\"Times,serif\" font-size=\"14.00\">(F_S01)</text>\n",
       "</g>\n",
       "<!-- \\(I_S0\\)&#45;&gt;\\(F_S01\\) -->\n",
       "<g id=\"edge8\" class=\"edge\"><title>\\(I_S0\\)&#45;&gt;\\(F_S01\\)</title>\n",
       "<path fill=\"none\" stroke=\"black\" d=\"M726.783,-100.452C742.205,-101.153 761.042,-102.009 778.196,-102.789\"/>\n",
       "<polygon fill=\"black\" stroke=\"black\" points=\"778.465,-106.304 788.613,-103.262 778.783,-99.3116 778.465,-106.304\"/>\n",
       "<text text-anchor=\"middle\" x=\"767.262\" y=\"-105.8\" font-family=\"Times,serif\" font-size=\"14.00\">1</text>\n",
       "</g>\n",
       "<!-- \\(I_F0101\\) -->\n",
       "<g id=\"node5\" class=\"node\"><title>\\(I_F0101\\)</title>\n",
       "<ellipse fill=\"none\" stroke=\"black\" cx=\"1085.97\" cy=\"-192\" rx=\"45.9373\" ry=\"45.9373\"/>\n",
       "<text text-anchor=\"middle\" x=\"1085.97\" y=\"-187.8\" font-family=\"Times,serif\" font-size=\"14.00\">(I_F0101)</text>\n",
       "</g>\n",
       "<!-- \\(I_F0101\\)&#45;&gt;\\(I_S010\\) -->\n",
       "<g id=\"edge2\" class=\"edge\"><title>\\(I_F0101\\)&#45;&gt;\\(I_S010\\)</title>\n",
       "<path fill=\"none\" stroke=\"black\" d=\"M1039.98,-192C1014.83,-192 982.91,-192 954.479,-192 692.82,-192 692.82,-192 692.82,-192 665.116,-192 634.202,-192 609.005,-192\"/>\n",
       "<polygon fill=\"black\" stroke=\"black\" points=\"608.939,-188.5 598.939,-192 608.939,-195.5 608.939,-188.5\"/>\n",
       "<text text-anchor=\"middle\" x=\"827.86\" y=\"-194.8\" font-family=\"Times,serif\" font-size=\"14.00\">0</text>\n",
       "</g>\n",
       "<!-- \\(I_F0101\\)&#45;&gt;\\(F_I\\) -->\n",
       "<g id=\"edge4\" class=\"edge\"><title>\\(I_F0101\\)&#45;&gt;\\(F_I\\)</title>\n",
       "<path fill=\"none\" stroke=\"black\" d=\"M1069.67,-148.693C1050.47,-103.143 1012.83,-38 954.479,-38 766.262,-38 766.262,-38 766.262,-38 644.389,-38 617.157,-80 495.284,-80 319.857,-80 319.857,-80 319.857,-80 294.729,-80 268.236,-90.1121 248.284,-100.038\"/>\n",
       "<polygon fill=\"black\" stroke=\"black\" points=\"246.583,-96.9779 239.328,-104.699 249.815,-103.187 246.583,-96.9779\"/>\n",
       "<text text-anchor=\"middle\" x=\"620.378\" y=\"-65.8\" font-family=\"Times,serif\" font-size=\"14.00\">1</text>\n",
       "</g>\n",
       "<!-- \\(F_S010\\) -->\n",
       "<g id=\"node6\" class=\"node\"><title>\\(F_S010\\)</title>\n",
       "<ellipse fill=\"none\" stroke=\"black\" cx=\"953.479\" cy=\"-266\" rx=\"43.5405\" ry=\"43.5405\"/>\n",
       "<text text-anchor=\"middle\" x=\"953.479\" y=\"-261.8\" font-family=\"Times,serif\" font-size=\"14.00\">(F_S010)</text>\n",
       "</g>\n",
       "<!-- \\(F_S010\\)&#45;&gt;\\(I_F0101\\) -->\n",
       "<g id=\"edge16\" class=\"edge\"><title>\\(F_S010\\)&#45;&gt;\\(I_F0101\\)</title>\n",
       "<path fill=\"none\" stroke=\"black\" d=\"M991.872,-244.795C1005.72,-236.943 1021.62,-227.923 1036.32,-219.586\"/>\n",
       "<polygon fill=\"black\" stroke=\"black\" points=\"1038.32,-222.477 1045.29,-214.5 1034.87,-216.388 1038.32,-222.477\"/>\n",
       "<text text-anchor=\"middle\" x=\"1018.5\" y=\"-234.8\" font-family=\"Times,serif\" font-size=\"14.00\">1</text>\n",
       "</g>\n",
       "<!-- \\(F_S010\\)&#45;&gt;\\(F_S0\\) -->\n",
       "<g id=\"edge10\" class=\"edge\"><title>\\(F_S010\\)&#45;&gt;\\(F_S0\\)</title>\n",
       "<path fill=\"none\" stroke=\"black\" d=\"M925.233,-299.496C902.348,-323.643 867.292,-352 828.86,-352 434.659,-352 434.659,-352 434.659,-352 377.783,-352 346.97,-283.486 332.512,-236.408\"/>\n",
       "<polygon fill=\"black\" stroke=\"black\" points=\"335.844,-235.331 329.671,-226.72 329.126,-237.301 335.844,-235.331\"/>\n",
       "<text text-anchor=\"middle\" x=\"620.378\" y=\"-354.8\" font-family=\"Times,serif\" font-size=\"14.00\">0</text>\n",
       "</g>\n",
       "<!-- \\(F_S0\\)&#45;&gt;\\(F_S0\\) -->\n",
       "<g id=\"edge6\" class=\"edge\"><title>\\(F_S0\\)&#45;&gt;\\(F_S0\\)</title>\n",
       "<path fill=\"none\" stroke=\"black\" d=\"M310.357,-226.18C310.412,-237.034 313.912,-245.677 320.857,-245.677 325.415,-245.677 328.489,-241.955 330.079,-236.328\"/>\n",
       "<polygon fill=\"black\" stroke=\"black\" points=\"333.58,-236.539 331.356,-226.18 326.635,-235.664 333.58,-236.539\"/>\n",
       "<text text-anchor=\"middle\" x=\"320.857\" y=\"-248.477\" font-family=\"Times,serif\" font-size=\"14.00\">0</text>\n",
       "</g>\n",
       "<!-- \\(I_S01\\) -->\n",
       "<g id=\"node8\" class=\"node\"><title>\\(I_S01\\)</title>\n",
       "<ellipse fill=\"none\" stroke=\"black\" cx=\"435.659\" cy=\"-192\" rx=\"37.2507\" ry=\"37.2507\"/>\n",
       "<text text-anchor=\"middle\" x=\"435.659\" y=\"-187.8\" font-family=\"Times,serif\" font-size=\"14.00\">(I_S01)</text>\n",
       "</g>\n",
       "<!-- \\(F_S0\\)&#45;&gt;\\(I_S01\\) -->\n",
       "<g id=\"edge15\" class=\"edge\"><title>\\(F_S0\\)&#45;&gt;\\(I_S01\\)</title>\n",
       "<path fill=\"none\" stroke=\"black\" d=\"M355.701,-192.7C365.93,-192.609 377.345,-192.508 388.245,-192.411\"/>\n",
       "<polygon fill=\"black\" stroke=\"black\" points=\"388.514,-195.909 398.483,-192.321 388.452,-188.91 388.514,-195.909\"/>\n",
       "<text text-anchor=\"middle\" x=\"377.034\" y=\"-195.8\" font-family=\"Times,serif\" font-size=\"14.00\">1</text>\n",
       "</g>\n",
       "<!-- \\(I_S01\\)&#45;&gt;\\(I_S010\\) -->\n",
       "<g id=\"edge18\" class=\"edge\"><title>\\(I_S01\\)&#45;&gt;\\(I_S010\\)</title>\n",
       "<path fill=\"none\" stroke=\"black\" d=\"M472.889,-192C483.107,-192 494.419,-192 505.33,-192\"/>\n",
       "<polygon fill=\"black\" stroke=\"black\" points=\"505.62,-195.5 515.62,-192 505.62,-188.5 505.62,-195.5\"/>\n",
       "<text text-anchor=\"middle\" x=\"494.284\" y=\"-194.8\" font-family=\"Times,serif\" font-size=\"14.00\">0</text>\n",
       "</g>\n",
       "<!-- \\(I_S01\\)&#45;&gt;\\(F_I\\) -->\n",
       "<g id=\"edge7\" class=\"edge\"><title>\\(I_S01\\)&#45;&gt;\\(F_I\\)</title>\n",
       "<path fill=\"none\" stroke=\"black\" d=\"M407.793,-167.332C393.361,-155.531 374.639,-142.392 355.534,-135 322.598,-122.257 282.274,-118.808 253.441,-118.218\"/>\n",
       "<polygon fill=\"black\" stroke=\"black\" points=\"253.408,-114.718 243.374,-118.118 253.338,-121.717 253.408,-114.718\"/>\n",
       "<text text-anchor=\"middle\" x=\"320.857\" y=\"-137.8\" font-family=\"Times,serif\" font-size=\"14.00\">1</text>\n",
       "</g>\n",
       "<!-- \\(I_I\\)&#45;&gt;\\(F_I\\) -->\n",
       "<g id=\"edge3\" class=\"edge\"><title>\\(I_I\\)&#45;&gt;\\(F_I\\)</title>\n",
       "<path fill=\"none\" stroke=\"black\" d=\"M143.71,-79.3514C151.868,-79.3243 160.809,-80.1872 168.617,-83 174.817,-85.2339 180.815,-88.6881 186.305,-92.5903\"/>\n",
       "<polygon fill=\"black\" stroke=\"black\" points=\"184.44,-95.575 194.473,-98.98 188.753,-90.0617 184.44,-95.575\"/>\n",
       "<text text-anchor=\"middle\" x=\"165.117\" y=\"-85.8\" font-family=\"Times,serif\" font-size=\"14.00\">1</text>\n",
       "</g>\n",
       "<!-- \\(I_I\\)&#45;&gt;\\(I_S0\\) -->\n",
       "<g id=\"edge21\" class=\"edge\"><title>\\(I_I\\)&#45;&gt;\\(I_S0\\)</title>\n",
       "<path fill=\"none\" stroke=\"black\" d=\"M139.65,-67.3326C158.358,-55.9166 186.734,-42 213.898,-42 213.898,-42 213.898,-42 558.331,-42 588.12,-42 596.259,-44.8387 623.878,-56 635.73,-60.7898 647.831,-67.5771 658.519,-74.3474\"/>\n",
       "<polygon fill=\"black\" stroke=\"black\" points=\"656.844,-77.4348 667.128,-79.9863 660.68,-71.5791 656.844,-77.4348\"/>\n",
       "<text text-anchor=\"middle\" x=\"377.034\" y=\"-44.8\" font-family=\"Times,serif\" font-size=\"14.00\">0</text>\n",
       "</g>\n",
       "<!-- \\(F_S01\\)&#45;&gt;\\(F_S010\\) -->\n",
       "<g id=\"edge20\" class=\"edge\"><title>\\(F_S01\\)&#45;&gt;\\(F_S010\\)</title>\n",
       "<path fill=\"none\" stroke=\"black\" d=\"M852.403,-135.662C871.594,-160.656 898.9,-196.219 920.142,-223.885\"/>\n",
       "<polygon fill=\"black\" stroke=\"black\" points=\"917.376,-226.029 926.242,-231.829 922.928,-221.766 917.376,-226.029\"/>\n",
       "<text text-anchor=\"middle\" x=\"888.459\" y=\"-188.8\" font-family=\"Times,serif\" font-size=\"14.00\">0</text>\n",
       "</g>\n",
       "<!-- \\(F_S01\\)&#45;&gt;\\(I_I\\) -->\n",
       "<g id=\"edge14\" class=\"edge\"><title>\\(F_S01\\)&#45;&gt;\\(I_I\\)</title>\n",
       "<path fill=\"none\" stroke=\"black\" d=\"M805.503,-72.6398C782.291,-41.7883 742.12,-0 694.82,-0 213.898,-0 213.898,-0 213.898,-0 181.183,-0 154.056,-28.0119 137.16,-51.2913\"/>\n",
       "<polygon fill=\"black\" stroke=\"black\" points=\"134.226,-49.3802 131.407,-59.5931 139.98,-53.3674 134.226,-49.3802\"/>\n",
       "<text text-anchor=\"middle\" x=\"435.659\" y=\"-2.8\" font-family=\"Times,serif\" font-size=\"14.00\">1</text>\n",
       "</g>\n",
       "<!-- \\(F_F0101\\)&#45;&gt;\\(F_S010\\) -->\n",
       "<g id=\"edge17\" class=\"edge\"><title>\\(F_F0101\\)&#45;&gt;\\(F_S010\\)</title>\n",
       "<path fill=\"none\" stroke=\"black\" d=\"M746.033,-270.807C790.556,-269.771 854.796,-268.275 899.757,-267.228\"/>\n",
       "<polygon fill=\"black\" stroke=\"black\" points=\"899.978,-270.724 909.894,-266.992 899.815,-263.726 899.978,-270.724\"/>\n",
       "<text text-anchor=\"middle\" x=\"827.86\" y=\"-271.8\" font-family=\"Times,serif\" font-size=\"14.00\">0</text>\n",
       "</g>\n",
       "<!-- \\(F_F0101\\)&#45;&gt;\\(I_I\\) -->\n",
       "<g id=\"edge5\" class=\"edge\"><title>\\(F_F0101\\)&#45;&gt;\\(I_I\\)</title>\n",
       "<path fill=\"none\" stroke=\"black\" d=\"M669.363,-317.917C657.883,-336.412 642.493,-356.515 623.878,-370 599.212,-387.869 588.789,-390 558.331,-390 213.898,-390 213.898,-390 213.898,-390 157.637,-390 130.798,-200.171 121.861,-118.57\"/>\n",
       "<polygon fill=\"black\" stroke=\"black\" points=\"125.302,-117.834 120.764,-108.26 118.341,-118.574 125.302,-117.834\"/>\n",
       "<text text-anchor=\"middle\" x=\"377.034\" y=\"-392.8\" font-family=\"Times,serif\" font-size=\"14.00\">1</text>\n",
       "</g>\n",
       "</g>\n",
       "</svg>\n"
      ],
      "text/plain": [
       "<graphviz.dot.Digraph at 0x10f3dd550>"
      ]
     },
     "execution_count": 65,
     "metadata": {},
     "output_type": "execute_result"
    }
   ],
   "source": [
    "dotObj_dfa(C_CdfaOdd1sORCends0101)"
   ]
  },
  {
   "cell_type": "code",
   "execution_count": 66,
   "metadata": {
    "run_control": {
     "frozen": false,
     "read_only": false
    }
   },
   "outputs": [],
   "source": [
    "MinC_CdfaOdd1sORCends0101 = min_dfa(C_CdfaOdd1sORCends0101)"
   ]
  },
  {
   "cell_type": "markdown",
   "metadata": {
    "run_control": {
     "frozen": false,
     "read_only": false
    }
   },
   "source": [
    "## Minimized Comp(CdfaOdd1s OR Cends0101)\n",
    "\n",
    "This will now pass the isomorphism check, below\n"
   ]
  },
  {
   "cell_type": "code",
   "execution_count": 67,
   "metadata": {
    "run_control": {
     "frozen": false,
     "read_only": false
    }
   },
   "outputs": [
    {
     "data": {
      "image/svg+xml": [
       "<?xml version=\"1.0\" encoding=\"UTF-8\" standalone=\"no\"?>\n",
       "<!DOCTYPE svg PUBLIC \"-//W3C//DTD SVG 1.1//EN\"\n",
       " \"http://www.w3.org/Graphics/SVG/1.1/DTD/svg11.dtd\">\n",
       "<!-- Generated by graphviz version 2.38.0 (20140413.2041)\n",
       " -->\n",
       "<!-- Title: %3 Pages: 1 -->\n",
       "<svg width=\"784pt\" height=\"258pt\"\n",
       " viewBox=\"0.00 0.00 784.24 257.68\" xmlns=\"http://www.w3.org/2000/svg\" xmlns:xlink=\"http://www.w3.org/1999/xlink\">\n",
       "<g id=\"graph0\" class=\"graph\" transform=\"scale(1 1) rotate(0) translate(4 253.677)\">\n",
       "<title>%3</title>\n",
       "<polygon fill=\"white\" stroke=\"none\" points=\"-4,4 -4,-253.677 780.239,-253.677 780.239,4 -4,4\"/>\n",
       "<!-- EMPTY -->\n",
       "<g id=\"node1\" class=\"node\"><title>EMPTY</title>\n",
       "</g>\n",
       "<!-- \\(I_S0\\) -->\n",
       "<g id=\"node6\" class=\"node\"><title>\\(I_S0\\)</title>\n",
       "<ellipse fill=\"none\" stroke=\"black\" cx=\"123.703\" cy=\"-62\" rx=\"32.9081\" ry=\"32.9081\"/>\n",
       "<text text-anchor=\"middle\" x=\"123.703\" y=\"-57.8\" font-family=\"Times,serif\" font-size=\"14.00\">(I_S0)</text>\n",
       "</g>\n",
       "<!-- EMPTY&#45;&gt;\\(I_S0\\) -->\n",
       "<g id=\"edge1\" class=\"edge\"><title>EMPTY&#45;&gt;\\(I_S0\\)</title>\n",
       "<path fill=\"none\" stroke=\"black\" d=\"M54.1288,-62C62.4028,-62 71.7668,-62 80.8565,-62\"/>\n",
       "<polygon fill=\"black\" stroke=\"black\" points=\"80.9299,-65.5001 90.9298,-62 80.9298,-58.5001 80.9299,-65.5001\"/>\n",
       "</g>\n",
       "<!-- \\(I_S010\\) -->\n",
       "<g id=\"node2\" class=\"node\"><title>\\(I_S010\\)</title>\n",
       "<ellipse fill=\"none\" stroke=\"black\" cx=\"587.808\" cy=\"-95\" rx=\"41.5938\" ry=\"41.5938\"/>\n",
       "<text text-anchor=\"middle\" x=\"587.808\" y=\"-90.8\" font-family=\"Times,serif\" font-size=\"14.00\">(I_S010)</text>\n",
       "</g>\n",
       "<!-- \\(I_S010\\)&#45;&gt;\\(I_S0\\) -->\n",
       "<g id=\"edge10\" class=\"edge\"><title>\\(I_S010\\)&#45;&gt;\\(I_S0\\)</title>\n",
       "<path fill=\"none\" stroke=\"black\" d=\"M551.882,-73.7929C526.772,-60.5501 491.603,-46 458.292,-46 226.689,-46 226.689,-46 226.689,-46 206.425,-46 184.168,-49.1209 165.63,-52.606\"/>\n",
       "<polygon fill=\"black\" stroke=\"black\" points=\"164.88,-49.1864 155.75,-54.5621 166.24,-56.0531 164.88,-49.1864\"/>\n",
       "<text text-anchor=\"middle\" x=\"333.647\" y=\"-48.8\" font-family=\"Times,serif\" font-size=\"14.00\">0</text>\n",
       "</g>\n",
       "<!-- \\(F_F0101\\) -->\n",
       "<g id=\"node7\" class=\"node\"><title>\\(F_F0101\\)</title>\n",
       "<ellipse fill=\"none\" stroke=\"black\" cx=\"724.297\" cy=\"-95\" rx=\"47.8885\" ry=\"47.8885\"/>\n",
       "<ellipse fill=\"none\" stroke=\"black\" cx=\"724.297\" cy=\"-95\" rx=\"51.8841\" ry=\"51.8841\"/>\n",
       "<text text-anchor=\"middle\" x=\"724.297\" y=\"-90.8\" font-family=\"Times,serif\" font-size=\"14.00\">(F_F0101)</text>\n",
       "</g>\n",
       "<!-- \\(I_S010\\)&#45;&gt;\\(F_F0101\\) -->\n",
       "<g id=\"edge9\" class=\"edge\"><title>\\(I_S010\\)&#45;&gt;\\(F_F0101\\)</title>\n",
       "<path fill=\"none\" stroke=\"black\" d=\"M629.524,-95C639.823,-95 651.112,-95 662.177,-95\"/>\n",
       "<polygon fill=\"black\" stroke=\"black\" points=\"662.241,-98.5001 672.241,-95 662.241,-91.5001 662.241,-98.5001\"/>\n",
       "<text text-anchor=\"middle\" x=\"650.855\" y=\"-97.8\" font-family=\"Times,serif\" font-size=\"14.00\">1</text>\n",
       "</g>\n",
       "<!-- \\(F_I\\) -->\n",
       "<g id=\"node3\" class=\"node\"><title>\\(F_I\\)</title>\n",
       "<ellipse fill=\"none\" stroke=\"black\" cx=\"227.689\" cy=\"-116\" rx=\"28.0651\" ry=\"28.0651\"/>\n",
       "<text text-anchor=\"middle\" x=\"227.689\" y=\"-111.8\" font-family=\"Times,serif\" font-size=\"14.00\">(F_I)</text>\n",
       "</g>\n",
       "<!-- \\(F_S0\\) -->\n",
       "<g id=\"node5\" class=\"node\"><title>\\(F_S0\\)</title>\n",
       "<ellipse fill=\"none\" stroke=\"black\" cx=\"333.647\" cy=\"-183\" rx=\"34.8545\" ry=\"34.8545\"/>\n",
       "<text text-anchor=\"middle\" x=\"333.647\" y=\"-178.8\" font-family=\"Times,serif\" font-size=\"14.00\">(F_S0)</text>\n",
       "</g>\n",
       "<!-- \\(F_I\\)&#45;&gt;\\(F_S0\\) -->\n",
       "<g id=\"edge13\" class=\"edge\"><title>\\(F_I\\)&#45;&gt;\\(F_S0\\)</title>\n",
       "<path fill=\"none\" stroke=\"black\" d=\"M251.76,-130.869C264.541,-139.106 280.74,-149.547 295.28,-158.917\"/>\n",
       "<polygon fill=\"black\" stroke=\"black\" points=\"293.771,-162.109 304.072,-164.584 297.563,-156.225 293.771,-162.109\"/>\n",
       "<text text-anchor=\"middle\" x=\"277.47\" y=\"-151.8\" font-family=\"Times,serif\" font-size=\"14.00\">0</text>\n",
       "</g>\n",
       "<!-- \\(F_I\\)&#45;&gt;\\(I_S0\\) -->\n",
       "<g id=\"edge7\" class=\"edge\"><title>\\(F_I\\)&#45;&gt;\\(I_S0\\)</title>\n",
       "<path fill=\"none\" stroke=\"black\" d=\"M207.532,-95.3826C199.997,-88.3263 190.883,-80.9672 181.407,-76 176.58,-73.4697 171.28,-71.3847 165.918,-69.6696\"/>\n",
       "<polygon fill=\"black\" stroke=\"black\" points=\"166.865,-66.3 156.291,-66.9657 164.972,-73.0393 166.865,-66.3\"/>\n",
       "<text text-anchor=\"middle\" x=\"177.907\" y=\"-78.8\" font-family=\"Times,serif\" font-size=\"14.00\">1</text>\n",
       "</g>\n",
       "<!-- \\(I_F0101\\) -->\n",
       "<g id=\"node4\" class=\"node\"><title>\\(I_F0101\\)</title>\n",
       "<ellipse fill=\"none\" stroke=\"black\" cx=\"457.292\" cy=\"-120\" rx=\"45.9373\" ry=\"45.9373\"/>\n",
       "<text text-anchor=\"middle\" x=\"457.292\" y=\"-115.8\" font-family=\"Times,serif\" font-size=\"14.00\">(I_F0101)</text>\n",
       "</g>\n",
       "<!-- \\(I_F0101\\)&#45;&gt;\\(I_S010\\) -->\n",
       "<g id=\"edge2\" class=\"edge\"><title>\\(I_F0101\\)&#45;&gt;\\(I_S010\\)</title>\n",
       "<path fill=\"none\" stroke=\"black\" d=\"M502.52,-111.396C513.527,-109.255 525.405,-106.945 536.673,-104.753\"/>\n",
       "<polygon fill=\"black\" stroke=\"black\" points=\"537.661,-108.126 546.808,-102.781 536.324,-101.255 537.661,-108.126\"/>\n",
       "<text text-anchor=\"middle\" x=\"524.761\" y=\"-110.8\" font-family=\"Times,serif\" font-size=\"14.00\">0</text>\n",
       "</g>\n",
       "<!-- \\(I_F0101\\)&#45;&gt;\\(F_I\\) -->\n",
       "<g id=\"edge4\" class=\"edge\"><title>\\(I_F0101\\)&#45;&gt;\\(F_I\\)</title>\n",
       "<path fill=\"none\" stroke=\"black\" d=\"M411.075,-119.205C368.649,-118.46 305.939,-117.358 266.212,-116.659\"/>\n",
       "<polygon fill=\"black\" stroke=\"black\" points=\"266.203,-113.159 256.143,-116.482 266.08,-120.158 266.203,-113.159\"/>\n",
       "<text text-anchor=\"middle\" x=\"333.647\" y=\"-120.8\" font-family=\"Times,serif\" font-size=\"14.00\">1</text>\n",
       "</g>\n",
       "<!-- \\(F_S0\\)&#45;&gt;\\(I_F0101\\) -->\n",
       "<g id=\"edge11\" class=\"edge\"><title>\\(F_S0\\)&#45;&gt;\\(I_F0101\\)</title>\n",
       "<path fill=\"none\" stroke=\"black\" d=\"M364.717,-167.427C377.414,-160.851 392.538,-153.019 406.8,-145.632\"/>\n",
       "<polygon fill=\"black\" stroke=\"black\" points=\"408.743,-148.567 416.013,-140.861 405.524,-142.351 408.743,-148.567\"/>\n",
       "<text text-anchor=\"middle\" x=\"389.824\" y=\"-157.8\" font-family=\"Times,serif\" font-size=\"14.00\">1</text>\n",
       "</g>\n",
       "<!-- \\(F_S0\\)&#45;&gt;\\(F_S0\\) -->\n",
       "<g id=\"edge6\" class=\"edge\"><title>\\(F_S0\\)&#45;&gt;\\(F_S0\\)</title>\n",
       "<path fill=\"none\" stroke=\"black\" d=\"M323.148,-216.18C323.202,-227.034 326.702,-235.677 333.647,-235.677 338.205,-235.677 341.279,-231.955 342.869,-226.328\"/>\n",
       "<polygon fill=\"black\" stroke=\"black\" points=\"346.37,-226.539 344.146,-216.18 339.425,-225.664 346.37,-226.539\"/>\n",
       "<text text-anchor=\"middle\" x=\"333.647\" y=\"-238.477\" font-family=\"Times,serif\" font-size=\"14.00\">0</text>\n",
       "</g>\n",
       "<!-- \\(I_S0\\)&#45;&gt;\\(F_I\\) -->\n",
       "<g id=\"edge3\" class=\"edge\"><title>\\(I_S0\\)&#45;&gt;\\(F_I\\)</title>\n",
       "<path fill=\"none\" stroke=\"black\" d=\"M151.019,-80.1471C158.428,-84.9221 166.599,-89.884 174.407,-94 179.82,-96.8538 185.686,-99.6184 191.465,-102.169\"/>\n",
       "<polygon fill=\"black\" stroke=\"black\" points=\"190.444,-105.538 201.016,-106.237 193.187,-99.0981 190.444,-105.538\"/>\n",
       "<text text-anchor=\"middle\" x=\"177.907\" y=\"-100.8\" font-family=\"Times,serif\" font-size=\"14.00\">1</text>\n",
       "</g>\n",
       "<!-- \\(I_S0\\)&#45;&gt;\\(I_S0\\) -->\n",
       "<g id=\"edge8\" class=\"edge\"><title>\\(I_S0\\)&#45;&gt;\\(I_S0\\)</title>\n",
       "<path fill=\"none\" stroke=\"black\" d=\"M114.328,-93.6896C114.328,-104.253 117.453,-112.703 123.703,-112.703 127.707,-112.703 130.429,-109.235 131.868,-103.965\"/>\n",
       "<polygon fill=\"black\" stroke=\"black\" points=\"135.384,-104.031 133.078,-93.6896 128.432,-103.211 135.384,-104.031\"/>\n",
       "<text text-anchor=\"middle\" x=\"123.703\" y=\"-115.503\" font-family=\"Times,serif\" font-size=\"14.00\">0</text>\n",
       "</g>\n",
       "<!-- \\(F_F0101\\)&#45;&gt;\\(F_S0\\) -->\n",
       "<g id=\"edge12\" class=\"edge\"><title>\\(F_F0101\\)&#45;&gt;\\(F_S0\\)</title>\n",
       "<path fill=\"none\" stroke=\"black\" d=\"M679.553,-121.946C664.118,-130.582 646.365,-139.564 629.355,-146 544.729,-178.019 437.66,-183.528 378.67,-183.825\"/>\n",
       "<polygon fill=\"black\" stroke=\"black\" points=\"378.579,-180.325 368.579,-183.827 378.58,-187.325 378.579,-180.325\"/>\n",
       "<text text-anchor=\"middle\" x=\"524.761\" y=\"-174.8\" font-family=\"Times,serif\" font-size=\"14.00\">0</text>\n",
       "</g>\n",
       "<!-- \\(F_F0101\\)&#45;&gt;\\(I_S0\\) -->\n",
       "<g id=\"edge5\" class=\"edge\"><title>\\(F_F0101\\)&#45;&gt;\\(I_S0\\)</title>\n",
       "<path fill=\"none\" stroke=\"black\" d=\"M690.927,-54.9868C666.08,-29.024 629.258,-0 588.808,-0 226.689,-0 226.689,-0 226.689,-0 199.674,-0 173.724,-16.0805 154.761,-31.8627\"/>\n",
       "<polygon fill=\"black\" stroke=\"black\" points=\"152.316,-29.3506 147.079,-38.5605 156.916,-34.6268 152.316,-29.3506\"/>\n",
       "<text text-anchor=\"middle\" x=\"389.824\" y=\"-2.8\" font-family=\"Times,serif\" font-size=\"14.00\">1</text>\n",
       "</g>\n",
       "</g>\n",
       "</svg>\n"
      ],
      "text/plain": [
       "<graphviz.dot.Digraph at 0x10f3ddd68>"
      ]
     },
     "execution_count": 67,
     "metadata": {},
     "output_type": "execute_result"
    }
   ],
   "source": [
    "dotObj_dfa(MinC_CdfaOdd1sORCends0101)"
   ]
  },
  {
   "cell_type": "markdown",
   "metadata": {
    "run_control": {
     "frozen": false,
     "read_only": false
    }
   },
   "source": [
    "## DeMorgan's Law works\n",
    "\n",
    "The same machine, when obtained through two routes, turn out to be isomorphic when minimized\n"
   ]
  },
  {
   "cell_type": "code",
   "execution_count": 68,
   "metadata": {
    "run_control": {
     "frozen": false,
     "read_only": false
    }
   },
   "outputs": [
    {
     "data": {
      "text/plain": [
       "True"
      ]
     },
     "execution_count": 68,
     "metadata": {},
     "output_type": "execute_result"
    }
   ],
   "source": [
    "iso_dfa(MinC_CdfaOdd1sORCends0101, Minodd1sANDends0101)"
   ]
  },
  {
   "cell_type": "markdown",
   "metadata": {
    "run_control": {
     "frozen": false,
     "read_only": false
    }
   },
   "source": [
    "# These are some examples from the book"
   ]
  },
  {
   "cell_type": "code",
   "execution_count": 69,
   "metadata": {
    "run_control": {
     "frozen": false,
     "read_only": false
    }
   },
   "outputs": [],
   "source": [
    "blimp = md2mc('''\n",
    "DFA \n",
    "I1 : a -> F2\n",
    "I1 : b -> F3\n",
    "F2 : a -> S8\n",
    "F2 : b -> S5\n",
    "F3 : a -> S7\n",
    "F3 : b -> S4\n",
    "S4 : a | b -> F6\n",
    "S5 : a | b -> F6\n",
    "F6 : a | b -> F6\n",
    "S7 : a | b -> F6\n",
    "S8 : a -> F6\n",
    "S8 : b -> F9\n",
    "F9 : a -> F9\n",
    "F9 : b -> F6\n",
    "''')"
   ]
  },
  {
   "cell_type": "code",
   "execution_count": 70,
   "metadata": {
    "run_control": {
     "frozen": false,
     "read_only": false
    }
   },
   "outputs": [],
   "source": [
    "dblimp = dotObj_dfa(blimp)"
   ]
  },
  {
   "cell_type": "code",
   "execution_count": 71,
   "metadata": {
    "run_control": {
     "frozen": false,
     "read_only": false
    }
   },
   "outputs": [
    {
     "data": {
      "image/svg+xml": [
       "<?xml version=\"1.0\" encoding=\"UTF-8\" standalone=\"no\"?>\n",
       "<!DOCTYPE svg PUBLIC \"-//W3C//DTD SVG 1.1//EN\"\n",
       " \"http://www.w3.org/Graphics/SVG/1.1/DTD/svg11.dtd\">\n",
       "<!-- Generated by graphviz version 2.38.0 (20140413.2041)\n",
       " -->\n",
       "<!-- Title: %3 Pages: 1 -->\n",
       "<svg width=\"493pt\" height=\"315pt\"\n",
       " viewBox=\"0.00 0.00 493.00 314.89\" xmlns=\"http://www.w3.org/2000/svg\" xmlns:xlink=\"http://www.w3.org/1999/xlink\">\n",
       "<g id=\"graph0\" class=\"graph\" transform=\"scale(1 1) rotate(0) translate(4 310.894)\">\n",
       "<title>%3</title>\n",
       "<polygon fill=\"white\" stroke=\"none\" points=\"-4,4 -4,-310.894 489.003,-310.894 489.003,4 -4,4\"/>\n",
       "<!-- EMPTY -->\n",
       "<g id=\"node1\" class=\"node\"><title>EMPTY</title>\n",
       "</g>\n",
       "<!-- I1 -->\n",
       "<g id=\"node5\" class=\"node\"><title>I1</title>\n",
       "<ellipse fill=\"none\" stroke=\"black\" cx=\"109\" cy=\"-104.447\" rx=\"18\" ry=\"18\"/>\n",
       "<text text-anchor=\"middle\" x=\"109\" y=\"-100.247\" font-family=\"Times,serif\" font-size=\"14.00\">I1</text>\n",
       "</g>\n",
       "<!-- EMPTY&#45;&gt;I1 -->\n",
       "<g id=\"edge1\" class=\"edge\"><title>EMPTY&#45;&gt;I1</title>\n",
       "<path fill=\"none\" stroke=\"black\" d=\"M54.195,-104.447C62.6538,-104.447 72.0513,-104.447 80.5951,-104.447\"/>\n",
       "<polygon fill=\"black\" stroke=\"black\" points=\"80.8257,-107.947 90.8257,-104.447 80.8257,-100.947 80.8257,-107.947\"/>\n",
       "</g>\n",
       "<!-- S8 -->\n",
       "<g id=\"node2\" class=\"node\"><title>S8</title>\n",
       "<ellipse fill=\"none\" stroke=\"black\" cx=\"281.768\" cy=\"-196.447\" rx=\"19.3939\" ry=\"19.3939\"/>\n",
       "<text text-anchor=\"middle\" x=\"281.768\" y=\"-192.247\" font-family=\"Times,serif\" font-size=\"14.00\">S8</text>\n",
       "</g>\n",
       "<!-- F9 -->\n",
       "<g id=\"node7\" class=\"node\"><title>F9</title>\n",
       "<ellipse fill=\"none\" stroke=\"black\" cx=\"371.662\" cy=\"-251.447\" rx=\"19.4029\" ry=\"19.4029\"/>\n",
       "<ellipse fill=\"none\" stroke=\"black\" cx=\"371.662\" cy=\"-251.447\" rx=\"23.3939\" ry=\"23.3939\"/>\n",
       "<text text-anchor=\"middle\" x=\"371.662\" y=\"-247.247\" font-family=\"Times,serif\" font-size=\"14.00\">F9</text>\n",
       "</g>\n",
       "<!-- S8&#45;&gt;F9 -->\n",
       "<g id=\"edge17\" class=\"edge\"><title>S8&#45;&gt;F9</title>\n",
       "<path fill=\"none\" stroke=\"black\" d=\"M298.889,-206.535C311.12,-214.188 328.234,-224.897 342.683,-233.939\"/>\n",
       "<polygon fill=\"black\" stroke=\"black\" points=\"340.934,-236.973 351.268,-239.311 344.648,-231.039 340.934,-236.973\"/>\n",
       "<text text-anchor=\"middle\" x=\"326.715\" y=\"-229.247\" font-family=\"Times,serif\" font-size=\"14.00\">b</text>\n",
       "</g>\n",
       "<!-- F6 -->\n",
       "<g id=\"node9\" class=\"node\"><title>F6</title>\n",
       "<ellipse fill=\"none\" stroke=\"black\" cx=\"461.556\" cy=\"-111.447\" rx=\"19.4029\" ry=\"19.4029\"/>\n",
       "<ellipse fill=\"none\" stroke=\"black\" cx=\"461.556\" cy=\"-111.447\" rx=\"23.3939\" ry=\"23.3939\"/>\n",
       "<text text-anchor=\"middle\" x=\"461.556\" y=\"-107.247\" font-family=\"Times,serif\" font-size=\"14.00\">F6</text>\n",
       "</g>\n",
       "<!-- S8&#45;&gt;F6 -->\n",
       "<g id=\"edge16\" class=\"edge\"><title>S8&#45;&gt;F6</title>\n",
       "<path fill=\"none\" stroke=\"black\" d=\"M301.665,-196.219C329.698,-195.041 382.98,-189.506 420.109,-165.447 429.718,-159.22 437.887,-149.874 444.314,-140.7\"/>\n",
       "<polygon fill=\"black\" stroke=\"black\" points=\"447.413,-142.355 449.932,-132.064 441.545,-138.538 447.413,-142.355\"/>\n",
       "<text text-anchor=\"middle\" x=\"371.662\" y=\"-194.247\" font-family=\"Times,serif\" font-size=\"14.00\">a</text>\n",
       "</g>\n",
       "<!-- S4 -->\n",
       "<g id=\"node3\" class=\"node\"><title>S4</title>\n",
       "<ellipse fill=\"none\" stroke=\"black\" cx=\"371.662\" cy=\"-79.4469\" rx=\"19.3939\" ry=\"19.3939\"/>\n",
       "<text text-anchor=\"middle\" x=\"371.662\" y=\"-75.2469\" font-family=\"Times,serif\" font-size=\"14.00\">S4</text>\n",
       "</g>\n",
       "<!-- S4&#45;&gt;F6 -->\n",
       "<g id=\"edge8\" class=\"edge\"><title>S4&#45;&gt;F6</title>\n",
       "<path fill=\"none\" stroke=\"black\" d=\"M390.449,-85.9225C401.721,-90.0265 416.604,-95.4449 429.756,-100.233\"/>\n",
       "<polygon fill=\"black\" stroke=\"black\" points=\"428.794,-103.608 439.388,-103.74 431.188,-97.0301 428.794,-103.608\"/>\n",
       "<text text-anchor=\"middle\" x=\"416.609\" y=\"-99.2469\" font-family=\"Times,serif\" font-size=\"14.00\">a</text>\n",
       "</g>\n",
       "<!-- S4&#45;&gt;F6 -->\n",
       "<g id=\"edge9\" class=\"edge\"><title>S4&#45;&gt;F6</title>\n",
       "<path fill=\"none\" stroke=\"black\" d=\"M390.736,-75.4848C399.807,-74.2867 410.814,-74.059 420.109,-77.4469 426.331,-79.7145 432.26,-83.4067 437.566,-87.5399\"/>\n",
       "<polygon fill=\"black\" stroke=\"black\" points=\"435.489,-90.3705 445.346,-94.2563 440.064,-85.072 435.489,-90.3705\"/>\n",
       "<text text-anchor=\"middle\" x=\"416.609\" y=\"-80.2469\" font-family=\"Times,serif\" font-size=\"14.00\">b</text>\n",
       "</g>\n",
       "<!-- S5 -->\n",
       "<g id=\"node4\" class=\"node\"><title>S5</title>\n",
       "<ellipse fill=\"none\" stroke=\"black\" cx=\"371.662\" cy=\"-140.447\" rx=\"19.3939\" ry=\"19.3939\"/>\n",
       "<text text-anchor=\"middle\" x=\"371.662\" y=\"-136.247\" font-family=\"Times,serif\" font-size=\"14.00\">S5</text>\n",
       "</g>\n",
       "<!-- S5&#45;&gt;F6 -->\n",
       "<g id=\"edge10\" class=\"edge\"><title>S5&#45;&gt;F6</title>\n",
       "<path fill=\"none\" stroke=\"black\" d=\"M390.7,-146.063C399.761,-147.965 410.77,-148.851 420.109,-145.447 426.331,-143.179 432.26,-139.487 437.566,-135.354\"/>\n",
       "<polygon fill=\"black\" stroke=\"black\" points=\"440.064,-137.822 445.346,-128.637 435.489,-132.523 440.064,-137.822\"/>\n",
       "<text text-anchor=\"middle\" x=\"416.609\" y=\"-150.247\" font-family=\"Times,serif\" font-size=\"14.00\">a</text>\n",
       "</g>\n",
       "<!-- S5&#45;&gt;F6 -->\n",
       "<g id=\"edge11\" class=\"edge\"><title>S5&#45;&gt;F6</title>\n",
       "<path fill=\"none\" stroke=\"black\" d=\"M390.449,-134.578C401.641,-130.885 416.393,-126.018 429.476,-121.702\"/>\n",
       "<polygon fill=\"black\" stroke=\"black\" points=\"430.669,-124.994 439.069,-118.536 428.476,-118.346 430.669,-124.994\"/>\n",
       "<text text-anchor=\"middle\" x=\"416.609\" y=\"-130.247\" font-family=\"Times,serif\" font-size=\"14.00\">b</text>\n",
       "</g>\n",
       "<!-- F2 -->\n",
       "<g id=\"node8\" class=\"node\"><title>F2</title>\n",
       "<ellipse fill=\"none\" stroke=\"black\" cx=\"192.661\" cy=\"-140.447\" rx=\"19.4029\" ry=\"19.4029\"/>\n",
       "<ellipse fill=\"none\" stroke=\"black\" cx=\"192.661\" cy=\"-140.447\" rx=\"23.3939\" ry=\"23.3939\"/>\n",
       "<text text-anchor=\"middle\" x=\"192.661\" y=\"-136.247\" font-family=\"Times,serif\" font-size=\"14.00\">F2</text>\n",
       "</g>\n",
       "<!-- I1&#45;&gt;F2 -->\n",
       "<g id=\"edge2\" class=\"edge\"><title>I1&#45;&gt;F2</title>\n",
       "<path fill=\"none\" stroke=\"black\" d=\"M125.745,-111.388C135.912,-115.87 149.466,-121.845 161.639,-127.212\"/>\n",
       "<polygon fill=\"black\" stroke=\"black\" points=\"160.453,-130.514 171.015,-131.345 163.276,-124.109 160.453,-130.514\"/>\n",
       "<text text-anchor=\"middle\" x=\"148.107\" y=\"-125.247\" font-family=\"Times,serif\" font-size=\"14.00\">a</text>\n",
       "</g>\n",
       "<!-- F3 -->\n",
       "<g id=\"node10\" class=\"node\"><title>F3</title>\n",
       "<ellipse fill=\"none\" stroke=\"black\" cx=\"281.768\" cy=\"-79.4469\" rx=\"19.4029\" ry=\"19.4029\"/>\n",
       "<ellipse fill=\"none\" stroke=\"black\" cx=\"281.768\" cy=\"-79.4469\" rx=\"23.3939\" ry=\"23.3939\"/>\n",
       "<text text-anchor=\"middle\" x=\"281.768\" y=\"-75.2469\" font-family=\"Times,serif\" font-size=\"14.00\">F3</text>\n",
       "</g>\n",
       "<!-- I1&#45;&gt;F3 -->\n",
       "<g id=\"edge3\" class=\"edge\"><title>I1&#45;&gt;F3</title>\n",
       "<path fill=\"none\" stroke=\"black\" d=\"M126.821,-101.451C138.66,-99.3808 154.886,-96.6194 169.214,-94.4469 195.734,-90.4257 225.885,-86.4044 248.15,-83.5391\"/>\n",
       "<polygon fill=\"black\" stroke=\"black\" points=\"248.613,-87.0084 258.089,-82.2693 247.726,-80.0649 248.613,-87.0084\"/>\n",
       "<text text-anchor=\"middle\" x=\"192.661\" y=\"-97.2469\" font-family=\"Times,serif\" font-size=\"14.00\">b</text>\n",
       "</g>\n",
       "<!-- S7 -->\n",
       "<g id=\"node6\" class=\"node\"><title>S7</title>\n",
       "<ellipse fill=\"none\" stroke=\"black\" cx=\"371.662\" cy=\"-19.4469\" rx=\"19.3939\" ry=\"19.3939\"/>\n",
       "<text text-anchor=\"middle\" x=\"371.662\" y=\"-15.2469\" font-family=\"Times,serif\" font-size=\"14.00\">S7</text>\n",
       "</g>\n",
       "<!-- S7&#45;&gt;F6 -->\n",
       "<g id=\"edge14\" class=\"edge\"><title>S7&#45;&gt;F6</title>\n",
       "<path fill=\"none\" stroke=\"black\" d=\"M387.96,-30.5698C397.655,-37.9592 410.19,-48.1627 420.109,-58.4469 427.702,-66.3197 435.201,-75.6023 441.641,-84.1809\"/>\n",
       "<polygon fill=\"black\" stroke=\"black\" points=\"438.96,-86.4447 447.691,-92.4467 444.609,-82.3101 438.96,-86.4447\"/>\n",
       "<text text-anchor=\"middle\" x=\"416.609\" y=\"-61.2469\" font-family=\"Times,serif\" font-size=\"14.00\">a</text>\n",
       "</g>\n",
       "<!-- S7&#45;&gt;F6 -->\n",
       "<g id=\"edge15\" class=\"edge\"><title>S7&#45;&gt;F6</title>\n",
       "<path fill=\"none\" stroke=\"black\" d=\"M390.941,-22.2601C400.5,-24.5021 411.889,-28.4739 420.109,-35.4469 433.76,-47.0266 443.491,-64.4056 449.982,-79.6232\"/>\n",
       "<polygon fill=\"black\" stroke=\"black\" points=\"446.85,-81.2212 453.788,-89.2286 453.358,-78.6425 446.85,-81.2212\"/>\n",
       "<text text-anchor=\"middle\" x=\"416.609\" y=\"-38.2469\" font-family=\"Times,serif\" font-size=\"14.00\">b</text>\n",
       "</g>\n",
       "<!-- F9&#45;&gt;F9 -->\n",
       "<g id=\"edge18\" class=\"edge\"><title>F9&#45;&gt;F9</title>\n",
       "<path fill=\"none\" stroke=\"black\" d=\"M363.575,-273.62C362.693,-283.906 365.389,-292.894 371.662,-292.894 375.681,-292.894 378.232,-289.205 379.314,-283.85\"/>\n",
       "<polygon fill=\"black\" stroke=\"black\" points=\"382.821,-283.76 379.749,-273.62 375.827,-283.463 382.821,-283.76\"/>\n",
       "<text text-anchor=\"middle\" x=\"371.662\" y=\"-295.694\" font-family=\"Times,serif\" font-size=\"14.00\">a</text>\n",
       "</g>\n",
       "<!-- F9&#45;&gt;F6 -->\n",
       "<g id=\"edge19\" class=\"edge\"><title>F9&#45;&gt;F6</title>\n",
       "<path fill=\"none\" stroke=\"black\" d=\"M391.682,-238.373C401.22,-231.051 412.359,-221.233 420.109,-210.447 434.566,-190.324 444.942,-164.278 451.563,-143.952\"/>\n",
       "<polygon fill=\"black\" stroke=\"black\" points=\"454.969,-144.784 454.598,-134.196 448.285,-142.705 454.969,-144.784\"/>\n",
       "<text text-anchor=\"middle\" x=\"416.609\" y=\"-221.247\" font-family=\"Times,serif\" font-size=\"14.00\">b</text>\n",
       "</g>\n",
       "<!-- F2&#45;&gt;S8 -->\n",
       "<g id=\"edge4\" class=\"edge\"><title>F2&#45;&gt;S8</title>\n",
       "<path fill=\"none\" stroke=\"black\" d=\"M212.993,-152.875C225.821,-161.122 242.76,-172.012 256.494,-180.841\"/>\n",
       "<polygon fill=\"black\" stroke=\"black\" points=\"254.677,-183.834 264.981,-186.298 258.462,-177.946 254.677,-183.834\"/>\n",
       "<text text-anchor=\"middle\" x=\"237.215\" y=\"-173.247\" font-family=\"Times,serif\" font-size=\"14.00\">a</text>\n",
       "</g>\n",
       "<!-- F2&#45;&gt;S5 -->\n",
       "<g id=\"edge5\" class=\"edge\"><title>F2&#45;&gt;S5</title>\n",
       "<path fill=\"none\" stroke=\"black\" d=\"M216.438,-140.447C248.508,-140.447 306.955,-140.447 341.957,-140.447\"/>\n",
       "<polygon fill=\"black\" stroke=\"black\" points=\"342.012,-143.947 352.012,-140.447 342.012,-136.947 342.012,-143.947\"/>\n",
       "<text text-anchor=\"middle\" x=\"281.768\" y=\"-143.247\" font-family=\"Times,serif\" font-size=\"14.00\">b</text>\n",
       "</g>\n",
       "<!-- F6&#45;&gt;F6 -->\n",
       "<g id=\"edge12\" class=\"edge\"><title>F6&#45;&gt;F6</title>\n",
       "<path fill=\"none\" stroke=\"black\" d=\"M457.467,-134.881C457.185,-144.63 458.548,-152.894 461.556,-152.894 463.389,-152.894 464.611,-149.825 465.222,-145.222\"/>\n",
       "<polygon fill=\"black\" stroke=\"black\" points=\"468.733,-145.016 465.645,-134.881 461.739,-144.73 468.733,-145.016\"/>\n",
       "<text text-anchor=\"middle\" x=\"461.556\" y=\"-155.694\" font-family=\"Times,serif\" font-size=\"14.00\">a</text>\n",
       "</g>\n",
       "<!-- F6&#45;&gt;F6 -->\n",
       "<g id=\"edge13\" class=\"edge\"><title>F6&#45;&gt;F6</title>\n",
       "<path fill=\"none\" stroke=\"black\" d=\"M454.466,-134.015C451.63,-152.162 453.993,-170.894 461.556,-170.894 467.7,-170.894 470.413,-158.528 469.693,-144.157\"/>\n",
       "<polygon fill=\"black\" stroke=\"black\" points=\"473.154,-143.603 468.646,-134.015 466.191,-144.322 473.154,-143.603\"/>\n",
       "<text text-anchor=\"middle\" x=\"461.556\" y=\"-173.694\" font-family=\"Times,serif\" font-size=\"14.00\">b</text>\n",
       "</g>\n",
       "<!-- F3&#45;&gt;S4 -->\n",
       "<g id=\"edge7\" class=\"edge\"><title>F3&#45;&gt;S4</title>\n",
       "<path fill=\"none\" stroke=\"black\" d=\"M305.403,-79.4469C316.463,-79.4469 329.899,-79.4469 341.698,-79.4469\"/>\n",
       "<polygon fill=\"black\" stroke=\"black\" points=\"341.958,-82.947 351.958,-79.4469 341.958,-75.947 341.958,-82.947\"/>\n",
       "<text text-anchor=\"middle\" x=\"326.715\" y=\"-82.2469\" font-family=\"Times,serif\" font-size=\"14.00\">b</text>\n",
       "</g>\n",
       "<!-- F3&#45;&gt;S7 -->\n",
       "<g id=\"edge6\" class=\"edge\"><title>F3&#45;&gt;S7</title>\n",
       "<path fill=\"none\" stroke=\"black\" d=\"M301.84,-66.4278C315.052,-57.4085 332.737,-45.336 346.871,-35.6874\"/>\n",
       "<polygon fill=\"black\" stroke=\"black\" points=\"348.855,-38.5708 355.141,-30.042 344.909,-32.7894 348.855,-38.5708\"/>\n",
       "<text text-anchor=\"middle\" x=\"326.715\" y=\"-54.2469\" font-family=\"Times,serif\" font-size=\"14.00\">a</text>\n",
       "</g>\n",
       "</g>\n",
       "</svg>\n"
      ],
      "text/plain": [
       "<graphviz.dot.Digraph at 0x10fc05390>"
      ]
     },
     "execution_count": 71,
     "metadata": {},
     "output_type": "execute_result"
    }
   ],
   "source": [
    "dblimp"
   ]
  },
  {
   "cell_type": "code",
   "execution_count": 72,
   "metadata": {
    "run_control": {
     "frozen": false,
     "read_only": false
    }
   },
   "outputs": [],
   "source": [
    "dblimp = dotObj_dfa(blimp, FuseEdges=True)"
   ]
  },
  {
   "cell_type": "code",
   "execution_count": 73,
   "metadata": {
    "run_control": {
     "frozen": false,
     "read_only": false
    }
   },
   "outputs": [
    {
     "data": {
      "image/svg+xml": [
       "<?xml version=\"1.0\" encoding=\"UTF-8\" standalone=\"no\"?>\n",
       "<!DOCTYPE svg PUBLIC \"-//W3C//DTD SVG 1.1//EN\"\n",
       " \"http://www.w3.org/Graphics/SVG/1.1/DTD/svg11.dtd\">\n",
       "<!-- Generated by graphviz version 2.38.0 (20140413.2041)\n",
       " -->\n",
       "<!-- Title: %3 Pages: 1 -->\n",
       "<svg width=\"529pt\" height=\"314pt\"\n",
       " viewBox=\"0.00 0.00 529.18 313.89\" xmlns=\"http://www.w3.org/2000/svg\" xmlns:xlink=\"http://www.w3.org/1999/xlink\">\n",
       "<g id=\"graph0\" class=\"graph\" transform=\"scale(1 1) rotate(0) translate(4 309.894)\">\n",
       "<title>%3</title>\n",
       "<polygon fill=\"white\" stroke=\"none\" points=\"-4,4 -4,-309.894 525.183,-309.894 525.183,4 -4,4\"/>\n",
       "<!-- EMPTY -->\n",
       "<g id=\"node1\" class=\"node\"><title>EMPTY</title>\n",
       "</g>\n",
       "<!-- I1 -->\n",
       "<g id=\"node5\" class=\"node\"><title>I1</title>\n",
       "<ellipse fill=\"none\" stroke=\"black\" cx=\"109\" cy=\"-98.4469\" rx=\"18\" ry=\"18\"/>\n",
       "<text text-anchor=\"middle\" x=\"109\" y=\"-94.2469\" font-family=\"Times,serif\" font-size=\"14.00\">I1</text>\n",
       "</g>\n",
       "<!-- EMPTY&#45;&gt;I1 -->\n",
       "<g id=\"edge1\" class=\"edge\"><title>EMPTY&#45;&gt;I1</title>\n",
       "<path fill=\"none\" stroke=\"black\" d=\"M54.195,-98.4469C62.6538,-98.4469 72.0513,-98.4469 80.5951,-98.4469\"/>\n",
       "<polygon fill=\"black\" stroke=\"black\" points=\"80.8257,-101.947 90.8257,-98.4469 80.8257,-94.947 80.8257,-101.947\"/>\n",
       "</g>\n",
       "<!-- S8 -->\n",
       "<g id=\"node2\" class=\"node\"><title>S8</title>\n",
       "<ellipse fill=\"none\" stroke=\"black\" cx=\"282.554\" cy=\"-195.447\" rx=\"19.3939\" ry=\"19.3939\"/>\n",
       "<text text-anchor=\"middle\" x=\"282.554\" y=\"-191.247\" font-family=\"Times,serif\" font-size=\"14.00\">S8</text>\n",
       "</g>\n",
       "<!-- F9 -->\n",
       "<g id=\"node7\" class=\"node\"><title>F9</title>\n",
       "<ellipse fill=\"none\" stroke=\"black\" cx=\"404.342\" cy=\"-250.447\" rx=\"19.4029\" ry=\"19.4029\"/>\n",
       "<ellipse fill=\"none\" stroke=\"black\" cx=\"404.342\" cy=\"-250.447\" rx=\"23.3939\" ry=\"23.3939\"/>\n",
       "<text text-anchor=\"middle\" x=\"404.342\" y=\"-246.247\" font-family=\"Times,serif\" font-size=\"14.00\">F9</text>\n",
       "</g>\n",
       "<!-- S8&#45;&gt;F9 -->\n",
       "<g id=\"edge13\" class=\"edge\"><title>S8&#45;&gt;F9</title>\n",
       "<path fill=\"none\" stroke=\"black\" d=\"M300.463,-203.21C319.311,-211.864 350.161,-226.029 373.171,-236.594\"/>\n",
       "<polygon fill=\"black\" stroke=\"black\" points=\"371.946,-239.883 382.495,-240.875 374.867,-233.521 371.946,-239.883\"/>\n",
       "<text text-anchor=\"middle\" x=\"343.448\" y=\"-234.247\" font-family=\"Times,serif\" font-size=\"14.00\">b</text>\n",
       "</g>\n",
       "<!-- F6 -->\n",
       "<g id=\"node9\" class=\"node\"><title>F6</title>\n",
       "<ellipse fill=\"none\" stroke=\"black\" cx=\"497.736\" cy=\"-131.447\" rx=\"19.4029\" ry=\"19.4029\"/>\n",
       "<ellipse fill=\"none\" stroke=\"black\" cx=\"497.736\" cy=\"-131.447\" rx=\"23.3939\" ry=\"23.3939\"/>\n",
       "<text text-anchor=\"middle\" x=\"497.736\" y=\"-127.247\" font-family=\"Times,serif\" font-size=\"14.00\">F6</text>\n",
       "</g>\n",
       "<!-- S8&#45;&gt;F6 -->\n",
       "<g id=\"edge12\" class=\"edge\"><title>S8&#45;&gt;F6</title>\n",
       "<path fill=\"none\" stroke=\"black\" d=\"M302.117,-192.65C329.921,-188.166 383.815,-178.334 427.789,-163.447 441.202,-158.906 455.486,-152.549 467.552,-146.696\"/>\n",
       "<polygon fill=\"black\" stroke=\"black\" points=\"469.296,-149.738 476.696,-142.155 466.182,-143.469 469.296,-149.738\"/>\n",
       "<text text-anchor=\"middle\" x=\"404.342\" y=\"-180.247\" font-family=\"Times,serif\" font-size=\"14.00\">a</text>\n",
       "</g>\n",
       "<!-- S4 -->\n",
       "<g id=\"node3\" class=\"node\"><title>S4</title>\n",
       "<ellipse fill=\"none\" stroke=\"black\" cx=\"404.342\" cy=\"-76.4469\" rx=\"19.3939\" ry=\"19.3939\"/>\n",
       "<text text-anchor=\"middle\" x=\"404.342\" y=\"-72.2469\" font-family=\"Times,serif\" font-size=\"14.00\">S4</text>\n",
       "</g>\n",
       "<!-- S4&#45;&gt;F6 -->\n",
       "<g id=\"edge8\" class=\"edge\"><title>S4&#45;&gt;F6</title>\n",
       "<path fill=\"none\" stroke=\"black\" d=\"M423.722,-78.6238C433.851,-80.4222 446.348,-83.6618 456.289,-89.4469 463.425,-93.5997 470.12,-99.3697 475.93,-105.305\"/>\n",
       "<polygon fill=\"black\" stroke=\"black\" points=\"473.452,-107.782 482.783,-112.802 478.619,-103.059 473.452,-107.782\"/>\n",
       "<text text-anchor=\"middle\" x=\"451.039\" y=\"-106.247\" font-family=\"Times,serif\" font-size=\"14.00\">a </text>\n",
       "<text text-anchor=\"middle\" x=\"451.039\" y=\"-92.2469\" font-family=\"Times,serif\" font-size=\"14.00\"> b</text>\n",
       "</g>\n",
       "<!-- S5 -->\n",
       "<g id=\"node4\" class=\"node\"><title>S5</title>\n",
       "<ellipse fill=\"none\" stroke=\"black\" cx=\"343.448\" cy=\"-131.447\" rx=\"19.3939\" ry=\"19.3939\"/>\n",
       "<text text-anchor=\"middle\" x=\"343.448\" y=\"-127.247\" font-family=\"Times,serif\" font-size=\"14.00\">S5</text>\n",
       "</g>\n",
       "<!-- S5&#45;&gt;F6 -->\n",
       "<g id=\"edge9\" class=\"edge\"><title>S5&#45;&gt;F6</title>\n",
       "<path fill=\"none\" stroke=\"black\" d=\"M363.122,-131.447C388.201,-131.447 433.168,-131.447 463.952,-131.447\"/>\n",
       "<polygon fill=\"black\" stroke=\"black\" points=\"464.193,-134.947 474.193,-131.447 464.193,-127.947 464.193,-134.947\"/>\n",
       "<text text-anchor=\"middle\" x=\"404.342\" y=\"-148.247\" font-family=\"Times,serif\" font-size=\"14.00\">a </text>\n",
       "<text text-anchor=\"middle\" x=\"404.342\" y=\"-134.247\" font-family=\"Times,serif\" font-size=\"14.00\"> b</text>\n",
       "</g>\n",
       "<!-- F2 -->\n",
       "<g id=\"node8\" class=\"node\"><title>F2</title>\n",
       "<ellipse fill=\"none\" stroke=\"black\" cx=\"192.661\" cy=\"-131.447\" rx=\"19.4029\" ry=\"19.4029\"/>\n",
       "<ellipse fill=\"none\" stroke=\"black\" cx=\"192.661\" cy=\"-131.447\" rx=\"23.3939\" ry=\"23.3939\"/>\n",
       "<text text-anchor=\"middle\" x=\"192.661\" y=\"-127.247\" font-family=\"Times,serif\" font-size=\"14.00\">F2</text>\n",
       "</g>\n",
       "<!-- I1&#45;&gt;F2 -->\n",
       "<g id=\"edge2\" class=\"edge\"><title>I1&#45;&gt;F2</title>\n",
       "<path fill=\"none\" stroke=\"black\" d=\"M126.134,-104.967C136.083,-108.987 149.168,-114.275 161.026,-119.067\"/>\n",
       "<polygon fill=\"black\" stroke=\"black\" points=\"160.02,-122.435 170.603,-122.937 162.643,-115.945 160.02,-122.435\"/>\n",
       "<text text-anchor=\"middle\" x=\"148.107\" y=\"-118.247\" font-family=\"Times,serif\" font-size=\"14.00\">a</text>\n",
       "</g>\n",
       "<!-- F3 -->\n",
       "<g id=\"node10\" class=\"node\"><title>F3</title>\n",
       "<ellipse fill=\"none\" stroke=\"black\" cx=\"282.554\" cy=\"-76.4469\" rx=\"19.4029\" ry=\"19.4029\"/>\n",
       "<ellipse fill=\"none\" stroke=\"black\" cx=\"282.554\" cy=\"-76.4469\" rx=\"23.3939\" ry=\"23.3939\"/>\n",
       "<text text-anchor=\"middle\" x=\"282.554\" y=\"-72.2469\" font-family=\"Times,serif\" font-size=\"14.00\">F3</text>\n",
       "</g>\n",
       "<!-- I1&#45;&gt;F3 -->\n",
       "<g id=\"edge3\" class=\"edge\"><title>I1&#45;&gt;F3</title>\n",
       "<path fill=\"none\" stroke=\"black\" d=\"M126.733,-94.1348C138.53,-91.2518 154.744,-87.6046 169.214,-85.4469 195.944,-81.4609 226.534,-79.1562 249.036,-77.8788\"/>\n",
       "<polygon fill=\"black\" stroke=\"black\" points=\"249.271,-81.3714 259.072,-77.3466 248.901,-74.3812 249.271,-81.3714\"/>\n",
       "<text text-anchor=\"middle\" x=\"192.661\" y=\"-88.2469\" font-family=\"Times,serif\" font-size=\"14.00\">b</text>\n",
       "</g>\n",
       "<!-- S7 -->\n",
       "<g id=\"node6\" class=\"node\"><title>S7</title>\n",
       "<ellipse fill=\"none\" stroke=\"black\" cx=\"404.342\" cy=\"-19.4469\" rx=\"19.3939\" ry=\"19.3939\"/>\n",
       "<text text-anchor=\"middle\" x=\"404.342\" y=\"-15.2469\" font-family=\"Times,serif\" font-size=\"14.00\">S7</text>\n",
       "</g>\n",
       "<!-- S7&#45;&gt;F6 -->\n",
       "<g id=\"edge11\" class=\"edge\"><title>S7&#45;&gt;F6</title>\n",
       "<path fill=\"none\" stroke=\"black\" d=\"M422.071,-27.7537C432.865,-33.7512 446.641,-42.6736 456.289,-53.4469 468.393,-66.9631 477.981,-84.758 484.778,-99.9376\"/>\n",
       "<polygon fill=\"black\" stroke=\"black\" points=\"481.698,-101.638 488.84,-109.464 488.137,-98.8924 481.698,-101.638\"/>\n",
       "<text text-anchor=\"middle\" x=\"451.039\" y=\"-70.2469\" font-family=\"Times,serif\" font-size=\"14.00\">a </text>\n",
       "<text text-anchor=\"middle\" x=\"451.039\" y=\"-56.2469\" font-family=\"Times,serif\" font-size=\"14.00\"> b</text>\n",
       "</g>\n",
       "<!-- F9&#45;&gt;F9 -->\n",
       "<g id=\"edge14\" class=\"edge\"><title>F9&#45;&gt;F9</title>\n",
       "<path fill=\"none\" stroke=\"black\" d=\"M395.887,-272.62C394.965,-282.906 397.783,-291.894 404.342,-291.894 408.544,-291.894 411.21,-288.205 412.341,-282.85\"/>\n",
       "<polygon fill=\"black\" stroke=\"black\" points=\"415.849,-282.766 412.796,-272.62 408.855,-282.455 415.849,-282.766\"/>\n",
       "<text text-anchor=\"middle\" x=\"404.342\" y=\"-294.694\" font-family=\"Times,serif\" font-size=\"14.00\">a</text>\n",
       "</g>\n",
       "<!-- F9&#45;&gt;F6 -->\n",
       "<g id=\"edge15\" class=\"edge\"><title>F9&#45;&gt;F6</title>\n",
       "<path fill=\"none\" stroke=\"black\" d=\"M424.404,-238.031C434.746,-230.623 447.23,-220.518 456.289,-209.447 467.779,-195.405 477.323,-177.573 484.25,-162.504\"/>\n",
       "<polygon fill=\"black\" stroke=\"black\" points=\"487.579,-163.63 488.417,-153.068 481.175,-160.801 487.579,-163.63\"/>\n",
       "<text text-anchor=\"middle\" x=\"451.039\" y=\"-223.247\" font-family=\"Times,serif\" font-size=\"14.00\">b</text>\n",
       "</g>\n",
       "<!-- F2&#45;&gt;S8 -->\n",
       "<g id=\"edge4\" class=\"edge\"><title>F2&#45;&gt;S8</title>\n",
       "<path fill=\"none\" stroke=\"black\" d=\"M212.301,-145.02C225.654,-154.743 243.737,-167.91 258.076,-178.351\"/>\n",
       "<polygon fill=\"black\" stroke=\"black\" points=\"256.301,-181.388 266.445,-184.445 260.421,-175.729 256.301,-181.388\"/>\n",
       "<text text-anchor=\"middle\" x=\"237.608\" y=\"-168.247\" font-family=\"Times,serif\" font-size=\"14.00\">a</text>\n",
       "</g>\n",
       "<!-- F2&#45;&gt;S5 -->\n",
       "<g id=\"edge5\" class=\"edge\"><title>F2&#45;&gt;S5</title>\n",
       "<path fill=\"none\" stroke=\"black\" d=\"M216.258,-131.447C242.353,-131.447 285.327,-131.447 313.76,-131.447\"/>\n",
       "<polygon fill=\"black\" stroke=\"black\" points=\"313.879,-134.947 323.879,-131.447 313.879,-127.947 313.879,-134.947\"/>\n",
       "<text text-anchor=\"middle\" x=\"237.608\" y=\"-134.247\" font-family=\"Times,serif\" font-size=\"14.00\">b</text>\n",
       "</g>\n",
       "<!-- F6&#45;&gt;F6 -->\n",
       "<g id=\"edge10\" class=\"edge\"><title>F6&#45;&gt;F6</title>\n",
       "<path fill=\"none\" stroke=\"black\" d=\"M489.281,-153.62C488.359,-163.906 491.177,-172.894 497.736,-172.894 501.937,-172.894 504.604,-169.205 505.735,-163.85\"/>\n",
       "<polygon fill=\"black\" stroke=\"black\" points=\"509.242,-163.766 506.19,-153.62 502.249,-163.455 509.242,-163.766\"/>\n",
       "<text text-anchor=\"middle\" x=\"497.736\" y=\"-189.694\" font-family=\"Times,serif\" font-size=\"14.00\">a </text>\n",
       "<text text-anchor=\"middle\" x=\"497.736\" y=\"-175.694\" font-family=\"Times,serif\" font-size=\"14.00\"> b</text>\n",
       "</g>\n",
       "<!-- F3&#45;&gt;S4 -->\n",
       "<g id=\"edge7\" class=\"edge\"><title>F3&#45;&gt;S4</title>\n",
       "<path fill=\"none\" stroke=\"black\" d=\"M306.086,-76.4469C325.477,-76.4469 353.568,-76.4469 374.58,-76.4469\"/>\n",
       "<polygon fill=\"black\" stroke=\"black\" points=\"374.839,-79.947 384.839,-76.4469 374.839,-72.947 374.839,-79.947\"/>\n",
       "<text text-anchor=\"middle\" x=\"343.448\" y=\"-79.2469\" font-family=\"Times,serif\" font-size=\"14.00\">b</text>\n",
       "</g>\n",
       "<!-- F3&#45;&gt;S7 -->\n",
       "<g id=\"edge6\" class=\"edge\"><title>F3&#45;&gt;S7</title>\n",
       "<path fill=\"none\" stroke=\"black\" d=\"M304.147,-66.6482C324.425,-56.9991 355.463,-42.2296 377.412,-31.7854\"/>\n",
       "<polygon fill=\"black\" stroke=\"black\" points=\"378.969,-34.9208 386.495,-27.4635 375.961,-28.5999 378.969,-34.9208\"/>\n",
       "<text text-anchor=\"middle\" x=\"343.448\" y=\"-59.2469\" font-family=\"Times,serif\" font-size=\"14.00\">a</text>\n",
       "</g>\n",
       "</g>\n",
       "</svg>\n"
      ],
      "text/plain": [
       "<graphviz.dot.Digraph at 0x10fc05b00>"
      ]
     },
     "execution_count": 73,
     "metadata": {},
     "output_type": "execute_result"
    }
   ],
   "source": [
    "dblimp"
   ]
  },
  {
   "cell_type": "code",
   "execution_count": 74,
   "metadata": {
    "run_control": {
     "frozen": false,
     "read_only": false
    }
   },
   "outputs": [],
   "source": [
    "mblimp = min_dfa(blimp)"
   ]
  },
  {
   "cell_type": "code",
   "execution_count": 75,
   "metadata": {
    "run_control": {
     "frozen": false,
     "read_only": false
    }
   },
   "outputs": [],
   "source": [
    "dmblimp = dotObj_dfa(mblimp)"
   ]
  },
  {
   "cell_type": "code",
   "execution_count": 76,
   "metadata": {
    "run_control": {
     "frozen": false,
     "read_only": false
    }
   },
   "outputs": [
    {
     "data": {
      "image/svg+xml": [
       "<?xml version=\"1.0\" encoding=\"UTF-8\" standalone=\"no\"?>\n",
       "<!DOCTYPE svg PUBLIC \"-//W3C//DTD SVG 1.1//EN\"\n",
       " \"http://www.w3.org/Graphics/SVG/1.1/DTD/svg11.dtd\">\n",
       "<!-- Generated by graphviz version 2.38.0 (20140413.2041)\n",
       " -->\n",
       "<!-- Title: %3 Pages: 1 -->\n",
       "<svg width=\"397pt\" height=\"119pt\"\n",
       " viewBox=\"0.00 0.00 396.68 118.89\" xmlns=\"http://www.w3.org/2000/svg\" xmlns:xlink=\"http://www.w3.org/1999/xlink\">\n",
       "<g id=\"graph0\" class=\"graph\" transform=\"scale(1 1) rotate(0) translate(4 114.894)\">\n",
       "<title>%3</title>\n",
       "<polygon fill=\"white\" stroke=\"none\" points=\"-4,4 -4,-114.894 392.681,-114.894 392.681,4 -4,4\"/>\n",
       "<!-- EMPTY -->\n",
       "<g id=\"node1\" class=\"node\"><title>EMPTY</title>\n",
       "</g>\n",
       "<!-- I1 -->\n",
       "<g id=\"node3\" class=\"node\"><title>I1</title>\n",
       "<ellipse fill=\"none\" stroke=\"black\" cx=\"109\" cy=\"-23.4469\" rx=\"18\" ry=\"18\"/>\n",
       "<text text-anchor=\"middle\" x=\"109\" y=\"-19.2469\" font-family=\"Times,serif\" font-size=\"14.00\">I1</text>\n",
       "</g>\n",
       "<!-- EMPTY&#45;&gt;I1 -->\n",
       "<g id=\"edge1\" class=\"edge\"><title>EMPTY&#45;&gt;I1</title>\n",
       "<path fill=\"none\" stroke=\"black\" d=\"M54.195,-23.4469C62.6538,-23.4469 72.0513,-23.4469 80.5951,-23.4469\"/>\n",
       "<polygon fill=\"black\" stroke=\"black\" points=\"80.8257,-26.947 90.8257,-23.4469 80.8257,-19.947 80.8257,-26.947\"/>\n",
       "</g>\n",
       "<!-- S8 -->\n",
       "<g id=\"node2\" class=\"node\"><title>S8</title>\n",
       "<ellipse fill=\"none\" stroke=\"black\" cx=\"279.341\" cy=\"-23.4469\" rx=\"19.3939\" ry=\"19.3939\"/>\n",
       "<text text-anchor=\"middle\" x=\"279.341\" y=\"-19.2469\" font-family=\"Times,serif\" font-size=\"14.00\">S8</text>\n",
       "</g>\n",
       "<!-- F9 -->\n",
       "<g id=\"node4\" class=\"node\"><title>F9</title>\n",
       "<ellipse fill=\"none\" stroke=\"black\" cx=\"365.234\" cy=\"-23.4469\" rx=\"19.4029\" ry=\"19.4029\"/>\n",
       "<ellipse fill=\"none\" stroke=\"black\" cx=\"365.234\" cy=\"-23.4469\" rx=\"23.3939\" ry=\"23.3939\"/>\n",
       "<text text-anchor=\"middle\" x=\"365.234\" y=\"-19.2469\" font-family=\"Times,serif\" font-size=\"14.00\">F9</text>\n",
       "</g>\n",
       "<!-- S8&#45;&gt;F9 -->\n",
       "<g id=\"edge6\" class=\"edge\"><title>S8&#45;&gt;F9</title>\n",
       "<path fill=\"none\" stroke=\"black\" d=\"M298.959,-23.4469C308.471,-23.4469 320.328,-23.4469 331.318,-23.4469\"/>\n",
       "<polygon fill=\"black\" stroke=\"black\" points=\"331.483,-26.947 341.483,-23.4469 331.483,-19.947 331.483,-26.947\"/>\n",
       "<text text-anchor=\"middle\" x=\"320.287\" y=\"-26.2469\" font-family=\"Times,serif\" font-size=\"14.00\">a</text>\n",
       "</g>\n",
       "<!-- S8&#45;&gt;F9 -->\n",
       "<g id=\"edge7\" class=\"edge\"><title>S8&#45;&gt;F9</title>\n",
       "<path fill=\"none\" stroke=\"black\" d=\"M296.43,-13.5192C302.568,-10.2735 309.778,-7.08348 316.787,-5.44687 323.093,-3.97461 329.689,-4.83152 335.889,-6.80151\"/>\n",
       "<polygon fill=\"black\" stroke=\"black\" points=\"334.628,-10.067 345.207,-10.6386 337.293,-3.5944 334.628,-10.067\"/>\n",
       "<text text-anchor=\"middle\" x=\"320.287\" y=\"-8.24687\" font-family=\"Times,serif\" font-size=\"14.00\">b</text>\n",
       "</g>\n",
       "<!-- F2 -->\n",
       "<g id=\"node5\" class=\"node\"><title>F2</title>\n",
       "<ellipse fill=\"none\" stroke=\"black\" cx=\"193.447\" cy=\"-23.4469\" rx=\"19.4029\" ry=\"19.4029\"/>\n",
       "<ellipse fill=\"none\" stroke=\"black\" cx=\"193.447\" cy=\"-23.4469\" rx=\"23.3939\" ry=\"23.3939\"/>\n",
       "<text text-anchor=\"middle\" x=\"193.447\" y=\"-19.2469\" font-family=\"Times,serif\" font-size=\"14.00\">F2</text>\n",
       "</g>\n",
       "<!-- I1&#45;&gt;F2 -->\n",
       "<g id=\"edge2\" class=\"edge\"><title>I1&#45;&gt;F2</title>\n",
       "<path fill=\"none\" stroke=\"black\" d=\"M127.083,-23.4469C136.448,-23.4469 148.379,-23.4469 159.478,-23.4469\"/>\n",
       "<polygon fill=\"black\" stroke=\"black\" points=\"159.753,-26.947 169.753,-23.4469 159.753,-19.947 159.753,-26.947\"/>\n",
       "<text text-anchor=\"middle\" x=\"148.5\" y=\"-26.2469\" font-family=\"Times,serif\" font-size=\"14.00\">a</text>\n",
       "</g>\n",
       "<!-- I1&#45;&gt;F2 -->\n",
       "<g id=\"edge3\" class=\"edge\"><title>I1&#45;&gt;F2</title>\n",
       "<path fill=\"none\" stroke=\"black\" d=\"M124.717,-13.9046C130.75,-10.5299 137.96,-7.15095 145,-5.44687 151.294,-3.92333 157.885,-4.75841 164.083,-6.72333\"/>\n",
       "<polygon fill=\"black\" stroke=\"black\" points=\"162.823,-9.98936 173.402,-10.5645 165.49,-3.5176 162.823,-9.98936\"/>\n",
       "<text text-anchor=\"middle\" x=\"148.5\" y=\"-8.24687\" font-family=\"Times,serif\" font-size=\"14.00\">b</text>\n",
       "</g>\n",
       "<!-- F9&#45;&gt;F9 -->\n",
       "<g id=\"edge8\" class=\"edge\"><title>F9&#45;&gt;F9</title>\n",
       "<path fill=\"none\" stroke=\"black\" d=\"M361.146,-46.8814C360.864,-56.63 362.227,-64.8937 365.234,-64.8937 367.067,-64.8937 368.289,-61.8251 368.901,-57.2218\"/>\n",
       "<polygon fill=\"black\" stroke=\"black\" points=\"372.412,-57.016 369.323,-46.8814 365.418,-56.7301 372.412,-57.016\"/>\n",
       "<text text-anchor=\"middle\" x=\"365.234\" y=\"-67.6937\" font-family=\"Times,serif\" font-size=\"14.00\">a</text>\n",
       "</g>\n",
       "<!-- F9&#45;&gt;F9 -->\n",
       "<g id=\"edge9\" class=\"edge\"><title>F9&#45;&gt;F9</title>\n",
       "<path fill=\"none\" stroke=\"black\" d=\"M358.144,-46.0152C355.309,-64.1618 357.672,-82.8937 365.234,-82.8937 371.379,-82.8937 374.091,-70.5277 373.371,-56.1571\"/>\n",
       "<polygon fill=\"black\" stroke=\"black\" points=\"376.833,-55.6029 372.324,-46.0152 369.87,-56.3217 376.833,-55.6029\"/>\n",
       "<text text-anchor=\"middle\" x=\"365.234\" y=\"-85.6937\" font-family=\"Times,serif\" font-size=\"14.00\">b</text>\n",
       "</g>\n",
       "<!-- F2&#45;&gt;S8 -->\n",
       "<g id=\"edge4\" class=\"edge\"><title>F2&#45;&gt;S8</title>\n",
       "<path fill=\"none\" stroke=\"black\" d=\"M216.929,-23.4469C226.976,-23.4469 238.937,-23.4469 249.622,-23.4469\"/>\n",
       "<polygon fill=\"black\" stroke=\"black\" points=\"249.764,-26.947 259.764,-23.4469 249.764,-19.947 249.764,-26.947\"/>\n",
       "<text text-anchor=\"middle\" x=\"238.394\" y=\"-26.2469\" font-family=\"Times,serif\" font-size=\"14.00\">a</text>\n",
       "</g>\n",
       "<!-- F2&#45;&gt;S8 -->\n",
       "<g id=\"edge5\" class=\"edge\"><title>F2&#45;&gt;S8</title>\n",
       "<path fill=\"none\" stroke=\"black\" d=\"M213.474,-10.6386C222.002,-6.3683 232.285,-3.20342 241.894,-5.44687 245.618,-6.31632 249.398,-7.62417 253.044,-9.14587\"/>\n",
       "<polygon fill=\"black\" stroke=\"black\" points=\"251.717,-12.39 262.251,-13.5192 254.72,-6.06705 251.717,-12.39\"/>\n",
       "<text text-anchor=\"middle\" x=\"238.394\" y=\"-8.24687\" font-family=\"Times,serif\" font-size=\"14.00\">b</text>\n",
       "</g>\n",
       "</g>\n",
       "</svg>\n"
      ],
      "text/plain": [
       "<graphviz.dot.Digraph at 0x10fc05550>"
      ]
     },
     "execution_count": 76,
     "metadata": {},
     "output_type": "execute_result"
    }
   ],
   "source": [
    "dmblimp"
   ]
  },
  {
   "cell_type": "markdown",
   "metadata": {
    "run_control": {
     "frozen": false,
     "read_only": false
    }
   },
   "source": [
    "# Minimized \"blimp\" machine\n",
    "\n",
    "The minimized blimp machine is indeed quite small.\n"
   ]
  }
 ],
 "metadata": {
  "kernelspec": {
   "display_name": "Python 3",
   "language": "python",
   "name": "python3"
  },
  "language_info": {
   "codemirror_mode": {
    "name": "ipython",
    "version": 3
   },
   "file_extension": ".py",
   "mimetype": "text/x-python",
   "name": "python",
   "nbconvert_exporter": "python",
   "pygments_lexer": "ipython3",
   "version": "3.6.0"
  },
  "toc": {
   "colors": {
    "hover_highlight": "#DAA520",
    "running_highlight": "#FF0000",
    "selected_highlight": "#FFD700"
   },
   "moveMenuLeft": true,
   "nav_menu": {
    "height": "318px",
    "width": "252px"
   },
   "navigate_menu": true,
   "number_sections": true,
   "sideBar": true,
   "threshold": 4,
   "toc_cell": false,
   "toc_section_display": "block",
   "toc_window_display": false,
   "widenNotebook": false
  }
 },
 "nbformat": 4,
 "nbformat_minor": 1
}
