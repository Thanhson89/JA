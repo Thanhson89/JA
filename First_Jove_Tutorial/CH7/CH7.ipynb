{
 "cells": [
  {
   "cell_type": "markdown",
   "metadata": {
    "run_control": {
     "frozen": false,
     "read_only": false
    }
   },
   "source": [
    "# Exercises on NFA\n",
    "\n",
    "You may wish to watch my lecture on NFA a little, then play with the\n",
    "code below, and then finish watching."
   ]
  },
  {
   "cell_type": "code",
   "execution_count": 1,
   "metadata": {
    "run_control": {
     "frozen": false,
     "read_only": false
    }
   },
   "outputs": [
    {
     "data": {
      "image/jpeg": "[encoded data removed]",
      "text/html": [
       "\n",
       "        <iframe\n",
       "            width=\"400\"\n",
       "            height=\"300\"\n",
       "            src=\"https://www.youtube.com/embed/xjFtLF95uBc\"\n",
       "            frameborder=\"0\"\n",
       "            allowfullscreen\n",
       "        ></iframe>\n",
       "        "
      ],
      "text/plain": [
       "<IPython.lib.display.YouTubeVideo at 0x109eebb70>"
      ]
     },
     "execution_count": 1,
     "metadata": {},
     "output_type": "execute_result"
    }
   ],
   "source": [
    "# This Youtube video walks through this notebook\n",
    "from IPython.display import YouTubeVideo\n",
    "YouTubeVideo('xjFtLF95uBc')"
   ]
  },
  {
   "cell_type": "code",
   "execution_count": 2,
   "metadata": {
    "run_control": {
     "frozen": false,
     "read_only": false
    }
   },
   "outputs": [
    {
     "name": "stdout",
     "output_type": "stream",
     "text": [
      "You may use any of these help commands:\n",
      "help(ResetStNum)\n",
      "help(NxtStateStr)\n",
      "\n",
      "You may use any of these help commands:\n",
      "help(md2mc)\n",
      ".. and if you want to dig more, then ..\n",
      "help(default_line_attr)\n",
      "help(length_ok_input_items)\n",
      "help(union_line_attr_list_fld)\n",
      "help(extend_rsltdict)\n",
      "help(form_delta)\n",
      "help(get_machine_components)\n",
      "\n",
      "You may use any of these help commands:\n",
      "help(mkp_dfa)\n",
      "help(mk_dfa)\n",
      "help(totalize_dfa)\n",
      "help(addtosigma_delta)\n",
      "help(step_dfa)\n",
      "help(run_dfa)\n",
      "help(accepts_dfa)\n",
      "help(comp_dfa)\n",
      "help(union_dfa)\n",
      "help(intersect_dfa)\n",
      "help(pruneUnreach)\n",
      "help(iso_dfa)\n",
      "help(langeq_dfa)\n",
      "help(same_status)\n",
      "help(h_langeq_dfa)\n",
      "help(fixptDist)\n",
      "help(min_dfa)\n",
      "help(pairFR)\n",
      "help(state_combos)\n",
      "help(sepFinNonFin)\n",
      "help(bash_eql_classes)\n",
      "help(listminus)\n",
      "help(bash_1)\n",
      "help(mk_rep_eqc)\n",
      "help(F_of)\n",
      "help(rep_of_s)\n",
      "help(q0_of)\n",
      "help(Delta_of)\n",
      "help(mk_state_eqc_name)\n",
      "\n",
      "You may use any of these help commands:\n",
      "help(mk_nfa)\n",
      "help(totalize_nfa)\n",
      "help(step_nfa)\n",
      "help(run_nfa)\n",
      "help(ec_step_nfa)\n",
      "help(Eclosure)\n",
      "help(Echelp)\n",
      "help(accepts_nfa)\n",
      "help(nfa2dfa)\n",
      "help(n2d)\n",
      "help(inSets)\n",
      "help(rev_dfa)\n",
      "help(min_dfa_brz)\n",
      "\n"
     ]
    }
   ],
   "source": [
    "import sys\n",
    "sys.path[0:0] = ['../..','../../3rdparty'] # Put these at the head of the search path\n",
    "from jove.DotBashers import *\n",
    "from jove.Def_md2mc  import *\n",
    "from jove.Def_NFA    import *\n",
    "from jove.Def_DFA    import *"
   ]
  },
  {
   "cell_type": "code",
   "execution_count": 3,
   "metadata": {
    "run_control": {
     "frozen": false,
     "read_only": false
    }
   },
   "outputs": [],
   "source": [
    "# Our automd markdown works for NFA also. Here is the NFA for\n",
    "# the language \"ends in 0101\"\n",
    "\n",
    "NFA_ends0101 = md2mc(''' \n",
    "!!---------------------------------------------------------------------------\n",
    "!! This NFA looks for patterns of the form \n",
    "!!\n",
    "!!     ......<some 0's and 1's>.....0101\n",
    "!!\n",
    "!! i.e., all strings that end in 0101.\n",
    "!!\n",
    "!! This example (over and above thirdlastis1.nfa) also illustrates\n",
    "!! the power of nondeterminism. Anytime we see a 0 from state I, we\n",
    "!! can have the NFA speculate that it is seeing the beginning of a\n",
    "!! 0101 pattern! If the NFA fails in its guess, it pays no price\n",
    "!! (because another guess is soon coming from behind).\n",
    "!!\n",
    "!! * We take 4 states in the NFA solution. The DFA solution takes\n",
    "!!   5 states.\n",
    "!!\n",
    "!! * This shows how burden is shifted from the\n",
    "!!   human to the computer doing the NFA simulation.\n",
    "!!   Even though the savings in states is not dramatic,\n",
    "!!   the effort to build this NFA is much lower than building\n",
    "!!   the corresponding DFA.\n",
    "!! \n",
    "!!-----------------------------------------------------------------\n",
    "!! For NFA, each line can be as follows:\n",
    "!!\n",
    "!! State : in1 | in2 ...  ->  COmma, Separated, State, List  !! comment\n",
    "!!-----------------------------------------------------------------\n",
    "\n",
    "NFA\n",
    "\n",
    "I    : 1   -> I      !! I goes to I upon 1\n",
    "\n",
    "I    : 0   -> S0, I  !! I goes to S0 and I upon 0\n",
    "\n",
    "S0   : 1   -> S01    !! S0 goes to S01 upon 1\n",
    "\n",
    "S01  : 0   -> S010   !! S01 goes to S010 upon 0\n",
    "\n",
    "S010 : 1   -> F      !! S010 goes to F upon F\n",
    "\n",
    "!!---\n",
    "''')"
   ]
  },
  {
   "cell_type": "code",
   "execution_count": 4,
   "metadata": {
    "run_control": {
     "frozen": false,
     "read_only": false
    }
   },
   "outputs": [
    {
     "data": {
      "text/plain": [
       "{'Delta': {('I', '0'): {'I', 'S0'},\n",
       "  ('I', '1'): {'I'},\n",
       "  ('S0', '1'): {'S01'},\n",
       "  ('S01', '0'): {'S010'},\n",
       "  ('S010', '1'): {'F'}},\n",
       " 'F': {'F'},\n",
       " 'Q': {'F', 'I', 'S0', 'S01', 'S010'},\n",
       " 'Q0': {'I'},\n",
       " 'Sigma': {'0', '1'}}"
      ]
     },
     "execution_count": 4,
     "metadata": {},
     "output_type": "execute_result"
    }
   ],
   "source": [
    "# Now let us see the dict version of the NFA\n",
    "NFA_ends0101 "
   ]
  },
  {
   "cell_type": "code",
   "execution_count": 5,
   "metadata": {
    "run_control": {
     "frozen": false,
     "read_only": false
    }
   },
   "outputs": [
    {
     "data": {
      "image/svg+xml": [
       "<?xml version=\"1.0\" encoding=\"UTF-8\" standalone=\"no\"?>\n",
       "<!DOCTYPE svg PUBLIC \"-//W3C//DTD SVG 1.1//EN\"\n",
       " \"http://www.w3.org/Graphics/SVG/1.1/DTD/svg11.dtd\">\n",
       "<!-- Generated by graphviz version 2.38.0 (20140413.2041)\n",
       " -->\n",
       "<!-- Title: %3 Pages: 1 -->\n",
       "<svg width=\"494pt\" height=\"118pt\"\n",
       " viewBox=\"0.00 0.00 494.21 118.29\" xmlns=\"http://www.w3.org/2000/svg\" xmlns:xlink=\"http://www.w3.org/1999/xlink\">\n",
       "<g id=\"graph0\" class=\"graph\" transform=\"scale(1 1) rotate(0) translate(4 114.29)\">\n",
       "<title>%3</title>\n",
       "<polygon fill=\"white\" stroke=\"none\" points=\"-4,4 -4,-114.29 490.212,-114.29 490.212,4 -4,4\"/>\n",
       "<!-- EMPTY -->\n",
       "<g id=\"node1\" class=\"node\"><title>EMPTY</title>\n",
       "</g>\n",
       "<!-- I -->\n",
       "<g id=\"node2\" class=\"node\"><title>I</title>\n",
       "<ellipse fill=\"none\" stroke=\"black\" cx=\"109\" cy=\"-28.2903\" rx=\"18\" ry=\"18\"/>\n",
       "<text text-anchor=\"middle\" x=\"109\" y=\"-24.0903\" font-family=\"Times,serif\" font-size=\"14.00\">I</text>\n",
       "</g>\n",
       "<!-- EMPTY&#45;&gt;I -->\n",
       "<g id=\"edge1\" class=\"edge\"><title>EMPTY&#45;&gt;I</title>\n",
       "<path fill=\"none\" stroke=\"black\" d=\"M54.195,-28.2903C62.6538,-28.2903 72.0513,-28.2903 80.5951,-28.2903\"/>\n",
       "<polygon fill=\"black\" stroke=\"black\" points=\"80.8257,-31.7904 90.8257,-28.2903 80.8257,-24.7904 80.8257,-31.7904\"/>\n",
       "</g>\n",
       "<!-- I&#45;&gt;I -->\n",
       "<g id=\"edge2\" class=\"edge\"><title>I&#45;&gt;I</title>\n",
       "<path fill=\"none\" stroke=\"black\" d=\"M105.764,-46.0721C105.214,-55.6053 106.293,-64.2903 109,-64.2903 110.65,-64.2903 111.694,-61.0652 112.135,-56.3884\"/>\n",
       "<polygon fill=\"black\" stroke=\"black\" points=\"115.638,-56.1059 112.236,-46.0721 108.638,-56.0373 115.638,-56.1059\"/>\n",
       "<text text-anchor=\"middle\" x=\"109\" y=\"-67.0903\" font-family=\"Times,serif\" font-size=\"14.00\">1</text>\n",
       "</g>\n",
       "<!-- I&#45;&gt;I -->\n",
       "<g id=\"edge3\" class=\"edge\"><title>I&#45;&gt;I</title>\n",
       "<path fill=\"none\" stroke=\"black\" d=\"M103.684,-45.7106C100.654,-63.0813 102.426,-82.2903 109,-82.2903 114.29,-82.2903 116.471,-69.8521 115.542,-55.9423\"/>\n",
       "<polygon fill=\"black\" stroke=\"black\" points=\"118.981,-55.2232 114.316,-45.7106 112.031,-56.056 118.981,-55.2232\"/>\n",
       "<text text-anchor=\"middle\" x=\"109\" y=\"-85.0903\" font-family=\"Times,serif\" font-size=\"14.00\">0</text>\n",
       "</g>\n",
       "<!-- S0 -->\n",
       "<g id=\"node4\" class=\"node\"><title>S0</title>\n",
       "<ellipse fill=\"none\" stroke=\"black\" cx=\"189.447\" cy=\"-28.2903\" rx=\"19.3939\" ry=\"19.3939\"/>\n",
       "<text text-anchor=\"middle\" x=\"189.447\" y=\"-24.0903\" font-family=\"Times,serif\" font-size=\"14.00\">S0</text>\n",
       "</g>\n",
       "<!-- I&#45;&gt;S0 -->\n",
       "<g id=\"edge4\" class=\"edge\"><title>I&#45;&gt;S0</title>\n",
       "<path fill=\"none\" stroke=\"black\" d=\"M127.022,-28.2903C136.583,-28.2903 148.77,-28.2903 159.763,-28.2903\"/>\n",
       "<polygon fill=\"black\" stroke=\"black\" points=\"159.813,-31.7904 169.813,-28.2903 159.813,-24.7904 159.813,-31.7904\"/>\n",
       "<text text-anchor=\"middle\" x=\"148.5\" y=\"-31.0903\" font-family=\"Times,serif\" font-size=\"14.00\">0</text>\n",
       "</g>\n",
       "<!-- S010 -->\n",
       "<g id=\"node3\" class=\"node\"><title>S010</title>\n",
       "<ellipse fill=\"none\" stroke=\"black\" cx=\"370.921\" cy=\"-28.2903\" rx=\"28.0822\" ry=\"28.0822\"/>\n",
       "<text text-anchor=\"middle\" x=\"370.921\" y=\"-24.0903\" font-family=\"Times,serif\" font-size=\"14.00\">S010</text>\n",
       "</g>\n",
       "<!-- F -->\n",
       "<g id=\"node6\" class=\"node\"><title>F</title>\n",
       "<ellipse fill=\"none\" stroke=\"black\" cx=\"464.212\" cy=\"-28.2903\" rx=\"18\" ry=\"18\"/>\n",
       "<ellipse fill=\"none\" stroke=\"black\" cx=\"464.212\" cy=\"-28.2903\" rx=\"22\" ry=\"22\"/>\n",
       "<text text-anchor=\"middle\" x=\"464.212\" y=\"-24.0903\" font-family=\"Times,serif\" font-size=\"14.00\">F</text>\n",
       "</g>\n",
       "<!-- S010&#45;&gt;F -->\n",
       "<g id=\"edge7\" class=\"edge\"><title>S010&#45;&gt;F</title>\n",
       "<path fill=\"none\" stroke=\"black\" d=\"M399.311,-28.2903C409.553,-28.2903 421.262,-28.2903 431.836,-28.2903\"/>\n",
       "<polygon fill=\"black\" stroke=\"black\" points=\"431.934,-31.7904 441.934,-28.2903 431.934,-24.7904 431.934,-31.7904\"/>\n",
       "<text text-anchor=\"middle\" x=\"420.712\" y=\"-31.0903\" font-family=\"Times,serif\" font-size=\"14.00\">1</text>\n",
       "</g>\n",
       "<!-- S01 -->\n",
       "<g id=\"node5\" class=\"node\"><title>S01</title>\n",
       "<ellipse fill=\"none\" stroke=\"black\" cx=\"275.762\" cy=\"-28.2903\" rx=\"23.7379\" ry=\"23.7379\"/>\n",
       "<text text-anchor=\"middle\" x=\"275.762\" y=\"-24.0903\" font-family=\"Times,serif\" font-size=\"14.00\">S01</text>\n",
       "</g>\n",
       "<!-- S0&#45;&gt;S01 -->\n",
       "<g id=\"edge5\" class=\"edge\"><title>S0&#45;&gt;S01</title>\n",
       "<path fill=\"none\" stroke=\"black\" d=\"M209.159,-28.2903C218.645,-28.2903 230.452,-28.2903 241.425,-28.2903\"/>\n",
       "<polygon fill=\"black\" stroke=\"black\" points=\"241.587,-31.7904 251.587,-28.2903 241.587,-24.7904 241.587,-31.7904\"/>\n",
       "<text text-anchor=\"middle\" x=\"230.394\" y=\"-31.0903\" font-family=\"Times,serif\" font-size=\"14.00\">1</text>\n",
       "</g>\n",
       "<!-- S01&#45;&gt;S010 -->\n",
       "<g id=\"edge6\" class=\"edge\"><title>S01&#45;&gt;S010</title>\n",
       "<path fill=\"none\" stroke=\"black\" d=\"M299.79,-28.2903C309.59,-28.2903 321.277,-28.2903 332.274,-28.2903\"/>\n",
       "<polygon fill=\"black\" stroke=\"black\" points=\"332.522,-31.7904 342.521,-28.2903 332.521,-24.7904 332.522,-31.7904\"/>\n",
       "<text text-anchor=\"middle\" x=\"321.131\" y=\"-31.0903\" font-family=\"Times,serif\" font-size=\"14.00\">0</text>\n",
       "</g>\n",
       "</g>\n",
       "</svg>\n"
      ],
      "text/plain": [
       "<graphviz.dot.Digraph at 0x10a17b278>"
      ]
     },
     "execution_count": 5,
     "metadata": {},
     "output_type": "execute_result"
    }
   ],
   "source": [
    "# Let's see the drawing of this NFA\n",
    "\n",
    "dotObj_nfa(NFA_ends0101)  "
   ]
  },
  {
   "cell_type": "code",
   "execution_count": 6,
   "metadata": {
    "run_control": {
     "frozen": false,
     "read_only": false
    }
   },
   "outputs": [
    {
     "data": {
      "image/svg+xml": [
       "<?xml version=\"1.0\" encoding=\"UTF-8\" standalone=\"no\"?>\n",
       "<!DOCTYPE svg PUBLIC \"-//W3C//DTD SVG 1.1//EN\"\n",
       " \"http://www.w3.org/Graphics/SVG/1.1/DTD/svg11.dtd\">\n",
       "<!-- Generated by graphviz version 2.38.0 (20140413.2041)\n",
       " -->\n",
       "<!-- Title: %3 Pages: 1 -->\n",
       "<svg width=\"494pt\" height=\"100pt\"\n",
       " viewBox=\"0.00 0.00 494.21 100.29\" xmlns=\"http://www.w3.org/2000/svg\" xmlns:xlink=\"http://www.w3.org/1999/xlink\">\n",
       "<g id=\"graph0\" class=\"graph\" transform=\"scale(1 1) rotate(0) translate(4 96.2903)\">\n",
       "<title>%3</title>\n",
       "<polygon fill=\"white\" stroke=\"none\" points=\"-4,4 -4,-96.2903 490.212,-96.2903 490.212,4 -4,4\"/>\n",
       "<!-- EMPTY -->\n",
       "<g id=\"node1\" class=\"node\"><title>EMPTY</title>\n",
       "</g>\n",
       "<!-- I -->\n",
       "<g id=\"node2\" class=\"node\"><title>I</title>\n",
       "<ellipse fill=\"none\" stroke=\"black\" cx=\"109\" cy=\"-28.2903\" rx=\"18\" ry=\"18\"/>\n",
       "<text text-anchor=\"middle\" x=\"109\" y=\"-24.0903\" font-family=\"Times,serif\" font-size=\"14.00\">I</text>\n",
       "</g>\n",
       "<!-- EMPTY&#45;&gt;I -->\n",
       "<g id=\"edge1\" class=\"edge\"><title>EMPTY&#45;&gt;I</title>\n",
       "<path fill=\"none\" stroke=\"black\" d=\"M54.195,-28.2903C62.6538,-28.2903 72.0513,-28.2903 80.5951,-28.2903\"/>\n",
       "<polygon fill=\"black\" stroke=\"black\" points=\"80.8257,-31.7904 90.8257,-28.2903 80.8257,-24.7904 80.8257,-31.7904\"/>\n",
       "</g>\n",
       "<!-- I&#45;&gt;I -->\n",
       "<g id=\"edge2\" class=\"edge\"><title>I&#45;&gt;I</title>\n",
       "<path fill=\"none\" stroke=\"black\" d=\"M102.621,-45.3276C101.319,-55.1482 103.445,-64.2903 109,-64.2903 112.472,-64.2903 114.604,-60.7192 115.398,-55.6432\"/>\n",
       "<polygon fill=\"black\" stroke=\"black\" points=\"118.897,-55.3214 115.379,-45.3276 111.897,-55.3339 118.897,-55.3214\"/>\n",
       "<text text-anchor=\"middle\" x=\"109\" y=\"-81.0903\" font-family=\"Times,serif\" font-size=\"14.00\">1 </text>\n",
       "<text text-anchor=\"middle\" x=\"109\" y=\"-67.0903\" font-family=\"Times,serif\" font-size=\"14.00\"> 0</text>\n",
       "</g>\n",
       "<!-- S0 -->\n",
       "<g id=\"node4\" class=\"node\"><title>S0</title>\n",
       "<ellipse fill=\"none\" stroke=\"black\" cx=\"189.447\" cy=\"-28.2903\" rx=\"19.3939\" ry=\"19.3939\"/>\n",
       "<text text-anchor=\"middle\" x=\"189.447\" y=\"-24.0903\" font-family=\"Times,serif\" font-size=\"14.00\">S0</text>\n",
       "</g>\n",
       "<!-- I&#45;&gt;S0 -->\n",
       "<g id=\"edge3\" class=\"edge\"><title>I&#45;&gt;S0</title>\n",
       "<path fill=\"none\" stroke=\"black\" d=\"M127.022,-28.2903C136.583,-28.2903 148.77,-28.2903 159.763,-28.2903\"/>\n",
       "<polygon fill=\"black\" stroke=\"black\" points=\"159.813,-31.7904 169.813,-28.2903 159.813,-24.7904 159.813,-31.7904\"/>\n",
       "<text text-anchor=\"middle\" x=\"148.5\" y=\"-31.0903\" font-family=\"Times,serif\" font-size=\"14.00\">0</text>\n",
       "</g>\n",
       "<!-- S010 -->\n",
       "<g id=\"node3\" class=\"node\"><title>S010</title>\n",
       "<ellipse fill=\"none\" stroke=\"black\" cx=\"370.921\" cy=\"-28.2903\" rx=\"28.0822\" ry=\"28.0822\"/>\n",
       "<text text-anchor=\"middle\" x=\"370.921\" y=\"-24.0903\" font-family=\"Times,serif\" font-size=\"14.00\">S010</text>\n",
       "</g>\n",
       "<!-- F -->\n",
       "<g id=\"node6\" class=\"node\"><title>F</title>\n",
       "<ellipse fill=\"none\" stroke=\"black\" cx=\"464.212\" cy=\"-28.2903\" rx=\"18\" ry=\"18\"/>\n",
       "<ellipse fill=\"none\" stroke=\"black\" cx=\"464.212\" cy=\"-28.2903\" rx=\"22\" ry=\"22\"/>\n",
       "<text text-anchor=\"middle\" x=\"464.212\" y=\"-24.0903\" font-family=\"Times,serif\" font-size=\"14.00\">F</text>\n",
       "</g>\n",
       "<!-- S010&#45;&gt;F -->\n",
       "<g id=\"edge6\" class=\"edge\"><title>S010&#45;&gt;F</title>\n",
       "<path fill=\"none\" stroke=\"black\" d=\"M399.311,-28.2903C409.553,-28.2903 421.262,-28.2903 431.836,-28.2903\"/>\n",
       "<polygon fill=\"black\" stroke=\"black\" points=\"431.934,-31.7904 441.934,-28.2903 431.934,-24.7904 431.934,-31.7904\"/>\n",
       "<text text-anchor=\"middle\" x=\"420.712\" y=\"-31.0903\" font-family=\"Times,serif\" font-size=\"14.00\">1</text>\n",
       "</g>\n",
       "<!-- S01 -->\n",
       "<g id=\"node5\" class=\"node\"><title>S01</title>\n",
       "<ellipse fill=\"none\" stroke=\"black\" cx=\"275.762\" cy=\"-28.2903\" rx=\"23.7379\" ry=\"23.7379\"/>\n",
       "<text text-anchor=\"middle\" x=\"275.762\" y=\"-24.0903\" font-family=\"Times,serif\" font-size=\"14.00\">S01</text>\n",
       "</g>\n",
       "<!-- S0&#45;&gt;S01 -->\n",
       "<g id=\"edge4\" class=\"edge\"><title>S0&#45;&gt;S01</title>\n",
       "<path fill=\"none\" stroke=\"black\" d=\"M209.159,-28.2903C218.645,-28.2903 230.452,-28.2903 241.425,-28.2903\"/>\n",
       "<polygon fill=\"black\" stroke=\"black\" points=\"241.587,-31.7904 251.587,-28.2903 241.587,-24.7904 241.587,-31.7904\"/>\n",
       "<text text-anchor=\"middle\" x=\"230.394\" y=\"-31.0903\" font-family=\"Times,serif\" font-size=\"14.00\">1</text>\n",
       "</g>\n",
       "<!-- S01&#45;&gt;S010 -->\n",
       "<g id=\"edge5\" class=\"edge\"><title>S01&#45;&gt;S010</title>\n",
       "<path fill=\"none\" stroke=\"black\" d=\"M299.79,-28.2903C309.59,-28.2903 321.277,-28.2903 332.274,-28.2903\"/>\n",
       "<polygon fill=\"black\" stroke=\"black\" points=\"332.522,-31.7904 342.521,-28.2903 332.521,-24.7904 332.522,-31.7904\"/>\n",
       "<text text-anchor=\"middle\" x=\"321.131\" y=\"-31.0903\" font-family=\"Times,serif\" font-size=\"14.00\">0</text>\n",
       "</g>\n",
       "</g>\n",
       "</svg>\n"
      ],
      "text/plain": [
       "<graphviz.dot.Digraph at 0x10a17b5f8>"
      ]
     },
     "execution_count": 6,
     "metadata": {},
     "output_type": "execute_result"
    }
   ],
   "source": [
    "# The drawing produces separated self-loops. Let's fuse 'em\n",
    "\n",
    "# Now we are going to fuse the separate self-loops into one\n",
    "\n",
    "dotObj_nfa(NFA_ends0101, FuseEdges=True) "
   ]
  },
  {
   "cell_type": "markdown",
   "metadata": {
    "run_control": {
     "frozen": false,
     "read_only": false
    }
   },
   "source": [
    "# NFA for 3rd-last is 1"
   ]
  },
  {
   "cell_type": "code",
   "execution_count": 7,
   "metadata": {
    "run_control": {
     "frozen": false,
     "read_only": false
    }
   },
   "outputs": [],
   "source": [
    "# Here is the automd (markdown) for an NF whose third-last symbol is a 1\n",
    "\n",
    "NFA_3rdlast_1 = md2mc('''\n",
    "NFA\n",
    "\n",
    "I : 0  | 1  -> I  !! Upon a 0 or a 1, continue to stay in state I\n",
    "\n",
    "I : ''      -> S0 !! Nondeterministically transition to state S0\n",
    "\n",
    "S0 : 1      -> S1 !! This is the key \"1\" (third-last being 1) seen\n",
    "\n",
    "S1 : 0 | 1  -> S2 !! One 0/1 takes the NFA to S2\n",
    "\n",
    "S2 : 0 | 1  -> F  !! One more 0/1 takes the NFA to F\n",
    "\n",
    "''')"
   ]
  },
  {
   "cell_type": "code",
   "execution_count": 8,
   "metadata": {
    "run_control": {
     "frozen": false,
     "read_only": false
    }
   },
   "outputs": [
    {
     "data": {
      "text/plain": [
       "{'Delta': {('I', ''): {'S0'},\n",
       "  ('I', '0'): {'I'},\n",
       "  ('I', '1'): {'I'},\n",
       "  ('S0', '1'): {'S1'},\n",
       "  ('S1', '0'): {'S2'},\n",
       "  ('S1', '1'): {'S2'},\n",
       "  ('S2', '0'): {'F'},\n",
       "  ('S2', '1'): {'F'}},\n",
       " 'F': {'F'},\n",
       " 'Q': {'F', 'I', 'S0', 'S1', 'S2'},\n",
       " 'Q0': {'I'},\n",
       " 'Sigma': {'0', '1'}}"
      ]
     },
     "execution_count": 8,
     "metadata": {},
     "output_type": "execute_result"
    }
   ],
   "source": [
    "# Let us see its internal representation\n",
    "\n",
    "NFA_3rdlast_1"
   ]
  },
  {
   "cell_type": "code",
   "execution_count": 9,
   "metadata": {
    "run_control": {
     "frozen": false,
     "read_only": false
    }
   },
   "outputs": [
    {
     "data": {
      "image/svg+xml": [
       "<?xml version=\"1.0\" encoding=\"UTF-8\" standalone=\"no\"?>\n",
       "<!DOCTYPE svg PUBLIC \"-//W3C//DTD SVG 1.1//EN\"\n",
       " \"http://www.w3.org/Graphics/SVG/1.1/DTD/svg11.dtd\">\n",
       "<!-- Generated by graphviz version 2.38.0 (20140413.2041)\n",
       " -->\n",
       "<!-- Title: %3 Pages: 1 -->\n",
       "<svg width=\"473pt\" height=\"94pt\"\n",
       " viewBox=\"0.00 0.00 472.73 94.00\" xmlns=\"http://www.w3.org/2000/svg\" xmlns:xlink=\"http://www.w3.org/1999/xlink\">\n",
       "<g id=\"graph0\" class=\"graph\" transform=\"scale(1 1) rotate(0) translate(4 90)\">\n",
       "<title>%3</title>\n",
       "<polygon fill=\"white\" stroke=\"none\" points=\"-4,4 -4,-90 468.726,-90 468.726,4 -4,4\"/>\n",
       "<!-- EMPTY -->\n",
       "<g id=\"node1\" class=\"node\"><title>EMPTY</title>\n",
       "</g>\n",
       "<!-- I -->\n",
       "<g id=\"node3\" class=\"node\"><title>I</title>\n",
       "<ellipse fill=\"none\" stroke=\"black\" cx=\"109\" cy=\"-22\" rx=\"18\" ry=\"18\"/>\n",
       "<text text-anchor=\"middle\" x=\"109\" y=\"-17.8\" font-family=\"Times,serif\" font-size=\"14.00\">I</text>\n",
       "</g>\n",
       "<!-- EMPTY&#45;&gt;I -->\n",
       "<g id=\"edge1\" class=\"edge\"><title>EMPTY&#45;&gt;I</title>\n",
       "<path fill=\"none\" stroke=\"black\" d=\"M54.195,-22C62.6538,-22 72.0513,-22 80.5951,-22\"/>\n",
       "<polygon fill=\"black\" stroke=\"black\" points=\"80.8257,-25.5001 90.8257,-22 80.8257,-18.5001 80.8257,-25.5001\"/>\n",
       "</g>\n",
       "<!-- S2 -->\n",
       "<g id=\"node2\" class=\"node\"><title>S2</title>\n",
       "<ellipse fill=\"none\" stroke=\"black\" cx=\"354.779\" cy=\"-22\" rx=\"19.3939\" ry=\"19.3939\"/>\n",
       "<text text-anchor=\"middle\" x=\"354.779\" y=\"-17.8\" font-family=\"Times,serif\" font-size=\"14.00\">S2</text>\n",
       "</g>\n",
       "<!-- F -->\n",
       "<g id=\"node6\" class=\"node\"><title>F</title>\n",
       "<ellipse fill=\"none\" stroke=\"black\" cx=\"442.726\" cy=\"-22\" rx=\"18\" ry=\"18\"/>\n",
       "<ellipse fill=\"none\" stroke=\"black\" cx=\"442.726\" cy=\"-22\" rx=\"22\" ry=\"22\"/>\n",
       "<text text-anchor=\"middle\" x=\"442.726\" y=\"-17.8\" font-family=\"Times,serif\" font-size=\"14.00\">F</text>\n",
       "</g>\n",
       "<!-- S2&#45;&gt;F -->\n",
       "<g id=\"edge6\" class=\"edge\"><title>S2&#45;&gt;F</title>\n",
       "<path fill=\"none\" stroke=\"black\" d=\"M374.428,-22C384.967,-22 398.417,-22 410.518,-22\"/>\n",
       "<polygon fill=\"black\" stroke=\"black\" points=\"410.698,-25.5001 420.698,-22 410.698,-18.5001 410.698,-25.5001\"/>\n",
       "<text text-anchor=\"middle\" x=\"397.476\" y=\"-38.8\" font-family=\"Times,serif\" font-size=\"14.00\">1 </text>\n",
       "<text text-anchor=\"middle\" x=\"397.476\" y=\"-24.8\" font-family=\"Times,serif\" font-size=\"14.00\"> 0</text>\n",
       "</g>\n",
       "<!-- I&#45;&gt;I -->\n",
       "<g id=\"edge2\" class=\"edge\"><title>I&#45;&gt;I</title>\n",
       "<path fill=\"none\" stroke=\"black\" d=\"M102.621,-39.0373C101.319,-48.8579 103.445,-58 109,-58 112.472,-58 114.604,-54.4289 115.398,-49.3529\"/>\n",
       "<polygon fill=\"black\" stroke=\"black\" points=\"118.897,-49.031 115.379,-39.0373 111.897,-49.0435 118.897,-49.031\"/>\n",
       "<text text-anchor=\"middle\" x=\"109\" y=\"-74.8\" font-family=\"Times,serif\" font-size=\"14.00\">1 </text>\n",
       "<text text-anchor=\"middle\" x=\"109\" y=\"-60.8\" font-family=\"Times,serif\" font-size=\"14.00\"> 0</text>\n",
       "</g>\n",
       "<!-- S0 -->\n",
       "<g id=\"node4\" class=\"node\"><title>S0</title>\n",
       "<ellipse fill=\"none\" stroke=\"black\" cx=\"187.492\" cy=\"-22\" rx=\"19.3939\" ry=\"19.3939\"/>\n",
       "<text text-anchor=\"middle\" x=\"187.492\" y=\"-17.8\" font-family=\"Times,serif\" font-size=\"14.00\">S0</text>\n",
       "</g>\n",
       "<!-- I&#45;&gt;S0 -->\n",
       "<g id=\"edge3\" class=\"edge\"><title>I&#45;&gt;S0</title>\n",
       "<path fill=\"none\" stroke=\"black\" d=\"M127.357,-22C136.321,-22 147.493,-22 157.705,-22\"/>\n",
       "<polygon fill=\"black\" stroke=\"black\" points=\"157.867,-25.5001 167.867,-22 157.867,-18.5001 157.867,-25.5001\"/>\n",
       "<text text-anchor=\"middle\" x=\"147.522\" y=\"-24.8\" font-family=\"Times,serif\" font-size=\"14.00\">&#39;&#39;</text>\n",
       "</g>\n",
       "<!-- S1 -->\n",
       "<g id=\"node5\" class=\"node\"><title>S1</title>\n",
       "<ellipse fill=\"none\" stroke=\"black\" cx=\"269.386\" cy=\"-22\" rx=\"19.3939\" ry=\"19.3939\"/>\n",
       "<text text-anchor=\"middle\" x=\"269.386\" y=\"-17.8\" font-family=\"Times,serif\" font-size=\"14.00\">S1</text>\n",
       "</g>\n",
       "<!-- S0&#45;&gt;S1 -->\n",
       "<g id=\"edge4\" class=\"edge\"><title>S0&#45;&gt;S1</title>\n",
       "<path fill=\"none\" stroke=\"black\" d=\"M207.022,-22C216.633,-22 228.592,-22 239.394,-22\"/>\n",
       "<polygon fill=\"black\" stroke=\"black\" points=\"239.679,-25.5001 249.679,-22 239.679,-18.5001 239.679,-25.5001\"/>\n",
       "<text text-anchor=\"middle\" x=\"228.439\" y=\"-24.8\" font-family=\"Times,serif\" font-size=\"14.00\">1</text>\n",
       "</g>\n",
       "<!-- S1&#45;&gt;S2 -->\n",
       "<g id=\"edge5\" class=\"edge\"><title>S1&#45;&gt;S2</title>\n",
       "<path fill=\"none\" stroke=\"black\" d=\"M288.893,-22C299.582,-22 313.252,-22 325.285,-22\"/>\n",
       "<polygon fill=\"black\" stroke=\"black\" points=\"325.323,-25.5001 335.323,-22 325.323,-18.5001 325.323,-25.5001\"/>\n",
       "<text text-anchor=\"middle\" x=\"312.082\" y=\"-38.8\" font-family=\"Times,serif\" font-size=\"14.00\">1 </text>\n",
       "<text text-anchor=\"middle\" x=\"312.082\" y=\"-24.8\" font-family=\"Times,serif\" font-size=\"14.00\"> 0</text>\n",
       "</g>\n",
       "</g>\n",
       "</svg>\n"
      ],
      "text/plain": [
       "<graphviz.dot.Digraph at 0x10a048a20>"
      ]
     },
     "execution_count": 9,
     "metadata": {},
     "output_type": "execute_result"
    }
   ],
   "source": [
    "# Let us see this NFA drawn out\n",
    "\n",
    "dotObj_nfa(NFA_3rdlast_1, FuseEdges=True)"
   ]
  },
  {
   "cell_type": "code",
   "execution_count": 10,
   "metadata": {
    "run_control": {
     "frozen": false,
     "read_only": false
    }
   },
   "outputs": [
    {
     "data": {
      "text/plain": [
       "{'S0'}"
      ]
     },
     "execution_count": 10,
     "metadata": {},
     "output_type": "execute_result"
    }
   ],
   "source": [
    "# Let's step the NFA on epsilon   \n",
    "step_nfa(NFA_3rdlast_1, \"I\", \"\")"
   ]
  },
  {
   "cell_type": "code",
   "execution_count": 11,
   "metadata": {
    "run_control": {
     "frozen": false,
     "read_only": false
    }
   },
   "outputs": [
    {
     "data": {
      "text/plain": [
       "{'I'}"
      ]
     },
     "execution_count": 11,
     "metadata": {},
     "output_type": "execute_result"
    }
   ],
   "source": [
    "# Let's step it on '0'  \n",
    "step_nfa(NFA_3rdlast_1, \"I\", \"0\")"
   ]
  },
  {
   "cell_type": "code",
   "execution_count": 12,
   "metadata": {
    "run_control": {
     "frozen": false,
     "read_only": false
    }
   },
   "outputs": [
    {
     "data": {
      "text/plain": [
       "{'I'}"
      ]
     },
     "execution_count": 12,
     "metadata": {},
     "output_type": "execute_result"
    }
   ],
   "source": [
    "# Step it on a \"1\" to see two next states. That shows nondeterminism!\n",
    "\n",
    "step_nfa(NFA_3rdlast_1, \"I\", \"1\")  "
   ]
  },
  {
   "cell_type": "code",
   "execution_count": 13,
   "metadata": {
    "run_control": {
     "frozen": false,
     "read_only": false
    }
   },
   "outputs": [
    {
     "data": {
      "text/plain": [
       "{'I', 'S0'}"
      ]
     },
     "execution_count": 13,
     "metadata": {},
     "output_type": "execute_result"
    }
   ],
   "source": [
    "# What is the Eclosure of the set of states {I} ?\n",
    "\n",
    "Eclosure(NFA_3rdlast_1, {\"I\"})"
   ]
  },
  {
   "cell_type": "code",
   "execution_count": 14,
   "metadata": {
    "run_control": {
     "frozen": false,
     "read_only": false
    }
   },
   "outputs": [
    {
     "name": "stdout",
     "output_type": "stream",
     "text": [
      "Help on function accepts_nfa in module jove.Def_NFA:\n",
      "\n",
      "accepts_nfa(N, s, chatty=False)\n",
      "    NFA acceptance.\n",
      "    Input : N : given NFA\n",
      "            s : given string\n",
      "            chatty : Boolean (prints accepting path,\n",
      "                     which is the state-sets encountered).\n",
      "\n"
     ]
    }
   ],
   "source": [
    "help(accepts_nfa)"
   ]
  },
  {
   "cell_type": "code",
   "execution_count": 15,
   "metadata": {
    "run_control": {
     "frozen": false,
     "read_only": false
    }
   },
   "outputs": [
    {
     "name": "stdout",
     "output_type": "stream",
     "text": [
      "States reached =  {'I', 'S0'}\n",
      "States reached =  {'I', 'S0', 'S1'}\n",
      "States reached =  {'S2', 'I', 'S0'}\n",
      "States reached =  {'F', 'S0', 'I'}\n",
      "States reached =  {'I', 'S0', 'S1'}\n",
      "States reached =  {'S2', 'I', 'S0'}\n",
      "States reached =  {'F', 'S0', 'I'}\n",
      "NFA accepts '0100100' by reaching {'F', 'S0', 'I'}\n"
     ]
    },
    {
     "data": {
      "text/plain": [
       "True"
      ]
     },
     "execution_count": 15,
     "metadata": {},
     "output_type": "execute_result"
    }
   ],
   "source": [
    "accepts_nfa(NFA_3rdlast_1, \"0100100\", chatty=True)"
   ]
  },
  {
   "cell_type": "markdown",
   "metadata": {
    "run_control": {
     "frozen": false,
     "read_only": false
    }
   },
   "source": [
    "# Let us run NFA interactively via widgets\n",
    "\n",
    "We have two NFA to play with, namely nfa_ends0101 and NFA_3rdlast_1\n"
   ]
  },
  {
   "cell_type": "code",
   "execution_count": 16,
   "metadata": {
    "run_control": {
     "frozen": false,
     "read_only": false
    }
   },
   "outputs": [],
   "source": [
    "import ipywidgets as wdg\n",
    "def run_nfa_slider(N, s, n):\n",
    "    \"\"\"Run NFA N from N[\"Q0\"] (which is a set..) on substring s[0:n]\n",
    "    \"\"\"\n",
    "    S = N[\"Q0\"] \n",
    "    if (n > len(s)):\n",
    "        n = len(s)\n",
    "    print(\"string = \", s[0:n])\n",
    "    run_nfa(N, S, s[0:n], True)\n",
    "    \n",
    "def run_nfa_int(N1, N2):\n",
    "    \"\"\"Run interactively from the given NFA .. from {q0} \n",
    "       on input string's substring\n",
    "       as picked by slider.\n",
    "    \"\"\"\n",
    "    inp = input(\"Please provide string: \")\n",
    "    wdg.interact(run_nfa_slider, N = {'N1': N1, 'N2': N2}, \n",
    "                 s = inp, n=(0,32))\n",
    "    \n",
    "def test_run_nfa_int(N1, N2):\n",
    "    \"\"\"Test the interactive run of NFA.\n",
    "    \"\"\"\n",
    "    run_nfa_int(N1, N2)\n",
    "\n",
    "#-- enable this later. test_run_nfa_int()"
   ]
  },
  {
   "cell_type": "markdown",
   "metadata": {
    "run_control": {
     "frozen": false,
     "read_only": false
    }
   },
   "source": [
    "## Once you run the command below, provide a string\n",
    "\n",
    "Provide a string of 0's and 1's. Then you can use the pull-down to pick the NFA\n",
    "to test, and the slider to incrementally consume more of the input string\n"
   ]
  },
  {
   "cell_type": "code",
   "execution_count": 17,
   "metadata": {
    "run_control": {
     "frozen": false,
     "read_only": false
    }
   },
   "outputs": [
    {
     "name": "stdout",
     "output_type": "stream",
     "text": [
      "string =  010010101\n",
      "States reached =  {'I', 'S0'}\n",
      "States reached =  {'S01', 'I'}\n",
      "States reached =  {'S0', 'S010', 'I'}\n",
      "States reached =  {'I', 'S0'}\n",
      "States reached =  {'S01', 'I'}\n",
      "States reached =  {'S0', 'S010', 'I'}\n",
      "States reached =  {'S01', 'I', 'F'}\n",
      "States reached =  {'S0', 'S010', 'I'}\n",
      "States reached =  {'S01', 'I', 'F'}\n"
     ]
    }
   ],
   "source": [
    "test_run_nfa_int(NFA_ends0101, NFA_3rdlast_1)"
   ]
  },
  {
   "cell_type": "markdown",
   "metadata": {
    "run_control": {
     "frozen": false,
     "read_only": false
    }
   },
   "source": [
    "# NFA to DFA conversion\n",
    "\n",
    "Let's do the NFA to DFA conversion on two NFA, one being 3rd-last is 1\n",
    "and another being fourth-last is 1. You'll see the state explosion\n"
   ]
  },
  {
   "cell_type": "code",
   "execution_count": 18,
   "metadata": {
    "run_control": {
     "frozen": false,
     "read_only": false
    }
   },
   "outputs": [],
   "source": [
    "# Here is the automd (markdown) for an NF whose third-last symbol is a 1\n",
    "\n",
    "NFA_4thlast_1 = md2mc('''\n",
    "NFA\n",
    "\n",
    "I : 0  | 1  -> I  !! Upon a 0 or a 1, continue to stay in state I\n",
    "\n",
    "I : ''      -> S0 !! Nondeterministically transition to state S0\n",
    "\n",
    "S0 : 1      -> S1 !! This is the key \"1\" (third-last being 1) seen\n",
    "\n",
    "S1 : 0 | 1  -> S2 !! One 0/1 takes the NFA to S2\n",
    "\n",
    "S2 : 0 | 1  -> S3 !! One more 0/1 takes the NFA to S3\n",
    "\n",
    "S3 : 0 | 1  -> F  !! Now we are at the final state\n",
    "\n",
    "''')"
   ]
  },
  {
   "cell_type": "code",
   "execution_count": 19,
   "metadata": {
    "run_control": {
     "frozen": false,
     "read_only": false
    }
   },
   "outputs": [
    {
     "data": {
      "image/svg+xml": [
       "<?xml version=\"1.0\" encoding=\"UTF-8\" standalone=\"no\"?>\n",
       "<!DOCTYPE svg PUBLIC \"-//W3C//DTD SVG 1.1//EN\"\n",
       " \"http://www.w3.org/Graphics/SVG/1.1/DTD/svg11.dtd\">\n",
       "<!-- Generated by graphviz version 2.38.0 (20140413.2041)\n",
       " -->\n",
       "<!-- Title: %3 Pages: 1 -->\n",
       "<svg width=\"782pt\" height=\"277pt\"\n",
       " viewBox=\"0.00 0.00 782.46 277.00\" xmlns=\"http://www.w3.org/2000/svg\" xmlns:xlink=\"http://www.w3.org/1999/xlink\">\n",
       "<g id=\"graph0\" class=\"graph\" transform=\"scale(1 1) rotate(0) translate(4 273)\">\n",
       "<title>%3</title>\n",
       "<polygon fill=\"white\" stroke=\"none\" points=\"-4,4 -4,-273 778.462,-273 778.462,4 -4,4\"/>\n",
       "<!-- EMPTY -->\n",
       "<g id=\"node1\" class=\"node\"><title>EMPTY</title>\n",
       "</g>\n",
       "<!-- St7 -->\n",
       "<g id=\"node3\" class=\"node\"><title>St7</title>\n",
       "<ellipse fill=\"none\" stroke=\"black\" cx=\"112.904\" cy=\"-26\" rx=\"21.8081\" ry=\"21.8081\"/>\n",
       "<text text-anchor=\"middle\" x=\"112.904\" y=\"-21.8\" font-family=\"Times,serif\" font-size=\"14.00\">St7</text>\n",
       "</g>\n",
       "<!-- EMPTY&#45;&gt;St7 -->\n",
       "<g id=\"edge1\" class=\"edge\"><title>EMPTY&#45;&gt;St7</title>\n",
       "<path fill=\"none\" stroke=\"black\" d=\"M54.0878,-26C62.501,-26 71.9126,-26 80.6587,-26\"/>\n",
       "<polygon fill=\"black\" stroke=\"black\" points=\"80.8854,-29.5001 90.8853,-26 80.8853,-22.5001 80.8854,-29.5001\"/>\n",
       "</g>\n",
       "<!-- St6 -->\n",
       "<g id=\"node2\" class=\"node\"><title>St6</title>\n",
       "<ellipse fill=\"none\" stroke=\"black\" cx=\"286.519\" cy=\"-109\" rx=\"21.8081\" ry=\"21.8081\"/>\n",
       "<text text-anchor=\"middle\" x=\"286.519\" y=\"-104.8\" font-family=\"Times,serif\" font-size=\"14.00\">St6</text>\n",
       "</g>\n",
       "<!-- St3 -->\n",
       "<g id=\"node6\" class=\"node\"><title>St3</title>\n",
       "<ellipse fill=\"none\" stroke=\"black\" cx=\"748.558\" cy=\"-67\" rx=\"21.8229\" ry=\"21.8229\"/>\n",
       "<ellipse fill=\"none\" stroke=\"black\" cx=\"748.558\" cy=\"-67\" rx=\"25.8081\" ry=\"25.8081\"/>\n",
       "<text text-anchor=\"middle\" x=\"748.558\" y=\"-62.8\" font-family=\"Times,serif\" font-size=\"14.00\">St3</text>\n",
       "</g>\n",
       "<!-- St6&#45;&gt;St3 -->\n",
       "<g id=\"edge9\" class=\"edge\"><title>St6&#45;&gt;St3</title>\n",
       "<path fill=\"none\" stroke=\"black\" d=\"M307.308,-101.537C325.1,-95.5011 352.087,-88 376.327,-88 376.327,-88 376.327,-88 654.75,-88 674.774,-88 696.642,-83.2921 714.119,-78.3346\"/>\n",
       "<polygon fill=\"black\" stroke=\"black\" points=\"715.278,-81.6411 723.854,-75.4205 713.271,-74.9351 715.278,-81.6411\"/>\n",
       "<text text-anchor=\"middle\" x=\"511.539\" y=\"-90.8\" font-family=\"Times,serif\" font-size=\"14.00\">0</text>\n",
       "</g>\n",
       "<!-- St1 -->\n",
       "<g id=\"node8\" class=\"node\"><title>St1</title>\n",
       "<ellipse fill=\"none\" stroke=\"black\" cx=\"377.327\" cy=\"-142\" rx=\"21.8229\" ry=\"21.8229\"/>\n",
       "<ellipse fill=\"none\" stroke=\"black\" cx=\"377.327\" cy=\"-142\" rx=\"25.8081\" ry=\"25.8081\"/>\n",
       "<text text-anchor=\"middle\" x=\"377.327\" y=\"-137.8\" font-family=\"Times,serif\" font-size=\"14.00\">St1</text>\n",
       "</g>\n",
       "<!-- St6&#45;&gt;St1 -->\n",
       "<g id=\"edge8\" class=\"edge\"><title>St6&#45;&gt;St1</title>\n",
       "<path fill=\"none\" stroke=\"black\" d=\"M307.855,-114.007C315.91,-116.184 325.194,-118.939 333.423,-122 337.13,-123.379 340.959,-124.946 344.734,-126.582\"/>\n",
       "<polygon fill=\"black\" stroke=\"black\" points=\"343.35,-129.797 353.904,-130.722 346.231,-123.417 343.35,-129.797\"/>\n",
       "<text text-anchor=\"middle\" x=\"329.923\" y=\"-124.8\" font-family=\"Times,serif\" font-size=\"14.00\">1</text>\n",
       "</g>\n",
       "<!-- St7&#45;&gt;St7 -->\n",
       "<g id=\"edge3\" class=\"edge\"><title>St7&#45;&gt;St7</title>\n",
       "<path fill=\"none\" stroke=\"black\" d=\"M105.587,-46.9403C104.684,-57.0125 107.123,-65.9039 112.904,-65.9039 116.607,-65.9039 118.939,-62.2549 119.9,-56.984\"/>\n",
       "<polygon fill=\"black\" stroke=\"black\" points=\"123.399,-57.0471 120.221,-46.9403 116.403,-56.8233 123.399,-57.0471\"/>\n",
       "<text text-anchor=\"middle\" x=\"112.904\" y=\"-68.7039\" font-family=\"Times,serif\" font-size=\"14.00\">0</text>\n",
       "</g>\n",
       "<!-- St5 -->\n",
       "<g id=\"node5\" class=\"node\"><title>St5</title>\n",
       "<ellipse fill=\"none\" stroke=\"black\" cx=\"199.712\" cy=\"-72\" rx=\"21.8081\" ry=\"21.8081\"/>\n",
       "<text text-anchor=\"middle\" x=\"199.712\" y=\"-67.8\" font-family=\"Times,serif\" font-size=\"14.00\">St5</text>\n",
       "</g>\n",
       "<!-- St7&#45;&gt;St5 -->\n",
       "<g id=\"edge2\" class=\"edge\"><title>St7&#45;&gt;St5</title>\n",
       "<path fill=\"none\" stroke=\"black\" d=\"M132.725,-36.2089C144.003,-42.3256 158.543,-50.2122 171.102,-57.0247\"/>\n",
       "<polygon fill=\"black\" stroke=\"black\" points=\"169.775,-60.2866 180.234,-61.9779 173.113,-54.1335 169.775,-60.2866\"/>\n",
       "<text text-anchor=\"middle\" x=\"156.308\" y=\"-53.8\" font-family=\"Times,serif\" font-size=\"14.00\">1</text>\n",
       "</g>\n",
       "<!-- St4 -->\n",
       "<g id=\"node4\" class=\"node\"><title>St4</title>\n",
       "<ellipse fill=\"none\" stroke=\"black\" cx=\"468.135\" cy=\"-192\" rx=\"21.8081\" ry=\"21.8081\"/>\n",
       "<text text-anchor=\"middle\" x=\"468.135\" y=\"-187.8\" font-family=\"Times,serif\" font-size=\"14.00\">St4</text>\n",
       "</g>\n",
       "<!-- St0 -->\n",
       "<g id=\"node7\" class=\"node\"><title>St0</title>\n",
       "<ellipse fill=\"none\" stroke=\"black\" cx=\"558.943\" cy=\"-182\" rx=\"21.8229\" ry=\"21.8229\"/>\n",
       "<ellipse fill=\"none\" stroke=\"black\" cx=\"558.943\" cy=\"-182\" rx=\"25.8081\" ry=\"25.8081\"/>\n",
       "<text text-anchor=\"middle\" x=\"558.943\" y=\"-177.8\" font-family=\"Times,serif\" font-size=\"14.00\">St0</text>\n",
       "</g>\n",
       "<!-- St4&#45;&gt;St0 -->\n",
       "<g id=\"edge6\" class=\"edge\"><title>St4&#45;&gt;St0</title>\n",
       "<path fill=\"none\" stroke=\"black\" d=\"M490.181,-189.63C499.898,-188.536 511.702,-187.207 522.718,-185.966\"/>\n",
       "<polygon fill=\"black\" stroke=\"black\" points=\"523.399,-189.412 532.944,-184.815 522.615,-182.456 523.399,-189.412\"/>\n",
       "<text text-anchor=\"middle\" x=\"511.539\" y=\"-189.8\" font-family=\"Times,serif\" font-size=\"14.00\">1</text>\n",
       "</g>\n",
       "<!-- St2 -->\n",
       "<g id=\"node9\" class=\"node\"><title>St2</title>\n",
       "<ellipse fill=\"none\" stroke=\"black\" cx=\"653.75\" cy=\"-157\" rx=\"21.8229\" ry=\"21.8229\"/>\n",
       "<ellipse fill=\"none\" stroke=\"black\" cx=\"653.75\" cy=\"-157\" rx=\"25.8081\" ry=\"25.8081\"/>\n",
       "<text text-anchor=\"middle\" x=\"653.75\" y=\"-152.8\" font-family=\"Times,serif\" font-size=\"14.00\">St2</text>\n",
       "</g>\n",
       "<!-- St4&#45;&gt;St2 -->\n",
       "<g id=\"edge7\" class=\"edge\"><title>St4&#45;&gt;St2</title>\n",
       "<path fill=\"none\" stroke=\"black\" d=\"M482.213,-209.139C493.843,-222.853 512.201,-241.057 533.039,-249 554.554,-257.201 564.291,-259.376 584.846,-249 609.237,-236.687 627.029,-211.022 638.267,-189.92\"/>\n",
       "<polygon fill=\"black\" stroke=\"black\" points=\"641.434,-191.413 642.826,-180.91 635.188,-188.253 641.434,-191.413\"/>\n",
       "<text text-anchor=\"middle\" x=\"558.943\" y=\"-257.8\" font-family=\"Times,serif\" font-size=\"14.00\">0</text>\n",
       "</g>\n",
       "<!-- St5&#45;&gt;St6 -->\n",
       "<g id=\"edge5\" class=\"edge\"><title>St5&#45;&gt;St6</title>\n",
       "<path fill=\"none\" stroke=\"black\" d=\"M219.956,-80.3959C230.83,-85.1402 244.636,-91.1635 256.771,-96.4579\"/>\n",
       "<polygon fill=\"black\" stroke=\"black\" points=\"255.492,-99.7184 266.058,-100.509 258.292,-93.3024 255.492,-99.7184\"/>\n",
       "<text text-anchor=\"middle\" x=\"243.115\" y=\"-94.8\" font-family=\"Times,serif\" font-size=\"14.00\">0</text>\n",
       "</g>\n",
       "<!-- St5&#45;&gt;St4 -->\n",
       "<g id=\"edge4\" class=\"edge\"><title>St5&#45;&gt;St4</title>\n",
       "<path fill=\"none\" stroke=\"black\" d=\"M213.553,-89.273C225.437,-104.29 244.294,-125.807 264.615,-140 317.179,-176.712 393.614,-187.519 435.96,-190.691\"/>\n",
       "<polygon fill=\"black\" stroke=\"black\" points=\"435.999,-194.201 446.205,-191.358 436.453,-187.216 435.999,-194.201\"/>\n",
       "<text text-anchor=\"middle\" x=\"329.923\" y=\"-174.8\" font-family=\"Times,serif\" font-size=\"14.00\">1</text>\n",
       "</g>\n",
       "<!-- St3&#45;&gt;St7 -->\n",
       "<g id=\"edge17\" class=\"edge\"><title>St3&#45;&gt;St7</title>\n",
       "<path fill=\"none\" stroke=\"black\" d=\"M732.23,-46.5337C715.557,-26.8303 686.944,-0 654.75,-0 198.712,-0 198.712,-0 198.712,-0 179.327,-0 158.501,-6.28597 142.338,-12.6763\"/>\n",
       "<polygon fill=\"black\" stroke=\"black\" points=\"140.805,-9.5238 132.932,-16.6134 143.508,-15.981 140.805,-9.5238\"/>\n",
       "<text text-anchor=\"middle\" x=\"424.731\" y=\"-2.8\" font-family=\"Times,serif\" font-size=\"14.00\">0</text>\n",
       "</g>\n",
       "<!-- St3&#45;&gt;St5 -->\n",
       "<g id=\"edge16\" class=\"edge\"><title>St3&#45;&gt;St5</title>\n",
       "<path fill=\"none\" stroke=\"black\" d=\"M723.854,-58.5795C705.297,-52.7371 678.704,-46 654.75,-46 285.519,-46 285.519,-46 285.519,-46 266.135,-46 245.309,-52.286 229.146,-58.6763\"/>\n",
       "<polygon fill=\"black\" stroke=\"black\" points=\"227.613,-55.5238 219.739,-62.6134 230.315,-61.981 227.613,-55.5238\"/>\n",
       "<text text-anchor=\"middle\" x=\"468.135\" y=\"-48.8\" font-family=\"Times,serif\" font-size=\"14.00\">1</text>\n",
       "</g>\n",
       "<!-- St0&#45;&gt;St0 -->\n",
       "<g id=\"edge10\" class=\"edge\"><title>St0&#45;&gt;St0</title>\n",
       "<path fill=\"none\" stroke=\"black\" d=\"M550.393,-206.824C549.804,-217.15 552.653,-225.904 558.943,-225.904 562.971,-225.904 565.589,-222.311 566.795,-217.014\"/>\n",
       "<polygon fill=\"black\" stroke=\"black\" points=\"570.301,-217.039 567.492,-206.824 563.317,-216.562 570.301,-217.039\"/>\n",
       "<text text-anchor=\"middle\" x=\"558.943\" y=\"-228.704\" font-family=\"Times,serif\" font-size=\"14.00\">1</text>\n",
       "</g>\n",
       "<!-- St0&#45;&gt;St2 -->\n",
       "<g id=\"edge11\" class=\"edge\"><title>St0&#45;&gt;St2</title>\n",
       "<path fill=\"none\" stroke=\"black\" d=\"M584.327,-175.432C594.877,-172.589 607.405,-169.215 618.839,-166.135\"/>\n",
       "<polygon fill=\"black\" stroke=\"black\" points=\"619.784,-169.505 628.529,-163.525 617.963,-162.746 619.784,-169.505\"/>\n",
       "<text text-anchor=\"middle\" x=\"606.346\" y=\"-173.8\" font-family=\"Times,serif\" font-size=\"14.00\">0</text>\n",
       "</g>\n",
       "<!-- St1&#45;&gt;St6 -->\n",
       "<g id=\"edge15\" class=\"edge\"><title>St1&#45;&gt;St6</title>\n",
       "<path fill=\"none\" stroke=\"black\" d=\"M351.39,-141.386C343.229,-140.564 334.254,-138.976 326.423,-136 321.553,-134.149 316.71,-131.56 312.178,-128.711\"/>\n",
       "<polygon fill=\"black\" stroke=\"black\" points=\"314.149,-125.819 303.925,-123.04 310.185,-131.588 314.149,-125.819\"/>\n",
       "<text text-anchor=\"middle\" x=\"329.923\" y=\"-141.8\" font-family=\"Times,serif\" font-size=\"14.00\">0</text>\n",
       "</g>\n",
       "<!-- St1&#45;&gt;St4 -->\n",
       "<g id=\"edge14\" class=\"edge\"><title>St1&#45;&gt;St4</title>\n",
       "<path fill=\"none\" stroke=\"black\" d=\"M400.871,-153.307C409.504,-157.75 419.396,-162.982 428.231,-168 432.22,-170.266 436.392,-172.732 440.46,-175.193\"/>\n",
       "<polygon fill=\"black\" stroke=\"black\" points=\"438.736,-178.242 449.089,-180.491 442.399,-172.276 438.736,-178.242\"/>\n",
       "<text text-anchor=\"middle\" x=\"424.731\" y=\"-170.8\" font-family=\"Times,serif\" font-size=\"14.00\">1</text>\n",
       "</g>\n",
       "<!-- St2&#45;&gt;St3 -->\n",
       "<g id=\"edge13\" class=\"edge\"><title>St2&#45;&gt;St3</title>\n",
       "<path fill=\"none\" stroke=\"black\" d=\"M673.086,-139.219C687.068,-125.659 706.497,-106.819 722.004,-91.781\"/>\n",
       "<polygon fill=\"black\" stroke=\"black\" points=\"724.518,-94.2184 729.26,-84.7442 719.645,-89.1932 724.518,-94.2184\"/>\n",
       "<text text-anchor=\"middle\" x=\"701.154\" y=\"-117.8\" font-family=\"Times,serif\" font-size=\"14.00\">0</text>\n",
       "</g>\n",
       "<!-- St2&#45;&gt;St1 -->\n",
       "<g id=\"edge12\" class=\"edge\"><title>St2&#45;&gt;St1</title>\n",
       "<path fill=\"none\" stroke=\"black\" d=\"M628.001,-152.614C615.168,-150.528 599.212,-148.227 584.846,-147 524.853,-141.876 454.728,-141.322 413.562,-141.548\"/>\n",
       "<polygon fill=\"black\" stroke=\"black\" points=\"413.469,-138.048 403.496,-141.622 413.521,-145.048 413.469,-138.048\"/>\n",
       "<text text-anchor=\"middle\" x=\"511.539\" y=\"-145.8\" font-family=\"Times,serif\" font-size=\"14.00\">1</text>\n",
       "</g>\n",
       "</g>\n",
       "</svg>\n"
      ],
      "text/plain": [
       "<graphviz.dot.Digraph at 0x10a152550>"
      ]
     },
     "execution_count": 19,
     "metadata": {},
     "output_type": "execute_result"
    }
   ],
   "source": [
    "dotObj_dfa(nfa2dfa(NFA_3rdlast_1), FuseEdges=True)"
   ]
  },
  {
   "cell_type": "code",
   "execution_count": 20,
   "metadata": {
    "run_control": {
     "frozen": false,
     "read_only": false
    }
   },
   "outputs": [
    {
     "data": {
      "image/svg+xml": [
       "<?xml version=\"1.0\" encoding=\"UTF-8\" standalone=\"no\"?>\n",
       "<!DOCTYPE svg PUBLIC \"-//W3C//DTD SVG 1.1//EN\"\n",
       " \"http://www.w3.org/Graphics/SVG/1.1/DTD/svg11.dtd\">\n",
       "<!-- Generated by graphviz version 2.38.0 (20140413.2041)\n",
       " -->\n",
       "<!-- Title: %3 Pages: 1 -->\n",
       "<svg width=\"1561pt\" height=\"474pt\"\n",
       " viewBox=\"0.00 0.00 1561.34 474.00\" xmlns=\"http://www.w3.org/2000/svg\" xmlns:xlink=\"http://www.w3.org/1999/xlink\">\n",
       "<g id=\"graph0\" class=\"graph\" transform=\"scale(1 1) rotate(0) translate(4 470)\">\n",
       "<title>%3</title>\n",
       "<polygon fill=\"white\" stroke=\"none\" points=\"-4,4 -4,-470 1557.34,-470 1557.34,4 -4,4\"/>\n",
       "<!-- EMPTY -->\n",
       "<g id=\"node1\" class=\"node\"><title>EMPTY</title>\n",
       "</g>\n",
       "<!-- St15 -->\n",
       "<g id=\"node7\" class=\"node\"><title>St15</title>\n",
       "<ellipse fill=\"none\" stroke=\"black\" cx=\"117.326\" cy=\"-50\" rx=\"26.1523\" ry=\"26.1523\"/>\n",
       "<text text-anchor=\"middle\" x=\"117.326\" y=\"-45.8\" font-family=\"Times,serif\" font-size=\"14.00\">St15</text>\n",
       "</g>\n",
       "<!-- EMPTY&#45;&gt;St15 -->\n",
       "<g id=\"edge1\" class=\"edge\"><title>EMPTY&#45;&gt;St15</title>\n",
       "<path fill=\"none\" stroke=\"black\" d=\"M54.0229,-50C62.3619,-50 71.7453,-50 80.6503,-50\"/>\n",
       "<polygon fill=\"black\" stroke=\"black\" points=\"80.793,-53.5001 90.793,-50 80.793,-46.5001 80.793,-53.5001\"/>\n",
       "</g>\n",
       "<!-- St14 -->\n",
       "<g id=\"node2\" class=\"node\"><title>St14</title>\n",
       "<ellipse fill=\"none\" stroke=\"black\" cx=\"403.631\" cy=\"-168\" rx=\"26.1523\" ry=\"26.1523\"/>\n",
       "<text text-anchor=\"middle\" x=\"403.631\" y=\"-163.8\" font-family=\"Times,serif\" font-size=\"14.00\">St14</text>\n",
       "</g>\n",
       "<!-- St7 -->\n",
       "<g id=\"node11\" class=\"node\"><title>St7</title>\n",
       "<ellipse fill=\"none\" stroke=\"black\" cx=\"1527.43\" cy=\"-115\" rx=\"21.8229\" ry=\"21.8229\"/>\n",
       "<ellipse fill=\"none\" stroke=\"black\" cx=\"1527.43\" cy=\"-115\" rx=\"25.8081\" ry=\"25.8081\"/>\n",
       "<text text-anchor=\"middle\" x=\"1527.43\" y=\"-110.8\" font-family=\"Times,serif\" font-size=\"14.00\">St7</text>\n",
       "</g>\n",
       "<!-- St14&#45;&gt;St7 -->\n",
       "<g id=\"edge17\" class=\"edge\"><title>St14&#45;&gt;St7</title>\n",
       "<path fill=\"none\" stroke=\"black\" d=\"M424.352,-151.653C442.339,-138.431 470.246,-122 497.861,-122 497.861,-122 497.861,-122 634.073,-122 724.386,-122 732.218,-46 822.531,-46 822.531,-46 822.531,-46 1433.63,-46 1462.39,-46 1488.02,-67.6087 1505.02,-86.641\"/>\n",
       "<polygon fill=\"black\" stroke=\"black\" points=\"1502.4,-88.9537 1511.54,-94.2977 1507.73,-84.4151 1502.4,-88.9537\"/>\n",
       "<text text-anchor=\"middle\" x=\"966.165\" y=\"-48.8\" font-family=\"Times,serif\" font-size=\"14.00\">0</text>\n",
       "</g>\n",
       "<!-- St3 -->\n",
       "<g id=\"node16\" class=\"node\"><title>St3</title>\n",
       "<ellipse fill=\"none\" stroke=\"black\" cx=\"498.861\" cy=\"-228\" rx=\"21.8229\" ry=\"21.8229\"/>\n",
       "<ellipse fill=\"none\" stroke=\"black\" cx=\"498.861\" cy=\"-228\" rx=\"25.8081\" ry=\"25.8081\"/>\n",
       "<text text-anchor=\"middle\" x=\"498.861\" y=\"-223.8\" font-family=\"Times,serif\" font-size=\"14.00\">St3</text>\n",
       "</g>\n",
       "<!-- St14&#45;&gt;St3 -->\n",
       "<g id=\"edge16\" class=\"edge\"><title>St14&#45;&gt;St3</title>\n",
       "<path fill=\"none\" stroke=\"black\" d=\"M426.255,-181.916C438.698,-189.924 454.514,-200.103 468.116,-208.857\"/>\n",
       "<polygon fill=\"black\" stroke=\"black\" points=\"466.373,-211.898 476.677,-214.366 470.162,-206.011 466.373,-211.898\"/>\n",
       "<text text-anchor=\"middle\" x=\"451.457\" y=\"-202.8\" font-family=\"Times,serif\" font-size=\"14.00\">1</text>\n",
       "</g>\n",
       "<!-- St12 -->\n",
       "<g id=\"node3\" class=\"node\"><title>St12</title>\n",
       "<ellipse fill=\"none\" stroke=\"black\" cx=\"680.898\" cy=\"-277\" rx=\"26.1523\" ry=\"26.1523\"/>\n",
       "<text text-anchor=\"middle\" x=\"680.898\" y=\"-272.8\" font-family=\"Times,serif\" font-size=\"14.00\">St12</text>\n",
       "</g>\n",
       "<!-- St6 -->\n",
       "<g id=\"node10\" class=\"node\"><title>St6</title>\n",
       "<ellipse fill=\"none\" stroke=\"black\" cx=\"1432.63\" cy=\"-291\" rx=\"21.8229\" ry=\"21.8229\"/>\n",
       "<ellipse fill=\"none\" stroke=\"black\" cx=\"1432.63\" cy=\"-291\" rx=\"25.8081\" ry=\"25.8081\"/>\n",
       "<text text-anchor=\"middle\" x=\"1432.63\" y=\"-286.8\" font-family=\"Times,serif\" font-size=\"14.00\">St6</text>\n",
       "</g>\n",
       "<!-- St12&#45;&gt;St6 -->\n",
       "<g id=\"edge13\" class=\"edge\"><title>St12&#45;&gt;St6</title>\n",
       "<path fill=\"none\" stroke=\"black\" d=\"M702.609,-292.034C720.79,-303.735 748.428,-318 775.128,-318 775.128,-318 775.128,-318 1338.82,-318 1359.44,-318 1381.65,-311.779 1399.17,-305.309\"/>\n",
       "<polygon fill=\"black\" stroke=\"black\" points=\"1400.85,-308.41 1408.89,-301.516 1398.3,-301.888 1400.85,-308.41\"/>\n",
       "<text text-anchor=\"middle\" x=\"1061.39\" y=\"-320.8\" font-family=\"Times,serif\" font-size=\"14.00\">0</text>\n",
       "</g>\n",
       "<!-- St2 -->\n",
       "<g id=\"node12\" class=\"node\"><title>St2</title>\n",
       "<ellipse fill=\"none\" stroke=\"black\" cx=\"776.128\" cy=\"-222\" rx=\"21.8229\" ry=\"21.8229\"/>\n",
       "<ellipse fill=\"none\" stroke=\"black\" cx=\"776.128\" cy=\"-222\" rx=\"25.8081\" ry=\"25.8081\"/>\n",
       "<text text-anchor=\"middle\" x=\"776.128\" y=\"-217.8\" font-family=\"Times,serif\" font-size=\"14.00\">St2</text>\n",
       "</g>\n",
       "<!-- St12&#45;&gt;St2 -->\n",
       "<g id=\"edge12\" class=\"edge\"><title>St12&#45;&gt;St2</title>\n",
       "<path fill=\"none\" stroke=\"black\" d=\"M703.196,-262.071C710.119,-257.401 717.905,-252.338 725.224,-248 730.959,-244.6 737.184,-241.165 743.228,-237.955\"/>\n",
       "<polygon fill=\"black\" stroke=\"black\" points=\"745.232,-240.858 752.484,-233.134 741.998,-234.65 745.232,-240.858\"/>\n",
       "<text text-anchor=\"middle\" x=\"728.724\" y=\"-250.8\" font-family=\"Times,serif\" font-size=\"14.00\">1</text>\n",
       "</g>\n",
       "<!-- St10 -->\n",
       "<g id=\"node4\" class=\"node\"><title>St10</title>\n",
       "<ellipse fill=\"none\" stroke=\"black\" cx=\"966.165\" cy=\"-166\" rx=\"26.1523\" ry=\"26.1523\"/>\n",
       "<text text-anchor=\"middle\" x=\"966.165\" y=\"-161.8\" font-family=\"Times,serif\" font-size=\"14.00\">St10</text>\n",
       "</g>\n",
       "<!-- St5 -->\n",
       "<g id=\"node13\" class=\"node\"><title>St5</title>\n",
       "<ellipse fill=\"none\" stroke=\"black\" cx=\"870.935\" cy=\"-176\" rx=\"21.8229\" ry=\"21.8229\"/>\n",
       "<ellipse fill=\"none\" stroke=\"black\" cx=\"870.935\" cy=\"-176\" rx=\"25.8081\" ry=\"25.8081\"/>\n",
       "<text text-anchor=\"middle\" x=\"870.935\" y=\"-171.8\" font-family=\"Times,serif\" font-size=\"14.00\">St5</text>\n",
       "</g>\n",
       "<!-- St10&#45;&gt;St5 -->\n",
       "<g id=\"edge15\" class=\"edge\"><title>St10&#45;&gt;St5</title>\n",
       "<path fill=\"none\" stroke=\"black\" d=\"M939.971,-168.972C934.027,-169.656 927.711,-170.367 921.839,-171 917.007,-171.521 911.91,-172.052 906.894,-172.565\"/>\n",
       "<polygon fill=\"black\" stroke=\"black\" points=\"906.417,-169.095 896.819,-173.581 907.12,-176.06 906.417,-169.095\"/>\n",
       "<text text-anchor=\"middle\" x=\"918.339\" y=\"-174.8\" font-family=\"Times,serif\" font-size=\"14.00\">0</text>\n",
       "</g>\n",
       "<!-- St1 -->\n",
       "<g id=\"node15\" class=\"node\"><title>St1</title>\n",
       "<ellipse fill=\"none\" stroke=\"black\" cx=\"1061.39\" cy=\"-243\" rx=\"21.8229\" ry=\"21.8229\"/>\n",
       "<ellipse fill=\"none\" stroke=\"black\" cx=\"1061.39\" cy=\"-243\" rx=\"25.8081\" ry=\"25.8081\"/>\n",
       "<text text-anchor=\"middle\" x=\"1061.39\" y=\"-238.8\" font-family=\"Times,serif\" font-size=\"14.00\">St1</text>\n",
       "</g>\n",
       "<!-- St10&#45;&gt;St1 -->\n",
       "<g id=\"edge14\" class=\"edge\"><title>St10&#45;&gt;St1</title>\n",
       "<path fill=\"none\" stroke=\"black\" d=\"M988.721,-180.416C997.819,-186.755 1008.39,-194.462 1017.49,-202 1023.38,-206.88 1029.46,-212.379 1035.13,-217.726\"/>\n",
       "<polygon fill=\"black\" stroke=\"black\" points=\"1032.91,-220.446 1042.55,-224.852 1037.76,-215.399 1032.91,-220.446\"/>\n",
       "<text text-anchor=\"middle\" x=\"1013.99\" y=\"-204.8\" font-family=\"Times,serif\" font-size=\"14.00\">1</text>\n",
       "</g>\n",
       "<!-- St13 -->\n",
       "<g id=\"node5\" class=\"node\"><title>St13</title>\n",
       "<ellipse fill=\"none\" stroke=\"black\" cx=\"307.98\" cy=\"-189\" rx=\"26.1523\" ry=\"26.1523\"/>\n",
       "<text text-anchor=\"middle\" x=\"307.98\" y=\"-184.8\" font-family=\"Times,serif\" font-size=\"14.00\">St13</text>\n",
       "</g>\n",
       "<!-- St13&#45;&gt;St14 -->\n",
       "<g id=\"edge9\" class=\"edge\"><title>St13&#45;&gt;St14</title>\n",
       "<path fill=\"none\" stroke=\"black\" d=\"M334.077,-183.372C344.448,-181.047 356.645,-178.312 367.855,-175.798\"/>\n",
       "<polygon fill=\"black\" stroke=\"black\" points=\"368.798,-179.174 377.79,-173.57 367.267,-172.343 368.798,-179.174\"/>\n",
       "<text text-anchor=\"middle\" x=\"355.806\" y=\"-182.8\" font-family=\"Times,serif\" font-size=\"14.00\">0</text>\n",
       "</g>\n",
       "<!-- St13&#45;&gt;St10 -->\n",
       "<g id=\"edge8\" class=\"edge\"><title>St13&#45;&gt;St10</title>\n",
       "<path fill=\"none\" stroke=\"black\" d=\"M318.106,-164.647C331.497,-133.629 359.641,-84 402.631,-84 402.631,-84 402.631,-84 824.531,-84 869.611,-84 913.109,-115.831 939.497,-139.829\"/>\n",
       "<polygon fill=\"black\" stroke=\"black\" points=\"937.433,-142.692 947.12,-146.981 942.222,-137.587 937.433,-142.692\"/>\n",
       "<text text-anchor=\"middle\" x=\"633.073\" y=\"-86.8\" font-family=\"Times,serif\" font-size=\"14.00\">1</text>\n",
       "</g>\n",
       "<!-- St11 -->\n",
       "<g id=\"node6\" class=\"node\"><title>St11</title>\n",
       "<ellipse fill=\"none\" stroke=\"black\" cx=\"212.653\" cy=\"-276\" rx=\"26.0035\" ry=\"26.0035\"/>\n",
       "<text text-anchor=\"middle\" x=\"212.653\" y=\"-271.8\" font-family=\"Times,serif\" font-size=\"14.00\">St11</text>\n",
       "</g>\n",
       "<!-- St11&#45;&gt;St13 -->\n",
       "<g id=\"edge5\" class=\"edge\"><title>St11&#45;&gt;St13</title>\n",
       "<path fill=\"none\" stroke=\"black\" d=\"M232.539,-258.394C246.328,-245.541 265.203,-227.945 280.497,-213.688\"/>\n",
       "<polygon fill=\"black\" stroke=\"black\" points=\"283.194,-215.959 288.122,-206.58 278.421,-210.838 283.194,-215.959\"/>\n",
       "<text text-anchor=\"middle\" x=\"260.155\" y=\"-238.8\" font-family=\"Times,serif\" font-size=\"14.00\">0</text>\n",
       "</g>\n",
       "<!-- St9 -->\n",
       "<g id=\"node9\" class=\"node\"><title>St9</title>\n",
       "<ellipse fill=\"none\" stroke=\"black\" cx=\"589.669\" cy=\"-279\" rx=\"21.8081\" ry=\"21.8081\"/>\n",
       "<text text-anchor=\"middle\" x=\"589.669\" y=\"-274.8\" font-family=\"Times,serif\" font-size=\"14.00\">St9</text>\n",
       "</g>\n",
       "<!-- St11&#45;&gt;St9 -->\n",
       "<g id=\"edge4\" class=\"edge\"><title>St11&#45;&gt;St9</title>\n",
       "<path fill=\"none\" stroke=\"black\" d=\"M238.58,-278.475C257.363,-280.128 283.763,-282 306.98,-282 306.98,-282 306.98,-282 499.861,-282 518.843,-282 540.095,-281.307 557.048,-280.587\"/>\n",
       "<polygon fill=\"black\" stroke=\"black\" points=\"557.669,-284.063 567.502,-280.117 557.355,-277.07 557.669,-284.063\"/>\n",
       "<text text-anchor=\"middle\" x=\"403.631\" y=\"-284.8\" font-family=\"Times,serif\" font-size=\"14.00\">1</text>\n",
       "</g>\n",
       "<!-- St15&#45;&gt;St11 -->\n",
       "<g id=\"edge2\" class=\"edge\"><title>St15&#45;&gt;St11</title>\n",
       "<path fill=\"none\" stroke=\"black\" d=\"M128.313,-74.186C145.092,-114.817 178.961,-196.834 197.95,-242.818\"/>\n",
       "<polygon fill=\"black\" stroke=\"black\" points=\"194.825,-244.421 201.877,-252.328 201.295,-241.749 194.825,-244.421\"/>\n",
       "<text text-anchor=\"middle\" x=\"165.151\" y=\"-172.8\" font-family=\"Times,serif\" font-size=\"14.00\">1</text>\n",
       "</g>\n",
       "<!-- St15&#45;&gt;St15 -->\n",
       "<g id=\"edge3\" class=\"edge\"><title>St15&#45;&gt;St15</title>\n",
       "<path fill=\"none\" stroke=\"black\" d=\"M109.148,-75.0622C108.584,-85.4879 111.31,-94.3256 117.326,-94.3256 121.179,-94.3256 123.683,-90.6986 124.836,-85.3506\"/>\n",
       "<polygon fill=\"black\" stroke=\"black\" points=\"128.349,-85.2676 125.503,-75.0622 121.364,-84.8149 128.349,-85.2676\"/>\n",
       "<text text-anchor=\"middle\" x=\"117.326\" y=\"-97.1256\" font-family=\"Times,serif\" font-size=\"14.00\">0</text>\n",
       "</g>\n",
       "<!-- St8 -->\n",
       "<g id=\"node8\" class=\"node\"><title>St8</title>\n",
       "<ellipse fill=\"none\" stroke=\"black\" cx=\"1152.2\" cy=\"-261\" rx=\"21.8081\" ry=\"21.8081\"/>\n",
       "<text text-anchor=\"middle\" x=\"1152.2\" y=\"-256.8\" font-family=\"Times,serif\" font-size=\"14.00\">St8</text>\n",
       "</g>\n",
       "<!-- St0 -->\n",
       "<g id=\"node14\" class=\"node\"><title>St0</title>\n",
       "<ellipse fill=\"none\" stroke=\"black\" cx=\"1243.01\" cy=\"-176\" rx=\"21.8229\" ry=\"21.8229\"/>\n",
       "<ellipse fill=\"none\" stroke=\"black\" cx=\"1243.01\" cy=\"-176\" rx=\"25.8081\" ry=\"25.8081\"/>\n",
       "<text text-anchor=\"middle\" x=\"1243.01\" y=\"-171.8\" font-family=\"Times,serif\" font-size=\"14.00\">St0</text>\n",
       "</g>\n",
       "<!-- St8&#45;&gt;St0 -->\n",
       "<g id=\"edge10\" class=\"edge\"><title>St8&#45;&gt;St0</title>\n",
       "<path fill=\"none\" stroke=\"black\" d=\"M1168.67,-246.194C1181.82,-233.604 1200.98,-215.272 1216.41,-200.499\"/>\n",
       "<polygon fill=\"black\" stroke=\"black\" points=\"1218.84,-203.016 1223.65,-193.573 1214,-197.959 1218.84,-203.016\"/>\n",
       "<text text-anchor=\"middle\" x=\"1195.61\" y=\"-226.8\" font-family=\"Times,serif\" font-size=\"14.00\">1</text>\n",
       "</g>\n",
       "<!-- St4 -->\n",
       "<g id=\"node17\" class=\"node\"><title>St4</title>\n",
       "<ellipse fill=\"none\" stroke=\"black\" cx=\"1337.82\" cy=\"-236\" rx=\"21.8229\" ry=\"21.8229\"/>\n",
       "<ellipse fill=\"none\" stroke=\"black\" cx=\"1337.82\" cy=\"-236\" rx=\"25.8081\" ry=\"25.8081\"/>\n",
       "<text text-anchor=\"middle\" x=\"1337.82\" y=\"-231.8\" font-family=\"Times,serif\" font-size=\"14.00\">St4</text>\n",
       "</g>\n",
       "<!-- St8&#45;&gt;St4 -->\n",
       "<g id=\"edge11\" class=\"edge\"><title>St8&#45;&gt;St4</title>\n",
       "<path fill=\"none\" stroke=\"black\" d=\"M1174.26,-258.132C1205.43,-253.888 1264.21,-245.886 1301.89,-240.756\"/>\n",
       "<polygon fill=\"black\" stroke=\"black\" points=\"1302.48,-244.207 1311.92,-239.39 1301.54,-237.271 1302.48,-244.207\"/>\n",
       "<text text-anchor=\"middle\" x=\"1243.01\" y=\"-255.8\" font-family=\"Times,serif\" font-size=\"14.00\">0</text>\n",
       "</g>\n",
       "<!-- St9&#45;&gt;St12 -->\n",
       "<g id=\"edge7\" class=\"edge\"><title>St9&#45;&gt;St12</title>\n",
       "<path fill=\"none\" stroke=\"black\" d=\"M611.815,-278.526C621.5,-278.309 633.249,-278.046 644.241,-277.799\"/>\n",
       "<polygon fill=\"black\" stroke=\"black\" points=\"644.536,-281.294 654.455,-277.57 644.379,-274.295 644.536,-281.294\"/>\n",
       "<text text-anchor=\"middle\" x=\"633.073\" y=\"-281.8\" font-family=\"Times,serif\" font-size=\"14.00\">0</text>\n",
       "</g>\n",
       "<!-- St9&#45;&gt;St8 -->\n",
       "<g id=\"edge6\" class=\"edge\"><title>St9&#45;&gt;St8</title>\n",
       "<path fill=\"none\" stroke=\"black\" d=\"M600.097,-298.288C613.87,-323.366 642.029,-364 679.898,-364 679.898,-364 679.898,-364 824.531,-364 941.978,-364 983.431,-390.82 1087.3,-336 1107.47,-325.355 1123.96,-305.458 1135.13,-288.832\"/>\n",
       "<polygon fill=\"black\" stroke=\"black\" points=\"1138.34,-290.32 1140.79,-280.011 1132.44,-286.543 1138.34,-290.32\"/>\n",
       "<text text-anchor=\"middle\" x=\"870.935\" y=\"-369.8\" font-family=\"Times,serif\" font-size=\"14.00\">1</text>\n",
       "</g>\n",
       "<!-- St6&#45;&gt;St7 -->\n",
       "<g id=\"edge25\" class=\"edge\"><title>St6&#45;&gt;St7</title>\n",
       "<path fill=\"none\" stroke=\"black\" d=\"M1445.57,-268.351C1461.93,-237.329 1491.37,-181.484 1509.86,-146.429\"/>\n",
       "<polygon fill=\"black\" stroke=\"black\" points=\"1512.97,-148.04 1514.54,-137.562 1506.78,-144.775 1512.97,-148.04\"/>\n",
       "<text text-anchor=\"middle\" x=\"1480.03\" y=\"-211.8\" font-family=\"Times,serif\" font-size=\"14.00\">0</text>\n",
       "</g>\n",
       "<!-- St6&#45;&gt;St3 -->\n",
       "<g id=\"edge24\" class=\"edge\"><title>St6&#45;&gt;St3</title>\n",
       "<path fill=\"none\" stroke=\"black\" d=\"M1424.05,-315.67C1411.97,-349.461 1384.87,-406 1338.82,-406 588.669,-406 588.669,-406 588.669,-406 525.827,-406 507.452,-316.069 502.08,-264.052\"/>\n",
       "<polygon fill=\"black\" stroke=\"black\" points=\"505.546,-263.52 501.144,-253.883 498.575,-264.161 505.546,-263.52\"/>\n",
       "<text text-anchor=\"middle\" x=\"966.165\" y=\"-408.8\" font-family=\"Times,serif\" font-size=\"14.00\">1</text>\n",
       "</g>\n",
       "<!-- St7&#45;&gt;St11 -->\n",
       "<g id=\"edge32\" class=\"edge\"><title>St7&#45;&gt;St11</title>\n",
       "<path fill=\"none\" stroke=\"black\" d=\"M1524.89,-140.884C1519.48,-219.797 1498.1,-452 1433.63,-452 306.98,-452 306.98,-452 306.98,-452 244.209,-452 223.534,-363.536 216.816,-312.044\"/>\n",
       "<polygon fill=\"black\" stroke=\"black\" points=\"220.274,-311.486 215.617,-301.969 213.323,-312.313 220.274,-311.486\"/>\n",
       "<text text-anchor=\"middle\" x=\"870.935\" y=\"-454.8\" font-family=\"Times,serif\" font-size=\"14.00\">1</text>\n",
       "</g>\n",
       "<!-- St7&#45;&gt;St15 -->\n",
       "<g id=\"edge33\" class=\"edge\"><title>St7&#45;&gt;St15</title>\n",
       "<path fill=\"none\" stroke=\"black\" d=\"M1518.86,-90.3296C1506.78,-56.5388 1479.68,-0 1433.63,-0 211.653,-0 211.653,-0 211.653,-0 187.326,-0 163.209,-13.3628 145.587,-26.2721\"/>\n",
       "<polygon fill=\"black\" stroke=\"black\" points=\"143.272,-23.6374 137.485,-32.5124 147.543,-29.1831 143.272,-23.6374\"/>\n",
       "<text text-anchor=\"middle\" x=\"823.531\" y=\"-2.8\" font-family=\"Times,serif\" font-size=\"14.00\">0</text>\n",
       "</g>\n",
       "<!-- St2&#45;&gt;St5 -->\n",
       "<g id=\"edge23\" class=\"edge\"><title>St2&#45;&gt;St5</title>\n",
       "<path fill=\"none\" stroke=\"black\" d=\"M799.594,-210.865C811.136,-205.144 825.399,-198.074 838.058,-191.8\"/>\n",
       "<polygon fill=\"black\" stroke=\"black\" points=\"839.949,-194.769 847.354,-187.192 836.84,-188.497 839.949,-194.769\"/>\n",
       "<text text-anchor=\"middle\" x=\"823.531\" y=\"-203.8\" font-family=\"Times,serif\" font-size=\"14.00\">0</text>\n",
       "</g>\n",
       "<!-- St2&#45;&gt;St1 -->\n",
       "<g id=\"edge22\" class=\"edge\"><title>St2&#45;&gt;St1</title>\n",
       "<path fill=\"none\" stroke=\"black\" d=\"M802.266,-223.864C852.871,-227.615 967.137,-236.086 1025.16,-240.388\"/>\n",
       "<polygon fill=\"black\" stroke=\"black\" points=\"1025.08,-243.892 1035.31,-241.141 1025.6,-236.911 1025.08,-243.892\"/>\n",
       "<text text-anchor=\"middle\" x=\"918.339\" y=\"-235.8\" font-family=\"Times,serif\" font-size=\"14.00\">1</text>\n",
       "</g>\n",
       "<!-- St5&#45;&gt;St14 -->\n",
       "<g id=\"edge29\" class=\"edge\"><title>St5&#45;&gt;St14</title>\n",
       "<path fill=\"none\" stroke=\"black\" d=\"M845.169,-172.7C826.502,-170.496 800.254,-168 777.128,-168 497.861,-168 497.861,-168 497.861,-168 478.962,-168 457.907,-168 440.596,-168\"/>\n",
       "<polygon fill=\"black\" stroke=\"black\" points=\"440.353,-164.5 430.353,-168 440.353,-171.5 440.353,-164.5\"/>\n",
       "<text text-anchor=\"middle\" x=\"633.073\" y=\"-170.8\" font-family=\"Times,serif\" font-size=\"14.00\">0</text>\n",
       "</g>\n",
       "<!-- St5&#45;&gt;St10 -->\n",
       "<g id=\"edge28\" class=\"edge\"><title>St5&#45;&gt;St10</title>\n",
       "<path fill=\"none\" stroke=\"black\" d=\"M892.914,-162.108C899.636,-158.397 907.298,-154.894 914.839,-153 920.419,-151.599 926.34,-151.702 932.087,-152.646\"/>\n",
       "<polygon fill=\"black\" stroke=\"black\" points=\"931.586,-156.127 942.132,-155.113 933.255,-149.329 931.586,-156.127\"/>\n",
       "<text text-anchor=\"middle\" x=\"918.339\" y=\"-155.8\" font-family=\"Times,serif\" font-size=\"14.00\">1</text>\n",
       "</g>\n",
       "<!-- St0&#45;&gt;St0 -->\n",
       "<g id=\"edge18\" class=\"edge\"><title>St0&#45;&gt;St0</title>\n",
       "<path fill=\"none\" stroke=\"black\" d=\"M1234.46,-200.824C1233.87,-211.15 1236.72,-219.904 1243.01,-219.904 1247.04,-219.904 1249.66,-216.311 1250.86,-211.014\"/>\n",
       "<polygon fill=\"black\" stroke=\"black\" points=\"1254.37,-211.039 1251.56,-200.824 1247.38,-210.562 1254.37,-211.039\"/>\n",
       "<text text-anchor=\"middle\" x=\"1243.01\" y=\"-222.704\" font-family=\"Times,serif\" font-size=\"14.00\">1</text>\n",
       "</g>\n",
       "<!-- St0&#45;&gt;St4 -->\n",
       "<g id=\"edge19\" class=\"edge\"><title>St0&#45;&gt;St4</title>\n",
       "<path fill=\"none\" stroke=\"black\" d=\"M1265.07,-189.615C1277.44,-197.613 1293.28,-207.853 1306.93,-216.676\"/>\n",
       "<polygon fill=\"black\" stroke=\"black\" points=\"1305.22,-219.741 1315.52,-222.231 1309.02,-213.863 1305.22,-219.741\"/>\n",
       "<text text-anchor=\"middle\" x=\"1290.41\" y=\"-210.8\" font-family=\"Times,serif\" font-size=\"14.00\">0</text>\n",
       "</g>\n",
       "<!-- St1&#45;&gt;St12 -->\n",
       "<g id=\"edge27\" class=\"edge\"><title>St1&#45;&gt;St12</title>\n",
       "<path fill=\"none\" stroke=\"black\" d=\"M1038.56,-255.476C1020.13,-264.821 992.748,-276 967.165,-276 775.128,-276 775.128,-276 775.128,-276 756.093,-276 734.874,-276.211 717.494,-276.439\"/>\n",
       "<polygon fill=\"black\" stroke=\"black\" points=\"717.172,-272.943 707.222,-276.582 717.269,-279.943 717.172,-272.943\"/>\n",
       "<text text-anchor=\"middle\" x=\"870.935\" y=\"-278.8\" font-family=\"Times,serif\" font-size=\"14.00\">0</text>\n",
       "</g>\n",
       "<!-- St1&#45;&gt;St8 -->\n",
       "<g id=\"edge26\" class=\"edge\"><title>St1&#45;&gt;St8</title>\n",
       "<path fill=\"none\" stroke=\"black\" d=\"M1087.13,-248.014C1097.48,-250.111 1109.61,-252.57 1120.51,-254.78\"/>\n",
       "<polygon fill=\"black\" stroke=\"black\" points=\"1120,-258.247 1130.5,-256.804 1121.39,-251.387 1120,-258.247\"/>\n",
       "<text text-anchor=\"middle\" x=\"1108.8\" y=\"-256.8\" font-family=\"Times,serif\" font-size=\"14.00\">1</text>\n",
       "</g>\n",
       "<!-- St3&#45;&gt;St13 -->\n",
       "<g id=\"edge31\" class=\"edge\"><title>St3&#45;&gt;St13</title>\n",
       "<path fill=\"none\" stroke=\"black\" d=\"M473.392,-222.969C444.468,-217.019 394.879,-206.809 352.306,-198 349.647,-197.45 346.896,-196.88 344.13,-196.306\"/>\n",
       "<polygon fill=\"black\" stroke=\"black\" points=\"344.682,-192.847 334.18,-194.242 343.26,-199.701 344.682,-192.847\"/>\n",
       "<text text-anchor=\"middle\" x=\"403.631\" y=\"-216.8\" font-family=\"Times,serif\" font-size=\"14.00\">0</text>\n",
       "</g>\n",
       "<!-- St3&#45;&gt;St9 -->\n",
       "<g id=\"edge30\" class=\"edge\"><title>St3&#45;&gt;St9</title>\n",
       "<path fill=\"none\" stroke=\"black\" d=\"M522.454,-239.221C531.093,-243.654 540.977,-248.901 549.765,-254 553.97,-256.44 558.363,-259.125 562.62,-261.802\"/>\n",
       "<polygon fill=\"black\" stroke=\"black\" points=\"560.752,-264.762 571.061,-267.205 564.526,-258.866 560.752,-264.762\"/>\n",
       "<text text-anchor=\"middle\" x=\"546.265\" y=\"-256.8\" font-family=\"Times,serif\" font-size=\"14.00\">1</text>\n",
       "</g>\n",
       "<!-- St4&#45;&gt;St6 -->\n",
       "<g id=\"edge21\" class=\"edge\"><title>St4&#45;&gt;St6</title>\n",
       "<path fill=\"none\" stroke=\"black\" d=\"M1360.81,-249.034C1372.83,-256.158 1387.91,-265.092 1401.06,-272.884\"/>\n",
       "<polygon fill=\"black\" stroke=\"black\" points=\"1399.4,-275.972 1409.79,-278.059 1402.97,-269.95 1399.4,-275.972\"/>\n",
       "<text text-anchor=\"middle\" x=\"1385.22\" y=\"-268.8\" font-family=\"Times,serif\" font-size=\"14.00\">0</text>\n",
       "</g>\n",
       "<!-- St4&#45;&gt;St2 -->\n",
       "<g id=\"edge20\" class=\"edge\"><title>St4&#45;&gt;St2</title>\n",
       "<path fill=\"none\" stroke=\"black\" d=\"M1331.84,-210.689C1322.37,-170.849 1297.71,-98 1244.01,-98 965.165,-98 965.165,-98 965.165,-98 908.455,-98 891.565,-108.586 845.031,-141 825.67,-154.487 808.627,-174.861 796.458,-191.801\"/>\n",
       "<polygon fill=\"black\" stroke=\"black\" points=\"793.389,-190.084 790.552,-200.292 799.136,-194.081 793.389,-190.084\"/>\n",
       "<text text-anchor=\"middle\" x=\"1061.39\" y=\"-100.8\" font-family=\"Times,serif\" font-size=\"14.00\">1</text>\n",
       "</g>\n",
       "</g>\n",
       "</svg>\n"
      ],
      "text/plain": [
       "<graphviz.dot.Digraph at 0x10a187780>"
      ]
     },
     "execution_count": 20,
     "metadata": {},
     "output_type": "execute_result"
    }
   ],
   "source": [
    "dotObj_dfa(nfa2dfa(NFA_4thlast_1), FuseEdges=True)"
   ]
  },
  {
   "cell_type": "code",
   "execution_count": null,
   "metadata": {
    "run_control": {
     "frozen": false,
     "read_only": false
    }
   },
   "outputs": [],
   "source": []
  },
  {
   "cell_type": "markdown",
   "metadata": {
    "run_control": {
     "frozen": false,
     "read_only": false
    }
   },
   "source": [
    "# Brzozowski's DFA minimization\n",
    "\n",
    "We will practice Brzozowski minimization on \"blimp\", a bloated DFA\n",
    "\n",
    "\n",
    "\n",
    "Picking up from our earlier discussions, to minimize a DFA using Brzozowski's algorithm, here are the steps:\n",
    "\n",
    "* Make sure that the given DFA has no unreachable states\n",
    "* Reverse the DFA\n",
    "* Determinize it\n",
    "* Reverse that DFA\n",
    "* Determinize it\n",
    "\n",
    "Thus we need to write a routine to reverse a DFA. We already have a way to ensure that a DFA does not have unreachable states (in another Jupyter notebook; we won't bother to include it here, and trust the user to always provide such DFA only).\n",
    "\n",
    "We can observe that if a DFA has black-hole states, then those states won't matter in the reversed machine (reversed NFA). Thus, we can work with __partial__ dfa (i.e., DFA that are partially consistent)."
   ]
  },
  {
   "cell_type": "code",
   "execution_count": 21,
   "metadata": {
    "run_control": {
     "frozen": false,
     "read_only": false
    }
   },
   "outputs": [],
   "source": [
    "blimp = md2mc('''\n",
    "DFA \n",
    "I1 : a -> F2\n",
    "I1 : b -> F3\n",
    "F2 : a -> S8\n",
    "F2 : b -> S5\n",
    "F3 : a -> S7\n",
    "F3 : b -> S4\n",
    "S4 : a | b -> F6\n",
    "S5 : a | b -> F6\n",
    "F6 : a | b -> F6\n",
    "S7 : a | b -> F6\n",
    "S8 : a -> F6\n",
    "S8 : b -> F9\n",
    "F9 : a -> F9\n",
    "F9 : b -> F6\n",
    "''')"
   ]
  },
  {
   "cell_type": "code",
   "execution_count": 22,
   "metadata": {
    "run_control": {
     "frozen": false,
     "read_only": false
    }
   },
   "outputs": [
    {
     "data": {
      "image/svg+xml": [
       "<?xml version=\"1.0\" encoding=\"UTF-8\" standalone=\"no\"?>\n",
       "<!DOCTYPE svg PUBLIC \"-//W3C//DTD SVG 1.1//EN\"\n",
       " \"http://www.w3.org/Graphics/SVG/1.1/DTD/svg11.dtd\">\n",
       "<!-- Generated by graphviz version 2.38.0 (20140413.2041)\n",
       " -->\n",
       "<!-- Title: %3 Pages: 1 -->\n",
       "<svg width=\"529pt\" height=\"308pt\"\n",
       " viewBox=\"0.00 0.00 529.18 307.89\" xmlns=\"http://www.w3.org/2000/svg\" xmlns:xlink=\"http://www.w3.org/1999/xlink\">\n",
       "<g id=\"graph0\" class=\"graph\" transform=\"scale(1 1) rotate(0) translate(4 303.894)\">\n",
       "<title>%3</title>\n",
       "<polygon fill=\"white\" stroke=\"none\" points=\"-4,4 -4,-303.894 525.183,-303.894 525.183,4 -4,4\"/>\n",
       "<!-- EMPTY -->\n",
       "<g id=\"node1\" class=\"node\"><title>EMPTY</title>\n",
       "</g>\n",
       "<!-- I1 -->\n",
       "<g id=\"node6\" class=\"node\"><title>I1</title>\n",
       "<ellipse fill=\"none\" stroke=\"black\" cx=\"109\" cy=\"-156.447\" rx=\"18\" ry=\"18\"/>\n",
       "<text text-anchor=\"middle\" x=\"109\" y=\"-152.247\" font-family=\"Times,serif\" font-size=\"14.00\">I1</text>\n",
       "</g>\n",
       "<!-- EMPTY&#45;&gt;I1 -->\n",
       "<g id=\"edge1\" class=\"edge\"><title>EMPTY&#45;&gt;I1</title>\n",
       "<path fill=\"none\" stroke=\"black\" d=\"M54.195,-156.447C62.6538,-156.447 72.0513,-156.447 80.5951,-156.447\"/>\n",
       "<polygon fill=\"black\" stroke=\"black\" points=\"80.8257,-159.947 90.8257,-156.447 80.8257,-152.947 80.8257,-159.947\"/>\n",
       "</g>\n",
       "<!-- S8 -->\n",
       "<g id=\"node2\" class=\"node\"><title>S8</title>\n",
       "<ellipse fill=\"none\" stroke=\"black\" cx=\"282.554\" cy=\"-92.4469\" rx=\"19.3939\" ry=\"19.3939\"/>\n",
       "<text text-anchor=\"middle\" x=\"282.554\" y=\"-88.2469\" font-family=\"Times,serif\" font-size=\"14.00\">S8</text>\n",
       "</g>\n",
       "<!-- F9 -->\n",
       "<g id=\"node7\" class=\"node\"><title>F9</title>\n",
       "<ellipse fill=\"none\" stroke=\"black\" cx=\"404.342\" cy=\"-130.447\" rx=\"19.4029\" ry=\"19.4029\"/>\n",
       "<ellipse fill=\"none\" stroke=\"black\" cx=\"404.342\" cy=\"-130.447\" rx=\"23.3939\" ry=\"23.3939\"/>\n",
       "<text text-anchor=\"middle\" x=\"404.342\" y=\"-126.247\" font-family=\"Times,serif\" font-size=\"14.00\">F9</text>\n",
       "</g>\n",
       "<!-- S8&#45;&gt;F9 -->\n",
       "<g id=\"edge13\" class=\"edge\"><title>S8&#45;&gt;F9</title>\n",
       "<path fill=\"none\" stroke=\"black\" d=\"M301.23,-98.0539C319.741,-103.926 349.199,-113.271 371.728,-120.418\"/>\n",
       "<polygon fill=\"black\" stroke=\"black\" points=\"370.938,-123.839 381.528,-123.527 373.054,-117.167 370.938,-123.839\"/>\n",
       "<text text-anchor=\"middle\" x=\"343.448\" y=\"-120.247\" font-family=\"Times,serif\" font-size=\"14.00\">b</text>\n",
       "</g>\n",
       "<!-- F6 -->\n",
       "<g id=\"node10\" class=\"node\"><title>F6</title>\n",
       "<ellipse fill=\"none\" stroke=\"black\" cx=\"497.736\" cy=\"-130.447\" rx=\"19.4029\" ry=\"19.4029\"/>\n",
       "<ellipse fill=\"none\" stroke=\"black\" cx=\"497.736\" cy=\"-130.447\" rx=\"23.3939\" ry=\"23.3939\"/>\n",
       "<text text-anchor=\"middle\" x=\"497.736\" y=\"-126.247\" font-family=\"Times,serif\" font-size=\"14.00\">F6</text>\n",
       "</g>\n",
       "<!-- S8&#45;&gt;F6 -->\n",
       "<g id=\"edge12\" class=\"edge\"><title>S8&#45;&gt;F6</title>\n",
       "<path fill=\"none\" stroke=\"black\" d=\"M301.792,-87.5104C329.634,-80.839 384.106,-71.2122 427.789,-84.4469 443.789,-89.2946 459.468,-99.2173 471.821,-108.61\"/>\n",
       "<polygon fill=\"black\" stroke=\"black\" points=\"469.8,-111.474 479.805,-114.959 474.157,-105.995 469.8,-111.474\"/>\n",
       "<text text-anchor=\"middle\" x=\"404.342\" y=\"-87.2469\" font-family=\"Times,serif\" font-size=\"14.00\">a</text>\n",
       "</g>\n",
       "<!-- S4 -->\n",
       "<g id=\"node3\" class=\"node\"><title>S4</title>\n",
       "<ellipse fill=\"none\" stroke=\"black\" cx=\"404.342\" cy=\"-280.447\" rx=\"19.3939\" ry=\"19.3939\"/>\n",
       "<text text-anchor=\"middle\" x=\"404.342\" y=\"-276.247\" font-family=\"Times,serif\" font-size=\"14.00\">S4</text>\n",
       "</g>\n",
       "<!-- S4&#45;&gt;F6 -->\n",
       "<g id=\"edge8\" class=\"edge\"><title>S4&#45;&gt;F6</title>\n",
       "<path fill=\"none\" stroke=\"black\" d=\"M417.072,-265.456C420.547,-260.97 424.344,-256.026 427.789,-251.447 440.694,-234.29 445.166,-230.809 456.289,-212.447 466.233,-196.032 475.806,-176.831 483.14,-161.138\"/>\n",
       "<polygon fill=\"black\" stroke=\"black\" points=\"486.401,-162.424 487.401,-151.876 480.042,-159.498 486.401,-162.424\"/>\n",
       "<text text-anchor=\"middle\" x=\"451.039\" y=\"-245.247\" font-family=\"Times,serif\" font-size=\"14.00\">a </text>\n",
       "<text text-anchor=\"middle\" x=\"451.039\" y=\"-231.247\" font-family=\"Times,serif\" font-size=\"14.00\"> b</text>\n",
       "</g>\n",
       "<!-- S7 -->\n",
       "<g id=\"node4\" class=\"node\"><title>S7</title>\n",
       "<ellipse fill=\"none\" stroke=\"black\" cx=\"404.342\" cy=\"-223.447\" rx=\"19.3939\" ry=\"19.3939\"/>\n",
       "<text text-anchor=\"middle\" x=\"404.342\" y=\"-219.247\" font-family=\"Times,serif\" font-size=\"14.00\">S7</text>\n",
       "</g>\n",
       "<!-- S7&#45;&gt;F6 -->\n",
       "<g id=\"edge11\" class=\"edge\"><title>S7&#45;&gt;F6</title>\n",
       "<path fill=\"none\" stroke=\"black\" d=\"M418.827,-209.724C433.252,-195.046 456.388,-171.503 473.707,-153.88\"/>\n",
       "<polygon fill=\"black\" stroke=\"black\" points=\"476.218,-156.318 480.731,-146.733 471.226,-151.412 476.218,-156.318\"/>\n",
       "<text text-anchor=\"middle\" x=\"451.039\" y=\"-197.247\" font-family=\"Times,serif\" font-size=\"14.00\">a </text>\n",
       "<text text-anchor=\"middle\" x=\"451.039\" y=\"-183.247\" font-family=\"Times,serif\" font-size=\"14.00\"> b</text>\n",
       "</g>\n",
       "<!-- S5 -->\n",
       "<g id=\"node5\" class=\"node\"><title>S5</title>\n",
       "<ellipse fill=\"none\" stroke=\"black\" cx=\"343.448\" cy=\"-19.4469\" rx=\"19.3939\" ry=\"19.3939\"/>\n",
       "<text text-anchor=\"middle\" x=\"343.448\" y=\"-15.2469\" font-family=\"Times,serif\" font-size=\"14.00\">S5</text>\n",
       "</g>\n",
       "<!-- S5&#45;&gt;F6 -->\n",
       "<g id=\"edge9\" class=\"edge\"><title>S5&#45;&gt;F6</title>\n",
       "<path fill=\"none\" stroke=\"black\" d=\"M362.83,-16.7003C380.531,-14.9568 407.528,-14.7307 427.789,-25.4469 456.55,-40.6591 475.205,-73.8033 485.765,-98.8113\"/>\n",
       "<polygon fill=\"black\" stroke=\"black\" points=\"482.587,-100.291 489.547,-108.279 489.088,-97.6943 482.587,-100.291\"/>\n",
       "<text text-anchor=\"middle\" x=\"404.342\" y=\"-42.2469\" font-family=\"Times,serif\" font-size=\"14.00\">a </text>\n",
       "<text text-anchor=\"middle\" x=\"404.342\" y=\"-28.2469\" font-family=\"Times,serif\" font-size=\"14.00\"> b</text>\n",
       "</g>\n",
       "<!-- F3 -->\n",
       "<g id=\"node8\" class=\"node\"><title>F3</title>\n",
       "<ellipse fill=\"none\" stroke=\"black\" cx=\"282.554\" cy=\"-223.447\" rx=\"19.4029\" ry=\"19.4029\"/>\n",
       "<ellipse fill=\"none\" stroke=\"black\" cx=\"282.554\" cy=\"-223.447\" rx=\"23.3939\" ry=\"23.3939\"/>\n",
       "<text text-anchor=\"middle\" x=\"282.554\" y=\"-219.247\" font-family=\"Times,serif\" font-size=\"14.00\">F3</text>\n",
       "</g>\n",
       "<!-- I1&#45;&gt;F3 -->\n",
       "<g id=\"edge3\" class=\"edge\"><title>I1&#45;&gt;F3</title>\n",
       "<path fill=\"none\" stroke=\"black\" d=\"M126.139,-162.75C154.654,-173.886 214.377,-197.211 250.921,-211.483\"/>\n",
       "<polygon fill=\"black\" stroke=\"black\" points=\"249.98,-214.873 260.568,-215.251 252.527,-208.353 249.98,-214.873\"/>\n",
       "<text text-anchor=\"middle\" x=\"192.661\" y=\"-201.247\" font-family=\"Times,serif\" font-size=\"14.00\">b</text>\n",
       "</g>\n",
       "<!-- F2 -->\n",
       "<g id=\"node9\" class=\"node\"><title>F2</title>\n",
       "<ellipse fill=\"none\" stroke=\"black\" cx=\"192.661\" cy=\"-92.4469\" rx=\"19.4029\" ry=\"19.4029\"/>\n",
       "<ellipse fill=\"none\" stroke=\"black\" cx=\"192.661\" cy=\"-92.4469\" rx=\"23.3939\" ry=\"23.3939\"/>\n",
       "<text text-anchor=\"middle\" x=\"192.661\" y=\"-88.2469\" font-family=\"Times,serif\" font-size=\"14.00\">F2</text>\n",
       "</g>\n",
       "<!-- I1&#45;&gt;F2 -->\n",
       "<g id=\"edge2\" class=\"edge\"><title>I1&#45;&gt;F2</title>\n",
       "<path fill=\"none\" stroke=\"black\" d=\"M123.853,-145.59C135.233,-136.671 151.674,-123.785 165.517,-112.936\"/>\n",
       "<polygon fill=\"black\" stroke=\"black\" points=\"168.02,-115.421 173.732,-106.498 163.702,-109.912 168.02,-115.421\"/>\n",
       "<text text-anchor=\"middle\" x=\"148.107\" y=\"-131.247\" font-family=\"Times,serif\" font-size=\"14.00\">a</text>\n",
       "</g>\n",
       "<!-- F9&#45;&gt;F9 -->\n",
       "<g id=\"edge14\" class=\"edge\"><title>F9&#45;&gt;F9</title>\n",
       "<path fill=\"none\" stroke=\"black\" d=\"M395.887,-152.62C394.965,-162.906 397.783,-171.894 404.342,-171.894 408.544,-171.894 411.21,-168.205 412.341,-162.85\"/>\n",
       "<polygon fill=\"black\" stroke=\"black\" points=\"415.849,-162.766 412.796,-152.62 408.855,-162.455 415.849,-162.766\"/>\n",
       "<text text-anchor=\"middle\" x=\"404.342\" y=\"-174.694\" font-family=\"Times,serif\" font-size=\"14.00\">a</text>\n",
       "</g>\n",
       "<!-- F9&#45;&gt;F6 -->\n",
       "<g id=\"edge15\" class=\"edge\"><title>F9&#45;&gt;F6</title>\n",
       "<path fill=\"none\" stroke=\"black\" d=\"M427.934,-130.447C438.809,-130.447 452.053,-130.447 464.007,-130.447\"/>\n",
       "<polygon fill=\"black\" stroke=\"black\" points=\"464.087,-133.947 474.087,-130.447 464.087,-126.947 464.087,-133.947\"/>\n",
       "<text text-anchor=\"middle\" x=\"451.039\" y=\"-133.247\" font-family=\"Times,serif\" font-size=\"14.00\">b</text>\n",
       "</g>\n",
       "<!-- F3&#45;&gt;S4 -->\n",
       "<g id=\"edge7\" class=\"edge\"><title>F3&#45;&gt;S4</title>\n",
       "<path fill=\"none\" stroke=\"black\" d=\"M304.147,-233.246C324.425,-242.895 355.463,-257.664 377.412,-268.108\"/>\n",
       "<polygon fill=\"black\" stroke=\"black\" points=\"375.961,-271.294 386.495,-272.43 378.969,-264.973 375.961,-271.294\"/>\n",
       "<text text-anchor=\"middle\" x=\"343.448\" y=\"-263.247\" font-family=\"Times,serif\" font-size=\"14.00\">b</text>\n",
       "</g>\n",
       "<!-- F3&#45;&gt;S7 -->\n",
       "<g id=\"edge6\" class=\"edge\"><title>F3&#45;&gt;S7</title>\n",
       "<path fill=\"none\" stroke=\"black\" d=\"M306.086,-223.447C325.477,-223.447 353.568,-223.447 374.58,-223.447\"/>\n",
       "<polygon fill=\"black\" stroke=\"black\" points=\"374.839,-226.947 384.839,-223.447 374.839,-219.947 374.839,-226.947\"/>\n",
       "<text text-anchor=\"middle\" x=\"343.448\" y=\"-226.247\" font-family=\"Times,serif\" font-size=\"14.00\">a</text>\n",
       "</g>\n",
       "<!-- F2&#45;&gt;S8 -->\n",
       "<g id=\"edge4\" class=\"edge\"><title>F2&#45;&gt;S8</title>\n",
       "<path fill=\"none\" stroke=\"black\" d=\"M216.296,-92.4469C227.355,-92.4469 240.791,-92.4469 252.59,-92.4469\"/>\n",
       "<polygon fill=\"black\" stroke=\"black\" points=\"252.851,-95.947 262.851,-92.4469 252.851,-88.947 252.851,-95.947\"/>\n",
       "<text text-anchor=\"middle\" x=\"237.608\" y=\"-95.2469\" font-family=\"Times,serif\" font-size=\"14.00\">a</text>\n",
       "</g>\n",
       "<!-- F2&#45;&gt;S5 -->\n",
       "<g id=\"edge5\" class=\"edge\"><title>F2&#45;&gt;S5</title>\n",
       "<path fill=\"none\" stroke=\"black\" d=\"M214.037,-82.4496C240.637,-69.3988 287.227,-46.5403 316.374,-32.2395\"/>\n",
       "<polygon fill=\"black\" stroke=\"black\" points=\"318.101,-35.2913 325.537,-27.7443 315.017,-29.0069 318.101,-35.2913\"/>\n",
       "<text text-anchor=\"middle\" x=\"237.608\" y=\"-76.2469\" font-family=\"Times,serif\" font-size=\"14.00\">b</text>\n",
       "</g>\n",
       "<!-- F6&#45;&gt;F6 -->\n",
       "<g id=\"edge10\" class=\"edge\"><title>F6&#45;&gt;F6</title>\n",
       "<path fill=\"none\" stroke=\"black\" d=\"M489.281,-152.62C488.359,-162.906 491.177,-171.894 497.736,-171.894 501.937,-171.894 504.604,-168.205 505.735,-162.85\"/>\n",
       "<polygon fill=\"black\" stroke=\"black\" points=\"509.242,-162.766 506.19,-152.62 502.249,-162.455 509.242,-162.766\"/>\n",
       "<text text-anchor=\"middle\" x=\"497.736\" y=\"-188.694\" font-family=\"Times,serif\" font-size=\"14.00\">a </text>\n",
       "<text text-anchor=\"middle\" x=\"497.736\" y=\"-174.694\" font-family=\"Times,serif\" font-size=\"14.00\"> b</text>\n",
       "</g>\n",
       "</g>\n",
       "</svg>\n"
      ],
      "text/plain": [
       "<graphviz.dot.Digraph at 0x10a1a8a90>"
      ]
     },
     "execution_count": 22,
     "metadata": {},
     "output_type": "execute_result"
    }
   ],
   "source": [
    "dotObj_dfa(blimp, FuseEdges=True)"
   ]
  },
  {
   "cell_type": "code",
   "execution_count": 23,
   "metadata": {
    "run_control": {
     "frozen": false,
     "read_only": false
    }
   },
   "outputs": [
    {
     "data": {
      "text/plain": [
       "<function jove.Def_NFA.rev_dfa>"
      ]
     },
     "execution_count": 23,
     "metadata": {},
     "output_type": "execute_result"
    }
   ],
   "source": [
    "rev_dfa"
   ]
  },
  {
   "cell_type": "code",
   "execution_count": 24,
   "metadata": {
    "run_control": {
     "frozen": false,
     "read_only": false
    }
   },
   "outputs": [
    {
     "data": {
      "text/plain": [
       "<function jove.Def_NFA.nfa2dfa>"
      ]
     },
     "execution_count": 24,
     "metadata": {},
     "output_type": "execute_result"
    }
   ],
   "source": [
    "nfa2dfa"
   ]
  },
  {
   "cell_type": "code",
   "execution_count": 25,
   "metadata": {
    "run_control": {
     "frozen": false,
     "read_only": false
    }
   },
   "outputs": [
    {
     "data": {
      "image/svg+xml": [
       "<?xml version=\"1.0\" encoding=\"UTF-8\" standalone=\"no\"?>\n",
       "<!DOCTYPE svg PUBLIC \"-//W3C//DTD SVG 1.1//EN\"\n",
       " \"http://www.w3.org/Graphics/SVG/1.1/DTD/svg11.dtd\">\n",
       "<!-- Generated by graphviz version 2.38.0 (20140413.2041)\n",
       " -->\n",
       "<!-- Title: %3 Pages: 1 -->\n",
       "<svg width=\"430pt\" height=\"106pt\"\n",
       " viewBox=\"0.00 0.00 429.73 105.81\" xmlns=\"http://www.w3.org/2000/svg\" xmlns:xlink=\"http://www.w3.org/1999/xlink\">\n",
       "<g id=\"graph0\" class=\"graph\" transform=\"scale(1 1) rotate(0) translate(4 101.808)\">\n",
       "<title>%3</title>\n",
       "<polygon fill=\"white\" stroke=\"none\" points=\"-4,4 -4,-101.808 425.731,-101.808 425.731,4 -4,4\"/>\n",
       "<!-- EMPTY -->\n",
       "<g id=\"node1\" class=\"node\"><title>EMPTY</title>\n",
       "</g>\n",
       "<!-- St3 -->\n",
       "<g id=\"node2\" class=\"node\"><title>St3</title>\n",
       "<ellipse fill=\"none\" stroke=\"black\" cx=\"112.904\" cy=\"-25.9039\" rx=\"21.8081\" ry=\"21.8081\"/>\n",
       "<text text-anchor=\"middle\" x=\"112.904\" y=\"-21.7039\" font-family=\"Times,serif\" font-size=\"14.00\">St3</text>\n",
       "</g>\n",
       "<!-- EMPTY&#45;&gt;St3 -->\n",
       "<g id=\"edge1\" class=\"edge\"><title>EMPTY&#45;&gt;St3</title>\n",
       "<path fill=\"none\" stroke=\"black\" d=\"M54.0878,-25.9039C62.501,-25.9039 71.9126,-25.9039 80.6587,-25.9039\"/>\n",
       "<polygon fill=\"black\" stroke=\"black\" points=\"80.8854,-29.404 90.8853,-25.9039 80.8853,-22.404 80.8854,-29.404\"/>\n",
       "</g>\n",
       "<!-- St1 -->\n",
       "<g id=\"node5\" class=\"node\"><title>St1</title>\n",
       "<ellipse fill=\"none\" stroke=\"black\" cx=\"207.212\" cy=\"-25.9039\" rx=\"21.8229\" ry=\"21.8229\"/>\n",
       "<ellipse fill=\"none\" stroke=\"black\" cx=\"207.212\" cy=\"-25.9039\" rx=\"25.8081\" ry=\"25.8081\"/>\n",
       "<text text-anchor=\"middle\" x=\"207.212\" y=\"-21.7039\" font-family=\"Times,serif\" font-size=\"14.00\">St1</text>\n",
       "</g>\n",
       "<!-- St3&#45;&gt;St1 -->\n",
       "<g id=\"edge2\" class=\"edge\"><title>St3&#45;&gt;St1</title>\n",
       "<path fill=\"none\" stroke=\"black\" d=\"M134.85,-25.9039C145.464,-25.9039 158.645,-25.9039 170.779,-25.9039\"/>\n",
       "<polygon fill=\"black\" stroke=\"black\" points=\"171.082,-29.404 181.081,-25.9039 171.081,-22.404 171.082,-29.404\"/>\n",
       "<text text-anchor=\"middle\" x=\"158.058\" y=\"-42.7039\" font-family=\"Times,serif\" font-size=\"14.00\">a </text>\n",
       "<text text-anchor=\"middle\" x=\"158.058\" y=\"-28.7039\" font-family=\"Times,serif\" font-size=\"14.00\"> b</text>\n",
       "</g>\n",
       "<!-- St2 -->\n",
       "<g id=\"node3\" class=\"node\"><title>St2</title>\n",
       "<ellipse fill=\"none\" stroke=\"black\" cx=\"301.519\" cy=\"-25.9039\" rx=\"21.8081\" ry=\"21.8081\"/>\n",
       "<text text-anchor=\"middle\" x=\"301.519\" y=\"-21.7039\" font-family=\"Times,serif\" font-size=\"14.00\">St2</text>\n",
       "</g>\n",
       "<!-- St0 -->\n",
       "<g id=\"node4\" class=\"node\"><title>St0</title>\n",
       "<ellipse fill=\"none\" stroke=\"black\" cx=\"395.827\" cy=\"-25.9039\" rx=\"21.8229\" ry=\"21.8229\"/>\n",
       "<ellipse fill=\"none\" stroke=\"black\" cx=\"395.827\" cy=\"-25.9039\" rx=\"25.8081\" ry=\"25.8081\"/>\n",
       "<text text-anchor=\"middle\" x=\"395.827\" y=\"-21.7039\" font-family=\"Times,serif\" font-size=\"14.00\">St0</text>\n",
       "</g>\n",
       "<!-- St2&#45;&gt;St0 -->\n",
       "<g id=\"edge4\" class=\"edge\"><title>St2&#45;&gt;St0</title>\n",
       "<path fill=\"none\" stroke=\"black\" d=\"M323.465,-25.9039C334.08,-25.9039 347.26,-25.9039 359.394,-25.9039\"/>\n",
       "<polygon fill=\"black\" stroke=\"black\" points=\"359.697,-29.404 369.697,-25.9039 359.697,-22.404 359.697,-29.404\"/>\n",
       "<text text-anchor=\"middle\" x=\"346.673\" y=\"-42.7039\" font-family=\"Times,serif\" font-size=\"14.00\">a </text>\n",
       "<text text-anchor=\"middle\" x=\"346.673\" y=\"-28.7039\" font-family=\"Times,serif\" font-size=\"14.00\"> b</text>\n",
       "</g>\n",
       "<!-- St0&#45;&gt;St0 -->\n",
       "<g id=\"edge5\" class=\"edge\"><title>St0&#45;&gt;St0</title>\n",
       "<path fill=\"none\" stroke=\"black\" d=\"M386.935,-50.2841C386.207,-60.8022 389.171,-69.8077 395.827,-69.8077 400.195,-69.8077 402.973,-65.9294 404.161,-60.2903\"/>\n",
       "<polygon fill=\"black\" stroke=\"black\" points=\"407.657,-60.4635 404.719,-50.2841 400.668,-60.0736 407.657,-60.4635\"/>\n",
       "<text text-anchor=\"middle\" x=\"395.827\" y=\"-86.6077\" font-family=\"Times,serif\" font-size=\"14.00\">a </text>\n",
       "<text text-anchor=\"middle\" x=\"395.827\" y=\"-72.6077\" font-family=\"Times,serif\" font-size=\"14.00\"> b</text>\n",
       "</g>\n",
       "<!-- St1&#45;&gt;St2 -->\n",
       "<g id=\"edge3\" class=\"edge\"><title>St1&#45;&gt;St2</title>\n",
       "<path fill=\"none\" stroke=\"black\" d=\"M233.435,-25.9039C244.47,-25.9039 257.53,-25.9039 269.18,-25.9039\"/>\n",
       "<polygon fill=\"black\" stroke=\"black\" points=\"269.386,-29.404 279.385,-25.9039 269.385,-22.404 269.386,-29.404\"/>\n",
       "<text text-anchor=\"middle\" x=\"256.365\" y=\"-42.7039\" font-family=\"Times,serif\" font-size=\"14.00\">a </text>\n",
       "<text text-anchor=\"middle\" x=\"256.365\" y=\"-28.7039\" font-family=\"Times,serif\" font-size=\"14.00\"> b</text>\n",
       "</g>\n",
       "</g>\n",
       "</svg>\n"
      ],
      "text/plain": [
       "<graphviz.dot.Digraph at 0x10a1a8eb8>"
      ]
     },
     "execution_count": 25,
     "metadata": {},
     "output_type": "execute_result"
    }
   ],
   "source": [
    "# Brzozowski minimization is R;D;R;D\n",
    "\n",
    "dotObj_dfa(nfa2dfa(rev_dfa(nfa2dfa(rev_dfa(blimp)))), FuseEdges = True)"
   ]
  },
  {
   "cell_type": "code",
   "execution_count": 26,
   "metadata": {
    "run_control": {
     "frozen": false,
     "read_only": false
    }
   },
   "outputs": [
    {
     "data": {
      "text/plain": [
       "<function jove.Def_NFA.min_dfa_brz>"
      ]
     },
     "execution_count": 26,
     "metadata": {},
     "output_type": "execute_result"
    }
   ],
   "source": [
    "# This is also directly available as a single command\n",
    "\n",
    "min_dfa_brz"
   ]
  },
  {
   "cell_type": "code",
   "execution_count": 27,
   "metadata": {
    "run_control": {
     "frozen": false,
     "read_only": false
    }
   },
   "outputs": [
    {
     "data": {
      "image/svg+xml": [
       "<?xml version=\"1.0\" encoding=\"UTF-8\" standalone=\"no\"?>\n",
       "<!DOCTYPE svg PUBLIC \"-//W3C//DTD SVG 1.1//EN\"\n",
       " \"http://www.w3.org/Graphics/SVG/1.1/DTD/svg11.dtd\">\n",
       "<!-- Generated by graphviz version 2.38.0 (20140413.2041)\n",
       " -->\n",
       "<!-- Title: %3 Pages: 1 -->\n",
       "<svg width=\"430pt\" height=\"106pt\"\n",
       " viewBox=\"0.00 0.00 429.73 105.81\" xmlns=\"http://www.w3.org/2000/svg\" xmlns:xlink=\"http://www.w3.org/1999/xlink\">\n",
       "<g id=\"graph0\" class=\"graph\" transform=\"scale(1 1) rotate(0) translate(4 101.808)\">\n",
       "<title>%3</title>\n",
       "<polygon fill=\"white\" stroke=\"none\" points=\"-4,4 -4,-101.808 425.731,-101.808 425.731,4 -4,4\"/>\n",
       "<!-- EMPTY -->\n",
       "<g id=\"node1\" class=\"node\"><title>EMPTY</title>\n",
       "</g>\n",
       "<!-- St3 -->\n",
       "<g id=\"node2\" class=\"node\"><title>St3</title>\n",
       "<ellipse fill=\"none\" stroke=\"black\" cx=\"112.904\" cy=\"-25.9039\" rx=\"21.8081\" ry=\"21.8081\"/>\n",
       "<text text-anchor=\"middle\" x=\"112.904\" y=\"-21.7039\" font-family=\"Times,serif\" font-size=\"14.00\">St3</text>\n",
       "</g>\n",
       "<!-- EMPTY&#45;&gt;St3 -->\n",
       "<g id=\"edge1\" class=\"edge\"><title>EMPTY&#45;&gt;St3</title>\n",
       "<path fill=\"none\" stroke=\"black\" d=\"M54.0878,-25.9039C62.501,-25.9039 71.9126,-25.9039 80.6587,-25.9039\"/>\n",
       "<polygon fill=\"black\" stroke=\"black\" points=\"80.8854,-29.404 90.8853,-25.9039 80.8853,-22.404 80.8854,-29.404\"/>\n",
       "</g>\n",
       "<!-- St1 -->\n",
       "<g id=\"node5\" class=\"node\"><title>St1</title>\n",
       "<ellipse fill=\"none\" stroke=\"black\" cx=\"207.212\" cy=\"-25.9039\" rx=\"21.8229\" ry=\"21.8229\"/>\n",
       "<ellipse fill=\"none\" stroke=\"black\" cx=\"207.212\" cy=\"-25.9039\" rx=\"25.8081\" ry=\"25.8081\"/>\n",
       "<text text-anchor=\"middle\" x=\"207.212\" y=\"-21.7039\" font-family=\"Times,serif\" font-size=\"14.00\">St1</text>\n",
       "</g>\n",
       "<!-- St3&#45;&gt;St1 -->\n",
       "<g id=\"edge2\" class=\"edge\"><title>St3&#45;&gt;St1</title>\n",
       "<path fill=\"none\" stroke=\"black\" d=\"M134.85,-25.9039C145.464,-25.9039 158.645,-25.9039 170.779,-25.9039\"/>\n",
       "<polygon fill=\"black\" stroke=\"black\" points=\"171.082,-29.404 181.081,-25.9039 171.081,-22.404 171.082,-29.404\"/>\n",
       "<text text-anchor=\"middle\" x=\"158.058\" y=\"-42.7039\" font-family=\"Times,serif\" font-size=\"14.00\">a </text>\n",
       "<text text-anchor=\"middle\" x=\"158.058\" y=\"-28.7039\" font-family=\"Times,serif\" font-size=\"14.00\"> b</text>\n",
       "</g>\n",
       "<!-- St2 -->\n",
       "<g id=\"node3\" class=\"node\"><title>St2</title>\n",
       "<ellipse fill=\"none\" stroke=\"black\" cx=\"301.519\" cy=\"-25.9039\" rx=\"21.8081\" ry=\"21.8081\"/>\n",
       "<text text-anchor=\"middle\" x=\"301.519\" y=\"-21.7039\" font-family=\"Times,serif\" font-size=\"14.00\">St2</text>\n",
       "</g>\n",
       "<!-- St0 -->\n",
       "<g id=\"node4\" class=\"node\"><title>St0</title>\n",
       "<ellipse fill=\"none\" stroke=\"black\" cx=\"395.827\" cy=\"-25.9039\" rx=\"21.8229\" ry=\"21.8229\"/>\n",
       "<ellipse fill=\"none\" stroke=\"black\" cx=\"395.827\" cy=\"-25.9039\" rx=\"25.8081\" ry=\"25.8081\"/>\n",
       "<text text-anchor=\"middle\" x=\"395.827\" y=\"-21.7039\" font-family=\"Times,serif\" font-size=\"14.00\">St0</text>\n",
       "</g>\n",
       "<!-- St2&#45;&gt;St0 -->\n",
       "<g id=\"edge4\" class=\"edge\"><title>St2&#45;&gt;St0</title>\n",
       "<path fill=\"none\" stroke=\"black\" d=\"M323.465,-25.9039C334.08,-25.9039 347.26,-25.9039 359.394,-25.9039\"/>\n",
       "<polygon fill=\"black\" stroke=\"black\" points=\"359.697,-29.404 369.697,-25.9039 359.697,-22.404 359.697,-29.404\"/>\n",
       "<text text-anchor=\"middle\" x=\"346.673\" y=\"-42.7039\" font-family=\"Times,serif\" font-size=\"14.00\">a </text>\n",
       "<text text-anchor=\"middle\" x=\"346.673\" y=\"-28.7039\" font-family=\"Times,serif\" font-size=\"14.00\"> b</text>\n",
       "</g>\n",
       "<!-- St0&#45;&gt;St0 -->\n",
       "<g id=\"edge5\" class=\"edge\"><title>St0&#45;&gt;St0</title>\n",
       "<path fill=\"none\" stroke=\"black\" d=\"M386.935,-50.2841C386.207,-60.8022 389.171,-69.8077 395.827,-69.8077 400.195,-69.8077 402.973,-65.9294 404.161,-60.2903\"/>\n",
       "<polygon fill=\"black\" stroke=\"black\" points=\"407.657,-60.4635 404.719,-50.2841 400.668,-60.0736 407.657,-60.4635\"/>\n",
       "<text text-anchor=\"middle\" x=\"395.827\" y=\"-86.6077\" font-family=\"Times,serif\" font-size=\"14.00\">a </text>\n",
       "<text text-anchor=\"middle\" x=\"395.827\" y=\"-72.6077\" font-family=\"Times,serif\" font-size=\"14.00\"> b</text>\n",
       "</g>\n",
       "<!-- St1&#45;&gt;St2 -->\n",
       "<g id=\"edge3\" class=\"edge\"><title>St1&#45;&gt;St2</title>\n",
       "<path fill=\"none\" stroke=\"black\" d=\"M233.435,-25.9039C244.47,-25.9039 257.53,-25.9039 269.18,-25.9039\"/>\n",
       "<polygon fill=\"black\" stroke=\"black\" points=\"269.386,-29.404 279.385,-25.9039 269.385,-22.404 269.386,-29.404\"/>\n",
       "<text text-anchor=\"middle\" x=\"256.365\" y=\"-42.7039\" font-family=\"Times,serif\" font-size=\"14.00\">a </text>\n",
       "<text text-anchor=\"middle\" x=\"256.365\" y=\"-28.7039\" font-family=\"Times,serif\" font-size=\"14.00\"> b</text>\n",
       "</g>\n",
       "</g>\n",
       "</svg>\n"
      ],
      "text/plain": [
       "<graphviz.dot.Digraph at 0x10a1a8e10>"
      ]
     },
     "execution_count": 27,
     "metadata": {},
     "output_type": "execute_result"
    }
   ],
   "source": [
    "dotObj_dfa(min_dfa_brz(blimp), FuseEdges = True)"
   ]
  },
  {
   "cell_type": "code",
   "execution_count": 28,
   "metadata": {
    "run_control": {
     "frozen": false,
     "read_only": false
    }
   },
   "outputs": [
    {
     "data": {
      "image/svg+xml": [
       "<?xml version=\"1.0\" encoding=\"UTF-8\" standalone=\"no\"?>\n",
       "<!DOCTYPE svg PUBLIC \"-//W3C//DTD SVG 1.1//EN\"\n",
       " \"http://www.w3.org/Graphics/SVG/1.1/DTD/svg11.dtd\">\n",
       "<!-- Generated by graphviz version 2.38.0 (20140413.2041)\n",
       " -->\n",
       "<!-- Title: %3 Pages: 1 -->\n",
       "<svg width=\"407pt\" height=\"101pt\"\n",
       " viewBox=\"0.00 0.00 407.18 100.89\" xmlns=\"http://www.w3.org/2000/svg\" xmlns:xlink=\"http://www.w3.org/1999/xlink\">\n",
       "<g id=\"graph0\" class=\"graph\" transform=\"scale(1 1) rotate(0) translate(4 96.8937)\">\n",
       "<title>%3</title>\n",
       "<polygon fill=\"white\" stroke=\"none\" points=\"-4,4 -4,-96.8937 403.181,-96.8937 403.181,4 -4,4\"/>\n",
       "<!-- EMPTY -->\n",
       "<g id=\"node1\" class=\"node\"><title>EMPTY</title>\n",
       "</g>\n",
       "<!-- I1 -->\n",
       "<g id=\"node3\" class=\"node\"><title>I1</title>\n",
       "<ellipse fill=\"none\" stroke=\"black\" cx=\"109\" cy=\"-23.4469\" rx=\"18\" ry=\"18\"/>\n",
       "<text text-anchor=\"middle\" x=\"109\" y=\"-19.2469\" font-family=\"Times,serif\" font-size=\"14.00\">I1</text>\n",
       "</g>\n",
       "<!-- EMPTY&#45;&gt;I1 -->\n",
       "<g id=\"edge1\" class=\"edge\"><title>EMPTY&#45;&gt;I1</title>\n",
       "<path fill=\"none\" stroke=\"black\" d=\"M54.195,-23.4469C62.6538,-23.4469 72.0513,-23.4469 80.5951,-23.4469\"/>\n",
       "<polygon fill=\"black\" stroke=\"black\" points=\"80.8257,-26.947 90.8257,-23.4469 80.8257,-19.947 80.8257,-26.947\"/>\n",
       "</g>\n",
       "<!-- S7 -->\n",
       "<g id=\"node2\" class=\"node\"><title>S7</title>\n",
       "<ellipse fill=\"none\" stroke=\"black\" cx=\"286.341\" cy=\"-23.4469\" rx=\"19.3939\" ry=\"19.3939\"/>\n",
       "<text text-anchor=\"middle\" x=\"286.341\" y=\"-19.2469\" font-family=\"Times,serif\" font-size=\"14.00\">S7</text>\n",
       "</g>\n",
       "<!-- F9 -->\n",
       "<g id=\"node5\" class=\"node\"><title>F9</title>\n",
       "<ellipse fill=\"none\" stroke=\"black\" cx=\"375.734\" cy=\"-23.4469\" rx=\"19.4029\" ry=\"19.4029\"/>\n",
       "<ellipse fill=\"none\" stroke=\"black\" cx=\"375.734\" cy=\"-23.4469\" rx=\"23.3939\" ry=\"23.3939\"/>\n",
       "<text text-anchor=\"middle\" x=\"375.734\" y=\"-19.2469\" font-family=\"Times,serif\" font-size=\"14.00\">F9</text>\n",
       "</g>\n",
       "<!-- S7&#45;&gt;F9 -->\n",
       "<g id=\"edge4\" class=\"edge\"><title>S7&#45;&gt;F9</title>\n",
       "<path fill=\"none\" stroke=\"black\" d=\"M305.875,-23.4469C316.338,-23.4469 329.721,-23.4469 341.902,-23.4469\"/>\n",
       "<polygon fill=\"black\" stroke=\"black\" points=\"342.193,-26.947 352.193,-23.4469 342.193,-19.947 342.193,-26.947\"/>\n",
       "<text text-anchor=\"middle\" x=\"329.037\" y=\"-40.2469\" font-family=\"Times,serif\" font-size=\"14.00\">a </text>\n",
       "<text text-anchor=\"middle\" x=\"329.037\" y=\"-26.2469\" font-family=\"Times,serif\" font-size=\"14.00\"> b</text>\n",
       "</g>\n",
       "<!-- F3 -->\n",
       "<g id=\"node4\" class=\"node\"><title>F3</title>\n",
       "<ellipse fill=\"none\" stroke=\"black\" cx=\"196.947\" cy=\"-23.4469\" rx=\"19.4029\" ry=\"19.4029\"/>\n",
       "<ellipse fill=\"none\" stroke=\"black\" cx=\"196.947\" cy=\"-23.4469\" rx=\"23.3939\" ry=\"23.3939\"/>\n",
       "<text text-anchor=\"middle\" x=\"196.947\" y=\"-19.2469\" font-family=\"Times,serif\" font-size=\"14.00\">F3</text>\n",
       "</g>\n",
       "<!-- I1&#45;&gt;F3 -->\n",
       "<g id=\"edge2\" class=\"edge\"><title>I1&#45;&gt;F3</title>\n",
       "<path fill=\"none\" stroke=\"black\" d=\"M127.393,-23.4469C137.636,-23.4469 150.928,-23.4469 163.077,-23.4469\"/>\n",
       "<polygon fill=\"black\" stroke=\"black\" points=\"163.355,-26.947 173.355,-23.4469 163.355,-19.947 163.355,-26.947\"/>\n",
       "<text text-anchor=\"middle\" x=\"150.25\" y=\"-40.2469\" font-family=\"Times,serif\" font-size=\"14.00\">a </text>\n",
       "<text text-anchor=\"middle\" x=\"150.25\" y=\"-26.2469\" font-family=\"Times,serif\" font-size=\"14.00\"> b</text>\n",
       "</g>\n",
       "<!-- F3&#45;&gt;S7 -->\n",
       "<g id=\"edge3\" class=\"edge\"><title>F3&#45;&gt;S7</title>\n",
       "<path fill=\"none\" stroke=\"black\" d=\"M220.453,-23.4469C231.45,-23.4469 244.809,-23.4469 256.541,-23.4469\"/>\n",
       "<polygon fill=\"black\" stroke=\"black\" points=\"256.743,-26.947 266.743,-23.4469 256.743,-19.947 256.743,-26.947\"/>\n",
       "<text text-anchor=\"middle\" x=\"243.644\" y=\"-40.2469\" font-family=\"Times,serif\" font-size=\"14.00\">a </text>\n",
       "<text text-anchor=\"middle\" x=\"243.644\" y=\"-26.2469\" font-family=\"Times,serif\" font-size=\"14.00\"> b</text>\n",
       "</g>\n",
       "<!-- F9&#45;&gt;F9 -->\n",
       "<g id=\"edge5\" class=\"edge\"><title>F9&#45;&gt;F9</title>\n",
       "<path fill=\"none\" stroke=\"black\" d=\"M367.28,-45.6203C366.358,-55.9065 369.176,-64.8937 375.734,-64.8937 379.936,-64.8937 382.602,-61.2054 383.734,-55.85\"/>\n",
       "<polygon fill=\"black\" stroke=\"black\" points=\"387.241,-55.766 384.189,-45.6203 380.248,-55.4549 387.241,-55.766\"/>\n",
       "<text text-anchor=\"middle\" x=\"375.734\" y=\"-81.6937\" font-family=\"Times,serif\" font-size=\"14.00\">a </text>\n",
       "<text text-anchor=\"middle\" x=\"375.734\" y=\"-67.6937\" font-family=\"Times,serif\" font-size=\"14.00\"> b</text>\n",
       "</g>\n",
       "</g>\n",
       "</svg>\n"
      ],
      "text/plain": [
       "<graphviz.dot.Digraph at 0x10a1c20b8>"
      ]
     },
     "execution_count": 28,
     "metadata": {},
     "output_type": "execute_result"
    }
   ],
   "source": [
    "# Same result as standard minimization\n",
    "\n",
    "dotObj_dfa(min_dfa(blimp), FuseEdges = True)"
   ]
  },
  {
   "cell_type": "code",
   "execution_count": null,
   "metadata": {
    "run_control": {
     "frozen": false,
     "read_only": false
    }
   },
   "outputs": [],
   "source": []
  }
 ],
 "metadata": {
  "kernelspec": {
   "display_name": "Python 3",
   "language": "python",
   "name": "python3"
  },
  "language_info": {
   "codemirror_mode": {
    "name": "ipython",
    "version": 3
   },
   "file_extension": ".py",
   "mimetype": "text/x-python",
   "name": "python",
   "nbconvert_exporter": "python",
   "pygments_lexer": "ipython3",
   "version": "3.6.0"
  },
  "toc": {
   "colors": {
    "hover_highlight": "#DAA520",
    "running_highlight": "#FF0000",
    "selected_highlight": "#FFD700"
   },
   "moveMenuLeft": true,
   "nav_menu": {
    "height": "121px",
    "width": "252px"
   },
   "navigate_menu": true,
   "number_sections": true,
   "sideBar": true,
   "threshold": 4,
   "toc_cell": false,
   "toc_section_display": "block",
   "toc_window_display": false,
   "widenNotebook": false
  },
  "widgets": {
   "state": {
    "430c92ee02b34ec1912bf03c8de1e6dc": {
     "views": [
      {
       "cell_index": 20
      }
     ]
    }
   },
   "version": "1.2.0"
  }
 },
 "nbformat": 4,
 "nbformat_minor": 2
}
