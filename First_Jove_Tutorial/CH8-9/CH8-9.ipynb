{
 "cells": [
  {
   "cell_type": "markdown",
   "metadata": {},
   "source": [
    "# RE operations\n",
    "\n",
    "You may watch a portion of the following Youtube video (fast-forwarding as needed) to obtain\n",
    "an overview of RE-related operations.\n",
    "\n",
    "We will discuss:\n",
    "\n",
    "* REs for some simple languages\n",
    "\n",
    "* RE to NFA conversion\n",
    "\n",
    "* NFA to RE conversion\n"
   ]
  },
  {
   "cell_type": "code",
   "execution_count": 1,
   "metadata": {},
   "outputs": [
    {
     "data": {
      "image/jpeg": "[encoded data removed]",
      "text/html": [
       "\n",
       "        <iframe\n",
       "            width=\"400\"\n",
       "            height=\"300\"\n",
       "            src=\"https://www.youtube.com/embed/eXjIYsalFEQ\"\n",
       "            frameborder=\"0\"\n",
       "            allowfullscreen\n",
       "        ></iframe>\n",
       "        "
      ],
      "text/plain": [
       "<IPython.lib.display.YouTubeVideo at 0x10c79f550>"
      ]
     },
     "execution_count": 1,
     "metadata": {},
     "output_type": "execute_result"
    }
   ],
   "source": [
    "# This Youtube video walks through many RE operations\n",
    "from IPython.display import YouTubeVideo\n",
    "YouTubeVideo('eXjIYsalFEQ')\n"
   ]
  },
  {
   "cell_type": "code",
   "execution_count": 2,
   "metadata": {
    "run_control": {
     "frozen": false,
     "read_only": false
    }
   },
   "outputs": [
    {
     "name": "stdout",
     "output_type": "stream",
     "text": [
      "You may use any of these help commands:\n",
      "help(ResetStNum)\n",
      "help(NxtStateStr)\n",
      "\n",
      "You may use any of these help commands:\n",
      "help(mkp_dfa)\n",
      "help(mk_dfa)\n",
      "help(totalize_dfa)\n",
      "help(addtosigma_delta)\n",
      "help(step_dfa)\n",
      "help(run_dfa)\n",
      "help(accepts_dfa)\n",
      "help(comp_dfa)\n",
      "help(union_dfa)\n",
      "help(intersect_dfa)\n",
      "help(pruneUnreach)\n",
      "help(iso_dfa)\n",
      "help(langeq_dfa)\n",
      "help(same_status)\n",
      "help(h_langeq_dfa)\n",
      "help(fixptDist)\n",
      "help(min_dfa)\n",
      "help(pairFR)\n",
      "help(state_combos)\n",
      "help(sepFinNonFin)\n",
      "help(bash_eql_classes)\n",
      "help(listminus)\n",
      "help(bash_1)\n",
      "help(mk_rep_eqc)\n",
      "help(F_of)\n",
      "help(rep_of_s)\n",
      "help(q0_of)\n",
      "help(Delta_of)\n",
      "help(mk_state_eqc_name)\n",
      "\n",
      "You may use any of these help commands:\n",
      "help(mk_nfa)\n",
      "help(totalize_nfa)\n",
      "help(step_nfa)\n",
      "help(run_nfa)\n",
      "help(ec_step_nfa)\n",
      "help(Eclosure)\n",
      "help(Echelp)\n",
      "help(accepts_nfa)\n",
      "help(nfa2dfa)\n",
      "help(n2d)\n",
      "help(inSets)\n",
      "help(rev_dfa)\n",
      "help(min_dfa_brz)\n",
      "\n",
      "You may use any of these help commands:\n",
      "help(re2nfa)\n",
      "\n",
      "You may use any of these help commands:\n",
      "help(RE2Str)\n",
      "help(mk_gnfa)\n",
      "help(mk_gnfa_from_D)\n",
      "help(dfa2nfa)\n",
      "help(del_gnfa_states)\n",
      "help(gnfa_w_REStr)\n",
      "help(del_one_gnfa_state)\n",
      "help(Edges_Exist_Via)\n",
      "help(choose_state_to_del)\n",
      "help(form_alt_RE)\n",
      "help(form_concat_RE)\n",
      "help(form_kleene_RE)\n",
      "\n",
      "You may use any of these help commands:\n",
      "help(md2mc)\n",
      ".. and if you want to dig more, then ..\n",
      "help(default_line_attr)\n",
      "help(length_ok_input_items)\n",
      "help(union_line_attr_list_fld)\n",
      "help(extend_rsltdict)\n",
      "help(form_delta)\n",
      "help(get_machine_components)\n",
      "\n"
     ]
    }
   ],
   "source": [
    "import sys\n",
    "sys.path[0:0] = ['../..','../../3rdparty'] # Put these at the head of the search path\n",
    "\n",
    "from jove.DotBashers import *\n",
    "from jove.Def_DFA import *\n",
    "from jove.Def_NFA import *\n",
    "from jove.Def_RE2NFA import *\n",
    "from jove.Def_NFA2RE import *\n",
    "from jove.Def_md2mc import *"
   ]
  },
  {
   "cell_type": "markdown",
   "metadata": {
    "run_control": {
     "frozen": false,
     "read_only": false
    }
   },
   "source": [
    " # We will develop REs for some example languages"
   ]
  },
  {
   "cell_type": "code",
   "execution_count": 3,
   "metadata": {
    "run_control": {
     "frozen": false,
     "read_only": false
    }
   },
   "outputs": [
    {
     "name": "stderr",
     "output_type": "stream",
     "text": [
      "Generating LALR tables\n"
     ]
    },
    {
     "data": {
      "image/svg+xml": [
       "<?xml version=\"1.0\" encoding=\"UTF-8\" standalone=\"no\"?>\n",
       "<!DOCTYPE svg PUBLIC \"-//W3C//DTD SVG 1.1//EN\"\n",
       " \"http://www.w3.org/Graphics/SVG/1.1/DTD/svg11.dtd\">\n",
       "<!-- Generated by graphviz version 2.38.0 (20140413.2041)\n",
       " -->\n",
       "<!-- Title: %3 Pages: 1 -->\n",
       "<svg width=\"238pt\" height=\"92pt\"\n",
       " viewBox=\"0.00 0.00 237.62 91.81\" xmlns=\"http://www.w3.org/2000/svg\" xmlns:xlink=\"http://www.w3.org/1999/xlink\">\n",
       "<g id=\"graph0\" class=\"graph\" transform=\"scale(1 1) rotate(0) translate(4 87.8077)\">\n",
       "<title>%3</title>\n",
       "<polygon fill=\"white\" stroke=\"none\" points=\"-4,4 -4,-87.8077 233.615,-87.8077 233.615,4 -4,4\"/>\n",
       "<!-- EMPTY -->\n",
       "<g id=\"node1\" class=\"node\"><title>EMPTY</title>\n",
       "</g>\n",
       "<!-- St3 -->\n",
       "<g id=\"node2\" class=\"node\"><title>St3</title>\n",
       "<ellipse fill=\"none\" stroke=\"black\" cx=\"112.904\" cy=\"-25.9039\" rx=\"21.8081\" ry=\"21.8081\"/>\n",
       "<text text-anchor=\"middle\" x=\"112.904\" y=\"-21.7039\" font-family=\"Times,serif\" font-size=\"14.00\">St3</text>\n",
       "</g>\n",
       "<!-- EMPTY&#45;&gt;St3 -->\n",
       "<g id=\"edge1\" class=\"edge\"><title>EMPTY&#45;&gt;St3</title>\n",
       "<path fill=\"none\" stroke=\"black\" d=\"M54.0878,-25.9039C62.501,-25.9039 71.9126,-25.9039 80.6587,-25.9039\"/>\n",
       "<polygon fill=\"black\" stroke=\"black\" points=\"80.8854,-29.404 90.8853,-25.9039 80.8853,-22.404 80.8854,-29.404\"/>\n",
       "</g>\n",
       "<!-- St3&#45;&gt;St3 -->\n",
       "<g id=\"edge2\" class=\"edge\"><title>St3&#45;&gt;St3</title>\n",
       "<path fill=\"none\" stroke=\"black\" d=\"M105.587,-46.8442C104.684,-56.9164 107.123,-65.8077 112.904,-65.8077 116.607,-65.8077 118.939,-62.1587 119.9,-56.8879\"/>\n",
       "<polygon fill=\"black\" stroke=\"black\" points=\"123.399,-56.9509 120.221,-46.8442 116.403,-56.7272 123.399,-56.9509\"/>\n",
       "<text text-anchor=\"middle\" x=\"112.904\" y=\"-68.6077\" font-family=\"Times,serif\" font-size=\"14.00\">0</text>\n",
       "</g>\n",
       "<!-- St6 -->\n",
       "<g id=\"node3\" class=\"node\"><title>St6</title>\n",
       "<ellipse fill=\"none\" stroke=\"black\" cx=\"203.712\" cy=\"-25.9039\" rx=\"21.8229\" ry=\"21.8229\"/>\n",
       "<ellipse fill=\"none\" stroke=\"black\" cx=\"203.712\" cy=\"-25.9039\" rx=\"25.8081\" ry=\"25.8081\"/>\n",
       "<text text-anchor=\"middle\" x=\"203.712\" y=\"-21.7039\" font-family=\"Times,serif\" font-size=\"14.00\">St6</text>\n",
       "</g>\n",
       "<!-- St3&#45;&gt;St6 -->\n",
       "<g id=\"edge3\" class=\"edge\"><title>St3&#45;&gt;St6</title>\n",
       "<path fill=\"none\" stroke=\"black\" d=\"M134.95,-25.9039C144.668,-25.9039 156.471,-25.9039 167.487,-25.9039\"/>\n",
       "<polygon fill=\"black\" stroke=\"black\" points=\"167.713,-29.404 177.713,-25.9039 167.713,-22.404 167.713,-29.404\"/>\n",
       "<text text-anchor=\"middle\" x=\"156.308\" y=\"-28.7039\" font-family=\"Times,serif\" font-size=\"14.00\">1</text>\n",
       "</g>\n",
       "<!-- St6&#45;&gt;St3 -->\n",
       "<g id=\"edge5\" class=\"edge\"><title>St6&#45;&gt;St3</title>\n",
       "<path fill=\"none\" stroke=\"black\" d=\"M181.21,-12.4447C172.537,-8.53035 162.342,-5.80503 152.808,-7.90386 149.101,-8.71982 145.327,-9.92505 141.66,-11.3321\"/>\n",
       "<polygon fill=\"black\" stroke=\"black\" points=\"140.092,-8.19721 132.322,-15.3991 142.888,-14.615 140.092,-8.19721\"/>\n",
       "<text text-anchor=\"middle\" x=\"156.308\" y=\"-10.7039\" font-family=\"Times,serif\" font-size=\"14.00\">1</text>\n",
       "</g>\n",
       "<!-- St6&#45;&gt;St6 -->\n",
       "<g id=\"edge4\" class=\"edge\"><title>St6&#45;&gt;St6</title>\n",
       "<path fill=\"none\" stroke=\"black\" d=\"M195.162,-50.7276C194.573,-61.0541 197.423,-69.8077 203.712,-69.8077 207.741,-69.8077 210.358,-66.2152 211.564,-60.9182\"/>\n",
       "<polygon fill=\"black\" stroke=\"black\" points=\"215.07,-60.9431 212.261,-50.7276 208.087,-60.4654 215.07,-60.9431\"/>\n",
       "<text text-anchor=\"middle\" x=\"203.712\" y=\"-72.6077\" font-family=\"Times,serif\" font-size=\"14.00\">0</text>\n",
       "</g>\n",
       "</g>\n",
       "</svg>\n"
      ],
      "text/plain": [
       "<graphviz.dot.Digraph at 0x10d225cc0>"
      ]
     },
     "execution_count": 3,
     "metadata": {},
     "output_type": "execute_result"
    }
   ],
   "source": [
    "# RE for the language of odd 1's (over the alphabet {0,1})\n",
    "\n",
    "RE_Odd1s  = \"(0* 1 0* (1 0* 1 0*)*)\"\n",
    "NFA_Odd1s = re2nfa(RE_Odd1s)\n",
    "DO_Odd1s  = dotObj_dfa(min_dfa(nfa2dfa(NFA_Odd1s)))\n",
    "DO_Odd1s"
   ]
  },
  {
   "cell_type": "code",
   "execution_count": 4,
   "metadata": {
    "run_control": {
     "frozen": false,
     "read_only": false
    }
   },
   "outputs": [
    {
     "name": "stderr",
     "output_type": "stream",
     "text": [
      "Generating LALR tables\n"
     ]
    },
    {
     "data": {
      "image/svg+xml": [
       "<?xml version=\"1.0\" encoding=\"UTF-8\" standalone=\"no\"?>\n",
       "<!DOCTYPE svg PUBLIC \"-//W3C//DTD SVG 1.1//EN\"\n",
       " \"http://www.w3.org/Graphics/SVG/1.1/DTD/svg11.dtd\">\n",
       "<!-- Generated by graphviz version 2.38.0 (20140413.2041)\n",
       " -->\n",
       "<!-- Title: %3 Pages: 1 -->\n",
       "<svg width=\"411pt\" height=\"92pt\"\n",
       " viewBox=\"0.00 0.00 411.23 91.81\" xmlns=\"http://www.w3.org/2000/svg\" xmlns:xlink=\"http://www.w3.org/1999/xlink\">\n",
       "<g id=\"graph0\" class=\"graph\" transform=\"scale(1 1) rotate(0) translate(4 87.8077)\">\n",
       "<title>%3</title>\n",
       "<polygon fill=\"white\" stroke=\"none\" points=\"-4,4 -4,-87.8077 407.231,-87.8077 407.231,4 -4,4\"/>\n",
       "<!-- EMPTY -->\n",
       "<g id=\"node1\" class=\"node\"><title>EMPTY</title>\n",
       "</g>\n",
       "<!-- St2 -->\n",
       "<g id=\"node3\" class=\"node\"><title>St2</title>\n",
       "<ellipse fill=\"none\" stroke=\"black\" cx=\"112.904\" cy=\"-25.9039\" rx=\"21.8081\" ry=\"21.8081\"/>\n",
       "<text text-anchor=\"middle\" x=\"112.904\" y=\"-21.7039\" font-family=\"Times,serif\" font-size=\"14.00\">St2</text>\n",
       "</g>\n",
       "<!-- EMPTY&#45;&gt;St2 -->\n",
       "<g id=\"edge1\" class=\"edge\"><title>EMPTY&#45;&gt;St2</title>\n",
       "<path fill=\"none\" stroke=\"black\" d=\"M54.0878,-25.9039C62.501,-25.9039 71.9126,-25.9039 80.6587,-25.9039\"/>\n",
       "<polygon fill=\"black\" stroke=\"black\" points=\"80.8854,-29.404 90.8853,-25.9039 80.8853,-22.404 80.8854,-29.404\"/>\n",
       "</g>\n",
       "<!-- St4 -->\n",
       "<g id=\"node2\" class=\"node\"><title>St4</title>\n",
       "<ellipse fill=\"none\" stroke=\"black\" cx=\"286.519\" cy=\"-25.9039\" rx=\"21.8081\" ry=\"21.8081\"/>\n",
       "<text text-anchor=\"middle\" x=\"286.519\" y=\"-21.7039\" font-family=\"Times,serif\" font-size=\"14.00\">St4</text>\n",
       "</g>\n",
       "<!-- St4&#45;&gt;St4 -->\n",
       "<g id=\"edge7\" class=\"edge\"><title>St4&#45;&gt;St4</title>\n",
       "<path fill=\"none\" stroke=\"black\" d=\"M278.877,-46.4352C277.82,-56.6745 280.367,-65.8077 286.519,-65.8077 290.461,-65.8077 292.923,-62.0594 293.905,-56.6733\"/>\n",
       "<polygon fill=\"black\" stroke=\"black\" points=\"297.41,-56.5198 294.162,-46.4352 290.412,-56.3443 297.41,-56.5198\"/>\n",
       "<text text-anchor=\"middle\" x=\"286.519\" y=\"-68.6077\" font-family=\"Times,serif\" font-size=\"14.00\">1</text>\n",
       "</g>\n",
       "<!-- St6 -->\n",
       "<g id=\"node5\" class=\"node\"><title>St6</title>\n",
       "<ellipse fill=\"none\" stroke=\"black\" cx=\"377.327\" cy=\"-25.9039\" rx=\"21.8229\" ry=\"21.8229\"/>\n",
       "<ellipse fill=\"none\" stroke=\"black\" cx=\"377.327\" cy=\"-25.9039\" rx=\"25.8081\" ry=\"25.8081\"/>\n",
       "<text text-anchor=\"middle\" x=\"377.327\" y=\"-21.7039\" font-family=\"Times,serif\" font-size=\"14.00\">St6</text>\n",
       "</g>\n",
       "<!-- St4&#45;&gt;St6 -->\n",
       "<g id=\"edge6\" class=\"edge\"><title>St4&#45;&gt;St6</title>\n",
       "<path fill=\"none\" stroke=\"black\" d=\"M308.566,-25.9039C318.283,-25.9039 330.087,-25.9039 341.103,-25.9039\"/>\n",
       "<polygon fill=\"black\" stroke=\"black\" points=\"341.329,-29.404 351.329,-25.9039 341.329,-22.404 341.329,-29.404\"/>\n",
       "<text text-anchor=\"middle\" x=\"329.923\" y=\"-28.7039\" font-family=\"Times,serif\" font-size=\"14.00\">0</text>\n",
       "</g>\n",
       "<!-- St2&#45;&gt;St2 -->\n",
       "<g id=\"edge3\" class=\"edge\"><title>St2&#45;&gt;St2</title>\n",
       "<path fill=\"none\" stroke=\"black\" d=\"M105.587,-46.8442C104.684,-56.9164 107.123,-65.8077 112.904,-65.8077 116.607,-65.8077 118.939,-62.1587 119.9,-56.8879\"/>\n",
       "<polygon fill=\"black\" stroke=\"black\" points=\"123.399,-56.9509 120.221,-46.8442 116.403,-56.7272 123.399,-56.9509\"/>\n",
       "<text text-anchor=\"middle\" x=\"112.904\" y=\"-68.6077\" font-family=\"Times,serif\" font-size=\"14.00\">1</text>\n",
       "</g>\n",
       "<!-- St8 -->\n",
       "<g id=\"node4\" class=\"node\"><title>St8</title>\n",
       "<ellipse fill=\"none\" stroke=\"black\" cx=\"199.712\" cy=\"-25.9039\" rx=\"21.8081\" ry=\"21.8081\"/>\n",
       "<text text-anchor=\"middle\" x=\"199.712\" y=\"-21.7039\" font-family=\"Times,serif\" font-size=\"14.00\">St8</text>\n",
       "</g>\n",
       "<!-- St2&#45;&gt;St8 -->\n",
       "<g id=\"edge2\" class=\"edge\"><title>St2&#45;&gt;St8</title>\n",
       "<path fill=\"none\" stroke=\"black\" d=\"M134.868,-25.9039C144.755,-25.9039 156.753,-25.9039 167.667,-25.9039\"/>\n",
       "<polygon fill=\"black\" stroke=\"black\" points=\"167.695,-29.404 177.695,-25.9039 167.695,-22.404 167.695,-29.404\"/>\n",
       "<text text-anchor=\"middle\" x=\"156.308\" y=\"-28.7039\" font-family=\"Times,serif\" font-size=\"14.00\">0</text>\n",
       "</g>\n",
       "<!-- St8&#45;&gt;St4 -->\n",
       "<g id=\"edge4\" class=\"edge\"><title>St8&#45;&gt;St4</title>\n",
       "<path fill=\"none\" stroke=\"black\" d=\"M221.675,-25.9039C231.563,-25.9039 243.561,-25.9039 254.475,-25.9039\"/>\n",
       "<polygon fill=\"black\" stroke=\"black\" points=\"254.503,-29.404 264.503,-25.9039 254.503,-22.404 254.503,-29.404\"/>\n",
       "<text text-anchor=\"middle\" x=\"243.115\" y=\"-28.7039\" font-family=\"Times,serif\" font-size=\"14.00\">0</text>\n",
       "</g>\n",
       "<!-- St8&#45;&gt;St8 -->\n",
       "<g id=\"edge5\" class=\"edge\"><title>St8&#45;&gt;St8</title>\n",
       "<path fill=\"none\" stroke=\"black\" d=\"M192.069,-46.4352C191.012,-56.6745 193.559,-65.8077 199.712,-65.8077 203.653,-65.8077 206.115,-62.0594 207.097,-56.6733\"/>\n",
       "<polygon fill=\"black\" stroke=\"black\" points=\"210.602,-56.5198 207.354,-46.4352 203.604,-56.3443 210.602,-56.5198\"/>\n",
       "<text text-anchor=\"middle\" x=\"199.712\" y=\"-68.6077\" font-family=\"Times,serif\" font-size=\"14.00\">1</text>\n",
       "</g>\n",
       "<!-- St6&#45;&gt;St6 -->\n",
       "<g id=\"edge8\" class=\"edge\"><title>St6&#45;&gt;St6</title>\n",
       "<path fill=\"none\" stroke=\"black\" d=\"M368.778,-50.7276C368.188,-61.0541 371.038,-69.8077 377.327,-69.8077 381.356,-69.8077 383.973,-66.2152 385.179,-60.9182\"/>\n",
       "<polygon fill=\"black\" stroke=\"black\" points=\"388.686,-60.9431 385.876,-50.7276 381.702,-60.4654 388.686,-60.9431\"/>\n",
       "<text text-anchor=\"middle\" x=\"377.327\" y=\"-72.6077\" font-family=\"Times,serif\" font-size=\"14.00\">1</text>\n",
       "</g>\n",
       "</g>\n",
       "</svg>\n"
      ],
      "text/plain": [
       "<graphviz.dot.Digraph at 0x10d237d30>"
      ]
     },
     "execution_count": 4,
     "metadata": {},
     "output_type": "execute_result"
    }
   ],
   "source": [
    "# RE for the language of exactly three 0's \n",
    "\n",
    "RE_Ex3z = \"1* 0 1* 0 1* 0 1*\"\n",
    "NFA_Ex3z = re2nfa(RE_Ex3z)\n",
    "DO_Ex3z  = dotObj_dfa(min_dfa(nfa2dfa(NFA_Ex3z)))\n",
    "DO_Ex3z"
   ]
  },
  {
   "cell_type": "code",
   "execution_count": 5,
   "metadata": {
    "run_control": {
     "frozen": false,
     "read_only": false
    }
   },
   "outputs": [
    {
     "name": "stderr",
     "output_type": "stream",
     "text": [
      "Generating LALR tables\n"
     ]
    },
    {
     "data": {
      "image/svg+xml": [
       "<?xml version=\"1.0\" encoding=\"UTF-8\" standalone=\"no\"?>\n",
       "<!DOCTYPE svg PUBLIC \"-//W3C//DTD SVG 1.1//EN\"\n",
       " \"http://www.w3.org/Graphics/SVG/1.1/DTD/svg11.dtd\">\n",
       "<!-- Generated by graphviz version 2.38.0 (20140413.2041)\n",
       " -->\n",
       "<!-- Title: %3 Pages: 1 -->\n",
       "<svg width=\"757pt\" height=\"190pt\"\n",
       " viewBox=\"0.00 0.00 756.71 190.23\" xmlns=\"http://www.w3.org/2000/svg\" xmlns:xlink=\"http://www.w3.org/1999/xlink\">\n",
       "<g id=\"graph0\" class=\"graph\" transform=\"scale(1 1) rotate(0) translate(4 186.229)\">\n",
       "<title>%3</title>\n",
       "<polygon fill=\"white\" stroke=\"none\" points=\"-4,4 -4,-186.229 752.715,-186.229 752.715,4 -4,4\"/>\n",
       "<!-- EMPTY -->\n",
       "<g id=\"node1\" class=\"node\"><title>EMPTY</title>\n",
       "</g>\n",
       "<!-- St4 -->\n",
       "<g id=\"node4\" class=\"node\"><title>St4</title>\n",
       "<ellipse fill=\"none\" stroke=\"black\" cx=\"112.904\" cy=\"-67.3256\" rx=\"21.8081\" ry=\"21.8081\"/>\n",
       "<text text-anchor=\"middle\" x=\"112.904\" y=\"-63.1256\" font-family=\"Times,serif\" font-size=\"14.00\">St4</text>\n",
       "</g>\n",
       "<!-- EMPTY&#45;&gt;St4 -->\n",
       "<g id=\"edge1\" class=\"edge\"><title>EMPTY&#45;&gt;St4</title>\n",
       "<path fill=\"none\" stroke=\"black\" d=\"M54.0878,-67.3256C62.501,-67.3256 71.9126,-67.3256 80.6587,-67.3256\"/>\n",
       "<polygon fill=\"black\" stroke=\"black\" points=\"80.8854,-70.8257 90.8853,-67.3256 80.8853,-63.8257 80.8854,-70.8257\"/>\n",
       "</g>\n",
       "<!-- St11 -->\n",
       "<g id=\"node2\" class=\"node\"><title>St11</title>\n",
       "<ellipse fill=\"none\" stroke=\"black\" cx=\"311.785\" cy=\"-141.326\" rx=\"26.0035\" ry=\"26.0035\"/>\n",
       "<text text-anchor=\"middle\" x=\"311.785\" y=\"-137.126\" font-family=\"Times,serif\" font-size=\"14.00\">St11</text>\n",
       "</g>\n",
       "<!-- St16 -->\n",
       "<g id=\"node8\" class=\"node\"><title>St16</title>\n",
       "<ellipse fill=\"none\" stroke=\"black\" cx=\"415.436\" cy=\"-104.326\" rx=\"26.1751\" ry=\"26.1751\"/>\n",
       "<ellipse fill=\"none\" stroke=\"black\" cx=\"415.436\" cy=\"-104.326\" rx=\"30.1522\" ry=\"30.1522\"/>\n",
       "<text text-anchor=\"middle\" x=\"415.436\" y=\"-100.126\" font-family=\"Times,serif\" font-size=\"14.00\">St16</text>\n",
       "</g>\n",
       "<!-- St11&#45;&gt;St16 -->\n",
       "<g id=\"edge9\" class=\"edge\"><title>St11&#45;&gt;St16</title>\n",
       "<path fill=\"none\" stroke=\"black\" d=\"M330.939,-123.19C339.137,-116.223 349.383,-109.052 360.11,-105.326 364.766,-103.708 369.784,-102.709 374.823,-102.144\"/>\n",
       "<polygon fill=\"black\" stroke=\"black\" points=\"375.312,-105.621 385.086,-101.533 374.896,-98.6335 375.312,-105.621\"/>\n",
       "<text text-anchor=\"middle\" x=\"363.61\" y=\"-108.126\" font-family=\"Times,serif\" font-size=\"14.00\">1</text>\n",
       "</g>\n",
       "<!-- St8 -->\n",
       "<g id=\"node11\" class=\"node\"><title>St8</title>\n",
       "<ellipse fill=\"none\" stroke=\"black\" cx=\"622.738\" cy=\"-156.326\" rx=\"21.8229\" ry=\"21.8229\"/>\n",
       "<ellipse fill=\"none\" stroke=\"black\" cx=\"622.738\" cy=\"-156.326\" rx=\"25.8081\" ry=\"25.8081\"/>\n",
       "<text text-anchor=\"middle\" x=\"622.738\" y=\"-152.126\" font-family=\"Times,serif\" font-size=\"14.00\">St8</text>\n",
       "</g>\n",
       "<!-- St11&#45;&gt;St8 -->\n",
       "<g id=\"edge8\" class=\"edge\"><title>St11&#45;&gt;St8</title>\n",
       "<path fill=\"none\" stroke=\"black\" d=\"M337.806,-142.54C392.533,-145.197 523.013,-151.532 586.217,-154.601\"/>\n",
       "<polygon fill=\"black\" stroke=\"black\" points=\"586.325,-158.11 596.483,-155.099 586.665,-151.119 586.325,-158.11\"/>\n",
       "<text text-anchor=\"middle\" x=\"467.261\" y=\"-151.126\" font-family=\"Times,serif\" font-size=\"14.00\">0</text>\n",
       "</g>\n",
       "<!-- St13 -->\n",
       "<g id=\"node3\" class=\"node\"><title>St13</title>\n",
       "<ellipse fill=\"none\" stroke=\"black\" cx=\"722.389\" cy=\"-87.3256\" rx=\"26.1523\" ry=\"26.1523\"/>\n",
       "<text text-anchor=\"middle\" x=\"722.389\" y=\"-83.1256\" font-family=\"Times,serif\" font-size=\"14.00\">St13</text>\n",
       "</g>\n",
       "<!-- St13&#45;&gt;St13 -->\n",
       "<g id=\"edge16\" class=\"edge\"><title>St13&#45;&gt;St13</title>\n",
       "<path fill=\"none\" stroke=\"black\" d=\"M713.84,-112.388C713.251,-122.813 716.1,-131.651 722.389,-131.651 726.418,-131.651 729.036,-128.024 730.242,-122.676\"/>\n",
       "<polygon fill=\"black\" stroke=\"black\" points=\"733.755,-122.601 730.938,-112.388 726.771,-122.128 733.755,-122.601\"/>\n",
       "<text text-anchor=\"middle\" x=\"722.389\" y=\"-134.451\" font-family=\"Times,serif\" font-size=\"14.00\">0</text>\n",
       "</g>\n",
       "<!-- St30 -->\n",
       "<g id=\"node6\" class=\"node\"><title>St30</title>\n",
       "<ellipse fill=\"none\" stroke=\"black\" cx=\"622.738\" cy=\"-50.3256\" rx=\"26.1751\" ry=\"26.1751\"/>\n",
       "<ellipse fill=\"none\" stroke=\"black\" cx=\"622.738\" cy=\"-50.3256\" rx=\"30.1522\" ry=\"30.1522\"/>\n",
       "<text text-anchor=\"middle\" x=\"622.738\" y=\"-46.1256\" font-family=\"Times,serif\" font-size=\"14.00\">St30</text>\n",
       "</g>\n",
       "<!-- St13&#45;&gt;St30 -->\n",
       "<g id=\"edge17\" class=\"edge\"><title>St13&#45;&gt;St30</title>\n",
       "<path fill=\"none\" stroke=\"black\" d=\"M697.575,-78.3025C686.588,-74.1393 673.285,-69.099 661.015,-64.4498\"/>\n",
       "<polygon fill=\"black\" stroke=\"black\" points=\"662.051,-61.0997 651.46,-60.8293 659.571,-67.6455 662.051,-61.0997\"/>\n",
       "<text text-anchor=\"middle\" x=\"674.564\" y=\"-73.1256\" font-family=\"Times,serif\" font-size=\"14.00\">1</text>\n",
       "</g>\n",
       "<!-- St6 -->\n",
       "<g id=\"node5\" class=\"node\"><title>St6</title>\n",
       "<ellipse fill=\"none\" stroke=\"black\" cx=\"208.133\" cy=\"-104.326\" rx=\"21.8081\" ry=\"21.8081\"/>\n",
       "<text text-anchor=\"middle\" x=\"208.133\" y=\"-100.126\" font-family=\"Times,serif\" font-size=\"14.00\">St6</text>\n",
       "</g>\n",
       "<!-- St4&#45;&gt;St6 -->\n",
       "<g id=\"edge2\" class=\"edge\"><title>St4&#45;&gt;St6</title>\n",
       "<path fill=\"none\" stroke=\"black\" d=\"M133.675,-75.1723C146.53,-80.2741 163.517,-87.0154 177.917,-92.7304\"/>\n",
       "<polygon fill=\"black\" stroke=\"black\" points=\"176.804,-96.0545 187.39,-96.4902 179.387,-89.5481 176.804,-96.0545\"/>\n",
       "<text text-anchor=\"middle\" x=\"156.308\" y=\"-88.1256\" font-family=\"Times,serif\" font-size=\"14.00\">0</text>\n",
       "</g>\n",
       "<!-- St14 -->\n",
       "<g id=\"node7\" class=\"node\"><title>St14</title>\n",
       "<ellipse fill=\"none\" stroke=\"black\" cx=\"208.133\" cy=\"-30.3256\" rx=\"26.1751\" ry=\"26.1751\"/>\n",
       "<ellipse fill=\"none\" stroke=\"black\" cx=\"208.133\" cy=\"-30.3256\" rx=\"30.1522\" ry=\"30.1522\"/>\n",
       "<text text-anchor=\"middle\" x=\"208.133\" y=\"-26.1256\" font-family=\"Times,serif\" font-size=\"14.00\">St14</text>\n",
       "</g>\n",
       "<!-- St4&#45;&gt;St14 -->\n",
       "<g id=\"edge3\" class=\"edge\"><title>St4&#45;&gt;St14</title>\n",
       "<path fill=\"none\" stroke=\"black\" d=\"M133.675,-59.4788C144.324,-55.2528 157.807,-49.9018 170.307,-44.9409\"/>\n",
       "<polygon fill=\"black\" stroke=\"black\" points=\"171.607,-48.1906 179.611,-41.2485 169.025,-41.6842 171.607,-48.1906\"/>\n",
       "<text text-anchor=\"middle\" x=\"156.308\" y=\"-54.1256\" font-family=\"Times,serif\" font-size=\"14.00\">1</text>\n",
       "</g>\n",
       "<!-- St6&#45;&gt;St11 -->\n",
       "<g id=\"edge4\" class=\"edge\"><title>St6&#45;&gt;St11</title>\n",
       "<path fill=\"none\" stroke=\"black\" d=\"M229.216,-111.636C243.016,-116.659 261.659,-123.444 277.638,-129.261\"/>\n",
       "<polygon fill=\"black\" stroke=\"black\" points=\"276.582,-132.601 287.176,-132.732 278.976,-126.023 276.582,-132.601\"/>\n",
       "<text text-anchor=\"middle\" x=\"259.959\" y=\"-126.126\" font-family=\"Times,serif\" font-size=\"14.00\">0</text>\n",
       "</g>\n",
       "<!-- St25 -->\n",
       "<g id=\"node9\" class=\"node\"><title>St25</title>\n",
       "<ellipse fill=\"none\" stroke=\"black\" cx=\"311.785\" cy=\"-67.3256\" rx=\"26.1751\" ry=\"26.1751\"/>\n",
       "<ellipse fill=\"none\" stroke=\"black\" cx=\"311.785\" cy=\"-67.3256\" rx=\"30.1522\" ry=\"30.1522\"/>\n",
       "<text text-anchor=\"middle\" x=\"311.785\" y=\"-63.1256\" font-family=\"Times,serif\" font-size=\"14.00\">St25</text>\n",
       "</g>\n",
       "<!-- St6&#45;&gt;St25 -->\n",
       "<g id=\"edge5\" class=\"edge\"><title>St6&#45;&gt;St25</title>\n",
       "<path fill=\"none\" stroke=\"black\" d=\"M229.216,-97.0156C241.842,-92.4201 258.521,-86.3491 273.505,-80.8949\"/>\n",
       "<polygon fill=\"black\" stroke=\"black\" points=\"274.848,-84.1308 283.048,-77.4215 272.454,-77.553 274.848,-84.1308\"/>\n",
       "<text text-anchor=\"middle\" x=\"259.959\" y=\"-89.1256\" font-family=\"Times,serif\" font-size=\"14.00\">1</text>\n",
       "</g>\n",
       "<!-- St30&#45;&gt;St13 -->\n",
       "<g id=\"edge21\" class=\"edge\"><title>St30&#45;&gt;St13</title>\n",
       "<path fill=\"none\" stroke=\"black\" d=\"M652.877,-46.6167C661.223,-46.5353 670.188,-47.4205 678.064,-50.3256 684.673,-52.7637 690.958,-56.7088 696.588,-61.1338\"/>\n",
       "<polygon fill=\"black\" stroke=\"black\" points=\"694.479,-63.9375 704.328,-67.8406 699.062,-58.647 694.479,-63.9375\"/>\n",
       "<text text-anchor=\"middle\" x=\"674.564\" y=\"-53.1256\" font-family=\"Times,serif\" font-size=\"14.00\">1</text>\n",
       "</g>\n",
       "<!-- St30&#45;&gt;St30 -->\n",
       "<g id=\"edge20\" class=\"edge\"><title>St30&#45;&gt;St30</title>\n",
       "<path fill=\"none\" stroke=\"black\" d=\"M613.372,-79.5795C613.171,-90.0857 616.293,-98.6512 622.738,-98.6512 626.867,-98.6512 629.632,-95.1359 631.033,-89.8471\"/>\n",
       "<polygon fill=\"black\" stroke=\"black\" points=\"634.548,-89.8886 632.104,-79.5795 627.586,-89.1626 634.548,-89.8886\"/>\n",
       "<text text-anchor=\"middle\" x=\"622.738\" y=\"-101.451\" font-family=\"Times,serif\" font-size=\"14.00\">0</text>\n",
       "</g>\n",
       "<!-- St14&#45;&gt;St4 -->\n",
       "<g id=\"edge7\" class=\"edge\"><title>St14&#45;&gt;St4</title>\n",
       "<path fill=\"none\" stroke=\"black\" d=\"M177.884,-27.0463C169.536,-27.1162 160.596,-28.1918 152.808,-31.3256 146.154,-34.0027 139.946,-38.3864 134.529,-43.1895\"/>\n",
       "<polygon fill=\"black\" stroke=\"black\" points=\"131.888,-40.8766 127.198,-50.3767 136.789,-45.875 131.888,-40.8766\"/>\n",
       "<text text-anchor=\"middle\" x=\"156.308\" y=\"-34.1256\" font-family=\"Times,serif\" font-size=\"14.00\">1</text>\n",
       "</g>\n",
       "<!-- St14&#45;&gt;St25 -->\n",
       "<g id=\"edge6\" class=\"edge\"><title>St14&#45;&gt;St25</title>\n",
       "<path fill=\"none\" stroke=\"black\" d=\"M238.483,-27.5328C246.748,-27.632 255.617,-28.6015 263.459,-31.3256 269.602,-33.4598 275.588,-36.7239 281.122,-40.4324\"/>\n",
       "<polygon fill=\"black\" stroke=\"black\" points=\"279.275,-43.4187 289.404,-46.5274 283.424,-37.781 279.275,-43.4187\"/>\n",
       "<text text-anchor=\"middle\" x=\"259.959\" y=\"-34.1256\" font-family=\"Times,serif\" font-size=\"14.00\">0</text>\n",
       "</g>\n",
       "<!-- St16&#45;&gt;St11 -->\n",
       "<g id=\"edge15\" class=\"edge\"><title>St16&#45;&gt;St11</title>\n",
       "<path fill=\"none\" stroke=\"black\" d=\"M386.659,-114.436C374.096,-119.009 359.15,-124.449 345.999,-129.236\"/>\n",
       "<polygon fill=\"black\" stroke=\"black\" points=\"344.561,-126.035 336.361,-132.744 346.955,-132.613 344.561,-126.035\"/>\n",
       "<text text-anchor=\"middle\" x=\"363.61\" y=\"-126.126\" font-family=\"Times,serif\" font-size=\"14.00\">1</text>\n",
       "</g>\n",
       "<!-- St21 -->\n",
       "<g id=\"node10\" class=\"node\"><title>St21</title>\n",
       "<ellipse fill=\"none\" stroke=\"black\" cx=\"519.087\" cy=\"-104.326\" rx=\"26.1751\" ry=\"26.1751\"/>\n",
       "<ellipse fill=\"none\" stroke=\"black\" cx=\"519.087\" cy=\"-104.326\" rx=\"30.1522\" ry=\"30.1522\"/>\n",
       "<text text-anchor=\"middle\" x=\"519.087\" y=\"-100.126\" font-family=\"Times,serif\" font-size=\"14.00\">St21</text>\n",
       "</g>\n",
       "<!-- St16&#45;&gt;St21 -->\n",
       "<g id=\"edge14\" class=\"edge\"><title>St16&#45;&gt;St21</title>\n",
       "<path fill=\"none\" stroke=\"black\" d=\"M445.837,-104.326C456.057,-104.326 467.692,-104.326 478.594,-104.326\"/>\n",
       "<polygon fill=\"black\" stroke=\"black\" points=\"478.751,-107.826 488.751,-104.326 478.751,-100.826 478.751,-107.826\"/>\n",
       "<text text-anchor=\"middle\" x=\"467.261\" y=\"-107.126\" font-family=\"Times,serif\" font-size=\"14.00\">0</text>\n",
       "</g>\n",
       "<!-- St25&#45;&gt;St6 -->\n",
       "<g id=\"edge11\" class=\"edge\"><title>St25&#45;&gt;St6</title>\n",
       "<path fill=\"none\" stroke=\"black\" d=\"M281.702,-63.0473C273.358,-62.8115 264.379,-63.5395 256.459,-66.3256 247.261,-69.5612 238.53,-75.4223 231.129,-81.5883\"/>\n",
       "<polygon fill=\"black\" stroke=\"black\" points=\"228.767,-79.0052 223.662,-88.2888 233.442,-84.2153 228.767,-79.0052\"/>\n",
       "<text text-anchor=\"middle\" x=\"259.959\" y=\"-69.1256\" font-family=\"Times,serif\" font-size=\"14.00\">1</text>\n",
       "</g>\n",
       "<!-- St25&#45;&gt;St16 -->\n",
       "<g id=\"edge10\" class=\"edge\"><title>St25&#45;&gt;St16</title>\n",
       "<path fill=\"none\" stroke=\"black\" d=\"M340.815,-76.2463C349.301,-79.0452 358.619,-82.2179 367.11,-85.3256 370.6,-86.6027 374.217,-87.9718 377.826,-89.3683\"/>\n",
       "<polygon fill=\"black\" stroke=\"black\" points=\"376.682,-92.6791 387.269,-93.0847 379.245,-86.1655 376.682,-92.6791\"/>\n",
       "<text text-anchor=\"middle\" x=\"363.61\" y=\"-88.1256\" font-family=\"Times,serif\" font-size=\"14.00\">0</text>\n",
       "</g>\n",
       "<!-- St21&#45;&gt;St30 -->\n",
       "<g id=\"edge18\" class=\"edge\"><title>St21&#45;&gt;St30</title>\n",
       "<path fill=\"none\" stroke=\"black\" d=\"M546.265,-90.4193C558.596,-83.8685 573.481,-75.9611 586.762,-68.9059\"/>\n",
       "<polygon fill=\"black\" stroke=\"black\" points=\"588.46,-71.9672 595.649,-64.1848 585.176,-65.7853 588.46,-71.9672\"/>\n",
       "<text text-anchor=\"middle\" x=\"570.913\" y=\"-81.1256\" font-family=\"Times,serif\" font-size=\"14.00\">0</text>\n",
       "</g>\n",
       "<!-- St21&#45;&gt;St8 -->\n",
       "<g id=\"edge19\" class=\"edge\"><title>St21&#45;&gt;St8</title>\n",
       "<path fill=\"none\" stroke=\"black\" d=\"M549.528,-104.056C557.881,-104.901 566.774,-106.724 574.413,-110.326 583.546,-114.632 591.999,-121.424 599.158,-128.481\"/>\n",
       "<polygon fill=\"black\" stroke=\"black\" points=\"596.978,-131.271 606.389,-136.137 602.067,-126.464 596.978,-131.271\"/>\n",
       "<text text-anchor=\"middle\" x=\"570.913\" y=\"-113.126\" font-family=\"Times,serif\" font-size=\"14.00\">1</text>\n",
       "</g>\n",
       "<!-- St8&#45;&gt;St13 -->\n",
       "<g id=\"edge12\" class=\"edge\"><title>St8&#45;&gt;St13</title>\n",
       "<path fill=\"none\" stroke=\"black\" d=\"M644.447,-141.692C658.335,-131.879 676.827,-118.813 692.202,-107.95\"/>\n",
       "<polygon fill=\"black\" stroke=\"black\" points=\"694.226,-110.805 700.373,-102.176 690.186,-105.088 694.226,-110.805\"/>\n",
       "<text text-anchor=\"middle\" x=\"674.564\" y=\"-124.126\" font-family=\"Times,serif\" font-size=\"14.00\">0</text>\n",
       "</g>\n",
       "<!-- St8&#45;&gt;St21 -->\n",
       "<g id=\"edge13\" class=\"edge\"><title>St8&#45;&gt;St21</title>\n",
       "<path fill=\"none\" stroke=\"black\" d=\"M599.217,-144.805C586.447,-138.272 570.178,-129.95 555.717,-122.552\"/>\n",
       "<polygon fill=\"black\" stroke=\"black\" points=\"557.026,-119.291 546.529,-117.852 553.838,-125.522 557.026,-119.291\"/>\n",
       "<text text-anchor=\"middle\" x=\"570.913\" y=\"-134.126\" font-family=\"Times,serif\" font-size=\"14.00\">1</text>\n",
       "</g>\n",
       "</g>\n",
       "</svg>\n"
      ],
      "text/plain": [
       "<graphviz.dot.Digraph at 0x10d237978>"
      ]
     },
     "execution_count": 5,
     "metadata": {},
     "output_type": "execute_result"
    }
   ],
   "source": [
    "# RE for odd 1's or exactly three 0's\n",
    "\n",
    "RE_O13z  = \"0* 1 0* (1 0* 1 0*)* + 1* 0 1* 0 1* 0 1* \"\n",
    "NFA_O13z = re2nfa(RE_O13z)\n",
    "MD_O13z  = min_dfa(nfa2dfa(NFA_O13z))\n",
    "DO_O13z  = dotObj_dfa(MD_O13z)\n",
    "DO_O13z"
   ]
  },
  {
   "cell_type": "markdown",
   "metadata": {},
   "source": [
    "# Examples of RE to NFA conversion"
   ]
  },
  {
   "cell_type": "code",
   "execution_count": 6,
   "metadata": {
    "run_control": {
     "frozen": false,
     "read_only": false
    }
   },
   "outputs": [
    {
     "name": "stderr",
     "output_type": "stream",
     "text": [
      "Generating LALR tables\n"
     ]
    },
    {
     "data": {
      "image/svg+xml": [
       "<?xml version=\"1.0\" encoding=\"UTF-8\" standalone=\"no\"?>\n",
       "<!DOCTYPE svg PUBLIC \"-//W3C//DTD SVG 1.1//EN\"\n",
       " \"http://www.w3.org/Graphics/SVG/1.1/DTD/svg11.dtd\">\n",
       "<!-- Generated by graphviz version 2.38.0 (20140413.2041)\n",
       " -->\n",
       "<!-- Title: %3 Pages: 1 -->\n",
       "<svg width=\"150pt\" height=\"60pt\"\n",
       " viewBox=\"0.00 0.00 149.81 59.81\" xmlns=\"http://www.w3.org/2000/svg\" xmlns:xlink=\"http://www.w3.org/1999/xlink\">\n",
       "<g id=\"graph0\" class=\"graph\" transform=\"scale(1 1) rotate(0) translate(4 55.8077)\">\n",
       "<title>%3</title>\n",
       "<polygon fill=\"white\" stroke=\"none\" points=\"-4,4 -4,-55.8077 145.808,-55.8077 145.808,4 -4,4\"/>\n",
       "<!-- EMPTY -->\n",
       "<g id=\"node1\" class=\"node\"><title>EMPTY</title>\n",
       "</g>\n",
       "<!-- St1 -->\n",
       "<g id=\"node2\" class=\"node\"><title>St1</title>\n",
       "<ellipse fill=\"none\" stroke=\"black\" cx=\"115.904\" cy=\"-25.9039\" rx=\"21.8229\" ry=\"21.8229\"/>\n",
       "<ellipse fill=\"none\" stroke=\"black\" cx=\"115.904\" cy=\"-25.9039\" rx=\"25.8081\" ry=\"25.8081\"/>\n",
       "<text text-anchor=\"middle\" x=\"115.904\" y=\"-21.7039\" font-family=\"Times,serif\" font-size=\"14.00\">St1</text>\n",
       "</g>\n",
       "<!-- EMPTY&#45;&gt;St1 -->\n",
       "<g id=\"edge1\" class=\"edge\"><title>EMPTY&#45;&gt;St1</title>\n",
       "<path fill=\"none\" stroke=\"black\" d=\"M54.074,-25.9039C62.107,-25.9039 71.0887,-25.9039 79.6326,-25.9039\"/>\n",
       "<polygon fill=\"black\" stroke=\"black\" points=\"79.744,-29.404 89.744,-25.9039 79.7439,-22.404 79.744,-29.404\"/>\n",
       "</g>\n",
       "</g>\n",
       "</svg>\n"
      ],
      "text/plain": [
       "<graphviz.dot.Digraph at 0x10d295a20>"
      ]
     },
     "execution_count": 6,
     "metadata": {},
     "output_type": "execute_result"
    }
   ],
   "source": [
    "dotObj_dfa(min_dfa(nfa2dfa(re2nfa(\"''\"))))"
   ]
  },
  {
   "cell_type": "code",
   "execution_count": 7,
   "metadata": {
    "run_control": {
     "frozen": false,
     "read_only": false
    }
   },
   "outputs": [
    {
     "name": "stderr",
     "output_type": "stream",
     "text": [
      "Generating LALR tables\n"
     ]
    },
    {
     "data": {
      "image/svg+xml": [
       "<?xml version=\"1.0\" encoding=\"UTF-8\" standalone=\"no\"?>\n",
       "<!DOCTYPE svg PUBLIC \"-//W3C//DTD SVG 1.1//EN\"\n",
       " \"http://www.w3.org/Graphics/SVG/1.1/DTD/svg11.dtd\">\n",
       "<!-- Generated by graphviz version 2.38.0 (20140413.2041)\n",
       " -->\n",
       "<!-- Title: %3 Pages: 1 -->\n",
       "<svg width=\"355pt\" height=\"84pt\"\n",
       " viewBox=\"0.00 0.00 355.29 84.25\" xmlns=\"http://www.w3.org/2000/svg\" xmlns:xlink=\"http://www.w3.org/1999/xlink\">\n",
       "<g id=\"graph0\" class=\"graph\" transform=\"scale(1 1) rotate(0) translate(4 80.2453)\">\n",
       "<title>%3</title>\n",
       "<polygon fill=\"white\" stroke=\"none\" points=\"-4,4 -4,-80.2453 351.288,-80.2453 351.288,4 -4,4\"/>\n",
       "<!-- EMPTY -->\n",
       "<g id=\"node1\" class=\"node\"><title>EMPTY</title>\n",
       "</g>\n",
       "<!-- St1 -->\n",
       "<g id=\"node2\" class=\"node\"><title>St1</title>\n",
       "<ellipse fill=\"none\" stroke=\"black\" cx=\"112.904\" cy=\"-38.1226\" rx=\"21.8081\" ry=\"21.8081\"/>\n",
       "<text text-anchor=\"middle\" x=\"112.904\" y=\"-33.9226\" font-family=\"Times,serif\" font-size=\"14.00\">St1</text>\n",
       "</g>\n",
       "<!-- EMPTY&#45;&gt;St1 -->\n",
       "<g id=\"edge1\" class=\"edge\"><title>EMPTY&#45;&gt;St1</title>\n",
       "<path fill=\"none\" stroke=\"black\" d=\"M54.0878,-38.1226C62.501,-38.1226 71.9126,-38.1226 80.6587,-38.1226\"/>\n",
       "<polygon fill=\"black\" stroke=\"black\" points=\"80.8854,-41.6227 90.8853,-38.1226 80.8853,-34.6227 80.8854,-41.6227\"/>\n",
       "</g>\n",
       "<!-- St2_St3 -->\n",
       "<g id=\"node3\" class=\"node\"><title>St2_St3</title>\n",
       "<ellipse fill=\"none\" stroke=\"black\" cx=\"215.144\" cy=\"-38.1226\" rx=\"38.2457\" ry=\"38.2457\"/>\n",
       "<text text-anchor=\"middle\" x=\"215.144\" y=\"-33.9226\" font-family=\"Times,serif\" font-size=\"14.00\">St2_St3</text>\n",
       "</g>\n",
       "<!-- St1&#45;&gt;St2_St3 -->\n",
       "<g id=\"edge2\" class=\"edge\"><title>St1&#45;&gt;St2_St3</title>\n",
       "<path fill=\"none\" stroke=\"black\" d=\"M135.162,-38.1226C144.402,-38.1226 155.628,-38.1226 166.68,-38.1226\"/>\n",
       "<polygon fill=\"black\" stroke=\"black\" points=\"166.72,-41.6227 176.72,-38.1226 166.72,-34.6227 166.72,-41.6227\"/>\n",
       "<text text-anchor=\"middle\" x=\"155.915\" y=\"-40.9226\" font-family=\"Times,serif\" font-size=\"14.00\">a</text>\n",
       "</g>\n",
       "<!-- St4 -->\n",
       "<g id=\"node4\" class=\"node\"><title>St4</title>\n",
       "<ellipse fill=\"none\" stroke=\"black\" cx=\"321.385\" cy=\"-38.1226\" rx=\"21.8229\" ry=\"21.8229\"/>\n",
       "<ellipse fill=\"none\" stroke=\"black\" cx=\"321.385\" cy=\"-38.1226\" rx=\"25.8081\" ry=\"25.8081\"/>\n",
       "<text text-anchor=\"middle\" x=\"321.385\" y=\"-33.9226\" font-family=\"Times,serif\" font-size=\"14.00\">St4</text>\n",
       "</g>\n",
       "<!-- St2_St3&#45;&gt;St4 -->\n",
       "<g id=\"edge3\" class=\"edge\"><title>St2_St3&#45;&gt;St4</title>\n",
       "<path fill=\"none\" stroke=\"black\" d=\"M253.483,-38.1226C263.802,-38.1226 274.964,-38.1226 285.159,-38.1226\"/>\n",
       "<polygon fill=\"black\" stroke=\"black\" points=\"285.357,-41.6227 295.357,-38.1226 285.357,-34.6227 285.357,-41.6227\"/>\n",
       "<text text-anchor=\"middle\" x=\"274.374\" y=\"-40.9226\" font-family=\"Times,serif\" font-size=\"14.00\">a</text>\n",
       "</g>\n",
       "</g>\n",
       "</svg>\n"
      ],
      "text/plain": [
       "<graphviz.dot.Digraph at 0x10d2ba470>"
      ]
     },
     "execution_count": 7,
     "metadata": {},
     "output_type": "execute_result"
    }
   ],
   "source": [
    "# DFA for the language of \"aa\" generated via re2nfa, nfa2dfa and min_dfa\n",
    "\n",
    "D1 = min_dfa(nfa2dfa(re2nfa(\"aa\")))\n",
    "dotObj_dfa(D1)"
   ]
  },
  {
   "cell_type": "code",
   "execution_count": 8,
   "metadata": {
    "run_control": {
     "frozen": false,
     "read_only": false
    }
   },
   "outputs": [
    {
     "name": "stderr",
     "output_type": "stream",
     "text": [
      "Generating LALR tables\n"
     ]
    },
    {
     "data": {
      "image/svg+xml": [
       "<?xml version=\"1.0\" encoding=\"UTF-8\" standalone=\"no\"?>\n",
       "<!DOCTYPE svg PUBLIC \"-//W3C//DTD SVG 1.1//EN\"\n",
       " \"http://www.w3.org/Graphics/SVG/1.1/DTD/svg11.dtd\">\n",
       "<!-- Generated by graphviz version 2.38.0 (20140413.2041)\n",
       " -->\n",
       "<!-- Title: %3 Pages: 1 -->\n",
       "<svg width=\"357pt\" height=\"84pt\"\n",
       " viewBox=\"0.00 0.00 356.86 84.25\" xmlns=\"http://www.w3.org/2000/svg\" xmlns:xlink=\"http://www.w3.org/1999/xlink\">\n",
       "<g id=\"graph0\" class=\"graph\" transform=\"scale(1 1) rotate(0) translate(4 80.2453)\">\n",
       "<title>%3</title>\n",
       "<polygon fill=\"white\" stroke=\"none\" points=\"-4,4 -4,-80.2453 352.861,-80.2453 352.861,4 -4,4\"/>\n",
       "<!-- EMPTY -->\n",
       "<g id=\"node1\" class=\"node\"><title>EMPTY</title>\n",
       "</g>\n",
       "<!-- St1 -->\n",
       "<g id=\"node2\" class=\"node\"><title>St1</title>\n",
       "<ellipse fill=\"none\" stroke=\"black\" cx=\"112.904\" cy=\"-38.1226\" rx=\"21.8081\" ry=\"21.8081\"/>\n",
       "<text text-anchor=\"middle\" x=\"112.904\" y=\"-33.9226\" font-family=\"Times,serif\" font-size=\"14.00\">St1</text>\n",
       "</g>\n",
       "<!-- EMPTY&#45;&gt;St1 -->\n",
       "<g id=\"edge1\" class=\"edge\"><title>EMPTY&#45;&gt;St1</title>\n",
       "<path fill=\"none\" stroke=\"black\" d=\"M54.0878,-38.1226C62.501,-38.1226 71.9126,-38.1226 80.6587,-38.1226\"/>\n",
       "<polygon fill=\"black\" stroke=\"black\" points=\"80.8854,-41.6227 90.8853,-38.1226 80.8853,-34.6227 80.8854,-41.6227\"/>\n",
       "</g>\n",
       "<!-- St2_St3 -->\n",
       "<g id=\"node3\" class=\"node\"><title>St2_St3</title>\n",
       "<ellipse fill=\"none\" stroke=\"black\" cx=\"215.93\" cy=\"-38.1226\" rx=\"38.2457\" ry=\"38.2457\"/>\n",
       "<text text-anchor=\"middle\" x=\"215.93\" y=\"-33.9226\" font-family=\"Times,serif\" font-size=\"14.00\">St2_St3</text>\n",
       "</g>\n",
       "<!-- St1&#45;&gt;St2_St3 -->\n",
       "<g id=\"edge2\" class=\"edge\"><title>St1&#45;&gt;St2_St3</title>\n",
       "<path fill=\"none\" stroke=\"black\" d=\"M134.837,-38.1226C144.403,-38.1226 156.154,-38.1226 167.678,-38.1226\"/>\n",
       "<polygon fill=\"black\" stroke=\"black\" points=\"167.686,-41.6227 177.686,-38.1226 167.686,-34.6227 167.686,-41.6227\"/>\n",
       "<text text-anchor=\"middle\" x=\"156.308\" y=\"-40.9226\" font-family=\"Times,serif\" font-size=\"14.00\">b</text>\n",
       "</g>\n",
       "<!-- St4 -->\n",
       "<g id=\"node4\" class=\"node\"><title>St4</title>\n",
       "<ellipse fill=\"none\" stroke=\"black\" cx=\"322.957\" cy=\"-38.1226\" rx=\"21.8229\" ry=\"21.8229\"/>\n",
       "<ellipse fill=\"none\" stroke=\"black\" cx=\"322.957\" cy=\"-38.1226\" rx=\"25.8081\" ry=\"25.8081\"/>\n",
       "<text text-anchor=\"middle\" x=\"322.957\" y=\"-33.9226\" font-family=\"Times,serif\" font-size=\"14.00\">St4</text>\n",
       "</g>\n",
       "<!-- St2_St3&#45;&gt;St4 -->\n",
       "<g id=\"edge3\" class=\"edge\"><title>St2_St3&#45;&gt;St4</title>\n",
       "<path fill=\"none\" stroke=\"black\" d=\"M254.255,-38.1226C264.867,-38.1226 276.386,-38.1226 286.861,-38.1226\"/>\n",
       "<polygon fill=\"black\" stroke=\"black\" points=\"286.917,-41.6227 296.917,-38.1226 286.917,-34.6227 286.917,-41.6227\"/>\n",
       "<text text-anchor=\"middle\" x=\"275.553\" y=\"-40.9226\" font-family=\"Times,serif\" font-size=\"14.00\">b</text>\n",
       "</g>\n",
       "</g>\n",
       "</svg>\n"
      ],
      "text/plain": [
       "<graphviz.dot.Digraph at 0x10d2ba630>"
      ]
     },
     "execution_count": 8,
     "metadata": {},
     "output_type": "execute_result"
    }
   ],
   "source": [
    "# DFA for the language of \"bb\" generated via re2nfa, nfa2dfa and min_dfa\n",
    "\n",
    "D2 = min_dfa(nfa2dfa(re2nfa(\"bb\")))\n",
    "dotObj_dfa(D2)"
   ]
  },
  {
   "cell_type": "code",
   "execution_count": 9,
   "metadata": {
    "run_control": {
     "frozen": false,
     "read_only": false
    }
   },
   "outputs": [
    {
     "data": {
      "text/plain": [
       "{'Delta': {('BH', 'a'): 'BH',\n",
       "  (\"{'St1'}\", 'a'): \"{'St2', 'St3'}\",\n",
       "  (\"{'St2', 'St3'}\", 'a'): \"{'St4'}\",\n",
       "  (\"{'St4'}\", 'a'): 'BH'},\n",
       " 'F': {\"{'St4'}\"},\n",
       " 'Q': {'BH', \"{'St1'}\", \"{'St2', 'St3'}\", \"{'St4'}\"},\n",
       " 'Sigma': {'a'},\n",
       " 'q0': \"{'St1'}\"}"
      ]
     },
     "execution_count": 9,
     "metadata": {},
     "output_type": "execute_result"
    }
   ],
   "source": [
    "D1"
   ]
  },
  {
   "cell_type": "code",
   "execution_count": 10,
   "metadata": {
    "run_control": {
     "frozen": false,
     "read_only": false
    }
   },
   "outputs": [
    {
     "data": {
      "text/plain": [
       "{'Delta': {('BH', 'b'): 'BH',\n",
       "  (\"{'St1'}\", 'b'): \"{'St2', 'St3'}\",\n",
       "  (\"{'St2', 'St3'}\", 'b'): \"{'St4'}\",\n",
       "  (\"{'St4'}\", 'b'): 'BH'},\n",
       " 'F': {\"{'St4'}\"},\n",
       " 'Q': {'BH', \"{'St1'}\", \"{'St2', 'St3'}\", \"{'St4'}\"},\n",
       " 'Sigma': {'b'},\n",
       " 'q0': \"{'St1'}\"}"
      ]
     },
     "execution_count": 10,
     "metadata": {},
     "output_type": "execute_result"
    }
   ],
   "source": [
    "D2"
   ]
  },
  {
   "cell_type": "code",
   "execution_count": 11,
   "metadata": {
    "run_control": {
     "frozen": false,
     "read_only": false
    }
   },
   "outputs": [
    {
     "name": "stdout",
     "output_type": "stream",
     "text": [
      "Union on DFA with different alphabets.\n",
      "Making alphabets the same (taking unions).\n"
     ]
    },
    {
     "data": {
      "image/svg+xml": [
       "<?xml version=\"1.0\" encoding=\"UTF-8\" standalone=\"no\"?>\n",
       "<!DOCTYPE svg PUBLIC \"-//W3C//DTD SVG 1.1//EN\"\n",
       " \"http://www.w3.org/Graphics/SVG/1.1/DTD/svg11.dtd\">\n",
       "<!-- Generated by graphviz version 2.38.0 (20140413.2041)\n",
       " -->\n",
       "<!-- Title: %3 Pages: 1 -->\n",
       "<svg width=\"682pt\" height=\"298pt\"\n",
       " viewBox=\"0.00 0.00 682.20 297.88\" xmlns=\"http://www.w3.org/2000/svg\" xmlns:xlink=\"http://www.w3.org/1999/xlink\">\n",
       "<g id=\"graph0\" class=\"graph\" transform=\"scale(1 1) rotate(0) translate(4 293.878)\">\n",
       "<title>%3</title>\n",
       "<polygon fill=\"white\" stroke=\"none\" points=\"-4,4 -4,-293.878 678.2,-293.878 678.2,4 -4,4\"/>\n",
       "<!-- EMPTY -->\n",
       "<g id=\"node1\" class=\"node\"><title>EMPTY</title>\n",
       "</g>\n",
       "<!-- \\(&quot;St1&quot;_&quot;St1&quot;\\) -->\n",
       "<g id=\"node4\" class=\"node\"><title>\\(&quot;St1&quot;_&quot;St1&quot;\\)</title>\n",
       "<ellipse fill=\"none\" stroke=\"black\" cx=\"149.452\" cy=\"-158.939\" rx=\"58.4045\" ry=\"58.4045\"/>\n",
       "<text text-anchor=\"middle\" x=\"149.452\" y=\"-154.739\" font-family=\"Times,serif\" font-size=\"14.00\">(&quot;St1&quot;_&quot;St1&quot;)</text>\n",
       "</g>\n",
       "<!-- EMPTY&#45;&gt;\\(&quot;St1&quot;_&quot;St1&quot;\\) -->\n",
       "<g id=\"edge1\" class=\"edge\"><title>EMPTY&#45;&gt;\\(&quot;St1&quot;_&quot;St1&quot;\\)</title>\n",
       "<path fill=\"none\" stroke=\"black\" d=\"M54.1363,-158.939C62.0631,-158.939 71.1646,-158.939 80.5182,-158.939\"/>\n",
       "<polygon fill=\"black\" stroke=\"black\" points=\"80.7233,-162.439 90.7233,-158.939 80.7232,-155.439 80.7233,-162.439\"/>\n",
       "</g>\n",
       "<!-- \\(BH_&quot;St2_St3&quot;\\) -->\n",
       "<g id=\"node2\" class=\"node\"><title>\\(BH_&quot;St2_St3&quot;\\)</title>\n",
       "<ellipse fill=\"none\" stroke=\"black\" cx=\"318.844\" cy=\"-221.939\" rx=\"67.8783\" ry=\"67.8783\"/>\n",
       "<text text-anchor=\"middle\" x=\"318.844\" y=\"-217.739\" font-family=\"Times,serif\" font-size=\"14.00\">(BH_&quot;St2_St3&quot;)</text>\n",
       "</g>\n",
       "<!-- \\(BH_BH\\) -->\n",
       "<g id=\"node5\" class=\"node\"><title>\\(BH_BH\\)</title>\n",
       "<ellipse fill=\"none\" stroke=\"black\" cx=\"629.212\" cy=\"-141.939\" rx=\"44.9768\" ry=\"44.9768\"/>\n",
       "<text text-anchor=\"middle\" x=\"629.212\" y=\"-137.739\" font-family=\"Times,serif\" font-size=\"14.00\">(BH_BH)</text>\n",
       "</g>\n",
       "<!-- \\(BH_&quot;St2_St3&quot;\\)&#45;&gt;\\(BH_BH\\) -->\n",
       "<g id=\"edge6\" class=\"edge\"><title>\\(BH_&quot;St2_St3&quot;\\)&#45;&gt;\\(BH_BH\\)</title>\n",
       "<path fill=\"none\" stroke=\"black\" d=\"M386.823,-227.6C431.849,-229.049 491.774,-226.333 541.223,-207.939 558.155,-201.641 574.536,-190.886 588.429,-179.865\"/>\n",
       "<polygon fill=\"black\" stroke=\"black\" points=\"590.812,-182.436 596.307,-173.377 586.362,-177.033 590.812,-182.436\"/>\n",
       "<text text-anchor=\"middle\" x=\"485.503\" y=\"-229.739\" font-family=\"Times,serif\" font-size=\"14.00\">a</text>\n",
       "</g>\n",
       "<!-- \\(BH_&quot;St4&quot;\\) -->\n",
       "<g id=\"node6\" class=\"node\"><title>\\(BH_&quot;St4&quot;\\)</title>\n",
       "<ellipse fill=\"none\" stroke=\"black\" cx=\"485.503\" cy=\"-142.939\" rx=\"51.9257\" ry=\"51.9257\"/>\n",
       "<ellipse fill=\"none\" stroke=\"black\" cx=\"485.503\" cy=\"-142.939\" rx=\"55.9415\" ry=\"55.9415\"/>\n",
       "<text text-anchor=\"middle\" x=\"485.503\" y=\"-138.739\" font-family=\"Times,serif\" font-size=\"14.00\">(BH_&quot;St4&quot;)</text>\n",
       "</g>\n",
       "<!-- \\(BH_&quot;St2_St3&quot;\\)&#45;&gt;\\(BH_&quot;St4&quot;\\) -->\n",
       "<g id=\"edge11\" class=\"edge\"><title>\\(BH_&quot;St2_St3&quot;\\)&#45;&gt;\\(BH_&quot;St4&quot;\\)</title>\n",
       "<path fill=\"none\" stroke=\"black\" d=\"M380.689,-192.747C395.343,-185.716 410.974,-178.217 425.541,-171.228\"/>\n",
       "<polygon fill=\"black\" stroke=\"black\" points=\"427.436,-174.2 434.938,-166.719 424.408,-167.889 427.436,-174.2\"/>\n",
       "<text text-anchor=\"middle\" x=\"408.283\" y=\"-182.739\" font-family=\"Times,serif\" font-size=\"14.00\">b</text>\n",
       "</g>\n",
       "<!-- \\(&quot;St2_St3&quot;_BH\\) -->\n",
       "<g id=\"node3\" class=\"node\"><title>\\(&quot;St2_St3&quot;_BH\\)</title>\n",
       "<ellipse fill=\"none\" stroke=\"black\" cx=\"318.844\" cy=\"-67.9391\" rx=\"67.8783\" ry=\"67.8783\"/>\n",
       "<text text-anchor=\"middle\" x=\"318.844\" y=\"-63.7391\" font-family=\"Times,serif\" font-size=\"14.00\">(&quot;St2_St3&quot;_BH)</text>\n",
       "</g>\n",
       "<!-- \\(&quot;St2_St3&quot;_BH\\)&#45;&gt;\\(BH_BH\\) -->\n",
       "<g id=\"edge7\" class=\"edge\"><title>\\(&quot;St2_St3&quot;_BH\\)&#45;&gt;\\(BH_BH\\)</title>\n",
       "<path fill=\"none\" stroke=\"black\" d=\"M385.519,-54.1589C430.782,-47.6427 491.5,-44.911 541.223,-63.9391 560.744,-71.4091 578.643,-85.5021 593.063,-99.6764\"/>\n",
       "<polygon fill=\"black\" stroke=\"black\" points=\"590.786,-102.354 600.277,-107.061 595.793,-97.4623 590.786,-102.354\"/>\n",
       "<text text-anchor=\"middle\" x=\"485.503\" y=\"-66.7391\" font-family=\"Times,serif\" font-size=\"14.00\">b</text>\n",
       "</g>\n",
       "<!-- \\(&quot;St2_St3&quot;_BH\\)&#45;&gt;\\(BH_&quot;St4&quot;\\) -->\n",
       "<g id=\"edge5\" class=\"edge\"><title>\\(&quot;St2_St3&quot;_BH\\)&#45;&gt;\\(BH_&quot;St4&quot;\\)</title>\n",
       "<path fill=\"none\" stroke=\"black\" d=\"M381.157,-95.8663C395.558,-102.426 410.878,-109.404 425.19,-115.923\"/>\n",
       "<polygon fill=\"black\" stroke=\"black\" points=\"423.878,-119.171 434.429,-120.131 426.78,-112.801 423.878,-119.171\"/>\n",
       "<text text-anchor=\"middle\" x=\"408.283\" y=\"-112.739\" font-family=\"Times,serif\" font-size=\"14.00\">a</text>\n",
       "</g>\n",
       "<!-- \\(&quot;St1&quot;_&quot;St1&quot;\\)&#45;&gt;\\(BH_&quot;St2_St3&quot;\\) -->\n",
       "<g id=\"edge10\" class=\"edge\"><title>\\(&quot;St1&quot;_&quot;St1&quot;\\)&#45;&gt;\\(BH_&quot;St2_St3&quot;\\)</title>\n",
       "<path fill=\"none\" stroke=\"black\" d=\"M204.337,-179.219C217.461,-184.159 231.709,-189.521 245.535,-194.725\"/>\n",
       "<polygon fill=\"black\" stroke=\"black\" points=\"244.428,-198.048 255.02,-198.295 246.894,-191.497 244.428,-198.048\"/>\n",
       "<text text-anchor=\"middle\" x=\"229.405\" y=\"-190.739\" font-family=\"Times,serif\" font-size=\"14.00\">b</text>\n",
       "</g>\n",
       "<!-- \\(&quot;St1&quot;_&quot;St1&quot;\\)&#45;&gt;\\(&quot;St2_St3&quot;_BH\\) -->\n",
       "<g id=\"edge8\" class=\"edge\"><title>\\(&quot;St1&quot;_&quot;St1&quot;\\)&#45;&gt;\\(&quot;St2_St3&quot;_BH\\)</title>\n",
       "<path fill=\"none\" stroke=\"black\" d=\"M201.129,-131.389C216.474,-123.047 233.583,-113.746 249.868,-104.893\"/>\n",
       "<polygon fill=\"black\" stroke=\"black\" points=\"251.7,-107.881 258.814,-100.03 248.357,-101.731 251.7,-107.881\"/>\n",
       "<text text-anchor=\"middle\" x=\"229.405\" y=\"-119.739\" font-family=\"Times,serif\" font-size=\"14.00\">a</text>\n",
       "</g>\n",
       "<!-- \\(BH_BH\\)&#45;&gt;\\(BH_BH\\) -->\n",
       "<g id=\"edge2\" class=\"edge\"><title>\\(BH_BH\\)&#45;&gt;\\(BH_BH\\)</title>\n",
       "<path fill=\"none\" stroke=\"black\" d=\"M623.147,-186.665C623.645,-197.174 625.667,-204.928 629.212,-204.928 631.483,-204.928 633.129,-201.746 634.149,-196.696\"/>\n",
       "<polygon fill=\"black\" stroke=\"black\" points=\"637.638,-196.994 635.277,-186.665 630.682,-196.212 637.638,-196.994\"/>\n",
       "<text text-anchor=\"middle\" x=\"629.212\" y=\"-207.728\" font-family=\"Times,serif\" font-size=\"14.00\">a</text>\n",
       "</g>\n",
       "<!-- \\(BH_BH\\)&#45;&gt;\\(BH_BH\\) -->\n",
       "<g id=\"edge9\" class=\"edge\"><title>\\(BH_BH\\)&#45;&gt;\\(BH_BH\\)</title>\n",
       "<path fill=\"none\" stroke=\"black\" d=\"M617.082,-185.267C615.758,-205.366 619.802,-222.928 629.212,-222.928 637.005,-222.928 641.117,-210.884 641.549,-195.329\"/>\n",
       "<polygon fill=\"black\" stroke=\"black\" points=\"645.047,-195.193 641.342,-185.267 638.048,-195.337 645.047,-195.193\"/>\n",
       "<text text-anchor=\"middle\" x=\"629.212\" y=\"-225.728\" font-family=\"Times,serif\" font-size=\"14.00\">b</text>\n",
       "</g>\n",
       "<!-- \\(BH_&quot;St4&quot;\\)&#45;&gt;\\(BH_BH\\) -->\n",
       "<g id=\"edge3\" class=\"edge\"><title>\\(BH_&quot;St4&quot;\\)&#45;&gt;\\(BH_BH\\)</title>\n",
       "<path fill=\"none\" stroke=\"black\" d=\"M541.291,-142.552C552.033,-142.477 563.295,-142.397 574.018,-142.322\"/>\n",
       "<polygon fill=\"black\" stroke=\"black\" points=\"574.123,-145.821 584.098,-142.25 574.074,-138.821 574.123,-145.821\"/>\n",
       "<text text-anchor=\"middle\" x=\"562.723\" y=\"-145.739\" font-family=\"Times,serif\" font-size=\"14.00\">a</text>\n",
       "</g>\n",
       "<!-- \\(BH_&quot;St4&quot;\\)&#45;&gt;\\(BH_BH\\) -->\n",
       "<g id=\"edge4\" class=\"edge\"><title>\\(BH_&quot;St4&quot;\\)&#45;&gt;\\(BH_BH\\)</title>\n",
       "<path fill=\"none\" stroke=\"black\" d=\"M538.58,-125.707C547.741,-124.247 557.224,-123.727 566.223,-124.939 569.486,-125.378 572.82,-125.942 576.165,-126.596\"/>\n",
       "<polygon fill=\"black\" stroke=\"black\" points=\"575.658,-130.068 586.175,-128.793 577.158,-123.23 575.658,-130.068\"/>\n",
       "<text text-anchor=\"middle\" x=\"562.723\" y=\"-127.739\" font-family=\"Times,serif\" font-size=\"14.00\">b</text>\n",
       "</g>\n",
       "</g>\n",
       "</svg>\n"
      ],
      "text/plain": [
       "<graphviz.dot.Digraph at 0x10d253400>"
      ]
     },
     "execution_count": 11,
     "metadata": {},
     "output_type": "execute_result"
    }
   ],
   "source": [
    "# The union of the DFA of the aforesaid languages, i.e. {aa,bb}\n",
    "\n",
    "D1or2 = min_dfa(union_dfa(D1,D2))\n",
    "D1or2p = pruneUnreach(D1or2)\n",
    "dotObj_dfa(D1or2)"
   ]
  },
  {
   "cell_type": "code",
   "execution_count": 12,
   "metadata": {
    "run_control": {
     "frozen": false,
     "read_only": false
    }
   },
   "outputs": [
    {
     "name": "stdout",
     "output_type": "stream",
     "text": [
      "Intersection on DFA with different alphabets.\n",
      "Making alphabets the same (taking unions).\n"
     ]
    },
    {
     "data": {
      "image/svg+xml": [
       "<?xml version=\"1.0\" encoding=\"UTF-8\" standalone=\"no\"?>\n",
       "<!DOCTYPE svg PUBLIC \"-//W3C//DTD SVG 1.1//EN\"\n",
       " \"http://www.w3.org/Graphics/SVG/1.1/DTD/svg11.dtd\">\n",
       "<!-- Generated by graphviz version 2.38.0 (20140413.2041)\n",
       " -->\n",
       "<!-- Title: %3 Pages: 1 -->\n",
       "<svg width=\"216pt\" height=\"189pt\"\n",
       " viewBox=\"0.00 0.00 215.90 188.90\" xmlns=\"http://www.w3.org/2000/svg\" xmlns:xlink=\"http://www.w3.org/1999/xlink\">\n",
       "<g id=\"graph0\" class=\"graph\" transform=\"scale(1 1) rotate(0) translate(4 184.905)\">\n",
       "<title>%3</title>\n",
       "<polygon fill=\"white\" stroke=\"none\" points=\"-4,4 -4,-184.905 211.905,-184.905 211.905,4 -4,4\"/>\n",
       "<!-- EMPTY -->\n",
       "<g id=\"node1\" class=\"node\"><title>EMPTY</title>\n",
       "</g>\n",
       "<!-- \\(&quot;St1&quot;_&quot;St1&quot;\\) -->\n",
       "<g id=\"node2\" class=\"node\"><title>\\(&quot;St1&quot;_&quot;St1&quot;\\)</title>\n",
       "<ellipse fill=\"none\" stroke=\"black\" cx=\"149.452\" cy=\"-58.4523\" rx=\"58.4045\" ry=\"58.4045\"/>\n",
       "<text text-anchor=\"middle\" x=\"149.452\" y=\"-54.2523\" font-family=\"Times,serif\" font-size=\"14.00\">(&quot;St1&quot;_&quot;St1&quot;)</text>\n",
       "</g>\n",
       "<!-- EMPTY&#45;&gt;\\(&quot;St1&quot;_&quot;St1&quot;\\) -->\n",
       "<g id=\"edge1\" class=\"edge\"><title>EMPTY&#45;&gt;\\(&quot;St1&quot;_&quot;St1&quot;\\)</title>\n",
       "<path fill=\"none\" stroke=\"black\" d=\"M54.1363,-58.4523C62.0631,-58.4523 71.1646,-58.4523 80.5182,-58.4523\"/>\n",
       "<polygon fill=\"black\" stroke=\"black\" points=\"80.7233,-61.9524 90.7233,-58.4523 80.7232,-54.9524 80.7233,-61.9524\"/>\n",
       "</g>\n",
       "<!-- \\(&quot;St1&quot;_&quot;St1&quot;\\)&#45;&gt;\\(&quot;St1&quot;_&quot;St1&quot;\\) -->\n",
       "<g id=\"edge2\" class=\"edge\"><title>\\(&quot;St1&quot;_&quot;St1&quot;\\)&#45;&gt;\\(&quot;St1&quot;_&quot;St1&quot;\\)</title>\n",
       "<path fill=\"none\" stroke=\"black\" d=\"M142.719,-116.786C143.571,-127.435 145.816,-134.905 149.452,-134.905 151.782,-134.905 153.54,-131.839 154.728,-126.836\"/>\n",
       "<polygon fill=\"black\" stroke=\"black\" points=\"158.213,-127.185 156.186,-116.786 151.286,-126.18 158.213,-127.185\"/>\n",
       "<text text-anchor=\"middle\" x=\"149.452\" y=\"-137.705\" font-family=\"Times,serif\" font-size=\"14.00\">a</text>\n",
       "</g>\n",
       "<!-- \\(&quot;St1&quot;_&quot;St1&quot;\\)&#45;&gt;\\(&quot;St1&quot;_&quot;St1&quot;\\) -->\n",
       "<g id=\"edge3\" class=\"edge\"><title>\\(&quot;St1&quot;_&quot;St1&quot;\\)&#45;&gt;\\(&quot;St1&quot;_&quot;St1&quot;\\)</title>\n",
       "<path fill=\"none\" stroke=\"black\" d=\"M135.224,-115.162C134.838,-135.909 139.581,-152.905 149.452,-152.905 157.627,-152.905 162.284,-141.249 163.425,-125.46\"/>\n",
       "<polygon fill=\"black\" stroke=\"black\" points=\"166.931,-125.245 163.681,-115.162 159.933,-125.072 166.931,-125.245\"/>\n",
       "<text text-anchor=\"middle\" x=\"149.452\" y=\"-155.705\" font-family=\"Times,serif\" font-size=\"14.00\">b</text>\n",
       "</g>\n",
       "</g>\n",
       "</svg>\n"
      ],
      "text/plain": [
       "<graphviz.dot.Digraph at 0x10d253978>"
      ]
     },
     "execution_count": 12,
     "metadata": {},
     "output_type": "execute_result"
    }
   ],
   "source": [
    "# The intersection of {aa} and {bb}\n",
    "\n",
    "D1and2 = min_dfa(intersect_dfa(D1,D2))\n",
    "D1and2p = pruneUnreach(D1and2)\n",
    "dotObj_dfa(D1and2)"
   ]
  },
  {
   "cell_type": "code",
   "execution_count": 13,
   "metadata": {
    "run_control": {
     "frozen": false,
     "read_only": false
    }
   },
   "outputs": [
    {
     "data": {
      "image/svg+xml": [
       "<?xml version=\"1.0\" encoding=\"UTF-8\" standalone=\"no\"?>\n",
       "<!DOCTYPE svg PUBLIC \"-//W3C//DTD SVG 1.1//EN\"\n",
       " \"http://www.w3.org/Graphics/SVG/1.1/DTD/svg11.dtd\">\n",
       "<!-- Generated by graphviz version 2.38.0 (20140413.2041)\n",
       " -->\n",
       "<!-- Title: %3 Pages: 1 -->\n",
       "<svg width=\"216pt\" height=\"171pt\"\n",
       " viewBox=\"0.00 0.00 215.90 170.90\" xmlns=\"http://www.w3.org/2000/svg\" xmlns:xlink=\"http://www.w3.org/1999/xlink\">\n",
       "<g id=\"graph0\" class=\"graph\" transform=\"scale(1 1) rotate(0) translate(4 166.905)\">\n",
       "<title>%3</title>\n",
       "<polygon fill=\"white\" stroke=\"none\" points=\"-4,4 -4,-166.905 211.905,-166.905 211.905,4 -4,4\"/>\n",
       "<!-- EMPTY -->\n",
       "<g id=\"node1\" class=\"node\"><title>EMPTY</title>\n",
       "</g>\n",
       "<!-- \\(&quot;St1&quot;_&quot;St1&quot;\\) -->\n",
       "<g id=\"node2\" class=\"node\"><title>\\(&quot;St1&quot;_&quot;St1&quot;\\)</title>\n",
       "<ellipse fill=\"none\" stroke=\"black\" cx=\"149.452\" cy=\"-58.4523\" rx=\"58.4045\" ry=\"58.4045\"/>\n",
       "<text text-anchor=\"middle\" x=\"149.452\" y=\"-54.2523\" font-family=\"Times,serif\" font-size=\"14.00\">(&quot;St1&quot;_&quot;St1&quot;)</text>\n",
       "</g>\n",
       "<!-- EMPTY&#45;&gt;\\(&quot;St1&quot;_&quot;St1&quot;\\) -->\n",
       "<g id=\"edge1\" class=\"edge\"><title>EMPTY&#45;&gt;\\(&quot;St1&quot;_&quot;St1&quot;\\)</title>\n",
       "<path fill=\"none\" stroke=\"black\" d=\"M54.1363,-58.4523C62.0631,-58.4523 71.1646,-58.4523 80.5182,-58.4523\"/>\n",
       "<polygon fill=\"black\" stroke=\"black\" points=\"80.7233,-61.9524 90.7233,-58.4523 80.7232,-54.9524 80.7233,-61.9524\"/>\n",
       "</g>\n",
       "<!-- \\(&quot;St1&quot;_&quot;St1&quot;\\)&#45;&gt;\\(&quot;St1&quot;_&quot;St1&quot;\\) -->\n",
       "<g id=\"edge2\" class=\"edge\"><title>\\(&quot;St1&quot;_&quot;St1&quot;\\)&#45;&gt;\\(&quot;St1&quot;_&quot;St1&quot;\\)</title>\n",
       "<path fill=\"none\" stroke=\"black\" d=\"M135.79,-115.466C137.328,-126.813 141.882,-134.905 149.452,-134.905 154.539,-134.905 158.263,-131.252 160.626,-125.414\"/>\n",
       "<polygon fill=\"black\" stroke=\"black\" points=\"164.083,-126.017 163.114,-115.466 157.292,-124.318 164.083,-126.017\"/>\n",
       "<text text-anchor=\"middle\" x=\"149.452\" y=\"-151.705\" font-family=\"Times,serif\" font-size=\"14.00\">b </text>\n",
       "<text text-anchor=\"middle\" x=\"149.452\" y=\"-137.705\" font-family=\"Times,serif\" font-size=\"14.00\"> a</text>\n",
       "</g>\n",
       "</g>\n",
       "</svg>\n"
      ],
      "text/plain": [
       "<graphviz.dot.Digraph at 0x10d253668>"
      ]
     },
     "execution_count": 13,
     "metadata": {},
     "output_type": "execute_result"
    }
   ],
   "source": [
    "dotObj_dfa_w_bh(D1and2p, FuseEdges=True)"
   ]
  },
  {
   "cell_type": "code",
   "execution_count": 14,
   "metadata": {
    "run_control": {
     "frozen": false,
     "read_only": false
    }
   },
   "outputs": [
    {
     "name": "stdout",
     "output_type": "stream",
     "text": [
      "The DFA are NOT language equivalent!\n",
      "Path leading to counterexample is: \n",
      "[(\"{'St1'}\", \"{'St1'}\"), (\"{'St2', 'St3'}\", \"{'St2', 'St3'}\"), (\"{'St4', 'St5'}\", \"{'St4', 'St5'}\"), (\"{'St6', 'St7'}\", \"{'St6', 'St7'}\"), (\"{'St8', 'St9'}\", 'BH'), (\"{'St10'}\", 'BH')]\n"
     ]
    },
    {
     "name": "stderr",
     "output_type": "stream",
     "text": [
      "Generating LALR tables\n",
      "Generating LALR tables\n"
     ]
    },
    {
     "data": {
      "text/plain": [
       "False"
      ]
     },
     "execution_count": 14,
     "metadata": {},
     "output_type": "execute_result"
    }
   ],
   "source": [
    "# Another example of the power of the conversions and checking facilities for DFA equivalence\n",
    "\n",
    "\n",
    "d1=nfa2dfa(re2nfa(\"abcde\"))\n",
    "d2=nfa2dfa(re2nfa(\"abced\"))\n",
    "langeq_dfa(d1,d2,True)"
   ]
  },
  {
   "cell_type": "markdown",
   "metadata": {},
   "source": [
    "## Counterexamples\n",
    "\n",
    "When two DFA are not equivalent, one can obtain a counterexample heping us debug. The counterexample\n",
    "is a sequence of pairs of DFA states.\n",
    "\n",
    "```\n",
    "Here the path is\n",
    "\n",
    "(\"{'St1'}\", \"{'St1'}\"),                  -- this pair of states exists in the DFAs below\n",
    "(\"{'St2', 'St3'}\", \"{'St2', 'St3'}\"),    -- this pair also exists\n",
    "(\"{'St4', 'St5'}\", \"{'St4', 'St5'}\"),    -- so does this\n",
    "(\"{'St6', 'St7'}\", \"{'St6', 'St7'}\"),    -- so does this  \n",
    "('BH', \"{'St8', 'St9'}\"),                -- oops, one machine goes into the BH, the other not\n",
    "('BH', \"{'St10'}\")                       -- this too; one machine goes to St10, the other is BH\n",
    "\n",
    "```"
   ]
  },
  {
   "cell_type": "code",
   "execution_count": 15,
   "metadata": {
    "run_control": {
     "frozen": false,
     "read_only": false
    }
   },
   "outputs": [
    {
     "data": {
      "image/svg+xml": [
       "<?xml version=\"1.0\" encoding=\"UTF-8\" standalone=\"no\"?>\n",
       "<!DOCTYPE svg PUBLIC \"-//W3C//DTD SVG 1.1//EN\"\n",
       " \"http://www.w3.org/Graphics/SVG/1.1/DTD/svg11.dtd\">\n",
       "<!-- Generated by graphviz version 2.38.0 (20140413.2041)\n",
       " -->\n",
       "<!-- Title: %3 Pages: 1 -->\n",
       "<svg width=\"721pt\" height=\"84pt\"\n",
       " viewBox=\"0.00 0.00 721.08 84.25\" xmlns=\"http://www.w3.org/2000/svg\" xmlns:xlink=\"http://www.w3.org/1999/xlink\">\n",
       "<g id=\"graph0\" class=\"graph\" transform=\"scale(1 1) rotate(0) translate(4 80.2453)\">\n",
       "<title>%3</title>\n",
       "<polygon fill=\"white\" stroke=\"none\" points=\"-4,4 -4,-80.2453 717.082,-80.2453 717.082,4 -4,4\"/>\n",
       "<!-- EMPTY -->\n",
       "<g id=\"node1\" class=\"node\"><title>EMPTY</title>\n",
       "</g>\n",
       "<!-- St1 -->\n",
       "<g id=\"node6\" class=\"node\"><title>St1</title>\n",
       "<ellipse fill=\"none\" stroke=\"black\" cx=\"112.904\" cy=\"-38.1226\" rx=\"21.8081\" ry=\"21.8081\"/>\n",
       "<text text-anchor=\"middle\" x=\"112.904\" y=\"-33.9226\" font-family=\"Times,serif\" font-size=\"14.00\">St1</text>\n",
       "</g>\n",
       "<!-- EMPTY&#45;&gt;St1 -->\n",
       "<g id=\"edge1\" class=\"edge\"><title>EMPTY&#45;&gt;St1</title>\n",
       "<path fill=\"none\" stroke=\"black\" d=\"M54.0878,-38.1226C62.501,-38.1226 71.9126,-38.1226 80.6587,-38.1226\"/>\n",
       "<polygon fill=\"black\" stroke=\"black\" points=\"80.8854,-41.6227 90.8853,-38.1226 80.8853,-34.6227 80.8854,-41.6227\"/>\n",
       "</g>\n",
       "<!-- St6_St7 -->\n",
       "<g id=\"node2\" class=\"node\"><title>St6_St7</title>\n",
       "<ellipse fill=\"none\" stroke=\"black\" cx=\"452.849\" cy=\"-38.1226\" rx=\"38.2457\" ry=\"38.2457\"/>\n",
       "<text text-anchor=\"middle\" x=\"452.849\" y=\"-33.9226\" font-family=\"Times,serif\" font-size=\"14.00\">St6_St7</text>\n",
       "</g>\n",
       "<!-- St8_St9 -->\n",
       "<g id=\"node3\" class=\"node\"><title>St8_St9</title>\n",
       "<ellipse fill=\"none\" stroke=\"black\" cx=\"572.094\" cy=\"-38.1226\" rx=\"38.2457\" ry=\"38.2457\"/>\n",
       "<text text-anchor=\"middle\" x=\"572.094\" y=\"-33.9226\" font-family=\"Times,serif\" font-size=\"14.00\">St8_St9</text>\n",
       "</g>\n",
       "<!-- St6_St7&#45;&gt;St8_St9 -->\n",
       "<g id=\"edge5\" class=\"edge\"><title>St6_St7&#45;&gt;St8_St9</title>\n",
       "<path fill=\"none\" stroke=\"black\" d=\"M491.268,-38.1226C501.527,-38.1226 512.787,-38.1226 523.533,-38.1226\"/>\n",
       "<polygon fill=\"black\" stroke=\"black\" points=\"523.628,-41.6227 533.628,-38.1226 523.628,-34.6227 523.628,-41.6227\"/>\n",
       "<text text-anchor=\"middle\" x=\"512.471\" y=\"-40.9226\" font-family=\"Times,serif\" font-size=\"14.00\">d</text>\n",
       "</g>\n",
       "<!-- St10 -->\n",
       "<g id=\"node7\" class=\"node\"><title>St10</title>\n",
       "<ellipse fill=\"none\" stroke=\"black\" cx=\"682.756\" cy=\"-38.1226\" rx=\"26.1751\" ry=\"26.1751\"/>\n",
       "<ellipse fill=\"none\" stroke=\"black\" cx=\"682.756\" cy=\"-38.1226\" rx=\"30.1522\" ry=\"30.1522\"/>\n",
       "<text text-anchor=\"middle\" x=\"682.756\" y=\"-33.9226\" font-family=\"Times,serif\" font-size=\"14.00\">St10</text>\n",
       "</g>\n",
       "<!-- St8_St9&#45;&gt;St10 -->\n",
       "<g id=\"edge6\" class=\"edge\"><title>St8_St9&#45;&gt;St10</title>\n",
       "<path fill=\"none\" stroke=\"black\" d=\"M610.489,-38.1226C620.711,-38.1226 631.821,-38.1226 642.161,-38.1226\"/>\n",
       "<polygon fill=\"black\" stroke=\"black\" points=\"642.183,-41.6227 652.183,-38.1226 642.183,-34.6227 642.183,-41.6227\"/>\n",
       "<text text-anchor=\"middle\" x=\"631.324\" y=\"-40.9226\" font-family=\"Times,serif\" font-size=\"14.00\">e</text>\n",
       "</g>\n",
       "<!-- St2_St3 -->\n",
       "<g id=\"node4\" class=\"node\"><title>St2_St3</title>\n",
       "<ellipse fill=\"none\" stroke=\"black\" cx=\"215.144\" cy=\"-38.1226\" rx=\"38.2457\" ry=\"38.2457\"/>\n",
       "<text text-anchor=\"middle\" x=\"215.144\" y=\"-33.9226\" font-family=\"Times,serif\" font-size=\"14.00\">St2_St3</text>\n",
       "</g>\n",
       "<!-- St4_St5 -->\n",
       "<g id=\"node5\" class=\"node\"><title>St4_St5</title>\n",
       "<ellipse fill=\"none\" stroke=\"black\" cx=\"334.39\" cy=\"-38.1226\" rx=\"38.2457\" ry=\"38.2457\"/>\n",
       "<text text-anchor=\"middle\" x=\"334.39\" y=\"-33.9226\" font-family=\"Times,serif\" font-size=\"14.00\">St4_St5</text>\n",
       "</g>\n",
       "<!-- St2_St3&#45;&gt;St4_St5 -->\n",
       "<g id=\"edge3\" class=\"edge\"><title>St2_St3&#45;&gt;St4_St5</title>\n",
       "<path fill=\"none\" stroke=\"black\" d=\"M253.564,-38.1226C263.823,-38.1226 275.083,-38.1226 285.828,-38.1226\"/>\n",
       "<polygon fill=\"black\" stroke=\"black\" points=\"285.923,-41.6227 295.923,-38.1226 285.923,-34.6227 285.923,-41.6227\"/>\n",
       "<text text-anchor=\"middle\" x=\"274.767\" y=\"-40.9226\" font-family=\"Times,serif\" font-size=\"14.00\">b</text>\n",
       "</g>\n",
       "<!-- St4_St5&#45;&gt;St6_St7 -->\n",
       "<g id=\"edge4\" class=\"edge\"><title>St4_St5&#45;&gt;St6_St7</title>\n",
       "<path fill=\"none\" stroke=\"black\" d=\"M372.558,-38.1226C382.748,-38.1226 393.933,-38.1226 404.606,-38.1226\"/>\n",
       "<polygon fill=\"black\" stroke=\"black\" points=\"404.634,-41.6227 414.634,-38.1226 404.634,-34.6227 404.634,-41.6227\"/>\n",
       "<text text-anchor=\"middle\" x=\"393.619\" y=\"-40.9226\" font-family=\"Times,serif\" font-size=\"14.00\">c</text>\n",
       "</g>\n",
       "<!-- St1&#45;&gt;St2_St3 -->\n",
       "<g id=\"edge2\" class=\"edge\"><title>St1&#45;&gt;St2_St3</title>\n",
       "<path fill=\"none\" stroke=\"black\" d=\"M135.162,-38.1226C144.402,-38.1226 155.628,-38.1226 166.68,-38.1226\"/>\n",
       "<polygon fill=\"black\" stroke=\"black\" points=\"166.72,-41.6227 176.72,-38.1226 166.72,-34.6227 166.72,-41.6227\"/>\n",
       "<text text-anchor=\"middle\" x=\"155.915\" y=\"-40.9226\" font-family=\"Times,serif\" font-size=\"14.00\">a</text>\n",
       "</g>\n",
       "</g>\n",
       "</svg>\n"
      ],
      "text/plain": [
       "<graphviz.dot.Digraph at 0x10d25aa20>"
      ]
     },
     "execution_count": 15,
     "metadata": {},
     "output_type": "execute_result"
    }
   ],
   "source": [
    "dotObj_dfa(d1)"
   ]
  },
  {
   "cell_type": "code",
   "execution_count": 16,
   "metadata": {
    "run_control": {
     "frozen": false,
     "read_only": false
    }
   },
   "outputs": [
    {
     "data": {
      "image/svg+xml": [
       "<?xml version=\"1.0\" encoding=\"UTF-8\" standalone=\"no\"?>\n",
       "<!DOCTYPE svg PUBLIC \"-//W3C//DTD SVG 1.1//EN\"\n",
       " \"http://www.w3.org/Graphics/SVG/1.1/DTD/svg11.dtd\">\n",
       "<!-- Generated by graphviz version 2.38.0 (20140413.2041)\n",
       " -->\n",
       "<!-- Title: %3 Pages: 1 -->\n",
       "<svg width=\"721pt\" height=\"84pt\"\n",
       " viewBox=\"0.00 0.00 721.08 84.25\" xmlns=\"http://www.w3.org/2000/svg\" xmlns:xlink=\"http://www.w3.org/1999/xlink\">\n",
       "<g id=\"graph0\" class=\"graph\" transform=\"scale(1 1) rotate(0) translate(4 80.2453)\">\n",
       "<title>%3</title>\n",
       "<polygon fill=\"white\" stroke=\"none\" points=\"-4,4 -4,-80.2453 717.082,-80.2453 717.082,4 -4,4\"/>\n",
       "<!-- EMPTY -->\n",
       "<g id=\"node1\" class=\"node\"><title>EMPTY</title>\n",
       "</g>\n",
       "<!-- St1 -->\n",
       "<g id=\"node6\" class=\"node\"><title>St1</title>\n",
       "<ellipse fill=\"none\" stroke=\"black\" cx=\"112.904\" cy=\"-38.1226\" rx=\"21.8081\" ry=\"21.8081\"/>\n",
       "<text text-anchor=\"middle\" x=\"112.904\" y=\"-33.9226\" font-family=\"Times,serif\" font-size=\"14.00\">St1</text>\n",
       "</g>\n",
       "<!-- EMPTY&#45;&gt;St1 -->\n",
       "<g id=\"edge1\" class=\"edge\"><title>EMPTY&#45;&gt;St1</title>\n",
       "<path fill=\"none\" stroke=\"black\" d=\"M54.0878,-38.1226C62.501,-38.1226 71.9126,-38.1226 80.6587,-38.1226\"/>\n",
       "<polygon fill=\"black\" stroke=\"black\" points=\"80.8854,-41.6227 90.8853,-38.1226 80.8853,-34.6227 80.8854,-41.6227\"/>\n",
       "</g>\n",
       "<!-- St6_St7 -->\n",
       "<g id=\"node2\" class=\"node\"><title>St6_St7</title>\n",
       "<ellipse fill=\"none\" stroke=\"black\" cx=\"452.849\" cy=\"-38.1226\" rx=\"38.2457\" ry=\"38.2457\"/>\n",
       "<text text-anchor=\"middle\" x=\"452.849\" y=\"-33.9226\" font-family=\"Times,serif\" font-size=\"14.00\">St6_St7</text>\n",
       "</g>\n",
       "<!-- St8_St9 -->\n",
       "<g id=\"node3\" class=\"node\"><title>St8_St9</title>\n",
       "<ellipse fill=\"none\" stroke=\"black\" cx=\"571.308\" cy=\"-38.1226\" rx=\"38.2457\" ry=\"38.2457\"/>\n",
       "<text text-anchor=\"middle\" x=\"571.308\" y=\"-33.9226\" font-family=\"Times,serif\" font-size=\"14.00\">St8_St9</text>\n",
       "</g>\n",
       "<!-- St6_St7&#45;&gt;St8_St9 -->\n",
       "<g id=\"edge5\" class=\"edge\"><title>St6_St7&#45;&gt;St8_St9</title>\n",
       "<path fill=\"none\" stroke=\"black\" d=\"M491.017,-38.1226C501.207,-38.1226 512.392,-38.1226 523.065,-38.1226\"/>\n",
       "<polygon fill=\"black\" stroke=\"black\" points=\"523.093,-41.6227 533.093,-38.1226 523.093,-34.6227 523.093,-41.6227\"/>\n",
       "<text text-anchor=\"middle\" x=\"512.078\" y=\"-40.9226\" font-family=\"Times,serif\" font-size=\"14.00\">e</text>\n",
       "</g>\n",
       "<!-- St10 -->\n",
       "<g id=\"node7\" class=\"node\"><title>St10</title>\n",
       "<ellipse fill=\"none\" stroke=\"black\" cx=\"682.756\" cy=\"-38.1226\" rx=\"26.1751\" ry=\"26.1751\"/>\n",
       "<ellipse fill=\"none\" stroke=\"black\" cx=\"682.756\" cy=\"-38.1226\" rx=\"30.1522\" ry=\"30.1522\"/>\n",
       "<text text-anchor=\"middle\" x=\"682.756\" y=\"-33.9226\" font-family=\"Times,serif\" font-size=\"14.00\">St10</text>\n",
       "</g>\n",
       "<!-- St8_St9&#45;&gt;St10 -->\n",
       "<g id=\"edge6\" class=\"edge\"><title>St8_St9&#45;&gt;St10</title>\n",
       "<path fill=\"none\" stroke=\"black\" d=\"M609.668,-38.1226C620.071,-38.1226 631.409,-38.1226 641.948,-38.1226\"/>\n",
       "<polygon fill=\"black\" stroke=\"black\" points=\"642.156,-41.6227 652.156,-38.1226 642.156,-34.6227 642.156,-41.6227\"/>\n",
       "<text text-anchor=\"middle\" x=\"630.93\" y=\"-40.9226\" font-family=\"Times,serif\" font-size=\"14.00\">d</text>\n",
       "</g>\n",
       "<!-- St2_St3 -->\n",
       "<g id=\"node4\" class=\"node\"><title>St2_St3</title>\n",
       "<ellipse fill=\"none\" stroke=\"black\" cx=\"215.144\" cy=\"-38.1226\" rx=\"38.2457\" ry=\"38.2457\"/>\n",
       "<text text-anchor=\"middle\" x=\"215.144\" y=\"-33.9226\" font-family=\"Times,serif\" font-size=\"14.00\">St2_St3</text>\n",
       "</g>\n",
       "<!-- St4_St5 -->\n",
       "<g id=\"node5\" class=\"node\"><title>St4_St5</title>\n",
       "<ellipse fill=\"none\" stroke=\"black\" cx=\"334.39\" cy=\"-38.1226\" rx=\"38.2457\" ry=\"38.2457\"/>\n",
       "<text text-anchor=\"middle\" x=\"334.39\" y=\"-33.9226\" font-family=\"Times,serif\" font-size=\"14.00\">St4_St5</text>\n",
       "</g>\n",
       "<!-- St2_St3&#45;&gt;St4_St5 -->\n",
       "<g id=\"edge3\" class=\"edge\"><title>St2_St3&#45;&gt;St4_St5</title>\n",
       "<path fill=\"none\" stroke=\"black\" d=\"M253.564,-38.1226C263.823,-38.1226 275.083,-38.1226 285.828,-38.1226\"/>\n",
       "<polygon fill=\"black\" stroke=\"black\" points=\"285.923,-41.6227 295.923,-38.1226 285.923,-34.6227 285.923,-41.6227\"/>\n",
       "<text text-anchor=\"middle\" x=\"274.767\" y=\"-40.9226\" font-family=\"Times,serif\" font-size=\"14.00\">b</text>\n",
       "</g>\n",
       "<!-- St4_St5&#45;&gt;St6_St7 -->\n",
       "<g id=\"edge4\" class=\"edge\"><title>St4_St5&#45;&gt;St6_St7</title>\n",
       "<path fill=\"none\" stroke=\"black\" d=\"M372.558,-38.1226C382.748,-38.1226 393.933,-38.1226 404.606,-38.1226\"/>\n",
       "<polygon fill=\"black\" stroke=\"black\" points=\"404.634,-41.6227 414.634,-38.1226 404.634,-34.6227 404.634,-41.6227\"/>\n",
       "<text text-anchor=\"middle\" x=\"393.619\" y=\"-40.9226\" font-family=\"Times,serif\" font-size=\"14.00\">c</text>\n",
       "</g>\n",
       "<!-- St1&#45;&gt;St2_St3 -->\n",
       "<g id=\"edge2\" class=\"edge\"><title>St1&#45;&gt;St2_St3</title>\n",
       "<path fill=\"none\" stroke=\"black\" d=\"M135.162,-38.1226C144.402,-38.1226 155.628,-38.1226 166.68,-38.1226\"/>\n",
       "<polygon fill=\"black\" stroke=\"black\" points=\"166.72,-41.6227 176.72,-38.1226 166.72,-34.6227 166.72,-41.6227\"/>\n",
       "<text text-anchor=\"middle\" x=\"155.915\" y=\"-40.9226\" font-family=\"Times,serif\" font-size=\"14.00\">a</text>\n",
       "</g>\n",
       "</g>\n",
       "</svg>\n"
      ],
      "text/plain": [
       "<graphviz.dot.Digraph at 0x10d25aba8>"
      ]
     },
     "execution_count": 16,
     "metadata": {},
     "output_type": "execute_result"
    }
   ],
   "source": [
    "dotObj_dfa(d2)"
   ]
  },
  {
   "cell_type": "code",
   "execution_count": 17,
   "metadata": {
    "run_control": {
     "frozen": false,
     "read_only": false
    }
   },
   "outputs": [
    {
     "name": "stdout",
     "output_type": "stream",
     "text": [
      "The DFA are NOT language equivalent!\n",
      "Path leading to counterexample is: \n",
      "[('St1', 'St1'), ('St4', 'BH'), ('St5', 'BH')]\n"
     ]
    },
    {
     "name": "stderr",
     "output_type": "stream",
     "text": [
      "Generating LALR tables\n",
      "Generating LALR tables\n"
     ]
    },
    {
     "data": {
      "text/plain": [
       "False"
      ]
     },
     "execution_count": 17,
     "metadata": {},
     "output_type": "execute_result"
    }
   ],
   "source": [
    "# Two other RE-based languages that are not equivalent\n",
    "# We can read the counterexample the same way\n",
    "\n",
    "d1a=nfa2dfa(re2nfa(\"aa*+bc\"))\n",
    "d2a=nfa2dfa(re2nfa(\"a(a*+bc)\"))\n",
    "langeq_dfa(d1a,d2a,True)"
   ]
  },
  {
   "cell_type": "code",
   "execution_count": 18,
   "metadata": {
    "run_control": {
     "frozen": false,
     "read_only": false
    }
   },
   "outputs": [
    {
     "data": {
      "image/svg+xml": [
       "<?xml version=\"1.0\" encoding=\"UTF-8\" standalone=\"no\"?>\n",
       "<!DOCTYPE svg PUBLIC \"-//W3C//DTD SVG 1.1//EN\"\n",
       " \"http://www.w3.org/Graphics/SVG/1.1/DTD/svg11.dtd\">\n",
       "<!-- Generated by graphviz version 2.38.0 (20140413.2041)\n",
       " -->\n",
       "<!-- Title: %3 Pages: 1 -->\n",
       "<svg width=\"332pt\" height=\"162pt\"\n",
       " viewBox=\"0.00 0.00 331.64 161.81\" xmlns=\"http://www.w3.org/2000/svg\" xmlns:xlink=\"http://www.w3.org/1999/xlink\">\n",
       "<g id=\"graph0\" class=\"graph\" transform=\"scale(1 1) rotate(0) translate(4 157.808)\">\n",
       "<title>%3</title>\n",
       "<polygon fill=\"white\" stroke=\"none\" points=\"-4,4 -4,-157.808 327.637,-157.808 327.637,4 -4,4\"/>\n",
       "<!-- EMPTY -->\n",
       "<g id=\"node1\" class=\"node\"><title>EMPTY</title>\n",
       "</g>\n",
       "<!-- St1 -->\n",
       "<g id=\"node3\" class=\"node\"><title>St1</title>\n",
       "<ellipse fill=\"none\" stroke=\"black\" cx=\"112.904\" cy=\"-77.9039\" rx=\"21.8081\" ry=\"21.8081\"/>\n",
       "<text text-anchor=\"middle\" x=\"112.904\" y=\"-73.7039\" font-family=\"Times,serif\" font-size=\"14.00\">St1</text>\n",
       "</g>\n",
       "<!-- EMPTY&#45;&gt;St1 -->\n",
       "<g id=\"edge1\" class=\"edge\"><title>EMPTY&#45;&gt;St1</title>\n",
       "<path fill=\"none\" stroke=\"black\" d=\"M54.0878,-77.9039C62.501,-77.9039 71.9126,-77.9039 80.6587,-77.9039\"/>\n",
       "<polygon fill=\"black\" stroke=\"black\" points=\"80.8854,-81.404 90.8853,-77.9039 80.8853,-74.404 80.8854,-81.404\"/>\n",
       "</g>\n",
       "<!-- St4 -->\n",
       "<g id=\"node2\" class=\"node\"><title>St4</title>\n",
       "<ellipse fill=\"none\" stroke=\"black\" cx=\"203.712\" cy=\"-109.904\" rx=\"21.8081\" ry=\"21.8081\"/>\n",
       "<text text-anchor=\"middle\" x=\"203.712\" y=\"-105.704\" font-family=\"Times,serif\" font-size=\"14.00\">St4</text>\n",
       "</g>\n",
       "<!-- St5 -->\n",
       "<g id=\"node6\" class=\"node\"><title>St5</title>\n",
       "<ellipse fill=\"none\" stroke=\"black\" cx=\"297.733\" cy=\"-127.904\" rx=\"21.8229\" ry=\"21.8229\"/>\n",
       "<ellipse fill=\"none\" stroke=\"black\" cx=\"297.733\" cy=\"-127.904\" rx=\"25.8081\" ry=\"25.8081\"/>\n",
       "<text text-anchor=\"middle\" x=\"297.733\" y=\"-123.704\" font-family=\"Times,serif\" font-size=\"14.00\">St5</text>\n",
       "</g>\n",
       "<!-- St4&#45;&gt;St5 -->\n",
       "<g id=\"edge4\" class=\"edge\"><title>St4&#45;&gt;St5</title>\n",
       "<path fill=\"none\" stroke=\"black\" d=\"M225.593,-113.988C236.364,-116.095 249.786,-118.721 262.06,-121.122\"/>\n",
       "<polygon fill=\"black\" stroke=\"black\" points=\"261.53,-124.584 272.016,-123.069 262.874,-117.714 261.53,-124.584\"/>\n",
       "<text text-anchor=\"middle\" x=\"250.722\" y=\"-121.704\" font-family=\"Times,serif\" font-size=\"14.00\">c</text>\n",
       "</g>\n",
       "<!-- St1&#45;&gt;St4 -->\n",
       "<g id=\"edge2\" class=\"edge\"><title>St1&#45;&gt;St4</title>\n",
       "<path fill=\"none\" stroke=\"black\" d=\"M134.056,-85.1652C145.719,-89.3678 160.602,-94.7307 173.528,-99.3883\"/>\n",
       "<polygon fill=\"black\" stroke=\"black\" points=\"172.351,-102.684 182.945,-102.782 174.724,-96.0988 172.351,-102.684\"/>\n",
       "<text text-anchor=\"middle\" x=\"156.308\" y=\"-96.7039\" font-family=\"Times,serif\" font-size=\"14.00\">b</text>\n",
       "</g>\n",
       "<!-- St2 -->\n",
       "<g id=\"node4\" class=\"node\"><title>St2</title>\n",
       "<ellipse fill=\"none\" stroke=\"black\" cx=\"203.712\" cy=\"-39.9039\" rx=\"21.8229\" ry=\"21.8229\"/>\n",
       "<ellipse fill=\"none\" stroke=\"black\" cx=\"203.712\" cy=\"-39.9039\" rx=\"25.8081\" ry=\"25.8081\"/>\n",
       "<text text-anchor=\"middle\" x=\"203.712\" y=\"-35.7039\" font-family=\"Times,serif\" font-size=\"14.00\">St2</text>\n",
       "</g>\n",
       "<!-- St1&#45;&gt;St2 -->\n",
       "<g id=\"edge3\" class=\"edge\"><title>St1&#45;&gt;St2</title>\n",
       "<path fill=\"none\" stroke=\"black\" d=\"M133.613,-69.4704C144.339,-64.8811 157.883,-59.0857 170.132,-53.8444\"/>\n",
       "<polygon fill=\"black\" stroke=\"black\" points=\"171.783,-56.9451 179.599,-49.7934 169.029,-50.5095 171.783,-56.9451\"/>\n",
       "<text text-anchor=\"middle\" x=\"156.308\" y=\"-64.7039\" font-family=\"Times,serif\" font-size=\"14.00\">a</text>\n",
       "</g>\n",
       "<!-- St3 -->\n",
       "<g id=\"node5\" class=\"node\"><title>St3</title>\n",
       "<ellipse fill=\"none\" stroke=\"black\" cx=\"297.733\" cy=\"-25.9039\" rx=\"21.8229\" ry=\"21.8229\"/>\n",
       "<ellipse fill=\"none\" stroke=\"black\" cx=\"297.733\" cy=\"-25.9039\" rx=\"25.8081\" ry=\"25.8081\"/>\n",
       "<text text-anchor=\"middle\" x=\"297.733\" y=\"-21.7039\" font-family=\"Times,serif\" font-size=\"14.00\">St3</text>\n",
       "</g>\n",
       "<!-- St2&#45;&gt;St3 -->\n",
       "<g id=\"edge5\" class=\"edge\"><title>St2&#45;&gt;St3</title>\n",
       "<path fill=\"none\" stroke=\"black\" d=\"M229.372,-36.1521C239.377,-34.6299 251.113,-32.8444 261.962,-31.1939\"/>\n",
       "<polygon fill=\"black\" stroke=\"black\" points=\"262.645,-34.6303 272.005,-29.666 261.592,-27.7099 262.645,-34.6303\"/>\n",
       "<text text-anchor=\"middle\" x=\"250.722\" y=\"-36.7039\" font-family=\"Times,serif\" font-size=\"14.00\">a</text>\n",
       "</g>\n",
       "<!-- St3&#45;&gt;St3 -->\n",
       "<g id=\"edge6\" class=\"edge\"><title>St3&#45;&gt;St3</title>\n",
       "<path fill=\"none\" stroke=\"black\" d=\"M289.184,-50.7276C288.594,-61.0541 291.444,-69.8077 297.733,-69.8077 301.762,-69.8077 304.38,-66.2152 305.585,-60.9182\"/>\n",
       "<polygon fill=\"black\" stroke=\"black\" points=\"309.092,-60.9431 306.282,-50.7276 302.108,-60.4654 309.092,-60.9431\"/>\n",
       "<text text-anchor=\"middle\" x=\"297.733\" y=\"-72.6077\" font-family=\"Times,serif\" font-size=\"14.00\">a</text>\n",
       "</g>\n",
       "</g>\n",
       "</svg>\n"
      ],
      "text/plain": [
       "<graphviz.dot.Digraph at 0x10c931d68>"
      ]
     },
     "execution_count": 18,
     "metadata": {},
     "output_type": "execute_result"
    }
   ],
   "source": [
    "dotObj_dfa(d1a)"
   ]
  },
  {
   "cell_type": "code",
   "execution_count": 19,
   "metadata": {
    "run_control": {
     "frozen": false,
     "read_only": false
    }
   },
   "outputs": [
    {
     "data": {
      "image/svg+xml": [
       "<?xml version=\"1.0\" encoding=\"UTF-8\" standalone=\"no\"?>\n",
       "<!DOCTYPE svg PUBLIC \"-//W3C//DTD SVG 1.1//EN\"\n",
       " \"http://www.w3.org/Graphics/SVG/1.1/DTD/svg11.dtd\">\n",
       "<!-- Generated by graphviz version 2.38.0 (20140413.2041)\n",
       " -->\n",
       "<!-- Title: %3 Pages: 1 -->\n",
       "<svg width=\"426pt\" height=\"158pt\"\n",
       " viewBox=\"0.00 0.00 425.66 157.81\" xmlns=\"http://www.w3.org/2000/svg\" xmlns:xlink=\"http://www.w3.org/1999/xlink\">\n",
       "<g id=\"graph0\" class=\"graph\" transform=\"scale(1 1) rotate(0) translate(4 153.808)\">\n",
       "<title>%3</title>\n",
       "<polygon fill=\"white\" stroke=\"none\" points=\"-4,4 -4,-153.808 421.659,-153.808 421.659,4 -4,4\"/>\n",
       "<!-- EMPTY -->\n",
       "<g id=\"node1\" class=\"node\"><title>EMPTY</title>\n",
       "</g>\n",
       "<!-- St1 -->\n",
       "<g id=\"node3\" class=\"node\"><title>St1</title>\n",
       "<ellipse fill=\"none\" stroke=\"black\" cx=\"112.904\" cy=\"-81.9039\" rx=\"21.8081\" ry=\"21.8081\"/>\n",
       "<text text-anchor=\"middle\" x=\"112.904\" y=\"-77.7039\" font-family=\"Times,serif\" font-size=\"14.00\">St1</text>\n",
       "</g>\n",
       "<!-- EMPTY&#45;&gt;St1 -->\n",
       "<g id=\"edge1\" class=\"edge\"><title>EMPTY&#45;&gt;St1</title>\n",
       "<path fill=\"none\" stroke=\"black\" d=\"M54.0878,-81.9039C62.501,-81.9039 71.9126,-81.9039 80.6587,-81.9039\"/>\n",
       "<polygon fill=\"black\" stroke=\"black\" points=\"80.8854,-85.404 90.8853,-81.9039 80.8853,-78.404 80.8854,-85.404\"/>\n",
       "</g>\n",
       "<!-- St4 -->\n",
       "<g id=\"node2\" class=\"node\"><title>St4</title>\n",
       "<ellipse fill=\"none\" stroke=\"black\" cx=\"297.733\" cy=\"-123.904\" rx=\"21.8081\" ry=\"21.8081\"/>\n",
       "<text text-anchor=\"middle\" x=\"297.733\" y=\"-119.704\" font-family=\"Times,serif\" font-size=\"14.00\">St4</text>\n",
       "</g>\n",
       "<!-- St5 -->\n",
       "<g id=\"node6\" class=\"node\"><title>St5</title>\n",
       "<ellipse fill=\"none\" stroke=\"black\" cx=\"391.755\" cy=\"-123.904\" rx=\"21.8229\" ry=\"21.8229\"/>\n",
       "<ellipse fill=\"none\" stroke=\"black\" cx=\"391.755\" cy=\"-123.904\" rx=\"25.8081\" ry=\"25.8081\"/>\n",
       "<text text-anchor=\"middle\" x=\"391.755\" y=\"-119.704\" font-family=\"Times,serif\" font-size=\"14.00\">St5</text>\n",
       "</g>\n",
       "<!-- St4&#45;&gt;St5 -->\n",
       "<g id=\"edge5\" class=\"edge\"><title>St4&#45;&gt;St5</title>\n",
       "<path fill=\"none\" stroke=\"black\" d=\"M320.076,-123.904C330.589,-123.904 343.541,-123.904 355.473,-123.904\"/>\n",
       "<polygon fill=\"black\" stroke=\"black\" points=\"355.61,-127.404 365.609,-123.904 355.609,-120.404 355.61,-127.404\"/>\n",
       "<text text-anchor=\"middle\" x=\"344.744\" y=\"-126.704\" font-family=\"Times,serif\" font-size=\"14.00\">c</text>\n",
       "</g>\n",
       "<!-- St2 -->\n",
       "<g id=\"node5\" class=\"node\"><title>St2</title>\n",
       "<ellipse fill=\"none\" stroke=\"black\" cx=\"202.925\" cy=\"-81.9039\" rx=\"21.8229\" ry=\"21.8229\"/>\n",
       "<ellipse fill=\"none\" stroke=\"black\" cx=\"202.925\" cy=\"-81.9039\" rx=\"25.8081\" ry=\"25.8081\"/>\n",
       "<text text-anchor=\"middle\" x=\"202.925\" y=\"-77.7039\" font-family=\"Times,serif\" font-size=\"14.00\">St2</text>\n",
       "</g>\n",
       "<!-- St1&#45;&gt;St2 -->\n",
       "<g id=\"edge2\" class=\"edge\"><title>St1&#45;&gt;St2</title>\n",
       "<path fill=\"none\" stroke=\"black\" d=\"M135.211,-81.9039C144.599,-81.9039 155.884,-81.9039 166.479,-81.9039\"/>\n",
       "<polygon fill=\"black\" stroke=\"black\" points=\"166.75,-85.404 176.75,-81.9039 166.75,-78.404 166.75,-85.404\"/>\n",
       "<text text-anchor=\"middle\" x=\"155.915\" y=\"-84.7039\" font-family=\"Times,serif\" font-size=\"14.00\">a</text>\n",
       "</g>\n",
       "<!-- St3 -->\n",
       "<g id=\"node4\" class=\"node\"><title>St3</title>\n",
       "<ellipse fill=\"none\" stroke=\"black\" cx=\"297.733\" cy=\"-25.9039\" rx=\"21.8229\" ry=\"21.8229\"/>\n",
       "<ellipse fill=\"none\" stroke=\"black\" cx=\"297.733\" cy=\"-25.9039\" rx=\"25.8081\" ry=\"25.8081\"/>\n",
       "<text text-anchor=\"middle\" x=\"297.733\" y=\"-21.7039\" font-family=\"Times,serif\" font-size=\"14.00\">St3</text>\n",
       "</g>\n",
       "<!-- St3&#45;&gt;St3 -->\n",
       "<g id=\"edge6\" class=\"edge\"><title>St3&#45;&gt;St3</title>\n",
       "<path fill=\"none\" stroke=\"black\" d=\"M289.184,-50.7276C288.594,-61.0541 291.444,-69.8077 297.733,-69.8077 301.762,-69.8077 304.38,-66.2152 305.585,-60.9182\"/>\n",
       "<polygon fill=\"black\" stroke=\"black\" points=\"309.092,-60.9431 306.282,-50.7276 302.108,-60.4654 309.092,-60.9431\"/>\n",
       "<text text-anchor=\"middle\" x=\"297.733\" y=\"-72.6077\" font-family=\"Times,serif\" font-size=\"14.00\">a</text>\n",
       "</g>\n",
       "<!-- St2&#45;&gt;St4 -->\n",
       "<g id=\"edge3\" class=\"edge\"><title>St2&#45;&gt;St4</title>\n",
       "<path fill=\"none\" stroke=\"black\" d=\"M226.867,-92.2859C239.393,-97.9546 255.014,-105.024 268.308,-111.04\"/>\n",
       "<polygon fill=\"black\" stroke=\"black\" points=\"266.945,-114.265 277.498,-115.199 269.831,-107.887 266.945,-114.265\"/>\n",
       "<text text-anchor=\"middle\" x=\"250.329\" y=\"-107.704\" font-family=\"Times,serif\" font-size=\"14.00\">b</text>\n",
       "</g>\n",
       "<!-- St2&#45;&gt;St3 -->\n",
       "<g id=\"edge4\" class=\"edge\"><title>St2&#45;&gt;St3</title>\n",
       "<path fill=\"none\" stroke=\"black\" d=\"M225.451,-68.9156C237.546,-61.6175 252.842,-52.3875 266.162,-44.3507\"/>\n",
       "<polygon fill=\"black\" stroke=\"black\" points=\"268.249,-47.1788 275.003,-39.0157 264.633,-41.1853 268.249,-47.1788\"/>\n",
       "<text text-anchor=\"middle\" x=\"250.329\" y=\"-58.7039\" font-family=\"Times,serif\" font-size=\"14.00\">a</text>\n",
       "</g>\n",
       "</g>\n",
       "</svg>\n"
      ],
      "text/plain": [
       "<graphviz.dot.Digraph at 0x10d2684a8>"
      ]
     },
     "execution_count": 19,
     "metadata": {},
     "output_type": "execute_result"
    }
   ],
   "source": [
    "dotObj_dfa(d2a)"
   ]
  },
  {
   "cell_type": "code",
   "execution_count": 20,
   "metadata": {
    "run_control": {
     "frozen": false,
     "read_only": false
    }
   },
   "outputs": [
    {
     "name": "stderr",
     "output_type": "stream",
     "text": [
      "Generating LALR tables\n",
      "Generating LALR tables\n"
     ]
    },
    {
     "data": {
      "text/plain": [
       "True"
      ]
     },
     "execution_count": 20,
     "metadata": {},
     "output_type": "execute_result"
    }
   ],
   "source": [
    "d1b=nfa2dfa(re2nfa(\"aaa*+aa*bc+bcaa*+bcbc\"))\n",
    "d2b=nfa2dfa(re2nfa(\"(aa*+bc)(aa*+bc)\"))\n",
    "langeq_dfa(d1b,d2b,True)"
   ]
  },
  {
   "cell_type": "code",
   "execution_count": 21,
   "metadata": {
    "run_control": {
     "frozen": false,
     "read_only": false
    }
   },
   "outputs": [
    {
     "data": {
      "image/svg+xml": [
       "<?xml version=\"1.0\" encoding=\"UTF-8\" standalone=\"no\"?>\n",
       "<!DOCTYPE svg PUBLIC \"-//W3C//DTD SVG 1.1//EN\"\n",
       " \"http://www.w3.org/Graphics/SVG/1.1/DTD/svg11.dtd\">\n",
       "<!-- Generated by graphviz version 2.38.0 (20140413.2041)\n",
       " -->\n",
       "<!-- Title: %3 Pages: 1 -->\n",
       "<svg width=\"616pt\" height=\"333pt\"\n",
       " viewBox=\"0.00 0.00 616.31 333.23\" xmlns=\"http://www.w3.org/2000/svg\" xmlns:xlink=\"http://www.w3.org/1999/xlink\">\n",
       "<g id=\"graph0\" class=\"graph\" transform=\"scale(1 1) rotate(0) translate(4 329.229)\">\n",
       "<title>%3</title>\n",
       "<polygon fill=\"white\" stroke=\"none\" points=\"-4,4 -4,-329.229 612.313,-329.229 612.313,4 -4,4\"/>\n",
       "<!-- EMPTY -->\n",
       "<g id=\"node1\" class=\"node\"><title>EMPTY</title>\n",
       "</g>\n",
       "<!-- St1 -->\n",
       "<g id=\"node2\" class=\"node\"><title>St1</title>\n",
       "<ellipse fill=\"none\" stroke=\"black\" cx=\"112.904\" cy=\"-228.326\" rx=\"21.8081\" ry=\"21.8081\"/>\n",
       "<text text-anchor=\"middle\" x=\"112.904\" y=\"-224.126\" font-family=\"Times,serif\" font-size=\"14.00\">St1</text>\n",
       "</g>\n",
       "<!-- EMPTY&#45;&gt;St1 -->\n",
       "<g id=\"edge1\" class=\"edge\"><title>EMPTY&#45;&gt;St1</title>\n",
       "<path fill=\"none\" stroke=\"black\" d=\"M54.0878,-228.326C62.501,-228.326 71.9126,-228.326 80.6587,-228.326\"/>\n",
       "<polygon fill=\"black\" stroke=\"black\" points=\"80.8854,-231.826 90.8853,-228.326 80.8853,-224.826 80.8854,-231.826\"/>\n",
       "</g>\n",
       "<!-- St4 -->\n",
       "<g id=\"node6\" class=\"node\"><title>St4</title>\n",
       "<ellipse fill=\"none\" stroke=\"black\" cx=\"199.712\" cy=\"-263.326\" rx=\"21.8081\" ry=\"21.8081\"/>\n",
       "<text text-anchor=\"middle\" x=\"199.712\" y=\"-259.126\" font-family=\"Times,serif\" font-size=\"14.00\">St4</text>\n",
       "</g>\n",
       "<!-- St1&#45;&gt;St4 -->\n",
       "<g id=\"edge2\" class=\"edge\"><title>St1&#45;&gt;St4</title>\n",
       "<path fill=\"none\" stroke=\"black\" d=\"M133.574,-236.443C144.277,-240.861 157.725,-246.411 169.618,-251.319\"/>\n",
       "<polygon fill=\"black\" stroke=\"black\" points=\"168.57,-254.672 179.149,-255.252 171.24,-248.202 168.57,-254.672\"/>\n",
       "<text text-anchor=\"middle\" x=\"156.308\" y=\"-249.126\" font-family=\"Times,serif\" font-size=\"14.00\">a</text>\n",
       "</g>\n",
       "<!-- St7 -->\n",
       "<g id=\"node7\" class=\"node\"><title>St7</title>\n",
       "<ellipse fill=\"none\" stroke=\"black\" cx=\"199.712\" cy=\"-185.326\" rx=\"21.8081\" ry=\"21.8081\"/>\n",
       "<text text-anchor=\"middle\" x=\"199.712\" y=\"-181.126\" font-family=\"Times,serif\" font-size=\"14.00\">St7</text>\n",
       "</g>\n",
       "<!-- St1&#45;&gt;St7 -->\n",
       "<g id=\"edge3\" class=\"edge\"><title>St1&#45;&gt;St7</title>\n",
       "<path fill=\"none\" stroke=\"black\" d=\"M132.725,-218.783C143.925,-213.104 158.342,-205.794 170.842,-199.456\"/>\n",
       "<polygon fill=\"black\" stroke=\"black\" points=\"172.606,-202.486 179.943,-194.842 169.441,-196.243 172.606,-202.486\"/>\n",
       "<text text-anchor=\"middle\" x=\"156.308\" y=\"-211.126\" font-family=\"Times,serif\" font-size=\"14.00\">b</text>\n",
       "</g>\n",
       "<!-- St11 -->\n",
       "<g id=\"node3\" class=\"node\"><title>St11</title>\n",
       "<ellipse fill=\"none\" stroke=\"black\" cx=\"384.639\" cy=\"-135.326\" rx=\"26.0035\" ry=\"26.0035\"/>\n",
       "<text text-anchor=\"middle\" x=\"384.639\" y=\"-131.126\" font-family=\"Times,serif\" font-size=\"14.00\">St11</text>\n",
       "</g>\n",
       "<!-- St12 -->\n",
       "<g id=\"node13\" class=\"node\"><title>St12</title>\n",
       "<ellipse fill=\"none\" stroke=\"black\" cx=\"483.966\" cy=\"-141.326\" rx=\"26.1751\" ry=\"26.1751\"/>\n",
       "<ellipse fill=\"none\" stroke=\"black\" cx=\"483.966\" cy=\"-141.326\" rx=\"30.1522\" ry=\"30.1522\"/>\n",
       "<text text-anchor=\"middle\" x=\"483.966\" y=\"-137.126\" font-family=\"Times,serif\" font-size=\"14.00\">St12</text>\n",
       "</g>\n",
       "<!-- St11&#45;&gt;St12 -->\n",
       "<g id=\"edge15\" class=\"edge\"><title>St11&#45;&gt;St12</title>\n",
       "<path fill=\"none\" stroke=\"black\" d=\"M410.703,-136.871C420.605,-137.481 432.228,-138.198 443.221,-138.875\"/>\n",
       "<polygon fill=\"black\" stroke=\"black\" points=\"443.296,-142.387 453.492,-139.509 443.727,-135.4 443.296,-142.387\"/>\n",
       "<text text-anchor=\"middle\" x=\"432.141\" y=\"-141.126\" font-family=\"Times,serif\" font-size=\"14.00\">c</text>\n",
       "</g>\n",
       "<!-- St8 -->\n",
       "<g id=\"node4\" class=\"node\"><title>St8</title>\n",
       "<ellipse fill=\"none\" stroke=\"black\" cx=\"289.733\" cy=\"-135.326\" rx=\"21.8081\" ry=\"21.8081\"/>\n",
       "<text text-anchor=\"middle\" x=\"289.733\" y=\"-131.126\" font-family=\"Times,serif\" font-size=\"14.00\">St8</text>\n",
       "</g>\n",
       "<!-- St8&#45;&gt;St11 -->\n",
       "<g id=\"edge11\" class=\"edge\"><title>St8&#45;&gt;St11</title>\n",
       "<path fill=\"none\" stroke=\"black\" d=\"M311.815,-135.326C322.498,-135.326 335.764,-135.326 347.976,-135.326\"/>\n",
       "<polygon fill=\"black\" stroke=\"black\" points=\"348.346,-138.826 358.346,-135.326 348.346,-131.826 348.346,-138.826\"/>\n",
       "<text text-anchor=\"middle\" x=\"337.137\" y=\"-138.126\" font-family=\"Times,serif\" font-size=\"14.00\">b</text>\n",
       "</g>\n",
       "<!-- St9 -->\n",
       "<g id=\"node12\" class=\"node\"><title>St9</title>\n",
       "<ellipse fill=\"none\" stroke=\"black\" cx=\"384.639\" cy=\"-60.3256\" rx=\"21.8229\" ry=\"21.8229\"/>\n",
       "<ellipse fill=\"none\" stroke=\"black\" cx=\"384.639\" cy=\"-60.3256\" rx=\"25.8081\" ry=\"25.8081\"/>\n",
       "<text text-anchor=\"middle\" x=\"384.639\" y=\"-56.1256\" font-family=\"Times,serif\" font-size=\"14.00\">St9</text>\n",
       "</g>\n",
       "<!-- St8&#45;&gt;St9 -->\n",
       "<g id=\"edge10\" class=\"edge\"><title>St8&#45;&gt;St9</title>\n",
       "<path fill=\"none\" stroke=\"black\" d=\"M307.343,-121.917C320.854,-111.01 340.207,-95.3865 356.041,-82.6047\"/>\n",
       "<polygon fill=\"black\" stroke=\"black\" points=\"358.368,-85.2245 363.95,-76.2197 353.971,-79.7778 358.368,-85.2245\"/>\n",
       "<text text-anchor=\"middle\" x=\"337.137\" y=\"-103.126\" font-family=\"Times,serif\" font-size=\"14.00\">a</text>\n",
       "</g>\n",
       "<!-- St5 -->\n",
       "<g id=\"node5\" class=\"node\"><title>St5</title>\n",
       "<ellipse fill=\"none\" stroke=\"black\" cx=\"483.966\" cy=\"-299.326\" rx=\"21.8081\" ry=\"21.8081\"/>\n",
       "<text text-anchor=\"middle\" x=\"483.966\" y=\"-295.126\" font-family=\"Times,serif\" font-size=\"14.00\">St5</text>\n",
       "</g>\n",
       "<!-- St6 -->\n",
       "<g id=\"node10\" class=\"node\"><title>St6</title>\n",
       "<ellipse fill=\"none\" stroke=\"black\" cx=\"582.409\" cy=\"-299.326\" rx=\"21.8229\" ry=\"21.8229\"/>\n",
       "<ellipse fill=\"none\" stroke=\"black\" cx=\"582.409\" cy=\"-299.326\" rx=\"25.8081\" ry=\"25.8081\"/>\n",
       "<text text-anchor=\"middle\" x=\"582.409\" y=\"-295.126\" font-family=\"Times,serif\" font-size=\"14.00\">St6</text>\n",
       "</g>\n",
       "<!-- St5&#45;&gt;St6 -->\n",
       "<g id=\"edge9\" class=\"edge\"><title>St5&#45;&gt;St6</title>\n",
       "<path fill=\"none\" stroke=\"black\" d=\"M505.893,-299.326C517.724,-299.326 532.824,-299.326 546.408,-299.326\"/>\n",
       "<polygon fill=\"black\" stroke=\"black\" points=\"546.42,-302.826 556.42,-299.326 546.42,-295.826 546.42,-302.826\"/>\n",
       "<text text-anchor=\"middle\" x=\"535.399\" y=\"-302.126\" font-family=\"Times,serif\" font-size=\"14.00\">c</text>\n",
       "</g>\n",
       "<!-- St4&#45;&gt;St5 -->\n",
       "<g id=\"edge5\" class=\"edge\"><title>St4&#45;&gt;St5</title>\n",
       "<path fill=\"none\" stroke=\"black\" d=\"M217.986,-275.739C230.166,-283.757 247.209,-293.555 263.829,-298.326 328.724,-316.951 408.951,-310.235 452.069,-304.36\"/>\n",
       "<polygon fill=\"black\" stroke=\"black\" points=\"452.801,-307.791 462.2,-302.901 451.803,-300.863 452.801,-307.791\"/>\n",
       "<text text-anchor=\"middle\" x=\"337.137\" y=\"-312.126\" font-family=\"Times,serif\" font-size=\"14.00\">b</text>\n",
       "</g>\n",
       "<!-- St2 -->\n",
       "<g id=\"node8\" class=\"node\"><title>St2</title>\n",
       "<ellipse fill=\"none\" stroke=\"black\" cx=\"289.733\" cy=\"-263.326\" rx=\"21.8229\" ry=\"21.8229\"/>\n",
       "<ellipse fill=\"none\" stroke=\"black\" cx=\"289.733\" cy=\"-263.326\" rx=\"25.8081\" ry=\"25.8081\"/>\n",
       "<text text-anchor=\"middle\" x=\"289.733\" y=\"-259.126\" font-family=\"Times,serif\" font-size=\"14.00\">St2</text>\n",
       "</g>\n",
       "<!-- St4&#45;&gt;St2 -->\n",
       "<g id=\"edge4\" class=\"edge\"><title>St4&#45;&gt;St2</title>\n",
       "<path fill=\"none\" stroke=\"black\" d=\"M222.019,-263.326C231.406,-263.326 242.691,-263.326 253.287,-263.326\"/>\n",
       "<polygon fill=\"black\" stroke=\"black\" points=\"253.558,-266.826 263.558,-263.326 253.558,-259.826 253.558,-266.826\"/>\n",
       "<text text-anchor=\"middle\" x=\"242.722\" y=\"-266.126\" font-family=\"Times,serif\" font-size=\"14.00\">a</text>\n",
       "</g>\n",
       "<!-- St7&#45;&gt;St8 -->\n",
       "<g id=\"edge6\" class=\"edge\"><title>St7&#45;&gt;St8</title>\n",
       "<path fill=\"none\" stroke=\"black\" d=\"M219.379,-174.722C231.597,-167.781 247.77,-158.595 261.424,-150.838\"/>\n",
       "<polygon fill=\"black\" stroke=\"black\" points=\"263.428,-153.725 270.395,-145.743 259.971,-147.639 263.428,-153.725\"/>\n",
       "<text text-anchor=\"middle\" x=\"242.722\" y=\"-165.126\" font-family=\"Times,serif\" font-size=\"14.00\">c</text>\n",
       "</g>\n",
       "<!-- St2&#45;&gt;St5 -->\n",
       "<g id=\"edge8\" class=\"edge\"><title>St2&#45;&gt;St5</title>\n",
       "<path fill=\"none\" stroke=\"black\" d=\"M315.471,-267.958C350.415,-274.502 414.195,-286.447 452.166,-293.558\"/>\n",
       "<polygon fill=\"black\" stroke=\"black\" points=\"451.673,-297.026 462.146,-295.427 452.961,-290.146 451.673,-297.026\"/>\n",
       "<text text-anchor=\"middle\" x=\"384.639\" y=\"-288.126\" font-family=\"Times,serif\" font-size=\"14.00\">b</text>\n",
       "</g>\n",
       "<!-- St3 -->\n",
       "<g id=\"node11\" class=\"node\"><title>St3</title>\n",
       "<ellipse fill=\"none\" stroke=\"black\" cx=\"384.639\" cy=\"-205.326\" rx=\"21.8229\" ry=\"21.8229\"/>\n",
       "<ellipse fill=\"none\" stroke=\"black\" cx=\"384.639\" cy=\"-205.326\" rx=\"25.8081\" ry=\"25.8081\"/>\n",
       "<text text-anchor=\"middle\" x=\"384.639\" y=\"-201.126\" font-family=\"Times,serif\" font-size=\"14.00\">St3</text>\n",
       "</g>\n",
       "<!-- St2&#45;&gt;St3 -->\n",
       "<g id=\"edge7\" class=\"edge\"><title>St2&#45;&gt;St3</title>\n",
       "<path fill=\"none\" stroke=\"black\" d=\"M312.281,-249.873C324.593,-242.187 340.219,-232.432 353.708,-224.011\"/>\n",
       "<polygon fill=\"black\" stroke=\"black\" points=\"355.579,-226.969 362.208,-218.705 351.872,-221.032 355.579,-226.969\"/>\n",
       "<text text-anchor=\"middle\" x=\"337.137\" y=\"-238.126\" font-family=\"Times,serif\" font-size=\"14.00\">a</text>\n",
       "</g>\n",
       "<!-- St10 -->\n",
       "<g id=\"node9\" class=\"node\"><title>St10</title>\n",
       "<ellipse fill=\"none\" stroke=\"black\" cx=\"483.966\" cy=\"-30.3256\" rx=\"26.1751\" ry=\"26.1751\"/>\n",
       "<ellipse fill=\"none\" stroke=\"black\" cx=\"483.966\" cy=\"-30.3256\" rx=\"30.1522\" ry=\"30.1522\"/>\n",
       "<text text-anchor=\"middle\" x=\"483.966\" y=\"-26.1256\" font-family=\"Times,serif\" font-size=\"14.00\">St10</text>\n",
       "</g>\n",
       "<!-- St10&#45;&gt;St10 -->\n",
       "<g id=\"edge16\" class=\"edge\"><title>St10&#45;&gt;St10</title>\n",
       "<path fill=\"none\" stroke=\"black\" d=\"M474.6,-59.5795C474.399,-70.0857 477.521,-78.6512 483.966,-78.6512 488.095,-78.6512 490.86,-75.1359 492.261,-69.8471\"/>\n",
       "<polygon fill=\"black\" stroke=\"black\" points=\"495.776,-69.8886 493.332,-59.5795 488.814,-69.1626 495.776,-69.8886\"/>\n",
       "<text text-anchor=\"middle\" x=\"483.966\" y=\"-81.4512\" font-family=\"Times,serif\" font-size=\"14.00\">a</text>\n",
       "</g>\n",
       "<!-- St3&#45;&gt;St5 -->\n",
       "<g id=\"edge13\" class=\"edge\"><title>St3&#45;&gt;St5</title>\n",
       "<path fill=\"none\" stroke=\"black\" d=\"M403.945,-223.006C419.894,-238.41 443.087,-260.81 460.224,-277.36\"/>\n",
       "<polygon fill=\"black\" stroke=\"black\" points=\"457.999,-280.078 467.623,-284.507 462.862,-275.043 457.999,-280.078\"/>\n",
       "<text text-anchor=\"middle\" x=\"432.141\" y=\"-255.126\" font-family=\"Times,serif\" font-size=\"14.00\">b</text>\n",
       "</g>\n",
       "<!-- St3&#45;&gt;St3 -->\n",
       "<g id=\"edge12\" class=\"edge\"><title>St3&#45;&gt;St3</title>\n",
       "<path fill=\"none\" stroke=\"black\" d=\"M376.09,-230.149C375.5,-240.476 378.35,-249.229 384.639,-249.229 388.668,-249.229 391.285,-245.637 392.491,-240.34\"/>\n",
       "<polygon fill=\"black\" stroke=\"black\" points=\"395.997,-240.365 393.188,-230.149 389.014,-239.887 395.997,-240.365\"/>\n",
       "<text text-anchor=\"middle\" x=\"384.639\" y=\"-252.029\" font-family=\"Times,serif\" font-size=\"14.00\">a</text>\n",
       "</g>\n",
       "<!-- St9&#45;&gt;St10 -->\n",
       "<g id=\"edge14\" class=\"edge\"><title>St9&#45;&gt;St10</title>\n",
       "<path fill=\"none\" stroke=\"black\" d=\"M409.697,-52.9099C420.34,-49.6294 433.113,-45.6921 444.993,-42.0305\"/>\n",
       "<polygon fill=\"black\" stroke=\"black\" points=\"446.169,-45.3304 454.695,-39.04 444.107,-38.641 446.169,-45.3304\"/>\n",
       "<text text-anchor=\"middle\" x=\"432.141\" y=\"-49.1256\" font-family=\"Times,serif\" font-size=\"14.00\">a</text>\n",
       "</g>\n",
       "</g>\n",
       "</svg>\n"
      ],
      "text/plain": [
       "<graphviz.dot.Digraph at 0x10d25abe0>"
      ]
     },
     "execution_count": 21,
     "metadata": {},
     "output_type": "execute_result"
    }
   ],
   "source": [
    "dotObj_dfa(d1b)"
   ]
  },
  {
   "cell_type": "code",
   "execution_count": 22,
   "metadata": {
    "run_control": {
     "frozen": false,
     "read_only": false
    }
   },
   "outputs": [
    {
     "data": {
      "image/svg+xml": [
       "<?xml version=\"1.0\" encoding=\"UTF-8\" standalone=\"no\"?>\n",
       "<!DOCTYPE svg PUBLIC \"-//W3C//DTD SVG 1.1//EN\"\n",
       " \"http://www.w3.org/Graphics/SVG/1.1/DTD/svg11.dtd\">\n",
       "<!-- Generated by graphviz version 2.38.0 (20140413.2041)\n",
       " -->\n",
       "<!-- Title: %3 Pages: 1 -->\n",
       "<svg width=\"616pt\" height=\"289pt\"\n",
       " viewBox=\"0.00 0.00 616.12 288.99\" xmlns=\"http://www.w3.org/2000/svg\" xmlns:xlink=\"http://www.w3.org/1999/xlink\">\n",
       "<g id=\"graph0\" class=\"graph\" transform=\"scale(1 1) rotate(0) translate(4 284.991)\">\n",
       "<title>%3</title>\n",
       "<polygon fill=\"white\" stroke=\"none\" points=\"-4,4 -4,-284.991 612.118,-284.991 612.118,4 -4,4\"/>\n",
       "<!-- EMPTY -->\n",
       "<g id=\"node1\" class=\"node\"><title>EMPTY</title>\n",
       "</g>\n",
       "<!-- St1 -->\n",
       "<g id=\"node2\" class=\"node\"><title>St1</title>\n",
       "<ellipse fill=\"none\" stroke=\"black\" cx=\"112.904\" cy=\"-90.0868\" rx=\"21.8081\" ry=\"21.8081\"/>\n",
       "<text text-anchor=\"middle\" x=\"112.904\" y=\"-85.8868\" font-family=\"Times,serif\" font-size=\"14.00\">St1</text>\n",
       "</g>\n",
       "<!-- EMPTY&#45;&gt;St1 -->\n",
       "<g id=\"edge1\" class=\"edge\"><title>EMPTY&#45;&gt;St1</title>\n",
       "<path fill=\"none\" stroke=\"black\" d=\"M54.0878,-90.0868C62.501,-90.0868 71.9126,-90.0868 80.6587,-90.0868\"/>\n",
       "<polygon fill=\"black\" stroke=\"black\" points=\"80.8854,-93.5869 90.8853,-90.0868 80.8853,-86.5869 80.8854,-93.5869\"/>\n",
       "</g>\n",
       "<!-- St10 -->\n",
       "<g id=\"node3\" class=\"node\"><title>St10</title>\n",
       "<ellipse fill=\"none\" stroke=\"black\" cx=\"204.133\" cy=\"-125.087\" rx=\"26.1523\" ry=\"26.1523\"/>\n",
       "<text text-anchor=\"middle\" x=\"204.133\" y=\"-120.887\" font-family=\"Times,serif\" font-size=\"14.00\">St10</text>\n",
       "</g>\n",
       "<!-- St1&#45;&gt;St10 -->\n",
       "<g id=\"edge3\" class=\"edge\"><title>St1&#45;&gt;St10</title>\n",
       "<path fill=\"none\" stroke=\"black\" d=\"M133.707,-97.8545C144.321,-102.018 157.683,-107.259 169.843,-112.029\"/>\n",
       "<polygon fill=\"black\" stroke=\"black\" points=\"168.674,-115.33 179.262,-115.723 171.23,-108.813 168.674,-115.33\"/>\n",
       "<text text-anchor=\"middle\" x=\"156.308\" y=\"-110.887\" font-family=\"Times,serif\" font-size=\"14.00\">b</text>\n",
       "</g>\n",
       "<!-- St4 -->\n",
       "<g id=\"node6\" class=\"node\"><title>St4</title>\n",
       "<ellipse fill=\"none\" stroke=\"black\" cx=\"204.133\" cy=\"-46.0868\" rx=\"21.8081\" ry=\"21.8081\"/>\n",
       "<text text-anchor=\"middle\" x=\"204.133\" y=\"-41.8868\" font-family=\"Times,serif\" font-size=\"14.00\">St4</text>\n",
       "</g>\n",
       "<!-- St1&#45;&gt;St4 -->\n",
       "<g id=\"edge2\" class=\"edge\"><title>St1&#45;&gt;St4</title>\n",
       "<path fill=\"none\" stroke=\"black\" d=\"M132.827,-80.7556C145.13,-74.6887 161.388,-66.6719 175.17,-59.8757\"/>\n",
       "<polygon fill=\"black\" stroke=\"black\" points=\"176.816,-62.9664 184.237,-55.4047 173.721,-56.6882 176.816,-62.9664\"/>\n",
       "<text text-anchor=\"middle\" x=\"156.308\" y=\"-73.8868\" font-family=\"Times,serif\" font-size=\"14.00\">a</text>\n",
       "</g>\n",
       "<!-- St5 -->\n",
       "<g id=\"node5\" class=\"node\"><title>St5</title>\n",
       "<ellipse fill=\"none\" stroke=\"black\" cx=\"298.577\" cy=\"-165.087\" rx=\"21.8081\" ry=\"21.8081\"/>\n",
       "<text text-anchor=\"middle\" x=\"298.577\" y=\"-160.887\" font-family=\"Times,serif\" font-size=\"14.00\">St5</text>\n",
       "</g>\n",
       "<!-- St10&#45;&gt;St5 -->\n",
       "<g id=\"edge6\" class=\"edge\"><title>St10&#45;&gt;St5</title>\n",
       "<path fill=\"none\" stroke=\"black\" d=\"M228.461,-135.181C240.736,-140.492 255.894,-147.051 268.883,-152.671\"/>\n",
       "<polygon fill=\"black\" stroke=\"black\" points=\"267.742,-155.991 278.31,-156.75 270.522,-149.567 267.742,-155.991\"/>\n",
       "<text text-anchor=\"middle\" x=\"251.566\" y=\"-149.887\" font-family=\"Times,serif\" font-size=\"14.00\">c</text>\n",
       "</g>\n",
       "<!-- St8 -->\n",
       "<g id=\"node4\" class=\"node\"><title>St8</title>\n",
       "<ellipse fill=\"none\" stroke=\"black\" cx=\"488.192\" cy=\"-36.0868\" rx=\"21.8081\" ry=\"21.8081\"/>\n",
       "<text text-anchor=\"middle\" x=\"488.192\" y=\"-31.8868\" font-family=\"Times,serif\" font-size=\"14.00\">St8</text>\n",
       "</g>\n",
       "<!-- St9 -->\n",
       "<g id=\"node11\" class=\"node\"><title>St9</title>\n",
       "<ellipse fill=\"none\" stroke=\"black\" cx=\"582.214\" cy=\"-36.0868\" rx=\"21.8229\" ry=\"21.8229\"/>\n",
       "<ellipse fill=\"none\" stroke=\"black\" cx=\"582.214\" cy=\"-36.0868\" rx=\"25.8081\" ry=\"25.8081\"/>\n",
       "<text text-anchor=\"middle\" x=\"582.214\" y=\"-31.8868\" font-family=\"Times,serif\" font-size=\"14.00\">St9</text>\n",
       "</g>\n",
       "<!-- St8&#45;&gt;St9 -->\n",
       "<g id=\"edge9\" class=\"edge\"><title>St8&#45;&gt;St9</title>\n",
       "<path fill=\"none\" stroke=\"black\" d=\"M510.535,-36.0868C521.048,-36.0868 533.999,-36.0868 545.932,-36.0868\"/>\n",
       "<polygon fill=\"black\" stroke=\"black\" points=\"546.068,-39.5869 556.068,-36.0868 546.068,-32.5869 546.068,-39.5869\"/>\n",
       "<text text-anchor=\"middle\" x=\"535.203\" y=\"-38.8868\" font-family=\"Times,serif\" font-size=\"14.00\">c</text>\n",
       "</g>\n",
       "<!-- St5&#45;&gt;St8 -->\n",
       "<g id=\"edge11\" class=\"edge\"><title>St5&#45;&gt;St8</title>\n",
       "<path fill=\"none\" stroke=\"black\" d=\"M320.927,-164.943C346.45,-163.787 389.449,-158.616 419.288,-138.087 445.205,-120.256 463.838,-88.9907 474.954,-65.7612\"/>\n",
       "<polygon fill=\"black\" stroke=\"black\" points=\"478.278,-66.9097 479.258,-56.3602 471.913,-63.9961 478.278,-66.9097\"/>\n",
       "<text text-anchor=\"middle\" x=\"393.384\" y=\"-161.887\" font-family=\"Times,serif\" font-size=\"14.00\">b</text>\n",
       "</g>\n",
       "<!-- St6 -->\n",
       "<g id=\"node8\" class=\"node\"><title>St6</title>\n",
       "<ellipse fill=\"none\" stroke=\"black\" cx=\"393.384\" cy=\"-223.087\" rx=\"21.8229\" ry=\"21.8229\"/>\n",
       "<ellipse fill=\"none\" stroke=\"black\" cx=\"393.384\" cy=\"-223.087\" rx=\"25.8081\" ry=\"25.8081\"/>\n",
       "<text text-anchor=\"middle\" x=\"393.384\" y=\"-218.887\" font-family=\"Times,serif\" font-size=\"14.00\">St6</text>\n",
       "</g>\n",
       "<!-- St5&#45;&gt;St6 -->\n",
       "<g id=\"edge10\" class=\"edge\"><title>St5&#45;&gt;St6</title>\n",
       "<path fill=\"none\" stroke=\"black\" d=\"M317.471,-176.27C330.121,-184.175 347.386,-194.965 362.153,-204.194\"/>\n",
       "<polygon fill=\"black\" stroke=\"black\" points=\"360.626,-207.367 370.961,-209.699 364.336,-201.431 360.626,-207.367\"/>\n",
       "<text text-anchor=\"middle\" x=\"345.981\" y=\"-198.887\" font-family=\"Times,serif\" font-size=\"14.00\">a</text>\n",
       "</g>\n",
       "<!-- St4&#45;&gt;St8 -->\n",
       "<g id=\"edge5\" class=\"edge\"><title>St4&#45;&gt;St8</title>\n",
       "<path fill=\"none\" stroke=\"black\" d=\"M222.585,-34.2431C235.724,-26.0424 254.518,-15.7878 272.673,-11.0868 346.612,8.05935 370.434,-0.613617 444.288,-20.0868 448.821,-21.282 453.542,-22.7756 458.124,-24.3666\"/>\n",
       "<polygon fill=\"black\" stroke=\"black\" points=\"457.213,-27.7604 467.806,-27.9273 459.629,-21.1906 457.213,-27.7604\"/>\n",
       "<text text-anchor=\"middle\" x=\"345.981\" y=\"-3.88683\" font-family=\"Times,serif\" font-size=\"14.00\">b</text>\n",
       "</g>\n",
       "<!-- St3 -->\n",
       "<g id=\"node9\" class=\"node\"><title>St3</title>\n",
       "<ellipse fill=\"none\" stroke=\"black\" cx=\"298.577\" cy=\"-46.0868\" rx=\"21.8229\" ry=\"21.8229\"/>\n",
       "<ellipse fill=\"none\" stroke=\"black\" cx=\"298.577\" cy=\"-46.0868\" rx=\"25.8081\" ry=\"25.8081\"/>\n",
       "<text text-anchor=\"middle\" x=\"298.577\" y=\"-41.8868\" font-family=\"Times,serif\" font-size=\"14.00\">St3</text>\n",
       "</g>\n",
       "<!-- St4&#45;&gt;St3 -->\n",
       "<g id=\"edge4\" class=\"edge\"><title>St4&#45;&gt;St3</title>\n",
       "<path fill=\"none\" stroke=\"black\" d=\"M226.11,-46.0868C236.74,-46.0868 249.94,-46.0868 262.092,-46.0868\"/>\n",
       "<polygon fill=\"black\" stroke=\"black\" points=\"262.41,-49.5869 272.41,-46.0868 262.41,-42.5869 262.41,-49.5869\"/>\n",
       "<text text-anchor=\"middle\" x=\"251.566\" y=\"-48.8868\" font-family=\"Times,serif\" font-size=\"14.00\">a</text>\n",
       "</g>\n",
       "<!-- St2 -->\n",
       "<g id=\"node7\" class=\"node\"><title>St2</title>\n",
       "<ellipse fill=\"none\" stroke=\"black\" cx=\"393.384\" cy=\"-71.0868\" rx=\"21.8229\" ry=\"21.8229\"/>\n",
       "<ellipse fill=\"none\" stroke=\"black\" cx=\"393.384\" cy=\"-71.0868\" rx=\"25.8081\" ry=\"25.8081\"/>\n",
       "<text text-anchor=\"middle\" x=\"393.384\" y=\"-66.8868\" font-family=\"Times,serif\" font-size=\"14.00\">St2</text>\n",
       "</g>\n",
       "<!-- St2&#45;&gt;St8 -->\n",
       "<g id=\"edge13\" class=\"edge\"><title>St2&#45;&gt;St8</title>\n",
       "<path fill=\"none\" stroke=\"black\" d=\"M417.804,-62.2549C430.042,-57.6395 445.134,-51.9481 458.113,-47.0531\"/>\n",
       "<polygon fill=\"black\" stroke=\"black\" points=\"459.424,-50.2996 467.545,-43.4961 456.954,-43.7499 459.424,-50.2996\"/>\n",
       "<text text-anchor=\"middle\" x=\"440.788\" y=\"-57.8868\" font-family=\"Times,serif\" font-size=\"14.00\">b</text>\n",
       "</g>\n",
       "<!-- St2&#45;&gt;St2 -->\n",
       "<g id=\"edge12\" class=\"edge\"><title>St2&#45;&gt;St2</title>\n",
       "<path fill=\"none\" stroke=\"black\" d=\"M384.835,-95.9105C384.246,-106.237 387.095,-114.991 393.384,-114.991 397.413,-114.991 400.031,-111.398 401.237,-106.101\"/>\n",
       "<polygon fill=\"black\" stroke=\"black\" points=\"404.743,-106.126 401.934,-95.9105 397.759,-105.648 404.743,-106.126\"/>\n",
       "<text text-anchor=\"middle\" x=\"393.384\" y=\"-117.791\" font-family=\"Times,serif\" font-size=\"14.00\">a</text>\n",
       "</g>\n",
       "<!-- St7 -->\n",
       "<g id=\"node10\" class=\"node\"><title>St7</title>\n",
       "<ellipse fill=\"none\" stroke=\"black\" cx=\"488.192\" cy=\"-223.087\" rx=\"21.8229\" ry=\"21.8229\"/>\n",
       "<ellipse fill=\"none\" stroke=\"black\" cx=\"488.192\" cy=\"-223.087\" rx=\"25.8081\" ry=\"25.8081\"/>\n",
       "<text text-anchor=\"middle\" x=\"488.192\" y=\"-218.887\" font-family=\"Times,serif\" font-size=\"14.00\">St7</text>\n",
       "</g>\n",
       "<!-- St6&#45;&gt;St7 -->\n",
       "<g id=\"edge14\" class=\"edge\"><title>St6&#45;&gt;St7</title>\n",
       "<path fill=\"none\" stroke=\"black\" d=\"M419.745,-223.087C429.646,-223.087 441.17,-223.087 451.861,-223.087\"/>\n",
       "<polygon fill=\"black\" stroke=\"black\" points=\"452.184,-226.587 462.184,-223.087 452.184,-219.587 452.184,-226.587\"/>\n",
       "<text text-anchor=\"middle\" x=\"440.788\" y=\"-225.887\" font-family=\"Times,serif\" font-size=\"14.00\">a</text>\n",
       "</g>\n",
       "<!-- St3&#45;&gt;St8 -->\n",
       "<g id=\"edge8\" class=\"edge\"><title>St3&#45;&gt;St8</title>\n",
       "<path fill=\"none\" stroke=\"black\" d=\"M322.621,-35.7407C335.525,-30.513 352.076,-24.729 367.481,-22.0868 397.662,-16.9101 432.457,-22.227 456.728,-27.7318\"/>\n",
       "<polygon fill=\"black\" stroke=\"black\" points=\"456.221,-31.2097 466.763,-30.1546 457.864,-24.4053 456.221,-31.2097\"/>\n",
       "<text text-anchor=\"middle\" x=\"393.384\" y=\"-24.8868\" font-family=\"Times,serif\" font-size=\"14.00\">b</text>\n",
       "</g>\n",
       "<!-- St3&#45;&gt;St2 -->\n",
       "<g id=\"edge7\" class=\"edge\"><title>St3&#45;&gt;St2</title>\n",
       "<path fill=\"none\" stroke=\"black\" d=\"M323.961,-52.6553C334.511,-55.4974 347.039,-58.872 358.473,-61.9521\"/>\n",
       "<polygon fill=\"black\" stroke=\"black\" points=\"357.597,-65.3407 368.163,-64.5622 359.418,-58.5816 357.597,-65.3407\"/>\n",
       "<text text-anchor=\"middle\" x=\"345.981\" y=\"-62.8868\" font-family=\"Times,serif\" font-size=\"14.00\">a</text>\n",
       "</g>\n",
       "<!-- St7&#45;&gt;St7 -->\n",
       "<g id=\"edge15\" class=\"edge\"><title>St7&#45;&gt;St7</title>\n",
       "<path fill=\"none\" stroke=\"black\" d=\"M479.643,-247.911C479.053,-258.237 481.903,-266.991 488.192,-266.991 492.221,-266.991 494.838,-263.398 496.044,-258.101\"/>\n",
       "<polygon fill=\"black\" stroke=\"black\" points=\"499.551,-258.126 496.741,-247.911 492.567,-257.648 499.551,-258.126\"/>\n",
       "<text text-anchor=\"middle\" x=\"488.192\" y=\"-269.791\" font-family=\"Times,serif\" font-size=\"14.00\">a</text>\n",
       "</g>\n",
       "</g>\n",
       "</svg>\n"
      ],
      "text/plain": [
       "<graphviz.dot.Digraph at 0x10d2aa8d0>"
      ]
     },
     "execution_count": 22,
     "metadata": {},
     "output_type": "execute_result"
    }
   ],
   "source": [
    "dotObj_dfa(d2b)"
   ]
  },
  {
   "cell_type": "code",
   "execution_count": 23,
   "metadata": {
    "run_control": {
     "frozen": false,
     "read_only": false
    }
   },
   "outputs": [
    {
     "data": {
      "text/plain": [
       "False"
      ]
     },
     "execution_count": 23,
     "metadata": {},
     "output_type": "execute_result"
    }
   ],
   "source": [
    "iso_dfa(d1b,d2b)"
   ]
  },
  {
   "cell_type": "code",
   "execution_count": 24,
   "metadata": {
    "run_control": {
     "frozen": false,
     "read_only": false
    }
   },
   "outputs": [],
   "source": [
    "d1c=min_dfa(d1b)"
   ]
  },
  {
   "cell_type": "code",
   "execution_count": 25,
   "metadata": {
    "run_control": {
     "frozen": false,
     "read_only": false
    }
   },
   "outputs": [],
   "source": [
    "d2c=min_dfa(d2b)"
   ]
  },
  {
   "cell_type": "code",
   "execution_count": 26,
   "metadata": {
    "run_control": {
     "frozen": false,
     "read_only": false
    }
   },
   "outputs": [
    {
     "data": {
      "text/plain": [
       "True"
      ]
     },
     "execution_count": 26,
     "metadata": {},
     "output_type": "execute_result"
    }
   ],
   "source": [
    "iso_dfa(d1c,d2c)"
   ]
  },
  {
   "cell_type": "code",
   "execution_count": 27,
   "metadata": {
    "run_control": {
     "frozen": false,
     "read_only": false
    }
   },
   "outputs": [
    {
     "data": {
      "image/svg+xml": [
       "<?xml version=\"1.0\" encoding=\"UTF-8\" standalone=\"no\"?>\n",
       "<!DOCTYPE svg PUBLIC \"-//W3C//DTD SVG 1.1//EN\"\n",
       " \"http://www.w3.org/Graphics/SVG/1.1/DTD/svg11.dtd\">\n",
       "<!-- Generated by graphviz version 2.38.0 (20140413.2041)\n",
       " -->\n",
       "<!-- Title: %3 Pages: 1 -->\n",
       "<svg width=\"521pt\" height=\"215pt\"\n",
       " viewBox=\"0.00 0.00 521.31 215.33\" xmlns=\"http://www.w3.org/2000/svg\" xmlns:xlink=\"http://www.w3.org/1999/xlink\">\n",
       "<g id=\"graph0\" class=\"graph\" transform=\"scale(1 1) rotate(0) translate(4 211.326)\">\n",
       "<title>%3</title>\n",
       "<polygon fill=\"white\" stroke=\"none\" points=\"-4,4 -4,-211.326 517.31,-211.326 517.31,4 -4,4\"/>\n",
       "<!-- EMPTY -->\n",
       "<g id=\"node1\" class=\"node\"><title>EMPTY</title>\n",
       "</g>\n",
       "<!-- St1 -->\n",
       "<g id=\"node2\" class=\"node\"><title>St1</title>\n",
       "<ellipse fill=\"none\" stroke=\"black\" cx=\"112.904\" cy=\"-91.3256\" rx=\"21.8081\" ry=\"21.8081\"/>\n",
       "<text text-anchor=\"middle\" x=\"112.904\" y=\"-87.1256\" font-family=\"Times,serif\" font-size=\"14.00\">St1</text>\n",
       "</g>\n",
       "<!-- EMPTY&#45;&gt;St1 -->\n",
       "<g id=\"edge1\" class=\"edge\"><title>EMPTY&#45;&gt;St1</title>\n",
       "<path fill=\"none\" stroke=\"black\" d=\"M54.0878,-91.3256C62.501,-91.3256 71.9126,-91.3256 80.6587,-91.3256\"/>\n",
       "<polygon fill=\"black\" stroke=\"black\" points=\"80.8854,-94.8257 90.8853,-91.3256 80.8853,-87.8257 80.8854,-94.8257\"/>\n",
       "</g>\n",
       "<!-- St4 -->\n",
       "<g id=\"node5\" class=\"node\"><title>St4</title>\n",
       "<ellipse fill=\"none\" stroke=\"black\" cx=\"199.712\" cy=\"-120.326\" rx=\"21.8081\" ry=\"21.8081\"/>\n",
       "<text text-anchor=\"middle\" x=\"199.712\" y=\"-116.126\" font-family=\"Times,serif\" font-size=\"14.00\">St4</text>\n",
       "</g>\n",
       "<!-- St1&#45;&gt;St4 -->\n",
       "<g id=\"edge2\" class=\"edge\"><title>St1&#45;&gt;St4</title>\n",
       "<path fill=\"none\" stroke=\"black\" d=\"M134.002,-98.1982C144.458,-101.774 157.444,-106.214 169.032,-110.177\"/>\n",
       "<polygon fill=\"black\" stroke=\"black\" points=\"168.163,-113.578 178.758,-113.502 170.428,-106.955 168.163,-113.578\"/>\n",
       "<text text-anchor=\"middle\" x=\"156.308\" y=\"-110.126\" font-family=\"Times,serif\" font-size=\"14.00\">a</text>\n",
       "</g>\n",
       "<!-- St7 -->\n",
       "<g id=\"node6\" class=\"node\"><title>St7</title>\n",
       "<ellipse fill=\"none\" stroke=\"black\" cx=\"199.712\" cy=\"-57.3256\" rx=\"21.8081\" ry=\"21.8081\"/>\n",
       "<text text-anchor=\"middle\" x=\"199.712\" y=\"-53.1256\" font-family=\"Times,serif\" font-size=\"14.00\">St7</text>\n",
       "</g>\n",
       "<!-- St1&#45;&gt;St7 -->\n",
       "<g id=\"edge3\" class=\"edge\"><title>St1&#45;&gt;St7</title>\n",
       "<path fill=\"none\" stroke=\"black\" d=\"M133.574,-83.4399C144.277,-79.1486 157.725,-73.7573 169.618,-68.9893\"/>\n",
       "<polygon fill=\"black\" stroke=\"black\" points=\"171.169,-72.1385 179.149,-65.1686 168.564,-65.6411 171.169,-72.1385\"/>\n",
       "<text text-anchor=\"middle\" x=\"156.308\" y=\"-79.1256\" font-family=\"Times,serif\" font-size=\"14.00\">b</text>\n",
       "</g>\n",
       "<!-- St11 -->\n",
       "<g id=\"node3\" class=\"node\"><title>St11</title>\n",
       "<ellipse fill=\"none\" stroke=\"black\" cx=\"388.963\" cy=\"-136.326\" rx=\"26.0035\" ry=\"26.0035\"/>\n",
       "<text text-anchor=\"middle\" x=\"388.963\" y=\"-132.126\" font-family=\"Times,serif\" font-size=\"14.00\">St11</text>\n",
       "</g>\n",
       "<!-- St6 -->\n",
       "<g id=\"node7\" class=\"node\"><title>St6</title>\n",
       "<ellipse fill=\"none\" stroke=\"black\" cx=\"487.406\" cy=\"-136.326\" rx=\"21.8229\" ry=\"21.8229\"/>\n",
       "<ellipse fill=\"none\" stroke=\"black\" cx=\"487.406\" cy=\"-136.326\" rx=\"25.8081\" ry=\"25.8081\"/>\n",
       "<text text-anchor=\"middle\" x=\"487.406\" y=\"-132.126\" font-family=\"Times,serif\" font-size=\"14.00\">St6</text>\n",
       "</g>\n",
       "<!-- St11&#45;&gt;St6 -->\n",
       "<g id=\"edge9\" class=\"edge\"><title>St11&#45;&gt;St6</title>\n",
       "<path fill=\"none\" stroke=\"black\" d=\"M415.05,-136.326C426.101,-136.326 439.276,-136.326 451.28,-136.326\"/>\n",
       "<polygon fill=\"black\" stroke=\"black\" points=\"451.444,-139.826 461.444,-136.326 451.444,-132.826 451.444,-139.826\"/>\n",
       "<text text-anchor=\"middle\" x=\"440.395\" y=\"-139.126\" font-family=\"Times,serif\" font-size=\"14.00\">c</text>\n",
       "</g>\n",
       "<!-- St8 -->\n",
       "<g id=\"node4\" class=\"node\"><title>St8</title>\n",
       "<ellipse fill=\"none\" stroke=\"black\" cx=\"289.733\" cy=\"-54.3256\" rx=\"21.8081\" ry=\"21.8081\"/>\n",
       "<text text-anchor=\"middle\" x=\"289.733\" y=\"-50.1256\" font-family=\"Times,serif\" font-size=\"14.00\">St8</text>\n",
       "</g>\n",
       "<!-- St8&#45;&gt;St11 -->\n",
       "<g id=\"edge11\" class=\"edge\"><title>St8&#45;&gt;St11</title>\n",
       "<path fill=\"none\" stroke=\"black\" d=\"M307.227,-68.2358C321.754,-80.4873 343.207,-98.5801 360.348,-113.036\"/>\n",
       "<polygon fill=\"black\" stroke=\"black\" points=\"358.466,-116.028 368.367,-119.8 362.979,-110.677 358.466,-116.028\"/>\n",
       "<text text-anchor=\"middle\" x=\"337.137\" y=\"-98.1256\" font-family=\"Times,serif\" font-size=\"14.00\">b</text>\n",
       "</g>\n",
       "<!-- St10 -->\n",
       "<g id=\"node8\" class=\"node\"><title>St10</title>\n",
       "<ellipse fill=\"none\" stroke=\"black\" cx=\"388.963\" cy=\"-30.3256\" rx=\"26.1751\" ry=\"26.1751\"/>\n",
       "<ellipse fill=\"none\" stroke=\"black\" cx=\"388.963\" cy=\"-30.3256\" rx=\"30.1522\" ry=\"30.1522\"/>\n",
       "<text text-anchor=\"middle\" x=\"388.963\" y=\"-26.1256\" font-family=\"Times,serif\" font-size=\"14.00\">St10</text>\n",
       "</g>\n",
       "<!-- St8&#45;&gt;St10 -->\n",
       "<g id=\"edge10\" class=\"edge\"><title>St8&#45;&gt;St10</title>\n",
       "<path fill=\"none\" stroke=\"black\" d=\"M310.595,-46.5809C317.773,-43.996 325.992,-41.2797 333.637,-39.3256 338.422,-38.1026 343.487,-37.0067 348.526,-36.0364\"/>\n",
       "<polygon fill=\"black\" stroke=\"black\" points=\"349.498,-39.4184 358.731,-34.2208 348.272,-32.5266 349.498,-39.4184\"/>\n",
       "<text text-anchor=\"middle\" x=\"337.137\" y=\"-42.1256\" font-family=\"Times,serif\" font-size=\"14.00\">a</text>\n",
       "</g>\n",
       "<!-- St4&#45;&gt;St11 -->\n",
       "<g id=\"edge5\" class=\"edge\"><title>St4&#45;&gt;St11</title>\n",
       "<path fill=\"none\" stroke=\"black\" d=\"M211.814,-138.798C222.747,-155.016 241.089,-177.506 263.829,-187.326 284.968,-196.453 293.689,-194.286 315.637,-187.326 332.577,-181.954 348.973,-171.025 361.86,-160.658\"/>\n",
       "<polygon fill=\"black\" stroke=\"black\" points=\"364.389,-163.104 369.792,-153.99 359.885,-157.746 364.389,-163.104\"/>\n",
       "<text text-anchor=\"middle\" x=\"289.733\" y=\"-196.126\" font-family=\"Times,serif\" font-size=\"14.00\">b</text>\n",
       "</g>\n",
       "<!-- St3 -->\n",
       "<g id=\"node9\" class=\"node\"><title>St3</title>\n",
       "<ellipse fill=\"none\" stroke=\"black\" cx=\"289.733\" cy=\"-120.326\" rx=\"21.8229\" ry=\"21.8229\"/>\n",
       "<ellipse fill=\"none\" stroke=\"black\" cx=\"289.733\" cy=\"-120.326\" rx=\"25.8081\" ry=\"25.8081\"/>\n",
       "<text text-anchor=\"middle\" x=\"289.733\" y=\"-116.126\" font-family=\"Times,serif\" font-size=\"14.00\">St3</text>\n",
       "</g>\n",
       "<!-- St4&#45;&gt;St3 -->\n",
       "<g id=\"edge4\" class=\"edge\"><title>St4&#45;&gt;St3</title>\n",
       "<path fill=\"none\" stroke=\"black\" d=\"M222.019,-120.326C231.406,-120.326 242.691,-120.326 253.287,-120.326\"/>\n",
       "<polygon fill=\"black\" stroke=\"black\" points=\"253.558,-123.826 263.558,-120.326 253.558,-116.826 253.558,-123.826\"/>\n",
       "<text text-anchor=\"middle\" x=\"242.722\" y=\"-123.126\" font-family=\"Times,serif\" font-size=\"14.00\">a</text>\n",
       "</g>\n",
       "<!-- St7&#45;&gt;St8 -->\n",
       "<g id=\"edge6\" class=\"edge\"><title>St7&#45;&gt;St8</title>\n",
       "<path fill=\"none\" stroke=\"black\" d=\"M222.019,-56.5994C232.615,-56.2383 245.628,-55.7947 257.339,-55.3956\"/>\n",
       "<polygon fill=\"black\" stroke=\"black\" points=\"257.747,-58.8838 267.622,-55.0451 257.508,-51.8879 257.747,-58.8838\"/>\n",
       "<text text-anchor=\"middle\" x=\"242.722\" y=\"-59.1256\" font-family=\"Times,serif\" font-size=\"14.00\">c</text>\n",
       "</g>\n",
       "<!-- St10&#45;&gt;St10 -->\n",
       "<g id=\"edge12\" class=\"edge\"><title>St10&#45;&gt;St10</title>\n",
       "<path fill=\"none\" stroke=\"black\" d=\"M379.597,-59.5795C379.395,-70.0857 382.517,-78.6512 388.963,-78.6512 393.092,-78.6512 395.857,-75.1359 397.258,-69.8471\"/>\n",
       "<polygon fill=\"black\" stroke=\"black\" points=\"400.773,-69.8886 398.328,-59.5795 393.81,-69.1626 400.773,-69.8886\"/>\n",
       "<text text-anchor=\"middle\" x=\"388.963\" y=\"-81.4512\" font-family=\"Times,serif\" font-size=\"14.00\">a</text>\n",
       "</g>\n",
       "<!-- St3&#45;&gt;St11 -->\n",
       "<g id=\"edge8\" class=\"edge\"><title>St3&#45;&gt;St11</title>\n",
       "<path fill=\"none\" stroke=\"black\" d=\"M315.52,-124.404C326.948,-126.285 340.711,-128.55 353.157,-130.598\"/>\n",
       "<polygon fill=\"black\" stroke=\"black\" points=\"352.786,-134.084 363.221,-132.254 353.922,-127.177 352.786,-134.084\"/>\n",
       "<text text-anchor=\"middle\" x=\"337.137\" y=\"-131.126\" font-family=\"Times,serif\" font-size=\"14.00\">b</text>\n",
       "</g>\n",
       "<!-- St3&#45;&gt;St3 -->\n",
       "<g id=\"edge7\" class=\"edge\"><title>St3&#45;&gt;St3</title>\n",
       "<path fill=\"none\" stroke=\"black\" d=\"M281.184,-145.149C280.594,-155.476 283.444,-164.229 289.733,-164.229 293.762,-164.229 296.38,-160.637 297.585,-155.34\"/>\n",
       "<polygon fill=\"black\" stroke=\"black\" points=\"301.092,-155.365 298.282,-145.149 294.108,-154.887 301.092,-155.365\"/>\n",
       "<text text-anchor=\"middle\" x=\"289.733\" y=\"-167.029\" font-family=\"Times,serif\" font-size=\"14.00\">a</text>\n",
       "</g>\n",
       "</g>\n",
       "</svg>\n"
      ],
      "text/plain": [
       "<graphviz.dot.Digraph at 0x10d270a20>"
      ]
     },
     "execution_count": 27,
     "metadata": {},
     "output_type": "execute_result"
    }
   ],
   "source": [
    "dotObj_dfa(d1c)"
   ]
  },
  {
   "cell_type": "code",
   "execution_count": 28,
   "metadata": {
    "run_control": {
     "frozen": false,
     "read_only": false
    }
   },
   "outputs": [
    {
     "data": {
      "image/svg+xml": [
       "<?xml version=\"1.0\" encoding=\"UTF-8\" standalone=\"no\"?>\n",
       "<!DOCTYPE svg PUBLIC \"-//W3C//DTD SVG 1.1//EN\"\n",
       " \"http://www.w3.org/Graphics/SVG/1.1/DTD/svg11.dtd\">\n",
       "<!-- Generated by graphviz version 2.38.0 (20140413.2041)\n",
       " -->\n",
       "<!-- Title: %3 Pages: 1 -->\n",
       "<svg width=\"521pt\" height=\"256pt\"\n",
       " viewBox=\"0.00 0.00 521.31 255.81\" xmlns=\"http://www.w3.org/2000/svg\" xmlns:xlink=\"http://www.w3.org/1999/xlink\">\n",
       "<g id=\"graph0\" class=\"graph\" transform=\"scale(1 1) rotate(0) translate(4 251.808)\">\n",
       "<title>%3</title>\n",
       "<polygon fill=\"white\" stroke=\"none\" points=\"-4,4 -4,-251.808 517.31,-251.808 517.31,4 -4,4\"/>\n",
       "<!-- EMPTY -->\n",
       "<g id=\"node1\" class=\"node\"><title>EMPTY</title>\n",
       "</g>\n",
       "<!-- St1 -->\n",
       "<g id=\"node2\" class=\"node\"><title>St1</title>\n",
       "<ellipse fill=\"none\" stroke=\"black\" cx=\"112.904\" cy=\"-149.904\" rx=\"21.8081\" ry=\"21.8081\"/>\n",
       "<text text-anchor=\"middle\" x=\"112.904\" y=\"-145.704\" font-family=\"Times,serif\" font-size=\"14.00\">St1</text>\n",
       "</g>\n",
       "<!-- EMPTY&#45;&gt;St1 -->\n",
       "<g id=\"edge1\" class=\"edge\"><title>EMPTY&#45;&gt;St1</title>\n",
       "<path fill=\"none\" stroke=\"black\" d=\"M54.0878,-149.904C62.501,-149.904 71.9126,-149.904 80.6587,-149.904\"/>\n",
       "<polygon fill=\"black\" stroke=\"black\" points=\"80.8854,-153.404 90.8853,-149.904 80.8853,-146.404 80.8854,-153.404\"/>\n",
       "</g>\n",
       "<!-- St10 -->\n",
       "<g id=\"node3\" class=\"node\"><title>St10</title>\n",
       "<ellipse fill=\"none\" stroke=\"black\" cx=\"204.133\" cy=\"-179.904\" rx=\"26.1523\" ry=\"26.1523\"/>\n",
       "<text text-anchor=\"middle\" x=\"204.133\" y=\"-175.704\" font-family=\"Times,serif\" font-size=\"14.00\">St10</text>\n",
       "</g>\n",
       "<!-- St1&#45;&gt;St10 -->\n",
       "<g id=\"edge3\" class=\"edge\"><title>St1&#45;&gt;St10</title>\n",
       "<path fill=\"none\" stroke=\"black\" d=\"M134.151,-156.711C144.516,-160.196 157.41,-164.531 169.237,-168.508\"/>\n",
       "<polygon fill=\"black\" stroke=\"black\" points=\"168.247,-171.867 178.841,-171.737 170.478,-165.232 168.247,-171.867\"/>\n",
       "<text text-anchor=\"middle\" x=\"156.308\" y=\"-167.704\" font-family=\"Times,serif\" font-size=\"14.00\">b</text>\n",
       "</g>\n",
       "<!-- St4 -->\n",
       "<g id=\"node6\" class=\"node\"><title>St4</title>\n",
       "<ellipse fill=\"none\" stroke=\"black\" cx=\"204.133\" cy=\"-113.904\" rx=\"21.8081\" ry=\"21.8081\"/>\n",
       "<text text-anchor=\"middle\" x=\"204.133\" y=\"-109.704\" font-family=\"Times,serif\" font-size=\"14.00\">St4</text>\n",
       "</g>\n",
       "<!-- St1&#45;&gt;St4 -->\n",
       "<g id=\"edge2\" class=\"edge\"><title>St1&#45;&gt;St4</title>\n",
       "<path fill=\"none\" stroke=\"black\" d=\"M133.707,-141.914C145.49,-137.16 160.659,-131.04 173.811,-125.734\"/>\n",
       "<polygon fill=\"black\" stroke=\"black\" points=\"175.422,-128.858 183.386,-121.871 172.803,-122.367 175.422,-128.858\"/>\n",
       "<text text-anchor=\"middle\" x=\"156.308\" y=\"-137.704\" font-family=\"Times,serif\" font-size=\"14.00\">a</text>\n",
       "</g>\n",
       "<!-- St5 -->\n",
       "<g id=\"node5\" class=\"node\"><title>St5</title>\n",
       "<ellipse fill=\"none\" stroke=\"black\" cx=\"298.577\" cy=\"-179.904\" rx=\"21.8081\" ry=\"21.8081\"/>\n",
       "<text text-anchor=\"middle\" x=\"298.577\" y=\"-175.704\" font-family=\"Times,serif\" font-size=\"14.00\">St5</text>\n",
       "</g>\n",
       "<!-- St10&#45;&gt;St5 -->\n",
       "<g id=\"edge6\" class=\"edge\"><title>St10&#45;&gt;St5</title>\n",
       "<path fill=\"none\" stroke=\"black\" d=\"M230.884,-179.904C241.928,-179.904 254.925,-179.904 266.499,-179.904\"/>\n",
       "<polygon fill=\"black\" stroke=\"black\" points=\"266.631,-183.404 276.631,-179.904 266.63,-176.404 266.631,-183.404\"/>\n",
       "<text text-anchor=\"middle\" x=\"251.566\" y=\"-182.704\" font-family=\"Times,serif\" font-size=\"14.00\">c</text>\n",
       "</g>\n",
       "<!-- St8 -->\n",
       "<g id=\"node4\" class=\"node\"><title>St8</title>\n",
       "<ellipse fill=\"none\" stroke=\"black\" cx=\"393.384\" cy=\"-119.904\" rx=\"21.8081\" ry=\"21.8081\"/>\n",
       "<text text-anchor=\"middle\" x=\"393.384\" y=\"-115.704\" font-family=\"Times,serif\" font-size=\"14.00\">St8</text>\n",
       "</g>\n",
       "<!-- St9 -->\n",
       "<g id=\"node9\" class=\"node\"><title>St9</title>\n",
       "<ellipse fill=\"none\" stroke=\"black\" cx=\"487.406\" cy=\"-119.904\" rx=\"21.8229\" ry=\"21.8229\"/>\n",
       "<ellipse fill=\"none\" stroke=\"black\" cx=\"487.406\" cy=\"-119.904\" rx=\"25.8081\" ry=\"25.8081\"/>\n",
       "<text text-anchor=\"middle\" x=\"487.406\" y=\"-115.704\" font-family=\"Times,serif\" font-size=\"14.00\">St9</text>\n",
       "</g>\n",
       "<!-- St8&#45;&gt;St9 -->\n",
       "<g id=\"edge9\" class=\"edge\"><title>St8&#45;&gt;St9</title>\n",
       "<path fill=\"none\" stroke=\"black\" d=\"M415.727,-119.904C426.24,-119.904 439.192,-119.904 451.124,-119.904\"/>\n",
       "<polygon fill=\"black\" stroke=\"black\" points=\"451.261,-123.404 461.261,-119.904 451.261,-116.404 451.261,-123.404\"/>\n",
       "<text text-anchor=\"middle\" x=\"440.395\" y=\"-122.704\" font-family=\"Times,serif\" font-size=\"14.00\">c</text>\n",
       "</g>\n",
       "<!-- St5&#45;&gt;St8 -->\n",
       "<g id=\"edge11\" class=\"edge\"><title>St5&#45;&gt;St8</title>\n",
       "<path fill=\"none\" stroke=\"black\" d=\"M317.471,-168.335C331.209,-159.454 350.39,-147.053 365.903,-137.024\"/>\n",
       "<polygon fill=\"black\" stroke=\"black\" points=\"368.047,-139.805 374.545,-131.437 364.247,-133.927 368.047,-139.805\"/>\n",
       "<text text-anchor=\"middle\" x=\"345.981\" y=\"-154.704\" font-family=\"Times,serif\" font-size=\"14.00\">b</text>\n",
       "</g>\n",
       "<!-- St6 -->\n",
       "<g id=\"node7\" class=\"node\"><title>St6</title>\n",
       "<ellipse fill=\"none\" stroke=\"black\" cx=\"393.384\" cy=\"-189.904\" rx=\"21.8229\" ry=\"21.8229\"/>\n",
       "<ellipse fill=\"none\" stroke=\"black\" cx=\"393.384\" cy=\"-189.904\" rx=\"25.8081\" ry=\"25.8081\"/>\n",
       "<text text-anchor=\"middle\" x=\"393.384\" y=\"-185.704\" font-family=\"Times,serif\" font-size=\"14.00\">St6</text>\n",
       "</g>\n",
       "<!-- St5&#45;&gt;St6 -->\n",
       "<g id=\"edge10\" class=\"edge\"><title>St5&#45;&gt;St6</title>\n",
       "<path fill=\"none\" stroke=\"black\" d=\"M320.636,-182.173C331.499,-183.344 345.036,-184.802 357.415,-186.136\"/>\n",
       "<polygon fill=\"black\" stroke=\"black\" points=\"357.139,-189.626 367.456,-187.218 357.889,-182.667 357.139,-189.626\"/>\n",
       "<text text-anchor=\"middle\" x=\"345.981\" y=\"-188.704\" font-family=\"Times,serif\" font-size=\"14.00\">a</text>\n",
       "</g>\n",
       "<!-- St4&#45;&gt;St8 -->\n",
       "<g id=\"edge5\" class=\"edge\"><title>St4&#45;&gt;St8</title>\n",
       "<path fill=\"none\" stroke=\"black\" d=\"M226.249,-114.58C259.209,-115.637 323.06,-117.683 361.289,-118.908\"/>\n",
       "<polygon fill=\"black\" stroke=\"black\" points=\"361.238,-122.408 371.345,-119.23 361.463,-115.411 361.238,-122.408\"/>\n",
       "<text text-anchor=\"middle\" x=\"298.577\" y=\"-120.704\" font-family=\"Times,serif\" font-size=\"14.00\">b</text>\n",
       "</g>\n",
       "<!-- St3 -->\n",
       "<g id=\"node8\" class=\"node\"><title>St3</title>\n",
       "<ellipse fill=\"none\" stroke=\"black\" cx=\"298.577\" cy=\"-25.9039\" rx=\"21.8229\" ry=\"21.8229\"/>\n",
       "<ellipse fill=\"none\" stroke=\"black\" cx=\"298.577\" cy=\"-25.9039\" rx=\"25.8081\" ry=\"25.8081\"/>\n",
       "<text text-anchor=\"middle\" x=\"298.577\" y=\"-21.7039\" font-family=\"Times,serif\" font-size=\"14.00\">St3</text>\n",
       "</g>\n",
       "<!-- St4&#45;&gt;St3 -->\n",
       "<g id=\"edge4\" class=\"edge\"><title>St4&#45;&gt;St3</title>\n",
       "<path fill=\"none\" stroke=\"black\" d=\"M220.815,-98.9759C234.715,-85.7436 255.286,-66.162 271.634,-50.5992\"/>\n",
       "<polygon fill=\"black\" stroke=\"black\" points=\"274.443,-52.7576 279.273,-43.3276 269.617,-47.6874 274.443,-52.7576\"/>\n",
       "<text text-anchor=\"middle\" x=\"251.566\" y=\"-75.7039\" font-family=\"Times,serif\" font-size=\"14.00\">a</text>\n",
       "</g>\n",
       "<!-- St6&#45;&gt;St6 -->\n",
       "<g id=\"edge12\" class=\"edge\"><title>St6&#45;&gt;St6</title>\n",
       "<path fill=\"none\" stroke=\"black\" d=\"M384.835,-214.728C384.246,-225.054 387.095,-233.808 393.384,-233.808 397.413,-233.808 400.031,-230.215 401.237,-224.918\"/>\n",
       "<polygon fill=\"black\" stroke=\"black\" points=\"404.743,-224.943 401.934,-214.728 397.759,-224.465 404.743,-224.943\"/>\n",
       "<text text-anchor=\"middle\" x=\"393.384\" y=\"-236.608\" font-family=\"Times,serif\" font-size=\"14.00\">a</text>\n",
       "</g>\n",
       "<!-- St3&#45;&gt;St8 -->\n",
       "<g id=\"edge8\" class=\"edge\"><title>St3&#45;&gt;St8</title>\n",
       "<path fill=\"none\" stroke=\"black\" d=\"M317.471,-44.028C332.409,-59.1578 353.782,-80.8056 369.879,-97.109\"/>\n",
       "<polygon fill=\"black\" stroke=\"black\" points=\"367.789,-99.9742 377.305,-104.631 372.77,-95.0561 367.789,-99.9742\"/>\n",
       "<text text-anchor=\"middle\" x=\"345.981\" y=\"-78.7039\" font-family=\"Times,serif\" font-size=\"14.00\">b</text>\n",
       "</g>\n",
       "<!-- St3&#45;&gt;St3 -->\n",
       "<g id=\"edge7\" class=\"edge\"><title>St3&#45;&gt;St3</title>\n",
       "<path fill=\"none\" stroke=\"black\" d=\"M290.027,-50.7276C289.438,-61.0541 292.288,-69.8077 298.577,-69.8077 302.606,-69.8077 305.223,-66.2152 306.429,-60.9182\"/>\n",
       "<polygon fill=\"black\" stroke=\"black\" points=\"309.935,-60.9431 307.126,-50.7276 302.952,-60.4654 309.935,-60.9431\"/>\n",
       "<text text-anchor=\"middle\" x=\"298.577\" y=\"-72.6077\" font-family=\"Times,serif\" font-size=\"14.00\">a</text>\n",
       "</g>\n",
       "</g>\n",
       "</svg>\n"
      ],
      "text/plain": [
       "<graphviz.dot.Digraph at 0x10d270e80>"
      ]
     },
     "execution_count": 28,
     "metadata": {},
     "output_type": "execute_result"
    }
   ],
   "source": [
    "dotObj_dfa(d2c)"
   ]
  },
  {
   "cell_type": "code",
   "execution_count": 29,
   "metadata": {
    "run_control": {
     "frozen": false,
     "read_only": false
    }
   },
   "outputs": [
    {
     "name": "stdout",
     "output_type": "stream",
     "text": [
      "The DFA are NOT language equivalent!\n",
      "Path leading to counterexample is: \n",
      "[('St1', 'St1'), ('St7', 'St10'), ('St8', 'St5'), ('St9', 'St6')]\n"
     ]
    },
    {
     "name": "stderr",
     "output_type": "stream",
     "text": [
      "Generating LALR tables\n",
      "Generating LALR tables\n"
     ]
    },
    {
     "data": {
      "text/plain": [
       "False"
      ]
     },
     "execution_count": 29,
     "metadata": {},
     "output_type": "execute_result"
    }
   ],
   "source": [
    "d1d=nfa2dfa(re2nfa(\"aaa*+aa*bc+bcaaa*+bcbc\"))\n",
    "d2d=nfa2dfa(re2nfa(\"(aa*+bc)(aa*+bc)\"))\n",
    "langeq_dfa(d1d,d2d,True)"
   ]
  },
  {
   "cell_type": "code",
   "execution_count": 30,
   "metadata": {
    "run_control": {
     "frozen": false,
     "read_only": false
    }
   },
   "outputs": [
    {
     "name": "stdout",
     "output_type": "stream",
     "text": [
      "The DFA are NOT language equivalent!\n",
      "Path leading to counterexample is: \n",
      "[('St1', 'St1'), ('St7', 'St10'), ('St8', 'St5'), ('St9', 'St6')]\n"
     ]
    },
    {
     "name": "stderr",
     "output_type": "stream",
     "text": [
      "Generating LALR tables\n",
      "Generating LALR tables\n"
     ]
    },
    {
     "data": {
      "text/plain": [
       "False"
      ]
     },
     "execution_count": 30,
     "metadata": {},
     "output_type": "execute_result"
    }
   ],
   "source": [
    "d1d=nfa2dfa(re2nfa(\"a a a*+a a* b c+ b c a a a*+b c b c\"))\n",
    "d2d=nfa2dfa(re2nfa(\"(a a*+b c)(a a*+b c)\"))\n",
    "langeq_dfa(d1d,d2d,True)"
   ]
  },
  {
   "cell_type": "code",
   "execution_count": 31,
   "metadata": {
    "run_control": {
     "frozen": false,
     "read_only": false
    }
   },
   "outputs": [
    {
     "data": {
      "image/svg+xml": [
       "<?xml version=\"1.0\" encoding=\"UTF-8\" standalone=\"no\"?>\n",
       "<!DOCTYPE svg PUBLIC \"-//W3C//DTD SVG 1.1//EN\"\n",
       " \"http://www.w3.org/Graphics/SVG/1.1/DTD/svg11.dtd\">\n",
       "<!-- Generated by graphviz version 2.38.0 (20140413.2041)\n",
       " -->\n",
       "<!-- Title: %3 Pages: 1 -->\n",
       "<svg width=\"625pt\" height=\"295pt\"\n",
       " viewBox=\"0.00 0.00 625.16 295.23\" xmlns=\"http://www.w3.org/2000/svg\" xmlns:xlink=\"http://www.w3.org/1999/xlink\">\n",
       "<g id=\"graph0\" class=\"graph\" transform=\"scale(1 1) rotate(0) translate(4 291.229)\">\n",
       "<title>%3</title>\n",
       "<polygon fill=\"white\" stroke=\"none\" points=\"-4,4 -4,-291.229 621.157,-291.229 621.157,4 -4,4\"/>\n",
       "<!-- EMPTY -->\n",
       "<g id=\"node1\" class=\"node\"><title>EMPTY</title>\n",
       "</g>\n",
       "<!-- St1 -->\n",
       "<g id=\"node2\" class=\"node\"><title>St1</title>\n",
       "<ellipse fill=\"none\" stroke=\"black\" cx=\"112.904\" cy=\"-191.326\" rx=\"21.8081\" ry=\"21.8081\"/>\n",
       "<text text-anchor=\"middle\" x=\"112.904\" y=\"-187.126\" font-family=\"Times,serif\" font-size=\"14.00\">St1</text>\n",
       "</g>\n",
       "<!-- EMPTY&#45;&gt;St1 -->\n",
       "<g id=\"edge1\" class=\"edge\"><title>EMPTY&#45;&gt;St1</title>\n",
       "<path fill=\"none\" stroke=\"black\" d=\"M54.0878,-191.326C62.501,-191.326 71.9126,-191.326 80.6587,-191.326\"/>\n",
       "<polygon fill=\"black\" stroke=\"black\" points=\"80.8854,-194.826 90.8853,-191.326 80.8853,-187.826 80.8854,-194.826\"/>\n",
       "</g>\n",
       "<!-- St4 -->\n",
       "<g id=\"node5\" class=\"node\"><title>St4</title>\n",
       "<ellipse fill=\"none\" stroke=\"black\" cx=\"199.712\" cy=\"-225.326\" rx=\"21.8081\" ry=\"21.8081\"/>\n",
       "<text text-anchor=\"middle\" x=\"199.712\" y=\"-221.126\" font-family=\"Times,serif\" font-size=\"14.00\">St4</text>\n",
       "</g>\n",
       "<!-- St1&#45;&gt;St4 -->\n",
       "<g id=\"edge2\" class=\"edge\"><title>St1&#45;&gt;St4</title>\n",
       "<path fill=\"none\" stroke=\"black\" d=\"M133.574,-199.211C144.277,-203.503 157.725,-208.894 169.618,-213.662\"/>\n",
       "<polygon fill=\"black\" stroke=\"black\" points=\"168.564,-217.01 179.149,-217.483 171.169,-210.513 168.564,-217.01\"/>\n",
       "<text text-anchor=\"middle\" x=\"156.308\" y=\"-212.126\" font-family=\"Times,serif\" font-size=\"14.00\">a</text>\n",
       "</g>\n",
       "<!-- St7 -->\n",
       "<g id=\"node6\" class=\"node\"><title>St7</title>\n",
       "<ellipse fill=\"none\" stroke=\"black\" cx=\"199.712\" cy=\"-148.326\" rx=\"21.8081\" ry=\"21.8081\"/>\n",
       "<text text-anchor=\"middle\" x=\"199.712\" y=\"-144.126\" font-family=\"Times,serif\" font-size=\"14.00\">St7</text>\n",
       "</g>\n",
       "<!-- St1&#45;&gt;St7 -->\n",
       "<g id=\"edge3\" class=\"edge\"><title>St1&#45;&gt;St7</title>\n",
       "<path fill=\"none\" stroke=\"black\" d=\"M132.725,-181.783C143.925,-176.104 158.342,-168.794 170.842,-162.456\"/>\n",
       "<polygon fill=\"black\" stroke=\"black\" points=\"172.606,-165.486 179.943,-157.842 169.441,-159.243 172.606,-165.486\"/>\n",
       "<text text-anchor=\"middle\" x=\"156.308\" y=\"-173.126\" font-family=\"Times,serif\" font-size=\"14.00\">b</text>\n",
       "</g>\n",
       "<!-- St8 -->\n",
       "<g id=\"node3\" class=\"node\"><title>St8</title>\n",
       "<ellipse fill=\"none\" stroke=\"black\" cx=\"289.733\" cy=\"-101.326\" rx=\"21.8081\" ry=\"21.8081\"/>\n",
       "<text text-anchor=\"middle\" x=\"289.733\" y=\"-97.1256\" font-family=\"Times,serif\" font-size=\"14.00\">St8</text>\n",
       "</g>\n",
       "<!-- St9 -->\n",
       "<g id=\"node7\" class=\"node\"><title>St9</title>\n",
       "<ellipse fill=\"none\" stroke=\"black\" cx=\"384.963\" cy=\"-101.326\" rx=\"21.8081\" ry=\"21.8081\"/>\n",
       "<text text-anchor=\"middle\" x=\"384.963\" y=\"-97.1256\" font-family=\"Times,serif\" font-size=\"14.00\">St9</text>\n",
       "</g>\n",
       "<!-- St8&#45;&gt;St9 -->\n",
       "<g id=\"edge10\" class=\"edge\"><title>St8&#45;&gt;St9</title>\n",
       "<path fill=\"none\" stroke=\"black\" d=\"M311.888,-101.326C323.928,-101.326 339.235,-101.326 352.644,-101.326\"/>\n",
       "<polygon fill=\"black\" stroke=\"black\" points=\"352.891,-104.826 362.891,-101.326 352.891,-97.8257 352.891,-104.826\"/>\n",
       "<text text-anchor=\"middle\" x=\"337.137\" y=\"-104.126\" font-family=\"Times,serif\" font-size=\"14.00\">a</text>\n",
       "</g>\n",
       "<!-- St12 -->\n",
       "<g id=\"node8\" class=\"node\"><title>St12</title>\n",
       "<ellipse fill=\"none\" stroke=\"black\" cx=\"384.963\" cy=\"-33.3256\" rx=\"26.1523\" ry=\"26.1523\"/>\n",
       "<text text-anchor=\"middle\" x=\"384.963\" y=\"-29.1256\" font-family=\"Times,serif\" font-size=\"14.00\">St12</text>\n",
       "</g>\n",
       "<!-- St8&#45;&gt;St12 -->\n",
       "<g id=\"edge11\" class=\"edge\"><title>St8&#45;&gt;St12</title>\n",
       "<path fill=\"none\" stroke=\"black\" d=\"M307.833,-88.8533C320.962,-79.2775 339.397,-65.8313 354.837,-54.5691\"/>\n",
       "<polygon fill=\"black\" stroke=\"black\" points=\"357.038,-57.2962 363.055,-48.5755 352.913,-51.6407 357.038,-57.2962\"/>\n",
       "<text text-anchor=\"middle\" x=\"337.137\" y=\"-73.1256\" font-family=\"Times,serif\" font-size=\"14.00\">b</text>\n",
       "</g>\n",
       "<!-- St5 -->\n",
       "<g id=\"node4\" class=\"node\"><title>St5</title>\n",
       "<ellipse fill=\"none\" stroke=\"black\" cx=\"484.614\" cy=\"-261.326\" rx=\"21.8081\" ry=\"21.8081\"/>\n",
       "<text text-anchor=\"middle\" x=\"484.614\" y=\"-257.126\" font-family=\"Times,serif\" font-size=\"14.00\">St5</text>\n",
       "</g>\n",
       "<!-- St6 -->\n",
       "<g id=\"node13\" class=\"node\"><title>St6</title>\n",
       "<ellipse fill=\"none\" stroke=\"black\" cx=\"587.155\" cy=\"-261.326\" rx=\"21.8229\" ry=\"21.8229\"/>\n",
       "<ellipse fill=\"none\" stroke=\"black\" cx=\"587.155\" cy=\"-261.326\" rx=\"25.8081\" ry=\"25.8081\"/>\n",
       "<text text-anchor=\"middle\" x=\"587.155\" y=\"-257.126\" font-family=\"Times,serif\" font-size=\"14.00\">St6</text>\n",
       "</g>\n",
       "<!-- St5&#45;&gt;St6 -->\n",
       "<g id=\"edge9\" class=\"edge\"><title>St5&#45;&gt;St6</title>\n",
       "<path fill=\"none\" stroke=\"black\" d=\"M506.936,-261.326C519.645,-261.326 536.099,-261.326 550.716,-261.326\"/>\n",
       "<polygon fill=\"black\" stroke=\"black\" points=\"550.955,-264.826 560.955,-261.326 550.955,-257.826 550.955,-264.826\"/>\n",
       "<text text-anchor=\"middle\" x=\"536.046\" y=\"-264.126\" font-family=\"Times,serif\" font-size=\"14.00\">c</text>\n",
       "</g>\n",
       "<!-- St4&#45;&gt;St5 -->\n",
       "<g id=\"edge5\" class=\"edge\"><title>St4&#45;&gt;St5</title>\n",
       "<path fill=\"none\" stroke=\"black\" d=\"M217.986,-237.739C230.166,-245.757 247.209,-255.555 263.829,-260.326 328.916,-279.006 409.38,-272.268 452.625,-266.376\"/>\n",
       "<polygon fill=\"black\" stroke=\"black\" points=\"453.387,-269.802 462.786,-264.912 452.389,-262.874 453.387,-269.802\"/>\n",
       "<text text-anchor=\"middle\" x=\"337.137\" y=\"-274.126\" font-family=\"Times,serif\" font-size=\"14.00\">b</text>\n",
       "</g>\n",
       "<!-- St2 -->\n",
       "<g id=\"node10\" class=\"node\"><title>St2</title>\n",
       "<ellipse fill=\"none\" stroke=\"black\" cx=\"289.733\" cy=\"-225.326\" rx=\"21.8229\" ry=\"21.8229\"/>\n",
       "<ellipse fill=\"none\" stroke=\"black\" cx=\"289.733\" cy=\"-225.326\" rx=\"25.8081\" ry=\"25.8081\"/>\n",
       "<text text-anchor=\"middle\" x=\"289.733\" y=\"-221.126\" font-family=\"Times,serif\" font-size=\"14.00\">St2</text>\n",
       "</g>\n",
       "<!-- St4&#45;&gt;St2 -->\n",
       "<g id=\"edge4\" class=\"edge\"><title>St4&#45;&gt;St2</title>\n",
       "<path fill=\"none\" stroke=\"black\" d=\"M222.019,-225.326C231.406,-225.326 242.691,-225.326 253.287,-225.326\"/>\n",
       "<polygon fill=\"black\" stroke=\"black\" points=\"253.558,-228.826 263.558,-225.326 253.558,-221.826 253.558,-228.826\"/>\n",
       "<text text-anchor=\"middle\" x=\"242.722\" y=\"-228.126\" font-family=\"Times,serif\" font-size=\"14.00\">a</text>\n",
       "</g>\n",
       "<!-- St7&#45;&gt;St8 -->\n",
       "<g id=\"edge6\" class=\"edge\"><title>St7&#45;&gt;St8</title>\n",
       "<path fill=\"none\" stroke=\"black\" d=\"M219.379,-138.358C231.515,-131.878 247.553,-123.314 261.149,-116.055\"/>\n",
       "<polygon fill=\"black\" stroke=\"black\" points=\"262.92,-119.076 270.093,-111.279 259.623,-112.902 262.92,-119.076\"/>\n",
       "<text text-anchor=\"middle\" x=\"242.722\" y=\"-129.126\" font-family=\"Times,serif\" font-size=\"14.00\">c</text>\n",
       "</g>\n",
       "<!-- St10 -->\n",
       "<g id=\"node12\" class=\"node\"><title>St10</title>\n",
       "<ellipse fill=\"none\" stroke=\"black\" cx=\"484.614\" cy=\"-109.326\" rx=\"26.1751\" ry=\"26.1751\"/>\n",
       "<ellipse fill=\"none\" stroke=\"black\" cx=\"484.614\" cy=\"-109.326\" rx=\"30.1522\" ry=\"30.1522\"/>\n",
       "<text text-anchor=\"middle\" x=\"484.614\" y=\"-105.126\" font-family=\"Times,serif\" font-size=\"14.00\">St10</text>\n",
       "</g>\n",
       "<!-- St9&#45;&gt;St10 -->\n",
       "<g id=\"edge14\" class=\"edge\"><title>St9&#45;&gt;St10</title>\n",
       "<path fill=\"none\" stroke=\"black\" d=\"M407.152,-103.061C417.932,-103.945 431.393,-105.047 444.003,-106.08\"/>\n",
       "<polygon fill=\"black\" stroke=\"black\" points=\"444.065,-109.597 454.317,-106.926 444.637,-102.621 444.065,-109.597\"/>\n",
       "<text text-anchor=\"middle\" x=\"432.788\" y=\"-108.126\" font-family=\"Times,serif\" font-size=\"14.00\">a</text>\n",
       "</g>\n",
       "<!-- St13 -->\n",
       "<g id=\"node9\" class=\"node\"><title>St13</title>\n",
       "<ellipse fill=\"none\" stroke=\"black\" cx=\"484.614\" cy=\"-30.3256\" rx=\"26.1751\" ry=\"26.1751\"/>\n",
       "<ellipse fill=\"none\" stroke=\"black\" cx=\"484.614\" cy=\"-30.3256\" rx=\"30.1522\" ry=\"30.1522\"/>\n",
       "<text text-anchor=\"middle\" x=\"484.614\" y=\"-26.1256\" font-family=\"Times,serif\" font-size=\"14.00\">St13</text>\n",
       "</g>\n",
       "<!-- St12&#45;&gt;St13 -->\n",
       "<g id=\"edge15\" class=\"edge\"><title>St12&#45;&gt;St13</title>\n",
       "<path fill=\"none\" stroke=\"black\" d=\"M411.364,-32.5452C421.3,-32.24 432.931,-31.8827 443.922,-31.545\"/>\n",
       "<polygon fill=\"black\" stroke=\"black\" points=\"444.299,-35.0352 454.187,-31.2296 444.084,-28.0385 444.299,-35.0352\"/>\n",
       "<text text-anchor=\"middle\" x=\"432.788\" y=\"-35.1256\" font-family=\"Times,serif\" font-size=\"14.00\">c</text>\n",
       "</g>\n",
       "<!-- St2&#45;&gt;St5 -->\n",
       "<g id=\"edge8\" class=\"edge\"><title>St2&#45;&gt;St5</title>\n",
       "<path fill=\"none\" stroke=\"black\" d=\"M315.554,-229.958C350.709,-236.52 414.951,-248.51 453.013,-255.614\"/>\n",
       "<polygon fill=\"black\" stroke=\"black\" points=\"452.536,-259.085 463.008,-257.48 453.82,-252.204 452.536,-259.085\"/>\n",
       "<text text-anchor=\"middle\" x=\"384.963\" y=\"-250.126\" font-family=\"Times,serif\" font-size=\"14.00\">b</text>\n",
       "</g>\n",
       "<!-- St3 -->\n",
       "<g id=\"node14\" class=\"node\"><title>St3</title>\n",
       "<ellipse fill=\"none\" stroke=\"black\" cx=\"384.963\" cy=\"-167.326\" rx=\"21.8229\" ry=\"21.8229\"/>\n",
       "<ellipse fill=\"none\" stroke=\"black\" cx=\"384.963\" cy=\"-167.326\" rx=\"25.8081\" ry=\"25.8081\"/>\n",
       "<text text-anchor=\"middle\" x=\"384.963\" y=\"-163.126\" font-family=\"Times,serif\" font-size=\"14.00\">St3</text>\n",
       "</g>\n",
       "<!-- St2&#45;&gt;St3 -->\n",
       "<g id=\"edge7\" class=\"edge\"><title>St2&#45;&gt;St3</title>\n",
       "<path fill=\"none\" stroke=\"black\" d=\"M312.356,-211.873C324.711,-204.187 340.392,-194.432 353.928,-186.011\"/>\n",
       "<polygon fill=\"black\" stroke=\"black\" points=\"355.815,-188.959 362.457,-180.705 352.117,-183.015 355.815,-188.959\"/>\n",
       "<text text-anchor=\"middle\" x=\"337.137\" y=\"-200.126\" font-family=\"Times,serif\" font-size=\"14.00\">a</text>\n",
       "</g>\n",
       "<!-- St11 -->\n",
       "<g id=\"node11\" class=\"node\"><title>St11</title>\n",
       "<ellipse fill=\"none\" stroke=\"black\" cx=\"587.155\" cy=\"-109.326\" rx=\"26.0032\" ry=\"26.0032\"/>\n",
       "<ellipse fill=\"none\" stroke=\"black\" cx=\"587.155\" cy=\"-109.326\" rx=\"30.0035\" ry=\"30.0035\"/>\n",
       "<text text-anchor=\"middle\" x=\"587.155\" y=\"-105.126\" font-family=\"Times,serif\" font-size=\"14.00\">St11</text>\n",
       "</g>\n",
       "<!-- St11&#45;&gt;St11 -->\n",
       "<g id=\"edge17\" class=\"edge\"><title>St11&#45;&gt;St11</title>\n",
       "<path fill=\"none\" stroke=\"black\" d=\"M577.801,-137.908C577.494,-148.559 580.612,-157.327 587.155,-157.327 591.449,-157.327 594.268,-153.551 595.612,-147.945\"/>\n",
       "<polygon fill=\"black\" stroke=\"black\" points=\"599.105,-148.18 596.509,-137.908 592.132,-147.556 599.105,-148.18\"/>\n",
       "<text text-anchor=\"middle\" x=\"587.155\" y=\"-160.127\" font-family=\"Times,serif\" font-size=\"14.00\">a</text>\n",
       "</g>\n",
       "<!-- St10&#45;&gt;St11 -->\n",
       "<g id=\"edge16\" class=\"edge\"><title>St10&#45;&gt;St11</title>\n",
       "<path fill=\"none\" stroke=\"black\" d=\"M514.965,-109.326C524.876,-109.326 536.108,-109.326 546.673,-109.326\"/>\n",
       "<polygon fill=\"black\" stroke=\"black\" points=\"546.941,-112.826 556.941,-109.326 546.941,-105.826 546.941,-112.826\"/>\n",
       "<text text-anchor=\"middle\" x=\"536.046\" y=\"-112.126\" font-family=\"Times,serif\" font-size=\"14.00\">a</text>\n",
       "</g>\n",
       "<!-- St3&#45;&gt;St5 -->\n",
       "<g id=\"edge13\" class=\"edge\"><title>St3&#45;&gt;St5</title>\n",
       "<path fill=\"none\" stroke=\"black\" d=\"M404.33,-185.006C420.332,-200.41 443.602,-222.81 460.796,-239.36\"/>\n",
       "<polygon fill=\"black\" stroke=\"black\" points=\"458.588,-242.094 468.22,-246.507 463.443,-237.05 458.588,-242.094\"/>\n",
       "<text text-anchor=\"middle\" x=\"432.788\" y=\"-217.126\" font-family=\"Times,serif\" font-size=\"14.00\">b</text>\n",
       "</g>\n",
       "<!-- St3&#45;&gt;St3 -->\n",
       "<g id=\"edge12\" class=\"edge\"><title>St3&#45;&gt;St3</title>\n",
       "<path fill=\"none\" stroke=\"black\" d=\"M376.413,-192.149C375.824,-202.476 378.674,-211.229 384.963,-211.229 388.992,-211.229 391.609,-207.637 392.815,-202.34\"/>\n",
       "<polygon fill=\"black\" stroke=\"black\" points=\"396.321,-202.365 393.512,-192.149 389.338,-201.887 396.321,-202.365\"/>\n",
       "<text text-anchor=\"middle\" x=\"384.963\" y=\"-214.029\" font-family=\"Times,serif\" font-size=\"14.00\">a</text>\n",
       "</g>\n",
       "</g>\n",
       "</svg>\n"
      ],
      "text/plain": [
       "<graphviz.dot.Digraph at 0x10d297d68>"
      ]
     },
     "execution_count": 31,
     "metadata": {},
     "output_type": "execute_result"
    }
   ],
   "source": [
    "dotObj_dfa(d1d)"
   ]
  },
  {
   "cell_type": "code",
   "execution_count": 32,
   "metadata": {
    "run_control": {
     "frozen": false,
     "read_only": false
    }
   },
   "outputs": [
    {
     "data": {
      "image/svg+xml": [
       "<?xml version=\"1.0\" encoding=\"UTF-8\" standalone=\"no\"?>\n",
       "<!DOCTYPE svg PUBLIC \"-//W3C//DTD SVG 1.1//EN\"\n",
       " \"http://www.w3.org/Graphics/SVG/1.1/DTD/svg11.dtd\">\n",
       "<!-- Generated by graphviz version 2.38.0 (20140413.2041)\n",
       " -->\n",
       "<!-- Title: %3 Pages: 1 -->\n",
       "<svg width=\"616pt\" height=\"289pt\"\n",
       " viewBox=\"0.00 0.00 616.12 288.99\" xmlns=\"http://www.w3.org/2000/svg\" xmlns:xlink=\"http://www.w3.org/1999/xlink\">\n",
       "<g id=\"graph0\" class=\"graph\" transform=\"scale(1 1) rotate(0) translate(4 284.991)\">\n",
       "<title>%3</title>\n",
       "<polygon fill=\"white\" stroke=\"none\" points=\"-4,4 -4,-284.991 612.118,-284.991 612.118,4 -4,4\"/>\n",
       "<!-- EMPTY -->\n",
       "<g id=\"node1\" class=\"node\"><title>EMPTY</title>\n",
       "</g>\n",
       "<!-- St1 -->\n",
       "<g id=\"node2\" class=\"node\"><title>St1</title>\n",
       "<ellipse fill=\"none\" stroke=\"black\" cx=\"112.904\" cy=\"-90.0868\" rx=\"21.8081\" ry=\"21.8081\"/>\n",
       "<text text-anchor=\"middle\" x=\"112.904\" y=\"-85.8868\" font-family=\"Times,serif\" font-size=\"14.00\">St1</text>\n",
       "</g>\n",
       "<!-- EMPTY&#45;&gt;St1 -->\n",
       "<g id=\"edge1\" class=\"edge\"><title>EMPTY&#45;&gt;St1</title>\n",
       "<path fill=\"none\" stroke=\"black\" d=\"M54.0878,-90.0868C62.501,-90.0868 71.9126,-90.0868 80.6587,-90.0868\"/>\n",
       "<polygon fill=\"black\" stroke=\"black\" points=\"80.8854,-93.5869 90.8853,-90.0868 80.8853,-86.5869 80.8854,-93.5869\"/>\n",
       "</g>\n",
       "<!-- St10 -->\n",
       "<g id=\"node3\" class=\"node\"><title>St10</title>\n",
       "<ellipse fill=\"none\" stroke=\"black\" cx=\"204.133\" cy=\"-125.087\" rx=\"26.1523\" ry=\"26.1523\"/>\n",
       "<text text-anchor=\"middle\" x=\"204.133\" y=\"-120.887\" font-family=\"Times,serif\" font-size=\"14.00\">St10</text>\n",
       "</g>\n",
       "<!-- St1&#45;&gt;St10 -->\n",
       "<g id=\"edge3\" class=\"edge\"><title>St1&#45;&gt;St10</title>\n",
       "<path fill=\"none\" stroke=\"black\" d=\"M133.707,-97.8545C144.321,-102.018 157.683,-107.259 169.843,-112.029\"/>\n",
       "<polygon fill=\"black\" stroke=\"black\" points=\"168.674,-115.33 179.262,-115.723 171.23,-108.813 168.674,-115.33\"/>\n",
       "<text text-anchor=\"middle\" x=\"156.308\" y=\"-110.887\" font-family=\"Times,serif\" font-size=\"14.00\">b</text>\n",
       "</g>\n",
       "<!-- St4 -->\n",
       "<g id=\"node6\" class=\"node\"><title>St4</title>\n",
       "<ellipse fill=\"none\" stroke=\"black\" cx=\"204.133\" cy=\"-46.0868\" rx=\"21.8081\" ry=\"21.8081\"/>\n",
       "<text text-anchor=\"middle\" x=\"204.133\" y=\"-41.8868\" font-family=\"Times,serif\" font-size=\"14.00\">St4</text>\n",
       "</g>\n",
       "<!-- St1&#45;&gt;St4 -->\n",
       "<g id=\"edge2\" class=\"edge\"><title>St1&#45;&gt;St4</title>\n",
       "<path fill=\"none\" stroke=\"black\" d=\"M132.827,-80.7556C145.13,-74.6887 161.388,-66.6719 175.17,-59.8757\"/>\n",
       "<polygon fill=\"black\" stroke=\"black\" points=\"176.816,-62.9664 184.237,-55.4047 173.721,-56.6882 176.816,-62.9664\"/>\n",
       "<text text-anchor=\"middle\" x=\"156.308\" y=\"-73.8868\" font-family=\"Times,serif\" font-size=\"14.00\">a</text>\n",
       "</g>\n",
       "<!-- St5 -->\n",
       "<g id=\"node5\" class=\"node\"><title>St5</title>\n",
       "<ellipse fill=\"none\" stroke=\"black\" cx=\"298.577\" cy=\"-165.087\" rx=\"21.8081\" ry=\"21.8081\"/>\n",
       "<text text-anchor=\"middle\" x=\"298.577\" y=\"-160.887\" font-family=\"Times,serif\" font-size=\"14.00\">St5</text>\n",
       "</g>\n",
       "<!-- St10&#45;&gt;St5 -->\n",
       "<g id=\"edge6\" class=\"edge\"><title>St10&#45;&gt;St5</title>\n",
       "<path fill=\"none\" stroke=\"black\" d=\"M228.461,-135.181C240.736,-140.492 255.894,-147.051 268.883,-152.671\"/>\n",
       "<polygon fill=\"black\" stroke=\"black\" points=\"267.742,-155.991 278.31,-156.75 270.522,-149.567 267.742,-155.991\"/>\n",
       "<text text-anchor=\"middle\" x=\"251.566\" y=\"-149.887\" font-family=\"Times,serif\" font-size=\"14.00\">c</text>\n",
       "</g>\n",
       "<!-- St8 -->\n",
       "<g id=\"node4\" class=\"node\"><title>St8</title>\n",
       "<ellipse fill=\"none\" stroke=\"black\" cx=\"488.192\" cy=\"-36.0868\" rx=\"21.8081\" ry=\"21.8081\"/>\n",
       "<text text-anchor=\"middle\" x=\"488.192\" y=\"-31.8868\" font-family=\"Times,serif\" font-size=\"14.00\">St8</text>\n",
       "</g>\n",
       "<!-- St9 -->\n",
       "<g id=\"node11\" class=\"node\"><title>St9</title>\n",
       "<ellipse fill=\"none\" stroke=\"black\" cx=\"582.214\" cy=\"-36.0868\" rx=\"21.8229\" ry=\"21.8229\"/>\n",
       "<ellipse fill=\"none\" stroke=\"black\" cx=\"582.214\" cy=\"-36.0868\" rx=\"25.8081\" ry=\"25.8081\"/>\n",
       "<text text-anchor=\"middle\" x=\"582.214\" y=\"-31.8868\" font-family=\"Times,serif\" font-size=\"14.00\">St9</text>\n",
       "</g>\n",
       "<!-- St8&#45;&gt;St9 -->\n",
       "<g id=\"edge9\" class=\"edge\"><title>St8&#45;&gt;St9</title>\n",
       "<path fill=\"none\" stroke=\"black\" d=\"M510.535,-36.0868C521.048,-36.0868 533.999,-36.0868 545.932,-36.0868\"/>\n",
       "<polygon fill=\"black\" stroke=\"black\" points=\"546.068,-39.5869 556.068,-36.0868 546.068,-32.5869 546.068,-39.5869\"/>\n",
       "<text text-anchor=\"middle\" x=\"535.203\" y=\"-38.8868\" font-family=\"Times,serif\" font-size=\"14.00\">c</text>\n",
       "</g>\n",
       "<!-- St5&#45;&gt;St8 -->\n",
       "<g id=\"edge11\" class=\"edge\"><title>St5&#45;&gt;St8</title>\n",
       "<path fill=\"none\" stroke=\"black\" d=\"M320.927,-164.943C346.45,-163.787 389.449,-158.616 419.288,-138.087 445.205,-120.256 463.838,-88.9907 474.954,-65.7612\"/>\n",
       "<polygon fill=\"black\" stroke=\"black\" points=\"478.278,-66.9097 479.258,-56.3602 471.913,-63.9961 478.278,-66.9097\"/>\n",
       "<text text-anchor=\"middle\" x=\"393.384\" y=\"-161.887\" font-family=\"Times,serif\" font-size=\"14.00\">b</text>\n",
       "</g>\n",
       "<!-- St6 -->\n",
       "<g id=\"node8\" class=\"node\"><title>St6</title>\n",
       "<ellipse fill=\"none\" stroke=\"black\" cx=\"393.384\" cy=\"-223.087\" rx=\"21.8229\" ry=\"21.8229\"/>\n",
       "<ellipse fill=\"none\" stroke=\"black\" cx=\"393.384\" cy=\"-223.087\" rx=\"25.8081\" ry=\"25.8081\"/>\n",
       "<text text-anchor=\"middle\" x=\"393.384\" y=\"-218.887\" font-family=\"Times,serif\" font-size=\"14.00\">St6</text>\n",
       "</g>\n",
       "<!-- St5&#45;&gt;St6 -->\n",
       "<g id=\"edge10\" class=\"edge\"><title>St5&#45;&gt;St6</title>\n",
       "<path fill=\"none\" stroke=\"black\" d=\"M317.471,-176.27C330.121,-184.175 347.386,-194.965 362.153,-204.194\"/>\n",
       "<polygon fill=\"black\" stroke=\"black\" points=\"360.626,-207.367 370.961,-209.699 364.336,-201.431 360.626,-207.367\"/>\n",
       "<text text-anchor=\"middle\" x=\"345.981\" y=\"-198.887\" font-family=\"Times,serif\" font-size=\"14.00\">a</text>\n",
       "</g>\n",
       "<!-- St4&#45;&gt;St8 -->\n",
       "<g id=\"edge5\" class=\"edge\"><title>St4&#45;&gt;St8</title>\n",
       "<path fill=\"none\" stroke=\"black\" d=\"M222.585,-34.2431C235.724,-26.0424 254.518,-15.7878 272.673,-11.0868 346.612,8.05935 370.434,-0.613617 444.288,-20.0868 448.821,-21.282 453.542,-22.7756 458.124,-24.3666\"/>\n",
       "<polygon fill=\"black\" stroke=\"black\" points=\"457.213,-27.7604 467.806,-27.9273 459.629,-21.1906 457.213,-27.7604\"/>\n",
       "<text text-anchor=\"middle\" x=\"345.981\" y=\"-3.88683\" font-family=\"Times,serif\" font-size=\"14.00\">b</text>\n",
       "</g>\n",
       "<!-- St3 -->\n",
       "<g id=\"node9\" class=\"node\"><title>St3</title>\n",
       "<ellipse fill=\"none\" stroke=\"black\" cx=\"298.577\" cy=\"-46.0868\" rx=\"21.8229\" ry=\"21.8229\"/>\n",
       "<ellipse fill=\"none\" stroke=\"black\" cx=\"298.577\" cy=\"-46.0868\" rx=\"25.8081\" ry=\"25.8081\"/>\n",
       "<text text-anchor=\"middle\" x=\"298.577\" y=\"-41.8868\" font-family=\"Times,serif\" font-size=\"14.00\">St3</text>\n",
       "</g>\n",
       "<!-- St4&#45;&gt;St3 -->\n",
       "<g id=\"edge4\" class=\"edge\"><title>St4&#45;&gt;St3</title>\n",
       "<path fill=\"none\" stroke=\"black\" d=\"M226.11,-46.0868C236.74,-46.0868 249.94,-46.0868 262.092,-46.0868\"/>\n",
       "<polygon fill=\"black\" stroke=\"black\" points=\"262.41,-49.5869 272.41,-46.0868 262.41,-42.5869 262.41,-49.5869\"/>\n",
       "<text text-anchor=\"middle\" x=\"251.566\" y=\"-48.8868\" font-family=\"Times,serif\" font-size=\"14.00\">a</text>\n",
       "</g>\n",
       "<!-- St2 -->\n",
       "<g id=\"node7\" class=\"node\"><title>St2</title>\n",
       "<ellipse fill=\"none\" stroke=\"black\" cx=\"393.384\" cy=\"-71.0868\" rx=\"21.8229\" ry=\"21.8229\"/>\n",
       "<ellipse fill=\"none\" stroke=\"black\" cx=\"393.384\" cy=\"-71.0868\" rx=\"25.8081\" ry=\"25.8081\"/>\n",
       "<text text-anchor=\"middle\" x=\"393.384\" y=\"-66.8868\" font-family=\"Times,serif\" font-size=\"14.00\">St2</text>\n",
       "</g>\n",
       "<!-- St2&#45;&gt;St8 -->\n",
       "<g id=\"edge13\" class=\"edge\"><title>St2&#45;&gt;St8</title>\n",
       "<path fill=\"none\" stroke=\"black\" d=\"M417.804,-62.2549C430.042,-57.6395 445.134,-51.9481 458.113,-47.0531\"/>\n",
       "<polygon fill=\"black\" stroke=\"black\" points=\"459.424,-50.2996 467.545,-43.4961 456.954,-43.7499 459.424,-50.2996\"/>\n",
       "<text text-anchor=\"middle\" x=\"440.788\" y=\"-57.8868\" font-family=\"Times,serif\" font-size=\"14.00\">b</text>\n",
       "</g>\n",
       "<!-- St2&#45;&gt;St2 -->\n",
       "<g id=\"edge12\" class=\"edge\"><title>St2&#45;&gt;St2</title>\n",
       "<path fill=\"none\" stroke=\"black\" d=\"M384.835,-95.9105C384.246,-106.237 387.095,-114.991 393.384,-114.991 397.413,-114.991 400.031,-111.398 401.237,-106.101\"/>\n",
       "<polygon fill=\"black\" stroke=\"black\" points=\"404.743,-106.126 401.934,-95.9105 397.759,-105.648 404.743,-106.126\"/>\n",
       "<text text-anchor=\"middle\" x=\"393.384\" y=\"-117.791\" font-family=\"Times,serif\" font-size=\"14.00\">a</text>\n",
       "</g>\n",
       "<!-- St7 -->\n",
       "<g id=\"node10\" class=\"node\"><title>St7</title>\n",
       "<ellipse fill=\"none\" stroke=\"black\" cx=\"488.192\" cy=\"-223.087\" rx=\"21.8229\" ry=\"21.8229\"/>\n",
       "<ellipse fill=\"none\" stroke=\"black\" cx=\"488.192\" cy=\"-223.087\" rx=\"25.8081\" ry=\"25.8081\"/>\n",
       "<text text-anchor=\"middle\" x=\"488.192\" y=\"-218.887\" font-family=\"Times,serif\" font-size=\"14.00\">St7</text>\n",
       "</g>\n",
       "<!-- St6&#45;&gt;St7 -->\n",
       "<g id=\"edge14\" class=\"edge\"><title>St6&#45;&gt;St7</title>\n",
       "<path fill=\"none\" stroke=\"black\" d=\"M419.745,-223.087C429.646,-223.087 441.17,-223.087 451.861,-223.087\"/>\n",
       "<polygon fill=\"black\" stroke=\"black\" points=\"452.184,-226.587 462.184,-223.087 452.184,-219.587 452.184,-226.587\"/>\n",
       "<text text-anchor=\"middle\" x=\"440.788\" y=\"-225.887\" font-family=\"Times,serif\" font-size=\"14.00\">a</text>\n",
       "</g>\n",
       "<!-- St3&#45;&gt;St8 -->\n",
       "<g id=\"edge8\" class=\"edge\"><title>St3&#45;&gt;St8</title>\n",
       "<path fill=\"none\" stroke=\"black\" d=\"M322.621,-35.7407C335.525,-30.513 352.076,-24.729 367.481,-22.0868 397.662,-16.9101 432.457,-22.227 456.728,-27.7318\"/>\n",
       "<polygon fill=\"black\" stroke=\"black\" points=\"456.221,-31.2097 466.763,-30.1546 457.864,-24.4053 456.221,-31.2097\"/>\n",
       "<text text-anchor=\"middle\" x=\"393.384\" y=\"-24.8868\" font-family=\"Times,serif\" font-size=\"14.00\">b</text>\n",
       "</g>\n",
       "<!-- St3&#45;&gt;St2 -->\n",
       "<g id=\"edge7\" class=\"edge\"><title>St3&#45;&gt;St2</title>\n",
       "<path fill=\"none\" stroke=\"black\" d=\"M323.961,-52.6553C334.511,-55.4974 347.039,-58.872 358.473,-61.9521\"/>\n",
       "<polygon fill=\"black\" stroke=\"black\" points=\"357.597,-65.3407 368.163,-64.5622 359.418,-58.5816 357.597,-65.3407\"/>\n",
       "<text text-anchor=\"middle\" x=\"345.981\" y=\"-62.8868\" font-family=\"Times,serif\" font-size=\"14.00\">a</text>\n",
       "</g>\n",
       "<!-- St7&#45;&gt;St7 -->\n",
       "<g id=\"edge15\" class=\"edge\"><title>St7&#45;&gt;St7</title>\n",
       "<path fill=\"none\" stroke=\"black\" d=\"M479.643,-247.911C479.053,-258.237 481.903,-266.991 488.192,-266.991 492.221,-266.991 494.838,-263.398 496.044,-258.101\"/>\n",
       "<polygon fill=\"black\" stroke=\"black\" points=\"499.551,-258.126 496.741,-247.911 492.567,-257.648 499.551,-258.126\"/>\n",
       "<text text-anchor=\"middle\" x=\"488.192\" y=\"-269.791\" font-family=\"Times,serif\" font-size=\"14.00\">a</text>\n",
       "</g>\n",
       "</g>\n",
       "</svg>\n"
      ],
      "text/plain": [
       "<graphviz.dot.Digraph at 0x10d27a128>"
      ]
     },
     "execution_count": 32,
     "metadata": {},
     "output_type": "execute_result"
    }
   ],
   "source": [
    "dotObj_dfa(d2d)"
   ]
  },
  {
   "cell_type": "code",
   "execution_count": 33,
   "metadata": {
    "run_control": {
     "frozen": false,
     "read_only": false
    }
   },
   "outputs": [
    {
     "name": "stderr",
     "output_type": "stream",
     "text": [
      "Generating LALR tables\n"
     ]
    },
    {
     "data": {
      "image/svg+xml": [
       "<?xml version=\"1.0\" encoding=\"UTF-8\" standalone=\"no\"?>\n",
       "<!DOCTYPE svg PUBLIC \"-//W3C//DTD SVG 1.1//EN\"\n",
       " \"http://www.w3.org/Graphics/SVG/1.1/DTD/svg11.dtd\">\n",
       "<!-- Generated by graphviz version 2.38.0 (20140413.2041)\n",
       " -->\n",
       "<!-- Title: %3 Pages: 1 -->\n",
       "<svg width=\"604pt\" height=\"194pt\"\n",
       " viewBox=\"0.00 0.00 604.03 193.81\" xmlns=\"http://www.w3.org/2000/svg\" xmlns:xlink=\"http://www.w3.org/1999/xlink\">\n",
       "<g id=\"graph0\" class=\"graph\" transform=\"scale(1 1) rotate(0) translate(4 189.808)\">\n",
       "<title>%3</title>\n",
       "<polygon fill=\"white\" stroke=\"none\" points=\"-4,4 -4,-189.808 600.028,-189.808 600.028,4 -4,4\"/>\n",
       "<!-- EMPTY -->\n",
       "<g id=\"node1\" class=\"node\"><title>EMPTY</title>\n",
       "</g>\n",
       "<!-- St1 -->\n",
       "<g id=\"node2\" class=\"node\"><title>St1</title>\n",
       "<ellipse fill=\"none\" stroke=\"black\" cx=\"112.904\" cy=\"-84.9039\" rx=\"21.8081\" ry=\"21.8081\"/>\n",
       "<text text-anchor=\"middle\" x=\"112.904\" y=\"-80.7039\" font-family=\"Times,serif\" font-size=\"14.00\">St1</text>\n",
       "</g>\n",
       "<!-- EMPTY&#45;&gt;St1 -->\n",
       "<g id=\"edge1\" class=\"edge\"><title>EMPTY&#45;&gt;St1</title>\n",
       "<path fill=\"none\" stroke=\"black\" d=\"M54.0878,-84.9039C62.501,-84.9039 71.9126,-84.9039 80.6587,-84.9039\"/>\n",
       "<polygon fill=\"black\" stroke=\"black\" points=\"80.8854,-88.404 90.8853,-84.9039 80.8853,-81.404 80.8854,-88.404\"/>\n",
       "</g>\n",
       "<!-- St8 -->\n",
       "<g id=\"node4\" class=\"node\"><title>St8</title>\n",
       "<ellipse fill=\"none\" stroke=\"black\" cx=\"199.712\" cy=\"-113.904\" rx=\"21.8081\" ry=\"21.8081\"/>\n",
       "<text text-anchor=\"middle\" x=\"199.712\" y=\"-109.704\" font-family=\"Times,serif\" font-size=\"14.00\">St8</text>\n",
       "</g>\n",
       "<!-- St1&#45;&gt;St8 -->\n",
       "<g id=\"edge3\" class=\"edge\"><title>St1&#45;&gt;St8</title>\n",
       "<path fill=\"none\" stroke=\"black\" d=\"M134.002,-91.7765C144.458,-95.3519 157.444,-99.7924 169.032,-103.755\"/>\n",
       "<polygon fill=\"black\" stroke=\"black\" points=\"168.163,-107.157 178.758,-107.081 170.428,-100.533 168.163,-107.157\"/>\n",
       "<text text-anchor=\"middle\" x=\"156.308\" y=\"-103.704\" font-family=\"Times,serif\" font-size=\"14.00\">j</text>\n",
       "</g>\n",
       "<!-- St4 -->\n",
       "<g id=\"node6\" class=\"node\"><title>St4</title>\n",
       "<ellipse fill=\"none\" stroke=\"black\" cx=\"199.712\" cy=\"-51.9039\" rx=\"21.8081\" ry=\"21.8081\"/>\n",
       "<text text-anchor=\"middle\" x=\"199.712\" y=\"-47.7039\" font-family=\"Times,serif\" font-size=\"14.00\">St4</text>\n",
       "</g>\n",
       "<!-- St1&#45;&gt;St4 -->\n",
       "<g id=\"edge2\" class=\"edge\"><title>St1&#45;&gt;St4</title>\n",
       "<path fill=\"none\" stroke=\"black\" d=\"M133.574,-77.2501C144.277,-73.085 157.725,-67.8523 169.618,-63.2245\"/>\n",
       "<polygon fill=\"black\" stroke=\"black\" points=\"171.098,-66.4043 179.149,-59.5162 168.56,-59.8808 171.098,-66.4043\"/>\n",
       "<text text-anchor=\"middle\" x=\"156.308\" y=\"-72.7039\" font-family=\"Times,serif\" font-size=\"14.00\">b</text>\n",
       "</g>\n",
       "<!-- St10 -->\n",
       "<g id=\"node3\" class=\"node\"><title>St10</title>\n",
       "<ellipse fill=\"none\" stroke=\"black\" cx=\"381.638\" cy=\"-117.904\" rx=\"26.1523\" ry=\"26.1523\"/>\n",
       "<text text-anchor=\"middle\" x=\"381.638\" y=\"-113.704\" font-family=\"Times,serif\" font-size=\"14.00\">St10</text>\n",
       "</g>\n",
       "<!-- St3 -->\n",
       "<g id=\"node9\" class=\"node\"><title>St3</title>\n",
       "<ellipse fill=\"none\" stroke=\"black\" cx=\"476.868\" cy=\"-127.904\" rx=\"21.8229\" ry=\"21.8229\"/>\n",
       "<ellipse fill=\"none\" stroke=\"black\" cx=\"476.868\" cy=\"-127.904\" rx=\"25.8081\" ry=\"25.8081\"/>\n",
       "<text text-anchor=\"middle\" x=\"476.868\" y=\"-123.704\" font-family=\"Times,serif\" font-size=\"14.00\">St3</text>\n",
       "</g>\n",
       "<!-- St10&#45;&gt;St3 -->\n",
       "<g id=\"edge9\" class=\"edge\"><title>St10&#45;&gt;St3</title>\n",
       "<path fill=\"none\" stroke=\"black\" d=\"M408.114,-120.636C418.246,-121.723 430.069,-122.991 440.976,-124.161\"/>\n",
       "<polygon fill=\"black\" stroke=\"black\" points=\"440.751,-127.657 451.068,-125.244 441.498,-120.697 440.751,-127.657\"/>\n",
       "<text text-anchor=\"middle\" x=\"429.464\" y=\"-126.704\" font-family=\"Times,serif\" font-size=\"14.00\">e</text>\n",
       "</g>\n",
       "<!-- St9 -->\n",
       "<g id=\"node7\" class=\"node\"><title>St9</title>\n",
       "<ellipse fill=\"none\" stroke=\"black\" cx=\"286.519\" cy=\"-114.904\" rx=\"21.8081\" ry=\"21.8081\"/>\n",
       "<text text-anchor=\"middle\" x=\"286.519\" y=\"-110.704\" font-family=\"Times,serif\" font-size=\"14.00\">St9</text>\n",
       "</g>\n",
       "<!-- St8&#45;&gt;St9 -->\n",
       "<g id=\"edge5\" class=\"edge\"><title>St8&#45;&gt;St9</title>\n",
       "<path fill=\"none\" stroke=\"black\" d=\"M221.675,-114.151C231.563,-114.268 243.561,-114.409 254.475,-114.538\"/>\n",
       "<polygon fill=\"black\" stroke=\"black\" points=\"254.462,-118.038 264.503,-114.656 254.545,-111.038 254.462,-118.038\"/>\n",
       "<text text-anchor=\"middle\" x=\"243.115\" y=\"-117.704\" font-family=\"Times,serif\" font-size=\"14.00\">a</text>\n",
       "</g>\n",
       "<!-- St5 -->\n",
       "<g id=\"node5\" class=\"node\"><title>St5</title>\n",
       "<ellipse fill=\"none\" stroke=\"black\" cx=\"286.519\" cy=\"-51.9039\" rx=\"21.8081\" ry=\"21.8081\"/>\n",
       "<text text-anchor=\"middle\" x=\"286.519\" y=\"-47.7039\" font-family=\"Times,serif\" font-size=\"14.00\">St5</text>\n",
       "</g>\n",
       "<!-- St6 -->\n",
       "<g id=\"node8\" class=\"node\"><title>St6</title>\n",
       "<ellipse fill=\"none\" stroke=\"black\" cx=\"381.638\" cy=\"-45.9039\" rx=\"21.8229\" ry=\"21.8229\"/>\n",
       "<ellipse fill=\"none\" stroke=\"black\" cx=\"381.638\" cy=\"-45.9039\" rx=\"25.8081\" ry=\"25.8081\"/>\n",
       "<text text-anchor=\"middle\" x=\"381.638\" y=\"-41.7039\" font-family=\"Times,serif\" font-size=\"14.00\">St6</text>\n",
       "</g>\n",
       "<!-- St5&#45;&gt;St6 -->\n",
       "<g id=\"edge6\" class=\"edge\"><title>St5&#45;&gt;St6</title>\n",
       "<path fill=\"none\" stroke=\"black\" d=\"M308.649,-50.5424C319.549,-49.8401 333.131,-48.9649 345.551,-48.1647\"/>\n",
       "<polygon fill=\"black\" stroke=\"black\" points=\"345.873,-51.6513 355.627,-47.5155 345.422,-44.6658 345.873,-51.6513\"/>\n",
       "<text text-anchor=\"middle\" x=\"331.868\" y=\"-52.7039\" font-family=\"Times,serif\" font-size=\"14.00\">n</text>\n",
       "</g>\n",
       "<!-- St4&#45;&gt;St5 -->\n",
       "<g id=\"edge4\" class=\"edge\"><title>St4&#45;&gt;St5</title>\n",
       "<path fill=\"none\" stroke=\"black\" d=\"M221.675,-51.9039C231.563,-51.9039 243.561,-51.9039 254.475,-51.9039\"/>\n",
       "<polygon fill=\"black\" stroke=\"black\" points=\"254.503,-55.404 264.503,-51.9039 254.503,-48.404 254.503,-55.404\"/>\n",
       "<text text-anchor=\"middle\" x=\"243.115\" y=\"-54.7039\" font-family=\"Times,serif\" font-size=\"14.00\">o</text>\n",
       "</g>\n",
       "<!-- St9&#45;&gt;St10 -->\n",
       "<g id=\"edge7\" class=\"edge\"><title>St9&#45;&gt;St10</title>\n",
       "<path fill=\"none\" stroke=\"black\" d=\"M308.649,-115.585C319.465,-115.933 332.922,-116.367 345.265,-116.764\"/>\n",
       "<polygon fill=\"black\" stroke=\"black\" points=\"345.18,-120.263 355.287,-117.087 345.405,-113.267 345.18,-120.263\"/>\n",
       "<text text-anchor=\"middle\" x=\"331.868\" y=\"-119.704\" font-family=\"Times,serif\" font-size=\"14.00\">m</text>\n",
       "</g>\n",
       "<!-- St7 -->\n",
       "<g id=\"node10\" class=\"node\"><title>St7</title>\n",
       "<ellipse fill=\"none\" stroke=\"black\" cx=\"476.868\" cy=\"-25.9039\" rx=\"21.8229\" ry=\"21.8229\"/>\n",
       "<ellipse fill=\"none\" stroke=\"black\" cx=\"476.868\" cy=\"-25.9039\" rx=\"25.8081\" ry=\"25.8081\"/>\n",
       "<text text-anchor=\"middle\" x=\"476.868\" y=\"-21.7039\" font-family=\"Times,serif\" font-size=\"14.00\">St7</text>\n",
       "</g>\n",
       "<!-- St6&#45;&gt;St7 -->\n",
       "<g id=\"edge8\" class=\"edge\"><title>St6&#45;&gt;St7</title>\n",
       "<path fill=\"none\" stroke=\"black\" d=\"M407.133,-40.6491C417.542,-38.4161 429.867,-35.7722 441.185,-33.3442\"/>\n",
       "<polygon fill=\"black\" stroke=\"black\" points=\"442.169,-36.7127 451.213,-31.193 440.701,-29.8684 442.169,-36.7127\"/>\n",
       "<text text-anchor=\"middle\" x=\"429.464\" y=\"-39.7039\" font-family=\"Times,serif\" font-size=\"14.00\">d</text>\n",
       "</g>\n",
       "<!-- St2 -->\n",
       "<g id=\"node11\" class=\"node\"><title>St2</title>\n",
       "<ellipse fill=\"none\" stroke=\"black\" cx=\"570.124\" cy=\"-127.904\" rx=\"21.8229\" ry=\"21.8229\"/>\n",
       "<ellipse fill=\"none\" stroke=\"black\" cx=\"570.124\" cy=\"-127.904\" rx=\"25.8081\" ry=\"25.8081\"/>\n",
       "<text text-anchor=\"middle\" x=\"570.124\" y=\"-123.704\" font-family=\"Times,serif\" font-size=\"14.00\">St2</text>\n",
       "</g>\n",
       "<!-- St3&#45;&gt;St2 -->\n",
       "<g id=\"edge11\" class=\"edge\"><title>St3&#45;&gt;St2</title>\n",
       "<path fill=\"none\" stroke=\"black\" d=\"M502.804,-127.904C512.461,-127.904 523.687,-127.904 534.127,-127.904\"/>\n",
       "<polygon fill=\"black\" stroke=\"black\" points=\"534.218,-131.404 544.218,-127.904 534.218,-124.404 534.218,-131.404\"/>\n",
       "<text text-anchor=\"middle\" x=\"523.496\" y=\"-130.704\" font-family=\"Times,serif\" font-size=\"14.00\">s</text>\n",
       "</g>\n",
       "<!-- St7&#45;&gt;St7 -->\n",
       "<g id=\"edge10\" class=\"edge\"><title>St7&#45;&gt;St7</title>\n",
       "<path fill=\"none\" stroke=\"black\" d=\"M468.319,-50.7276C467.729,-61.0541 470.579,-69.8077 476.868,-69.8077 480.897,-69.8077 483.514,-66.2152 484.72,-60.9182\"/>\n",
       "<polygon fill=\"black\" stroke=\"black\" points=\"488.227,-60.9431 485.417,-50.7276 481.243,-60.4654 488.227,-60.9431\"/>\n",
       "<text text-anchor=\"middle\" x=\"476.868\" y=\"-72.6077\" font-family=\"Times,serif\" font-size=\"14.00\">d</text>\n",
       "</g>\n",
       "<!-- St2&#45;&gt;St2 -->\n",
       "<g id=\"edge12\" class=\"edge\"><title>St2&#45;&gt;St2</title>\n",
       "<path fill=\"none\" stroke=\"black\" d=\"M561.575,-152.728C560.985,-163.054 563.835,-171.808 570.124,-171.808 574.153,-171.808 576.77,-168.215 577.976,-162.918\"/>\n",
       "<polygon fill=\"black\" stroke=\"black\" points=\"581.483,-162.943 578.673,-152.728 574.499,-162.465 581.483,-162.943\"/>\n",
       "<text text-anchor=\"middle\" x=\"570.124\" y=\"-174.608\" font-family=\"Times,serif\" font-size=\"14.00\">s</text>\n",
       "</g>\n",
       "</g>\n",
       "</svg>\n"
      ],
      "text/plain": [
       "<graphviz.dot.Digraph at 0x10d270a90>"
      ]
     },
     "execution_count": 33,
     "metadata": {},
     "output_type": "execute_result"
    }
   ],
   "source": [
    "d1d=nfa2dfa(re2nfa(\"james*+bond*\"))\n",
    "dotObj_dfa(d1d)"
   ]
  },
  {
   "cell_type": "code",
   "execution_count": 34,
   "metadata": {
    "run_control": {
     "frozen": false,
     "read_only": false
    }
   },
   "outputs": [
    {
     "name": "stderr",
     "output_type": "stream",
     "text": [
      "Generating LALR tables\n"
     ]
    },
    {
     "data": {
      "image/svg+xml": [
       "<?xml version=\"1.0\" encoding=\"UTF-8\" standalone=\"no\"?>\n",
       "<!DOCTYPE svg PUBLIC \"-//W3C//DTD SVG 1.1//EN\"\n",
       " \"http://www.w3.org/Graphics/SVG/1.1/DTD/svg11.dtd\">\n",
       "<!-- Generated by graphviz version 2.38.0 (20140413.2041)\n",
       " -->\n",
       "<!-- Title: %3 Pages: 1 -->\n",
       "<svg width=\"604pt\" height=\"194pt\"\n",
       " viewBox=\"0.00 0.00 604.03 193.81\" xmlns=\"http://www.w3.org/2000/svg\" xmlns:xlink=\"http://www.w3.org/1999/xlink\">\n",
       "<g id=\"graph0\" class=\"graph\" transform=\"scale(1 1) rotate(0) translate(4 189.808)\">\n",
       "<title>%3</title>\n",
       "<polygon fill=\"white\" stroke=\"none\" points=\"-4,4 -4,-189.808 600.028,-189.808 600.028,4 -4,4\"/>\n",
       "<!-- EMPTY -->\n",
       "<g id=\"node1\" class=\"node\"><title>EMPTY</title>\n",
       "</g>\n",
       "<!-- St1 -->\n",
       "<g id=\"node2\" class=\"node\"><title>St1</title>\n",
       "<ellipse fill=\"none\" stroke=\"black\" cx=\"112.904\" cy=\"-84.9039\" rx=\"21.8081\" ry=\"21.8081\"/>\n",
       "<text text-anchor=\"middle\" x=\"112.904\" y=\"-80.7039\" font-family=\"Times,serif\" font-size=\"14.00\">St1</text>\n",
       "</g>\n",
       "<!-- EMPTY&#45;&gt;St1 -->\n",
       "<g id=\"edge1\" class=\"edge\"><title>EMPTY&#45;&gt;St1</title>\n",
       "<path fill=\"none\" stroke=\"black\" d=\"M54.0878,-84.9039C62.501,-84.9039 71.9126,-84.9039 80.6587,-84.9039\"/>\n",
       "<polygon fill=\"black\" stroke=\"black\" points=\"80.8854,-88.404 90.8853,-84.9039 80.8853,-81.404 80.8854,-88.404\"/>\n",
       "</g>\n",
       "<!-- St8 -->\n",
       "<g id=\"node4\" class=\"node\"><title>St8</title>\n",
       "<ellipse fill=\"none\" stroke=\"black\" cx=\"199.712\" cy=\"-113.904\" rx=\"21.8081\" ry=\"21.8081\"/>\n",
       "<text text-anchor=\"middle\" x=\"199.712\" y=\"-109.704\" font-family=\"Times,serif\" font-size=\"14.00\">St8</text>\n",
       "</g>\n",
       "<!-- St1&#45;&gt;St8 -->\n",
       "<g id=\"edge3\" class=\"edge\"><title>St1&#45;&gt;St8</title>\n",
       "<path fill=\"none\" stroke=\"black\" d=\"M134.002,-91.7765C144.458,-95.3519 157.444,-99.7924 169.032,-103.755\"/>\n",
       "<polygon fill=\"black\" stroke=\"black\" points=\"168.163,-107.157 178.758,-107.081 170.428,-100.533 168.163,-107.157\"/>\n",
       "<text text-anchor=\"middle\" x=\"156.308\" y=\"-103.704\" font-family=\"Times,serif\" font-size=\"14.00\">j</text>\n",
       "</g>\n",
       "<!-- St4 -->\n",
       "<g id=\"node6\" class=\"node\"><title>St4</title>\n",
       "<ellipse fill=\"none\" stroke=\"black\" cx=\"199.712\" cy=\"-51.9039\" rx=\"21.8081\" ry=\"21.8081\"/>\n",
       "<text text-anchor=\"middle\" x=\"199.712\" y=\"-47.7039\" font-family=\"Times,serif\" font-size=\"14.00\">St4</text>\n",
       "</g>\n",
       "<!-- St1&#45;&gt;St4 -->\n",
       "<g id=\"edge2\" class=\"edge\"><title>St1&#45;&gt;St4</title>\n",
       "<path fill=\"none\" stroke=\"black\" d=\"M133.574,-77.2501C144.277,-73.085 157.725,-67.8523 169.618,-63.2245\"/>\n",
       "<polygon fill=\"black\" stroke=\"black\" points=\"171.098,-66.4043 179.149,-59.5162 168.56,-59.8808 171.098,-66.4043\"/>\n",
       "<text text-anchor=\"middle\" x=\"156.308\" y=\"-72.7039\" font-family=\"Times,serif\" font-size=\"14.00\">b</text>\n",
       "</g>\n",
       "<!-- St10 -->\n",
       "<g id=\"node3\" class=\"node\"><title>St10</title>\n",
       "<ellipse fill=\"none\" stroke=\"black\" cx=\"381.638\" cy=\"-117.904\" rx=\"26.1523\" ry=\"26.1523\"/>\n",
       "<text text-anchor=\"middle\" x=\"381.638\" y=\"-113.704\" font-family=\"Times,serif\" font-size=\"14.00\">St10</text>\n",
       "</g>\n",
       "<!-- St3 -->\n",
       "<g id=\"node9\" class=\"node\"><title>St3</title>\n",
       "<ellipse fill=\"none\" stroke=\"black\" cx=\"476.868\" cy=\"-127.904\" rx=\"21.8229\" ry=\"21.8229\"/>\n",
       "<ellipse fill=\"none\" stroke=\"black\" cx=\"476.868\" cy=\"-127.904\" rx=\"25.8081\" ry=\"25.8081\"/>\n",
       "<text text-anchor=\"middle\" x=\"476.868\" y=\"-123.704\" font-family=\"Times,serif\" font-size=\"14.00\">St3</text>\n",
       "</g>\n",
       "<!-- St10&#45;&gt;St3 -->\n",
       "<g id=\"edge9\" class=\"edge\"><title>St10&#45;&gt;St3</title>\n",
       "<path fill=\"none\" stroke=\"black\" d=\"M408.114,-120.636C418.246,-121.723 430.069,-122.991 440.976,-124.161\"/>\n",
       "<polygon fill=\"black\" stroke=\"black\" points=\"440.751,-127.657 451.068,-125.244 441.498,-120.697 440.751,-127.657\"/>\n",
       "<text text-anchor=\"middle\" x=\"429.464\" y=\"-126.704\" font-family=\"Times,serif\" font-size=\"14.00\">e</text>\n",
       "</g>\n",
       "<!-- St9 -->\n",
       "<g id=\"node7\" class=\"node\"><title>St9</title>\n",
       "<ellipse fill=\"none\" stroke=\"black\" cx=\"286.519\" cy=\"-114.904\" rx=\"21.8081\" ry=\"21.8081\"/>\n",
       "<text text-anchor=\"middle\" x=\"286.519\" y=\"-110.704\" font-family=\"Times,serif\" font-size=\"14.00\">St9</text>\n",
       "</g>\n",
       "<!-- St8&#45;&gt;St9 -->\n",
       "<g id=\"edge5\" class=\"edge\"><title>St8&#45;&gt;St9</title>\n",
       "<path fill=\"none\" stroke=\"black\" d=\"M221.675,-114.151C231.563,-114.268 243.561,-114.409 254.475,-114.538\"/>\n",
       "<polygon fill=\"black\" stroke=\"black\" points=\"254.462,-118.038 264.503,-114.656 254.545,-111.038 254.462,-118.038\"/>\n",
       "<text text-anchor=\"middle\" x=\"243.115\" y=\"-117.704\" font-family=\"Times,serif\" font-size=\"14.00\">a</text>\n",
       "</g>\n",
       "<!-- St5 -->\n",
       "<g id=\"node5\" class=\"node\"><title>St5</title>\n",
       "<ellipse fill=\"none\" stroke=\"black\" cx=\"286.519\" cy=\"-51.9039\" rx=\"21.8081\" ry=\"21.8081\"/>\n",
       "<text text-anchor=\"middle\" x=\"286.519\" y=\"-47.7039\" font-family=\"Times,serif\" font-size=\"14.00\">St5</text>\n",
       "</g>\n",
       "<!-- St6 -->\n",
       "<g id=\"node8\" class=\"node\"><title>St6</title>\n",
       "<ellipse fill=\"none\" stroke=\"black\" cx=\"381.638\" cy=\"-45.9039\" rx=\"21.8229\" ry=\"21.8229\"/>\n",
       "<ellipse fill=\"none\" stroke=\"black\" cx=\"381.638\" cy=\"-45.9039\" rx=\"25.8081\" ry=\"25.8081\"/>\n",
       "<text text-anchor=\"middle\" x=\"381.638\" y=\"-41.7039\" font-family=\"Times,serif\" font-size=\"14.00\">St6</text>\n",
       "</g>\n",
       "<!-- St5&#45;&gt;St6 -->\n",
       "<g id=\"edge6\" class=\"edge\"><title>St5&#45;&gt;St6</title>\n",
       "<path fill=\"none\" stroke=\"black\" d=\"M308.649,-50.5424C319.549,-49.8401 333.131,-48.9649 345.551,-48.1647\"/>\n",
       "<polygon fill=\"black\" stroke=\"black\" points=\"345.873,-51.6513 355.627,-47.5155 345.422,-44.6658 345.873,-51.6513\"/>\n",
       "<text text-anchor=\"middle\" x=\"331.868\" y=\"-52.7039\" font-family=\"Times,serif\" font-size=\"14.00\">n</text>\n",
       "</g>\n",
       "<!-- St4&#45;&gt;St5 -->\n",
       "<g id=\"edge4\" class=\"edge\"><title>St4&#45;&gt;St5</title>\n",
       "<path fill=\"none\" stroke=\"black\" d=\"M221.675,-51.9039C231.563,-51.9039 243.561,-51.9039 254.475,-51.9039\"/>\n",
       "<polygon fill=\"black\" stroke=\"black\" points=\"254.503,-55.404 264.503,-51.9039 254.503,-48.404 254.503,-55.404\"/>\n",
       "<text text-anchor=\"middle\" x=\"243.115\" y=\"-54.7039\" font-family=\"Times,serif\" font-size=\"14.00\">o</text>\n",
       "</g>\n",
       "<!-- St9&#45;&gt;St10 -->\n",
       "<g id=\"edge7\" class=\"edge\"><title>St9&#45;&gt;St10</title>\n",
       "<path fill=\"none\" stroke=\"black\" d=\"M308.649,-115.585C319.465,-115.933 332.922,-116.367 345.265,-116.764\"/>\n",
       "<polygon fill=\"black\" stroke=\"black\" points=\"345.18,-120.263 355.287,-117.087 345.405,-113.267 345.18,-120.263\"/>\n",
       "<text text-anchor=\"middle\" x=\"331.868\" y=\"-119.704\" font-family=\"Times,serif\" font-size=\"14.00\">m</text>\n",
       "</g>\n",
       "<!-- St7 -->\n",
       "<g id=\"node10\" class=\"node\"><title>St7</title>\n",
       "<ellipse fill=\"none\" stroke=\"black\" cx=\"476.868\" cy=\"-25.9039\" rx=\"21.8229\" ry=\"21.8229\"/>\n",
       "<ellipse fill=\"none\" stroke=\"black\" cx=\"476.868\" cy=\"-25.9039\" rx=\"25.8081\" ry=\"25.8081\"/>\n",
       "<text text-anchor=\"middle\" x=\"476.868\" y=\"-21.7039\" font-family=\"Times,serif\" font-size=\"14.00\">St7</text>\n",
       "</g>\n",
       "<!-- St6&#45;&gt;St7 -->\n",
       "<g id=\"edge8\" class=\"edge\"><title>St6&#45;&gt;St7</title>\n",
       "<path fill=\"none\" stroke=\"black\" d=\"M407.133,-40.6491C417.542,-38.4161 429.867,-35.7722 441.185,-33.3442\"/>\n",
       "<polygon fill=\"black\" stroke=\"black\" points=\"442.169,-36.7127 451.213,-31.193 440.701,-29.8684 442.169,-36.7127\"/>\n",
       "<text text-anchor=\"middle\" x=\"429.464\" y=\"-39.7039\" font-family=\"Times,serif\" font-size=\"14.00\">d</text>\n",
       "</g>\n",
       "<!-- St2 -->\n",
       "<g id=\"node11\" class=\"node\"><title>St2</title>\n",
       "<ellipse fill=\"none\" stroke=\"black\" cx=\"570.124\" cy=\"-127.904\" rx=\"21.8229\" ry=\"21.8229\"/>\n",
       "<ellipse fill=\"none\" stroke=\"black\" cx=\"570.124\" cy=\"-127.904\" rx=\"25.8081\" ry=\"25.8081\"/>\n",
       "<text text-anchor=\"middle\" x=\"570.124\" y=\"-123.704\" font-family=\"Times,serif\" font-size=\"14.00\">St2</text>\n",
       "</g>\n",
       "<!-- St3&#45;&gt;St2 -->\n",
       "<g id=\"edge11\" class=\"edge\"><title>St3&#45;&gt;St2</title>\n",
       "<path fill=\"none\" stroke=\"black\" d=\"M502.804,-127.904C512.461,-127.904 523.687,-127.904 534.127,-127.904\"/>\n",
       "<polygon fill=\"black\" stroke=\"black\" points=\"534.218,-131.404 544.218,-127.904 534.218,-124.404 534.218,-131.404\"/>\n",
       "<text text-anchor=\"middle\" x=\"523.496\" y=\"-130.704\" font-family=\"Times,serif\" font-size=\"14.00\">s</text>\n",
       "</g>\n",
       "<!-- St7&#45;&gt;St7 -->\n",
       "<g id=\"edge10\" class=\"edge\"><title>St7&#45;&gt;St7</title>\n",
       "<path fill=\"none\" stroke=\"black\" d=\"M468.319,-50.7276C467.729,-61.0541 470.579,-69.8077 476.868,-69.8077 480.897,-69.8077 483.514,-66.2152 484.72,-60.9182\"/>\n",
       "<polygon fill=\"black\" stroke=\"black\" points=\"488.227,-60.9431 485.417,-50.7276 481.243,-60.4654 488.227,-60.9431\"/>\n",
       "<text text-anchor=\"middle\" x=\"476.868\" y=\"-72.6077\" font-family=\"Times,serif\" font-size=\"14.00\">d</text>\n",
       "</g>\n",
       "<!-- St2&#45;&gt;St2 -->\n",
       "<g id=\"edge12\" class=\"edge\"><title>St2&#45;&gt;St2</title>\n",
       "<path fill=\"none\" stroke=\"black\" d=\"M561.575,-152.728C560.985,-163.054 563.835,-171.808 570.124,-171.808 574.153,-171.808 576.77,-168.215 577.976,-162.918\"/>\n",
       "<polygon fill=\"black\" stroke=\"black\" points=\"581.483,-162.943 578.673,-152.728 574.499,-162.465 581.483,-162.943\"/>\n",
       "<text text-anchor=\"middle\" x=\"570.124\" y=\"-174.608\" font-family=\"Times,serif\" font-size=\"14.00\">s</text>\n",
       "</g>\n",
       "</g>\n",
       "</svg>\n"
      ],
      "text/plain": [
       "<graphviz.dot.Digraph at 0x10d270cf8>"
      ]
     },
     "execution_count": 34,
     "metadata": {},
     "output_type": "execute_result"
    }
   ],
   "source": [
    "d1d=nfa2dfa(re2nfa(\"ja mes*+bo nd*\"))\n",
    "dotObj_dfa(d1d)"
   ]
  },
  {
   "cell_type": "code",
   "execution_count": 35,
   "metadata": {
    "run_control": {
     "frozen": false,
     "read_only": false
    }
   },
   "outputs": [
    {
     "name": "stderr",
     "output_type": "stream",
     "text": [
      "Generating LALR tables\n"
     ]
    },
    {
     "data": {
      "image/svg+xml": [
       "<?xml version=\"1.0\" encoding=\"UTF-8\" standalone=\"no\"?>\n",
       "<!DOCTYPE svg PUBLIC \"-//W3C//DTD SVG 1.1//EN\"\n",
       " \"http://www.w3.org/Graphics/SVG/1.1/DTD/svg11.dtd\">\n",
       "<!-- Generated by graphviz version 2.38.0 (20140413.2041)\n",
       " -->\n",
       "<!-- Title: %3 Pages: 1 -->\n",
       "<svg width=\"150pt\" height=\"60pt\"\n",
       " viewBox=\"0.00 0.00 149.81 59.81\" xmlns=\"http://www.w3.org/2000/svg\" xmlns:xlink=\"http://www.w3.org/1999/xlink\">\n",
       "<g id=\"graph0\" class=\"graph\" transform=\"scale(1 1) rotate(0) translate(4 55.8077)\">\n",
       "<title>%3</title>\n",
       "<polygon fill=\"white\" stroke=\"none\" points=\"-4,4 -4,-55.8077 145.808,-55.8077 145.808,4 -4,4\"/>\n",
       "<!-- EMPTY -->\n",
       "<g id=\"node1\" class=\"node\"><title>EMPTY</title>\n",
       "</g>\n",
       "<!-- St1 -->\n",
       "<g id=\"node2\" class=\"node\"><title>St1</title>\n",
       "<ellipse fill=\"none\" stroke=\"black\" cx=\"115.904\" cy=\"-25.9039\" rx=\"21.8229\" ry=\"21.8229\"/>\n",
       "<ellipse fill=\"none\" stroke=\"black\" cx=\"115.904\" cy=\"-25.9039\" rx=\"25.8081\" ry=\"25.8081\"/>\n",
       "<text text-anchor=\"middle\" x=\"115.904\" y=\"-21.7039\" font-family=\"Times,serif\" font-size=\"14.00\">St1</text>\n",
       "</g>\n",
       "<!-- EMPTY&#45;&gt;St1 -->\n",
       "<g id=\"edge1\" class=\"edge\"><title>EMPTY&#45;&gt;St1</title>\n",
       "<path fill=\"none\" stroke=\"black\" d=\"M54.074,-25.9039C62.107,-25.9039 71.0887,-25.9039 79.6326,-25.9039\"/>\n",
       "<polygon fill=\"black\" stroke=\"black\" points=\"79.744,-29.404 89.744,-25.9039 79.7439,-22.404 79.744,-29.404\"/>\n",
       "</g>\n",
       "</g>\n",
       "</svg>\n"
      ],
      "text/plain": [
       "<graphviz.dot.Digraph at 0x10daca358>"
      ]
     },
     "execution_count": 35,
     "metadata": {},
     "output_type": "execute_result"
    }
   ],
   "source": [
    "d1d=nfa2dfa(re2nfa(\"''\"))\n",
    "dotObj_dfa(d1d)"
   ]
  },
  {
   "cell_type": "code",
   "execution_count": 36,
   "metadata": {
    "run_control": {
     "frozen": false,
     "read_only": false
    }
   },
   "outputs": [
    {
     "data": {
      "image/svg+xml": [
       "<?xml version=\"1.0\" encoding=\"UTF-8\" standalone=\"no\"?>\n",
       "<!DOCTYPE svg PUBLIC \"-//W3C//DTD SVG 1.1//EN\"\n",
       " \"http://www.w3.org/Graphics/SVG/1.1/DTD/svg11.dtd\">\n",
       "<!-- Generated by graphviz version 2.38.0 (20140413.2041)\n",
       " -->\n",
       "<!-- Title: %3 Pages: 1 -->\n",
       "<svg width=\"494pt\" height=\"118pt\"\n",
       " viewBox=\"0.00 0.00 494.21 118.29\" xmlns=\"http://www.w3.org/2000/svg\" xmlns:xlink=\"http://www.w3.org/1999/xlink\">\n",
       "<g id=\"graph0\" class=\"graph\" transform=\"scale(1 1) rotate(0) translate(4 114.29)\">\n",
       "<title>%3</title>\n",
       "<polygon fill=\"white\" stroke=\"none\" points=\"-4,4 -4,-114.29 490.212,-114.29 490.212,4 -4,4\"/>\n",
       "<!-- EMPTY -->\n",
       "<g id=\"node1\" class=\"node\"><title>EMPTY</title>\n",
       "</g>\n",
       "<!-- I -->\n",
       "<g id=\"node3\" class=\"node\"><title>I</title>\n",
       "<ellipse fill=\"none\" stroke=\"black\" cx=\"109\" cy=\"-28.2903\" rx=\"18\" ry=\"18\"/>\n",
       "<text text-anchor=\"middle\" x=\"109\" y=\"-24.0903\" font-family=\"Times,serif\" font-size=\"14.00\">I</text>\n",
       "</g>\n",
       "<!-- EMPTY&#45;&gt;I -->\n",
       "<g id=\"edge1\" class=\"edge\"><title>EMPTY&#45;&gt;I</title>\n",
       "<path fill=\"none\" stroke=\"black\" d=\"M54.195,-28.2903C62.6538,-28.2903 72.0513,-28.2903 80.5951,-28.2903\"/>\n",
       "<polygon fill=\"black\" stroke=\"black\" points=\"80.8257,-31.7904 90.8257,-28.2903 80.8257,-24.7904 80.8257,-31.7904\"/>\n",
       "</g>\n",
       "<!-- S0 -->\n",
       "<g id=\"node2\" class=\"node\"><title>S0</title>\n",
       "<ellipse fill=\"none\" stroke=\"black\" cx=\"189.447\" cy=\"-28.2903\" rx=\"19.3939\" ry=\"19.3939\"/>\n",
       "<text text-anchor=\"middle\" x=\"189.447\" y=\"-24.0903\" font-family=\"Times,serif\" font-size=\"14.00\">S0</text>\n",
       "</g>\n",
       "<!-- S01 -->\n",
       "<g id=\"node5\" class=\"node\"><title>S01</title>\n",
       "<ellipse fill=\"none\" stroke=\"black\" cx=\"275.762\" cy=\"-28.2903\" rx=\"23.7379\" ry=\"23.7379\"/>\n",
       "<text text-anchor=\"middle\" x=\"275.762\" y=\"-24.0903\" font-family=\"Times,serif\" font-size=\"14.00\">S01</text>\n",
       "</g>\n",
       "<!-- S0&#45;&gt;S01 -->\n",
       "<g id=\"edge5\" class=\"edge\"><title>S0&#45;&gt;S01</title>\n",
       "<path fill=\"none\" stroke=\"black\" d=\"M209.159,-28.2903C218.645,-28.2903 230.452,-28.2903 241.425,-28.2903\"/>\n",
       "<polygon fill=\"black\" stroke=\"black\" points=\"241.587,-31.7904 251.587,-28.2903 241.587,-24.7904 241.587,-31.7904\"/>\n",
       "<text text-anchor=\"middle\" x=\"230.394\" y=\"-31.0903\" font-family=\"Times,serif\" font-size=\"14.00\">1</text>\n",
       "</g>\n",
       "<!-- I&#45;&gt;S0 -->\n",
       "<g id=\"edge3\" class=\"edge\"><title>I&#45;&gt;S0</title>\n",
       "<path fill=\"none\" stroke=\"black\" d=\"M127.022,-28.2903C136.583,-28.2903 148.77,-28.2903 159.763,-28.2903\"/>\n",
       "<polygon fill=\"black\" stroke=\"black\" points=\"159.813,-31.7904 169.813,-28.2903 159.813,-24.7904 159.813,-31.7904\"/>\n",
       "<text text-anchor=\"middle\" x=\"148.5\" y=\"-31.0903\" font-family=\"Times,serif\" font-size=\"14.00\">0</text>\n",
       "</g>\n",
       "<!-- I&#45;&gt;I -->\n",
       "<g id=\"edge2\" class=\"edge\"><title>I&#45;&gt;I</title>\n",
       "<path fill=\"none\" stroke=\"black\" d=\"M105.764,-46.0721C105.214,-55.6053 106.293,-64.2903 109,-64.2903 110.65,-64.2903 111.694,-61.0652 112.135,-56.3884\"/>\n",
       "<polygon fill=\"black\" stroke=\"black\" points=\"115.638,-56.1059 112.236,-46.0721 108.638,-56.0373 115.638,-56.1059\"/>\n",
       "<text text-anchor=\"middle\" x=\"109\" y=\"-67.0903\" font-family=\"Times,serif\" font-size=\"14.00\">0</text>\n",
       "</g>\n",
       "<!-- I&#45;&gt;I -->\n",
       "<g id=\"edge4\" class=\"edge\"><title>I&#45;&gt;I</title>\n",
       "<path fill=\"none\" stroke=\"black\" d=\"M103.684,-45.7106C100.654,-63.0813 102.426,-82.2903 109,-82.2903 114.29,-82.2903 116.471,-69.8521 115.542,-55.9423\"/>\n",
       "<polygon fill=\"black\" stroke=\"black\" points=\"118.981,-55.2232 114.316,-45.7106 112.031,-56.056 118.981,-55.2232\"/>\n",
       "<text text-anchor=\"middle\" x=\"109\" y=\"-85.0903\" font-family=\"Times,serif\" font-size=\"14.00\">1</text>\n",
       "</g>\n",
       "<!-- S010 -->\n",
       "<g id=\"node4\" class=\"node\"><title>S010</title>\n",
       "<ellipse fill=\"none\" stroke=\"black\" cx=\"370.921\" cy=\"-28.2903\" rx=\"28.0822\" ry=\"28.0822\"/>\n",
       "<text text-anchor=\"middle\" x=\"370.921\" y=\"-24.0903\" font-family=\"Times,serif\" font-size=\"14.00\">S010</text>\n",
       "</g>\n",
       "<!-- F -->\n",
       "<g id=\"node6\" class=\"node\"><title>F</title>\n",
       "<ellipse fill=\"none\" stroke=\"black\" cx=\"464.212\" cy=\"-28.2903\" rx=\"18\" ry=\"18\"/>\n",
       "<ellipse fill=\"none\" stroke=\"black\" cx=\"464.212\" cy=\"-28.2903\" rx=\"22\" ry=\"22\"/>\n",
       "<text text-anchor=\"middle\" x=\"464.212\" y=\"-24.0903\" font-family=\"Times,serif\" font-size=\"14.00\">F</text>\n",
       "</g>\n",
       "<!-- S010&#45;&gt;F -->\n",
       "<g id=\"edge7\" class=\"edge\"><title>S010&#45;&gt;F</title>\n",
       "<path fill=\"none\" stroke=\"black\" d=\"M399.311,-28.2903C409.553,-28.2903 421.262,-28.2903 431.836,-28.2903\"/>\n",
       "<polygon fill=\"black\" stroke=\"black\" points=\"431.934,-31.7904 441.934,-28.2903 431.934,-24.7904 431.934,-31.7904\"/>\n",
       "<text text-anchor=\"middle\" x=\"420.712\" y=\"-31.0903\" font-family=\"Times,serif\" font-size=\"14.00\">1</text>\n",
       "</g>\n",
       "<!-- S01&#45;&gt;S010 -->\n",
       "<g id=\"edge6\" class=\"edge\"><title>S01&#45;&gt;S010</title>\n",
       "<path fill=\"none\" stroke=\"black\" d=\"M299.79,-28.2903C309.59,-28.2903 321.277,-28.2903 332.274,-28.2903\"/>\n",
       "<polygon fill=\"black\" stroke=\"black\" points=\"332.522,-31.7904 342.521,-28.2903 332.521,-24.7904 332.522,-31.7904\"/>\n",
       "<text text-anchor=\"middle\" x=\"321.131\" y=\"-31.0903\" font-family=\"Times,serif\" font-size=\"14.00\">0</text>\n",
       "</g>\n",
       "</g>\n",
       "</svg>\n"
      ],
      "text/plain": [
       "<graphviz.dot.Digraph at 0x10d24bda0>"
      ]
     },
     "execution_count": 36,
     "metadata": {},
     "output_type": "execute_result"
    }
   ],
   "source": [
    "test = md2mc(src=\"File\", fname=\"endsin0101.nfa\")\n",
    "dotObj_nfa(test)"
   ]
  },
  {
   "cell_type": "code",
   "execution_count": 37,
   "metadata": {
    "run_control": {
     "frozen": false,
     "read_only": false
    },
    "scrolled": true
   },
   "outputs": [
    {
     "data": {
      "image/svg+xml": [
       "<?xml version=\"1.0\" encoding=\"UTF-8\" standalone=\"no\"?>\n",
       "<!DOCTYPE svg PUBLIC \"-//W3C//DTD SVG 1.1//EN\"\n",
       " \"http://www.w3.org/Graphics/SVG/1.1/DTD/svg11.dtd\">\n",
       "<!-- Generated by graphviz version 2.38.0 (20140413.2041)\n",
       " -->\n",
       "<!-- Title: %3 Pages: 1 -->\n",
       "<svg width=\"477pt\" height=\"215pt\"\n",
       " viewBox=\"0.00 0.00 477.43 214.87\" xmlns=\"http://www.w3.org/2000/svg\" xmlns:xlink=\"http://www.w3.org/1999/xlink\">\n",
       "<g id=\"graph0\" class=\"graph\" transform=\"scale(1 1) rotate(0) translate(4 210.874)\">\n",
       "<title>%3</title>\n",
       "<polygon fill=\"white\" stroke=\"none\" points=\"-4,4 -4,-210.874 473.432,-210.874 473.432,4 -4,4\"/>\n",
       "<!-- EMPTY -->\n",
       "<g id=\"node1\" class=\"node\"><title>EMPTY</title>\n",
       "</g>\n",
       "<!-- I -->\n",
       "<g id=\"node7\" class=\"node\"><title>I</title>\n",
       "<ellipse fill=\"none\" stroke=\"black\" cx=\"109\" cy=\"-82.4271\" rx=\"18\" ry=\"18\"/>\n",
       "<text text-anchor=\"middle\" x=\"109\" y=\"-78.2271\" font-family=\"Times,serif\" font-size=\"14.00\">I</text>\n",
       "</g>\n",
       "<!-- EMPTY&#45;&gt;I -->\n",
       "<g id=\"edge1\" class=\"edge\"><title>EMPTY&#45;&gt;I</title>\n",
       "<path fill=\"none\" stroke=\"black\" d=\"M54.195,-82.4271C62.6538,-82.4271 72.0513,-82.4271 80.5951,-82.4271\"/>\n",
       "<polygon fill=\"black\" stroke=\"black\" points=\"80.8257,-85.9272 90.8257,-82.4271 80.8257,-78.9272 80.8257,-85.9272\"/>\n",
       "</g>\n",
       "<!-- C2 -->\n",
       "<g id=\"node2\" class=\"node\"><title>C2</title>\n",
       "<ellipse fill=\"none\" stroke=\"black\" cx=\"359.111\" cy=\"-35.4271\" rx=\"20.3544\" ry=\"20.3544\"/>\n",
       "<text text-anchor=\"middle\" x=\"359.111\" y=\"-31.2271\" font-family=\"Times,serif\" font-size=\"14.00\">C2</text>\n",
       "</g>\n",
       "<!-- F2 -->\n",
       "<g id=\"node11\" class=\"node\"><title>F2</title>\n",
       "<ellipse fill=\"none\" stroke=\"black\" cx=\"445.985\" cy=\"-44.4271\" rx=\"19.4029\" ry=\"19.4029\"/>\n",
       "<ellipse fill=\"none\" stroke=\"black\" cx=\"445.985\" cy=\"-44.4271\" rx=\"23.3939\" ry=\"23.3939\"/>\n",
       "<text text-anchor=\"middle\" x=\"445.985\" y=\"-40.2271\" font-family=\"Times,serif\" font-size=\"14.00\">F2</text>\n",
       "</g>\n",
       "<!-- C2&#45;&gt;F2 -->\n",
       "<g id=\"edge17\" class=\"edge\"><title>C2&#45;&gt;F2</title>\n",
       "<path fill=\"none\" stroke=\"black\" d=\"M379.622,-35.1394C387.395,-35.2142 396.409,-35.5384 404.538,-36.4271 407.247,-36.7232 410.044,-37.108 412.844,-37.5488\"/>\n",
       "<polygon fill=\"black\" stroke=\"black\" points=\"412.38,-41.0213 422.839,-39.3307 413.609,-34.1299 412.38,-41.0213\"/>\n",
       "<text text-anchor=\"middle\" x=\"401.038\" y=\"-39.2271\" font-family=\"Times,serif\" font-size=\"14.00\">1</text>\n",
       "</g>\n",
       "<!-- B1 -->\n",
       "<g id=\"node3\" class=\"node\"><title>B1</title>\n",
       "<ellipse fill=\"none\" stroke=\"black\" cx=\"275.257\" cy=\"-79.4271\" rx=\"20.3544\" ry=\"20.3544\"/>\n",
       "<text text-anchor=\"middle\" x=\"275.257\" y=\"-75.2271\" font-family=\"Times,serif\" font-size=\"14.00\">B1</text>\n",
       "</g>\n",
       "<!-- B1&#45;&gt;C2 -->\n",
       "<g id=\"edge13\" class=\"edge\"><title>B1&#45;&gt;C2</title>\n",
       "<path fill=\"none\" stroke=\"black\" d=\"M293.616,-70.0958C304.686,-64.1456 319.244,-56.3198 331.728,-49.6094\"/>\n",
       "<polygon fill=\"black\" stroke=\"black\" points=\"333.626,-52.5625 340.777,-44.7449 330.312,-46.3968 333.626,-52.5625\"/>\n",
       "<text text-anchor=\"middle\" x=\"317.184\" y=\"-62.2271\" font-family=\"Times,serif\" font-size=\"14.00\">1</text>\n",
       "</g>\n",
       "<!-- C1 -->\n",
       "<g id=\"node9\" class=\"node\"><title>C1</title>\n",
       "<ellipse fill=\"none\" stroke=\"black\" cx=\"359.111\" cy=\"-101.427\" rx=\"20.3544\" ry=\"20.3544\"/>\n",
       "<text text-anchor=\"middle\" x=\"359.111\" y=\"-97.2271\" font-family=\"Times,serif\" font-size=\"14.00\">C1</text>\n",
       "</g>\n",
       "<!-- B1&#45;&gt;C1 -->\n",
       "<g id=\"edge12\" class=\"edge\"><title>B1&#45;&gt;C1</title>\n",
       "<path fill=\"none\" stroke=\"black\" d=\"M295.242,-84.5296C305.366,-87.2508 318.034,-90.6555 329.341,-93.6944\"/>\n",
       "<polygon fill=\"black\" stroke=\"black\" points=\"328.664,-97.1366 339.229,-96.3522 330.481,-90.3765 328.664,-97.1366\"/>\n",
       "<text text-anchor=\"middle\" x=\"317.184\" y=\"-94.2271\" font-family=\"Times,serif\" font-size=\"14.00\">0</text>\n",
       "</g>\n",
       "<!-- C0 -->\n",
       "<g id=\"node4\" class=\"node\"><title>C0</title>\n",
       "<ellipse fill=\"none\" stroke=\"black\" cx=\"359.111\" cy=\"-168.427\" rx=\"20.3544\" ry=\"20.3544\"/>\n",
       "<text text-anchor=\"middle\" x=\"359.111\" y=\"-164.227\" font-family=\"Times,serif\" font-size=\"14.00\">C0</text>\n",
       "</g>\n",
       "<!-- F0 -->\n",
       "<g id=\"node12\" class=\"node\"><title>F0</title>\n",
       "<ellipse fill=\"none\" stroke=\"black\" cx=\"445.985\" cy=\"-183.427\" rx=\"19.4029\" ry=\"19.4029\"/>\n",
       "<ellipse fill=\"none\" stroke=\"black\" cx=\"445.985\" cy=\"-183.427\" rx=\"23.3939\" ry=\"23.3939\"/>\n",
       "<text text-anchor=\"middle\" x=\"445.985\" y=\"-179.227\" font-family=\"Times,serif\" font-size=\"14.00\">F0</text>\n",
       "</g>\n",
       "<!-- C0&#45;&gt;F0 -->\n",
       "<g id=\"edge8\" class=\"edge\"><title>C0&#45;&gt;F0</title>\n",
       "<path fill=\"none\" stroke=\"black\" d=\"M379.37,-171.831C389.256,-173.578 401.563,-175.753 412.838,-177.746\"/>\n",
       "<polygon fill=\"black\" stroke=\"black\" points=\"412.347,-181.213 422.803,-179.507 413.565,-174.32 412.347,-181.213\"/>\n",
       "<text text-anchor=\"middle\" x=\"401.038\" y=\"-179.227\" font-family=\"Times,serif\" font-size=\"14.00\">1</text>\n",
       "</g>\n",
       "<!-- F1 -->\n",
       "<g id=\"node13\" class=\"node\"><title>F1</title>\n",
       "<ellipse fill=\"none\" stroke=\"black\" cx=\"445.985\" cy=\"-113.427\" rx=\"19.4029\" ry=\"19.4029\"/>\n",
       "<ellipse fill=\"none\" stroke=\"black\" cx=\"445.985\" cy=\"-113.427\" rx=\"23.3939\" ry=\"23.3939\"/>\n",
       "<text text-anchor=\"middle\" x=\"445.985\" y=\"-109.227\" font-family=\"Times,serif\" font-size=\"14.00\">F1</text>\n",
       "</g>\n",
       "<!-- C0&#45;&gt;F1 -->\n",
       "<g id=\"edge9\" class=\"edge\"><title>C0&#45;&gt;F1</title>\n",
       "<path fill=\"none\" stroke=\"black\" d=\"M376.88,-157.561C388.451,-150.062 404.102,-139.92 417.482,-131.249\"/>\n",
       "<polygon fill=\"black\" stroke=\"black\" points=\"419.393,-134.182 425.882,-125.807 415.586,-128.308 419.393,-134.182\"/>\n",
       "<text text-anchor=\"middle\" x=\"401.038\" y=\"-146.227\" font-family=\"Times,serif\" font-size=\"14.00\">0</text>\n",
       "</g>\n",
       "<!-- B2 -->\n",
       "<g id=\"node5\" class=\"node\"><title>B2</title>\n",
       "<ellipse fill=\"none\" stroke=\"black\" cx=\"275.257\" cy=\"-20.4271\" rx=\"20.3544\" ry=\"20.3544\"/>\n",
       "<text text-anchor=\"middle\" x=\"275.257\" y=\"-16.2271\" font-family=\"Times,serif\" font-size=\"14.00\">B2</text>\n",
       "</g>\n",
       "<!-- B2&#45;&gt;C2 -->\n",
       "<g id=\"edge16\" class=\"edge\"><title>B2&#45;&gt;C2</title>\n",
       "<path fill=\"none\" stroke=\"black\" d=\"M295.87,-19.4621C303.657,-19.4436 312.654,-19.8808 320.684,-21.4271 323.954,-22.0567 327.314,-22.9424 330.614,-23.966\"/>\n",
       "<polygon fill=\"black\" stroke=\"black\" points=\"329.595,-27.3178 340.19,-27.3325 331.917,-20.714 329.595,-27.3178\"/>\n",
       "<text text-anchor=\"middle\" x=\"317.184\" y=\"-24.2271\" font-family=\"Times,serif\" font-size=\"14.00\">0</text>\n",
       "</g>\n",
       "<!-- A0 -->\n",
       "<g id=\"node6\" class=\"node\"><title>A0</title>\n",
       "<ellipse fill=\"none\" stroke=\"black\" cx=\"190.915\" cy=\"-110.427\" rx=\"20.8304\" ry=\"20.8304\"/>\n",
       "<text text-anchor=\"middle\" x=\"190.915\" y=\"-106.227\" font-family=\"Times,serif\" font-size=\"14.00\">A0</text>\n",
       "</g>\n",
       "<!-- A0&#45;&gt;B1 -->\n",
       "<g id=\"edge5\" class=\"edge\"><title>A0&#45;&gt;B1</title>\n",
       "<path fill=\"none\" stroke=\"black\" d=\"M211.013,-103.237C221.449,-99.3083 234.571,-94.3682 246.153,-90.0076\"/>\n",
       "<polygon fill=\"black\" stroke=\"black\" points=\"247.704,-93.1638 255.829,-86.3648 245.237,-86.6126 247.704,-93.1638\"/>\n",
       "<text text-anchor=\"middle\" x=\"233.33\" y=\"-99.2271\" font-family=\"Times,serif\" font-size=\"14.00\">0</text>\n",
       "</g>\n",
       "<!-- B0 -->\n",
       "<g id=\"node10\" class=\"node\"><title>B0</title>\n",
       "<ellipse fill=\"none\" stroke=\"black\" cx=\"275.257\" cy=\"-138.427\" rx=\"20.3544\" ry=\"20.3544\"/>\n",
       "<text text-anchor=\"middle\" x=\"275.257\" y=\"-134.227\" font-family=\"Times,serif\" font-size=\"14.00\">B0</text>\n",
       "</g>\n",
       "<!-- A0&#45;&gt;B0 -->\n",
       "<g id=\"edge4\" class=\"edge\"><title>A0&#45;&gt;B0</title>\n",
       "<path fill=\"none\" stroke=\"black\" d=\"M211.013,-116.921C221.375,-120.445 234.386,-124.869 245.908,-128.787\"/>\n",
       "<polygon fill=\"black\" stroke=\"black\" points=\"244.952,-132.159 255.547,-132.065 247.206,-125.532 244.952,-132.159\"/>\n",
       "<text text-anchor=\"middle\" x=\"233.33\" y=\"-128.227\" font-family=\"Times,serif\" font-size=\"14.00\">1</text>\n",
       "</g>\n",
       "<!-- I&#45;&gt;A0 -->\n",
       "<g id=\"edge2\" class=\"edge\"><title>I&#45;&gt;A0</title>\n",
       "<path fill=\"none\" stroke=\"black\" d=\"M126.172,-88.0933C136.291,-91.6388 149.611,-96.3055 161.456,-100.456\"/>\n",
       "<polygon fill=\"black\" stroke=\"black\" points=\"160.362,-103.781 170.957,-103.785 162.677,-97.175 160.362,-103.781\"/>\n",
       "<text text-anchor=\"middle\" x=\"148.5\" y=\"-100.227\" font-family=\"Times,serif\" font-size=\"14.00\">0</text>\n",
       "</g>\n",
       "<!-- A1 -->\n",
       "<g id=\"node8\" class=\"node\"><title>A1</title>\n",
       "<ellipse fill=\"none\" stroke=\"black\" cx=\"190.915\" cy=\"-50.4271\" rx=\"20.8304\" ry=\"20.8304\"/>\n",
       "<text text-anchor=\"middle\" x=\"190.915\" y=\"-46.2271\" font-family=\"Times,serif\" font-size=\"14.00\">A1</text>\n",
       "</g>\n",
       "<!-- I&#45;&gt;A1 -->\n",
       "<g id=\"edge3\" class=\"edge\"><title>I&#45;&gt;A1</title>\n",
       "<path fill=\"none\" stroke=\"black\" d=\"M126.172,-75.9514C136.363,-71.8708 149.798,-66.4908 161.706,-61.7226\"/>\n",
       "<polygon fill=\"black\" stroke=\"black\" points=\"163.262,-64.8697 171.245,-57.9031 160.66,-58.3713 163.262,-64.8697\"/>\n",
       "<text text-anchor=\"middle\" x=\"148.5\" y=\"-71.2271\" font-family=\"Times,serif\" font-size=\"14.00\">1</text>\n",
       "</g>\n",
       "<!-- A1&#45;&gt;B1 -->\n",
       "<g id=\"edge10\" class=\"edge\"><title>A1&#45;&gt;B1</title>\n",
       "<path fill=\"none\" stroke=\"black\" d=\"M211.314,-55.4828C219.289,-57.7054 228.573,-60.4797 236.83,-63.4271 240.124,-64.603 243.544,-65.9224 246.917,-67.2858\"/>\n",
       "<polygon fill=\"black\" stroke=\"black\" points=\"245.584,-70.5218 256.159,-71.1622 248.292,-64.0667 245.584,-70.5218\"/>\n",
       "<text text-anchor=\"middle\" x=\"233.33\" y=\"-66.2271\" font-family=\"Times,serif\" font-size=\"14.00\">1</text>\n",
       "</g>\n",
       "<!-- A1&#45;&gt;B2 -->\n",
       "<g id=\"edge11\" class=\"edge\"><title>A1&#45;&gt;B2</title>\n",
       "<path fill=\"none\" stroke=\"black\" d=\"M211.013,-43.4691C221.449,-39.667 234.571,-34.8862 246.153,-30.6663\"/>\n",
       "<polygon fill=\"black\" stroke=\"black\" points=\"247.632,-33.8528 255.829,-27.141 245.235,-27.2757 247.632,-33.8528\"/>\n",
       "<text text-anchor=\"middle\" x=\"233.33\" y=\"-39.2271\" font-family=\"Times,serif\" font-size=\"14.00\">0</text>\n",
       "</g>\n",
       "<!-- C1&#45;&gt;F2 -->\n",
       "<g id=\"edge15\" class=\"edge\"><title>C1&#45;&gt;F2</title>\n",
       "<path fill=\"none\" stroke=\"black\" d=\"M376.476,-90.4369C388.093,-82.6348 403.967,-71.9744 417.509,-62.8794\"/>\n",
       "<polygon fill=\"black\" stroke=\"black\" points=\"419.654,-65.6555 426.004,-57.1746 415.751,-59.8443 419.654,-65.6555\"/>\n",
       "<text text-anchor=\"middle\" x=\"401.038\" y=\"-78.2271\" font-family=\"Times,serif\" font-size=\"14.00\">0</text>\n",
       "</g>\n",
       "<!-- C1&#45;&gt;F1 -->\n",
       "<g id=\"edge14\" class=\"edge\"><title>C1&#45;&gt;F1</title>\n",
       "<path fill=\"none\" stroke=\"black\" d=\"M379.37,-104.15C389.181,-105.537 401.376,-107.261 412.581,-108.846\"/>\n",
       "<polygon fill=\"black\" stroke=\"black\" points=\"412.105,-112.313 422.496,-110.247 413.085,-105.382 412.105,-112.313\"/>\n",
       "<text text-anchor=\"middle\" x=\"401.038\" y=\"-111.227\" font-family=\"Times,serif\" font-size=\"14.00\">1</text>\n",
       "</g>\n",
       "<!-- B0&#45;&gt;C0 -->\n",
       "<g id=\"edge6\" class=\"edge\"><title>B0&#45;&gt;C0</title>\n",
       "<path fill=\"none\" stroke=\"black\" d=\"M294.831,-145.235C305.192,-149.032 318.31,-153.84 329.912,-158.092\"/>\n",
       "<polygon fill=\"black\" stroke=\"black\" points=\"329.017,-161.492 339.611,-161.647 331.426,-154.919 329.017,-161.492\"/>\n",
       "<text text-anchor=\"middle\" x=\"317.184\" y=\"-157.227\" font-family=\"Times,serif\" font-size=\"14.00\">0</text>\n",
       "</g>\n",
       "<!-- B0&#45;&gt;C1 -->\n",
       "<g id=\"edge7\" class=\"edge\"><title>B0&#45;&gt;C1</title>\n",
       "<path fill=\"none\" stroke=\"black\" d=\"M294.423,-130.216C305.201,-125.344 319.066,-119.076 331.107,-113.634\"/>\n",
       "<polygon fill=\"black\" stroke=\"black\" points=\"332.607,-116.797 340.278,-109.488 329.724,-110.418 332.607,-116.797\"/>\n",
       "<text text-anchor=\"middle\" x=\"317.184\" y=\"-124.227\" font-family=\"Times,serif\" font-size=\"14.00\">1</text>\n",
       "</g>\n",
       "</g>\n",
       "</svg>\n"
      ],
      "text/plain": [
       "<graphviz.dot.Digraph at 0x10d24b0f0>"
      ]
     },
     "execution_count": 37,
     "metadata": {},
     "output_type": "execute_result"
    }
   ],
   "source": [
    "# NFA for 0101 within hamming dist of 2\n",
    "nfamd1 = md2mc(src=\"File\", fname=\"nfa0101h2.nfa\")\n",
    "dotObj_nfa(nfamd1)"
   ]
  },
  {
   "cell_type": "code",
   "execution_count": 38,
   "metadata": {
    "run_control": {
     "frozen": false,
     "read_only": false
    }
   },
   "outputs": [
    {
     "data": {
      "image/svg+xml": [
       "<?xml version=\"1.0\" encoding=\"UTF-8\" standalone=\"no\"?>\n",
       "<!DOCTYPE svg PUBLIC \"-//W3C//DTD SVG 1.1//EN\"\n",
       " \"http://www.w3.org/Graphics/SVG/1.1/DTD/svg11.dtd\">\n",
       "<!-- Generated by graphviz version 2.38.0 (20140413.2041)\n",
       " -->\n",
       "<!-- Title: %3 Pages: 1 -->\n",
       "<svg width=\"477pt\" height=\"215pt\"\n",
       " viewBox=\"0.00 0.00 477.43 214.87\" xmlns=\"http://www.w3.org/2000/svg\" xmlns:xlink=\"http://www.w3.org/1999/xlink\">\n",
       "<g id=\"graph0\" class=\"graph\" transform=\"scale(1 1) rotate(0) translate(4 210.874)\">\n",
       "<title>%3</title>\n",
       "<polygon fill=\"white\" stroke=\"none\" points=\"-4,4 -4,-210.874 473.432,-210.874 473.432,4 -4,4\"/>\n",
       "<!-- EMPTY -->\n",
       "<g id=\"node1\" class=\"node\"><title>EMPTY</title>\n",
       "</g>\n",
       "<!-- I -->\n",
       "<g id=\"node2\" class=\"node\"><title>I</title>\n",
       "<ellipse fill=\"none\" stroke=\"black\" cx=\"109\" cy=\"-82.4271\" rx=\"18\" ry=\"18\"/>\n",
       "<text text-anchor=\"middle\" x=\"109\" y=\"-78.2271\" font-family=\"Times,serif\" font-size=\"14.00\">I</text>\n",
       "</g>\n",
       "<!-- EMPTY&#45;&gt;I -->\n",
       "<g id=\"edge1\" class=\"edge\"><title>EMPTY&#45;&gt;I</title>\n",
       "<path fill=\"none\" stroke=\"black\" d=\"M54.195,-82.4271C62.6538,-82.4271 72.0513,-82.4271 80.5951,-82.4271\"/>\n",
       "<polygon fill=\"black\" stroke=\"black\" points=\"80.8257,-85.9272 90.8257,-82.4271 80.8257,-78.9272 80.8257,-85.9272\"/>\n",
       "</g>\n",
       "<!-- A0 -->\n",
       "<g id=\"node4\" class=\"node\"><title>A0</title>\n",
       "<ellipse fill=\"none\" stroke=\"black\" cx=\"190.915\" cy=\"-110.427\" rx=\"20.8304\" ry=\"20.8304\"/>\n",
       "<text text-anchor=\"middle\" x=\"190.915\" y=\"-106.227\" font-family=\"Times,serif\" font-size=\"14.00\">A0</text>\n",
       "</g>\n",
       "<!-- I&#45;&gt;A0 -->\n",
       "<g id=\"edge2\" class=\"edge\"><title>I&#45;&gt;A0</title>\n",
       "<path fill=\"none\" stroke=\"black\" d=\"M126.172,-88.0933C136.291,-91.6388 149.611,-96.3055 161.456,-100.456\"/>\n",
       "<polygon fill=\"black\" stroke=\"black\" points=\"160.362,-103.781 170.957,-103.785 162.677,-97.175 160.362,-103.781\"/>\n",
       "<text text-anchor=\"middle\" x=\"148.5\" y=\"-100.227\" font-family=\"Times,serif\" font-size=\"14.00\">0</text>\n",
       "</g>\n",
       "<!-- A1 -->\n",
       "<g id=\"node6\" class=\"node\"><title>A1</title>\n",
       "<ellipse fill=\"none\" stroke=\"black\" cx=\"190.915\" cy=\"-50.4271\" rx=\"20.8304\" ry=\"20.8304\"/>\n",
       "<text text-anchor=\"middle\" x=\"190.915\" y=\"-46.2271\" font-family=\"Times,serif\" font-size=\"14.00\">A1</text>\n",
       "</g>\n",
       "<!-- I&#45;&gt;A1 -->\n",
       "<g id=\"edge3\" class=\"edge\"><title>I&#45;&gt;A1</title>\n",
       "<path fill=\"none\" stroke=\"black\" d=\"M126.172,-75.9514C136.363,-71.8708 149.798,-66.4908 161.706,-61.7226\"/>\n",
       "<polygon fill=\"black\" stroke=\"black\" points=\"163.262,-64.8697 171.245,-57.9031 160.66,-58.3713 163.262,-64.8697\"/>\n",
       "<text text-anchor=\"middle\" x=\"148.5\" y=\"-71.2271\" font-family=\"Times,serif\" font-size=\"14.00\">1</text>\n",
       "</g>\n",
       "<!-- C0 -->\n",
       "<g id=\"node3\" class=\"node\"><title>C0</title>\n",
       "<ellipse fill=\"none\" stroke=\"black\" cx=\"359.111\" cy=\"-168.427\" rx=\"20.3544\" ry=\"20.3544\"/>\n",
       "<text text-anchor=\"middle\" x=\"359.111\" y=\"-164.227\" font-family=\"Times,serif\" font-size=\"14.00\">C0</text>\n",
       "</g>\n",
       "<!-- F1 -->\n",
       "<g id=\"node11\" class=\"node\"><title>F1</title>\n",
       "<ellipse fill=\"none\" stroke=\"black\" cx=\"445.985\" cy=\"-113.427\" rx=\"19.4029\" ry=\"19.4029\"/>\n",
       "<ellipse fill=\"none\" stroke=\"black\" cx=\"445.985\" cy=\"-113.427\" rx=\"23.3939\" ry=\"23.3939\"/>\n",
       "<text text-anchor=\"middle\" x=\"445.985\" y=\"-109.227\" font-family=\"Times,serif\" font-size=\"14.00\">F1</text>\n",
       "</g>\n",
       "<!-- C0&#45;&gt;F1 -->\n",
       "<g id=\"edge16\" class=\"edge\"><title>C0&#45;&gt;F1</title>\n",
       "<path fill=\"none\" stroke=\"black\" d=\"M376.88,-157.561C388.451,-150.062 404.102,-139.92 417.482,-131.249\"/>\n",
       "<polygon fill=\"black\" stroke=\"black\" points=\"419.393,-134.182 425.882,-125.807 415.586,-128.308 419.393,-134.182\"/>\n",
       "<text text-anchor=\"middle\" x=\"401.038\" y=\"-146.227\" font-family=\"Times,serif\" font-size=\"14.00\">0</text>\n",
       "</g>\n",
       "<!-- F0 -->\n",
       "<g id=\"node12\" class=\"node\"><title>F0</title>\n",
       "<ellipse fill=\"none\" stroke=\"black\" cx=\"445.985\" cy=\"-183.427\" rx=\"19.4029\" ry=\"19.4029\"/>\n",
       "<ellipse fill=\"none\" stroke=\"black\" cx=\"445.985\" cy=\"-183.427\" rx=\"23.3939\" ry=\"23.3939\"/>\n",
       "<text text-anchor=\"middle\" x=\"445.985\" y=\"-179.227\" font-family=\"Times,serif\" font-size=\"14.00\">F0</text>\n",
       "</g>\n",
       "<!-- C0&#45;&gt;F0 -->\n",
       "<g id=\"edge17\" class=\"edge\"><title>C0&#45;&gt;F0</title>\n",
       "<path fill=\"none\" stroke=\"black\" d=\"M379.37,-171.831C389.256,-173.578 401.563,-175.753 412.838,-177.746\"/>\n",
       "<polygon fill=\"black\" stroke=\"black\" points=\"412.347,-181.213 422.803,-179.507 413.565,-174.32 412.347,-181.213\"/>\n",
       "<text text-anchor=\"middle\" x=\"401.038\" y=\"-179.227\" font-family=\"Times,serif\" font-size=\"14.00\">1</text>\n",
       "</g>\n",
       "<!-- B1 -->\n",
       "<g id=\"node7\" class=\"node\"><title>B1</title>\n",
       "<ellipse fill=\"none\" stroke=\"black\" cx=\"275.257\" cy=\"-79.4271\" rx=\"20.3544\" ry=\"20.3544\"/>\n",
       "<text text-anchor=\"middle\" x=\"275.257\" y=\"-75.2271\" font-family=\"Times,serif\" font-size=\"14.00\">B1</text>\n",
       "</g>\n",
       "<!-- A0&#45;&gt;B1 -->\n",
       "<g id=\"edge4\" class=\"edge\"><title>A0&#45;&gt;B1</title>\n",
       "<path fill=\"none\" stroke=\"black\" d=\"M211.013,-103.237C221.449,-99.3083 234.571,-94.3682 246.153,-90.0076\"/>\n",
       "<polygon fill=\"black\" stroke=\"black\" points=\"247.704,-93.1638 255.829,-86.3648 245.237,-86.6126 247.704,-93.1638\"/>\n",
       "<text text-anchor=\"middle\" x=\"233.33\" y=\"-99.2271\" font-family=\"Times,serif\" font-size=\"14.00\">0</text>\n",
       "</g>\n",
       "<!-- B0 -->\n",
       "<g id=\"node9\" class=\"node\"><title>B0</title>\n",
       "<ellipse fill=\"none\" stroke=\"black\" cx=\"275.257\" cy=\"-138.427\" rx=\"20.3544\" ry=\"20.3544\"/>\n",
       "<text text-anchor=\"middle\" x=\"275.257\" y=\"-134.227\" font-family=\"Times,serif\" font-size=\"14.00\">B0</text>\n",
       "</g>\n",
       "<!-- A0&#45;&gt;B0 -->\n",
       "<g id=\"edge5\" class=\"edge\"><title>A0&#45;&gt;B0</title>\n",
       "<path fill=\"none\" stroke=\"black\" d=\"M211.013,-116.921C221.375,-120.445 234.386,-124.869 245.908,-128.787\"/>\n",
       "<polygon fill=\"black\" stroke=\"black\" points=\"244.952,-132.159 255.547,-132.065 247.206,-125.532 244.952,-132.159\"/>\n",
       "<text text-anchor=\"middle\" x=\"233.33\" y=\"-128.227\" font-family=\"Times,serif\" font-size=\"14.00\">1</text>\n",
       "</g>\n",
       "<!-- B2 -->\n",
       "<g id=\"node5\" class=\"node\"><title>B2</title>\n",
       "<ellipse fill=\"none\" stroke=\"black\" cx=\"275.257\" cy=\"-20.4271\" rx=\"20.3544\" ry=\"20.3544\"/>\n",
       "<text text-anchor=\"middle\" x=\"275.257\" y=\"-16.2271\" font-family=\"Times,serif\" font-size=\"14.00\">B2</text>\n",
       "</g>\n",
       "<!-- C2 -->\n",
       "<g id=\"node8\" class=\"node\"><title>C2</title>\n",
       "<ellipse fill=\"none\" stroke=\"black\" cx=\"359.111\" cy=\"-35.4271\" rx=\"20.3544\" ry=\"20.3544\"/>\n",
       "<text text-anchor=\"middle\" x=\"359.111\" y=\"-31.2271\" font-family=\"Times,serif\" font-size=\"14.00\">C2</text>\n",
       "</g>\n",
       "<!-- B2&#45;&gt;C2 -->\n",
       "<g id=\"edge12\" class=\"edge\"><title>B2&#45;&gt;C2</title>\n",
       "<path fill=\"none\" stroke=\"black\" d=\"M295.87,-19.4621C303.657,-19.4436 312.654,-19.8808 320.684,-21.4271 323.954,-22.0567 327.314,-22.9424 330.614,-23.966\"/>\n",
       "<polygon fill=\"black\" stroke=\"black\" points=\"329.595,-27.3178 340.19,-27.3325 331.917,-20.714 329.595,-27.3178\"/>\n",
       "<text text-anchor=\"middle\" x=\"317.184\" y=\"-24.2271\" font-family=\"Times,serif\" font-size=\"14.00\">0</text>\n",
       "</g>\n",
       "<!-- A1&#45;&gt;B2 -->\n",
       "<g id=\"edge6\" class=\"edge\"><title>A1&#45;&gt;B2</title>\n",
       "<path fill=\"none\" stroke=\"black\" d=\"M211.013,-43.4691C221.449,-39.667 234.571,-34.8862 246.153,-30.6663\"/>\n",
       "<polygon fill=\"black\" stroke=\"black\" points=\"247.632,-33.8528 255.829,-27.141 245.235,-27.2757 247.632,-33.8528\"/>\n",
       "<text text-anchor=\"middle\" x=\"233.33\" y=\"-39.2271\" font-family=\"Times,serif\" font-size=\"14.00\">0</text>\n",
       "</g>\n",
       "<!-- A1&#45;&gt;B1 -->\n",
       "<g id=\"edge7\" class=\"edge\"><title>A1&#45;&gt;B1</title>\n",
       "<path fill=\"none\" stroke=\"black\" d=\"M211.314,-55.4828C219.289,-57.7054 228.573,-60.4797 236.83,-63.4271 240.124,-64.603 243.544,-65.9224 246.917,-67.2858\"/>\n",
       "<polygon fill=\"black\" stroke=\"black\" points=\"245.584,-70.5218 256.159,-71.1622 248.292,-64.0667 245.584,-70.5218\"/>\n",
       "<text text-anchor=\"middle\" x=\"233.33\" y=\"-66.2271\" font-family=\"Times,serif\" font-size=\"14.00\">1</text>\n",
       "</g>\n",
       "<!-- B1&#45;&gt;C2 -->\n",
       "<g id=\"edge9\" class=\"edge\"><title>B1&#45;&gt;C2</title>\n",
       "<path fill=\"none\" stroke=\"black\" d=\"M293.616,-70.0958C304.686,-64.1456 319.244,-56.3198 331.728,-49.6094\"/>\n",
       "<polygon fill=\"black\" stroke=\"black\" points=\"333.626,-52.5625 340.777,-44.7449 330.312,-46.3968 333.626,-52.5625\"/>\n",
       "<text text-anchor=\"middle\" x=\"317.184\" y=\"-62.2271\" font-family=\"Times,serif\" font-size=\"14.00\">1</text>\n",
       "</g>\n",
       "<!-- C1 -->\n",
       "<g id=\"node10\" class=\"node\"><title>C1</title>\n",
       "<ellipse fill=\"none\" stroke=\"black\" cx=\"359.111\" cy=\"-101.427\" rx=\"20.3544\" ry=\"20.3544\"/>\n",
       "<text text-anchor=\"middle\" x=\"359.111\" y=\"-97.2271\" font-family=\"Times,serif\" font-size=\"14.00\">C1</text>\n",
       "</g>\n",
       "<!-- B1&#45;&gt;C1 -->\n",
       "<g id=\"edge8\" class=\"edge\"><title>B1&#45;&gt;C1</title>\n",
       "<path fill=\"none\" stroke=\"black\" d=\"M295.242,-84.5296C305.366,-87.2508 318.034,-90.6555 329.341,-93.6944\"/>\n",
       "<polygon fill=\"black\" stroke=\"black\" points=\"328.664,-97.1366 339.229,-96.3522 330.481,-90.3765 328.664,-97.1366\"/>\n",
       "<text text-anchor=\"middle\" x=\"317.184\" y=\"-94.2271\" font-family=\"Times,serif\" font-size=\"14.00\">0</text>\n",
       "</g>\n",
       "<!-- F2 -->\n",
       "<g id=\"node13\" class=\"node\"><title>F2</title>\n",
       "<ellipse fill=\"none\" stroke=\"black\" cx=\"445.985\" cy=\"-44.4271\" rx=\"19.4029\" ry=\"19.4029\"/>\n",
       "<ellipse fill=\"none\" stroke=\"black\" cx=\"445.985\" cy=\"-44.4271\" rx=\"23.3939\" ry=\"23.3939\"/>\n",
       "<text text-anchor=\"middle\" x=\"445.985\" y=\"-40.2271\" font-family=\"Times,serif\" font-size=\"14.00\">F2</text>\n",
       "</g>\n",
       "<!-- C2&#45;&gt;F2 -->\n",
       "<g id=\"edge15\" class=\"edge\"><title>C2&#45;&gt;F2</title>\n",
       "<path fill=\"none\" stroke=\"black\" d=\"M379.622,-35.1394C387.395,-35.2142 396.409,-35.5384 404.538,-36.4271 407.247,-36.7232 410.044,-37.108 412.844,-37.5488\"/>\n",
       "<polygon fill=\"black\" stroke=\"black\" points=\"412.38,-41.0213 422.839,-39.3307 413.609,-34.1299 412.38,-41.0213\"/>\n",
       "<text text-anchor=\"middle\" x=\"401.038\" y=\"-39.2271\" font-family=\"Times,serif\" font-size=\"14.00\">1</text>\n",
       "</g>\n",
       "<!-- B0&#45;&gt;C0 -->\n",
       "<g id=\"edge10\" class=\"edge\"><title>B0&#45;&gt;C0</title>\n",
       "<path fill=\"none\" stroke=\"black\" d=\"M294.831,-145.235C305.192,-149.032 318.31,-153.84 329.912,-158.092\"/>\n",
       "<polygon fill=\"black\" stroke=\"black\" points=\"329.017,-161.492 339.611,-161.647 331.426,-154.919 329.017,-161.492\"/>\n",
       "<text text-anchor=\"middle\" x=\"317.184\" y=\"-157.227\" font-family=\"Times,serif\" font-size=\"14.00\">0</text>\n",
       "</g>\n",
       "<!-- B0&#45;&gt;C1 -->\n",
       "<g id=\"edge11\" class=\"edge\"><title>B0&#45;&gt;C1</title>\n",
       "<path fill=\"none\" stroke=\"black\" d=\"M294.423,-130.216C305.201,-125.344 319.066,-119.076 331.107,-113.634\"/>\n",
       "<polygon fill=\"black\" stroke=\"black\" points=\"332.607,-116.797 340.278,-109.488 329.724,-110.418 332.607,-116.797\"/>\n",
       "<text text-anchor=\"middle\" x=\"317.184\" y=\"-124.227\" font-family=\"Times,serif\" font-size=\"14.00\">1</text>\n",
       "</g>\n",
       "<!-- C1&#45;&gt;F1 -->\n",
       "<g id=\"edge14\" class=\"edge\"><title>C1&#45;&gt;F1</title>\n",
       "<path fill=\"none\" stroke=\"black\" d=\"M379.37,-104.15C389.181,-105.537 401.376,-107.261 412.581,-108.846\"/>\n",
       "<polygon fill=\"black\" stroke=\"black\" points=\"412.105,-112.313 422.496,-110.247 413.085,-105.382 412.105,-112.313\"/>\n",
       "<text text-anchor=\"middle\" x=\"401.038\" y=\"-111.227\" font-family=\"Times,serif\" font-size=\"14.00\">1</text>\n",
       "</g>\n",
       "<!-- C1&#45;&gt;F2 -->\n",
       "<g id=\"edge13\" class=\"edge\"><title>C1&#45;&gt;F2</title>\n",
       "<path fill=\"none\" stroke=\"black\" d=\"M376.476,-90.4369C388.093,-82.6348 403.967,-71.9744 417.509,-62.8794\"/>\n",
       "<polygon fill=\"black\" stroke=\"black\" points=\"419.654,-65.6555 426.004,-57.1746 415.751,-59.8443 419.654,-65.6555\"/>\n",
       "<text text-anchor=\"middle\" x=\"401.038\" y=\"-78.2271\" font-family=\"Times,serif\" font-size=\"14.00\">0</text>\n",
       "</g>\n",
       "</g>\n",
       "</svg>\n"
      ],
      "text/plain": [
       "<graphviz.dot.Digraph at 0x10dad6b70>"
      ]
     },
     "execution_count": 38,
     "metadata": {},
     "output_type": "execute_result"
    }
   ],
   "source": [
    "dfamd1=nfa2dfa(nfamd1)\n",
    "dotObj_dfa(dfamd1)"
   ]
  },
  {
   "cell_type": "code",
   "execution_count": 39,
   "metadata": {
    "run_control": {
     "frozen": false,
     "read_only": false
    }
   },
   "outputs": [],
   "source": [
    "m1=min_dfa(dfamd1)"
   ]
  },
  {
   "cell_type": "code",
   "execution_count": 40,
   "metadata": {
    "run_control": {
     "frozen": false,
     "read_only": false
    }
   },
   "outputs": [],
   "source": [
    "m2=min_dfa_brz(dfamd1)"
   ]
  },
  {
   "cell_type": "code",
   "execution_count": 41,
   "metadata": {
    "run_control": {
     "frozen": false,
     "read_only": false
    }
   },
   "outputs": [
    {
     "data": {
      "image/svg+xml": [
       "<?xml version=\"1.0\" encoding=\"UTF-8\" standalone=\"no\"?>\n",
       "<!DOCTYPE svg PUBLIC \"-//W3C//DTD SVG 1.1//EN\"\n",
       " \"http://www.w3.org/Graphics/SVG/1.1/DTD/svg11.dtd\">\n",
       "<!-- Generated by graphviz version 2.38.0 (20140413.2041)\n",
       " -->\n",
       "<!-- Title: %3 Pages: 1 -->\n",
       "<svg width=\"477pt\" height=\"167pt\"\n",
       " viewBox=\"0.00 0.00 477.43 166.85\" xmlns=\"http://www.w3.org/2000/svg\" xmlns:xlink=\"http://www.w3.org/1999/xlink\">\n",
       "<g id=\"graph0\" class=\"graph\" transform=\"scale(1 1) rotate(0) translate(4 162.854)\">\n",
       "<title>%3</title>\n",
       "<polygon fill=\"white\" stroke=\"none\" points=\"-4,4 -4,-162.854 473.432,-162.854 473.432,4 -4,4\"/>\n",
       "<!-- EMPTY -->\n",
       "<g id=\"node1\" class=\"node\"><title>EMPTY</title>\n",
       "</g>\n",
       "<!-- I -->\n",
       "<g id=\"node2\" class=\"node\"><title>I</title>\n",
       "<ellipse fill=\"none\" stroke=\"black\" cx=\"109\" cy=\"-82.4271\" rx=\"18\" ry=\"18\"/>\n",
       "<text text-anchor=\"middle\" x=\"109\" y=\"-78.2271\" font-family=\"Times,serif\" font-size=\"14.00\">I</text>\n",
       "</g>\n",
       "<!-- EMPTY&#45;&gt;I -->\n",
       "<g id=\"edge1\" class=\"edge\"><title>EMPTY&#45;&gt;I</title>\n",
       "<path fill=\"none\" stroke=\"black\" d=\"M54.195,-82.4271C62.6538,-82.4271 72.0513,-82.4271 80.5951,-82.4271\"/>\n",
       "<polygon fill=\"black\" stroke=\"black\" points=\"80.8257,-85.9272 90.8257,-82.4271 80.8257,-78.9272 80.8257,-85.9272\"/>\n",
       "</g>\n",
       "<!-- A1 -->\n",
       "<g id=\"node7\" class=\"node\"><title>A1</title>\n",
       "<ellipse fill=\"none\" stroke=\"black\" cx=\"190.915\" cy=\"-110.427\" rx=\"20.8304\" ry=\"20.8304\"/>\n",
       "<text text-anchor=\"middle\" x=\"190.915\" y=\"-106.227\" font-family=\"Times,serif\" font-size=\"14.00\">A1</text>\n",
       "</g>\n",
       "<!-- I&#45;&gt;A1 -->\n",
       "<g id=\"edge3\" class=\"edge\"><title>I&#45;&gt;A1</title>\n",
       "<path fill=\"none\" stroke=\"black\" d=\"M126.172,-88.0933C136.291,-91.6388 149.611,-96.3055 161.456,-100.456\"/>\n",
       "<polygon fill=\"black\" stroke=\"black\" points=\"160.362,-103.781 170.957,-103.785 162.677,-97.175 160.362,-103.781\"/>\n",
       "<text text-anchor=\"middle\" x=\"148.5\" y=\"-100.227\" font-family=\"Times,serif\" font-size=\"14.00\">1</text>\n",
       "</g>\n",
       "<!-- A0 -->\n",
       "<g id=\"node8\" class=\"node\"><title>A0</title>\n",
       "<ellipse fill=\"none\" stroke=\"black\" cx=\"190.915\" cy=\"-50.4271\" rx=\"20.8304\" ry=\"20.8304\"/>\n",
       "<text text-anchor=\"middle\" x=\"190.915\" y=\"-46.2271\" font-family=\"Times,serif\" font-size=\"14.00\">A0</text>\n",
       "</g>\n",
       "<!-- I&#45;&gt;A0 -->\n",
       "<g id=\"edge2\" class=\"edge\"><title>I&#45;&gt;A0</title>\n",
       "<path fill=\"none\" stroke=\"black\" d=\"M126.172,-75.9514C136.363,-71.8708 149.798,-66.4908 161.706,-61.7226\"/>\n",
       "<polygon fill=\"black\" stroke=\"black\" points=\"163.262,-64.8697 171.245,-57.9031 160.66,-58.3713 163.262,-64.8697\"/>\n",
       "<text text-anchor=\"middle\" x=\"148.5\" y=\"-71.2271\" font-family=\"Times,serif\" font-size=\"14.00\">0</text>\n",
       "</g>\n",
       "<!-- B2 -->\n",
       "<g id=\"node3\" class=\"node\"><title>B2</title>\n",
       "<ellipse fill=\"none\" stroke=\"black\" cx=\"275.257\" cy=\"-138.427\" rx=\"20.3544\" ry=\"20.3544\"/>\n",
       "<text text-anchor=\"middle\" x=\"275.257\" y=\"-134.227\" font-family=\"Times,serif\" font-size=\"14.00\">B2</text>\n",
       "</g>\n",
       "<!-- C2 -->\n",
       "<g id=\"node5\" class=\"node\"><title>C2</title>\n",
       "<ellipse fill=\"none\" stroke=\"black\" cx=\"359.111\" cy=\"-101.427\" rx=\"20.3544\" ry=\"20.3544\"/>\n",
       "<text text-anchor=\"middle\" x=\"359.111\" y=\"-97.2271\" font-family=\"Times,serif\" font-size=\"14.00\">C2</text>\n",
       "</g>\n",
       "<!-- B2&#45;&gt;C2 -->\n",
       "<g id=\"edge12\" class=\"edge\"><title>B2&#45;&gt;C2</title>\n",
       "<path fill=\"none\" stroke=\"black\" d=\"M294.423,-130.216C305.201,-125.344 319.066,-119.076 331.107,-113.634\"/>\n",
       "<polygon fill=\"black\" stroke=\"black\" points=\"332.607,-116.797 340.278,-109.488 329.724,-110.418 332.607,-116.797\"/>\n",
       "<text text-anchor=\"middle\" x=\"317.184\" y=\"-124.227\" font-family=\"Times,serif\" font-size=\"14.00\">0</text>\n",
       "</g>\n",
       "<!-- B1 -->\n",
       "<g id=\"node4\" class=\"node\"><title>B1</title>\n",
       "<ellipse fill=\"none\" stroke=\"black\" cx=\"275.257\" cy=\"-79.4271\" rx=\"20.3544\" ry=\"20.3544\"/>\n",
       "<text text-anchor=\"middle\" x=\"275.257\" y=\"-75.2271\" font-family=\"Times,serif\" font-size=\"14.00\">B1</text>\n",
       "</g>\n",
       "<!-- B1&#45;&gt;C2 -->\n",
       "<g id=\"edge9\" class=\"edge\"><title>B1&#45;&gt;C2</title>\n",
       "<path fill=\"none\" stroke=\"black\" d=\"M295.242,-84.5296C305.366,-87.2508 318.034,-90.6555 329.341,-93.6944\"/>\n",
       "<polygon fill=\"black\" stroke=\"black\" points=\"328.664,-97.1366 339.229,-96.3522 330.481,-90.3765 328.664,-97.1366\"/>\n",
       "<text text-anchor=\"middle\" x=\"317.184\" y=\"-94.2271\" font-family=\"Times,serif\" font-size=\"14.00\">1</text>\n",
       "</g>\n",
       "<!-- C0 -->\n",
       "<g id=\"node6\" class=\"node\"><title>C0</title>\n",
       "<ellipse fill=\"none\" stroke=\"black\" cx=\"359.111\" cy=\"-27.4271\" rx=\"20.3544\" ry=\"20.3544\"/>\n",
       "<text text-anchor=\"middle\" x=\"359.111\" y=\"-23.2271\" font-family=\"Times,serif\" font-size=\"14.00\">C0</text>\n",
       "</g>\n",
       "<!-- B1&#45;&gt;C0 -->\n",
       "<g id=\"edge8\" class=\"edge\"><title>B1&#45;&gt;C0</title>\n",
       "<path fill=\"none\" stroke=\"black\" d=\"M292.822,-68.9041C304.36,-61.5739 319.961,-51.6632 333.019,-43.3678\"/>\n",
       "<polygon fill=\"black\" stroke=\"black\" points=\"335.007,-46.2509 341.571,-37.9344 331.254,-40.3424 335.007,-46.2509\"/>\n",
       "<text text-anchor=\"middle\" x=\"317.184\" y=\"-58.2271\" font-family=\"Times,serif\" font-size=\"14.00\">0</text>\n",
       "</g>\n",
       "<!-- F1 -->\n",
       "<g id=\"node10\" class=\"node\"><title>F1</title>\n",
       "<ellipse fill=\"none\" stroke=\"black\" cx=\"445.985\" cy=\"-64.4271\" rx=\"19.4029\" ry=\"19.4029\"/>\n",
       "<ellipse fill=\"none\" stroke=\"black\" cx=\"445.985\" cy=\"-64.4271\" rx=\"23.3939\" ry=\"23.3939\"/>\n",
       "<text text-anchor=\"middle\" x=\"445.985\" y=\"-60.2271\" font-family=\"Times,serif\" font-size=\"14.00\">F1</text>\n",
       "</g>\n",
       "<!-- C2&#45;&gt;F1 -->\n",
       "<g id=\"edge15\" class=\"edge\"><title>C2&#45;&gt;F1</title>\n",
       "<path fill=\"none\" stroke=\"black\" d=\"M378.111,-93.5803C388.785,-88.9271 402.588,-82.9098 414.88,-77.5514\"/>\n",
       "<polygon fill=\"black\" stroke=\"black\" points=\"416.556,-80.6386 424.324,-73.4339 413.759,-74.2218 416.556,-80.6386\"/>\n",
       "<text text-anchor=\"middle\" x=\"401.038\" y=\"-87.2271\" font-family=\"Times,serif\" font-size=\"14.00\">1</text>\n",
       "</g>\n",
       "<!-- C0&#45;&gt;F1 -->\n",
       "<g id=\"edge13\" class=\"edge\"><title>C0&#45;&gt;F1</title>\n",
       "<path fill=\"none\" stroke=\"black\" d=\"M378.111,-35.2738C388.785,-39.9271 402.588,-45.9444 414.88,-51.3028\"/>\n",
       "<polygon fill=\"black\" stroke=\"black\" points=\"413.759,-54.6324 424.324,-55.4202 416.556,-48.2156 413.759,-54.6324\"/>\n",
       "<text text-anchor=\"middle\" x=\"401.038\" y=\"-50.2271\" font-family=\"Times,serif\" font-size=\"14.00\">0</text>\n",
       "</g>\n",
       "<!-- C0&#45;&gt;F1 -->\n",
       "<g id=\"edge14\" class=\"edge\"><title>C0&#45;&gt;F1</title>\n",
       "<path fill=\"none\" stroke=\"black\" d=\"M379.703,-24.4031C387.653,-23.94 396.773,-24.4112 404.538,-27.4271 411.333,-30.0662 417.683,-34.4382 423.245,-39.2699\"/>\n",
       "<polygon fill=\"black\" stroke=\"black\" points=\"421.159,-42.1193 430.792,-46.5296 426.012,-37.0745 421.159,-42.1193\"/>\n",
       "<text text-anchor=\"middle\" x=\"401.038\" y=\"-30.2271\" font-family=\"Times,serif\" font-size=\"14.00\">1</text>\n",
       "</g>\n",
       "<!-- A1&#45;&gt;B2 -->\n",
       "<g id=\"edge6\" class=\"edge\"><title>A1&#45;&gt;B2</title>\n",
       "<path fill=\"none\" stroke=\"black\" d=\"M211.013,-116.921C221.375,-120.445 234.386,-124.869 245.908,-128.787\"/>\n",
       "<polygon fill=\"black\" stroke=\"black\" points=\"244.952,-132.159 255.547,-132.065 247.206,-125.532 244.952,-132.159\"/>\n",
       "<text text-anchor=\"middle\" x=\"233.33\" y=\"-128.227\" font-family=\"Times,serif\" font-size=\"14.00\">0</text>\n",
       "</g>\n",
       "<!-- A1&#45;&gt;B1 -->\n",
       "<g id=\"edge7\" class=\"edge\"><title>A1&#45;&gt;B1</title>\n",
       "<path fill=\"none\" stroke=\"black\" d=\"M211.013,-103.237C221.449,-99.3083 234.571,-94.3682 246.153,-90.0076\"/>\n",
       "<polygon fill=\"black\" stroke=\"black\" points=\"247.704,-93.1638 255.829,-86.3648 245.237,-86.6126 247.704,-93.1638\"/>\n",
       "<text text-anchor=\"middle\" x=\"233.33\" y=\"-99.2271\" font-family=\"Times,serif\" font-size=\"14.00\">1</text>\n",
       "</g>\n",
       "<!-- A0&#45;&gt;B1 -->\n",
       "<g id=\"edge4\" class=\"edge\"><title>A0&#45;&gt;B1</title>\n",
       "<path fill=\"none\" stroke=\"black\" d=\"M211.314,-55.4828C219.289,-57.7054 228.573,-60.4797 236.83,-63.4271 240.124,-64.603 243.544,-65.9224 246.917,-67.2858\"/>\n",
       "<polygon fill=\"black\" stroke=\"black\" points=\"245.584,-70.5218 256.159,-71.1622 248.292,-64.0667 245.584,-70.5218\"/>\n",
       "<text text-anchor=\"middle\" x=\"233.33\" y=\"-66.2271\" font-family=\"Times,serif\" font-size=\"14.00\">0</text>\n",
       "</g>\n",
       "<!-- B0 -->\n",
       "<g id=\"node9\" class=\"node\"><title>B0</title>\n",
       "<ellipse fill=\"none\" stroke=\"black\" cx=\"275.257\" cy=\"-20.4271\" rx=\"20.3544\" ry=\"20.3544\"/>\n",
       "<text text-anchor=\"middle\" x=\"275.257\" y=\"-16.2271\" font-family=\"Times,serif\" font-size=\"14.00\">B0</text>\n",
       "</g>\n",
       "<!-- A0&#45;&gt;B0 -->\n",
       "<g id=\"edge5\" class=\"edge\"><title>A0&#45;&gt;B0</title>\n",
       "<path fill=\"none\" stroke=\"black\" d=\"M211.013,-43.4691C221.449,-39.667 234.571,-34.8862 246.153,-30.6663\"/>\n",
       "<polygon fill=\"black\" stroke=\"black\" points=\"247.632,-33.8528 255.829,-27.141 245.235,-27.2757 247.632,-33.8528\"/>\n",
       "<text text-anchor=\"middle\" x=\"233.33\" y=\"-39.2271\" font-family=\"Times,serif\" font-size=\"14.00\">1</text>\n",
       "</g>\n",
       "<!-- B0&#45;&gt;C0 -->\n",
       "<g id=\"edge10\" class=\"edge\"><title>B0&#45;&gt;C0</title>\n",
       "<path fill=\"none\" stroke=\"black\" d=\"M295.655,-22.086C305.472,-22.9255 317.598,-23.9625 328.547,-24.8988\"/>\n",
       "<polygon fill=\"black\" stroke=\"black\" points=\"328.307,-28.3909 338.569,-25.7558 328.903,-21.4164 328.307,-28.3909\"/>\n",
       "<text text-anchor=\"middle\" x=\"317.184\" y=\"-27.2271\" font-family=\"Times,serif\" font-size=\"14.00\">0</text>\n",
       "</g>\n",
       "<!-- B0&#45;&gt;C0 -->\n",
       "<g id=\"edge11\" class=\"edge\"><title>B0&#45;&gt;C0</title>\n",
       "<path fill=\"none\" stroke=\"black\" d=\"M293.442,-10.3172C301.636,-6.70693 311.608,-4.05482 320.684,-6.42707 324.901,-7.52931 329.145,-9.22439 333.184,-11.1838\"/>\n",
       "<polygon fill=\"black\" stroke=\"black\" points=\"331.673,-14.3469 342.125,-16.081 335.036,-8.20743 331.673,-14.3469\"/>\n",
       "<text text-anchor=\"middle\" x=\"317.184\" y=\"-9.22707\" font-family=\"Times,serif\" font-size=\"14.00\">1</text>\n",
       "</g>\n",
       "</g>\n",
       "</svg>\n"
      ],
      "text/plain": [
       "<graphviz.dot.Digraph at 0x10dad6c88>"
      ]
     },
     "execution_count": 41,
     "metadata": {},
     "output_type": "execute_result"
    }
   ],
   "source": [
    "dotObj_dfa(m1)"
   ]
  },
  {
   "cell_type": "code",
   "execution_count": 42,
   "metadata": {
    "run_control": {
     "frozen": false,
     "read_only": false
    }
   },
   "outputs": [
    {
     "data": {
      "image/svg+xml": [
       "<?xml version=\"1.0\" encoding=\"UTF-8\" standalone=\"no\"?>\n",
       "<!DOCTYPE svg PUBLIC \"-//W3C//DTD SVG 1.1//EN\"\n",
       " \"http://www.w3.org/Graphics/SVG/1.1/DTD/svg11.dtd\">\n",
       "<!-- Generated by graphviz version 2.38.0 (20140413.2041)\n",
       " -->\n",
       "<!-- Title: %3 Pages: 1 -->\n",
       "<svg width=\"498pt\" height=\"176pt\"\n",
       " viewBox=\"0.00 0.00 498.04 175.81\" xmlns=\"http://www.w3.org/2000/svg\" xmlns:xlink=\"http://www.w3.org/1999/xlink\">\n",
       "<g id=\"graph0\" class=\"graph\" transform=\"scale(1 1) rotate(0) translate(4 171.808)\">\n",
       "<title>%3</title>\n",
       "<polygon fill=\"white\" stroke=\"none\" points=\"-4,4 -4,-171.808 494.039,-171.808 494.039,4 -4,4\"/>\n",
       "<!-- EMPTY -->\n",
       "<g id=\"node1\" class=\"node\"><title>EMPTY</title>\n",
       "</g>\n",
       "<!-- St9 -->\n",
       "<g id=\"node6\" class=\"node\"><title>St9</title>\n",
       "<ellipse fill=\"none\" stroke=\"black\" cx=\"112.904\" cy=\"-88.9039\" rx=\"21.8081\" ry=\"21.8081\"/>\n",
       "<text text-anchor=\"middle\" x=\"112.904\" y=\"-84.7039\" font-family=\"Times,serif\" font-size=\"14.00\">St9</text>\n",
       "</g>\n",
       "<!-- EMPTY&#45;&gt;St9 -->\n",
       "<g id=\"edge1\" class=\"edge\"><title>EMPTY&#45;&gt;St9</title>\n",
       "<path fill=\"none\" stroke=\"black\" d=\"M54.0878,-88.9039C62.501,-88.9039 71.9126,-88.9039 80.6587,-88.9039\"/>\n",
       "<polygon fill=\"black\" stroke=\"black\" points=\"80.8854,-92.404 90.8853,-88.9039 80.8853,-85.404 80.8854,-92.404\"/>\n",
       "</g>\n",
       "<!-- St1 -->\n",
       "<g id=\"node2\" class=\"node\"><title>St1</title>\n",
       "<ellipse fill=\"none\" stroke=\"black\" cx=\"199.712\" cy=\"-117.904\" rx=\"21.8081\" ry=\"21.8081\"/>\n",
       "<text text-anchor=\"middle\" x=\"199.712\" y=\"-113.704\" font-family=\"Times,serif\" font-size=\"14.00\">St1</text>\n",
       "</g>\n",
       "<!-- St3 -->\n",
       "<g id=\"node3\" class=\"node\"><title>St3</title>\n",
       "<ellipse fill=\"none\" stroke=\"black\" cx=\"286.519\" cy=\"-145.904\" rx=\"21.8081\" ry=\"21.8081\"/>\n",
       "<text text-anchor=\"middle\" x=\"286.519\" y=\"-141.704\" font-family=\"Times,serif\" font-size=\"14.00\">St3</text>\n",
       "</g>\n",
       "<!-- St1&#45;&gt;St3 -->\n",
       "<g id=\"edge5\" class=\"edge\"><title>St1&#45;&gt;St3</title>\n",
       "<path fill=\"none\" stroke=\"black\" d=\"M220.81,-124.539C231.266,-127.992 244.252,-132.279 255.84,-136.105\"/>\n",
       "<polygon fill=\"black\" stroke=\"black\" points=\"254.972,-139.504 265.565,-139.316 257.167,-132.857 254.972,-139.504\"/>\n",
       "<text text-anchor=\"middle\" x=\"243.115\" y=\"-135.704\" font-family=\"Times,serif\" font-size=\"14.00\">1</text>\n",
       "</g>\n",
       "<!-- St4 -->\n",
       "<g id=\"node9\" class=\"node\"><title>St4</title>\n",
       "<ellipse fill=\"none\" stroke=\"black\" cx=\"286.519\" cy=\"-83.9039\" rx=\"21.8081\" ry=\"21.8081\"/>\n",
       "<text text-anchor=\"middle\" x=\"286.519\" y=\"-79.7039\" font-family=\"Times,serif\" font-size=\"14.00\">St4</text>\n",
       "</g>\n",
       "<!-- St1&#45;&gt;St4 -->\n",
       "<g id=\"edge4\" class=\"edge\"><title>St1&#45;&gt;St4</title>\n",
       "<path fill=\"none\" stroke=\"black\" d=\"M220.381,-110.018C231.085,-105.727 244.533,-100.336 256.426,-95.5676\"/>\n",
       "<polygon fill=\"black\" stroke=\"black\" points=\"257.977,-98.7167 265.956,-91.7468 255.372,-92.2194 257.977,-98.7167\"/>\n",
       "<text text-anchor=\"middle\" x=\"243.115\" y=\"-105.704\" font-family=\"Times,serif\" font-size=\"14.00\">0</text>\n",
       "</g>\n",
       "<!-- St6 -->\n",
       "<g id=\"node8\" class=\"node\"><title>St6</title>\n",
       "<ellipse fill=\"none\" stroke=\"black\" cx=\"373.327\" cy=\"-132.904\" rx=\"21.8081\" ry=\"21.8081\"/>\n",
       "<text text-anchor=\"middle\" x=\"373.327\" y=\"-128.704\" font-family=\"Times,serif\" font-size=\"14.00\">St6</text>\n",
       "</g>\n",
       "<!-- St3&#45;&gt;St6 -->\n",
       "<g id=\"edge10\" class=\"edge\"><title>St3&#45;&gt;St6</title>\n",
       "<path fill=\"none\" stroke=\"black\" d=\"M308.684,-148.821C316.512,-149.377 325.424,-149.393 333.423,-147.904 336.697,-147.295 340.05,-146.42 343.349,-145.395\"/>\n",
       "<polygon fill=\"black\" stroke=\"black\" points=\"344.696,-148.631 352.946,-141.984 342.352,-142.035 344.696,-148.631\"/>\n",
       "<text text-anchor=\"middle\" x=\"329.923\" y=\"-151.704\" font-family=\"Times,serif\" font-size=\"14.00\">0</text>\n",
       "</g>\n",
       "<!-- St3&#45;&gt;St6 -->\n",
       "<g id=\"edge11\" class=\"edge\"><title>St3&#45;&gt;St6</title>\n",
       "<path fill=\"none\" stroke=\"black\" d=\"M306.449,-136.39C312.654,-133.745 319.689,-131.235 326.423,-129.904 331.261,-128.948 336.436,-128.628 341.504,-128.692\"/>\n",
       "<polygon fill=\"black\" stroke=\"black\" points=\"341.426,-132.193 351.613,-129.284 341.835,-125.205 341.426,-132.193\"/>\n",
       "<text text-anchor=\"middle\" x=\"329.923\" y=\"-132.704\" font-family=\"Times,serif\" font-size=\"14.00\">1</text>\n",
       "</g>\n",
       "<!-- St5 -->\n",
       "<g id=\"node4\" class=\"node\"><title>St5</title>\n",
       "<ellipse fill=\"none\" stroke=\"black\" cx=\"286.519\" cy=\"-21.9039\" rx=\"21.8081\" ry=\"21.8081\"/>\n",
       "<text text-anchor=\"middle\" x=\"286.519\" y=\"-17.7039\" font-family=\"Times,serif\" font-size=\"14.00\">St5</text>\n",
       "</g>\n",
       "<!-- St7 -->\n",
       "<g id=\"node5\" class=\"node\"><title>St7</title>\n",
       "<ellipse fill=\"none\" stroke=\"black\" cx=\"373.327\" cy=\"-58.9039\" rx=\"21.8081\" ry=\"21.8081\"/>\n",
       "<text text-anchor=\"middle\" x=\"373.327\" y=\"-54.7039\" font-family=\"Times,serif\" font-size=\"14.00\">St7</text>\n",
       "</g>\n",
       "<!-- St5&#45;&gt;St7 -->\n",
       "<g id=\"edge12\" class=\"edge\"><title>St5&#45;&gt;St7</title>\n",
       "<path fill=\"none\" stroke=\"black\" d=\"M307.252,-29.8645C315.388,-33.2004 324.891,-37.1661 333.423,-40.9039 336.827,-42.3951 340.384,-43.9895 343.903,-45.59\"/>\n",
       "<polygon fill=\"black\" stroke=\"black\" points=\"342.457,-48.7772 353.005,-49.7745 345.381,-42.4172 342.457,-48.7772\"/>\n",
       "<text text-anchor=\"middle\" x=\"329.923\" y=\"-43.7039\" font-family=\"Times,serif\" font-size=\"14.00\">0</text>\n",
       "</g>\n",
       "<!-- St8 -->\n",
       "<g id=\"node10\" class=\"node\"><title>St8</title>\n",
       "<ellipse fill=\"none\" stroke=\"black\" cx=\"464.135\" cy=\"-95.9039\" rx=\"21.8229\" ry=\"21.8229\"/>\n",
       "<ellipse fill=\"none\" stroke=\"black\" cx=\"464.135\" cy=\"-95.9039\" rx=\"25.8081\" ry=\"25.8081\"/>\n",
       "<text text-anchor=\"middle\" x=\"464.135\" y=\"-91.7039\" font-family=\"Times,serif\" font-size=\"14.00\">St8</text>\n",
       "</g>\n",
       "<!-- St7&#45;&gt;St8 -->\n",
       "<g id=\"edge15\" class=\"edge\"><title>St7&#45;&gt;St8</title>\n",
       "<path fill=\"none\" stroke=\"black\" d=\"M394.06,-66.4264C402.196,-69.5839 411.699,-73.3438 420.231,-76.9039 423.666,-78.3371 427.241,-79.8639 430.797,-81.4052\"/>\n",
       "<polygon fill=\"black\" stroke=\"black\" points=\"429.493,-84.655 440.057,-85.4649 432.304,-78.2441 429.493,-84.655\"/>\n",
       "<text text-anchor=\"middle\" x=\"416.731\" y=\"-79.7039\" font-family=\"Times,serif\" font-size=\"14.00\">1</text>\n",
       "</g>\n",
       "<!-- St9&#45;&gt;St1 -->\n",
       "<g id=\"edge2\" class=\"edge\"><title>St9&#45;&gt;St1</title>\n",
       "<path fill=\"none\" stroke=\"black\" d=\"M134.002,-95.7765C144.458,-99.3519 157.444,-103.792 169.032,-107.755\"/>\n",
       "<polygon fill=\"black\" stroke=\"black\" points=\"168.163,-111.157 178.758,-111.081 170.428,-104.533 168.163,-111.157\"/>\n",
       "<text text-anchor=\"middle\" x=\"156.308\" y=\"-107.704\" font-family=\"Times,serif\" font-size=\"14.00\">0</text>\n",
       "</g>\n",
       "<!-- St2 -->\n",
       "<g id=\"node7\" class=\"node\"><title>St2</title>\n",
       "<ellipse fill=\"none\" stroke=\"black\" cx=\"199.712\" cy=\"-55.9039\" rx=\"21.8081\" ry=\"21.8081\"/>\n",
       "<text text-anchor=\"middle\" x=\"199.712\" y=\"-51.7039\" font-family=\"Times,serif\" font-size=\"14.00\">St2</text>\n",
       "</g>\n",
       "<!-- St9&#45;&gt;St2 -->\n",
       "<g id=\"edge3\" class=\"edge\"><title>St9&#45;&gt;St2</title>\n",
       "<path fill=\"none\" stroke=\"black\" d=\"M133.574,-81.2501C144.277,-77.085 157.725,-71.8523 169.618,-67.2245\"/>\n",
       "<polygon fill=\"black\" stroke=\"black\" points=\"171.098,-70.4043 179.149,-63.5162 168.56,-63.8808 171.098,-70.4043\"/>\n",
       "<text text-anchor=\"middle\" x=\"156.308\" y=\"-76.7039\" font-family=\"Times,serif\" font-size=\"14.00\">1</text>\n",
       "</g>\n",
       "<!-- St2&#45;&gt;St5 -->\n",
       "<g id=\"edge6\" class=\"edge\"><title>St2&#45;&gt;St5</title>\n",
       "<path fill=\"none\" stroke=\"black\" d=\"M220.381,-48.0181C231.085,-43.7269 244.533,-38.3356 256.426,-33.5676\"/>\n",
       "<polygon fill=\"black\" stroke=\"black\" points=\"257.977,-36.7167 265.956,-29.7468 255.372,-30.2194 257.977,-36.7167\"/>\n",
       "<text text-anchor=\"middle\" x=\"243.115\" y=\"-43.7039\" font-family=\"Times,serif\" font-size=\"14.00\">0</text>\n",
       "</g>\n",
       "<!-- St2&#45;&gt;St4 -->\n",
       "<g id=\"edge7\" class=\"edge\"><title>St2&#45;&gt;St4</title>\n",
       "<path fill=\"none\" stroke=\"black\" d=\"M220.831,-62.4463C228.857,-65.0643 238.177,-68.1153 246.615,-70.9039 249.563,-71.8779 252.635,-72.8972 255.703,-73.9181\"/>\n",
       "<polygon fill=\"black\" stroke=\"black\" points=\"254.742,-77.2871 265.336,-77.1311 256.957,-70.6467 254.742,-77.2871\"/>\n",
       "<text text-anchor=\"middle\" x=\"243.115\" y=\"-73.7039\" font-family=\"Times,serif\" font-size=\"14.00\">1</text>\n",
       "</g>\n",
       "<!-- St6&#45;&gt;St8 -->\n",
       "<g id=\"edge13\" class=\"edge\"><title>St6&#45;&gt;St8</title>\n",
       "<path fill=\"none\" stroke=\"black\" d=\"M394.036,-124.692C404.762,-120.224 418.306,-114.581 430.555,-109.478\"/>\n",
       "<polygon fill=\"black\" stroke=\"black\" points=\"432.138,-112.61 440.023,-105.533 429.446,-106.148 432.138,-112.61\"/>\n",
       "<text text-anchor=\"middle\" x=\"416.731\" y=\"-119.704\" font-family=\"Times,serif\" font-size=\"14.00\">0</text>\n",
       "</g>\n",
       "<!-- St6&#45;&gt;St8 -->\n",
       "<g id=\"edge14\" class=\"edge\"><title>St6&#45;&gt;St8</title>\n",
       "<path fill=\"none\" stroke=\"black\" d=\"M387.624,-115.962C394.415,-108.662 403.331,-100.896 413.231,-96.9039 417.86,-95.0372 422.931,-93.9598 428.013,-93.411\"/>\n",
       "<polygon fill=\"black\" stroke=\"black\" points=\"428.486,-96.8933 438.317,-92.9436 428.169,-89.9005 428.486,-96.8933\"/>\n",
       "<text text-anchor=\"middle\" x=\"416.731\" y=\"-99.7039\" font-family=\"Times,serif\" font-size=\"14.00\">1</text>\n",
       "</g>\n",
       "<!-- St4&#45;&gt;St7 -->\n",
       "<g id=\"edge9\" class=\"edge\"><title>St4&#45;&gt;St7</title>\n",
       "<path fill=\"none\" stroke=\"black\" d=\"M304.389,-70.7878C310.907,-66.4733 318.66,-62.1974 326.423,-59.9039 331.144,-58.5092 336.258,-57.7292 341.301,-57.3484\"/>\n",
       "<polygon fill=\"black\" stroke=\"black\" points=\"341.509,-60.844 351.404,-57.0586 341.308,-53.8469 341.509,-60.844\"/>\n",
       "<text text-anchor=\"middle\" x=\"329.923\" y=\"-62.7039\" font-family=\"Times,serif\" font-size=\"14.00\">1</text>\n",
       "</g>\n",
       "<!-- St4&#45;&gt;St6 -->\n",
       "<g id=\"edge8\" class=\"edge\"><title>St4&#45;&gt;St6</title>\n",
       "<path fill=\"none\" stroke=\"black\" d=\"M305.921,-94.5361C317.368,-101.15 332.294,-109.774 345.095,-117.17\"/>\n",
       "<polygon fill=\"black\" stroke=\"black\" points=\"343.551,-120.32 353.961,-122.292 347.053,-114.259 343.551,-120.32\"/>\n",
       "<text text-anchor=\"middle\" x=\"329.923\" y=\"-112.704\" font-family=\"Times,serif\" font-size=\"14.00\">0</text>\n",
       "</g>\n",
       "</g>\n",
       "</svg>\n"
      ],
      "text/plain": [
       "<graphviz.dot.Digraph at 0x10d270cc0>"
      ]
     },
     "execution_count": 42,
     "metadata": {},
     "output_type": "execute_result"
    }
   ],
   "source": [
    "dotObj_dfa(m2)"
   ]
  },
  {
   "cell_type": "code",
   "execution_count": null,
   "metadata": {
    "run_control": {
     "frozen": false,
     "read_only": false
    }
   },
   "outputs": [],
   "source": []
  },
  {
   "cell_type": "code",
   "execution_count": 43,
   "metadata": {
    "run_control": {
     "frozen": false,
     "read_only": false
    }
   },
   "outputs": [
    {
     "data": {
      "text/plain": [
       "True"
      ]
     },
     "execution_count": 43,
     "metadata": {},
     "output_type": "execute_result"
    }
   ],
   "source": [
    "iso_dfa(m1,m2)"
   ]
  },
  {
   "cell_type": "markdown",
   "metadata": {},
   "source": [
    "# We will now illustrate NFA to RE conversion\n",
    "\n",
    "The workhorse function is del_gnfa_states\n"
   ]
  },
  {
   "cell_type": "code",
   "execution_count": 44,
   "metadata": {
    "run_control": {
     "frozen": false,
     "read_only": false
    }
   },
   "outputs": [
    {
     "name": "stdout",
     "output_type": "stream",
     "text": [
      "Help on function del_gnfa_states in module jove.Def_NFA2RE:\n",
      "\n",
      "del_gnfa_states(Gin, DelList=[])\n",
      "    Given a GNFA Gin with no unreachable states, \n",
      "    delete all states but f\n",
      "    or Real_I and Real_F.\n",
      "    If DelList is given, follow the state deletion\n",
      "    order mentioned therein; else choose order internally.\n",
      "    \n",
      "    Return a triple (Gfinal, dotObj_List, final_re_str), where\n",
      "      Gfinal       : the final GNFA\n",
      "      dotObj_List  : a list of Dot objects recording the process of\n",
      "                     deleting states and forming intermediate REs\n",
      "      final_re_str : the final RE as a string (ready to be fed to  \n",
      "                     re2nfa for converting back to an NFA)\n",
      "\n"
     ]
    }
   ],
   "source": [
    "help(del_gnfa_states)"
   ]
  },
  {
   "cell_type": "code",
   "execution_count": 45,
   "metadata": {
    "run_control": {
     "frozen": false,
     "read_only": false
    }
   },
   "outputs": [
    {
     "data": {
      "image/svg+xml": [
       "<?xml version=\"1.0\" encoding=\"UTF-8\" standalone=\"no\"?>\n",
       "<!DOCTYPE svg PUBLIC \"-//W3C//DTD SVG 1.1//EN\"\n",
       " \"http://www.w3.org/Graphics/SVG/1.1/DTD/svg11.dtd\">\n",
       "<!-- Generated by graphviz version 2.38.0 (20140413.2041)\n",
       " -->\n",
       "<!-- Title: %3 Pages: 1 -->\n",
       "<svg width=\"698pt\" height=\"211pt\"\n",
       " viewBox=\"0.00 0.00 698.19 210.87\" xmlns=\"http://www.w3.org/2000/svg\" xmlns:xlink=\"http://www.w3.org/1999/xlink\">\n",
       "<g id=\"graph0\" class=\"graph\" transform=\"scale(1 1) rotate(0) translate(4 206.874)\">\n",
       "<title>%3</title>\n",
       "<polygon fill=\"white\" stroke=\"none\" points=\"-4,4 -4,-206.874 694.186,-206.874 694.186,4 -4,4\"/>\n",
       "<!-- EMPTY -->\n",
       "<g id=\"node1\" class=\"node\"><title>EMPTY</title>\n",
       "</g>\n",
       "<!-- Real_I -->\n",
       "<g id=\"node3\" class=\"node\"><title>Real_I</title>\n",
       "<ellipse fill=\"none\" stroke=\"black\" cx=\"124.679\" cy=\"-83.4271\" rx=\"33.8596\" ry=\"33.8596\"/>\n",
       "<text text-anchor=\"middle\" x=\"124.679\" y=\"-79.2271\" font-family=\"Times,serif\" font-size=\"14.00\">Real_I</text>\n",
       "</g>\n",
       "<!-- EMPTY&#45;&gt;Real_I -->\n",
       "<g id=\"edge1\" class=\"edge\"><title>EMPTY&#45;&gt;Real_I</title>\n",
       "<path fill=\"none\" stroke=\"black\" d=\"M54.1448,-83.4271C62.3457,-83.4271 71.6258,-83.4271 80.6729,-83.4271\"/>\n",
       "<polygon fill=\"black\" stroke=\"black\" points=\"80.7185,-86.9272 90.7184,-83.4271 80.7184,-79.9272 80.7185,-86.9272\"/>\n",
       "</g>\n",
       "<!-- C0 -->\n",
       "<g id=\"node2\" class=\"node\"><title>C0</title>\n",
       "<ellipse fill=\"none\" stroke=\"black\" cx=\"467.515\" cy=\"-168.427\" rx=\"20.3544\" ry=\"20.3544\"/>\n",
       "<text text-anchor=\"middle\" x=\"467.515\" y=\"-164.227\" font-family=\"Times,serif\" font-size=\"14.00\">C0</text>\n",
       "</g>\n",
       "<!-- F0 -->\n",
       "<g id=\"node6\" class=\"node\"><title>F0</title>\n",
       "<ellipse fill=\"none\" stroke=\"black\" cx=\"550.389\" cy=\"-183.427\" rx=\"19.3939\" ry=\"19.3939\"/>\n",
       "<text text-anchor=\"middle\" x=\"550.389\" y=\"-179.227\" font-family=\"Times,serif\" font-size=\"14.00\">F0</text>\n",
       "</g>\n",
       "<!-- C0&#45;&gt;F0 -->\n",
       "<g id=\"edge8\" class=\"edge\"><title>C0&#45;&gt;F0</title>\n",
       "<path fill=\"none\" stroke=\"black\" d=\"M487.681,-171.982C497.663,-173.833 510.063,-176.133 521.123,-178.184\"/>\n",
       "<polygon fill=\"black\" stroke=\"black\" points=\"520.723,-181.67 531.193,-180.052 521.999,-174.787 520.723,-181.67\"/>\n",
       "<text text-anchor=\"middle\" x=\"509.442\" y=\"-178.227\" font-family=\"Times,serif\" font-size=\"14.00\">1</text>\n",
       "</g>\n",
       "<!-- F1 -->\n",
       "<g id=\"node10\" class=\"node\"><title>F1</title>\n",
       "<ellipse fill=\"none\" stroke=\"black\" cx=\"550.389\" cy=\"-126.427\" rx=\"19.3939\" ry=\"19.3939\"/>\n",
       "<text text-anchor=\"middle\" x=\"550.389\" y=\"-122.227\" font-family=\"Times,serif\" font-size=\"14.00\">F1</text>\n",
       "</g>\n",
       "<!-- C0&#45;&gt;F1 -->\n",
       "<g id=\"edge9\" class=\"edge\"><title>C0&#45;&gt;F1</title>\n",
       "<path fill=\"none\" stroke=\"black\" d=\"M486.063,-159.314C497.095,-153.585 511.516,-146.095 523.809,-139.711\"/>\n",
       "<polygon fill=\"black\" stroke=\"black\" points=\"525.442,-142.807 532.704,-135.092 522.216,-136.595 525.442,-142.807\"/>\n",
       "<text text-anchor=\"middle\" x=\"509.442\" y=\"-151.227\" font-family=\"Times,serif\" font-size=\"14.00\">0</text>\n",
       "</g>\n",
       "<!-- I -->\n",
       "<g id=\"node13\" class=\"node\"><title>I</title>\n",
       "<ellipse fill=\"none\" stroke=\"black\" cx=\"217.404\" cy=\"-83.4271\" rx=\"18\" ry=\"18\"/>\n",
       "<text text-anchor=\"middle\" x=\"217.404\" y=\"-79.2271\" font-family=\"Times,serif\" font-size=\"14.00\">I</text>\n",
       "</g>\n",
       "<!-- Real_I&#45;&gt;I -->\n",
       "<g id=\"edge18\" class=\"edge\"><title>Real_I&#45;&gt;I</title>\n",
       "<path fill=\"none\" stroke=\"black\" d=\"M158.433,-83.4271C168.463,-83.4271 179.387,-83.4271 189.021,-83.4271\"/>\n",
       "<polygon fill=\"black\" stroke=\"black\" points=\"189.232,-86.9272 199.232,-83.4271 189.232,-79.9272 189.232,-86.9272\"/>\n",
       "<text text-anchor=\"middle\" x=\"178.881\" y=\"-86.2271\" font-family=\"Times,serif\" font-size=\"14.00\">&#39;&#39;</text>\n",
       "</g>\n",
       "<!-- C1 -->\n",
       "<g id=\"node4\" class=\"node\"><title>C1</title>\n",
       "<ellipse fill=\"none\" stroke=\"black\" cx=\"467.515\" cy=\"-101.427\" rx=\"20.3544\" ry=\"20.3544\"/>\n",
       "<text text-anchor=\"middle\" x=\"467.515\" y=\"-97.2271\" font-family=\"Times,serif\" font-size=\"14.00\">C1</text>\n",
       "</g>\n",
       "<!-- F2 -->\n",
       "<g id=\"node8\" class=\"node\"><title>F2</title>\n",
       "<ellipse fill=\"none\" stroke=\"black\" cx=\"550.389\" cy=\"-69.4271\" rx=\"19.3939\" ry=\"19.3939\"/>\n",
       "<text text-anchor=\"middle\" x=\"550.389\" y=\"-65.2271\" font-family=\"Times,serif\" font-size=\"14.00\">F2</text>\n",
       "</g>\n",
       "<!-- C1&#45;&gt;F2 -->\n",
       "<g id=\"edge15\" class=\"edge\"><title>C1&#45;&gt;F2</title>\n",
       "<path fill=\"none\" stroke=\"black\" d=\"M486.866,-94.1658C497.425,-89.9879 510.882,-84.6634 522.604,-80.0251\"/>\n",
       "<polygon fill=\"black\" stroke=\"black\" points=\"523.931,-83.2644 531.941,-76.3306 521.355,-76.7554 523.931,-83.2644\"/>\n",
       "<text text-anchor=\"middle\" x=\"509.442\" y=\"-89.2271\" font-family=\"Times,serif\" font-size=\"14.00\">0</text>\n",
       "</g>\n",
       "<!-- C1&#45;&gt;F1 -->\n",
       "<g id=\"edge14\" class=\"edge\"><title>C1&#45;&gt;F1</title>\n",
       "<path fill=\"none\" stroke=\"black\" d=\"M487.768,-104.4C495.666,-105.858 504.839,-107.86 512.942,-110.427 516.339,-111.503 519.846,-112.795 523.281,-114.172\"/>\n",
       "<polygon fill=\"black\" stroke=\"black\" points=\"522.05,-117.452 532.62,-118.169 524.804,-111.016 522.05,-117.452\"/>\n",
       "<text text-anchor=\"middle\" x=\"509.442\" y=\"-113.227\" font-family=\"Times,serif\" font-size=\"14.00\">1</text>\n",
       "</g>\n",
       "<!-- B0 -->\n",
       "<g id=\"node5\" class=\"node\"><title>B0</title>\n",
       "<ellipse fill=\"none\" stroke=\"black\" cx=\"383.661\" cy=\"-138.427\" rx=\"20.3544\" ry=\"20.3544\"/>\n",
       "<text text-anchor=\"middle\" x=\"383.661\" y=\"-134.227\" font-family=\"Times,serif\" font-size=\"14.00\">B0</text>\n",
       "</g>\n",
       "<!-- B0&#45;&gt;C0 -->\n",
       "<g id=\"edge6\" class=\"edge\"><title>B0&#45;&gt;C0</title>\n",
       "<path fill=\"none\" stroke=\"black\" d=\"M403.235,-145.235C413.596,-149.032 426.714,-153.84 438.316,-158.092\"/>\n",
       "<polygon fill=\"black\" stroke=\"black\" points=\"437.421,-161.492 448.014,-161.647 439.83,-154.919 437.421,-161.492\"/>\n",
       "<text text-anchor=\"middle\" x=\"425.588\" y=\"-156.227\" font-family=\"Times,serif\" font-size=\"14.00\">0</text>\n",
       "</g>\n",
       "<!-- B0&#45;&gt;C1 -->\n",
       "<g id=\"edge7\" class=\"edge\"><title>B0&#45;&gt;C1</title>\n",
       "<path fill=\"none\" stroke=\"black\" d=\"M402.827,-130.216C413.604,-125.344 427.47,-119.076 439.51,-113.634\"/>\n",
       "<polygon fill=\"black\" stroke=\"black\" points=\"441.01,-116.797 448.681,-109.488 438.127,-110.418 441.01,-116.797\"/>\n",
       "<text text-anchor=\"middle\" x=\"425.588\" y=\"-124.227\" font-family=\"Times,serif\" font-size=\"14.00\">1</text>\n",
       "</g>\n",
       "<!-- Real_F -->\n",
       "<g id=\"node15\" class=\"node\"><title>Real_F</title>\n",
       "<ellipse fill=\"none\" stroke=\"black\" cx=\"650.533\" cy=\"-126.427\" rx=\"35.7905\" ry=\"35.7905\"/>\n",
       "<ellipse fill=\"none\" stroke=\"black\" cx=\"650.533\" cy=\"-126.427\" rx=\"39.806\" ry=\"39.806\"/>\n",
       "<text text-anchor=\"middle\" x=\"650.533\" y=\"-122.227\" font-family=\"Times,serif\" font-size=\"14.00\">Real_F</text>\n",
       "</g>\n",
       "<!-- F0&#45;&gt;Real_F -->\n",
       "<g id=\"edge20\" class=\"edge\"><title>F0&#45;&gt;Real_F</title>\n",
       "<path fill=\"none\" stroke=\"black\" d=\"M567.595,-174.015C578.314,-167.789 592.905,-159.316 606.805,-151.243\"/>\n",
       "<polygon fill=\"black\" stroke=\"black\" points=\"608.902,-154.072 615.792,-146.023 605.387,-148.019 608.902,-154.072\"/>\n",
       "<text text-anchor=\"middle\" x=\"590.358\" y=\"-164.227\" font-family=\"Times,serif\" font-size=\"14.00\">&#39;&#39;</text>\n",
       "</g>\n",
       "<!-- C2 -->\n",
       "<g id=\"node7\" class=\"node\"><title>C2</title>\n",
       "<ellipse fill=\"none\" stroke=\"black\" cx=\"467.515\" cy=\"-35.4271\" rx=\"20.3544\" ry=\"20.3544\"/>\n",
       "<text text-anchor=\"middle\" x=\"467.515\" y=\"-31.2271\" font-family=\"Times,serif\" font-size=\"14.00\">C2</text>\n",
       "</g>\n",
       "<!-- C2&#45;&gt;F2 -->\n",
       "<g id=\"edge17\" class=\"edge\"><title>C2&#45;&gt;F2</title>\n",
       "<path fill=\"none\" stroke=\"black\" d=\"M486.866,-43.1422C497.498,-47.6118 511.068,-53.3165 522.846,-58.2685\"/>\n",
       "<polygon fill=\"black\" stroke=\"black\" points=\"521.641,-61.5583 532.216,-62.2075 524.354,-55.1054 521.641,-61.5583\"/>\n",
       "<text text-anchor=\"middle\" x=\"509.442\" y=\"-57.2271\" font-family=\"Times,serif\" font-size=\"14.00\">1</text>\n",
       "</g>\n",
       "<!-- F2&#45;&gt;Real_F -->\n",
       "<g id=\"edge19\" class=\"edge\"><title>F2&#45;&gt;Real_F</title>\n",
       "<path fill=\"none\" stroke=\"black\" d=\"M567.595,-78.8395C578.314,-85.0647 592.905,-93.5386 606.805,-101.611\"/>\n",
       "<polygon fill=\"black\" stroke=\"black\" points=\"605.387,-104.835 615.792,-106.831 608.902,-98.782 605.387,-104.835\"/>\n",
       "<text text-anchor=\"middle\" x=\"590.358\" y=\"-96.2271\" font-family=\"Times,serif\" font-size=\"14.00\">&#39;&#39;</text>\n",
       "</g>\n",
       "<!-- B1 -->\n",
       "<g id=\"node9\" class=\"node\"><title>B1</title>\n",
       "<ellipse fill=\"none\" stroke=\"black\" cx=\"383.661\" cy=\"-79.4271\" rx=\"20.3544\" ry=\"20.3544\"/>\n",
       "<text text-anchor=\"middle\" x=\"383.661\" y=\"-75.2271\" font-family=\"Times,serif\" font-size=\"14.00\">B1</text>\n",
       "</g>\n",
       "<!-- B1&#45;&gt;C1 -->\n",
       "<g id=\"edge12\" class=\"edge\"><title>B1&#45;&gt;C1</title>\n",
       "<path fill=\"none\" stroke=\"black\" d=\"M403.645,-84.5296C413.77,-87.2508 426.438,-90.6555 437.744,-93.6944\"/>\n",
       "<polygon fill=\"black\" stroke=\"black\" points=\"437.067,-97.1366 447.633,-96.3522 438.884,-90.3765 437.067,-97.1366\"/>\n",
       "<text text-anchor=\"middle\" x=\"425.588\" y=\"-94.2271\" font-family=\"Times,serif\" font-size=\"14.00\">0</text>\n",
       "</g>\n",
       "<!-- B1&#45;&gt;C2 -->\n",
       "<g id=\"edge13\" class=\"edge\"><title>B1&#45;&gt;C2</title>\n",
       "<path fill=\"none\" stroke=\"black\" d=\"M402.02,-70.0958C413.089,-64.1456 427.648,-56.3198 440.131,-49.6094\"/>\n",
       "<polygon fill=\"black\" stroke=\"black\" points=\"442.03,-52.5625 449.181,-44.7449 438.715,-46.3968 442.03,-52.5625\"/>\n",
       "<text text-anchor=\"middle\" x=\"425.588\" y=\"-62.2271\" font-family=\"Times,serif\" font-size=\"14.00\">1</text>\n",
       "</g>\n",
       "<!-- F1&#45;&gt;Real_F -->\n",
       "<g id=\"edge21\" class=\"edge\"><title>F1&#45;&gt;Real_F</title>\n",
       "<path fill=\"none\" stroke=\"black\" d=\"M569.849,-126.427C578.692,-126.427 589.743,-126.427 600.772,-126.427\"/>\n",
       "<polygon fill=\"black\" stroke=\"black\" points=\"600.832,-129.927 610.832,-126.427 600.832,-122.927 600.832,-129.927\"/>\n",
       "<text text-anchor=\"middle\" x=\"590.358\" y=\"-129.227\" font-family=\"Times,serif\" font-size=\"14.00\">&#39;&#39;</text>\n",
       "</g>\n",
       "<!-- B2 -->\n",
       "<g id=\"node11\" class=\"node\"><title>B2</title>\n",
       "<ellipse fill=\"none\" stroke=\"black\" cx=\"383.661\" cy=\"-20.4271\" rx=\"20.3544\" ry=\"20.3544\"/>\n",
       "<text text-anchor=\"middle\" x=\"383.661\" y=\"-16.2271\" font-family=\"Times,serif\" font-size=\"14.00\">B2</text>\n",
       "</g>\n",
       "<!-- B2&#45;&gt;C2 -->\n",
       "<g id=\"edge16\" class=\"edge\"><title>B2&#45;&gt;C2</title>\n",
       "<path fill=\"none\" stroke=\"black\" d=\"M404.274,-19.4621C412.06,-19.4436 421.057,-19.8808 429.088,-21.4271 432.358,-22.0567 435.717,-22.9424 439.018,-23.966\"/>\n",
       "<polygon fill=\"black\" stroke=\"black\" points=\"437.999,-27.3178 448.594,-27.3325 440.321,-20.714 437.999,-27.3178\"/>\n",
       "<text text-anchor=\"middle\" x=\"425.588\" y=\"-24.2271\" font-family=\"Times,serif\" font-size=\"14.00\">0</text>\n",
       "</g>\n",
       "<!-- A0 -->\n",
       "<g id=\"node12\" class=\"node\"><title>A0</title>\n",
       "<ellipse fill=\"none\" stroke=\"black\" cx=\"299.319\" cy=\"-111.427\" rx=\"20.8304\" ry=\"20.8304\"/>\n",
       "<text text-anchor=\"middle\" x=\"299.319\" y=\"-107.227\" font-family=\"Times,serif\" font-size=\"14.00\">A0</text>\n",
       "</g>\n",
       "<!-- A0&#45;&gt;B0 -->\n",
       "<g id=\"edge4\" class=\"edge\"><title>A0&#45;&gt;B0</title>\n",
       "<path fill=\"none\" stroke=\"black\" d=\"M319.416,-117.689C329.779,-121.087 342.789,-125.353 354.312,-129.131\"/>\n",
       "<polygon fill=\"black\" stroke=\"black\" points=\"353.357,-132.502 363.95,-132.292 355.539,-125.85 353.357,-132.502\"/>\n",
       "<text text-anchor=\"middle\" x=\"341.734\" y=\"-129.227\" font-family=\"Times,serif\" font-size=\"14.00\">1</text>\n",
       "</g>\n",
       "<!-- A0&#45;&gt;B1 -->\n",
       "<g id=\"edge5\" class=\"edge\"><title>A0&#45;&gt;B1</title>\n",
       "<path fill=\"none\" stroke=\"black\" d=\"M319.003,-104.166C329.605,-100.046 343.077,-94.8101 354.895,-90.2174\"/>\n",
       "<polygon fill=\"black\" stroke=\"black\" points=\"356.281,-93.4341 364.334,-86.5494 353.745,-86.9095 356.281,-93.4341\"/>\n",
       "<text text-anchor=\"middle\" x=\"341.734\" y=\"-99.2271\" font-family=\"Times,serif\" font-size=\"14.00\">0</text>\n",
       "</g>\n",
       "<!-- I&#45;&gt;A0 -->\n",
       "<g id=\"edge2\" class=\"edge\"><title>I&#45;&gt;A0</title>\n",
       "<path fill=\"none\" stroke=\"black\" d=\"M234.576,-89.0933C244.695,-92.6388 258.014,-97.3055 269.86,-101.456\"/>\n",
       "<polygon fill=\"black\" stroke=\"black\" points=\"268.766,-104.781 279.361,-104.785 271.081,-98.175 268.766,-104.781\"/>\n",
       "<text text-anchor=\"middle\" x=\"256.904\" y=\"-101.227\" font-family=\"Times,serif\" font-size=\"14.00\">0</text>\n",
       "</g>\n",
       "<!-- A1 -->\n",
       "<g id=\"node14\" class=\"node\"><title>A1</title>\n",
       "<ellipse fill=\"none\" stroke=\"black\" cx=\"299.319\" cy=\"-51.4271\" rx=\"20.8304\" ry=\"20.8304\"/>\n",
       "<text text-anchor=\"middle\" x=\"299.319\" y=\"-47.2271\" font-family=\"Times,serif\" font-size=\"14.00\">A1</text>\n",
       "</g>\n",
       "<!-- I&#45;&gt;A1 -->\n",
       "<g id=\"edge3\" class=\"edge\"><title>I&#45;&gt;A1</title>\n",
       "<path fill=\"none\" stroke=\"black\" d=\"M234.576,-76.9514C244.766,-72.8708 258.202,-67.4908 270.11,-62.7226\"/>\n",
       "<polygon fill=\"black\" stroke=\"black\" points=\"271.666,-65.8697 279.648,-58.9031 269.064,-59.3713 271.666,-65.8697\"/>\n",
       "<text text-anchor=\"middle\" x=\"256.904\" y=\"-72.2271\" font-family=\"Times,serif\" font-size=\"14.00\">1</text>\n",
       "</g>\n",
       "<!-- A1&#45;&gt;B1 -->\n",
       "<g id=\"edge10\" class=\"edge\"><title>A1&#45;&gt;B1</title>\n",
       "<path fill=\"none\" stroke=\"black\" d=\"M319.684,-56.5774C327.654,-58.8145 336.944,-61.574 345.234,-64.4271 348.411,-65.5205 351.712,-66.7313 354.98,-67.9769\"/>\n",
       "<polygon fill=\"black\" stroke=\"black\" points=\"353.935,-71.3271 364.522,-71.7359 356.501,-64.8143 353.935,-71.3271\"/>\n",
       "<text text-anchor=\"middle\" x=\"341.734\" y=\"-67.2271\" font-family=\"Times,serif\" font-size=\"14.00\">1</text>\n",
       "</g>\n",
       "<!-- A1&#45;&gt;B2 -->\n",
       "<g id=\"edge11\" class=\"edge\"><title>A1&#45;&gt;B2</title>\n",
       "<path fill=\"none\" stroke=\"black\" d=\"M319.416,-44.2371C329.852,-40.3083 342.974,-35.3682 354.557,-31.0076\"/>\n",
       "<polygon fill=\"black\" stroke=\"black\" points=\"356.107,-34.1638 364.233,-27.3648 353.641,-27.6126 356.107,-34.1638\"/>\n",
       "<text text-anchor=\"middle\" x=\"341.734\" y=\"-40.2271\" font-family=\"Times,serif\" font-size=\"14.00\">0</text>\n",
       "</g>\n",
       "</g>\n",
       "</svg>\n"
      ],
      "text/plain": [
       "<graphviz.dot.Digraph at 0x10daf10f0>"
      ]
     },
     "execution_count": 45,
     "metadata": {},
     "output_type": "execute_result"
    }
   ],
   "source": [
    "gnfamd1=mk_gnfa(nfamd1)\n",
    "dotObj_gnfa(gnfamd1)"
   ]
  },
  {
   "cell_type": "code",
   "execution_count": 46,
   "metadata": {
    "run_control": {
     "frozen": false,
     "read_only": false
    }
   },
   "outputs": [
    {
     "name": "stdout",
     "output_type": "stream",
     "text": [
      "**** Eliminating state C2 ****\n",
      "**** Eliminating state F2 ****\n",
      "**** Eliminating state B1 ****\n",
      "**** Eliminating state F1 ****\n",
      "**** Eliminating state C0 ****\n",
      "**** Eliminating state B2 ****\n",
      "**** Eliminating state A0 ****\n",
      "**** Eliminating state I ****\n",
      "**** Eliminating state A1 ****\n",
      "**** Eliminating state C1 ****\n",
      "**** Eliminating state B0 ****\n",
      "**** Eliminating state F0 ****\n"
     ]
    }
   ],
   "source": [
    "(Gfinal, dotObj_List, final_re_str) = del_gnfa_states(gnfamd1)"
   ]
  },
  {
   "cell_type": "code",
   "execution_count": 47,
   "metadata": {
    "run_control": {
     "frozen": false,
     "read_only": false
    }
   },
   "outputs": [
    {
     "data": {
      "text/plain": [
       "'((((0 1) (0 1)) + ((((0 1) (((1 ((1 + 0) + 0)) + (0 0)) + (0 0))) + ((((((1 (1 0)) + (0 (0 0))) + (0 (0 0))) ((1 + 0) + 0)) + (((1 (((0 (0 1)) + (1 (1 1))) + (1 (1 1)))) + (0 (0 (1 1)))) + (0 (0 (1 1))))) + (((1 (((0 (0 1)) + (1 (1 1))) + (1 (1 1)))) + (0 (0 (1 1)))) + (0 (0 (1 1)))))) + ((((((1 (1 0)) + (0 (0 0))) + (0 (0 0))) ((1 + 0) + 0)) + (((1 (((0 (0 1)) + (1 (1 1))) + (1 (1 1)))) + (0 (0 (1 1)))) + (0 (0 (1 1))))) + (((1 (((0 (0 1)) + (1 (1 1))) + (1 (1 1)))) + (0 (0 (1 1)))) + (0 (0 (1 1))))))) + ((((0 1) (((1 ((1 + 0) + 0)) + (0 0)) + (0 0))) + ((((((1 (1 0)) + (0 (0 0))) + (0 (0 0))) ((1 + 0) + 0)) + (((1 (((0 (0 1)) + (1 (1 1))) + (1 (1 1)))) + (0 (0 (1 1)))) + (0 (0 (1 1))))) + (((1 (((0 (0 1)) + (1 (1 1))) + (1 (1 1)))) + (0 (0 (1 1)))) + (0 (0 (1 1)))))) + ((((((1 (1 0)) + (0 (0 0))) + (0 (0 0))) ((1 + 0) + 0)) + (((1 (((0 (0 1)) + (1 (1 1))) + (1 (1 1)))) + (0 (0 (1 1)))) + (0 (0 (1 1))))) + (((1 (((0 (0 1)) + (1 (1 1))) + (1 (1 1)))) + (0 (0 (1 1)))) + (0 (0 (1 1)))))))'"
      ]
     },
     "execution_count": 47,
     "metadata": {},
     "output_type": "execute_result"
    }
   ],
   "source": [
    "final_re_str"
   ]
  },
  {
   "cell_type": "code",
   "execution_count": 48,
   "metadata": {
    "run_control": {
     "frozen": false,
     "read_only": false
    }
   },
   "outputs": [
    {
     "data": {
      "image/svg+xml": [
       "<?xml version=\"1.0\" encoding=\"UTF-8\" standalone=\"no\"?>\n",
       "<!DOCTYPE svg PUBLIC \"-//W3C//DTD SVG 1.1//EN\"\n",
       " \"http://www.w3.org/Graphics/SVG/1.1/DTD/svg11.dtd\">\n",
       "<!-- Generated by graphviz version 2.38.0 (20140413.2041)\n",
       " -->\n",
       "<!-- Title: %3 Pages: 1 -->\n",
       "<svg width=\"698pt\" height=\"211pt\"\n",
       " viewBox=\"0.00 0.00 698.19 210.87\" xmlns=\"http://www.w3.org/2000/svg\" xmlns:xlink=\"http://www.w3.org/1999/xlink\">\n",
       "<g id=\"graph0\" class=\"graph\" transform=\"scale(1 1) rotate(0) translate(4 206.874)\">\n",
       "<title>%3</title>\n",
       "<polygon fill=\"white\" stroke=\"none\" points=\"-4,4 -4,-206.874 694.186,-206.874 694.186,4 -4,4\"/>\n",
       "<!-- EMPTY -->\n",
       "<g id=\"node1\" class=\"node\"><title>EMPTY</title>\n",
       "</g>\n",
       "<!-- Real_I -->\n",
       "<g id=\"node3\" class=\"node\"><title>Real_I</title>\n",
       "<ellipse fill=\"none\" stroke=\"black\" cx=\"124.679\" cy=\"-83.4271\" rx=\"33.8596\" ry=\"33.8596\"/>\n",
       "<text text-anchor=\"middle\" x=\"124.679\" y=\"-79.2271\" font-family=\"Times,serif\" font-size=\"14.00\">Real_I</text>\n",
       "</g>\n",
       "<!-- EMPTY&#45;&gt;Real_I -->\n",
       "<g id=\"edge1\" class=\"edge\"><title>EMPTY&#45;&gt;Real_I</title>\n",
       "<path fill=\"none\" stroke=\"black\" d=\"M54.1448,-83.4271C62.3457,-83.4271 71.6258,-83.4271 80.6729,-83.4271\"/>\n",
       "<polygon fill=\"black\" stroke=\"black\" points=\"80.7185,-86.9272 90.7184,-83.4271 80.7184,-79.9272 80.7185,-86.9272\"/>\n",
       "</g>\n",
       "<!-- C0 -->\n",
       "<g id=\"node2\" class=\"node\"><title>C0</title>\n",
       "<ellipse fill=\"none\" stroke=\"black\" cx=\"467.515\" cy=\"-168.427\" rx=\"20.3544\" ry=\"20.3544\"/>\n",
       "<text text-anchor=\"middle\" x=\"467.515\" y=\"-164.227\" font-family=\"Times,serif\" font-size=\"14.00\">C0</text>\n",
       "</g>\n",
       "<!-- F0 -->\n",
       "<g id=\"node6\" class=\"node\"><title>F0</title>\n",
       "<ellipse fill=\"none\" stroke=\"black\" cx=\"550.389\" cy=\"-183.427\" rx=\"19.3939\" ry=\"19.3939\"/>\n",
       "<text text-anchor=\"middle\" x=\"550.389\" y=\"-179.227\" font-family=\"Times,serif\" font-size=\"14.00\">F0</text>\n",
       "</g>\n",
       "<!-- C0&#45;&gt;F0 -->\n",
       "<g id=\"edge8\" class=\"edge\"><title>C0&#45;&gt;F0</title>\n",
       "<path fill=\"none\" stroke=\"black\" d=\"M487.681,-171.982C497.663,-173.833 510.063,-176.133 521.123,-178.184\"/>\n",
       "<polygon fill=\"black\" stroke=\"black\" points=\"520.723,-181.67 531.193,-180.052 521.999,-174.787 520.723,-181.67\"/>\n",
       "<text text-anchor=\"middle\" x=\"509.442\" y=\"-178.227\" font-family=\"Times,serif\" font-size=\"14.00\">1</text>\n",
       "</g>\n",
       "<!-- F1 -->\n",
       "<g id=\"node10\" class=\"node\"><title>F1</title>\n",
       "<ellipse fill=\"none\" stroke=\"black\" cx=\"550.389\" cy=\"-126.427\" rx=\"19.3939\" ry=\"19.3939\"/>\n",
       "<text text-anchor=\"middle\" x=\"550.389\" y=\"-122.227\" font-family=\"Times,serif\" font-size=\"14.00\">F1</text>\n",
       "</g>\n",
       "<!-- C0&#45;&gt;F1 -->\n",
       "<g id=\"edge9\" class=\"edge\"><title>C0&#45;&gt;F1</title>\n",
       "<path fill=\"none\" stroke=\"black\" d=\"M486.063,-159.314C497.095,-153.585 511.516,-146.095 523.809,-139.711\"/>\n",
       "<polygon fill=\"black\" stroke=\"black\" points=\"525.442,-142.807 532.704,-135.092 522.216,-136.595 525.442,-142.807\"/>\n",
       "<text text-anchor=\"middle\" x=\"509.442\" y=\"-151.227\" font-family=\"Times,serif\" font-size=\"14.00\">0</text>\n",
       "</g>\n",
       "<!-- I -->\n",
       "<g id=\"node13\" class=\"node\"><title>I</title>\n",
       "<ellipse fill=\"none\" stroke=\"black\" cx=\"217.404\" cy=\"-83.4271\" rx=\"18\" ry=\"18\"/>\n",
       "<text text-anchor=\"middle\" x=\"217.404\" y=\"-79.2271\" font-family=\"Times,serif\" font-size=\"14.00\">I</text>\n",
       "</g>\n",
       "<!-- Real_I&#45;&gt;I -->\n",
       "<g id=\"edge18\" class=\"edge\"><title>Real_I&#45;&gt;I</title>\n",
       "<path fill=\"none\" stroke=\"black\" d=\"M158.433,-83.4271C168.463,-83.4271 179.387,-83.4271 189.021,-83.4271\"/>\n",
       "<polygon fill=\"black\" stroke=\"black\" points=\"189.232,-86.9272 199.232,-83.4271 189.232,-79.9272 189.232,-86.9272\"/>\n",
       "<text text-anchor=\"middle\" x=\"178.881\" y=\"-86.2271\" font-family=\"Times,serif\" font-size=\"14.00\">&#39;&#39;</text>\n",
       "</g>\n",
       "<!-- C1 -->\n",
       "<g id=\"node4\" class=\"node\"><title>C1</title>\n",
       "<ellipse fill=\"none\" stroke=\"black\" cx=\"467.515\" cy=\"-101.427\" rx=\"20.3544\" ry=\"20.3544\"/>\n",
       "<text text-anchor=\"middle\" x=\"467.515\" y=\"-97.2271\" font-family=\"Times,serif\" font-size=\"14.00\">C1</text>\n",
       "</g>\n",
       "<!-- F2 -->\n",
       "<g id=\"node8\" class=\"node\"><title>F2</title>\n",
       "<ellipse fill=\"none\" stroke=\"black\" cx=\"550.389\" cy=\"-69.4271\" rx=\"19.3939\" ry=\"19.3939\"/>\n",
       "<text text-anchor=\"middle\" x=\"550.389\" y=\"-65.2271\" font-family=\"Times,serif\" font-size=\"14.00\">F2</text>\n",
       "</g>\n",
       "<!-- C1&#45;&gt;F2 -->\n",
       "<g id=\"edge15\" class=\"edge\"><title>C1&#45;&gt;F2</title>\n",
       "<path fill=\"none\" stroke=\"black\" d=\"M486.866,-94.1658C497.425,-89.9879 510.882,-84.6634 522.604,-80.0251\"/>\n",
       "<polygon fill=\"black\" stroke=\"black\" points=\"523.931,-83.2644 531.941,-76.3306 521.355,-76.7554 523.931,-83.2644\"/>\n",
       "<text text-anchor=\"middle\" x=\"509.442\" y=\"-89.2271\" font-family=\"Times,serif\" font-size=\"14.00\">0</text>\n",
       "</g>\n",
       "<!-- C1&#45;&gt;F1 -->\n",
       "<g id=\"edge14\" class=\"edge\"><title>C1&#45;&gt;F1</title>\n",
       "<path fill=\"none\" stroke=\"black\" d=\"M487.768,-104.4C495.666,-105.858 504.839,-107.86 512.942,-110.427 516.339,-111.503 519.846,-112.795 523.281,-114.172\"/>\n",
       "<polygon fill=\"black\" stroke=\"black\" points=\"522.05,-117.452 532.62,-118.169 524.804,-111.016 522.05,-117.452\"/>\n",
       "<text text-anchor=\"middle\" x=\"509.442\" y=\"-113.227\" font-family=\"Times,serif\" font-size=\"14.00\">1</text>\n",
       "</g>\n",
       "<!-- B0 -->\n",
       "<g id=\"node5\" class=\"node\"><title>B0</title>\n",
       "<ellipse fill=\"none\" stroke=\"black\" cx=\"383.661\" cy=\"-138.427\" rx=\"20.3544\" ry=\"20.3544\"/>\n",
       "<text text-anchor=\"middle\" x=\"383.661\" y=\"-134.227\" font-family=\"Times,serif\" font-size=\"14.00\">B0</text>\n",
       "</g>\n",
       "<!-- B0&#45;&gt;C0 -->\n",
       "<g id=\"edge6\" class=\"edge\"><title>B0&#45;&gt;C0</title>\n",
       "<path fill=\"none\" stroke=\"black\" d=\"M403.235,-145.235C413.596,-149.032 426.714,-153.84 438.316,-158.092\"/>\n",
       "<polygon fill=\"black\" stroke=\"black\" points=\"437.421,-161.492 448.014,-161.647 439.83,-154.919 437.421,-161.492\"/>\n",
       "<text text-anchor=\"middle\" x=\"425.588\" y=\"-156.227\" font-family=\"Times,serif\" font-size=\"14.00\">0</text>\n",
       "</g>\n",
       "<!-- B0&#45;&gt;C1 -->\n",
       "<g id=\"edge7\" class=\"edge\"><title>B0&#45;&gt;C1</title>\n",
       "<path fill=\"none\" stroke=\"black\" d=\"M402.827,-130.216C413.604,-125.344 427.47,-119.076 439.51,-113.634\"/>\n",
       "<polygon fill=\"black\" stroke=\"black\" points=\"441.01,-116.797 448.681,-109.488 438.127,-110.418 441.01,-116.797\"/>\n",
       "<text text-anchor=\"middle\" x=\"425.588\" y=\"-124.227\" font-family=\"Times,serif\" font-size=\"14.00\">1</text>\n",
       "</g>\n",
       "<!-- Real_F -->\n",
       "<g id=\"node15\" class=\"node\"><title>Real_F</title>\n",
       "<ellipse fill=\"none\" stroke=\"black\" cx=\"650.533\" cy=\"-126.427\" rx=\"35.7905\" ry=\"35.7905\"/>\n",
       "<ellipse fill=\"none\" stroke=\"black\" cx=\"650.533\" cy=\"-126.427\" rx=\"39.806\" ry=\"39.806\"/>\n",
       "<text text-anchor=\"middle\" x=\"650.533\" y=\"-122.227\" font-family=\"Times,serif\" font-size=\"14.00\">Real_F</text>\n",
       "</g>\n",
       "<!-- F0&#45;&gt;Real_F -->\n",
       "<g id=\"edge20\" class=\"edge\"><title>F0&#45;&gt;Real_F</title>\n",
       "<path fill=\"none\" stroke=\"black\" d=\"M567.595,-174.015C578.314,-167.789 592.905,-159.316 606.805,-151.243\"/>\n",
       "<polygon fill=\"black\" stroke=\"black\" points=\"608.902,-154.072 615.792,-146.023 605.387,-148.019 608.902,-154.072\"/>\n",
       "<text text-anchor=\"middle\" x=\"590.358\" y=\"-164.227\" font-family=\"Times,serif\" font-size=\"14.00\">&#39;&#39;</text>\n",
       "</g>\n",
       "<!-- C2 -->\n",
       "<g id=\"node7\" class=\"node\"><title>C2</title>\n",
       "<ellipse fill=\"none\" stroke=\"black\" cx=\"467.515\" cy=\"-35.4271\" rx=\"20.3544\" ry=\"20.3544\"/>\n",
       "<text text-anchor=\"middle\" x=\"467.515\" y=\"-31.2271\" font-family=\"Times,serif\" font-size=\"14.00\">C2</text>\n",
       "</g>\n",
       "<!-- C2&#45;&gt;F2 -->\n",
       "<g id=\"edge17\" class=\"edge\"><title>C2&#45;&gt;F2</title>\n",
       "<path fill=\"none\" stroke=\"black\" d=\"M486.866,-43.1422C497.498,-47.6118 511.068,-53.3165 522.846,-58.2685\"/>\n",
       "<polygon fill=\"black\" stroke=\"black\" points=\"521.641,-61.5583 532.216,-62.2075 524.354,-55.1054 521.641,-61.5583\"/>\n",
       "<text text-anchor=\"middle\" x=\"509.442\" y=\"-57.2271\" font-family=\"Times,serif\" font-size=\"14.00\">1</text>\n",
       "</g>\n",
       "<!-- F2&#45;&gt;Real_F -->\n",
       "<g id=\"edge19\" class=\"edge\"><title>F2&#45;&gt;Real_F</title>\n",
       "<path fill=\"none\" stroke=\"black\" d=\"M567.595,-78.8395C578.314,-85.0647 592.905,-93.5386 606.805,-101.611\"/>\n",
       "<polygon fill=\"black\" stroke=\"black\" points=\"605.387,-104.835 615.792,-106.831 608.902,-98.782 605.387,-104.835\"/>\n",
       "<text text-anchor=\"middle\" x=\"590.358\" y=\"-96.2271\" font-family=\"Times,serif\" font-size=\"14.00\">&#39;&#39;</text>\n",
       "</g>\n",
       "<!-- B1 -->\n",
       "<g id=\"node9\" class=\"node\"><title>B1</title>\n",
       "<ellipse fill=\"none\" stroke=\"black\" cx=\"383.661\" cy=\"-79.4271\" rx=\"20.3544\" ry=\"20.3544\"/>\n",
       "<text text-anchor=\"middle\" x=\"383.661\" y=\"-75.2271\" font-family=\"Times,serif\" font-size=\"14.00\">B1</text>\n",
       "</g>\n",
       "<!-- B1&#45;&gt;C1 -->\n",
       "<g id=\"edge12\" class=\"edge\"><title>B1&#45;&gt;C1</title>\n",
       "<path fill=\"none\" stroke=\"black\" d=\"M403.645,-84.5296C413.77,-87.2508 426.438,-90.6555 437.744,-93.6944\"/>\n",
       "<polygon fill=\"black\" stroke=\"black\" points=\"437.067,-97.1366 447.633,-96.3522 438.884,-90.3765 437.067,-97.1366\"/>\n",
       "<text text-anchor=\"middle\" x=\"425.588\" y=\"-94.2271\" font-family=\"Times,serif\" font-size=\"14.00\">0</text>\n",
       "</g>\n",
       "<!-- B1&#45;&gt;C2 -->\n",
       "<g id=\"edge13\" class=\"edge\"><title>B1&#45;&gt;C2</title>\n",
       "<path fill=\"none\" stroke=\"black\" d=\"M402.02,-70.0958C413.089,-64.1456 427.648,-56.3198 440.131,-49.6094\"/>\n",
       "<polygon fill=\"black\" stroke=\"black\" points=\"442.03,-52.5625 449.181,-44.7449 438.715,-46.3968 442.03,-52.5625\"/>\n",
       "<text text-anchor=\"middle\" x=\"425.588\" y=\"-62.2271\" font-family=\"Times,serif\" font-size=\"14.00\">1</text>\n",
       "</g>\n",
       "<!-- F1&#45;&gt;Real_F -->\n",
       "<g id=\"edge21\" class=\"edge\"><title>F1&#45;&gt;Real_F</title>\n",
       "<path fill=\"none\" stroke=\"black\" d=\"M569.849,-126.427C578.692,-126.427 589.743,-126.427 600.772,-126.427\"/>\n",
       "<polygon fill=\"black\" stroke=\"black\" points=\"600.832,-129.927 610.832,-126.427 600.832,-122.927 600.832,-129.927\"/>\n",
       "<text text-anchor=\"middle\" x=\"590.358\" y=\"-129.227\" font-family=\"Times,serif\" font-size=\"14.00\">&#39;&#39;</text>\n",
       "</g>\n",
       "<!-- B2 -->\n",
       "<g id=\"node11\" class=\"node\"><title>B2</title>\n",
       "<ellipse fill=\"none\" stroke=\"black\" cx=\"383.661\" cy=\"-20.4271\" rx=\"20.3544\" ry=\"20.3544\"/>\n",
       "<text text-anchor=\"middle\" x=\"383.661\" y=\"-16.2271\" font-family=\"Times,serif\" font-size=\"14.00\">B2</text>\n",
       "</g>\n",
       "<!-- B2&#45;&gt;C2 -->\n",
       "<g id=\"edge16\" class=\"edge\"><title>B2&#45;&gt;C2</title>\n",
       "<path fill=\"none\" stroke=\"black\" d=\"M404.274,-19.4621C412.06,-19.4436 421.057,-19.8808 429.088,-21.4271 432.358,-22.0567 435.717,-22.9424 439.018,-23.966\"/>\n",
       "<polygon fill=\"black\" stroke=\"black\" points=\"437.999,-27.3178 448.594,-27.3325 440.321,-20.714 437.999,-27.3178\"/>\n",
       "<text text-anchor=\"middle\" x=\"425.588\" y=\"-24.2271\" font-family=\"Times,serif\" font-size=\"14.00\">0</text>\n",
       "</g>\n",
       "<!-- A0 -->\n",
       "<g id=\"node12\" class=\"node\"><title>A0</title>\n",
       "<ellipse fill=\"none\" stroke=\"black\" cx=\"299.319\" cy=\"-111.427\" rx=\"20.8304\" ry=\"20.8304\"/>\n",
       "<text text-anchor=\"middle\" x=\"299.319\" y=\"-107.227\" font-family=\"Times,serif\" font-size=\"14.00\">A0</text>\n",
       "</g>\n",
       "<!-- A0&#45;&gt;B0 -->\n",
       "<g id=\"edge4\" class=\"edge\"><title>A0&#45;&gt;B0</title>\n",
       "<path fill=\"none\" stroke=\"black\" d=\"M319.416,-117.689C329.779,-121.087 342.789,-125.353 354.312,-129.131\"/>\n",
       "<polygon fill=\"black\" stroke=\"black\" points=\"353.357,-132.502 363.95,-132.292 355.539,-125.85 353.357,-132.502\"/>\n",
       "<text text-anchor=\"middle\" x=\"341.734\" y=\"-129.227\" font-family=\"Times,serif\" font-size=\"14.00\">1</text>\n",
       "</g>\n",
       "<!-- A0&#45;&gt;B1 -->\n",
       "<g id=\"edge5\" class=\"edge\"><title>A0&#45;&gt;B1</title>\n",
       "<path fill=\"none\" stroke=\"black\" d=\"M319.003,-104.166C329.605,-100.046 343.077,-94.8101 354.895,-90.2174\"/>\n",
       "<polygon fill=\"black\" stroke=\"black\" points=\"356.281,-93.4341 364.334,-86.5494 353.745,-86.9095 356.281,-93.4341\"/>\n",
       "<text text-anchor=\"middle\" x=\"341.734\" y=\"-99.2271\" font-family=\"Times,serif\" font-size=\"14.00\">0</text>\n",
       "</g>\n",
       "<!-- I&#45;&gt;A0 -->\n",
       "<g id=\"edge2\" class=\"edge\"><title>I&#45;&gt;A0</title>\n",
       "<path fill=\"none\" stroke=\"black\" d=\"M234.576,-89.0933C244.695,-92.6388 258.014,-97.3055 269.86,-101.456\"/>\n",
       "<polygon fill=\"black\" stroke=\"black\" points=\"268.766,-104.781 279.361,-104.785 271.081,-98.175 268.766,-104.781\"/>\n",
       "<text text-anchor=\"middle\" x=\"256.904\" y=\"-101.227\" font-family=\"Times,serif\" font-size=\"14.00\">0</text>\n",
       "</g>\n",
       "<!-- A1 -->\n",
       "<g id=\"node14\" class=\"node\"><title>A1</title>\n",
       "<ellipse fill=\"none\" stroke=\"black\" cx=\"299.319\" cy=\"-51.4271\" rx=\"20.8304\" ry=\"20.8304\"/>\n",
       "<text text-anchor=\"middle\" x=\"299.319\" y=\"-47.2271\" font-family=\"Times,serif\" font-size=\"14.00\">A1</text>\n",
       "</g>\n",
       "<!-- I&#45;&gt;A1 -->\n",
       "<g id=\"edge3\" class=\"edge\"><title>I&#45;&gt;A1</title>\n",
       "<path fill=\"none\" stroke=\"black\" d=\"M234.576,-76.9514C244.766,-72.8708 258.202,-67.4908 270.11,-62.7226\"/>\n",
       "<polygon fill=\"black\" stroke=\"black\" points=\"271.666,-65.8697 279.648,-58.9031 269.064,-59.3713 271.666,-65.8697\"/>\n",
       "<text text-anchor=\"middle\" x=\"256.904\" y=\"-72.2271\" font-family=\"Times,serif\" font-size=\"14.00\">1</text>\n",
       "</g>\n",
       "<!-- A1&#45;&gt;B1 -->\n",
       "<g id=\"edge10\" class=\"edge\"><title>A1&#45;&gt;B1</title>\n",
       "<path fill=\"none\" stroke=\"black\" d=\"M319.684,-56.5774C327.654,-58.8145 336.944,-61.574 345.234,-64.4271 348.411,-65.5205 351.712,-66.7313 354.98,-67.9769\"/>\n",
       "<polygon fill=\"black\" stroke=\"black\" points=\"353.935,-71.3271 364.522,-71.7359 356.501,-64.8143 353.935,-71.3271\"/>\n",
       "<text text-anchor=\"middle\" x=\"341.734\" y=\"-67.2271\" font-family=\"Times,serif\" font-size=\"14.00\">1</text>\n",
       "</g>\n",
       "<!-- A1&#45;&gt;B2 -->\n",
       "<g id=\"edge11\" class=\"edge\"><title>A1&#45;&gt;B2</title>\n",
       "<path fill=\"none\" stroke=\"black\" d=\"M319.416,-44.2371C329.852,-40.3083 342.974,-35.3682 354.557,-31.0076\"/>\n",
       "<polygon fill=\"black\" stroke=\"black\" points=\"356.107,-34.1638 364.233,-27.3648 353.641,-27.6126 356.107,-34.1638\"/>\n",
       "<text text-anchor=\"middle\" x=\"341.734\" y=\"-40.2271\" font-family=\"Times,serif\" font-size=\"14.00\">0</text>\n",
       "</g>\n",
       "</g>\n",
       "</svg>\n"
      ],
      "text/plain": [
       "<graphviz.dot.Digraph at 0x10daf1668>"
      ]
     },
     "execution_count": 48,
     "metadata": {},
     "output_type": "execute_result"
    }
   ],
   "source": [
    "dotObj_List[0]"
   ]
  },
  {
   "cell_type": "code",
   "execution_count": 49,
   "metadata": {
    "run_control": {
     "frozen": false,
     "read_only": false
    }
   },
   "outputs": [
    {
     "data": {
      "image/svg+xml": [
       "<?xml version=\"1.0\" encoding=\"UTF-8\" standalone=\"no\"?>\n",
       "<!DOCTYPE svg PUBLIC \"-//W3C//DTD SVG 1.1//EN\"\n",
       " \"http://www.w3.org/Graphics/SVG/1.1/DTD/svg11.dtd\">\n",
       "<!-- Generated by graphviz version 2.38.0 (20140413.2041)\n",
       " -->\n",
       "<!-- Title: %3 Pages: 1 -->\n",
       "<svg width=\"745pt\" height=\"237pt\"\n",
       " viewBox=\"0.00 0.00 744.81 236.87\" xmlns=\"http://www.w3.org/2000/svg\" xmlns:xlink=\"http://www.w3.org/1999/xlink\">\n",
       "<g id=\"graph0\" class=\"graph\" transform=\"scale(1 1) rotate(0) translate(4 232.874)\">\n",
       "<title>%3</title>\n",
       "<polygon fill=\"white\" stroke=\"none\" points=\"-4,4 -4,-232.874 740.81,-232.874 740.81,4 -4,4\"/>\n",
       "<!-- EMPTY -->\n",
       "<g id=\"node1\" class=\"node\"><title>EMPTY</title>\n",
       "</g>\n",
       "<!-- Real_I -->\n",
       "<g id=\"node3\" class=\"node\"><title>Real_I</title>\n",
       "<ellipse fill=\"none\" stroke=\"black\" cx=\"124.679\" cy=\"-84.4271\" rx=\"33.8596\" ry=\"33.8596\"/>\n",
       "<text text-anchor=\"middle\" x=\"124.679\" y=\"-80.2271\" font-family=\"Times,serif\" font-size=\"14.00\">Real_I</text>\n",
       "</g>\n",
       "<!-- EMPTY&#45;&gt;Real_I -->\n",
       "<g id=\"edge1\" class=\"edge\"><title>EMPTY&#45;&gt;Real_I</title>\n",
       "<path fill=\"none\" stroke=\"black\" d=\"M54.1448,-84.4271C62.3457,-84.4271 71.6258,-84.4271 80.6729,-84.4271\"/>\n",
       "<polygon fill=\"black\" stroke=\"black\" points=\"80.7185,-87.9272 90.7184,-84.4271 80.7184,-80.9272 80.7185,-87.9272\"/>\n",
       "</g>\n",
       "<!-- C0 -->\n",
       "<g id=\"node2\" class=\"node\"><title>C0</title>\n",
       "<ellipse fill=\"none\" stroke=\"black\" cx=\"507.754\" cy=\"-181.427\" rx=\"20.3544\" ry=\"20.3544\"/>\n",
       "<text text-anchor=\"middle\" x=\"507.754\" y=\"-177.227\" font-family=\"Times,serif\" font-size=\"14.00\">C0</text>\n",
       "</g>\n",
       "<!-- F0 -->\n",
       "<g id=\"node6\" class=\"node\"><title>F0</title>\n",
       "<ellipse fill=\"none\" stroke=\"black\" cx=\"590.628\" cy=\"-209.427\" rx=\"19.3939\" ry=\"19.3939\"/>\n",
       "<text text-anchor=\"middle\" x=\"590.628\" y=\"-205.227\" font-family=\"Times,serif\" font-size=\"14.00\">F0</text>\n",
       "</g>\n",
       "<!-- C0&#45;&gt;F0 -->\n",
       "<g id=\"edge10\" class=\"edge\"><title>C0&#45;&gt;F0</title>\n",
       "<path fill=\"none\" stroke=\"black\" d=\"M527.511,-187.921C537.905,-191.52 551.012,-196.058 562.505,-200.037\"/>\n",
       "<polygon fill=\"black\" stroke=\"black\" points=\"561.484,-203.387 572.079,-203.351 563.775,-196.772 561.484,-203.387\"/>\n",
       "<text text-anchor=\"middle\" x=\"549.681\" y=\"-199.227\" font-family=\"Times,serif\" font-size=\"14.00\">1</text>\n",
       "</g>\n",
       "<!-- F1 -->\n",
       "<g id=\"node9\" class=\"node\"><title>F1</title>\n",
       "<ellipse fill=\"none\" stroke=\"black\" cx=\"590.628\" cy=\"-144.427\" rx=\"19.3939\" ry=\"19.3939\"/>\n",
       "<text text-anchor=\"middle\" x=\"590.628\" y=\"-140.227\" font-family=\"Times,serif\" font-size=\"14.00\">F1</text>\n",
       "</g>\n",
       "<!-- C0&#45;&gt;F1 -->\n",
       "<g id=\"edge11\" class=\"edge\"><title>C0&#45;&gt;F1</title>\n",
       "<path fill=\"none\" stroke=\"black\" d=\"M526.702,-173.216C537.498,-168.277 551.429,-161.903 563.438,-156.409\"/>\n",
       "<polygon fill=\"black\" stroke=\"black\" points=\"564.922,-159.579 572.56,-152.236 562.01,-153.213 564.922,-159.579\"/>\n",
       "<text text-anchor=\"middle\" x=\"549.681\" y=\"-167.227\" font-family=\"Times,serif\" font-size=\"14.00\">0</text>\n",
       "</g>\n",
       "<!-- I -->\n",
       "<g id=\"node12\" class=\"node\"><title>I</title>\n",
       "<ellipse fill=\"none\" stroke=\"black\" cx=\"223.788\" cy=\"-84.4271\" rx=\"18\" ry=\"18\"/>\n",
       "<text text-anchor=\"middle\" x=\"223.788\" y=\"-80.2271\" font-family=\"Times,serif\" font-size=\"14.00\">I</text>\n",
       "</g>\n",
       "<!-- Real_I&#45;&gt;I -->\n",
       "<g id=\"edge17\" class=\"edge\"><title>Real_I&#45;&gt;I</title>\n",
       "<path fill=\"none\" stroke=\"black\" d=\"M158.556,-84.4271C170.565,-84.4271 184.007,-84.4271 195.479,-84.4271\"/>\n",
       "<polygon fill=\"black\" stroke=\"black\" points=\"195.762,-87.9272 205.762,-84.4271 195.762,-80.9272 195.762,-87.9272\"/>\n",
       "<text text-anchor=\"middle\" x=\"182.073\" y=\"-87.2271\" font-family=\"Times,serif\" font-size=\"14.00\">&quot;&quot;</text>\n",
       "</g>\n",
       "<!-- C1 -->\n",
       "<g id=\"node4\" class=\"node\"><title>C1</title>\n",
       "<ellipse fill=\"none\" stroke=\"black\" cx=\"507.754\" cy=\"-122.427\" rx=\"20.3544\" ry=\"20.3544\"/>\n",
       "<text text-anchor=\"middle\" x=\"507.754\" y=\"-118.227\" font-family=\"Times,serif\" font-size=\"14.00\">C1</text>\n",
       "</g>\n",
       "<!-- F2 -->\n",
       "<g id=\"node7\" class=\"node\"><title>F2</title>\n",
       "<ellipse fill=\"none\" stroke=\"black\" cx=\"590.628\" cy=\"-81.4271\" rx=\"19.3939\" ry=\"19.3939\"/>\n",
       "<text text-anchor=\"middle\" x=\"590.628\" y=\"-77.2271\" font-family=\"Times,serif\" font-size=\"14.00\">F2</text>\n",
       "</g>\n",
       "<!-- C1&#45;&gt;F2 -->\n",
       "<g id=\"edge16\" class=\"edge\"><title>C1&#45;&gt;F2</title>\n",
       "<path fill=\"none\" stroke=\"black\" d=\"M526.302,-113.531C537.226,-107.993 551.473,-100.77 563.686,-94.5785\"/>\n",
       "<polygon fill=\"black\" stroke=\"black\" points=\"565.606,-97.5293 572.943,-89.8858 562.441,-91.2858 565.606,-97.5293\"/>\n",
       "<text text-anchor=\"middle\" x=\"549.681\" y=\"-106.227\" font-family=\"Times,serif\" font-size=\"14.00\">0</text>\n",
       "</g>\n",
       "<!-- C1&#45;&gt;F1 -->\n",
       "<g id=\"edge15\" class=\"edge\"><title>C1&#45;&gt;F1</title>\n",
       "<path fill=\"none\" stroke=\"black\" d=\"M527.92,-127.641C538.076,-130.404 550.736,-133.847 561.94,-136.895\"/>\n",
       "<polygon fill=\"black\" stroke=\"black\" points=\"561.139,-140.305 571.707,-139.552 562.977,-133.55 561.139,-140.305\"/>\n",
       "<text text-anchor=\"middle\" x=\"549.681\" y=\"-137.227\" font-family=\"Times,serif\" font-size=\"14.00\">1</text>\n",
       "</g>\n",
       "<!-- B0 -->\n",
       "<g id=\"node5\" class=\"node\"><title>B0</title>\n",
       "<ellipse fill=\"none\" stroke=\"black\" cx=\"390.045\" cy=\"-140.427\" rx=\"20.3544\" ry=\"20.3544\"/>\n",
       "<text text-anchor=\"middle\" x=\"390.045\" y=\"-136.227\" font-family=\"Times,serif\" font-size=\"14.00\">B0</text>\n",
       "</g>\n",
       "<!-- B0&#45;&gt;C0 -->\n",
       "<g id=\"edge8\" class=\"edge\"><title>B0&#45;&gt;C0</title>\n",
       "<path fill=\"none\" stroke=\"black\" d=\"M409.636,-147.014C428.276,-153.619 457.213,-163.873 478.656,-171.471\"/>\n",
       "<polygon fill=\"black\" stroke=\"black\" points=\"477.615,-174.815 488.209,-174.856 479.953,-168.217 477.615,-174.815\"/>\n",
       "<text text-anchor=\"middle\" x=\"448.9\" y=\"-171.227\" font-family=\"Times,serif\" font-size=\"14.00\">0</text>\n",
       "</g>\n",
       "<!-- B0&#45;&gt;C1 -->\n",
       "<g id=\"edge9\" class=\"edge\"><title>B0&#45;&gt;C1</title>\n",
       "<path fill=\"none\" stroke=\"black\" d=\"M410.412,-137.414C428.684,-134.572 456.33,-130.271 477.328,-127.005\"/>\n",
       "<polygon fill=\"black\" stroke=\"black\" points=\"477.98,-130.445 487.324,-125.45 476.904,-123.529 477.98,-130.445\"/>\n",
       "<text text-anchor=\"middle\" x=\"448.9\" y=\"-137.227\" font-family=\"Times,serif\" font-size=\"14.00\">1</text>\n",
       "</g>\n",
       "<!-- Real_F -->\n",
       "<g id=\"node14\" class=\"node\"><title>Real_F</title>\n",
       "<ellipse fill=\"none\" stroke=\"black\" cx=\"697.157\" cy=\"-144.427\" rx=\"35.7905\" ry=\"35.7905\"/>\n",
       "<ellipse fill=\"none\" stroke=\"black\" cx=\"697.157\" cy=\"-144.427\" rx=\"39.806\" ry=\"39.806\"/>\n",
       "<text text-anchor=\"middle\" x=\"697.157\" y=\"-140.227\" font-family=\"Times,serif\" font-size=\"14.00\">Real_F</text>\n",
       "</g>\n",
       "<!-- F0&#45;&gt;Real_F -->\n",
       "<g id=\"edge19\" class=\"edge\"><title>F0&#45;&gt;Real_F</title>\n",
       "<path fill=\"none\" stroke=\"black\" d=\"M607.503,-199.555C619.84,-191.884 637.546,-180.874 653.895,-170.707\"/>\n",
       "<polygon fill=\"black\" stroke=\"black\" points=\"656.152,-173.425 662.796,-165.172 652.456,-167.481 656.152,-173.425\"/>\n",
       "<text text-anchor=\"middle\" x=\"633.789\" y=\"-190.227\" font-family=\"Times,serif\" font-size=\"14.00\">&quot;&quot;</text>\n",
       "</g>\n",
       "<!-- F2&#45;&gt;Real_F -->\n",
       "<g id=\"edge18\" class=\"edge\"><title>F2&#45;&gt;Real_F</title>\n",
       "<path fill=\"none\" stroke=\"black\" d=\"M607.96,-91.2708C620.266,-98.6875 637.723,-109.209 653.862,-118.936\"/>\n",
       "<polygon fill=\"black\" stroke=\"black\" points=\"652.28,-122.069 662.652,-124.234 655.894,-116.074 652.28,-122.069\"/>\n",
       "<text text-anchor=\"middle\" x=\"633.789\" y=\"-112.227\" font-family=\"Times,serif\" font-size=\"14.00\">&quot;&quot;</text>\n",
       "</g>\n",
       "<!-- B1 -->\n",
       "<g id=\"node8\" class=\"node\"><title>B1</title>\n",
       "<ellipse fill=\"none\" stroke=\"black\" cx=\"390.045\" cy=\"-76.4271\" rx=\"20.3544\" ry=\"20.3544\"/>\n",
       "<text text-anchor=\"middle\" x=\"390.045\" y=\"-72.2271\" font-family=\"Times,serif\" font-size=\"14.00\">B1</text>\n",
       "</g>\n",
       "<!-- B1&#45;&gt;C1 -->\n",
       "<g id=\"edge14\" class=\"edge\"><title>B1&#45;&gt;C1</title>\n",
       "<path fill=\"none\" stroke=\"black\" d=\"M409.38,-83.7159C428.168,-91.1853 457.609,-102.889 479.202,-111.474\"/>\n",
       "<polygon fill=\"black\" stroke=\"black\" points=\"477.92,-114.73 488.505,-115.172 480.506,-108.226 477.92,-114.73\"/>\n",
       "<text text-anchor=\"middle\" x=\"448.9\" y=\"-111.227\" font-family=\"Times,serif\" font-size=\"14.00\">0</text>\n",
       "</g>\n",
       "<!-- B1&#45;&gt;F2 -->\n",
       "<g id=\"edge2\" class=\"edge\"><title>B1&#45;&gt;F2</title>\n",
       "<path fill=\"none\" stroke=\"black\" d=\"M410.577,-76.7889C437.177,-77.2966 486.284,-78.287 528.181,-79.4271 538.871,-79.718 550.606,-80.0875 560.93,-80.4296\"/>\n",
       "<polygon fill=\"black\" stroke=\"black\" points=\"560.963,-83.9326 571.076,-80.7717 561.199,-76.9366 560.963,-83.9326\"/>\n",
       "<text text-anchor=\"middle\" x=\"507.754\" y=\"-82.2271\" font-family=\"Times,serif\" font-size=\"14.00\">(1 1)</text>\n",
       "</g>\n",
       "<!-- F1&#45;&gt;Real_F -->\n",
       "<g id=\"edge20\" class=\"edge\"><title>F1&#45;&gt;Real_F</title>\n",
       "<path fill=\"none\" stroke=\"black\" d=\"M610.315,-144.427C620.602,-144.427 633.898,-144.427 646.94,-144.427\"/>\n",
       "<polygon fill=\"black\" stroke=\"black\" points=\"647.283,-147.927 657.283,-144.427 647.283,-140.927 647.283,-147.927\"/>\n",
       "<text text-anchor=\"middle\" x=\"633.789\" y=\"-147.227\" font-family=\"Times,serif\" font-size=\"14.00\">&quot;&quot;</text>\n",
       "</g>\n",
       "<!-- B2 -->\n",
       "<g id=\"node10\" class=\"node\"><title>B2</title>\n",
       "<ellipse fill=\"none\" stroke=\"black\" cx=\"448.9\" cy=\"-20.4271\" rx=\"20.3544\" ry=\"20.3544\"/>\n",
       "<text text-anchor=\"middle\" x=\"448.9\" y=\"-16.2271\" font-family=\"Times,serif\" font-size=\"14.00\">B2</text>\n",
       "</g>\n",
       "<!-- B2&#45;&gt;F2 -->\n",
       "<g id=\"edge3\" class=\"edge\"><title>B2&#45;&gt;F2</title>\n",
       "<path fill=\"none\" stroke=\"black\" d=\"M469.628,-21.3733C485.926,-22.7516 509.356,-26.1336 528.181,-34.4271 543.016,-40.9628 557.522,-51.7839 568.711,-61.3964\"/>\n",
       "<polygon fill=\"black\" stroke=\"black\" points=\"566.438,-64.0583 576.23,-68.1035 571.097,-58.8347 566.438,-64.0583\"/>\n",
       "<text text-anchor=\"middle\" x=\"507.754\" y=\"-37.2271\" font-family=\"Times,serif\" font-size=\"14.00\">(0 1)</text>\n",
       "</g>\n",
       "<!-- A0 -->\n",
       "<g id=\"node11\" class=\"node\"><title>A0</title>\n",
       "<ellipse fill=\"none\" stroke=\"black\" cx=\"305.703\" cy=\"-112.427\" rx=\"20.8304\" ry=\"20.8304\"/>\n",
       "<text text-anchor=\"middle\" x=\"305.703\" y=\"-108.227\" font-family=\"Times,serif\" font-size=\"14.00\">A0</text>\n",
       "</g>\n",
       "<!-- A0&#45;&gt;B0 -->\n",
       "<g id=\"edge6\" class=\"edge\"><title>A0&#45;&gt;B0</title>\n",
       "<path fill=\"none\" stroke=\"black\" d=\"M325.801,-118.921C336.163,-122.445 349.174,-126.869 360.696,-130.787\"/>\n",
       "<polygon fill=\"black\" stroke=\"black\" points=\"359.741,-134.159 370.335,-134.065 361.994,-127.532 359.741,-134.159\"/>\n",
       "<text text-anchor=\"middle\" x=\"348.118\" y=\"-130.227\" font-family=\"Times,serif\" font-size=\"14.00\">1</text>\n",
       "</g>\n",
       "<!-- A0&#45;&gt;B1 -->\n",
       "<g id=\"edge7\" class=\"edge\"><title>A0&#45;&gt;B1</title>\n",
       "<path fill=\"none\" stroke=\"black\" d=\"M325.388,-104.258C336.064,-99.5905 349.651,-93.6505 361.527,-88.458\"/>\n",
       "<polygon fill=\"black\" stroke=\"black\" points=\"363.24,-91.5291 371.001,-84.3163 360.436,-85.1153 363.24,-91.5291\"/>\n",
       "<text text-anchor=\"middle\" x=\"348.118\" y=\"-99.2271\" font-family=\"Times,serif\" font-size=\"14.00\">0</text>\n",
       "</g>\n",
       "<!-- I&#45;&gt;A0 -->\n",
       "<g id=\"edge4\" class=\"edge\"><title>I&#45;&gt;A0</title>\n",
       "<path fill=\"none\" stroke=\"black\" d=\"M240.96,-90.0933C251.08,-93.6388 264.399,-98.3055 276.245,-102.456\"/>\n",
       "<polygon fill=\"black\" stroke=\"black\" points=\"275.151,-105.781 285.746,-105.785 277.465,-99.175 275.151,-105.781\"/>\n",
       "<text text-anchor=\"middle\" x=\"263.288\" y=\"-101.227\" font-family=\"Times,serif\" font-size=\"14.00\">0</text>\n",
       "</g>\n",
       "<!-- A1 -->\n",
       "<g id=\"node13\" class=\"node\"><title>A1</title>\n",
       "<ellipse fill=\"none\" stroke=\"black\" cx=\"305.703\" cy=\"-52.4271\" rx=\"20.8304\" ry=\"20.8304\"/>\n",
       "<text text-anchor=\"middle\" x=\"305.703\" y=\"-48.2271\" font-family=\"Times,serif\" font-size=\"14.00\">A1</text>\n",
       "</g>\n",
       "<!-- I&#45;&gt;A1 -->\n",
       "<g id=\"edge5\" class=\"edge\"><title>I&#45;&gt;A1</title>\n",
       "<path fill=\"none\" stroke=\"black\" d=\"M240.96,-77.9514C251.151,-73.8708 264.587,-68.4908 276.495,-63.7226\"/>\n",
       "<polygon fill=\"black\" stroke=\"black\" points=\"278.051,-66.8697 286.033,-59.9031 275.449,-60.3713 278.051,-66.8697\"/>\n",
       "<text text-anchor=\"middle\" x=\"263.288\" y=\"-73.2271\" font-family=\"Times,serif\" font-size=\"14.00\">1</text>\n",
       "</g>\n",
       "<!-- A1&#45;&gt;B1 -->\n",
       "<g id=\"edge12\" class=\"edge\"><title>A1&#45;&gt;B1</title>\n",
       "<path fill=\"none\" stroke=\"black\" d=\"M325.942,-57.9767C333.893,-60.2749 343.202,-62.9722 351.618,-65.4271 354.422,-66.2449 357.344,-67.0993 360.263,-67.9548\"/>\n",
       "<polygon fill=\"black\" stroke=\"black\" points=\"359.429,-71.3575 370.01,-70.8159 361.4,-64.6409 359.429,-71.3575\"/>\n",
       "<text text-anchor=\"middle\" x=\"348.118\" y=\"-68.2271\" font-family=\"Times,serif\" font-size=\"14.00\">1</text>\n",
       "</g>\n",
       "<!-- A1&#45;&gt;B2 -->\n",
       "<g id=\"edge13\" class=\"edge\"><title>A1&#45;&gt;B2</title>\n",
       "<path fill=\"none\" stroke=\"black\" d=\"M326.336,-47.9776C350.391,-42.526 391.348,-33.2437 419.001,-26.9766\"/>\n",
       "<polygon fill=\"black\" stroke=\"black\" points=\"419.906,-30.3603 428.885,-24.7365 418.358,-23.5334 419.906,-30.3603\"/>\n",
       "<text text-anchor=\"middle\" x=\"348.118\" y=\"-47.2271\" font-family=\"Times,serif\" font-size=\"14.00\">0</text>\n",
       "</g>\n",
       "</g>\n",
       "</svg>\n"
      ],
      "text/plain": [
       "<graphviz.dot.Digraph at 0x10daf1d68>"
      ]
     },
     "execution_count": 49,
     "metadata": {},
     "output_type": "execute_result"
    }
   ],
   "source": [
    "dotObj_List[1]"
   ]
  },
  {
   "cell_type": "code",
   "execution_count": 50,
   "metadata": {
    "run_control": {
     "frozen": false,
     "read_only": false
    }
   },
   "outputs": [
    {
     "data": {
      "image/svg+xml": [
       "<?xml version=\"1.0\" encoding=\"UTF-8\" standalone=\"no\"?>\n",
       "<!DOCTYPE svg PUBLIC \"-//W3C//DTD SVG 1.1//EN\"\n",
       " \"http://www.w3.org/Graphics/SVG/1.1/DTD/svg11.dtd\">\n",
       "<!-- Generated by graphviz version 2.38.0 (20140413.2041)\n",
       " -->\n",
       "<!-- Title: %3 Pages: 1 -->\n",
       "<svg width=\"765pt\" height=\"240pt\"\n",
       " viewBox=\"0.00 0.00 764.63 239.87\" xmlns=\"http://www.w3.org/2000/svg\" xmlns:xlink=\"http://www.w3.org/1999/xlink\">\n",
       "<g id=\"graph0\" class=\"graph\" transform=\"scale(1 1) rotate(0) translate(4 235.874)\">\n",
       "<title>%3</title>\n",
       "<polygon fill=\"white\" stroke=\"none\" points=\"-4,4 -4,-235.874 760.634,-235.874 760.634,4 -4,4\"/>\n",
       "<!-- EMPTY -->\n",
       "<g id=\"node1\" class=\"node\"><title>EMPTY</title>\n",
       "</g>\n",
       "<!-- Real_I -->\n",
       "<g id=\"node3\" class=\"node\"><title>Real_I</title>\n",
       "<ellipse fill=\"none\" stroke=\"black\" cx=\"124.679\" cy=\"-77.4271\" rx=\"33.8596\" ry=\"33.8596\"/>\n",
       "<text text-anchor=\"middle\" x=\"124.679\" y=\"-73.2271\" font-family=\"Times,serif\" font-size=\"14.00\">Real_I</text>\n",
       "</g>\n",
       "<!-- EMPTY&#45;&gt;Real_I -->\n",
       "<g id=\"edge1\" class=\"edge\"><title>EMPTY&#45;&gt;Real_I</title>\n",
       "<path fill=\"none\" stroke=\"black\" d=\"M54.1448,-77.4271C62.3457,-77.4271 71.6258,-77.4271 80.6729,-77.4271\"/>\n",
       "<polygon fill=\"black\" stroke=\"black\" points=\"80.7185,-80.9272 90.7184,-77.4271 80.7184,-73.9272 80.7185,-80.9272\"/>\n",
       "</g>\n",
       "<!-- C0 -->\n",
       "<g id=\"node2\" class=\"node\"><title>C0</title>\n",
       "<ellipse fill=\"none\" stroke=\"black\" cx=\"507.754\" cy=\"-174.427\" rx=\"20.3544\" ry=\"20.3544\"/>\n",
       "<text text-anchor=\"middle\" x=\"507.754\" y=\"-170.227\" font-family=\"Times,serif\" font-size=\"14.00\">C0</text>\n",
       "</g>\n",
       "<!-- F0 -->\n",
       "<g id=\"node6\" class=\"node\"><title>F0</title>\n",
       "<ellipse fill=\"none\" stroke=\"black\" cx=\"610.452\" cy=\"-212.427\" rx=\"19.3939\" ry=\"19.3939\"/>\n",
       "<text text-anchor=\"middle\" x=\"610.452\" y=\"-208.227\" font-family=\"Times,serif\" font-size=\"14.00\">F0</text>\n",
       "</g>\n",
       "<!-- C0&#45;&gt;F0 -->\n",
       "<g id=\"edge11\" class=\"edge\"><title>C0&#45;&gt;F0</title>\n",
       "<path fill=\"none\" stroke=\"black\" d=\"M527.223,-181.397C542.696,-187.236 564.993,-195.65 582.467,-202.244\"/>\n",
       "<polygon fill=\"black\" stroke=\"black\" points=\"581.517,-205.626 592.109,-205.882 583.989,-199.077 581.517,-205.626\"/>\n",
       "<text text-anchor=\"middle\" x=\"559.593\" y=\"-201.227\" font-family=\"Times,serif\" font-size=\"14.00\">1</text>\n",
       "</g>\n",
       "<!-- F1 -->\n",
       "<g id=\"node8\" class=\"node\"><title>F1</title>\n",
       "<ellipse fill=\"none\" stroke=\"black\" cx=\"610.452\" cy=\"-155.427\" rx=\"19.3939\" ry=\"19.3939\"/>\n",
       "<text text-anchor=\"middle\" x=\"610.452\" y=\"-151.227\" font-family=\"Times,serif\" font-size=\"14.00\">F1</text>\n",
       "</g>\n",
       "<!-- C0&#45;&gt;F1 -->\n",
       "<g id=\"edge12\" class=\"edge\"><title>C0&#45;&gt;F1</title>\n",
       "<path fill=\"none\" stroke=\"black\" d=\"M528.169,-170.764C543.22,-167.924 564.291,-163.948 581.209,-160.756\"/>\n",
       "<polygon fill=\"black\" stroke=\"black\" points=\"581.936,-164.181 591.114,-158.887 580.638,-157.302 581.936,-164.181\"/>\n",
       "<text text-anchor=\"middle\" x=\"559.593\" y=\"-170.227\" font-family=\"Times,serif\" font-size=\"14.00\">0</text>\n",
       "</g>\n",
       "<!-- I -->\n",
       "<g id=\"node11\" class=\"node\"><title>I</title>\n",
       "<ellipse fill=\"none\" stroke=\"black\" cx=\"223.788\" cy=\"-77.4271\" rx=\"18\" ry=\"18\"/>\n",
       "<text text-anchor=\"middle\" x=\"223.788\" y=\"-73.2271\" font-family=\"Times,serif\" font-size=\"14.00\">I</text>\n",
       "</g>\n",
       "<!-- Real_I&#45;&gt;I -->\n",
       "<g id=\"edge17\" class=\"edge\"><title>Real_I&#45;&gt;I</title>\n",
       "<path fill=\"none\" stroke=\"black\" d=\"M158.556,-77.4271C170.565,-77.4271 184.007,-77.4271 195.479,-77.4271\"/>\n",
       "<polygon fill=\"black\" stroke=\"black\" points=\"195.762,-80.9272 205.762,-77.4271 195.762,-73.9272 195.762,-80.9272\"/>\n",
       "<text text-anchor=\"middle\" x=\"182.073\" y=\"-80.2271\" font-family=\"Times,serif\" font-size=\"14.00\">&quot;&quot;</text>\n",
       "</g>\n",
       "<!-- C1 -->\n",
       "<g id=\"node4\" class=\"node\"><title>C1</title>\n",
       "<ellipse fill=\"none\" stroke=\"black\" cx=\"507.754\" cy=\"-111.427\" rx=\"20.3544\" ry=\"20.3544\"/>\n",
       "<text text-anchor=\"middle\" x=\"507.754\" y=\"-107.227\" font-family=\"Times,serif\" font-size=\"14.00\">C1</text>\n",
       "</g>\n",
       "<!-- C1&#45;&gt;F1 -->\n",
       "<g id=\"edge16\" class=\"edge\"><title>C1&#45;&gt;F1</title>\n",
       "<path fill=\"none\" stroke=\"black\" d=\"M526.757,-119.293C542.413,-126.134 565.305,-136.137 583.036,-143.885\"/>\n",
       "<polygon fill=\"black\" stroke=\"black\" points=\"581.712,-147.126 592.277,-147.923 584.515,-140.711 581.712,-147.126\"/>\n",
       "<text text-anchor=\"middle\" x=\"559.593\" y=\"-142.227\" font-family=\"Times,serif\" font-size=\"14.00\">1</text>\n",
       "</g>\n",
       "<!-- Real_F -->\n",
       "<g id=\"node13\" class=\"node\"><title>Real_F</title>\n",
       "<ellipse fill=\"none\" stroke=\"black\" cx=\"716.981\" cy=\"-104.427\" rx=\"35.7905\" ry=\"35.7905\"/>\n",
       "<ellipse fill=\"none\" stroke=\"black\" cx=\"716.981\" cy=\"-104.427\" rx=\"39.806\" ry=\"39.806\"/>\n",
       "<text text-anchor=\"middle\" x=\"716.981\" y=\"-100.227\" font-family=\"Times,serif\" font-size=\"14.00\">Real_F</text>\n",
       "</g>\n",
       "<!-- C1&#45;&gt;Real_F -->\n",
       "<g id=\"edge4\" class=\"edge\"><title>C1&#45;&gt;Real_F</title>\n",
       "<path fill=\"none\" stroke=\"black\" d=\"M528.249,-110.769C559.683,-109.707 622.515,-107.584 666.809,-106.088\"/>\n",
       "<polygon fill=\"black\" stroke=\"black\" points=\"667.202,-109.577 677.078,-105.741 666.966,-102.581 667.202,-109.577\"/>\n",
       "<text text-anchor=\"middle\" x=\"610.452\" y=\"-112.227\" font-family=\"Times,serif\" font-size=\"14.00\">0</text>\n",
       "</g>\n",
       "<!-- B0 -->\n",
       "<g id=\"node5\" class=\"node\"><title>B0</title>\n",
       "<ellipse fill=\"none\" stroke=\"black\" cx=\"390.045\" cy=\"-131.427\" rx=\"20.3544\" ry=\"20.3544\"/>\n",
       "<text text-anchor=\"middle\" x=\"390.045\" y=\"-127.227\" font-family=\"Times,serif\" font-size=\"14.00\">B0</text>\n",
       "</g>\n",
       "<!-- B0&#45;&gt;C0 -->\n",
       "<g id=\"edge9\" class=\"edge\"><title>B0&#45;&gt;C0</title>\n",
       "<path fill=\"none\" stroke=\"black\" d=\"M409.38,-138.241C427.974,-145.151 457,-155.937 478.529,-163.938\"/>\n",
       "<polygon fill=\"black\" stroke=\"black\" points=\"477.529,-167.3 488.122,-167.503 479.968,-160.739 477.529,-167.3\"/>\n",
       "<text text-anchor=\"middle\" x=\"448.9\" y=\"-164.227\" font-family=\"Times,serif\" font-size=\"14.00\">0</text>\n",
       "</g>\n",
       "<!-- B0&#45;&gt;C1 -->\n",
       "<g id=\"edge10\" class=\"edge\"><title>B0&#45;&gt;C1</title>\n",
       "<path fill=\"none\" stroke=\"black\" d=\"M410.412,-128.08C428.684,-124.921 456.33,-120.143 477.328,-116.513\"/>\n",
       "<polygon fill=\"black\" stroke=\"black\" points=\"478.066,-119.938 487.324,-114.786 476.874,-113.04 478.066,-119.938\"/>\n",
       "<text text-anchor=\"middle\" x=\"448.9\" y=\"-127.227\" font-family=\"Times,serif\" font-size=\"14.00\">1</text>\n",
       "</g>\n",
       "<!-- F0&#45;&gt;Real_F -->\n",
       "<g id=\"edge18\" class=\"edge\"><title>F0&#45;&gt;Real_F</title>\n",
       "<path fill=\"none\" stroke=\"black\" d=\"M624.691,-198.749C638.977,-183.988 662.303,-159.887 681.8,-139.743\"/>\n",
       "<polygon fill=\"black\" stroke=\"black\" points=\"684.346,-142.145 688.786,-132.525 679.316,-137.277 684.346,-142.145\"/>\n",
       "<text text-anchor=\"middle\" x=\"653.614\" y=\"-177.227\" font-family=\"Times,serif\" font-size=\"14.00\">&quot;&quot;</text>\n",
       "</g>\n",
       "<!-- B1 -->\n",
       "<g id=\"node7\" class=\"node\"><title>B1</title>\n",
       "<ellipse fill=\"none\" stroke=\"black\" cx=\"390.045\" cy=\"-70.4271\" rx=\"20.3544\" ry=\"20.3544\"/>\n",
       "<text text-anchor=\"middle\" x=\"390.045\" y=\"-66.2271\" font-family=\"Times,serif\" font-size=\"14.00\">B1</text>\n",
       "</g>\n",
       "<!-- B1&#45;&gt;C1 -->\n",
       "<g id=\"edge15\" class=\"edge\"><title>B1&#45;&gt;C1</title>\n",
       "<path fill=\"none\" stroke=\"black\" d=\"M409.636,-77.0144C428.276,-83.6194 457.213,-93.8728 478.656,-101.471\"/>\n",
       "<polygon fill=\"black\" stroke=\"black\" points=\"477.615,-104.815 488.209,-104.856 479.953,-98.2171 477.615,-104.815\"/>\n",
       "<text text-anchor=\"middle\" x=\"448.9\" y=\"-101.227\" font-family=\"Times,serif\" font-size=\"14.00\">0</text>\n",
       "</g>\n",
       "<!-- B1&#45;&gt;Real_F -->\n",
       "<g id=\"edge2\" class=\"edge\"><title>B1&#45;&gt;Real_F</title>\n",
       "<path fill=\"none\" stroke=\"black\" d=\"M410.593,-71.9561C437.21,-74.0797 486.337,-78.1463 528.181,-82.4271 575.494,-87.2673 629.403,-93.6752 667.29,-98.3262\"/>\n",
       "<polygon fill=\"black\" stroke=\"black\" points=\"667.179,-101.839 677.532,-99.5886 668.035,-94.8915 667.179,-101.839\"/>\n",
       "<text text-anchor=\"middle\" x=\"559.593\" y=\"-90.2271\" font-family=\"Times,serif\" font-size=\"14.00\">(1 1)</text>\n",
       "</g>\n",
       "<!-- F1&#45;&gt;Real_F -->\n",
       "<g id=\"edge19\" class=\"edge\"><title>F1&#45;&gt;Real_F</title>\n",
       "<path fill=\"none\" stroke=\"black\" d=\"M628.246,-147.233C640.003,-141.497 656.294,-133.549 671.649,-126.057\"/>\n",
       "<polygon fill=\"black\" stroke=\"black\" points=\"673.588,-129.005 681.04,-121.475 670.518,-122.714 673.588,-129.005\"/>\n",
       "<text text-anchor=\"middle\" x=\"653.614\" y=\"-141.227\" font-family=\"Times,serif\" font-size=\"14.00\">&quot;&quot;</text>\n",
       "</g>\n",
       "<!-- B2 -->\n",
       "<g id=\"node9\" class=\"node\"><title>B2</title>\n",
       "<ellipse fill=\"none\" stroke=\"black\" cx=\"448.9\" cy=\"-20.4271\" rx=\"20.3544\" ry=\"20.3544\"/>\n",
       "<text text-anchor=\"middle\" x=\"448.9\" y=\"-16.2271\" font-family=\"Times,serif\" font-size=\"14.00\">B2</text>\n",
       "</g>\n",
       "<!-- B2&#45;&gt;Real_F -->\n",
       "<g id=\"edge3\" class=\"edge\"><title>B2&#45;&gt;Real_F</title>\n",
       "<path fill=\"none\" stroke=\"black\" d=\"M469.429,-17.7015C508.502,-13.2557 597.82,-8.23833 659.328,-44.4271 668.877,-50.0449 677.826,-57.7433 685.666,-65.7529\"/>\n",
       "<polygon fill=\"black\" stroke=\"black\" points=\"683.168,-68.2057 692.541,-73.1453 688.294,-63.4388 683.168,-68.2057\"/>\n",
       "<text text-anchor=\"middle\" x=\"559.593\" y=\"-21.2271\" font-family=\"Times,serif\" font-size=\"14.00\">(0 1)</text>\n",
       "</g>\n",
       "<!-- A0 -->\n",
       "<g id=\"node10\" class=\"node\"><title>A0</title>\n",
       "<ellipse fill=\"none\" stroke=\"black\" cx=\"305.703\" cy=\"-105.427\" rx=\"20.8304\" ry=\"20.8304\"/>\n",
       "<text text-anchor=\"middle\" x=\"305.703\" y=\"-101.227\" font-family=\"Times,serif\" font-size=\"14.00\">A0</text>\n",
       "</g>\n",
       "<!-- A0&#45;&gt;B0 -->\n",
       "<g id=\"edge7\" class=\"edge\"><title>A0&#45;&gt;B0</title>\n",
       "<path fill=\"none\" stroke=\"black\" d=\"M325.801,-111.457C336.163,-114.729 349.174,-118.837 360.696,-122.476\"/>\n",
       "<polygon fill=\"black\" stroke=\"black\" points=\"359.745,-125.846 370.335,-125.519 361.853,-119.17 359.745,-125.846\"/>\n",
       "<text text-anchor=\"middle\" x=\"348.118\" y=\"-122.227\" font-family=\"Times,serif\" font-size=\"14.00\">1</text>\n",
       "</g>\n",
       "<!-- A0&#45;&gt;B1 -->\n",
       "<g id=\"edge8\" class=\"edge\"><title>A0&#45;&gt;B1</title>\n",
       "<path fill=\"none\" stroke=\"black\" d=\"M325.388,-97.485C336.064,-92.947 349.651,-87.1721 361.527,-82.1238\"/>\n",
       "<polygon fill=\"black\" stroke=\"black\" points=\"363.167,-85.2302 371.001,-78.0972 360.428,-78.788 363.167,-85.2302\"/>\n",
       "<text text-anchor=\"middle\" x=\"348.118\" y=\"-92.2271\" font-family=\"Times,serif\" font-size=\"14.00\">0</text>\n",
       "</g>\n",
       "<!-- I&#45;&gt;A0 -->\n",
       "<g id=\"edge5\" class=\"edge\"><title>I&#45;&gt;A0</title>\n",
       "<path fill=\"none\" stroke=\"black\" d=\"M240.96,-83.0933C251.08,-86.6388 264.399,-91.3055 276.245,-95.4559\"/>\n",
       "<polygon fill=\"black\" stroke=\"black\" points=\"275.151,-98.7812 285.746,-98.7848 277.465,-92.175 275.151,-98.7812\"/>\n",
       "<text text-anchor=\"middle\" x=\"263.288\" y=\"-95.2271\" font-family=\"Times,serif\" font-size=\"14.00\">0</text>\n",
       "</g>\n",
       "<!-- A1 -->\n",
       "<g id=\"node12\" class=\"node\"><title>A1</title>\n",
       "<ellipse fill=\"none\" stroke=\"black\" cx=\"305.703\" cy=\"-45.4271\" rx=\"20.8304\" ry=\"20.8304\"/>\n",
       "<text text-anchor=\"middle\" x=\"305.703\" y=\"-41.2271\" font-family=\"Times,serif\" font-size=\"14.00\">A1</text>\n",
       "</g>\n",
       "<!-- I&#45;&gt;A1 -->\n",
       "<g id=\"edge6\" class=\"edge\"><title>I&#45;&gt;A1</title>\n",
       "<path fill=\"none\" stroke=\"black\" d=\"M240.96,-70.9514C251.151,-66.8708 264.587,-61.4908 276.495,-56.7226\"/>\n",
       "<polygon fill=\"black\" stroke=\"black\" points=\"278.051,-59.8697 286.033,-52.9031 275.449,-53.3713 278.051,-59.8697\"/>\n",
       "<text text-anchor=\"middle\" x=\"263.288\" y=\"-66.2271\" font-family=\"Times,serif\" font-size=\"14.00\">1</text>\n",
       "</g>\n",
       "<!-- A1&#45;&gt;B1 -->\n",
       "<g id=\"edge13\" class=\"edge\"><title>A1&#45;&gt;B1</title>\n",
       "<path fill=\"none\" stroke=\"black\" d=\"M325.973,-50.8739C333.928,-53.1564 343.232,-55.8697 351.618,-58.4271 354.59,-59.3333 357.689,-60.2968 360.775,-61.2685\"/>\n",
       "<polygon fill=\"black\" stroke=\"black\" points=\"359.831,-64.6411 370.422,-64.3404 361.955,-57.9711 359.831,-64.6411\"/>\n",
       "<text text-anchor=\"middle\" x=\"348.118\" y=\"-61.2271\" font-family=\"Times,serif\" font-size=\"14.00\">1</text>\n",
       "</g>\n",
       "<!-- A1&#45;&gt;B2 -->\n",
       "<g id=\"edge14\" class=\"edge\"><title>A1&#45;&gt;B2</title>\n",
       "<path fill=\"none\" stroke=\"black\" d=\"M326.336,-41.9509C350.256,-37.7157 390.89,-30.521 418.536,-25.6261\"/>\n",
       "<polygon fill=\"black\" stroke=\"black\" points=\"419.197,-29.0636 428.434,-23.8737 417.977,-22.1708 419.197,-29.0636\"/>\n",
       "<text text-anchor=\"middle\" x=\"348.118\" y=\"-42.2271\" font-family=\"Times,serif\" font-size=\"14.00\">0</text>\n",
       "</g>\n",
       "</g>\n",
       "</svg>\n"
      ],
      "text/plain": [
       "<graphviz.dot.Digraph at 0x10dafa400>"
      ]
     },
     "execution_count": 50,
     "metadata": {},
     "output_type": "execute_result"
    }
   ],
   "source": [
    "dotObj_List[2]"
   ]
  },
  {
   "cell_type": "code",
   "execution_count": 51,
   "metadata": {
    "run_control": {
     "frozen": false,
     "read_only": false
    }
   },
   "outputs": [
    {
     "data": {
      "image/svg+xml": [
       "<?xml version=\"1.0\" encoding=\"UTF-8\" standalone=\"no\"?>\n",
       "<!DOCTYPE svg PUBLIC \"-//W3C//DTD SVG 1.1//EN\"\n",
       " \"http://www.w3.org/Graphics/SVG/1.1/DTD/svg11.dtd\">\n",
       "<!-- Generated by graphviz version 2.38.0 (20140413.2041)\n",
       " -->\n",
       "<!-- Title: %3 Pages: 1 -->\n",
       "<svg width=\"777pt\" height=\"276pt\"\n",
       " viewBox=\"0.00 0.00 777.20 276.20\" xmlns=\"http://www.w3.org/2000/svg\" xmlns:xlink=\"http://www.w3.org/1999/xlink\">\n",
       "<g id=\"graph0\" class=\"graph\" transform=\"scale(1 1) rotate(0) translate(4 272.197)\">\n",
       "<title>%3</title>\n",
       "<polygon fill=\"white\" stroke=\"none\" points=\"-4,4 -4,-272.197 773.198,-272.197 773.198,4 -4,4\"/>\n",
       "<!-- EMPTY -->\n",
       "<g id=\"node1\" class=\"node\"><title>EMPTY</title>\n",
       "</g>\n",
       "<!-- Real_I -->\n",
       "<g id=\"node3\" class=\"node\"><title>Real_I</title>\n",
       "<ellipse fill=\"none\" stroke=\"black\" cx=\"124.679\" cy=\"-89.1972\" rx=\"33.8596\" ry=\"33.8596\"/>\n",
       "<text text-anchor=\"middle\" x=\"124.679\" y=\"-84.9972\" font-family=\"Times,serif\" font-size=\"14.00\">Real_I</text>\n",
       "</g>\n",
       "<!-- EMPTY&#45;&gt;Real_I -->\n",
       "<g id=\"edge1\" class=\"edge\"><title>EMPTY&#45;&gt;Real_I</title>\n",
       "<path fill=\"none\" stroke=\"black\" d=\"M54.1448,-89.1972C62.3457,-89.1972 71.6258,-89.1972 80.6729,-89.1972\"/>\n",
       "<polygon fill=\"black\" stroke=\"black\" points=\"80.7185,-92.6973 90.7184,-89.1972 80.7184,-85.6973 80.7185,-92.6973\"/>\n",
       "</g>\n",
       "<!-- C0 -->\n",
       "<g id=\"node2\" class=\"node\"><title>C0</title>\n",
       "<ellipse fill=\"none\" stroke=\"black\" cx=\"497.597\" cy=\"-185.197\" rx=\"20.3544\" ry=\"20.3544\"/>\n",
       "<text text-anchor=\"middle\" x=\"497.597\" y=\"-180.997\" font-family=\"Times,serif\" font-size=\"14.00\">C0</text>\n",
       "</g>\n",
       "<!-- F0 -->\n",
       "<g id=\"node6\" class=\"node\"><title>F0</title>\n",
       "<ellipse fill=\"none\" stroke=\"black\" cx=\"623.016\" cy=\"-207.197\" rx=\"19.3939\" ry=\"19.3939\"/>\n",
       "<text text-anchor=\"middle\" x=\"623.016\" y=\"-202.997\" font-family=\"Times,serif\" font-size=\"14.00\">F0</text>\n",
       "</g>\n",
       "<!-- C0&#45;&gt;F0 -->\n",
       "<g id=\"edge13\" class=\"edge\"><title>C0&#45;&gt;F0</title>\n",
       "<path fill=\"none\" stroke=\"black\" d=\"M517.881,-188.635C538.223,-192.261 570.486,-198.012 593.712,-202.152\"/>\n",
       "<polygon fill=\"black\" stroke=\"black\" points=\"593.213,-205.618 603.672,-203.927 594.442,-198.727 593.213,-205.618\"/>\n",
       "<text text-anchor=\"middle\" x=\"562.245\" y=\"-203.997\" font-family=\"Times,serif\" font-size=\"14.00\">1</text>\n",
       "</g>\n",
       "<!-- F1 -->\n",
       "<g id=\"node7\" class=\"node\"><title>F1</title>\n",
       "<ellipse fill=\"none\" stroke=\"black\" cx=\"623.016\" cy=\"-150.197\" rx=\"19.3939\" ry=\"19.3939\"/>\n",
       "<text text-anchor=\"middle\" x=\"623.016\" y=\"-145.997\" font-family=\"Times,serif\" font-size=\"14.00\">F1</text>\n",
       "</g>\n",
       "<!-- C0&#45;&gt;F1 -->\n",
       "<g id=\"edge14\" class=\"edge\"><title>C0&#45;&gt;F1</title>\n",
       "<path fill=\"none\" stroke=\"black\" d=\"M517.342,-179.881C537.784,-174.084 570.713,-164.746 594.177,-158.092\"/>\n",
       "<polygon fill=\"black\" stroke=\"black\" points=\"595.235,-161.43 603.901,-155.334 593.325,-154.696 595.235,-161.43\"/>\n",
       "<text text-anchor=\"middle\" x=\"562.245\" y=\"-175.997\" font-family=\"Times,serif\" font-size=\"14.00\">0</text>\n",
       "</g>\n",
       "<!-- I -->\n",
       "<g id=\"node10\" class=\"node\"><title>I</title>\n",
       "<ellipse fill=\"none\" stroke=\"black\" cx=\"223.788\" cy=\"-89.1972\" rx=\"18\" ry=\"18\"/>\n",
       "<text text-anchor=\"middle\" x=\"223.788\" y=\"-84.9972\" font-family=\"Times,serif\" font-size=\"14.00\">I</text>\n",
       "</g>\n",
       "<!-- Real_I&#45;&gt;I -->\n",
       "<g id=\"edge17\" class=\"edge\"><title>Real_I&#45;&gt;I</title>\n",
       "<path fill=\"none\" stroke=\"black\" d=\"M158.556,-89.1972C170.565,-89.1972 184.007,-89.1972 195.479,-89.1972\"/>\n",
       "<polygon fill=\"black\" stroke=\"black\" points=\"195.762,-92.6972 205.762,-89.1972 195.762,-85.6972 195.762,-92.6972\"/>\n",
       "<text text-anchor=\"middle\" x=\"182.073\" y=\"-91.9972\" font-family=\"Times,serif\" font-size=\"14.00\">&quot;&quot;</text>\n",
       "</g>\n",
       "<!-- C1 -->\n",
       "<g id=\"node4\" class=\"node\"><title>C1</title>\n",
       "<ellipse fill=\"none\" stroke=\"black\" cx=\"497.597\" cy=\"-115.197\" rx=\"20.3544\" ry=\"20.3544\"/>\n",
       "<text text-anchor=\"middle\" x=\"497.597\" y=\"-110.997\" font-family=\"Times,serif\" font-size=\"14.00\">C1</text>\n",
       "</g>\n",
       "<!-- C1&#45;&gt;F1 -->\n",
       "<g id=\"edge16\" class=\"edge\"><title>C1&#45;&gt;F1</title>\n",
       "<path fill=\"none\" stroke=\"black\" d=\"M517.342,-120.513C537.784,-126.31 570.713,-135.648 594.177,-142.302\"/>\n",
       "<polygon fill=\"black\" stroke=\"black\" points=\"593.325,-145.699 603.901,-145.06 595.235,-138.964 593.325,-145.699\"/>\n",
       "<text text-anchor=\"middle\" x=\"562.245\" y=\"-142.997\" font-family=\"Times,serif\" font-size=\"14.00\">1</text>\n",
       "</g>\n",
       "<!-- Real_F -->\n",
       "<g id=\"node12\" class=\"node\"><title>Real_F</title>\n",
       "<ellipse fill=\"none\" stroke=\"black\" cx=\"729.546\" cy=\"-120.197\" rx=\"35.7905\" ry=\"35.7905\"/>\n",
       "<ellipse fill=\"none\" stroke=\"black\" cx=\"729.546\" cy=\"-120.197\" rx=\"39.806\" ry=\"39.806\"/>\n",
       "<text text-anchor=\"middle\" x=\"729.546\" y=\"-115.997\" font-family=\"Times,serif\" font-size=\"14.00\">Real_F</text>\n",
       "</g>\n",
       "<!-- C1&#45;&gt;Real_F -->\n",
       "<g id=\"edge7\" class=\"edge\"><title>C1&#45;&gt;Real_F</title>\n",
       "<path fill=\"none\" stroke=\"black\" d=\"M518.159,-112.786C545.851,-109.704 598.059,-105.117 642.463,-108.197 654.694,-109.046 667.832,-110.564 680.07,-112.242\"/>\n",
       "<polygon fill=\"black\" stroke=\"black\" points=\"679.703,-115.725 690.098,-113.678 680.695,-108.796 679.703,-115.725\"/>\n",
       "<text text-anchor=\"middle\" x=\"623.016\" y=\"-110.997\" font-family=\"Times,serif\" font-size=\"14.00\">0</text>\n",
       "</g>\n",
       "<!-- B0 -->\n",
       "<g id=\"node5\" class=\"node\"><title>B0</title>\n",
       "<ellipse fill=\"none\" stroke=\"black\" cx=\"390.533\" cy=\"-167.197\" rx=\"20.3544\" ry=\"20.3544\"/>\n",
       "<text text-anchor=\"middle\" x=\"390.533\" y=\"-162.997\" font-family=\"Times,serif\" font-size=\"14.00\">B0</text>\n",
       "</g>\n",
       "<!-- B0&#45;&gt;C0 -->\n",
       "<g id=\"edge11\" class=\"edge\"><title>B0&#45;&gt;C0</title>\n",
       "<path fill=\"none\" stroke=\"black\" d=\"M410.804,-170.499C426.551,-173.197 449.074,-177.055 467.091,-180.142\"/>\n",
       "<polygon fill=\"black\" stroke=\"black\" points=\"466.646,-183.617 477.093,-181.856 467.828,-176.717 466.646,-183.617\"/>\n",
       "<text text-anchor=\"middle\" x=\"442.861\" y=\"-181.997\" font-family=\"Times,serif\" font-size=\"14.00\">0</text>\n",
       "</g>\n",
       "<!-- B0&#45;&gt;C1 -->\n",
       "<g id=\"edge12\" class=\"edge\"><title>B0&#45;&gt;C1</title>\n",
       "<path fill=\"none\" stroke=\"black\" d=\"M409.356,-158.376C425.984,-150.146 451.009,-137.76 469.999,-128.361\"/>\n",
       "<polygon fill=\"black\" stroke=\"black\" points=\"471.628,-131.461 479.037,-123.888 468.523,-125.187 471.628,-131.461\"/>\n",
       "<text text-anchor=\"middle\" x=\"442.861\" y=\"-150.997\" font-family=\"Times,serif\" font-size=\"14.00\">1</text>\n",
       "</g>\n",
       "<!-- F0&#45;&gt;Real_F -->\n",
       "<g id=\"edge18\" class=\"edge\"><title>F0&#45;&gt;Real_F</title>\n",
       "<path fill=\"none\" stroke=\"black\" d=\"M638.551,-195.1C651.88,-184.006 672.22,-167.077 690.193,-152.119\"/>\n",
       "<polygon fill=\"black\" stroke=\"black\" points=\"692.803,-154.5 698.25,-145.412 688.325,-149.119 692.803,-154.5\"/>\n",
       "<text text-anchor=\"middle\" x=\"666.178\" y=\"-179.997\" font-family=\"Times,serif\" font-size=\"14.00\">&quot;&quot;</text>\n",
       "</g>\n",
       "<!-- F1&#45;&gt;Real_F -->\n",
       "<g id=\"edge19\" class=\"edge\"><title>F1&#45;&gt;Real_F</title>\n",
       "<path fill=\"none\" stroke=\"black\" d=\"M642.224,-144.972C653.05,-141.865 667.328,-137.767 681.149,-133.8\"/>\n",
       "<polygon fill=\"black\" stroke=\"black\" points=\"682.429,-137.074 691.076,-130.951 680.498,-130.346 682.429,-137.074\"/>\n",
       "<text text-anchor=\"middle\" x=\"666.178\" y=\"-142.997\" font-family=\"Times,serif\" font-size=\"14.00\">&quot;&quot;</text>\n",
       "</g>\n",
       "<!-- B2 -->\n",
       "<g id=\"node8\" class=\"node\"><title>B2</title>\n",
       "<ellipse fill=\"none\" stroke=\"black\" cx=\"562.245\" cy=\"-49.1972\" rx=\"20.3544\" ry=\"20.3544\"/>\n",
       "<text text-anchor=\"middle\" x=\"562.245\" y=\"-44.9972\" font-family=\"Times,serif\" font-size=\"14.00\">B2</text>\n",
       "</g>\n",
       "<!-- B2&#45;&gt;Real_F -->\n",
       "<g id=\"edge6\" class=\"edge\"><title>B2&#45;&gt;Real_F</title>\n",
       "<path fill=\"none\" stroke=\"black\" d=\"M582.736,-50.4145C599.154,-51.9573 623.008,-55.4286 642.463,-63.1972 658.868,-69.7473 675.398,-79.7011 689.527,-89.4674\"/>\n",
       "<polygon fill=\"black\" stroke=\"black\" points=\"687.815,-92.5447 697.992,-95.492 691.874,-86.8417 687.815,-92.5447\"/>\n",
       "<text text-anchor=\"middle\" x=\"623.016\" y=\"-65.9972\" font-family=\"Times,serif\" font-size=\"14.00\">(0 1)</text>\n",
       "</g>\n",
       "<!-- A0 -->\n",
       "<g id=\"node9\" class=\"node\"><title>A0</title>\n",
       "<ellipse fill=\"none\" stroke=\"black\" cx=\"305.703\" cy=\"-129.197\" rx=\"20.8304\" ry=\"20.8304\"/>\n",
       "<text text-anchor=\"middle\" x=\"305.703\" y=\"-124.997\" font-family=\"Times,serif\" font-size=\"14.00\">A0</text>\n",
       "</g>\n",
       "<!-- A0&#45;&gt;C1 -->\n",
       "<g id=\"edge3\" class=\"edge\"><title>A0&#45;&gt;C1</title>\n",
       "<path fill=\"none\" stroke=\"black\" d=\"M326.817,-127.555C339.166,-126.557 355.305,-125.273 369.618,-124.197 402.786,-121.704 440.841,-119.032 466.574,-117.253\"/>\n",
       "<polygon fill=\"black\" stroke=\"black\" points=\"467.063,-120.727 476.798,-116.548 466.581,-113.744 467.063,-120.727\"/>\n",
       "<text text-anchor=\"middle\" x=\"390.533\" y=\"-126.997\" font-family=\"Times,serif\" font-size=\"14.00\">(0 0)</text>\n",
       "</g>\n",
       "<!-- A0&#45;&gt;B0 -->\n",
       "<g id=\"edge10\" class=\"edge\"><title>A0&#45;&gt;B0</title>\n",
       "<path fill=\"none\" stroke=\"black\" d=\"M325.086,-137.631C336.067,-142.669 350.217,-149.16 362.459,-154.776\"/>\n",
       "<polygon fill=\"black\" stroke=\"black\" points=\"361.222,-158.059 371.771,-159.048 364.141,-151.697 361.222,-158.059\"/>\n",
       "<text text-anchor=\"middle\" x=\"348.118\" y=\"-152.997\" font-family=\"Times,serif\" font-size=\"14.00\">1</text>\n",
       "</g>\n",
       "<!-- A0&#45;&gt;Real_F -->\n",
       "<g id=\"edge2\" class=\"edge\"><title>A0&#45;&gt;Real_F</title>\n",
       "<path fill=\"none\" stroke=\"black\" d=\"M310.518,-149.838C318.402,-185.342 340.07,-254.197 389.533,-254.197 389.533,-254.197 389.533,-254.197 624.016,-254.197 669.304,-254.197 697.862,-206.025 713.472,-167.446\"/>\n",
       "<polygon fill=\"black\" stroke=\"black\" points=\"716.828,-168.47 717.164,-157.88 710.298,-165.949 716.828,-168.47\"/>\n",
       "<text text-anchor=\"middle\" x=\"497.597\" y=\"-256.997\" font-family=\"Times,serif\" font-size=\"14.00\">(0 (1 1))</text>\n",
       "</g>\n",
       "<!-- I&#45;&gt;A0 -->\n",
       "<g id=\"edge8\" class=\"edge\"><title>I&#45;&gt;A0</title>\n",
       "<path fill=\"none\" stroke=\"black\" d=\"M240.197,-96.9096C250.751,-102.192 265.035,-109.342 277.479,-115.571\"/>\n",
       "<polygon fill=\"black\" stroke=\"black\" points=\"276.035,-118.762 286.544,-120.108 279.169,-112.502 276.035,-118.762\"/>\n",
       "<text text-anchor=\"middle\" x=\"263.288\" y=\"-113.997\" font-family=\"Times,serif\" font-size=\"14.00\">0</text>\n",
       "</g>\n",
       "<!-- A1 -->\n",
       "<g id=\"node11\" class=\"node\"><title>A1</title>\n",
       "<ellipse fill=\"none\" stroke=\"black\" cx=\"390.533\" cy=\"-53.1972\" rx=\"20.8304\" ry=\"20.8304\"/>\n",
       "<text text-anchor=\"middle\" x=\"390.533\" y=\"-48.9972\" font-family=\"Times,serif\" font-size=\"14.00\">A1</text>\n",
       "</g>\n",
       "<!-- I&#45;&gt;A1 -->\n",
       "<g id=\"edge9\" class=\"edge\"><title>I&#45;&gt;A1</title>\n",
       "<path fill=\"none\" stroke=\"black\" d=\"M241.492,-85.5472C269.292,-79.4723 325.41,-67.2093 360.006,-59.6495\"/>\n",
       "<polygon fill=\"black\" stroke=\"black\" points=\"360.974,-63.0206 369.996,-57.4664 359.48,-56.182 360.974,-63.0206\"/>\n",
       "<text text-anchor=\"middle\" x=\"305.703\" y=\"-78.9972\" font-family=\"Times,serif\" font-size=\"14.00\">1</text>\n",
       "</g>\n",
       "<!-- A1&#45;&gt;C1 -->\n",
       "<g id=\"edge5\" class=\"edge\"><title>A1&#45;&gt;C1</title>\n",
       "<path fill=\"none\" stroke=\"black\" d=\"M409.723,-61.9958C422.883,-68.5419 440.968,-77.9133 456.273,-87.1972 461.594,-90.4254 467.162,-94.0905 472.401,-97.6805\"/>\n",
       "<polygon fill=\"black\" stroke=\"black\" points=\"470.607,-100.697 480.808,-103.561 474.62,-94.9611 470.607,-100.697\"/>\n",
       "<text text-anchor=\"middle\" x=\"442.861\" y=\"-89.9972\" font-family=\"Times,serif\" font-size=\"14.00\">(1 0)</text>\n",
       "</g>\n",
       "<!-- A1&#45;&gt;B2 -->\n",
       "<g id=\"edge15\" class=\"edge\"><title>A1&#45;&gt;B2</title>\n",
       "<path fill=\"none\" stroke=\"black\" d=\"M411.668,-52.7226C441.299,-52.0242 496.854,-50.7148 531.284,-49.9033\"/>\n",
       "<polygon fill=\"black\" stroke=\"black\" points=\"531.746,-53.3935 541.661,-49.6587 531.581,-46.3954 531.746,-53.3935\"/>\n",
       "<text text-anchor=\"middle\" x=\"442.861\" y=\"-55.9972\" font-family=\"Times,serif\" font-size=\"14.00\">0</text>\n",
       "</g>\n",
       "<!-- A1&#45;&gt;Real_F -->\n",
       "<g id=\"edge4\" class=\"edge\"><title>A1&#45;&gt;Real_F</title>\n",
       "<path fill=\"none\" stroke=\"black\" d=\"M408.901,-42.6365C443.135,-23.2081 521.562,14.4071 585.57,-6.19715 629.489,-20.3351 669.623,-55.163 696.114,-82.632\"/>\n",
       "<polygon fill=\"black\" stroke=\"black\" points=\"693.808,-85.2882 703.215,-90.1612 698.9,-80.4851 693.808,-85.2882\"/>\n",
       "<text text-anchor=\"middle\" x=\"562.245\" y=\"-8.99715\" font-family=\"Times,serif\" font-size=\"14.00\">(1 (1 1))</text>\n",
       "</g>\n",
       "</g>\n",
       "</svg>\n"
      ],
      "text/plain": [
       "<graphviz.dot.Digraph at 0x10dafa4e0>"
      ]
     },
     "execution_count": 51,
     "metadata": {},
     "output_type": "execute_result"
    }
   ],
   "source": [
    "dotObj_List[3]"
   ]
  },
  {
   "cell_type": "code",
   "execution_count": 52,
   "metadata": {
    "run_control": {
     "frozen": false,
     "read_only": false
    }
   },
   "outputs": [
    {
     "data": {
      "image/svg+xml": [
       "<?xml version=\"1.0\" encoding=\"UTF-8\" standalone=\"no\"?>\n",
       "<!DOCTYPE svg PUBLIC \"-//W3C//DTD SVG 1.1//EN\"\n",
       " \"http://www.w3.org/Graphics/SVG/1.1/DTD/svg11.dtd\">\n",
       "<!-- Generated by graphviz version 2.38.0 (20140413.2041)\n",
       " -->\n",
       "<!-- Title: %3 Pages: 1 -->\n",
       "<svg width=\"791pt\" height=\"318pt\"\n",
       " viewBox=\"0.00 0.00 790.94 318.43\" xmlns=\"http://www.w3.org/2000/svg\" xmlns:xlink=\"http://www.w3.org/1999/xlink\">\n",
       "<g id=\"graph0\" class=\"graph\" transform=\"scale(1 1) rotate(0) translate(4 314.427)\">\n",
       "<title>%3</title>\n",
       "<polygon fill=\"white\" stroke=\"none\" points=\"-4,4 -4,-314.427 786.943,-314.427 786.943,4 -4,4\"/>\n",
       "<!-- EMPTY -->\n",
       "<g id=\"node1\" class=\"node\"><title>EMPTY</title>\n",
       "</g>\n",
       "<!-- Real_I -->\n",
       "<g id=\"node3\" class=\"node\"><title>Real_I</title>\n",
       "<ellipse fill=\"none\" stroke=\"black\" cx=\"124.679\" cy=\"-113.427\" rx=\"33.8596\" ry=\"33.8596\"/>\n",
       "<text text-anchor=\"middle\" x=\"124.679\" y=\"-109.227\" font-family=\"Times,serif\" font-size=\"14.00\">Real_I</text>\n",
       "</g>\n",
       "<!-- EMPTY&#45;&gt;Real_I -->\n",
       "<g id=\"edge1\" class=\"edge\"><title>EMPTY&#45;&gt;Real_I</title>\n",
       "<path fill=\"none\" stroke=\"black\" d=\"M54.1448,-113.427C62.3457,-113.427 71.6258,-113.427 80.6729,-113.427\"/>\n",
       "<polygon fill=\"black\" stroke=\"black\" points=\"80.7185,-116.927 90.7184,-113.427 80.7184,-109.927 80.7185,-116.927\"/>\n",
       "</g>\n",
       "<!-- C0 -->\n",
       "<g id=\"node2\" class=\"node\"><title>C0</title>\n",
       "<ellipse fill=\"none\" stroke=\"black\" cx=\"496.621\" cy=\"-230.427\" rx=\"20.3544\" ry=\"20.3544\"/>\n",
       "<text text-anchor=\"middle\" x=\"496.621\" y=\"-226.227\" font-family=\"Times,serif\" font-size=\"14.00\">C0</text>\n",
       "</g>\n",
       "<!-- F0 -->\n",
       "<g id=\"node6\" class=\"node\"><title>F0</title>\n",
       "<ellipse fill=\"none\" stroke=\"black\" cx=\"606.094\" cy=\"-249.427\" rx=\"19.3939\" ry=\"19.3939\"/>\n",
       "<text text-anchor=\"middle\" x=\"606.094\" y=\"-245.227\" font-family=\"Times,serif\" font-size=\"14.00\">F0</text>\n",
       "</g>\n",
       "<!-- C0&#45;&gt;F0 -->\n",
       "<g id=\"edge15\" class=\"edge\"><title>C0&#45;&gt;F0</title>\n",
       "<path fill=\"none\" stroke=\"black\" d=\"M516.835,-233.824C533.544,-236.778 557.976,-241.097 576.901,-244.443\"/>\n",
       "<polygon fill=\"black\" stroke=\"black\" points=\"576.307,-247.892 586.763,-246.186 577.525,-240.999 576.307,-247.892\"/>\n",
       "<text text-anchor=\"middle\" x=\"551.357\" y=\"-245.227\" font-family=\"Times,serif\" font-size=\"14.00\">1</text>\n",
       "</g>\n",
       "<!-- Real_F -->\n",
       "<g id=\"node11\" class=\"node\"><title>Real_F</title>\n",
       "<ellipse fill=\"none\" stroke=\"black\" cx=\"743.29\" cy=\"-169.427\" rx=\"35.7905\" ry=\"35.7905\"/>\n",
       "<ellipse fill=\"none\" stroke=\"black\" cx=\"743.29\" cy=\"-169.427\" rx=\"39.806\" ry=\"39.806\"/>\n",
       "<text text-anchor=\"middle\" x=\"743.29\" y=\"-165.227\" font-family=\"Times,serif\" font-size=\"14.00\">Real_F</text>\n",
       "</g>\n",
       "<!-- C0&#45;&gt;Real_F -->\n",
       "<g id=\"edge2\" class=\"edge\"><title>C0&#45;&gt;Real_F</title>\n",
       "<path fill=\"none\" stroke=\"black\" d=\"M516.517,-225.149C533.744,-220.378 559.914,-213.235 582.769,-207.427 620.241,-197.905 662.847,-187.792 694.596,-180.395\"/>\n",
       "<polygon fill=\"black\" stroke=\"black\" points=\"695.554,-183.765 704.502,-178.093 693.969,-176.947 695.554,-183.765\"/>\n",
       "<text text-anchor=\"middle\" x=\"606.094\" y=\"-210.227\" font-family=\"Times,serif\" font-size=\"14.00\">0</text>\n",
       "</g>\n",
       "<!-- I -->\n",
       "<g id=\"node9\" class=\"node\"><title>I</title>\n",
       "<ellipse fill=\"none\" stroke=\"black\" cx=\"223.788\" cy=\"-113.427\" rx=\"18\" ry=\"18\"/>\n",
       "<text text-anchor=\"middle\" x=\"223.788\" y=\"-109.227\" font-family=\"Times,serif\" font-size=\"14.00\">I</text>\n",
       "</g>\n",
       "<!-- Real_I&#45;&gt;I -->\n",
       "<g id=\"edge17\" class=\"edge\"><title>Real_I&#45;&gt;I</title>\n",
       "<path fill=\"none\" stroke=\"black\" d=\"M158.556,-113.427C170.565,-113.427 184.007,-113.427 195.479,-113.427\"/>\n",
       "<polygon fill=\"black\" stroke=\"black\" points=\"195.762,-116.927 205.762,-113.427 195.762,-109.927 195.762,-116.927\"/>\n",
       "<text text-anchor=\"middle\" x=\"182.073\" y=\"-116.227\" font-family=\"Times,serif\" font-size=\"14.00\">&quot;&quot;</text>\n",
       "</g>\n",
       "<!-- C1 -->\n",
       "<g id=\"node4\" class=\"node\"><title>C1</title>\n",
       "<ellipse fill=\"none\" stroke=\"black\" cx=\"606.094\" cy=\"-138.427\" rx=\"20.3544\" ry=\"20.3544\"/>\n",
       "<text text-anchor=\"middle\" x=\"606.094\" y=\"-134.227\" font-family=\"Times,serif\" font-size=\"14.00\">C1</text>\n",
       "</g>\n",
       "<!-- C1&#45;&gt;Real_F -->\n",
       "<g id=\"edge3\" class=\"edge\"><title>C1&#45;&gt;Real_F</title>\n",
       "<path fill=\"none\" stroke=\"black\" d=\"M626.218,-133.621C642.374,-130.404 665.957,-127.703 685.638,-133.427 691.372,-135.095 697.081,-137.538 702.545,-140.379\"/>\n",
       "<polygon fill=\"black\" stroke=\"black\" points=\"701.05,-143.555 711.47,-145.468 704.518,-137.474 701.05,-143.555\"/>\n",
       "<text text-anchor=\"middle\" x=\"666.528\" y=\"-136.227\" font-family=\"Times,serif\" font-size=\"14.00\">(1 + 0)</text>\n",
       "</g>\n",
       "<!-- C1&#45;&gt;Real_F -->\n",
       "<g id=\"edge9\" class=\"edge\"><title>C1&#45;&gt;Real_F</title>\n",
       "<path fill=\"none\" stroke=\"black\" d=\"M626.177,-142.803C643.883,-146.863 670.973,-153.074 694.535,-158.477\"/>\n",
       "<polygon fill=\"black\" stroke=\"black\" points=\"693.85,-161.911 704.379,-160.734 695.414,-155.088 693.85,-161.911\"/>\n",
       "<text text-anchor=\"middle\" x=\"666.528\" y=\"-159.227\" font-family=\"Times,serif\" font-size=\"14.00\">0</text>\n",
       "</g>\n",
       "<!-- B0 -->\n",
       "<g id=\"node5\" class=\"node\"><title>B0</title>\n",
       "<ellipse fill=\"none\" stroke=\"black\" cx=\"390.045\" cy=\"-180.427\" rx=\"20.3544\" ry=\"20.3544\"/>\n",
       "<text text-anchor=\"middle\" x=\"390.045\" y=\"-176.227\" font-family=\"Times,serif\" font-size=\"14.00\">B0</text>\n",
       "</g>\n",
       "<!-- B0&#45;&gt;C0 -->\n",
       "<g id=\"edge13\" class=\"edge\"><title>B0&#45;&gt;C0</title>\n",
       "<path fill=\"none\" stroke=\"black\" d=\"M408.785,-188.909C425.161,-196.738 449.72,-208.481 468.546,-217.482\"/>\n",
       "<polygon fill=\"black\" stroke=\"black\" points=\"467.263,-220.748 477.794,-221.904 470.282,-214.432 467.263,-220.748\"/>\n",
       "<text text-anchor=\"middle\" x=\"441.885\" y=\"-214.227\" font-family=\"Times,serif\" font-size=\"14.00\">0</text>\n",
       "</g>\n",
       "<!-- B0&#45;&gt;C1 -->\n",
       "<g id=\"edge14\" class=\"edge\"><title>B0&#45;&gt;C1</title>\n",
       "<path fill=\"none\" stroke=\"black\" d=\"M410.55,-178.407C442.93,-174.805 509.671,-166.319 564.769,-152.427 568.778,-151.416 572.954,-150.182 577.034,-148.868\"/>\n",
       "<polygon fill=\"black\" stroke=\"black\" points=\"578.497,-152.067 586.83,-145.524 576.235,-145.442 578.497,-152.067\"/>\n",
       "<text text-anchor=\"middle\" x=\"496.621\" y=\"-173.227\" font-family=\"Times,serif\" font-size=\"14.00\">1</text>\n",
       "</g>\n",
       "<!-- F0&#45;&gt;Real_F -->\n",
       "<g id=\"edge18\" class=\"edge\"><title>F0&#45;&gt;Real_F</title>\n",
       "<path fill=\"none\" stroke=\"black\" d=\"M624.479,-242.478C640.76,-235.686 665.527,-224.612 685.638,-212.427 691.598,-208.816 697.683,-204.707 703.549,-200.495\"/>\n",
       "<polygon fill=\"black\" stroke=\"black\" points=\"705.979,-203.052 711.947,-194.298 701.823,-197.42 705.979,-203.052\"/>\n",
       "<text text-anchor=\"middle\" x=\"666.528\" y=\"-235.227\" font-family=\"Times,serif\" font-size=\"14.00\">&quot;&quot;</text>\n",
       "</g>\n",
       "<!-- B2 -->\n",
       "<g id=\"node7\" class=\"node\"><title>B2</title>\n",
       "<ellipse fill=\"none\" stroke=\"black\" cx=\"606.094\" cy=\"-20.4271\" rx=\"20.3544\" ry=\"20.3544\"/>\n",
       "<text text-anchor=\"middle\" x=\"606.094\" y=\"-16.2271\" font-family=\"Times,serif\" font-size=\"14.00\">B2</text>\n",
       "</g>\n",
       "<!-- B2&#45;&gt;Real_F -->\n",
       "<g id=\"edge8\" class=\"edge\"><title>B2&#45;&gt;Real_F</title>\n",
       "<path fill=\"none\" stroke=\"black\" d=\"M626.37,-23.0158C643.741,-26.2542 669.032,-33.3354 685.638,-48.4271 706.929,-67.7773 720.888,-96.7816 729.621,-121.543\"/>\n",
       "<polygon fill=\"black\" stroke=\"black\" points=\"726.341,-122.77 732.828,-131.146 732.98,-120.553 726.341,-122.77\"/>\n",
       "<text text-anchor=\"middle\" x=\"666.528\" y=\"-51.2271\" font-family=\"Times,serif\" font-size=\"14.00\">(0 1)</text>\n",
       "</g>\n",
       "<!-- A0 -->\n",
       "<g id=\"node8\" class=\"node\"><title>A0</title>\n",
       "<ellipse fill=\"none\" stroke=\"black\" cx=\"305.703\" cy=\"-155.427\" rx=\"20.8304\" ry=\"20.8304\"/>\n",
       "<text text-anchor=\"middle\" x=\"305.703\" y=\"-151.227\" font-family=\"Times,serif\" font-size=\"14.00\">A0</text>\n",
       "</g>\n",
       "<!-- A0&#45;&gt;C1 -->\n",
       "<g id=\"edge5\" class=\"edge\"><title>A0&#45;&gt;C1</title>\n",
       "<path fill=\"none\" stroke=\"black\" d=\"M326.818,-154.105C339.167,-153.305 355.306,-152.277 369.618,-151.427 443.624,-147.032 530.744,-142.35 575.404,-139.987\"/>\n",
       "<polygon fill=\"black\" stroke=\"black\" points=\"575.752,-143.473 585.553,-139.451 575.382,-136.483 575.752,-143.473\"/>\n",
       "<text text-anchor=\"middle\" x=\"441.885\" y=\"-151.227\" font-family=\"Times,serif\" font-size=\"14.00\">(0 0)</text>\n",
       "</g>\n",
       "<!-- A0&#45;&gt;B0 -->\n",
       "<g id=\"edge12\" class=\"edge\"><title>A0&#45;&gt;B0</title>\n",
       "<path fill=\"none\" stroke=\"black\" d=\"M325.801,-161.225C336.163,-164.371 349.174,-168.322 360.696,-171.82\"/>\n",
       "<polygon fill=\"black\" stroke=\"black\" points=\"359.749,-175.19 370.335,-174.746 361.783,-168.492 359.749,-175.19\"/>\n",
       "<text text-anchor=\"middle\" x=\"348.118\" y=\"-172.227\" font-family=\"Times,serif\" font-size=\"14.00\">1</text>\n",
       "</g>\n",
       "<!-- A0&#45;&gt;Real_F -->\n",
       "<g id=\"edge4\" class=\"edge\"><title>A0&#45;&gt;Real_F</title>\n",
       "<path fill=\"none\" stroke=\"black\" d=\"M309.176,-176.232C315.12,-215.454 334.051,-296.427 389.045,-296.427 389.045,-296.427 389.045,-296.427 607.094,-296.427 657.031,-296.427 696.076,-249.829 719.102,-213.085\"/>\n",
       "<polygon fill=\"black\" stroke=\"black\" points=\"722.136,-214.832 724.329,-204.467 716.151,-211.202 722.136,-214.832\"/>\n",
       "<text text-anchor=\"middle\" x=\"496.621\" y=\"-299.227\" font-family=\"Times,serif\" font-size=\"14.00\">(0 (1 1))</text>\n",
       "</g>\n",
       "<!-- I&#45;&gt;A0 -->\n",
       "<g id=\"edge10\" class=\"edge\"><title>I&#45;&gt;A0</title>\n",
       "<path fill=\"none\" stroke=\"black\" d=\"M240.197,-121.525C250.823,-127.11 265.231,-134.682 277.735,-141.253\"/>\n",
       "<polygon fill=\"black\" stroke=\"black\" points=\"276.351,-144.48 286.831,-146.034 279.607,-138.284 276.351,-144.48\"/>\n",
       "<text text-anchor=\"middle\" x=\"263.288\" y=\"-137.227\" font-family=\"Times,serif\" font-size=\"14.00\">0</text>\n",
       "</g>\n",
       "<!-- A1 -->\n",
       "<g id=\"node10\" class=\"node\"><title>A1</title>\n",
       "<ellipse fill=\"none\" stroke=\"black\" cx=\"496.621\" cy=\"-79.4271\" rx=\"20.8304\" ry=\"20.8304\"/>\n",
       "<text text-anchor=\"middle\" x=\"496.621\" y=\"-75.2271\" font-family=\"Times,serif\" font-size=\"14.00\">A1</text>\n",
       "</g>\n",
       "<!-- I&#45;&gt;A1 -->\n",
       "<g id=\"edge11\" class=\"edge\"><title>I&#45;&gt;A1</title>\n",
       "<path fill=\"none\" stroke=\"black\" d=\"M241.73,-111.3C286.553,-105.673 408.701,-90.3389 465.649,-83.1897\"/>\n",
       "<polygon fill=\"black\" stroke=\"black\" points=\"466.323,-86.6327 475.809,-81.9143 465.451,-79.6872 466.323,-86.6327\"/>\n",
       "<text text-anchor=\"middle\" x=\"348.118\" y=\"-101.227\" font-family=\"Times,serif\" font-size=\"14.00\">1</text>\n",
       "</g>\n",
       "<!-- A1&#45;&gt;C1 -->\n",
       "<g id=\"edge7\" class=\"edge\"><title>A1&#45;&gt;C1</title>\n",
       "<path fill=\"none\" stroke=\"black\" d=\"M516.294,-87.0072C530.015,-92.8242 548.944,-101.372 564.769,-110.427 570.172,-113.518 575.774,-117.125 581.021,-120.701\"/>\n",
       "<polygon fill=\"black\" stroke=\"black\" points=\"579.225,-123.715 589.421,-126.593 583.245,-117.985 579.225,-123.715\"/>\n",
       "<text text-anchor=\"middle\" x=\"551.357\" y=\"-113.227\" font-family=\"Times,serif\" font-size=\"14.00\">(1 0)</text>\n",
       "</g>\n",
       "<!-- A1&#45;&gt;B2 -->\n",
       "<g id=\"edge16\" class=\"edge\"><title>A1&#45;&gt;B2</title>\n",
       "<path fill=\"none\" stroke=\"black\" d=\"M513.038,-66.0533C520.286,-60.1741 529.235,-53.4746 537.945,-48.4271 550.276,-41.281 564.782,-34.9947 577.15,-30.1986\"/>\n",
       "<polygon fill=\"black\" stroke=\"black\" points=\"578.393,-33.4707 586.528,-26.6837 575.936,-26.9159 578.393,-33.4707\"/>\n",
       "<text text-anchor=\"middle\" x=\"551.357\" y=\"-51.2271\" font-family=\"Times,serif\" font-size=\"14.00\">0</text>\n",
       "</g>\n",
       "<!-- A1&#45;&gt;Real_F -->\n",
       "<g id=\"edge6\" class=\"edge\"><title>A1&#45;&gt;Real_F</title>\n",
       "<path fill=\"none\" stroke=\"black\" d=\"M517.778,-79.5066C544.081,-80.1398 591.253,-83.1021 629.418,-95.4271 656.57,-104.196 661.717,-110.872 685.638,-126.427 691.48,-130.226 697.499,-134.44 703.334,-138.701\"/>\n",
       "<polygon fill=\"black\" stroke=\"black\" points=\"701.598,-141.772 711.709,-144.935 705.777,-136.157 701.598,-141.772\"/>\n",
       "<text text-anchor=\"middle\" x=\"606.094\" y=\"-98.2271\" font-family=\"Times,serif\" font-size=\"14.00\">(1 (1 1))</text>\n",
       "</g>\n",
       "</g>\n",
       "</svg>\n"
      ],
      "text/plain": [
       "<graphviz.dot.Digraph at 0x10dafb3c8>"
      ]
     },
     "execution_count": 52,
     "metadata": {},
     "output_type": "execute_result"
    }
   ],
   "source": [
    "dotObj_List[4]"
   ]
  },
  {
   "cell_type": "code",
   "execution_count": 53,
   "metadata": {
    "run_control": {
     "frozen": false,
     "read_only": false
    }
   },
   "outputs": [
    {
     "data": {
      "text/plain": [
       "13"
      ]
     },
     "execution_count": 53,
     "metadata": {},
     "output_type": "execute_result"
    }
   ],
   "source": [
    "len(dotObj_List)"
   ]
  },
  {
   "cell_type": "code",
   "execution_count": 54,
   "metadata": {
    "run_control": {
     "frozen": false,
     "read_only": false
    }
   },
   "outputs": [
    {
     "data": {
      "image/svg+xml": [
       "<?xml version=\"1.0\" encoding=\"UTF-8\" standalone=\"no\"?>\n",
       "<!DOCTYPE svg PUBLIC \"-//W3C//DTD SVG 1.1//EN\"\n",
       " \"http://www.w3.org/Graphics/SVG/1.1/DTD/svg11.dtd\">\n",
       "<!-- Generated by graphviz version 2.38.0 (20140413.2041)\n",
       " -->\n",
       "<!-- Title: %3 Pages: 1 -->\n",
       "<svg width=\"1749pt\" height=\"364pt\"\n",
       " viewBox=\"0.00 0.00 1749.06 364.07\" xmlns=\"http://www.w3.org/2000/svg\" xmlns:xlink=\"http://www.w3.org/1999/xlink\">\n",
       "<g id=\"graph0\" class=\"graph\" transform=\"scale(1 1) rotate(0) translate(4 360.073)\">\n",
       "<title>%3</title>\n",
       "<polygon fill=\"white\" stroke=\"none\" points=\"-4,4 -4,-360.073 1745.06,-360.073 1745.06,4 -4,4\"/>\n",
       "<!-- EMPTY -->\n",
       "<g id=\"node1\" class=\"node\"><title>EMPTY</title>\n",
       "</g>\n",
       "<!-- Real_I -->\n",
       "<g id=\"node3\" class=\"node\"><title>Real_I</title>\n",
       "<ellipse fill=\"none\" stroke=\"black\" cx=\"124.679\" cy=\"-211.828\" rx=\"33.8596\" ry=\"33.8596\"/>\n",
       "<text text-anchor=\"middle\" x=\"124.679\" y=\"-207.628\" font-family=\"Times,serif\" font-size=\"14.00\">Real_I</text>\n",
       "</g>\n",
       "<!-- EMPTY&#45;&gt;Real_I -->\n",
       "<g id=\"edge1\" class=\"edge\"><title>EMPTY&#45;&gt;Real_I</title>\n",
       "<path fill=\"none\" stroke=\"black\" d=\"M54.1448,-211.828C62.3457,-211.828 71.6258,-211.828 80.6729,-211.828\"/>\n",
       "<polygon fill=\"black\" stroke=\"black\" points=\"80.7185,-215.328 90.7184,-211.828 80.7184,-208.328 80.7185,-215.328\"/>\n",
       "</g>\n",
       "<!-- F0 -->\n",
       "<g id=\"node2\" class=\"node\"><title>F0</title>\n",
       "<ellipse fill=\"none\" stroke=\"black\" cx=\"937.579\" cy=\"-312.828\" rx=\"19.3939\" ry=\"19.3939\"/>\n",
       "<text text-anchor=\"middle\" x=\"937.579\" y=\"-308.628\" font-family=\"Times,serif\" font-size=\"14.00\">F0</text>\n",
       "</g>\n",
       "<!-- Real_F -->\n",
       "<g id=\"node4\" class=\"node\"><title>Real_F</title>\n",
       "<ellipse fill=\"none\" stroke=\"black\" cx=\"1701.41\" cy=\"-211.828\" rx=\"35.7905\" ry=\"35.7905\"/>\n",
       "<ellipse fill=\"none\" stroke=\"black\" cx=\"1701.41\" cy=\"-211.828\" rx=\"39.806\" ry=\"39.806\"/>\n",
       "<text text-anchor=\"middle\" x=\"1701.41\" y=\"-207.628\" font-family=\"Times,serif\" font-size=\"14.00\">Real_F</text>\n",
       "</g>\n",
       "<!-- F0&#45;&gt;Real_F -->\n",
       "<g id=\"edge7\" class=\"edge\"><title>F0&#45;&gt;Real_F</title>\n",
       "<path fill=\"none\" stroke=\"black\" d=\"M957.163,-312.508C1036.47,-311.02 1354.38,-303.796 1614.33,-279.828 1627.47,-278.616 1632.11,-282.048 1643.76,-275.828 1654.49,-270.092 1664.17,-261.461 1672.35,-252.379\"/>\n",
       "<polygon fill=\"black\" stroke=\"black\" points=\"1675.07,-254.586 1678.87,-244.697 1669.73,-250.056 1675.07,-254.586\"/>\n",
       "<text text-anchor=\"middle\" x=\"1638.04\" y=\"-281.628\" font-family=\"Times,serif\" font-size=\"14.00\">&quot;&quot;</text>\n",
       "</g>\n",
       "<!-- Real_I&#45;&gt;F0 -->\n",
       "<g id=\"edge3\" class=\"edge\"><title>Real_I&#45;&gt;F0</title>\n",
       "<path fill=\"none\" stroke=\"black\" d=\"M141.234,-241.238C149.758,-254.227 161.611,-268.247 176.359,-275.828 432.593,-407.548 803.812,-341.737 908.284,-319.319\"/>\n",
       "<polygon fill=\"black\" stroke=\"black\" points=\"909.337,-322.672 918.356,-317.113 907.839,-315.834 909.337,-322.672\"/>\n",
       "<text text-anchor=\"middle\" x=\"209.595\" y=\"-302.628\" font-family=\"Times,serif\" font-size=\"14.00\">((0 1) (0 1))</text>\n",
       "</g>\n",
       "<!-- Real_I&#45;&gt;Real_F -->\n",
       "<g id=\"edge2\" class=\"edge\"><title>Real_I&#45;&gt;Real_F</title>\n",
       "<path fill=\"none\" stroke=\"black\" d=\"M157.071,-221.664C163.401,-223.317 170.049,-224.82 176.359,-225.828 213.473,-231.758 223.256,-228.939 260.831,-229.828 862.216,-244.059 1014.14,-270.429 1614.33,-229.828 1627.07,-228.966 1640.67,-226.746 1653.22,-224.147\"/>\n",
       "<polygon fill=\"black\" stroke=\"black\" points=\"1653.99,-227.56 1663.01,-222.001 1652.49,-220.722 1653.99,-227.56\"/>\n",
       "<text text-anchor=\"middle\" x=\"937.579\" y=\"-253.628\" font-family=\"Times,serif\" font-size=\"14.00\">(((0 1) (((1 ((1 + 0) + 0)) + (0 0)) + (0 0))) + ((((((1 (1 0)) + (0 (0 0))) + (0 (0 0))) ((1 + 0) + 0)) + (((1 (((0 (0 1)) + (1 (1 1))) + (1 (1 1)))) + (0 (0 (1 1)))) + (0 (0 (1 1))))) + (((1 (((0 (0 1)) + (1 (1 1))) + (1 (1 1)))) + (0 (0 (1 1)))) + (0 (0 (1 1))))))</text>\n",
       "</g>\n",
       "<!-- Real_I&#45;&gt;Real_F -->\n",
       "<g id=\"edge4\" class=\"edge\"><title>Real_I&#45;&gt;Real_F</title>\n",
       "<path fill=\"none\" stroke=\"black\" d=\"M158.57,-211.828C358.545,-211.828 1410.58,-211.828 1651.31,-211.828\"/>\n",
       "<polygon fill=\"black\" stroke=\"black\" points=\"1651.5,-215.328 1661.5,-211.828 1651.5,-208.328 1651.5,-215.328\"/>\n",
       "<text text-anchor=\"middle\" x=\"937.579\" y=\"-214.628\" font-family=\"Times,serif\" font-size=\"14.00\">(((((1 (1 0)) + (0 (0 0))) + (0 (0 0))) ((1 + 0) + 0)) + (((1 (((0 (0 1)) + (1 (1 1))) + (1 (1 1)))) + (0 (0 (1 1)))) + (0 (0 (1 1)))))</text>\n",
       "</g>\n",
       "<!-- Real_I&#45;&gt;Real_F -->\n",
       "<g id=\"edge5\" class=\"edge\"><title>Real_I&#45;&gt;Real_F</title>\n",
       "<path fill=\"none\" stroke=\"black\" d=\"M158.056,-206.29C185.36,-201.915 225.521,-196.169 260.831,-193.828 861.067,-154.033 1015.97,-131.938 1614.33,-193.828 1626.78,-195.117 1640.1,-197.428 1652.44,-199.973\"/>\n",
       "<polygon fill=\"black\" stroke=\"black\" points=\"1652.02,-203.464 1662.54,-202.15 1653.5,-196.621 1652.02,-203.464\"/>\n",
       "<text text-anchor=\"middle\" x=\"937.579\" y=\"-196.628\" font-family=\"Times,serif\" font-size=\"14.00\">((1 (((0 (0 1)) + (1 (1 1))) + (1 (1 1)))) + (0 (0 (1 1))))</text>\n",
       "</g>\n",
       "<!-- Real_I&#45;&gt;Real_F -->\n",
       "<g id=\"edge6\" class=\"edge\"><title>Real_I&#45;&gt;Real_F</title>\n",
       "<path fill=\"none\" stroke=\"black\" d=\"M151.888,-191.942C177.924,-173.532 219.786,-147.454 260.831,-136.828 843.188,13.9273 1050.99,74.1564 1614.33,-136.828 1634.72,-144.465 1653.46,-159.358 1668.21,-173.873\"/>\n",
       "<polygon fill=\"black\" stroke=\"black\" points=\"1666.06,-176.68 1675.55,-181.389 1671.07,-171.789 1666.06,-176.68\"/>\n",
       "<text text-anchor=\"middle\" x=\"937.579\" y=\"-139.628\" font-family=\"Times,serif\" font-size=\"14.00\">(0 (0 (1 1)))</text>\n",
       "</g>\n",
       "</g>\n",
       "</svg>\n"
      ],
      "text/plain": [
       "<graphviz.dot.Digraph at 0x10dad64a8>"
      ]
     },
     "execution_count": 54,
     "metadata": {},
     "output_type": "execute_result"
    }
   ],
   "source": [
    "dotObj_List[11]"
   ]
  },
  {
   "cell_type": "code",
   "execution_count": 55,
   "metadata": {
    "run_control": {
     "frozen": false,
     "read_only": false
    }
   },
   "outputs": [
    {
     "data": {
      "text/plain": [
       "'((((0 1) (0 1)) + ((((0 1) (((1 ((1 + 0) + 0)) + (0 0)) + (0 0))) + ((((((1 (1 0)) + (0 (0 0))) + (0 (0 0))) ((1 + 0) + 0)) + (((1 (((0 (0 1)) + (1 (1 1))) + (1 (1 1)))) + (0 (0 (1 1)))) + (0 (0 (1 1))))) + (((1 (((0 (0 1)) + (1 (1 1))) + (1 (1 1)))) + (0 (0 (1 1)))) + (0 (0 (1 1)))))) + ((((((1 (1 0)) + (0 (0 0))) + (0 (0 0))) ((1 + 0) + 0)) + (((1 (((0 (0 1)) + (1 (1 1))) + (1 (1 1)))) + (0 (0 (1 1)))) + (0 (0 (1 1))))) + (((1 (((0 (0 1)) + (1 (1 1))) + (1 (1 1)))) + (0 (0 (1 1)))) + (0 (0 (1 1))))))) + ((((0 1) (((1 ((1 + 0) + 0)) + (0 0)) + (0 0))) + ((((((1 (1 0)) + (0 (0 0))) + (0 (0 0))) ((1 + 0) + 0)) + (((1 (((0 (0 1)) + (1 (1 1))) + (1 (1 1)))) + (0 (0 (1 1)))) + (0 (0 (1 1))))) + (((1 (((0 (0 1)) + (1 (1 1))) + (1 (1 1)))) + (0 (0 (1 1)))) + (0 (0 (1 1)))))) + ((((((1 (1 0)) + (0 (0 0))) + (0 (0 0))) ((1 + 0) + 0)) + (((1 (((0 (0 1)) + (1 (1 1))) + (1 (1 1)))) + (0 (0 (1 1)))) + (0 (0 (1 1))))) + (((1 (((0 (0 1)) + (1 (1 1))) + (1 (1 1)))) + (0 (0 (1 1)))) + (0 (0 (1 1)))))))'"
      ]
     },
     "execution_count": 55,
     "metadata": {},
     "output_type": "execute_result"
    }
   ],
   "source": [
    "final_re_str"
   ]
  },
  {
   "cell_type": "markdown",
   "metadata": {},
   "source": [
    "# Let us go full circle!\n",
    "\n",
    "The obtained final RE string is fed back into the conversion pipeline\n"
   ]
  },
  {
   "cell_type": "code",
   "execution_count": 56,
   "metadata": {
    "run_control": {
     "frozen": false,
     "read_only": false
    }
   },
   "outputs": [
    {
     "name": "stderr",
     "output_type": "stream",
     "text": [
      "Generating LALR tables\n"
     ]
    }
   ],
   "source": [
    "fullcircle=min_dfa(nfa2dfa(re2nfa(final_re_str)))"
   ]
  },
  {
   "cell_type": "code",
   "execution_count": 57,
   "metadata": {
    "run_control": {
     "frozen": false,
     "read_only": false
    }
   },
   "outputs": [
    {
     "data": {
      "image/svg+xml": [
       "<?xml version=\"1.0\" encoding=\"UTF-8\" standalone=\"no\"?>\n",
       "<!DOCTYPE svg PUBLIC \"-//W3C//DTD SVG 1.1//EN\"\n",
       " \"http://www.w3.org/Graphics/SVG/1.1/DTD/svg11.dtd\">\n",
       "<!-- Generated by graphviz version 2.38.0 (20140413.2041)\n",
       " -->\n",
       "<!-- Title: %3 Pages: 1 -->\n",
       "<svg width=\"525pt\" height=\"193pt\"\n",
       " viewBox=\"0.00 0.00 524.57 192.65\" xmlns=\"http://www.w3.org/2000/svg\" xmlns:xlink=\"http://www.w3.org/1999/xlink\">\n",
       "<g id=\"graph0\" class=\"graph\" transform=\"scale(1 1) rotate(0) translate(4 188.651)\">\n",
       "<title>%3</title>\n",
       "<polygon fill=\"white\" stroke=\"none\" points=\"-4,4 -4,-188.651 520.569,-188.651 520.569,4 -4,4\"/>\n",
       "<!-- EMPTY -->\n",
       "<g id=\"node1\" class=\"node\"><title>EMPTY</title>\n",
       "</g>\n",
       "<!-- St1 -->\n",
       "<g id=\"node2\" class=\"node\"><title>St1</title>\n",
       "<ellipse fill=\"none\" stroke=\"black\" cx=\"112.904\" cy=\"-99.3256\" rx=\"21.8081\" ry=\"21.8081\"/>\n",
       "<text text-anchor=\"middle\" x=\"112.904\" y=\"-95.1256\" font-family=\"Times,serif\" font-size=\"14.00\">St1</text>\n",
       "</g>\n",
       "<!-- EMPTY&#45;&gt;St1 -->\n",
       "<g id=\"edge1\" class=\"edge\"><title>EMPTY&#45;&gt;St1</title>\n",
       "<path fill=\"none\" stroke=\"black\" d=\"M54.0878,-99.3256C62.501,-99.3256 71.9126,-99.3256 80.6587,-99.3256\"/>\n",
       "<polygon fill=\"black\" stroke=\"black\" points=\"80.8854,-102.826 90.8853,-99.3256 80.8853,-95.8257 80.8854,-102.826\"/>\n",
       "</g>\n",
       "<!-- St5 -->\n",
       "<g id=\"node6\" class=\"node\"><title>St5</title>\n",
       "<ellipse fill=\"none\" stroke=\"black\" cx=\"199.712\" cy=\"-128.326\" rx=\"21.8081\" ry=\"21.8081\"/>\n",
       "<text text-anchor=\"middle\" x=\"199.712\" y=\"-124.126\" font-family=\"Times,serif\" font-size=\"14.00\">St5</text>\n",
       "</g>\n",
       "<!-- St1&#45;&gt;St5 -->\n",
       "<g id=\"edge3\" class=\"edge\"><title>St1&#45;&gt;St5</title>\n",
       "<path fill=\"none\" stroke=\"black\" d=\"M134.002,-106.198C144.458,-109.774 157.444,-114.214 169.032,-118.177\"/>\n",
       "<polygon fill=\"black\" stroke=\"black\" points=\"168.163,-121.578 178.758,-121.502 170.428,-114.955 168.163,-121.578\"/>\n",
       "<text text-anchor=\"middle\" x=\"156.308\" y=\"-118.126\" font-family=\"Times,serif\" font-size=\"14.00\">1</text>\n",
       "</g>\n",
       "<!-- St2 -->\n",
       "<g id=\"node7\" class=\"node\"><title>St2</title>\n",
       "<ellipse fill=\"none\" stroke=\"black\" cx=\"199.712\" cy=\"-66.3256\" rx=\"21.8081\" ry=\"21.8081\"/>\n",
       "<text text-anchor=\"middle\" x=\"199.712\" y=\"-62.1256\" font-family=\"Times,serif\" font-size=\"14.00\">St2</text>\n",
       "</g>\n",
       "<!-- St1&#45;&gt;St2 -->\n",
       "<g id=\"edge2\" class=\"edge\"><title>St1&#45;&gt;St2</title>\n",
       "<path fill=\"none\" stroke=\"black\" d=\"M133.574,-91.6718C144.277,-87.5068 157.725,-82.274 169.618,-77.6463\"/>\n",
       "<polygon fill=\"black\" stroke=\"black\" points=\"171.098,-80.826 179.149,-73.9379 168.56,-74.3025 171.098,-80.826\"/>\n",
       "<text text-anchor=\"middle\" x=\"156.308\" y=\"-87.1256\" font-family=\"Times,serif\" font-size=\"14.00\">0</text>\n",
       "</g>\n",
       "<!-- St11 -->\n",
       "<g id=\"node3\" class=\"node\"><title>St11</title>\n",
       "<ellipse fill=\"none\" stroke=\"black\" cx=\"386.592\" cy=\"-47.3256\" rx=\"26.0035\" ry=\"26.0035\"/>\n",
       "<text text-anchor=\"middle\" x=\"386.592\" y=\"-43.1256\" font-family=\"Times,serif\" font-size=\"14.00\">St11</text>\n",
       "</g>\n",
       "<!-- St15 -->\n",
       "<g id=\"node10\" class=\"node\"><title>St15</title>\n",
       "<ellipse fill=\"none\" stroke=\"black\" cx=\"486.243\" cy=\"-84.3256\" rx=\"26.1751\" ry=\"26.1751\"/>\n",
       "<ellipse fill=\"none\" stroke=\"black\" cx=\"486.243\" cy=\"-84.3256\" rx=\"30.1522\" ry=\"30.1522\"/>\n",
       "<text text-anchor=\"middle\" x=\"486.243\" y=\"-80.1256\" font-family=\"Times,serif\" font-size=\"14.00\">St15</text>\n",
       "</g>\n",
       "<!-- St11&#45;&gt;St15 -->\n",
       "<g id=\"edge13\" class=\"edge\"><title>St11&#45;&gt;St15</title>\n",
       "<path fill=\"none\" stroke=\"black\" d=\"M411.231,-56.2823C422.277,-60.4675 435.691,-65.55 448.049,-70.2326\"/>\n",
       "<polygon fill=\"black\" stroke=\"black\" points=\"447.077,-73.6071 457.668,-73.8774 449.557,-67.0612 447.077,-73.6071\"/>\n",
       "<text text-anchor=\"middle\" x=\"434.418\" y=\"-69.1256\" font-family=\"Times,serif\" font-size=\"14.00\">0</text>\n",
       "</g>\n",
       "<!-- St11&#45;&gt;St15 -->\n",
       "<g id=\"edge14\" class=\"edge\"><title>St11&#45;&gt;St15</title>\n",
       "<path fill=\"none\" stroke=\"black\" d=\"M412.445,-44.1309C420.739,-43.8965 429.905,-44.5651 437.918,-47.3256 444.13,-49.4657 450.151,-52.7933 455.698,-56.5943\"/>\n",
       "<polygon fill=\"black\" stroke=\"black\" points=\"453.896,-59.6195 463.985,-62.8543 458.115,-54.034 453.896,-59.6195\"/>\n",
       "<text text-anchor=\"middle\" x=\"434.418\" y=\"-50.1256\" font-family=\"Times,serif\" font-size=\"14.00\">1</text>\n",
       "</g>\n",
       "<!-- St10 -->\n",
       "<g id=\"node4\" class=\"node\"><title>St10</title>\n",
       "<ellipse fill=\"none\" stroke=\"black\" cx=\"290.941\" cy=\"-26.3256\" rx=\"26.1523\" ry=\"26.1523\"/>\n",
       "<text text-anchor=\"middle\" x=\"290.941\" y=\"-22.1256\" font-family=\"Times,serif\" font-size=\"14.00\">St10</text>\n",
       "</g>\n",
       "<!-- St10&#45;&gt;St11 -->\n",
       "<g id=\"edge10\" class=\"edge\"><title>St10&#45;&gt;St11</title>\n",
       "<path fill=\"none\" stroke=\"black\" d=\"M317.038,-31.9532C327.491,-34.2973 339.801,-37.0576 351.084,-39.5876\"/>\n",
       "<polygon fill=\"black\" stroke=\"black\" points=\"350.551,-43.0549 361.074,-41.8278 352.083,-36.2245 350.551,-43.0549\"/>\n",
       "<text text-anchor=\"middle\" x=\"338.767\" y=\"-41.1256\" font-family=\"Times,serif\" font-size=\"14.00\">0</text>\n",
       "</g>\n",
       "<!-- St10&#45;&gt;St11 -->\n",
       "<g id=\"edge11\" class=\"edge\"><title>St10&#45;&gt;St11</title>\n",
       "<path fill=\"none\" stroke=\"black\" d=\"M316.053,-18.117C324.462,-16.3994 333.886,-15.7798 342.267,-18.3256 347.571,-19.9371 352.818,-22.4375 357.73,-25.3093\"/>\n",
       "<polygon fill=\"black\" stroke=\"black\" points=\"355.857,-28.266 366.152,-30.7677 359.664,-22.3918 355.857,-28.266\"/>\n",
       "<text text-anchor=\"middle\" x=\"338.767\" y=\"-21.1256\" font-family=\"Times,serif\" font-size=\"14.00\">1</text>\n",
       "</g>\n",
       "<!-- St16 -->\n",
       "<g id=\"node5\" class=\"node\"><title>St16</title>\n",
       "<ellipse fill=\"none\" stroke=\"black\" cx=\"290.941\" cy=\"-158.326\" rx=\"26.1523\" ry=\"26.1523\"/>\n",
       "<text text-anchor=\"middle\" x=\"290.941\" y=\"-154.126\" font-family=\"Times,serif\" font-size=\"14.00\">St16</text>\n",
       "</g>\n",
       "<!-- St17 -->\n",
       "<g id=\"node9\" class=\"node\"><title>St17</title>\n",
       "<ellipse fill=\"none\" stroke=\"black\" cx=\"386.592\" cy=\"-121.326\" rx=\"26.1523\" ry=\"26.1523\"/>\n",
       "<text text-anchor=\"middle\" x=\"386.592\" y=\"-117.126\" font-family=\"Times,serif\" font-size=\"14.00\">St17</text>\n",
       "</g>\n",
       "<!-- St16&#45;&gt;St17 -->\n",
       "<g id=\"edge12\" class=\"edge\"><title>St16&#45;&gt;St17</title>\n",
       "<path fill=\"none\" stroke=\"black\" d=\"M315.573,-148.989C326.775,-144.563 340.347,-139.201 352.548,-134.381\"/>\n",
       "<polygon fill=\"black\" stroke=\"black\" points=\"353.953,-137.589 361.968,-130.659 351.381,-131.079 353.953,-137.589\"/>\n",
       "<text text-anchor=\"middle\" x=\"338.767\" y=\"-144.126\" font-family=\"Times,serif\" font-size=\"14.00\">0</text>\n",
       "</g>\n",
       "<!-- St5&#45;&gt;St16 -->\n",
       "<g id=\"edge6\" class=\"edge\"><title>St5&#45;&gt;St16</title>\n",
       "<path fill=\"none\" stroke=\"black\" d=\"M220.959,-135.133C231.323,-138.618 244.218,-142.953 256.045,-146.929\"/>\n",
       "<polygon fill=\"black\" stroke=\"black\" points=\"255.055,-150.289 265.649,-150.158 257.286,-143.654 255.055,-150.289\"/>\n",
       "<text text-anchor=\"middle\" x=\"243.115\" y=\"-146.126\" font-family=\"Times,serif\" font-size=\"14.00\">0</text>\n",
       "</g>\n",
       "<!-- St6 -->\n",
       "<g id=\"node8\" class=\"node\"><title>St6</title>\n",
       "<ellipse fill=\"none\" stroke=\"black\" cx=\"290.941\" cy=\"-92.3256\" rx=\"21.8081\" ry=\"21.8081\"/>\n",
       "<text text-anchor=\"middle\" x=\"290.941\" y=\"-88.1256\" font-family=\"Times,serif\" font-size=\"14.00\">St6</text>\n",
       "</g>\n",
       "<!-- St5&#45;&gt;St6 -->\n",
       "<g id=\"edge7\" class=\"edge\"><title>St5&#45;&gt;St6</title>\n",
       "<path fill=\"none\" stroke=\"black\" d=\"M220.515,-120.336C232.298,-115.582 247.467,-109.462 260.619,-104.156\"/>\n",
       "<polygon fill=\"black\" stroke=\"black\" points=\"262.229,-107.28 270.194,-100.293 259.61,-100.789 262.229,-107.28\"/>\n",
       "<text text-anchor=\"middle\" x=\"243.115\" y=\"-116.126\" font-family=\"Times,serif\" font-size=\"14.00\">1</text>\n",
       "</g>\n",
       "<!-- St2&#45;&gt;St10 -->\n",
       "<g id=\"edge5\" class=\"edge\"><title>St2&#45;&gt;St10</title>\n",
       "<path fill=\"none\" stroke=\"black\" d=\"M220.073,-57.6462C230.938,-52.7757 244.782,-46.5698 257.276,-40.9689\"/>\n",
       "<polygon fill=\"black\" stroke=\"black\" points=\"258.802,-44.1204 266.495,-36.8359 255.938,-37.7328 258.802,-44.1204\"/>\n",
       "<text text-anchor=\"middle\" x=\"243.115\" y=\"-52.1256\" font-family=\"Times,serif\" font-size=\"14.00\">1</text>\n",
       "</g>\n",
       "<!-- St2&#45;&gt;St6 -->\n",
       "<g id=\"edge4\" class=\"edge\"><title>St2&#45;&gt;St6</title>\n",
       "<path fill=\"none\" stroke=\"black\" d=\"M220.959,-72.2254C232.482,-75.5829 247.133,-79.8519 259.966,-83.5913\"/>\n",
       "<polygon fill=\"black\" stroke=\"black\" points=\"259.194,-87.0118 269.774,-86.4491 261.152,-80.2913 259.194,-87.0118\"/>\n",
       "<text text-anchor=\"middle\" x=\"243.115\" y=\"-82.1256\" font-family=\"Times,serif\" font-size=\"14.00\">0</text>\n",
       "</g>\n",
       "<!-- St6&#45;&gt;St11 -->\n",
       "<g id=\"edge8\" class=\"edge\"><title>St6&#45;&gt;St11</title>\n",
       "<path fill=\"none\" stroke=\"black\" d=\"M310.893,-83.2192C323.052,-77.3765 339.154,-69.6395 353.294,-62.845\"/>\n",
       "<polygon fill=\"black\" stroke=\"black\" points=\"355.2,-65.8124 362.698,-58.3266 352.168,-59.503 355.2,-65.8124\"/>\n",
       "<text text-anchor=\"middle\" x=\"338.767\" y=\"-74.1256\" font-family=\"Times,serif\" font-size=\"14.00\">0</text>\n",
       "</g>\n",
       "<!-- St6&#45;&gt;St17 -->\n",
       "<g id=\"edge9\" class=\"edge\"><title>St6&#45;&gt;St17</title>\n",
       "<path fill=\"none\" stroke=\"black\" d=\"M312.262,-98.6182C323.751,-102.176 338.414,-106.716 351.604,-110.801\"/>\n",
       "<polygon fill=\"black\" stroke=\"black\" points=\"350.738,-114.197 361.326,-113.811 352.809,-107.51 350.738,-114.197\"/>\n",
       "<text text-anchor=\"middle\" x=\"338.767\" y=\"-111.126\" font-family=\"Times,serif\" font-size=\"14.00\">1</text>\n",
       "</g>\n",
       "<!-- St17&#45;&gt;St15 -->\n",
       "<g id=\"edge15\" class=\"edge\"><title>St17&#45;&gt;St15</title>\n",
       "<path fill=\"none\" stroke=\"black\" d=\"M411.731,-112.18C422.694,-108.026 435.91,-103.018 448.096,-98.4007\"/>\n",
       "<polygon fill=\"black\" stroke=\"black\" points=\"449.474,-101.622 457.585,-94.8054 446.994,-95.0757 449.474,-101.622\"/>\n",
       "<text text-anchor=\"middle\" x=\"434.418\" y=\"-107.126\" font-family=\"Times,serif\" font-size=\"14.00\">1</text>\n",
       "</g>\n",
       "</g>\n",
       "</svg>\n"
      ],
      "text/plain": [
       "<graphviz.dot.Digraph at 0x10d268a90>"
      ]
     },
     "execution_count": 57,
     "metadata": {},
     "output_type": "execute_result"
    }
   ],
   "source": [
    "dotObj_dfa(fullcircle)"
   ]
  },
  {
   "cell_type": "code",
   "execution_count": 58,
   "metadata": {
    "run_control": {
     "frozen": false,
     "read_only": false
    }
   },
   "outputs": [
    {
     "name": "stderr",
     "output_type": "stream",
     "text": [
      "Generating LALR tables\n"
     ]
    }
   ],
   "source": [
    "# This is the two-bit hamming distance machine wrt the intended pattern 0101\n",
    "\n",
    "h2_from_re = min_dfa(nfa2dfa(re2nfa(\"(0+1)(0+1)01 + (0+1)1(0+1)1 + (0+1)10(0+1) + 0(0+1)(0+1)1 + 0(0+1)0(0+1) + 01(0+1)(0+1)\")))"
   ]
  },
  {
   "cell_type": "code",
   "execution_count": 59,
   "metadata": {
    "run_control": {
     "frozen": false,
     "read_only": false
    }
   },
   "outputs": [
    {
     "data": {
      "image/svg+xml": [
       "<?xml version=\"1.0\" encoding=\"UTF-8\" standalone=\"no\"?>\n",
       "<!DOCTYPE svg PUBLIC \"-//W3C//DTD SVG 1.1//EN\"\n",
       " \"http://www.w3.org/Graphics/SVG/1.1/DTD/svg11.dtd\">\n",
       "<!-- Generated by graphviz version 2.38.0 (20140413.2041)\n",
       " -->\n",
       "<!-- Title: %3 Pages: 1 -->\n",
       "<svg width=\"533pt\" height=\"203pt\"\n",
       " viewBox=\"0.00 0.00 533.41 202.65\" xmlns=\"http://www.w3.org/2000/svg\" xmlns:xlink=\"http://www.w3.org/1999/xlink\">\n",
       "<g id=\"graph0\" class=\"graph\" transform=\"scale(1 1) rotate(0) translate(4 198.651)\">\n",
       "<title>%3</title>\n",
       "<polygon fill=\"white\" stroke=\"none\" points=\"-4,4 -4,-198.651 529.413,-198.651 529.413,4 -4,4\"/>\n",
       "<!-- EMPTY -->\n",
       "<g id=\"node1\" class=\"node\"><title>EMPTY</title>\n",
       "</g>\n",
       "<!-- St1 -->\n",
       "<g id=\"node2\" class=\"node\"><title>St1</title>\n",
       "<ellipse fill=\"none\" stroke=\"black\" cx=\"112.904\" cy=\"-94.3256\" rx=\"21.8081\" ry=\"21.8081\"/>\n",
       "<text text-anchor=\"middle\" x=\"112.904\" y=\"-90.1256\" font-family=\"Times,serif\" font-size=\"14.00\">St1</text>\n",
       "</g>\n",
       "<!-- EMPTY&#45;&gt;St1 -->\n",
       "<g id=\"edge1\" class=\"edge\"><title>EMPTY&#45;&gt;St1</title>\n",
       "<path fill=\"none\" stroke=\"black\" d=\"M54.0878,-94.3256C62.501,-94.3256 71.9126,-94.3256 80.6587,-94.3256\"/>\n",
       "<polygon fill=\"black\" stroke=\"black\" points=\"80.8854,-97.8257 90.8853,-94.3256 80.8853,-90.8257 80.8854,-97.8257\"/>\n",
       "</g>\n",
       "<!-- St10 -->\n",
       "<g id=\"node3\" class=\"node\"><title>St10</title>\n",
       "<ellipse fill=\"none\" stroke=\"black\" cx=\"204.133\" cy=\"-126.326\" rx=\"26.1523\" ry=\"26.1523\"/>\n",
       "<text text-anchor=\"middle\" x=\"204.133\" y=\"-122.126\" font-family=\"Times,serif\" font-size=\"14.00\">St10</text>\n",
       "</g>\n",
       "<!-- St1&#45;&gt;St10 -->\n",
       "<g id=\"edge2\" class=\"edge\"><title>St1&#45;&gt;St10</title>\n",
       "<path fill=\"none\" stroke=\"black\" d=\"M133.707,-101.427C144.136,-105.168 157.217,-109.859 169.205,-114.158\"/>\n",
       "<polygon fill=\"black\" stroke=\"black\" points=\"168.341,-117.566 178.935,-117.647 170.704,-110.977 168.341,-117.566\"/>\n",
       "<text text-anchor=\"middle\" x=\"156.308\" y=\"-113.126\" font-family=\"Times,serif\" font-size=\"14.00\">0</text>\n",
       "</g>\n",
       "<!-- St11 -->\n",
       "<g id=\"node4\" class=\"node\"><title>St11</title>\n",
       "<ellipse fill=\"none\" stroke=\"black\" cx=\"204.133\" cy=\"-56.3256\" rx=\"26.0035\" ry=\"26.0035\"/>\n",
       "<text text-anchor=\"middle\" x=\"204.133\" y=\"-52.1256\" font-family=\"Times,serif\" font-size=\"14.00\">St11</text>\n",
       "</g>\n",
       "<!-- St1&#45;&gt;St11 -->\n",
       "<g id=\"edge3\" class=\"edge\"><title>St1&#45;&gt;St11</title>\n",
       "<path fill=\"none\" stroke=\"black\" d=\"M133.265,-86.0802C144.212,-81.4185 158.182,-75.4688 170.75,-70.1168\"/>\n",
       "<polygon fill=\"black\" stroke=\"black\" points=\"172.184,-73.3102 180.013,-66.1718 169.441,-66.8699 172.184,-73.3102\"/>\n",
       "<text text-anchor=\"middle\" x=\"156.308\" y=\"-81.1256\" font-family=\"Times,serif\" font-size=\"14.00\">1</text>\n",
       "</g>\n",
       "<!-- St13 -->\n",
       "<g id=\"node6\" class=\"node\"><title>St13</title>\n",
       "<ellipse fill=\"none\" stroke=\"black\" cx=\"299.785\" cy=\"-97.3256\" rx=\"26.1523\" ry=\"26.1523\"/>\n",
       "<text text-anchor=\"middle\" x=\"299.785\" y=\"-93.1256\" font-family=\"Times,serif\" font-size=\"14.00\">St13</text>\n",
       "</g>\n",
       "<!-- St10&#45;&gt;St13 -->\n",
       "<g id=\"edge4\" class=\"edge\"><title>St10&#45;&gt;St13</title>\n",
       "<path fill=\"none\" stroke=\"black\" d=\"M229.739,-118.706C240.386,-115.409 253.027,-111.495 264.565,-107.922\"/>\n",
       "<polygon fill=\"black\" stroke=\"black\" points=\"265.826,-111.196 274.343,-104.894 263.755,-104.509 265.826,-111.196\"/>\n",
       "<text text-anchor=\"middle\" x=\"251.959\" y=\"-116.126\" font-family=\"Times,serif\" font-size=\"14.00\">0</text>\n",
       "</g>\n",
       "<!-- St12 -->\n",
       "<g id=\"node9\" class=\"node\"><title>St12</title>\n",
       "<ellipse fill=\"none\" stroke=\"black\" cx=\"299.785\" cy=\"-168.326\" rx=\"26.1523\" ry=\"26.1523\"/>\n",
       "<text text-anchor=\"middle\" x=\"299.785\" y=\"-164.126\" font-family=\"Times,serif\" font-size=\"14.00\">St12</text>\n",
       "</g>\n",
       "<!-- St10&#45;&gt;St12 -->\n",
       "<g id=\"edge5\" class=\"edge\"><title>St10&#45;&gt;St12</title>\n",
       "<path fill=\"none\" stroke=\"black\" d=\"M228.765,-136.924C240.053,-141.986 253.746,-148.127 266.019,-153.631\"/>\n",
       "<polygon fill=\"black\" stroke=\"black\" points=\"264.928,-156.978 275.484,-157.876 267.792,-150.59 264.928,-156.978\"/>\n",
       "<text text-anchor=\"middle\" x=\"251.959\" y=\"-152.126\" font-family=\"Times,serif\" font-size=\"14.00\">1</text>\n",
       "</g>\n",
       "<!-- St24 -->\n",
       "<g id=\"node5\" class=\"node\"><title>St24</title>\n",
       "<ellipse fill=\"none\" stroke=\"black\" cx=\"299.785\" cy=\"-26.3256\" rx=\"26.1523\" ry=\"26.1523\"/>\n",
       "<text text-anchor=\"middle\" x=\"299.785\" y=\"-22.1256\" font-family=\"Times,serif\" font-size=\"14.00\">St24</text>\n",
       "</g>\n",
       "<!-- St11&#45;&gt;St24 -->\n",
       "<g id=\"edge6\" class=\"edge\"><title>St11&#45;&gt;St24</title>\n",
       "<path fill=\"none\" stroke=\"black\" d=\"M226.517,-43.0732C233.313,-39.3881 241.005,-35.7389 248.459,-33.3256 253.143,-31.8091 258.177,-30.6211 263.185,-29.6905\"/>\n",
       "<polygon fill=\"black\" stroke=\"black\" points=\"263.964,-33.1115 273.309,-28.1189 262.89,-26.1943 263.964,-33.1115\"/>\n",
       "<text text-anchor=\"middle\" x=\"251.959\" y=\"-36.1256\" font-family=\"Times,serif\" font-size=\"14.00\">0</text>\n",
       "</g>\n",
       "<!-- St11&#45;&gt;St13 -->\n",
       "<g id=\"edge7\" class=\"edge\"><title>St11&#45;&gt;St13</title>\n",
       "<path fill=\"none\" stroke=\"black\" d=\"M228.283,-66.4604C239.678,-71.4491 253.612,-77.5492 266.074,-83.0051\"/>\n",
       "<polygon fill=\"black\" stroke=\"black\" points=\"264.686,-86.2183 275.251,-87.0226 267.494,-79.8059 264.686,-86.2183\"/>\n",
       "<text text-anchor=\"middle\" x=\"251.959\" y=\"-81.1256\" font-family=\"Times,serif\" font-size=\"14.00\">1</text>\n",
       "</g>\n",
       "<!-- St21 -->\n",
       "<g id=\"node8\" class=\"node\"><title>St21</title>\n",
       "<ellipse fill=\"none\" stroke=\"black\" cx=\"395.436\" cy=\"-63.3256\" rx=\"26.1523\" ry=\"26.1523\"/>\n",
       "<text text-anchor=\"middle\" x=\"395.436\" y=\"-59.1256\" font-family=\"Times,serif\" font-size=\"14.00\">St21</text>\n",
       "</g>\n",
       "<!-- St24&#45;&gt;St21 -->\n",
       "<g id=\"edge12\" class=\"edge\"><title>St24&#45;&gt;St21</title>\n",
       "<path fill=\"none\" stroke=\"black\" d=\"M324.654,-35.1547C333.041,-38.3054 342.515,-41.9187 351.11,-45.3256 354.39,-46.6256 357.8,-48.0009 361.202,-49.3889\"/>\n",
       "<polygon fill=\"black\" stroke=\"black\" points=\"360.077,-52.7107 370.657,-53.282 362.743,-46.238 360.077,-52.7107\"/>\n",
       "<text text-anchor=\"middle\" x=\"347.61\" y=\"-48.1256\" font-family=\"Times,serif\" font-size=\"14.00\">0</text>\n",
       "</g>\n",
       "<!-- St2 -->\n",
       "<g id=\"node7\" class=\"node\"><title>St2</title>\n",
       "<ellipse fill=\"none\" stroke=\"black\" cx=\"395.436\" cy=\"-137.326\" rx=\"21.8081\" ry=\"21.8081\"/>\n",
       "<text text-anchor=\"middle\" x=\"395.436\" y=\"-133.126\" font-family=\"Times,serif\" font-size=\"14.00\">St2</text>\n",
       "</g>\n",
       "<!-- St13&#45;&gt;St2 -->\n",
       "<g id=\"edge8\" class=\"edge\"><title>St13&#45;&gt;St2</title>\n",
       "<path fill=\"none\" stroke=\"black\" d=\"M324.417,-107.419C336.852,-112.731 352.208,-119.289 365.367,-124.91\"/>\n",
       "<polygon fill=\"black\" stroke=\"black\" points=\"364.346,-128.28 374.917,-128.989 367.096,-121.842 364.346,-128.28\"/>\n",
       "<text text-anchor=\"middle\" x=\"347.61\" y=\"-122.126\" font-family=\"Times,serif\" font-size=\"14.00\">0</text>\n",
       "</g>\n",
       "<!-- St13&#45;&gt;St21 -->\n",
       "<g id=\"edge9\" class=\"edge\"><title>St13&#45;&gt;St21</title>\n",
       "<path fill=\"none\" stroke=\"black\" d=\"M319.07,-79.3136C326.275,-73.3836 335.003,-67.5 344.11,-64.3256 348.765,-62.7032 353.811,-61.7471 358.851,-61.2426\"/>\n",
       "<polygon fill=\"black\" stroke=\"black\" points=\"359.231,-64.7289 369.059,-60.7723 358.909,-57.7364 359.231,-64.7289\"/>\n",
       "<text text-anchor=\"middle\" x=\"347.61\" y=\"-67.1256\" font-family=\"Times,serif\" font-size=\"14.00\">1</text>\n",
       "</g>\n",
       "<!-- St16 -->\n",
       "<g id=\"node10\" class=\"node\"><title>St16</title>\n",
       "<ellipse fill=\"none\" stroke=\"black\" cx=\"495.087\" cy=\"-100.326\" rx=\"26.1751\" ry=\"26.1751\"/>\n",
       "<ellipse fill=\"none\" stroke=\"black\" cx=\"495.087\" cy=\"-100.326\" rx=\"30.1522\" ry=\"30.1522\"/>\n",
       "<text text-anchor=\"middle\" x=\"495.087\" y=\"-96.1256\" font-family=\"Times,serif\" font-size=\"14.00\">St16</text>\n",
       "</g>\n",
       "<!-- St2&#45;&gt;St16 -->\n",
       "<g id=\"edge13\" class=\"edge\"><title>St2&#45;&gt;St16</title>\n",
       "<path fill=\"none\" stroke=\"black\" d=\"M410.813,-121.102C418.554,-113.58 428.761,-105.414 439.761,-101.326 444.381,-99.6084 449.378,-98.5506 454.406,-97.9544\"/>\n",
       "<polygon fill=\"black\" stroke=\"black\" points=\"454.896,-101.431 464.659,-97.3158 454.461,-94.4443 454.896,-101.431\"/>\n",
       "<text text-anchor=\"middle\" x=\"443.261\" y=\"-104.126\" font-family=\"Times,serif\" font-size=\"14.00\">0</text>\n",
       "</g>\n",
       "<!-- St2&#45;&gt;St16 -->\n",
       "<g id=\"edge14\" class=\"edge\"><title>St2&#45;&gt;St16</title>\n",
       "<path fill=\"none\" stroke=\"black\" d=\"M416.197,-129.838C427.97,-125.377 443.288,-119.573 457.221,-114.294\"/>\n",
       "<polygon fill=\"black\" stroke=\"black\" points=\"458.474,-117.562 466.585,-110.746 455.994,-111.016 458.474,-117.562\"/>\n",
       "<text text-anchor=\"middle\" x=\"443.261\" y=\"-123.126\" font-family=\"Times,serif\" font-size=\"14.00\">1</text>\n",
       "</g>\n",
       "<!-- St21&#45;&gt;St16 -->\n",
       "<g id=\"edge15\" class=\"edge\"><title>St21&#45;&gt;St16</title>\n",
       "<path fill=\"none\" stroke=\"black\" d=\"M420.567,-71.7454C428.891,-74.7059 438.259,-78.0998 446.761,-81.3256 450.191,-82.627 453.751,-84.005 457.308,-85.4005\"/>\n",
       "<polygon fill=\"black\" stroke=\"black\" points=\"456.043,-88.6638 466.629,-89.0954 458.623,-82.1565 456.043,-88.6638\"/>\n",
       "<text text-anchor=\"middle\" x=\"443.261\" y=\"-84.1256\" font-family=\"Times,serif\" font-size=\"14.00\">1</text>\n",
       "</g>\n",
       "<!-- St12&#45;&gt;St2 -->\n",
       "<g id=\"edge10\" class=\"edge\"><title>St12&#45;&gt;St2</title>\n",
       "<path fill=\"none\" stroke=\"black\" d=\"M320.175,-151.301C327.23,-146.127 335.579,-141.084 344.11,-138.326 350.076,-136.396 356.651,-135.47 363.025,-135.136\"/>\n",
       "<polygon fill=\"black\" stroke=\"black\" points=\"363.445,-138.633 373.419,-135.06 363.394,-131.633 363.445,-138.633\"/>\n",
       "<text text-anchor=\"middle\" x=\"347.61\" y=\"-141.126\" font-family=\"Times,serif\" font-size=\"14.00\">0</text>\n",
       "</g>\n",
       "<!-- St12&#45;&gt;St2 -->\n",
       "<g id=\"edge11\" class=\"edge\"><title>St12&#45;&gt;St2</title>\n",
       "<path fill=\"none\" stroke=\"black\" d=\"M325.142,-160.719C333.401,-158.104 342.67,-155.128 351.11,-152.326 355.565,-150.847 360.266,-149.253 364.864,-147.676\"/>\n",
       "<polygon fill=\"black\" stroke=\"black\" points=\"366.32,-150.876 374.629,-144.302 364.034,-144.26 366.32,-150.876\"/>\n",
       "<text text-anchor=\"middle\" x=\"347.61\" y=\"-158.126\" font-family=\"Times,serif\" font-size=\"14.00\">1</text>\n",
       "</g>\n",
       "</g>\n",
       "</svg>\n"
      ],
      "text/plain": [
       "<graphviz.dot.Digraph at 0x10d247518>"
      ]
     },
     "execution_count": 59,
     "metadata": {},
     "output_type": "execute_result"
    }
   ],
   "source": [
    "dotObj_dfa(h2_from_re)"
   ]
  },
  {
   "cell_type": "code",
   "execution_count": 60,
   "metadata": {
    "run_control": {
     "frozen": false,
     "read_only": false
    }
   },
   "outputs": [
    {
     "data": {
      "text/plain": [
       "True"
      ]
     },
     "execution_count": 60,
     "metadata": {},
     "output_type": "execute_result"
    }
   ],
   "source": [
    "iso_dfa(fullcircle,h2_from_re)"
   ]
  },
  {
   "cell_type": "code",
   "execution_count": 61,
   "metadata": {
    "run_control": {
     "frozen": false,
     "read_only": false
    }
   },
   "outputs": [
    {
     "ename": "NameError",
     "evalue": "name 'epsre' is not defined",
     "output_type": "error",
     "traceback": [
      "\u001b[0;31m---------------------------------------------------------------------------\u001b[0m",
      "\u001b[0;31mNameError\u001b[0m                                 Traceback (most recent call last)",
      "\u001b[0;32m<ipython-input-61-26f9da5e5a4f>\u001b[0m in \u001b[0;36m<module>\u001b[0;34m()\u001b[0m\n\u001b[0;32m----> 1\u001b[0;31m \u001b[0mepsre\u001b[0m\u001b[0;34m\u001b[0m\u001b[0m\n\u001b[0m",
      "\u001b[0;31mNameError\u001b[0m: name 'epsre' is not defined"
     ]
    }
   ],
   "source": [
    "epsre"
   ]
  },
  {
   "cell_type": "code",
   "execution_count": null,
   "metadata": {
    "run_control": {
     "frozen": false,
     "read_only": false
    }
   },
   "outputs": [],
   "source": [
    "are"
   ]
  },
  {
   "cell_type": "code",
   "execution_count": null,
   "metadata": {
    "run_control": {
     "frozen": false,
     "read_only": false
    }
   },
   "outputs": [],
   "source": [
    "aplusbre"
   ]
  },
  {
   "cell_type": "code",
   "execution_count": null,
   "metadata": {
    "run_control": {
     "frozen": false,
     "read_only": false
    }
   },
   "outputs": [],
   "source": [
    "abre"
   ]
  },
  {
   "cell_type": "code",
   "execution_count": null,
   "metadata": {
    "run_control": {
     "frozen": false,
     "read_only": false
    }
   },
   "outputs": [],
   "source": [
    "arestar"
   ]
  },
  {
   "cell_type": "code",
   "execution_count": null,
   "metadata": {
    "run_control": {
     "frozen": false,
     "read_only": false
    }
   },
   "outputs": [],
   "source": [
    "aplusbstar"
   ]
  },
  {
   "cell_type": "code",
   "execution_count": null,
   "metadata": {
    "run_control": {
     "frozen": false,
     "read_only": false
    }
   },
   "outputs": [],
   "source": [
    "aplusb_aplusbstar"
   ]
  },
  {
   "cell_type": "code",
   "execution_count": null,
   "metadata": {
    "run_control": {
     "frozen": false,
     "read_only": false
    }
   },
   "outputs": [],
   "source": [
    "aplusb_aplusb = dotObj_nfa(re2nfa(\"(a+b)(a+b)\"), True)"
   ]
  },
  {
   "cell_type": "code",
   "execution_count": null,
   "metadata": {
    "run_control": {
     "frozen": false,
     "read_only": false
    }
   },
   "outputs": [],
   "source": [
    "aplusb_aplusb"
   ]
  },
  {
   "cell_type": "code",
   "execution_count": null,
   "metadata": {
    "run_control": {
     "frozen": false,
     "read_only": false
    }
   },
   "outputs": [],
   "source": [
    "DOodd1s_or_30s = dotObj_nfa(re2nfa(\"0* 1 0* (1 0* 1 0*)* + 1* 0 1* 0 1* 0 1* \"), True)"
   ]
  },
  {
   "cell_type": "code",
   "execution_count": null,
   "metadata": {
    "run_control": {
     "frozen": false,
     "read_only": false
    }
   },
   "outputs": [],
   "source": [
    "DOodd1s_or_30s"
   ]
  },
  {
   "cell_type": "code",
   "execution_count": null,
   "metadata": {
    "run_control": {
     "frozen": false,
     "read_only": false
    }
   },
   "outputs": [],
   "source": [
    "DOodd1s_or_30s = dotObj_nfa(re2nfa(\"0* 1 0* (1 0* 1 0*)* + 1* 0 1* 0 1* 0 1* \"), False)"
   ]
  },
  {
   "cell_type": "code",
   "execution_count": null,
   "metadata": {
    "run_control": {
     "frozen": false,
     "read_only": false
    }
   },
   "outputs": [],
   "source": [
    "DOodd1s_or_30s"
   ]
  },
  {
   "cell_type": "code",
   "execution_count": null,
   "metadata": {
    "run_control": {
     "frozen": false,
     "read_only": false
    }
   },
   "outputs": [],
   "source": [
    "DOodd1s_or_30s_mind = dotObj_dfa(min_dfa(nfa2dfa(re2nfa(\"0* 1 0* (1 0* 1 0*)* + 1* 0 1* 0 1* 0 1* \"))))\n",
    "DOodd1s_or_30s_mind"
   ]
  },
  {
   "cell_type": "markdown",
   "metadata": {
    "run_control": {
     "frozen": false,
     "read_only": false
    }
   },
   "source": [
    "# Designing DFA that accept within a Hamming Distance"
   ]
  },
  {
   "cell_type": "markdown",
   "metadata": {
    "run_control": {
     "frozen": false,
     "read_only": false
    }
   },
   "source": [
    "Given a regular language, say (0+1)* 0101 (0+1)* (i.e., all bit-strings with an occurrence of 0101 in it), let us come up with \n",
    "\n",
    "1. An RE that represents strings within a Hamming distance of 2 from strings in this language\n",
    "\n",
    "2. An NFA that represents strings within a Hamming distance of 2 from strings in this language\n"
   ]
  },
  {
   "cell_type": "code",
   "execution_count": null,
   "metadata": {
    "run_control": {
     "frozen": false,
     "read_only": false
    }
   },
   "outputs": [],
   "source": [
    "h2_0101_re = (\"(0+1)* ( (0+1)(0+1)01 +\" + \n",
    "                      \" (0+1)1(0+1)1 +\" + \n",
    "                      \" (0+1)10(0+1) +\" + \n",
    "                      \" 0(0+1)(0+1)1 +\" +\n",
    "                      \" 0(0+1)0(0+1) +\" +\n",
    "                      \" 01(0+1)(0+1) )\" +\n",
    "              \"(0+1)*\")"
   ]
  },
  {
   "cell_type": "code",
   "execution_count": null,
   "metadata": {
    "run_control": {
     "frozen": false,
     "read_only": false
    }
   },
   "outputs": [],
   "source": [
    "h2_0101_re"
   ]
  },
  {
   "cell_type": "code",
   "execution_count": null,
   "metadata": {
    "run_control": {
     "frozen": false,
     "read_only": false
    }
   },
   "outputs": [],
   "source": [
    "minD_h2_0101_re = min_dfa(nfa2dfa(re2nfa(h2_0101_re)))"
   ]
  },
  {
   "cell_type": "code",
   "execution_count": null,
   "metadata": {
    "run_control": {
     "frozen": false,
     "read_only": false
    }
   },
   "outputs": [],
   "source": [
    "DO_minD_h2_0101_re = dotObj_dfa(minD_h2_0101_re)"
   ]
  },
  {
   "cell_type": "code",
   "execution_count": null,
   "metadata": {
    "run_control": {
     "frozen": false,
     "read_only": false
    }
   },
   "outputs": [],
   "source": [
    "DO_minD_h2_0101_re"
   ]
  },
  {
   "cell_type": "code",
   "execution_count": null,
   "metadata": {
    "run_control": {
     "frozen": false,
     "read_only": false
    }
   },
   "outputs": [],
   "source": [
    "DO_minD_h2_0101_re.source"
   ]
  },
  {
   "cell_type": "code",
   "execution_count": null,
   "metadata": {
    "run_control": {
     "frozen": false,
     "read_only": false
    }
   },
   "outputs": [],
   "source": [
    "h2_0101_nfa_md = '''\n",
    "NFA\n",
    "!!--------------------------------------------\n",
    "!! We are supposed to process (0+1)*0101(0+1)*\n",
    "!! with up to two \"dings\" allowed\n",
    "!!\n",
    "!! Approach: Silently error-correct, but remember\n",
    "!! each \"ding\" in a new state name.\n",
    "!! After two dings, do not error-correct anymore\n",
    "!!--------------------------------------------\n",
    "\n",
    "!!-- pattern for (0+1)* is the usual\n",
    "!!-- no error-correction needed here :-)\n",
    "I : 0 | 1 -> I\n",
    "\n",
    "!!-- Now comes the opportunity to exit I via 0101\n",
    "!!-- The state names are A,B,C,D with ding-count\n",
    "!!-- Thus A0 is A with 0 dings\n",
    "!!-- C2 is C with 2 dings; etc\n",
    "\n",
    "!!-- Ding-less traversal -- how lucky!\n",
    "I  : 0 -> A0\n",
    "A0 : 1 -> B0\n",
    "B0 : 0 -> C0\n",
    "C0 : 1 -> F\n",
    "!!-- Phew, finally at F\n",
    "F  : 0 | 1 -> F\n",
    "\n",
    "!!-- First ding in any of these cases\n",
    "I  : 1 -> A1\n",
    "A0 : 0 -> B1\n",
    "B0 : 1 -> C1\n",
    "C0 : 0 -> F  !!-- ding-recording un-nec.; just goto F\n",
    "\n",
    "!!-- Second ding in any of these cases\n",
    "A1 : 0 -> B2\n",
    "B1 : 1 -> C2\n",
    "C1 : 0 -> F  !!-- ding-recording un-nec.; just goto F\n",
    "\n",
    "!!-- No more dings allowed!\n",
    "B2 : 0 -> C2\n",
    "C2 : 1 -> F\n",
    "\n",
    "!!-- Allow one-dingers to finish fine\n",
    "A1 : 1 -> B1\n",
    "B1 : 0 -> C1\n",
    "C1 : 1 -> F\n",
    "\n",
    "'''"
   ]
  },
  {
   "cell_type": "code",
   "execution_count": null,
   "metadata": {
    "run_control": {
     "frozen": false,
     "read_only": false
    }
   },
   "outputs": [],
   "source": [
    "h2_0101_nfa = md2mc(h2_0101_nfa_md)"
   ]
  },
  {
   "cell_type": "code",
   "execution_count": null,
   "metadata": {
    "run_control": {
     "frozen": false,
     "read_only": false
    }
   },
   "outputs": [],
   "source": [
    "DO_h2_0101_nfa = dotObj_nfa(h2_0101_nfa)\n",
    "DO_h2_0101_nfa"
   ]
  },
  {
   "cell_type": "code",
   "execution_count": null,
   "metadata": {
    "run_control": {
     "frozen": false,
     "read_only": false
    }
   },
   "outputs": [],
   "source": [
    "minD_h2_0101_nfa = min_dfa(nfa2dfa(h2_0101_nfa))\n",
    "DO_minD_h2_0101_nfa = dotObj_dfa(minD_h2_0101_nfa)\n",
    "DO_minD_h2_0101_nfa"
   ]
  },
  {
   "cell_type": "code",
   "execution_count": null,
   "metadata": {
    "run_control": {
     "frozen": false,
     "read_only": false
    }
   },
   "outputs": [],
   "source": [
    "iso_dfa(minD_h2_0101_re, minD_h2_0101_nfa)"
   ]
  },
  {
   "cell_type": "code",
   "execution_count": null,
   "metadata": {
    "run_control": {
     "frozen": false,
     "read_only": false
    }
   },
   "outputs": [],
   "source": [
    "nfaEx = md2mc('''NFA\n",
    "I : '' -> B\n",
    "I : a  -> A\n",
    "!!A : b  -> I\n",
    "A : q  -> F\n",
    "A : r  -> B\n",
    "B : s  -> B\n",
    "B : p  -> F\n",
    "F : t  -> A\n",
    "''')\n",
    "DO_nfaEx = dotObj_nfa(nfaEx)\n",
    "DO_nfaEx"
   ]
  },
  {
   "cell_type": "code",
   "execution_count": null,
   "metadata": {
    "run_control": {
     "frozen": false,
     "read_only": false
    }
   },
   "outputs": [],
   "source": [
    "GNFA_nfaEx = mk_gnfa(nfaEx)"
   ]
  },
  {
   "cell_type": "code",
   "execution_count": null,
   "metadata": {
    "run_control": {
     "frozen": false,
     "read_only": false
    }
   },
   "outputs": [],
   "source": [
    "help(del_gnfa_states)"
   ]
  },
  {
   "cell_type": "code",
   "execution_count": null,
   "metadata": {
    "run_control": {
     "frozen": false,
     "read_only": false
    }
   },
   "outputs": [],
   "source": [
    "(Gfinal, do_list, final_re) = del_gnfa_states(GNFA_nfaEx)"
   ]
  },
  {
   "cell_type": "code",
   "execution_count": null,
   "metadata": {
    "run_control": {
     "frozen": false,
     "read_only": false
    }
   },
   "outputs": [],
   "source": [
    "final_re"
   ]
  },
  {
   "cell_type": "code",
   "execution_count": null,
   "metadata": {
    "run_control": {
     "frozen": false,
     "read_only": false
    }
   },
   "outputs": [],
   "source": [
    "final_re"
   ]
  },
  {
   "cell_type": "code",
   "execution_count": null,
   "metadata": {
    "run_control": {
     "frozen": false,
     "read_only": false
    }
   },
   "outputs": [],
   "source": [
    "do_list[0]"
   ]
  },
  {
   "cell_type": "code",
   "execution_count": null,
   "metadata": {
    "run_control": {
     "frozen": false,
     "read_only": false
    }
   },
   "outputs": [],
   "source": [
    "do_list[1]"
   ]
  },
  {
   "cell_type": "code",
   "execution_count": null,
   "metadata": {
    "run_control": {
     "frozen": false,
     "read_only": false
    }
   },
   "outputs": [],
   "source": [
    "do_list[1]"
   ]
  },
  {
   "cell_type": "code",
   "execution_count": null,
   "metadata": {
    "run_control": {
     "frozen": false,
     "read_only": false
    }
   },
   "outputs": [],
   "source": [
    "do_list[2]"
   ]
  },
  {
   "cell_type": "code",
   "execution_count": null,
   "metadata": {
    "run_control": {
     "frozen": false,
     "read_only": false
    }
   },
   "outputs": [],
   "source": [
    "do_list[2].source"
   ]
  },
  {
   "cell_type": "code",
   "execution_count": null,
   "metadata": {
    "run_control": {
     "frozen": false,
     "read_only": false
    }
   },
   "outputs": [],
   "source": [
    "do_list[3]"
   ]
  },
  {
   "cell_type": "code",
   "execution_count": null,
   "metadata": {
    "run_control": {
     "frozen": false,
     "read_only": false
    }
   },
   "outputs": [],
   "source": [
    "do_list[3].source"
   ]
  },
  {
   "cell_type": "code",
   "execution_count": null,
   "metadata": {
    "run_control": {
     "frozen": false,
     "read_only": false
    }
   },
   "outputs": [],
   "source": [
    "do_list[4]"
   ]
  },
  {
   "cell_type": "code",
   "execution_count": null,
   "metadata": {
    "run_control": {
     "frozen": false,
     "read_only": false
    }
   },
   "outputs": [],
   "source": [
    "do_list[4].source"
   ]
  },
  {
   "cell_type": "code",
   "execution_count": null,
   "metadata": {
    "run_control": {
     "frozen": false,
     "read_only": false
    }
   },
   "outputs": [],
   "source": [
    "re_mindfa = min_dfa(nfa2dfa(re2nfa(final_re)))"
   ]
  },
  {
   "cell_type": "code",
   "execution_count": null,
   "metadata": {
    "run_control": {
     "frozen": false,
     "read_only": false
    }
   },
   "outputs": [],
   "source": [
    "dir_mindfa = min_dfa(nfa2dfa(nfaEx))"
   ]
  },
  {
   "cell_type": "code",
   "execution_count": null,
   "metadata": {
    "run_control": {
     "frozen": false,
     "read_only": false
    }
   },
   "outputs": [],
   "source": [
    "iso_dfa(re_mindfa,dir_mindfa)"
   ]
  },
  {
   "cell_type": "code",
   "execution_count": null,
   "metadata": {
    "run_control": {
     "frozen": false,
     "read_only": false
    }
   },
   "outputs": [],
   "source": [
    "dotObj_dfa(dir_mindfa)"
   ]
  },
  {
   "cell_type": "code",
   "execution_count": null,
   "metadata": {
    "run_control": {
     "frozen": false,
     "read_only": false
    }
   },
   "outputs": [],
   "source": [
    "dotObj_dfa(re_mindfa)"
   ]
  },
  {
   "cell_type": "code",
   "execution_count": null,
   "metadata": {
    "run_control": {
     "frozen": false,
     "read_only": false
    }
   },
   "outputs": [],
   "source": [
    "dot_san_str('\"\"')"
   ]
  },
  {
   "cell_type": "code",
   "execution_count": null,
   "metadata": {
    "run_control": {
     "frozen": false,
     "read_only": false
    }
   },
   "outputs": [],
   "source": [
    "nfaExp = md2mc('''NFA\n",
    "I : a -> A1\n",
    "I : n -> B1\n",
    "A1 : b -> AB1\n",
    "B1 : o -> AB1\n",
    "AB1 : c -> A2\n",
    "AB1 : p -> B2\n",
    "A2 : d -> AB2\n",
    "B2 : q -> AB2\n",
    "AB2 : e -> A3\n",
    "AB2 : r -> B3\n",
    "A3 : f -> AB3\n",
    "B3 : s -> AB3\n",
    "AB3 : g -> A4\n",
    "AB3 : t -> B4\n",
    "A4 : h -> FAB4\n",
    "B4 : u -> FAB4\n",
    "''')\n",
    "DO_nfaExp = dotObj_nfa(nfaExp)\n",
    "DO_nfaExp"
   ]
  },
  {
   "cell_type": "code",
   "execution_count": null,
   "metadata": {
    "run_control": {
     "frozen": false,
     "read_only": false
    }
   },
   "outputs": [],
   "source": [
    "gnfaExp = mk_gnfa(nfaExp)\n",
    "DO_gnfaExp = dotObj_gnfa(gnfaExp)\n",
    "DO_gnfaExp"
   ]
  },
  {
   "cell_type": "code",
   "execution_count": null,
   "metadata": {
    "run_control": {
     "frozen": false,
     "read_only": false
    }
   },
   "outputs": [],
   "source": [
    "(Gfinal, dotObj_List, final_re_str) = del_gnfa_states(gnfaExp)"
   ]
  },
  {
   "cell_type": "code",
   "execution_count": null,
   "metadata": {
    "run_control": {
     "frozen": false,
     "read_only": false
    }
   },
   "outputs": [],
   "source": [
    "final_re_str"
   ]
  },
  {
   "cell_type": "code",
   "execution_count": null,
   "metadata": {
    "run_control": {
     "frozen": false,
     "read_only": false
    }
   },
   "outputs": [],
   "source": [
    "nfaExer = md2mc('''NFA\n",
    "I1 : a -> X\n",
    "I2 : b -> X\n",
    "I3 : c -> X\n",
    "X  : p | q -> X\n",
    "X  : m -> F1\n",
    "X  : n -> F2\n",
    "''')\n",
    "DO_nfaExer = dotObj_nfa(nfaExer)\n",
    "DO_nfaExer\n",
    "gnfaExer = mk_gnfa(nfaExer)\n",
    "DO_gnfaExer = dotObj_gnfa(gnfaExer)\n",
    "DO_gnfaExer\n",
    "(G, DO, RE) = del_gnfa_states(gnfaExer)"
   ]
  },
  {
   "cell_type": "code",
   "execution_count": null,
   "metadata": {
    "run_control": {
     "frozen": false,
     "read_only": false
    }
   },
   "outputs": [],
   "source": [
    "RE"
   ]
  },
  {
   "cell_type": "code",
   "execution_count": null,
   "metadata": {
    "run_control": {
     "frozen": false,
     "read_only": false
    }
   },
   "outputs": [],
   "source": [
    "DO_nfaExer"
   ]
  },
  {
   "cell_type": "code",
   "execution_count": null,
   "metadata": {
    "run_control": {
     "frozen": false,
     "read_only": false
    }
   },
   "outputs": [],
   "source": [
    "DO[0]"
   ]
  },
  {
   "cell_type": "code",
   "execution_count": null,
   "metadata": {
    "run_control": {
     "frozen": false,
     "read_only": false
    }
   },
   "outputs": [],
   "source": [
    "DO[1]"
   ]
  },
  {
   "cell_type": "code",
   "execution_count": null,
   "metadata": {
    "run_control": {
     "frozen": false,
     "read_only": false
    }
   },
   "outputs": [],
   "source": [
    "DO[2]"
   ]
  },
  {
   "cell_type": "code",
   "execution_count": null,
   "metadata": {
    "run_control": {
     "frozen": false,
     "read_only": false
    }
   },
   "outputs": [],
   "source": [
    "DO[3]"
   ]
  },
  {
   "cell_type": "code",
   "execution_count": null,
   "metadata": {
    "run_control": {
     "frozen": false,
     "read_only": false
    }
   },
   "outputs": [],
   "source": [
    "DO[4]"
   ]
  },
  {
   "cell_type": "code",
   "execution_count": null,
   "metadata": {
    "run_control": {
     "frozen": false,
     "read_only": false
    }
   },
   "outputs": [],
   "source": [
    "DO[5]"
   ]
  },
  {
   "cell_type": "code",
   "execution_count": null,
   "metadata": {
    "run_control": {
     "frozen": false,
     "read_only": false
    }
   },
   "outputs": [],
   "source": [
    "DO[6]"
   ]
  },
  {
   "cell_type": "code",
   "execution_count": null,
   "metadata": {
    "run_control": {
     "frozen": false,
     "read_only": false
    }
   },
   "outputs": [],
   "source": [
    "nfaExer = md2mc('''NFA\n",
    "I1 : a -> X\n",
    "I2 : b -> X\n",
    "I3 : c -> X\n",
    "X  : p | q -> X\n",
    "X  : m -> F1\n",
    "X  : n -> F2\n",
    "''')\n",
    "DO_nfaExer = dotObj_nfa(nfaExer)\n",
    "DO_nfaExer\n",
    "gnfaExer = mk_gnfa(nfaExer)\n",
    "DO_gnfaExer = dotObj_gnfa(gnfaExer)\n",
    "DO_gnfaExer\n",
    "(G, DO, RE) = del_gnfa_states(gnfaExer, DelList=[\"X\", \"I1\", \"I2\",\"I3\",\"F1\",\"F2\"])"
   ]
  },
  {
   "cell_type": "code",
   "execution_count": null,
   "metadata": {
    "run_control": {
     "frozen": false,
     "read_only": false
    }
   },
   "outputs": [],
   "source": [
    "DO_gnfaExer"
   ]
  },
  {
   "cell_type": "code",
   "execution_count": null,
   "metadata": {
    "run_control": {
     "frozen": false,
     "read_only": false
    }
   },
   "outputs": [],
   "source": [
    "len(DO)"
   ]
  },
  {
   "cell_type": "code",
   "execution_count": null,
   "metadata": {
    "run_control": {
     "frozen": false,
     "read_only": false
    }
   },
   "outputs": [],
   "source": [
    "RE"
   ]
  },
  {
   "cell_type": "code",
   "execution_count": null,
   "metadata": {
    "run_control": {
     "frozen": false,
     "read_only": false
    }
   },
   "outputs": [],
   "source": [
    "DO[0]"
   ]
  },
  {
   "cell_type": "code",
   "execution_count": null,
   "metadata": {
    "run_control": {
     "frozen": false,
     "read_only": false
    }
   },
   "outputs": [],
   "source": [
    "DO[1]"
   ]
  },
  {
   "cell_type": "code",
   "execution_count": null,
   "metadata": {
    "run_control": {
     "frozen": false,
     "read_only": false
    }
   },
   "outputs": [],
   "source": [
    "DO[2]"
   ]
  },
  {
   "cell_type": "code",
   "execution_count": null,
   "metadata": {
    "run_control": {
     "frozen": false,
     "read_only": false
    }
   },
   "outputs": [],
   "source": [
    "DO[3]"
   ]
  },
  {
   "cell_type": "code",
   "execution_count": null,
   "metadata": {
    "run_control": {
     "frozen": false,
     "read_only": false
    }
   },
   "outputs": [],
   "source": [
    "DO[4]"
   ]
  },
  {
   "cell_type": "code",
   "execution_count": null,
   "metadata": {
    "run_control": {
     "frozen": false,
     "read_only": false
    }
   },
   "outputs": [],
   "source": [
    "DO[5]"
   ]
  },
  {
   "cell_type": "code",
   "execution_count": null,
   "metadata": {
    "run_control": {
     "frozen": false,
     "read_only": false
    }
   },
   "outputs": [],
   "source": [
    "DO[6]"
   ]
  },
  {
   "cell_type": "code",
   "execution_count": null,
   "metadata": {
    "run_control": {
     "frozen": false,
     "read_only": false
    }
   },
   "outputs": [],
   "source": [
    "RE"
   ]
  },
  {
   "cell_type": "code",
   "execution_count": null,
   "metadata": {
    "run_control": {
     "frozen": false,
     "read_only": false
    }
   },
   "outputs": [],
   "source": []
  },
  {
   "cell_type": "code",
   "execution_count": null,
   "metadata": {
    "run_control": {
     "frozen": false,
     "read_only": false
    }
   },
   "outputs": [],
   "source": [
    "sylv_11_13 = min_dfa(nfa2dfa(re2nfa(\"(11111111111+1111111111111)*\")))"
   ]
  },
  {
   "cell_type": "code",
   "execution_count": null,
   "metadata": {
    "run_control": {
     "frozen": false,
     "read_only": false
    }
   },
   "outputs": [],
   "source": [
    "dotObj_dfa(sylv_11_13)"
   ]
  },
  {
   "cell_type": "code",
   "execution_count": null,
   "metadata": {
    "run_control": {
     "frozen": false,
     "read_only": false
    }
   },
   "outputs": [],
   "source": [
    "sylv_11_13"
   ]
  },
  {
   "cell_type": "code",
   "execution_count": null,
   "metadata": {
    "run_control": {
     "frozen": false,
     "read_only": false
    }
   },
   "outputs": [],
   "source": [
    "sylv_3_5 = min_dfa(nfa2dfa(re2nfa(\"(111+11111)*\")))"
   ]
  },
  {
   "cell_type": "code",
   "execution_count": null,
   "metadata": {
    "run_control": {
     "frozen": false,
     "read_only": false
    }
   },
   "outputs": [],
   "source": [
    "len(sylv_3_5[\"Q\"]) - 2"
   ]
  },
  {
   "cell_type": "code",
   "execution_count": null,
   "metadata": {
    "run_control": {
     "frozen": false,
     "read_only": false
    }
   },
   "outputs": [],
   "source": [
    "3*5-3-5"
   ]
  },
  {
   "cell_type": "code",
   "execution_count": null,
   "metadata": {
    "run_control": {
     "frozen": false,
     "read_only": false
    }
   },
   "outputs": [],
   "source": [
    "dotObj_dfa(sylv_3_5)"
   ]
  },
  {
   "cell_type": "code",
   "execution_count": null,
   "metadata": {
    "run_control": {
     "frozen": false,
     "read_only": false
    }
   },
   "outputs": [],
   "source": [
    "dotObj_nfa(re2nfa(\"(111+11111)*\"))"
   ]
  },
  {
   "cell_type": "code",
   "execution_count": null,
   "metadata": {
    "run_control": {
     "frozen": false,
     "read_only": false
    }
   },
   "outputs": [],
   "source": [
    "nfa_3_5 = re2nfa(\"(111+11111)*\")"
   ]
  },
  {
   "cell_type": "code",
   "execution_count": null,
   "metadata": {
    "run_control": {
     "frozen": false,
     "read_only": false
    },
    "scrolled": true
   },
   "outputs": [],
   "source": [
    "nfa_3_5"
   ]
  },
  {
   "cell_type": "code",
   "execution_count": null,
   "metadata": {
    "run_control": {
     "frozen": false,
     "read_only": false
    },
    "scrolled": true
   },
   "outputs": [],
   "source": [
    "dotObj_nfa(nfa_3_5)"
   ]
  },
  {
   "cell_type": "code",
   "execution_count": null,
   "metadata": {
    "run_control": {
     "frozen": false,
     "read_only": false
    }
   },
   "outputs": [],
   "source": [
    "Gnfa_3_5 = mk_gnfa(nfa_3_5)"
   ]
  },
  {
   "cell_type": "code",
   "execution_count": null,
   "metadata": {
    "run_control": {
     "frozen": false,
     "read_only": false
    }
   },
   "outputs": [],
   "source": [
    "Gnfa_3_5"
   ]
  },
  {
   "cell_type": "code",
   "execution_count": null,
   "metadata": {
    "run_control": {
     "frozen": false,
     "read_only": false
    }
   },
   "outputs": [],
   "source": [
    "dotObj_gnfa(Gnfa_3_5)"
   ]
  },
  {
   "cell_type": "code",
   "execution_count": null,
   "metadata": {
    "run_control": {
     "frozen": false,
     "read_only": false
    }
   },
   "outputs": [],
   "source": [
    "(Gfinal, dotObj_List, final_re_str) = del_gnfa_states(Gnfa_3_5)"
   ]
  },
  {
   "cell_type": "code",
   "execution_count": null,
   "metadata": {
    "run_control": {
     "frozen": false,
     "read_only": false
    }
   },
   "outputs": [],
   "source": [
    "len(dotObj_List)"
   ]
  },
  {
   "cell_type": "code",
   "execution_count": null,
   "metadata": {
    "run_control": {
     "frozen": false,
     "read_only": false
    }
   },
   "outputs": [],
   "source": [
    "dotObj_List[0]"
   ]
  },
  {
   "cell_type": "code",
   "execution_count": null,
   "metadata": {
    "run_control": {
     "frozen": false,
     "read_only": false
    }
   },
   "outputs": [],
   "source": [
    "dotObj_List[1]"
   ]
  },
  {
   "cell_type": "code",
   "execution_count": null,
   "metadata": {
    "run_control": {
     "frozen": false,
     "read_only": false
    }
   },
   "outputs": [],
   "source": [
    "dotObj_List[2]"
   ]
  },
  {
   "cell_type": "code",
   "execution_count": null,
   "metadata": {
    "run_control": {
     "frozen": false,
     "read_only": false
    }
   },
   "outputs": [],
   "source": [
    "dotObj_List[3]"
   ]
  },
  {
   "cell_type": "code",
   "execution_count": null,
   "metadata": {
    "run_control": {
     "frozen": false,
     "read_only": false
    }
   },
   "outputs": [],
   "source": [
    "dotObj_List[4]"
   ]
  },
  {
   "cell_type": "code",
   "execution_count": null,
   "metadata": {
    "run_control": {
     "frozen": false,
     "read_only": false
    }
   },
   "outputs": [],
   "source": [
    "dotObj_List[5]"
   ]
  },
  {
   "cell_type": "code",
   "execution_count": null,
   "metadata": {
    "run_control": {
     "frozen": false,
     "read_only": false
    }
   },
   "outputs": [],
   "source": [
    "dotObj_List[6]"
   ]
  },
  {
   "cell_type": "code",
   "execution_count": null,
   "metadata": {
    "run_control": {
     "frozen": false,
     "read_only": false
    }
   },
   "outputs": [],
   "source": [
    "dotObj_List[7]"
   ]
  },
  {
   "cell_type": "code",
   "execution_count": null,
   "metadata": {
    "run_control": {
     "frozen": false,
     "read_only": false
    }
   },
   "outputs": [],
   "source": [
    "dotObj_List[8]"
   ]
  },
  {
   "cell_type": "code",
   "execution_count": null,
   "metadata": {
    "run_control": {
     "frozen": false,
     "read_only": false
    }
   },
   "outputs": [],
   "source": [
    "dotObj_List[9]"
   ]
  },
  {
   "cell_type": "code",
   "execution_count": null,
   "metadata": {
    "run_control": {
     "frozen": false,
     "read_only": false
    }
   },
   "outputs": [],
   "source": [
    "dotObj_List[10]"
   ]
  },
  {
   "cell_type": "code",
   "execution_count": null,
   "metadata": {
    "run_control": {
     "frozen": false,
     "read_only": false
    }
   },
   "outputs": [],
   "source": [
    "dotObj_List[11]"
   ]
  },
  {
   "cell_type": "code",
   "execution_count": null,
   "metadata": {
    "run_control": {
     "frozen": false,
     "read_only": false
    }
   },
   "outputs": [],
   "source": [
    "dotObj_List[12]"
   ]
  },
  {
   "cell_type": "code",
   "execution_count": null,
   "metadata": {
    "run_control": {
     "frozen": false,
     "read_only": false
    }
   },
   "outputs": [],
   "source": [
    "dotObj_List[13]"
   ]
  },
  {
   "cell_type": "code",
   "execution_count": null,
   "metadata": {
    "run_control": {
     "frozen": false,
     "read_only": false
    }
   },
   "outputs": [],
   "source": [
    "dotObj_List[14]"
   ]
  },
  {
   "cell_type": "code",
   "execution_count": null,
   "metadata": {
    "run_control": {
     "frozen": false,
     "read_only": false
    }
   },
   "outputs": [],
   "source": [
    "dotObj_List[15]"
   ]
  },
  {
   "cell_type": "code",
   "execution_count": null,
   "metadata": {
    "run_control": {
     "frozen": false,
     "read_only": false
    }
   },
   "outputs": [],
   "source": [
    "dotObj_List[16]"
   ]
  },
  {
   "cell_type": "code",
   "execution_count": null,
   "metadata": {
    "run_control": {
     "frozen": false,
     "read_only": false
    }
   },
   "outputs": [],
   "source": [
    "dotObj_List[17]"
   ]
  },
  {
   "cell_type": "code",
   "execution_count": null,
   "metadata": {
    "run_control": {
     "frozen": false,
     "read_only": false
    }
   },
   "outputs": [],
   "source": [
    "len(dotObj_List)"
   ]
  },
  {
   "cell_type": "code",
   "execution_count": null,
   "metadata": {
    "run_control": {
     "frozen": false,
     "read_only": false
    }
   },
   "outputs": [],
   "source": [
    "final_re_str"
   ]
  },
  {
   "cell_type": "code",
   "execution_count": null,
   "metadata": {
    "run_control": {
     "frozen": false,
     "read_only": false
    }
   },
   "outputs": [],
   "source": [
    "dotObj_gnfa(mk_gnfa(re2nfa(\"(111+11111)*\")))"
   ]
  },
  {
   "cell_type": "code",
   "execution_count": null,
   "metadata": {
    "run_control": {
     "frozen": false,
     "read_only": false
    }
   },
   "outputs": [],
   "source": [
    "minD_renfare = min_dfa(nfa2dfa(re2nfa(final_re_str)))"
   ]
  },
  {
   "cell_type": "code",
   "execution_count": null,
   "metadata": {
    "run_control": {
     "frozen": false,
     "read_only": false
    }
   },
   "outputs": [],
   "source": [
    "DOminD_renfare = dotObj_dfa(minD_renfare)"
   ]
  },
  {
   "cell_type": "code",
   "execution_count": null,
   "metadata": {
    "run_control": {
     "frozen": false,
     "read_only": false
    }
   },
   "outputs": [],
   "source": [
    "DOminD_renfare"
   ]
  },
  {
   "cell_type": "code",
   "execution_count": null,
   "metadata": {
    "run_control": {
     "frozen": false,
     "read_only": false
    }
   },
   "outputs": [],
   "source": [
    "dotObj_dfa(min_dfa(nfa2dfa(nfa_3_5)))"
   ]
  },
  {
   "cell_type": "code",
   "execution_count": null,
   "metadata": {
    "run_control": {
     "frozen": false,
     "read_only": false
    }
   },
   "outputs": [],
   "source": [
    "dotObj_dfa(min_dfa(nfa2dfa(re2nfa(\"(111+11111)*\"))))"
   ]
  },
  {
   "cell_type": "code",
   "execution_count": null,
   "metadata": {
    "run_control": {
     "frozen": false,
     "read_only": false
    }
   },
   "outputs": [],
   "source": [
    "sylv_3_5 = min_dfa(nfa2dfa(re2nfa(\"(111+11111)*\")))"
   ]
  },
  {
   "cell_type": "code",
   "execution_count": null,
   "metadata": {
    "run_control": {
     "frozen": false,
     "read_only": false
    }
   },
   "outputs": [],
   "source": [
    "len(sylv_3_5[\"Q\"]) - 1 - 1"
   ]
  },
  {
   "cell_type": "code",
   "execution_count": null,
   "metadata": {
    "run_control": {
     "frozen": false,
     "read_only": false
    }
   },
   "outputs": [],
   "source": [
    "DO_sylv_3_5 = dotObj_dfa(sylv_3_5)"
   ]
  },
  {
   "cell_type": "code",
   "execution_count": null,
   "metadata": {
    "run_control": {
     "frozen": false,
     "read_only": false
    }
   },
   "outputs": [],
   "source": [
    "non_sylv_3_6 = min_dfa(nfa2dfa(re2nfa(\"(111+111111)*\")))"
   ]
  },
  {
   "cell_type": "code",
   "execution_count": null,
   "metadata": {
    "run_control": {
     "frozen": false,
     "read_only": false
    }
   },
   "outputs": [],
   "source": [
    "DO_non_sylv_3_6 = dotObj_dfa(non_sylv_3_6)"
   ]
  },
  {
   "cell_type": "code",
   "execution_count": null,
   "metadata": {
    "run_control": {
     "frozen": false,
     "read_only": false
    }
   },
   "outputs": [],
   "source": [
    "DO_non_sylv_3_6"
   ]
  },
  {
   "cell_type": "code",
   "execution_count": null,
   "metadata": {
    "run_control": {
     "frozen": false,
     "read_only": false
    }
   },
   "outputs": [],
   "source": [
    "non_sylv_prefix_and_3_6 = min_dfa(nfa2dfa(re2nfa(\"111(111+111111)*\")))"
   ]
  },
  {
   "cell_type": "code",
   "execution_count": null,
   "metadata": {
    "run_control": {
     "frozen": false,
     "read_only": false
    }
   },
   "outputs": [],
   "source": [
    "DO_non = dotObj_dfa(non_sylv_prefix_and_3_6)"
   ]
  },
  {
   "cell_type": "code",
   "execution_count": null,
   "metadata": {
    "run_control": {
     "frozen": false,
     "read_only": false
    }
   },
   "outputs": [],
   "source": [
    "DO_non"
   ]
  },
  {
   "cell_type": "code",
   "execution_count": null,
   "metadata": {
    "run_control": {
     "frozen": false,
     "read_only": false
    }
   },
   "outputs": [],
   "source": [
    "stamp_3_5_7 = min_dfa(nfa2dfa(re2nfa(\"(111+11111+1111111)*\")))"
   ]
  },
  {
   "cell_type": "code",
   "execution_count": null,
   "metadata": {
    "run_control": {
     "frozen": false,
     "read_only": false
    }
   },
   "outputs": [],
   "source": [
    "DOstamp_3_5_7 = dotObj_dfa(stamp_3_5_7)"
   ]
  },
  {
   "cell_type": "code",
   "execution_count": null,
   "metadata": {
    "run_control": {
     "frozen": false,
     "read_only": false
    }
   },
   "outputs": [],
   "source": [
    "DOstamp_3_5_7"
   ]
  },
  {
   "cell_type": "code",
   "execution_count": null,
   "metadata": {
    "run_control": {
     "frozen": false,
     "read_only": false
    }
   },
   "outputs": [],
   "source": [
    "len(min_dfa(nfa2dfa(re2nfa(\"(111+1111111111111)*\")))[\"Q\"]) - 2"
   ]
  },
  {
   "cell_type": "code",
   "execution_count": null,
   "metadata": {
    "run_control": {
     "frozen": false,
     "read_only": false
    }
   },
   "outputs": [],
   "source": [
    "dfaBESame = md2mc('''\n",
    "DFA !! Begins and ends with same; epsilon allowed\n",
    "IF  : 0 -> F0\n",
    "IF  : 1 -> F1\n",
    "!!\n",
    "F0  : 0 -> F0\n",
    "F0  : 1 -> S01\n",
    "S01 : 1 -> S01\n",
    "S01 : 0 -> F0\n",
    "!!\n",
    "F1  : 1 -> F1\n",
    "F1  : 0 -> S10\n",
    "S10 : 0 -> S10\n",
    "S10 : 1 -> F1\n",
    "''')\n",
    "DOdfaBESame = dotObj_dfa(dfaBESame)\n",
    "DOdfaBESame"
   ]
  },
  {
   "cell_type": "code",
   "execution_count": null,
   "metadata": {
    "run_control": {
     "frozen": false,
     "read_only": false
    }
   },
   "outputs": [],
   "source": [
    "nfaBESame = apply_h_dfa(dfaBESame, lambda x: '0')"
   ]
  },
  {
   "cell_type": "code",
   "execution_count": null,
   "metadata": {
    "run_control": {
     "frozen": false,
     "read_only": false
    }
   },
   "outputs": [],
   "source": [
    "nfaBESame"
   ]
  },
  {
   "cell_type": "code",
   "execution_count": null,
   "metadata": {
    "run_control": {
     "frozen": false,
     "read_only": false
    }
   },
   "outputs": [],
   "source": [
    "DONFABESame = dotObj_nfa(nfaBESame)"
   ]
  },
  {
   "cell_type": "code",
   "execution_count": null,
   "metadata": {
    "run_control": {
     "frozen": false,
     "read_only": false
    }
   },
   "outputs": [],
   "source": [
    "DONFABESame"
   ]
  },
  {
   "cell_type": "code",
   "execution_count": null,
   "metadata": {
    "run_control": {
     "frozen": false,
     "read_only": false
    }
   },
   "outputs": [],
   "source": [
    "dotObj_dfa(nfa2dfa(nfaBESame))"
   ]
  },
  {
   "cell_type": "code",
   "execution_count": 62,
   "metadata": {
    "run_control": {
     "frozen": false,
     "read_only": false
    }
   },
   "outputs": [
    {
     "ename": "NameError",
     "evalue": "name 'nfaBESame' is not defined",
     "output_type": "error",
     "traceback": [
      "\u001b[0;31m---------------------------------------------------------------------------\u001b[0m",
      "\u001b[0;31mNameError\u001b[0m                                 Traceback (most recent call last)",
      "\u001b[0;32m<ipython-input-62-570657104a4c>\u001b[0m in \u001b[0;36m<module>\u001b[0;34m()\u001b[0m\n\u001b[0;32m----> 1\u001b[0;31m \u001b[0mdotObj_dfa\u001b[0m\u001b[0;34m(\u001b[0m\u001b[0mmin_dfa\u001b[0m\u001b[0;34m(\u001b[0m\u001b[0mnfa2dfa\u001b[0m\u001b[0;34m(\u001b[0m\u001b[0mnfaBESame\u001b[0m\u001b[0;34m)\u001b[0m\u001b[0;34m)\u001b[0m\u001b[0;34m)\u001b[0m\u001b[0;34m\u001b[0m\u001b[0m\n\u001b[0m",
      "\u001b[0;31mNameError\u001b[0m: name 'nfaBESame' is not defined"
     ]
    }
   ],
   "source": [
    "dotObj_dfa(min_dfa(nfa2dfa(nfaBESame)))"
   ]
  },
  {
   "cell_type": "code",
   "execution_count": 63,
   "metadata": {
    "run_control": {
     "frozen": false,
     "read_only": false
    }
   },
   "outputs": [],
   "source": [
    "blimp = md2mc('''\n",
    "DFA \n",
    "I1 : a -> F2\n",
    "I1 : b -> F3\n",
    "F2 : a -> S8\n",
    "F2 : b -> S5\n",
    "F3 : a -> S7\n",
    "F3 : b -> S4\n",
    "S4 : a | b -> F6\n",
    "S5 : a | b -> F6\n",
    "F6 : a | b -> F6\n",
    "S7 : a | b -> F6\n",
    "S8 : a -> F6\n",
    "S8 : b -> F9\n",
    "F9 : a -> F9\n",
    "F9 : b -> F6\n",
    "''')"
   ]
  },
  {
   "cell_type": "code",
   "execution_count": 64,
   "metadata": {
    "run_control": {
     "frozen": false,
     "read_only": false
    }
   },
   "outputs": [],
   "source": [
    "blimpnfa = apply_h_dfa(blimp, lambda x: 'a')"
   ]
  },
  {
   "cell_type": "code",
   "execution_count": 65,
   "metadata": {
    "run_control": {
     "frozen": false,
     "read_only": false
    }
   },
   "outputs": [
    {
     "data": {
      "image/svg+xml": [
       "<?xml version=\"1.0\" encoding=\"UTF-8\" standalone=\"no\"?>\n",
       "<!DOCTYPE svg PUBLIC \"-//W3C//DTD SVG 1.1//EN\"\n",
       " \"http://www.w3.org/Graphics/SVG/1.1/DTD/svg11.dtd\">\n",
       "<!-- Generated by graphviz version 2.38.0 (20140413.2041)\n",
       " -->\n",
       "<!-- Title: %3 Pages: 1 -->\n",
       "<svg width=\"524pt\" height=\"279pt\"\n",
       " viewBox=\"0.00 0.00 524.11 279.45\" xmlns=\"http://www.w3.org/2000/svg\" xmlns:xlink=\"http://www.w3.org/1999/xlink\">\n",
       "<g id=\"graph0\" class=\"graph\" transform=\"scale(1 1) rotate(0) translate(4 275.447)\">\n",
       "<title>%3</title>\n",
       "<polygon fill=\"white\" stroke=\"none\" points=\"-4,4 -4,-275.447 520.11,-275.447 520.11,4 -4,4\"/>\n",
       "<!-- EMPTY -->\n",
       "<g id=\"node1\" class=\"node\"><title>EMPTY</title>\n",
       "</g>\n",
       "<!-- I1 -->\n",
       "<g id=\"node6\" class=\"node\"><title>I1</title>\n",
       "<ellipse fill=\"none\" stroke=\"black\" cx=\"109\" cy=\"-98.4469\" rx=\"18\" ry=\"18\"/>\n",
       "<text text-anchor=\"middle\" x=\"109\" y=\"-94.2469\" font-family=\"Times,serif\" font-size=\"14.00\">I1</text>\n",
       "</g>\n",
       "<!-- EMPTY&#45;&gt;I1 -->\n",
       "<g id=\"edge1\" class=\"edge\"><title>EMPTY&#45;&gt;I1</title>\n",
       "<path fill=\"none\" stroke=\"black\" d=\"M54.195,-98.4469C62.6538,-98.4469 72.0513,-98.4469 80.5951,-98.4469\"/>\n",
       "<polygon fill=\"black\" stroke=\"black\" points=\"80.8257,-101.947 90.8257,-98.4469 80.8257,-94.947 80.8257,-101.947\"/>\n",
       "</g>\n",
       "<!-- S4 -->\n",
       "<g id=\"node2\" class=\"node\"><title>S4</title>\n",
       "<ellipse fill=\"none\" stroke=\"black\" cx=\"403.556\" cy=\"-76.4469\" rx=\"19.3939\" ry=\"19.3939\"/>\n",
       "<text text-anchor=\"middle\" x=\"403.556\" y=\"-72.2469\" font-family=\"Times,serif\" font-size=\"14.00\">S4</text>\n",
       "</g>\n",
       "<!-- F6 -->\n",
       "<g id=\"node7\" class=\"node\"><title>F6</title>\n",
       "<ellipse fill=\"none\" stroke=\"black\" cx=\"492.663\" cy=\"-131.447\" rx=\"19.4029\" ry=\"19.4029\"/>\n",
       "<ellipse fill=\"none\" stroke=\"black\" cx=\"492.663\" cy=\"-131.447\" rx=\"23.3939\" ry=\"23.3939\"/>\n",
       "<text text-anchor=\"middle\" x=\"492.663\" y=\"-127.247\" font-family=\"Times,serif\" font-size=\"14.00\">F6</text>\n",
       "</g>\n",
       "<!-- S4&#45;&gt;F6 -->\n",
       "<g id=\"edge8\" class=\"edge\"><title>S4&#45;&gt;F6</title>\n",
       "<path fill=\"none\" stroke=\"black\" d=\"M421.162,-85.623C430.161,-90.7038 441.415,-97.2327 451.217,-103.447 455.612,-106.234 460.207,-109.28 464.657,-112.305\"/>\n",
       "<polygon fill=\"black\" stroke=\"black\" points=\"462.726,-115.225 472.945,-118.021 466.7,-109.462 462.726,-115.225\"/>\n",
       "<text text-anchor=\"middle\" x=\"448.11\" y=\"-106.247\" font-family=\"Times,serif\" font-size=\"14.00\">a</text>\n",
       "</g>\n",
       "<!-- S7 -->\n",
       "<g id=\"node3\" class=\"node\"><title>S7</title>\n",
       "<ellipse fill=\"none\" stroke=\"black\" cx=\"403.556\" cy=\"-19.4469\" rx=\"19.3939\" ry=\"19.3939\"/>\n",
       "<text text-anchor=\"middle\" x=\"403.556\" y=\"-15.2469\" font-family=\"Times,serif\" font-size=\"14.00\">S7</text>\n",
       "</g>\n",
       "<!-- S7&#45;&gt;F6 -->\n",
       "<g id=\"edge11\" class=\"edge\"><title>S7&#45;&gt;F6</title>\n",
       "<path fill=\"none\" stroke=\"black\" d=\"M416.304,-34.5517C430.386,-52.659 454.224,-83.3091 471.321,-105.291\"/>\n",
       "<polygon fill=\"black\" stroke=\"black\" points=\"468.607,-107.503 477.509,-113.248 474.133,-103.205 468.607,-107.503\"/>\n",
       "<text text-anchor=\"middle\" x=\"448.11\" y=\"-82.2469\" font-family=\"Times,serif\" font-size=\"14.00\">a</text>\n",
       "</g>\n",
       "<!-- S8 -->\n",
       "<g id=\"node4\" class=\"node\"><title>S8</title>\n",
       "<ellipse fill=\"none\" stroke=\"black\" cx=\"281.768\" cy=\"-186.447\" rx=\"19.3939\" ry=\"19.3939\"/>\n",
       "<text text-anchor=\"middle\" x=\"281.768\" y=\"-182.247\" font-family=\"Times,serif\" font-size=\"14.00\">S8</text>\n",
       "</g>\n",
       "<!-- S8&#45;&gt;F6 -->\n",
       "<g id=\"edge13\" class=\"edge\"><title>S8&#45;&gt;F6</title>\n",
       "<path fill=\"none\" stroke=\"black\" d=\"M295.613,-200.268C321.435,-226.326 381.088,-277.753 427.003,-250.447 458.14,-231.929 475.219,-192.594 483.883,-164.209\"/>\n",
       "<polygon fill=\"black\" stroke=\"black\" points=\"487.331,-164.882 486.705,-154.306 480.599,-162.964 487.331,-164.882\"/>\n",
       "<text text-anchor=\"middle\" x=\"403.556\" y=\"-260.247\" font-family=\"Times,serif\" font-size=\"14.00\">a</text>\n",
       "</g>\n",
       "<!-- F9 -->\n",
       "<g id=\"node9\" class=\"node\"><title>F9</title>\n",
       "<ellipse fill=\"none\" stroke=\"black\" cx=\"403.556\" cy=\"-186.447\" rx=\"19.4029\" ry=\"19.4029\"/>\n",
       "<ellipse fill=\"none\" stroke=\"black\" cx=\"403.556\" cy=\"-186.447\" rx=\"23.3939\" ry=\"23.3939\"/>\n",
       "<text text-anchor=\"middle\" x=\"403.556\" y=\"-182.247\" font-family=\"Times,serif\" font-size=\"14.00\">F9</text>\n",
       "</g>\n",
       "<!-- S8&#45;&gt;F9 -->\n",
       "<g id=\"edge12\" class=\"edge\"><title>S8&#45;&gt;F9</title>\n",
       "<path fill=\"none\" stroke=\"black\" d=\"M301.223,-186.447C319.383,-186.447 347.513,-186.447 369.532,-186.447\"/>\n",
       "<polygon fill=\"black\" stroke=\"black\" points=\"369.779,-189.947 379.779,-186.447 369.779,-182.947 369.779,-189.947\"/>\n",
       "<text text-anchor=\"middle\" x=\"342.662\" y=\"-189.247\" font-family=\"Times,serif\" font-size=\"14.00\">a</text>\n",
       "</g>\n",
       "<!-- S5 -->\n",
       "<g id=\"node5\" class=\"node\"><title>S5</title>\n",
       "<ellipse fill=\"none\" stroke=\"black\" cx=\"342.662\" cy=\"-131.447\" rx=\"19.3939\" ry=\"19.3939\"/>\n",
       "<text text-anchor=\"middle\" x=\"342.662\" y=\"-127.247\" font-family=\"Times,serif\" font-size=\"14.00\">S5</text>\n",
       "</g>\n",
       "<!-- S5&#45;&gt;F6 -->\n",
       "<g id=\"edge9\" class=\"edge\"><title>S5&#45;&gt;F6</title>\n",
       "<path fill=\"none\" stroke=\"black\" d=\"M362.407,-131.447C386.653,-131.447 429.287,-131.447 458.932,-131.447\"/>\n",
       "<polygon fill=\"black\" stroke=\"black\" points=\"459.208,-134.947 469.208,-131.447 459.208,-127.947 459.208,-134.947\"/>\n",
       "<text text-anchor=\"middle\" x=\"403.556\" y=\"-134.247\" font-family=\"Times,serif\" font-size=\"14.00\">a</text>\n",
       "</g>\n",
       "<!-- F2 -->\n",
       "<g id=\"node8\" class=\"node\"><title>F2</title>\n",
       "<ellipse fill=\"none\" stroke=\"black\" cx=\"192.661\" cy=\"-131.447\" rx=\"19.4029\" ry=\"19.4029\"/>\n",
       "<ellipse fill=\"none\" stroke=\"black\" cx=\"192.661\" cy=\"-131.447\" rx=\"23.3939\" ry=\"23.3939\"/>\n",
       "<text text-anchor=\"middle\" x=\"192.661\" y=\"-127.247\" font-family=\"Times,serif\" font-size=\"14.00\">F2</text>\n",
       "</g>\n",
       "<!-- I1&#45;&gt;F2 -->\n",
       "<g id=\"edge2\" class=\"edge\"><title>I1&#45;&gt;F2</title>\n",
       "<path fill=\"none\" stroke=\"black\" d=\"M126.134,-104.967C136.083,-108.987 149.168,-114.275 161.026,-119.067\"/>\n",
       "<polygon fill=\"black\" stroke=\"black\" points=\"160.02,-122.435 170.603,-122.937 162.643,-115.945 160.02,-122.435\"/>\n",
       "<text text-anchor=\"middle\" x=\"148.107\" y=\"-118.247\" font-family=\"Times,serif\" font-size=\"14.00\">a</text>\n",
       "</g>\n",
       "<!-- F3 -->\n",
       "<g id=\"node10\" class=\"node\"><title>F3</title>\n",
       "<ellipse fill=\"none\" stroke=\"black\" cx=\"281.768\" cy=\"-76.4469\" rx=\"19.4029\" ry=\"19.4029\"/>\n",
       "<ellipse fill=\"none\" stroke=\"black\" cx=\"281.768\" cy=\"-76.4469\" rx=\"23.3939\" ry=\"23.3939\"/>\n",
       "<text text-anchor=\"middle\" x=\"281.768\" y=\"-72.2469\" font-family=\"Times,serif\" font-size=\"14.00\">F3</text>\n",
       "</g>\n",
       "<!-- I1&#45;&gt;F3 -->\n",
       "<g id=\"edge3\" class=\"edge\"><title>I1&#45;&gt;F3</title>\n",
       "<path fill=\"none\" stroke=\"black\" d=\"M126.733,-94.1373C138.531,-91.2555 154.745,-87.6087 169.214,-85.4469 195.472,-81.5238 225.48,-79.2246 247.755,-77.9334\"/>\n",
       "<polygon fill=\"black\" stroke=\"black\" points=\"248.222,-81.4134 258.018,-77.3779 247.843,-74.4236 248.222,-81.4134\"/>\n",
       "<text text-anchor=\"middle\" x=\"192.661\" y=\"-88.2469\" font-family=\"Times,serif\" font-size=\"14.00\">a</text>\n",
       "</g>\n",
       "<!-- F6&#45;&gt;F6 -->\n",
       "<g id=\"edge10\" class=\"edge\"><title>F6&#45;&gt;F6</title>\n",
       "<path fill=\"none\" stroke=\"black\" d=\"M484.577,-153.62C483.694,-163.906 486.39,-172.894 492.663,-172.894 496.682,-172.894 499.233,-169.205 500.315,-163.85\"/>\n",
       "<polygon fill=\"black\" stroke=\"black\" points=\"503.822,-163.76 500.75,-153.62 496.828,-163.463 503.822,-163.76\"/>\n",
       "<text text-anchor=\"middle\" x=\"492.663\" y=\"-175.694\" font-family=\"Times,serif\" font-size=\"14.00\">a</text>\n",
       "</g>\n",
       "<!-- F2&#45;&gt;S8 -->\n",
       "<g id=\"edge4\" class=\"edge\"><title>F2&#45;&gt;S8</title>\n",
       "<path fill=\"none\" stroke=\"black\" d=\"M212.993,-143.653C225.821,-151.753 242.76,-162.448 256.494,-171.12\"/>\n",
       "<polygon fill=\"black\" stroke=\"black\" points=\"254.657,-174.099 264.981,-176.479 258.394,-168.18 254.657,-174.099\"/>\n",
       "<text text-anchor=\"middle\" x=\"237.215\" y=\"-164.247\" font-family=\"Times,serif\" font-size=\"14.00\">a</text>\n",
       "</g>\n",
       "<!-- F2&#45;&gt;S5 -->\n",
       "<g id=\"edge5\" class=\"edge\"><title>F2&#45;&gt;S5</title>\n",
       "<path fill=\"none\" stroke=\"black\" d=\"M216.139,-131.447C242.096,-131.447 284.843,-131.447 313.125,-131.447\"/>\n",
       "<polygon fill=\"black\" stroke=\"black\" points=\"313.191,-134.947 323.191,-131.447 313.191,-127.947 313.191,-134.947\"/>\n",
       "<text text-anchor=\"middle\" x=\"237.215\" y=\"-134.247\" font-family=\"Times,serif\" font-size=\"14.00\">a</text>\n",
       "</g>\n",
       "<!-- F9&#45;&gt;F6 -->\n",
       "<g id=\"edge15\" class=\"edge\"><title>F9&#45;&gt;F6</title>\n",
       "<path fill=\"none\" stroke=\"black\" d=\"M423.888,-174.241C435.616,-166.835 450.781,-157.26 463.791,-149.045\"/>\n",
       "<polygon fill=\"black\" stroke=\"black\" points=\"465.798,-151.917 472.385,-143.619 462.061,-145.998 465.798,-151.917\"/>\n",
       "<text text-anchor=\"middle\" x=\"448.11\" y=\"-164.247\" font-family=\"Times,serif\" font-size=\"14.00\">a</text>\n",
       "</g>\n",
       "<!-- F9&#45;&gt;F9 -->\n",
       "<g id=\"edge14\" class=\"edge\"><title>F9&#45;&gt;F9</title>\n",
       "<path fill=\"none\" stroke=\"black\" d=\"M395.469,-208.62C394.587,-218.906 397.282,-227.894 403.556,-227.894 407.575,-227.894 410.125,-224.205 411.208,-218.85\"/>\n",
       "<polygon fill=\"black\" stroke=\"black\" points=\"414.714,-218.76 411.643,-208.62 407.721,-218.463 414.714,-218.76\"/>\n",
       "<text text-anchor=\"middle\" x=\"403.556\" y=\"-230.694\" font-family=\"Times,serif\" font-size=\"14.00\">a</text>\n",
       "</g>\n",
       "<!-- F3&#45;&gt;S4 -->\n",
       "<g id=\"edge7\" class=\"edge\"><title>F3&#45;&gt;S4</title>\n",
       "<path fill=\"none\" stroke=\"black\" d=\"M305.299,-76.4469C324.691,-76.4469 352.782,-76.4469 373.794,-76.4469\"/>\n",
       "<polygon fill=\"black\" stroke=\"black\" points=\"374.052,-79.947 384.052,-76.4469 374.052,-72.947 374.052,-79.947\"/>\n",
       "<text text-anchor=\"middle\" x=\"342.662\" y=\"-79.2469\" font-family=\"Times,serif\" font-size=\"14.00\">a</text>\n",
       "</g>\n",
       "<!-- F3&#45;&gt;S7 -->\n",
       "<g id=\"edge6\" class=\"edge\"><title>F3&#45;&gt;S7</title>\n",
       "<path fill=\"none\" stroke=\"black\" d=\"M303.361,-66.6482C323.638,-56.9991 354.677,-42.2296 376.626,-31.7854\"/>\n",
       "<polygon fill=\"black\" stroke=\"black\" points=\"378.183,-34.9208 385.709,-27.4635 375.175,-28.5999 378.183,-34.9208\"/>\n",
       "<text text-anchor=\"middle\" x=\"342.662\" y=\"-59.2469\" font-family=\"Times,serif\" font-size=\"14.00\">a</text>\n",
       "</g>\n",
       "</g>\n",
       "</svg>\n"
      ],
      "text/plain": [
       "<graphviz.dot.Digraph at 0x10d247ba8>"
      ]
     },
     "execution_count": 65,
     "metadata": {},
     "output_type": "execute_result"
    }
   ],
   "source": [
    "dotObj_nfa(blimpnfa)"
   ]
  },
  {
   "cell_type": "code",
   "execution_count": 66,
   "metadata": {
    "run_control": {
     "frozen": false,
     "read_only": false
    }
   },
   "outputs": [
    {
     "data": {
      "image/svg+xml": [
       "<?xml version=\"1.0\" encoding=\"UTF-8\" standalone=\"no\"?>\n",
       "<!DOCTYPE svg PUBLIC \"-//W3C//DTD SVG 1.1//EN\"\n",
       " \"http://www.w3.org/Graphics/SVG/1.1/DTD/svg11.dtd\">\n",
       "<!-- Generated by graphviz version 2.38.0 (20140413.2041)\n",
       " -->\n",
       "<!-- Title: %3 Pages: 1 -->\n",
       "<svg width=\"417pt\" height=\"92pt\"\n",
       " viewBox=\"0.00 0.00 416.87 91.81\" xmlns=\"http://www.w3.org/2000/svg\" xmlns:xlink=\"http://www.w3.org/1999/xlink\">\n",
       "<g id=\"graph0\" class=\"graph\" transform=\"scale(1 1) rotate(0) translate(4 87.8077)\">\n",
       "<title>%3</title>\n",
       "<polygon fill=\"white\" stroke=\"none\" points=\"-4,4 -4,-87.8077 412.873,-87.8077 412.873,4 -4,4\"/>\n",
       "<!-- EMPTY -->\n",
       "<g id=\"node1\" class=\"node\"><title>EMPTY</title>\n",
       "</g>\n",
       "<!-- St2 -->\n",
       "<g id=\"node2\" class=\"node\"><title>St2</title>\n",
       "<ellipse fill=\"none\" stroke=\"black\" cx=\"112.904\" cy=\"-25.9039\" rx=\"21.8081\" ry=\"21.8081\"/>\n",
       "<text text-anchor=\"middle\" x=\"112.904\" y=\"-21.7039\" font-family=\"Times,serif\" font-size=\"14.00\">St2</text>\n",
       "</g>\n",
       "<!-- EMPTY&#45;&gt;St2 -->\n",
       "<g id=\"edge1\" class=\"edge\"><title>EMPTY&#45;&gt;St2</title>\n",
       "<path fill=\"none\" stroke=\"black\" d=\"M54.0878,-25.9039C62.501,-25.9039 71.9126,-25.9039 80.6587,-25.9039\"/>\n",
       "<polygon fill=\"black\" stroke=\"black\" points=\"80.8854,-29.404 90.8853,-25.9039 80.8853,-22.404 80.8854,-29.404\"/>\n",
       "</g>\n",
       "<!-- St0 -->\n",
       "<g id=\"node4\" class=\"node\"><title>St0</title>\n",
       "<ellipse fill=\"none\" stroke=\"black\" cx=\"202.925\" cy=\"-25.9039\" rx=\"21.8229\" ry=\"21.8229\"/>\n",
       "<ellipse fill=\"none\" stroke=\"black\" cx=\"202.925\" cy=\"-25.9039\" rx=\"25.8081\" ry=\"25.8081\"/>\n",
       "<text text-anchor=\"middle\" x=\"202.925\" y=\"-21.7039\" font-family=\"Times,serif\" font-size=\"14.00\">St0</text>\n",
       "</g>\n",
       "<!-- St2&#45;&gt;St0 -->\n",
       "<g id=\"edge2\" class=\"edge\"><title>St2&#45;&gt;St0</title>\n",
       "<path fill=\"none\" stroke=\"black\" d=\"M135.211,-25.9039C144.599,-25.9039 155.884,-25.9039 166.479,-25.9039\"/>\n",
       "<polygon fill=\"black\" stroke=\"black\" points=\"166.75,-29.404 176.75,-25.9039 166.75,-22.404 166.75,-29.404\"/>\n",
       "<text text-anchor=\"middle\" x=\"155.915\" y=\"-28.7039\" font-family=\"Times,serif\" font-size=\"14.00\">a</text>\n",
       "</g>\n",
       "<!-- St3 -->\n",
       "<g id=\"node3\" class=\"node\"><title>St3</title>\n",
       "<ellipse fill=\"none\" stroke=\"black\" cx=\"292.947\" cy=\"-25.9039\" rx=\"21.8081\" ry=\"21.8081\"/>\n",
       "<text text-anchor=\"middle\" x=\"292.947\" y=\"-21.7039\" font-family=\"Times,serif\" font-size=\"14.00\">St3</text>\n",
       "</g>\n",
       "<!-- St1 -->\n",
       "<g id=\"node5\" class=\"node\"><title>St1</title>\n",
       "<ellipse fill=\"none\" stroke=\"black\" cx=\"382.969\" cy=\"-25.9039\" rx=\"21.8229\" ry=\"21.8229\"/>\n",
       "<ellipse fill=\"none\" stroke=\"black\" cx=\"382.969\" cy=\"-25.9039\" rx=\"25.8081\" ry=\"25.8081\"/>\n",
       "<text text-anchor=\"middle\" x=\"382.969\" y=\"-21.7039\" font-family=\"Times,serif\" font-size=\"14.00\">St1</text>\n",
       "</g>\n",
       "<!-- St3&#45;&gt;St1 -->\n",
       "<g id=\"edge4\" class=\"edge\"><title>St3&#45;&gt;St1</title>\n",
       "<path fill=\"none\" stroke=\"black\" d=\"M315.255,-25.9039C324.642,-25.9039 335.927,-25.9039 346.523,-25.9039\"/>\n",
       "<polygon fill=\"black\" stroke=\"black\" points=\"346.793,-29.404 356.793,-25.9039 346.793,-22.404 346.793,-29.404\"/>\n",
       "<text text-anchor=\"middle\" x=\"335.958\" y=\"-28.7039\" font-family=\"Times,serif\" font-size=\"14.00\">a</text>\n",
       "</g>\n",
       "<!-- St0&#45;&gt;St3 -->\n",
       "<g id=\"edge3\" class=\"edge\"><title>St0&#45;&gt;St3</title>\n",
       "<path fill=\"none\" stroke=\"black\" d=\"M228.913,-25.9039C238.721,-25.9039 250.09,-25.9039 260.45,-25.9039\"/>\n",
       "<polygon fill=\"black\" stroke=\"black\" points=\"260.773,-29.404 270.773,-25.9039 260.773,-22.404 260.773,-29.404\"/>\n",
       "<text text-anchor=\"middle\" x=\"249.936\" y=\"-28.7039\" font-family=\"Times,serif\" font-size=\"14.00\">a</text>\n",
       "</g>\n",
       "<!-- St1&#45;&gt;St1 -->\n",
       "<g id=\"edge5\" class=\"edge\"><title>St1&#45;&gt;St1</title>\n",
       "<path fill=\"none\" stroke=\"black\" d=\"M374.419,-50.7276C373.83,-61.0541 376.68,-69.8077 382.969,-69.8077 386.998,-69.8077 389.615,-66.2152 390.821,-60.9182\"/>\n",
       "<polygon fill=\"black\" stroke=\"black\" points=\"394.327,-60.9431 391.518,-50.7276 387.344,-60.4654 394.327,-60.9431\"/>\n",
       "<text text-anchor=\"middle\" x=\"382.969\" y=\"-72.6077\" font-family=\"Times,serif\" font-size=\"14.00\">a</text>\n",
       "</g>\n",
       "</g>\n",
       "</svg>\n"
      ],
      "text/plain": [
       "<graphviz.dot.Digraph at 0x10d268908>"
      ]
     },
     "execution_count": 66,
     "metadata": {},
     "output_type": "execute_result"
    }
   ],
   "source": [
    "dotObj_dfa(nfa2dfa(blimpnfa))"
   ]
  },
  {
   "cell_type": "code",
   "execution_count": 67,
   "metadata": {
    "run_control": {
     "frozen": false,
     "read_only": false
    }
   },
   "outputs": [
    {
     "data": {
      "image/svg+xml": [
       "<?xml version=\"1.0\" encoding=\"UTF-8\" standalone=\"no\"?>\n",
       "<!DOCTYPE svg PUBLIC \"-//W3C//DTD SVG 1.1//EN\"\n",
       " \"http://www.w3.org/Graphics/SVG/1.1/DTD/svg11.dtd\">\n",
       "<!-- Generated by graphviz version 2.38.0 (20140413.2041)\n",
       " -->\n",
       "<!-- Title: %3 Pages: 1 -->\n",
       "<svg width=\"417pt\" height=\"92pt\"\n",
       " viewBox=\"0.00 0.00 416.87 91.81\" xmlns=\"http://www.w3.org/2000/svg\" xmlns:xlink=\"http://www.w3.org/1999/xlink\">\n",
       "<g id=\"graph0\" class=\"graph\" transform=\"scale(1 1) rotate(0) translate(4 87.8077)\">\n",
       "<title>%3</title>\n",
       "<polygon fill=\"white\" stroke=\"none\" points=\"-4,4 -4,-87.8077 412.873,-87.8077 412.873,4 -4,4\"/>\n",
       "<!-- EMPTY -->\n",
       "<g id=\"node1\" class=\"node\"><title>EMPTY</title>\n",
       "</g>\n",
       "<!-- St2 -->\n",
       "<g id=\"node3\" class=\"node\"><title>St2</title>\n",
       "<ellipse fill=\"none\" stroke=\"black\" cx=\"112.904\" cy=\"-25.9039\" rx=\"21.8081\" ry=\"21.8081\"/>\n",
       "<text text-anchor=\"middle\" x=\"112.904\" y=\"-21.7039\" font-family=\"Times,serif\" font-size=\"14.00\">St2</text>\n",
       "</g>\n",
       "<!-- EMPTY&#45;&gt;St2 -->\n",
       "<g id=\"edge1\" class=\"edge\"><title>EMPTY&#45;&gt;St2</title>\n",
       "<path fill=\"none\" stroke=\"black\" d=\"M54.0878,-25.9039C62.501,-25.9039 71.9126,-25.9039 80.6587,-25.9039\"/>\n",
       "<polygon fill=\"black\" stroke=\"black\" points=\"80.8854,-29.404 90.8853,-25.9039 80.8853,-22.404 80.8854,-29.404\"/>\n",
       "</g>\n",
       "<!-- St3 -->\n",
       "<g id=\"node2\" class=\"node\"><title>St3</title>\n",
       "<ellipse fill=\"none\" stroke=\"black\" cx=\"292.947\" cy=\"-25.9039\" rx=\"21.8081\" ry=\"21.8081\"/>\n",
       "<text text-anchor=\"middle\" x=\"292.947\" y=\"-21.7039\" font-family=\"Times,serif\" font-size=\"14.00\">St3</text>\n",
       "</g>\n",
       "<!-- St1 -->\n",
       "<g id=\"node5\" class=\"node\"><title>St1</title>\n",
       "<ellipse fill=\"none\" stroke=\"black\" cx=\"382.969\" cy=\"-25.9039\" rx=\"21.8229\" ry=\"21.8229\"/>\n",
       "<ellipse fill=\"none\" stroke=\"black\" cx=\"382.969\" cy=\"-25.9039\" rx=\"25.8081\" ry=\"25.8081\"/>\n",
       "<text text-anchor=\"middle\" x=\"382.969\" y=\"-21.7039\" font-family=\"Times,serif\" font-size=\"14.00\">St1</text>\n",
       "</g>\n",
       "<!-- St3&#45;&gt;St1 -->\n",
       "<g id=\"edge4\" class=\"edge\"><title>St3&#45;&gt;St1</title>\n",
       "<path fill=\"none\" stroke=\"black\" d=\"M315.255,-25.9039C324.642,-25.9039 335.927,-25.9039 346.523,-25.9039\"/>\n",
       "<polygon fill=\"black\" stroke=\"black\" points=\"346.793,-29.404 356.793,-25.9039 346.793,-22.404 346.793,-29.404\"/>\n",
       "<text text-anchor=\"middle\" x=\"335.958\" y=\"-28.7039\" font-family=\"Times,serif\" font-size=\"14.00\">a</text>\n",
       "</g>\n",
       "<!-- St0 -->\n",
       "<g id=\"node4\" class=\"node\"><title>St0</title>\n",
       "<ellipse fill=\"none\" stroke=\"black\" cx=\"202.925\" cy=\"-25.9039\" rx=\"21.8229\" ry=\"21.8229\"/>\n",
       "<ellipse fill=\"none\" stroke=\"black\" cx=\"202.925\" cy=\"-25.9039\" rx=\"25.8081\" ry=\"25.8081\"/>\n",
       "<text text-anchor=\"middle\" x=\"202.925\" y=\"-21.7039\" font-family=\"Times,serif\" font-size=\"14.00\">St0</text>\n",
       "</g>\n",
       "<!-- St2&#45;&gt;St0 -->\n",
       "<g id=\"edge2\" class=\"edge\"><title>St2&#45;&gt;St0</title>\n",
       "<path fill=\"none\" stroke=\"black\" d=\"M135.211,-25.9039C144.599,-25.9039 155.884,-25.9039 166.479,-25.9039\"/>\n",
       "<polygon fill=\"black\" stroke=\"black\" points=\"166.75,-29.404 176.75,-25.9039 166.75,-22.404 166.75,-29.404\"/>\n",
       "<text text-anchor=\"middle\" x=\"155.915\" y=\"-28.7039\" font-family=\"Times,serif\" font-size=\"14.00\">a</text>\n",
       "</g>\n",
       "<!-- St0&#45;&gt;St3 -->\n",
       "<g id=\"edge3\" class=\"edge\"><title>St0&#45;&gt;St3</title>\n",
       "<path fill=\"none\" stroke=\"black\" d=\"M228.913,-25.9039C238.721,-25.9039 250.09,-25.9039 260.45,-25.9039\"/>\n",
       "<polygon fill=\"black\" stroke=\"black\" points=\"260.773,-29.404 270.773,-25.9039 260.773,-22.404 260.773,-29.404\"/>\n",
       "<text text-anchor=\"middle\" x=\"249.936\" y=\"-28.7039\" font-family=\"Times,serif\" font-size=\"14.00\">a</text>\n",
       "</g>\n",
       "<!-- St1&#45;&gt;St1 -->\n",
       "<g id=\"edge5\" class=\"edge\"><title>St1&#45;&gt;St1</title>\n",
       "<path fill=\"none\" stroke=\"black\" d=\"M374.419,-50.7276C373.83,-61.0541 376.68,-69.8077 382.969,-69.8077 386.998,-69.8077 389.615,-66.2152 390.821,-60.9182\"/>\n",
       "<polygon fill=\"black\" stroke=\"black\" points=\"394.327,-60.9431 391.518,-50.7276 387.344,-60.4654 394.327,-60.9431\"/>\n",
       "<text text-anchor=\"middle\" x=\"382.969\" y=\"-72.6077\" font-family=\"Times,serif\" font-size=\"14.00\">a</text>\n",
       "</g>\n",
       "</g>\n",
       "</svg>\n"
      ],
      "text/plain": [
       "<graphviz.dot.Digraph at 0x10d268898>"
      ]
     },
     "execution_count": 67,
     "metadata": {},
     "output_type": "execute_result"
    }
   ],
   "source": [
    "dotObj_dfa(min_dfa(nfa2dfa(blimpnfa)))"
   ]
  },
  {
   "cell_type": "code",
   "execution_count": 68,
   "metadata": {
    "run_control": {
     "frozen": false,
     "read_only": false
    }
   },
   "outputs": [],
   "source": [
    "testdfa = md2mc('''DFA\n",
    "I : 0 | 1 -> I\n",
    "I : 2 -> F\n",
    "''')"
   ]
  },
  {
   "cell_type": "code",
   "execution_count": 69,
   "metadata": {
    "run_control": {
     "frozen": false,
     "read_only": false
    }
   },
   "outputs": [
    {
     "data": {
      "image/svg+xml": [
       "<?xml version=\"1.0\" encoding=\"UTF-8\" standalone=\"no\"?>\n",
       "<!DOCTYPE svg PUBLIC \"-//W3C//DTD SVG 1.1//EN\"\n",
       " \"http://www.w3.org/Graphics/SVG/1.1/DTD/svg11.dtd\">\n",
       "<!-- Generated by graphviz version 2.38.0 (20140413.2041)\n",
       " -->\n",
       "<!-- Title: %3 Pages: 1 -->\n",
       "<svg width=\"222pt\" height=\"112pt\"\n",
       " viewBox=\"0.00 0.00 222.00 112.00\" xmlns=\"http://www.w3.org/2000/svg\" xmlns:xlink=\"http://www.w3.org/1999/xlink\">\n",
       "<g id=\"graph0\" class=\"graph\" transform=\"scale(1 1) rotate(0) translate(4 108)\">\n",
       "<title>%3</title>\n",
       "<polygon fill=\"white\" stroke=\"none\" points=\"-4,4 -4,-108 218,-108 218,4 -4,4\"/>\n",
       "<!-- EMPTY -->\n",
       "<g id=\"node1\" class=\"node\"><title>EMPTY</title>\n",
       "</g>\n",
       "<!-- I -->\n",
       "<g id=\"node2\" class=\"node\"><title>I</title>\n",
       "<ellipse fill=\"none\" stroke=\"black\" cx=\"109\" cy=\"-22\" rx=\"18\" ry=\"18\"/>\n",
       "<text text-anchor=\"middle\" x=\"109\" y=\"-17.8\" font-family=\"Times,serif\" font-size=\"14.00\">I</text>\n",
       "</g>\n",
       "<!-- EMPTY&#45;&gt;I -->\n",
       "<g id=\"edge1\" class=\"edge\"><title>EMPTY&#45;&gt;I</title>\n",
       "<path fill=\"none\" stroke=\"black\" d=\"M54.195,-22C62.6538,-22 72.0513,-22 80.5951,-22\"/>\n",
       "<polygon fill=\"black\" stroke=\"black\" points=\"80.8257,-25.5001 90.8257,-22 80.8257,-18.5001 80.8257,-25.5001\"/>\n",
       "</g>\n",
       "<!-- I&#45;&gt;I -->\n",
       "<g id=\"edge2\" class=\"edge\"><title>I&#45;&gt;I</title>\n",
       "<path fill=\"none\" stroke=\"black\" d=\"M105.764,-39.7817C105.214,-49.3149 106.293,-58 109,-58 110.65,-58 111.694,-54.7749 112.135,-50.0981\"/>\n",
       "<polygon fill=\"black\" stroke=\"black\" points=\"115.638,-49.8156 112.236,-39.7817 108.638,-49.7469 115.638,-49.8156\"/>\n",
       "<text text-anchor=\"middle\" x=\"109\" y=\"-60.8\" font-family=\"Times,serif\" font-size=\"14.00\">0</text>\n",
       "</g>\n",
       "<!-- I&#45;&gt;I -->\n",
       "<g id=\"edge3\" class=\"edge\"><title>I&#45;&gt;I</title>\n",
       "<path fill=\"none\" stroke=\"black\" d=\"M103.684,-39.4203C100.654,-56.791 102.426,-76 109,-76 114.29,-76 116.471,-63.5617 115.542,-49.652\"/>\n",
       "<polygon fill=\"black\" stroke=\"black\" points=\"118.981,-48.9328 114.316,-39.4203 112.031,-49.7657 118.981,-48.9328\"/>\n",
       "<text text-anchor=\"middle\" x=\"109\" y=\"-78.8\" font-family=\"Times,serif\" font-size=\"14.00\">1</text>\n",
       "</g>\n",
       "<!-- F -->\n",
       "<g id=\"node3\" class=\"node\"><title>F</title>\n",
       "<ellipse fill=\"none\" stroke=\"black\" cx=\"192\" cy=\"-22\" rx=\"18\" ry=\"18\"/>\n",
       "<ellipse fill=\"none\" stroke=\"black\" cx=\"192\" cy=\"-22\" rx=\"22\" ry=\"22\"/>\n",
       "<text text-anchor=\"middle\" x=\"192\" y=\"-17.8\" font-family=\"Times,serif\" font-size=\"14.00\">F</text>\n",
       "</g>\n",
       "<!-- I&#45;&gt;F -->\n",
       "<g id=\"edge4\" class=\"edge\"><title>I&#45;&gt;F</title>\n",
       "<path fill=\"none\" stroke=\"black\" d=\"M127.178,-22C136.61,-22 148.601,-22 159.637,-22\"/>\n",
       "<polygon fill=\"black\" stroke=\"black\" points=\"159.811,-25.5001 169.811,-22 159.811,-18.5001 159.811,-25.5001\"/>\n",
       "<text text-anchor=\"middle\" x=\"148.5\" y=\"-24.8\" font-family=\"Times,serif\" font-size=\"14.00\">2</text>\n",
       "</g>\n",
       "</g>\n",
       "</svg>\n"
      ],
      "text/plain": [
       "<graphviz.dot.Digraph at 0x10d253128>"
      ]
     },
     "execution_count": 69,
     "metadata": {},
     "output_type": "execute_result"
    }
   ],
   "source": [
    "dotObj_dfa_w_bh(testdfa)"
   ]
  },
  {
   "cell_type": "code",
   "execution_count": 70,
   "metadata": {
    "run_control": {
     "frozen": false,
     "read_only": false
    }
   },
   "outputs": [
    {
     "name": "stdout",
     "output_type": "stream",
     "text": [
      "Help on function dotObj_dfa_w_bh in module jove.DotBashers:\n",
      "\n",
      "dotObj_dfa_w_bh(D, FuseEdges=False, dfaName='do_', STATENAME_MAXSIZE=20)\n",
      "    In : D (DFA : partially consistent, states shrunk)\n",
      "         dfaName (string)\n",
      "         STATENAME_MAXSIZE : number\n",
      "    Out: A dot object. \n",
      "    Generate a dot object representing the automaton. \n",
      "    Do not suppress \"black-hole states\".\n",
      "\n"
     ]
    }
   ],
   "source": [
    "help(dotObj_dfa_w_bh)"
   ]
  },
  {
   "cell_type": "code",
   "execution_count": 71,
   "metadata": {
    "run_control": {
     "frozen": false,
     "read_only": false
    }
   },
   "outputs": [
    {
     "data": {
      "image/svg+xml": [
       "<?xml version=\"1.0\" encoding=\"UTF-8\" standalone=\"no\"?>\n",
       "<!DOCTYPE svg PUBLIC \"-//W3C//DTD SVG 1.1//EN\"\n",
       " \"http://www.w3.org/Graphics/SVG/1.1/DTD/svg11.dtd\">\n",
       "<!-- Generated by graphviz version 2.38.0 (20140413.2041)\n",
       " -->\n",
       "<!-- Title: %3 Pages: 1 -->\n",
       "<svg width=\"222pt\" height=\"94pt\"\n",
       " viewBox=\"0.00 0.00 222.00 94.00\" xmlns=\"http://www.w3.org/2000/svg\" xmlns:xlink=\"http://www.w3.org/1999/xlink\">\n",
       "<g id=\"graph0\" class=\"graph\" transform=\"scale(1 1) rotate(0) translate(4 90)\">\n",
       "<title>%3</title>\n",
       "<polygon fill=\"white\" stroke=\"none\" points=\"-4,4 -4,-90 218,-90 218,4 -4,4\"/>\n",
       "<!-- EMPTY -->\n",
       "<g id=\"node1\" class=\"node\"><title>EMPTY</title>\n",
       "</g>\n",
       "<!-- I -->\n",
       "<g id=\"node2\" class=\"node\"><title>I</title>\n",
       "<ellipse fill=\"none\" stroke=\"black\" cx=\"109\" cy=\"-22\" rx=\"18\" ry=\"18\"/>\n",
       "<text text-anchor=\"middle\" x=\"109\" y=\"-17.8\" font-family=\"Times,serif\" font-size=\"14.00\">I</text>\n",
       "</g>\n",
       "<!-- EMPTY&#45;&gt;I -->\n",
       "<g id=\"edge1\" class=\"edge\"><title>EMPTY&#45;&gt;I</title>\n",
       "<path fill=\"none\" stroke=\"black\" d=\"M54.195,-22C62.6538,-22 72.0513,-22 80.5951,-22\"/>\n",
       "<polygon fill=\"black\" stroke=\"black\" points=\"80.8257,-25.5001 90.8257,-22 80.8257,-18.5001 80.8257,-25.5001\"/>\n",
       "</g>\n",
       "<!-- I&#45;&gt;I -->\n",
       "<g id=\"edge2\" class=\"edge\"><title>I&#45;&gt;I</title>\n",
       "<path fill=\"none\" stroke=\"black\" d=\"M102.621,-39.0373C101.319,-48.8579 103.445,-58 109,-58 112.472,-58 114.604,-54.4289 115.398,-49.3529\"/>\n",
       "<polygon fill=\"black\" stroke=\"black\" points=\"118.897,-49.031 115.379,-39.0373 111.897,-49.0435 118.897,-49.031\"/>\n",
       "<text text-anchor=\"middle\" x=\"109\" y=\"-74.8\" font-family=\"Times,serif\" font-size=\"14.00\">0 </text>\n",
       "<text text-anchor=\"middle\" x=\"109\" y=\"-60.8\" font-family=\"Times,serif\" font-size=\"14.00\"> 1</text>\n",
       "</g>\n",
       "<!-- F -->\n",
       "<g id=\"node3\" class=\"node\"><title>F</title>\n",
       "<ellipse fill=\"none\" stroke=\"black\" cx=\"192\" cy=\"-22\" rx=\"18\" ry=\"18\"/>\n",
       "<ellipse fill=\"none\" stroke=\"black\" cx=\"192\" cy=\"-22\" rx=\"22\" ry=\"22\"/>\n",
       "<text text-anchor=\"middle\" x=\"192\" y=\"-17.8\" font-family=\"Times,serif\" font-size=\"14.00\">F</text>\n",
       "</g>\n",
       "<!-- I&#45;&gt;F -->\n",
       "<g id=\"edge3\" class=\"edge\"><title>I&#45;&gt;F</title>\n",
       "<path fill=\"none\" stroke=\"black\" d=\"M127.178,-22C136.61,-22 148.601,-22 159.637,-22\"/>\n",
       "<polygon fill=\"black\" stroke=\"black\" points=\"159.811,-25.5001 169.811,-22 159.811,-18.5001 159.811,-25.5001\"/>\n",
       "<text text-anchor=\"middle\" x=\"148.5\" y=\"-24.8\" font-family=\"Times,serif\" font-size=\"14.00\">2</text>\n",
       "</g>\n",
       "</g>\n",
       "</svg>\n"
      ],
      "text/plain": [
       "<graphviz.dot.Digraph at 0x10d2532e8>"
      ]
     },
     "execution_count": 71,
     "metadata": {},
     "output_type": "execute_result"
    }
   ],
   "source": [
    "dotObj_dfa(testdfa, FuseEdges=True)"
   ]
  },
  {
   "cell_type": "code",
   "execution_count": 72,
   "metadata": {
    "run_control": {
     "frozen": false,
     "read_only": false
    }
   },
   "outputs": [
    {
     "name": "stderr",
     "output_type": "stream",
     "text": [
      "Generating LALR tables\n"
     ]
    },
    {
     "data": {
      "image/svg+xml": [
       "<?xml version=\"1.0\" encoding=\"UTF-8\" standalone=\"no\"?>\n",
       "<!DOCTYPE svg PUBLIC \"-//W3C//DTD SVG 1.1//EN\"\n",
       " \"http://www.w3.org/Graphics/SVG/1.1/DTD/svg11.dtd\">\n",
       "<!-- Generated by graphviz version 2.38.0 (20140413.2041)\n",
       " -->\n",
       "<!-- Title: %3 Pages: 1 -->\n",
       "<svg width=\"912pt\" height=\"92pt\"\n",
       " viewBox=\"0.00 0.00 912.00 92.23\" xmlns=\"http://www.w3.org/2000/svg\" xmlns:xlink=\"http://www.w3.org/1999/xlink\">\n",
       "<g id=\"graph0\" class=\"graph\" transform=\"scale(1 1) rotate(0) translate(4 88.2295)\">\n",
       "<title>%3</title>\n",
       "<polygon fill=\"white\" stroke=\"none\" points=\"-4,4 -4,-88.2295 907.996,-88.2295 907.996,4 -4,4\"/>\n",
       "<!-- EMPTY -->\n",
       "<g id=\"node1\" class=\"node\"><title>EMPTY</title>\n",
       "</g>\n",
       "<!-- St9 -->\n",
       "<g id=\"node10\" class=\"node\"><title>St9</title>\n",
       "<ellipse fill=\"none\" stroke=\"black\" cx=\"116.904\" cy=\"-26.3256\" rx=\"21.8229\" ry=\"21.8229\"/>\n",
       "<ellipse fill=\"none\" stroke=\"black\" cx=\"116.904\" cy=\"-26.3256\" rx=\"25.8081\" ry=\"25.8081\"/>\n",
       "<text text-anchor=\"middle\" x=\"116.904\" y=\"-22.1256\" font-family=\"Times,serif\" font-size=\"14.00\">St9</text>\n",
       "</g>\n",
       "<!-- EMPTY&#45;&gt;St9 -->\n",
       "<g id=\"edge1\" class=\"edge\"><title>EMPTY&#45;&gt;St9</title>\n",
       "<path fill=\"none\" stroke=\"black\" d=\"M54.3741,-26.3256C62.6615,-26.3256 71.9472,-26.3256 80.7431,-26.3256\"/>\n",
       "<polygon fill=\"black\" stroke=\"black\" points=\"80.7546,-29.8257 90.7546,-26.3256 80.7546,-22.8257 80.7546,-29.8257\"/>\n",
       "</g>\n",
       "<!-- St11 -->\n",
       "<g id=\"node2\" class=\"node\"><title>St11</title>\n",
       "<ellipse fill=\"none\" stroke=\"black\" cx=\"307.461\" cy=\"-26.3256\" rx=\"26.0035\" ry=\"26.0035\"/>\n",
       "<text text-anchor=\"middle\" x=\"307.461\" y=\"-22.1256\" font-family=\"Times,serif\" font-size=\"14.00\">St11</text>\n",
       "</g>\n",
       "<!-- St8 -->\n",
       "<g id=\"node7\" class=\"node\"><title>St8</title>\n",
       "<ellipse fill=\"none\" stroke=\"black\" cx=\"402.366\" cy=\"-26.3256\" rx=\"21.8229\" ry=\"21.8229\"/>\n",
       "<ellipse fill=\"none\" stroke=\"black\" cx=\"402.366\" cy=\"-26.3256\" rx=\"25.8081\" ry=\"25.8081\"/>\n",
       "<text text-anchor=\"middle\" x=\"402.366\" y=\"-22.1256\" font-family=\"Times,serif\" font-size=\"14.00\">St8</text>\n",
       "</g>\n",
       "<!-- St11&#45;&gt;St8 -->\n",
       "<g id=\"edge4\" class=\"edge\"><title>St11&#45;&gt;St8</title>\n",
       "<path fill=\"none\" stroke=\"black\" d=\"M333.848,-26.3256C343.76,-26.3256 355.296,-26.3256 365.998,-26.3256\"/>\n",
       "<polygon fill=\"black\" stroke=\"black\" points=\"366.332,-29.8257 376.332,-26.3256 366.332,-22.8257 366.332,-29.8257\"/>\n",
       "<text text-anchor=\"middle\" x=\"354.962\" y=\"-29.1256\" font-family=\"Times,serif\" font-size=\"14.00\">1</text>\n",
       "</g>\n",
       "<!-- St13 -->\n",
       "<g id=\"node3\" class=\"node\"><title>St13</title>\n",
       "<ellipse fill=\"none\" stroke=\"black\" cx=\"212.133\" cy=\"-26.3256\" rx=\"26.1523\" ry=\"26.1523\"/>\n",
       "<text text-anchor=\"middle\" x=\"212.133\" y=\"-22.1256\" font-family=\"Times,serif\" font-size=\"14.00\">St13</text>\n",
       "</g>\n",
       "<!-- St13&#45;&gt;St11 -->\n",
       "<g id=\"edge3\" class=\"edge\"><title>St13&#45;&gt;St11</title>\n",
       "<path fill=\"none\" stroke=\"black\" d=\"M238.635,-26.3256C248.697,-26.3256 260.423,-26.3256 271.268,-26.3256\"/>\n",
       "<polygon fill=\"black\" stroke=\"black\" points=\"271.313,-29.8257 281.313,-26.3256 271.312,-22.8257 271.313,-29.8257\"/>\n",
       "<text text-anchor=\"middle\" x=\"259.959\" y=\"-29.1256\" font-family=\"Times,serif\" font-size=\"14.00\">1</text>\n",
       "</g>\n",
       "<!-- St10 -->\n",
       "<g id=\"node4\" class=\"node\"><title>St10</title>\n",
       "<ellipse fill=\"none\" stroke=\"black\" cx=\"782.862\" cy=\"-26.3256\" rx=\"26.1523\" ry=\"26.1523\"/>\n",
       "<text text-anchor=\"middle\" x=\"782.862\" y=\"-22.1256\" font-family=\"Times,serif\" font-size=\"14.00\">St10</text>\n",
       "</g>\n",
       "<!-- St2 -->\n",
       "<g id=\"node6\" class=\"node\"><title>St2</title>\n",
       "<ellipse fill=\"none\" stroke=\"black\" cx=\"878.092\" cy=\"-26.3256\" rx=\"21.8229\" ry=\"21.8229\"/>\n",
       "<ellipse fill=\"none\" stroke=\"black\" cx=\"878.092\" cy=\"-26.3256\" rx=\"25.8081\" ry=\"25.8081\"/>\n",
       "<text text-anchor=\"middle\" x=\"878.092\" y=\"-22.1256\" font-family=\"Times,serif\" font-size=\"14.00\">St2</text>\n",
       "</g>\n",
       "<!-- St10&#45;&gt;St2 -->\n",
       "<g id=\"edge9\" class=\"edge\"><title>St10&#45;&gt;St2</title>\n",
       "<path fill=\"none\" stroke=\"black\" d=\"M809.338,-26.3256C819.388,-26.3256 831.102,-26.3256 841.936,-26.3256\"/>\n",
       "<polygon fill=\"black\" stroke=\"black\" points=\"841.97,-29.8257 851.97,-26.3256 841.97,-22.8257 841.97,-29.8257\"/>\n",
       "<text text-anchor=\"middle\" x=\"830.688\" y=\"-29.1256\" font-family=\"Times,serif\" font-size=\"14.00\">1</text>\n",
       "</g>\n",
       "<!-- St12 -->\n",
       "<g id=\"node5\" class=\"node\"><title>St12</title>\n",
       "<ellipse fill=\"none\" stroke=\"black\" cx=\"497.596\" cy=\"-26.3256\" rx=\"26.1523\" ry=\"26.1523\"/>\n",
       "<text text-anchor=\"middle\" x=\"497.596\" y=\"-22.1256\" font-family=\"Times,serif\" font-size=\"14.00\">St12</text>\n",
       "</g>\n",
       "<!-- St5 -->\n",
       "<g id=\"node8\" class=\"node\"><title>St5</title>\n",
       "<ellipse fill=\"none\" stroke=\"black\" cx=\"592.825\" cy=\"-26.3256\" rx=\"21.8229\" ry=\"21.8229\"/>\n",
       "<ellipse fill=\"none\" stroke=\"black\" cx=\"592.825\" cy=\"-26.3256\" rx=\"25.8081\" ry=\"25.8081\"/>\n",
       "<text text-anchor=\"middle\" x=\"592.825\" y=\"-22.1256\" font-family=\"Times,serif\" font-size=\"14.00\">St5</text>\n",
       "</g>\n",
       "<!-- St12&#45;&gt;St5 -->\n",
       "<g id=\"edge6\" class=\"edge\"><title>St12&#45;&gt;St5</title>\n",
       "<path fill=\"none\" stroke=\"black\" d=\"M524.071,-26.3256C534.122,-26.3256 545.836,-26.3256 556.669,-26.3256\"/>\n",
       "<polygon fill=\"black\" stroke=\"black\" points=\"556.703,-29.8257 566.703,-26.3256 556.703,-22.8257 556.703,-29.8257\"/>\n",
       "<text text-anchor=\"middle\" x=\"545.421\" y=\"-29.1256\" font-family=\"Times,serif\" font-size=\"14.00\">1</text>\n",
       "</g>\n",
       "<!-- St2&#45;&gt;St2 -->\n",
       "<g id=\"edge10\" class=\"edge\"><title>St2&#45;&gt;St2</title>\n",
       "<path fill=\"none\" stroke=\"black\" d=\"M869.543,-51.1493C868.953,-61.4758 871.803,-70.2295 878.092,-70.2295 882.121,-70.2295 884.738,-66.637 885.944,-61.3399\"/>\n",
       "<polygon fill=\"black\" stroke=\"black\" points=\"889.451,-61.3648 886.641,-51.1493 882.467,-60.8872 889.451,-61.3648\"/>\n",
       "<text text-anchor=\"middle\" x=\"878.092\" y=\"-73.0295\" font-family=\"Times,serif\" font-size=\"14.00\">1</text>\n",
       "</g>\n",
       "<!-- St8&#45;&gt;St12 -->\n",
       "<g id=\"edge5\" class=\"edge\"><title>St8&#45;&gt;St12</title>\n",
       "<path fill=\"none\" stroke=\"black\" d=\"M428.35,-26.3256C438.405,-26.3256 450.185,-26.3256 461.102,-26.3256\"/>\n",
       "<polygon fill=\"black\" stroke=\"black\" points=\"461.219,-29.8257 471.219,-26.3256 461.218,-22.8257 461.219,-29.8257\"/>\n",
       "<text text-anchor=\"middle\" x=\"449.77\" y=\"-29.1256\" font-family=\"Times,serif\" font-size=\"14.00\">1</text>\n",
       "</g>\n",
       "<!-- St7 -->\n",
       "<g id=\"node9\" class=\"node\"><title>St7</title>\n",
       "<ellipse fill=\"none\" stroke=\"black\" cx=\"687.633\" cy=\"-26.3256\" rx=\"21.8229\" ry=\"21.8229\"/>\n",
       "<ellipse fill=\"none\" stroke=\"black\" cx=\"687.633\" cy=\"-26.3256\" rx=\"25.8081\" ry=\"25.8081\"/>\n",
       "<text text-anchor=\"middle\" x=\"687.633\" y=\"-22.1256\" font-family=\"Times,serif\" font-size=\"14.00\">St7</text>\n",
       "</g>\n",
       "<!-- St5&#45;&gt;St7 -->\n",
       "<g id=\"edge7\" class=\"edge\"><title>St5&#45;&gt;St7</title>\n",
       "<path fill=\"none\" stroke=\"black\" d=\"M619.185,-26.3256C629.087,-26.3256 640.611,-26.3256 651.302,-26.3256\"/>\n",
       "<polygon fill=\"black\" stroke=\"black\" points=\"651.625,-29.8257 661.625,-26.3256 651.625,-22.8257 651.625,-29.8257\"/>\n",
       "<text text-anchor=\"middle\" x=\"640.229\" y=\"-29.1256\" font-family=\"Times,serif\" font-size=\"14.00\">1</text>\n",
       "</g>\n",
       "<!-- St7&#45;&gt;St10 -->\n",
       "<g id=\"edge8\" class=\"edge\"><title>St7&#45;&gt;St10</title>\n",
       "<path fill=\"none\" stroke=\"black\" d=\"M713.617,-26.3256C723.672,-26.3256 735.452,-26.3256 746.368,-26.3256\"/>\n",
       "<polygon fill=\"black\" stroke=\"black\" points=\"746.485,-29.8257 756.485,-26.3256 746.485,-22.8257 746.485,-29.8257\"/>\n",
       "<text text-anchor=\"middle\" x=\"735.037\" y=\"-29.1256\" font-family=\"Times,serif\" font-size=\"14.00\">1</text>\n",
       "</g>\n",
       "<!-- St9&#45;&gt;St13 -->\n",
       "<g id=\"edge2\" class=\"edge\"><title>St9&#45;&gt;St13</title>\n",
       "<path fill=\"none\" stroke=\"black\" d=\"M142.888,-26.3256C152.943,-26.3256 164.723,-26.3256 175.639,-26.3256\"/>\n",
       "<polygon fill=\"black\" stroke=\"black\" points=\"175.756,-29.8257 185.756,-26.3256 175.756,-22.8257 175.756,-29.8257\"/>\n",
       "<text text-anchor=\"middle\" x=\"164.308\" y=\"-29.1256\" font-family=\"Times,serif\" font-size=\"14.00\">1</text>\n",
       "</g>\n",
       "</g>\n",
       "</svg>\n"
      ],
      "text/plain": [
       "<graphviz.dot.Digraph at 0x10d27af60>"
      ]
     },
     "execution_count": 72,
     "metadata": {},
     "output_type": "execute_result"
    }
   ],
   "source": [
    "dotObj_dfa(min_dfa(nfa2dfa(re2nfa(\"(111+11111)*\"))))"
   ]
  },
  {
   "cell_type": "code",
   "execution_count": 73,
   "metadata": {
    "run_control": {
     "frozen": false,
     "read_only": false
    }
   },
   "outputs": [
    {
     "name": "stderr",
     "output_type": "stream",
     "text": [
      "Generating LALR tables\n"
     ]
    },
    {
     "data": {
      "image/svg+xml": [
       "<?xml version=\"1.0\" encoding=\"UTF-8\" standalone=\"no\"?>\n",
       "<!DOCTYPE svg PUBLIC \"-//W3C//DTD SVG 1.1//EN\"\n",
       " \"http://www.w3.org/Graphics/SVG/1.1/DTD/svg11.dtd\">\n",
       "<!-- Generated by graphviz version 2.38.0 (20140413.2041)\n",
       " -->\n",
       "<!-- Title: %3 Pages: 1 -->\n",
       "<svg width=\"2551pt\" height=\"101pt\"\n",
       " viewBox=\"0.00 0.00 2551.28 100.65\" xmlns=\"http://www.w3.org/2000/svg\" xmlns:xlink=\"http://www.w3.org/1999/xlink\">\n",
       "<g id=\"graph0\" class=\"graph\" transform=\"scale(1 1) rotate(0) translate(4 96.6512)\">\n",
       "<title>%3</title>\n",
       "<polygon fill=\"white\" stroke=\"none\" points=\"-4,4 -4,-96.6512 2547.28,-96.6512 2547.28,4 -4,4\"/>\n",
       "<!-- EMPTY -->\n",
       "<g id=\"node1\" class=\"node\"><title>EMPTY</title>\n",
       "</g>\n",
       "<!-- St25 -->\n",
       "<g id=\"node18\" class=\"node\"><title>St25</title>\n",
       "<ellipse fill=\"none\" stroke=\"black\" cx=\"121.326\" cy=\"-30.3256\" rx=\"26.1751\" ry=\"26.1751\"/>\n",
       "<ellipse fill=\"none\" stroke=\"black\" cx=\"121.326\" cy=\"-30.3256\" rx=\"30.1522\" ry=\"30.1522\"/>\n",
       "<text text-anchor=\"middle\" x=\"121.326\" y=\"-26.1256\" font-family=\"Times,serif\" font-size=\"14.00\">St25</text>\n",
       "</g>\n",
       "<!-- EMPTY&#45;&gt;St25 -->\n",
       "<g id=\"edge1\" class=\"edge\"><title>EMPTY&#45;&gt;St25</title>\n",
       "<path fill=\"none\" stroke=\"black\" d=\"M54.2099,-30.3256C62.4098,-30.3256 71.6499,-30.3256 80.5651,-30.3256\"/>\n",
       "<polygon fill=\"black\" stroke=\"black\" points=\"80.7998,-33.8257 90.7998,-30.3256 80.7998,-26.8257 80.7998,-33.8257\"/>\n",
       "</g>\n",
       "<!-- St30 -->\n",
       "<g id=\"node2\" class=\"node\"><title>St30</title>\n",
       "<ellipse fill=\"none\" stroke=\"black\" cx=\"1201.49\" cy=\"-30.3256\" rx=\"26.1523\" ry=\"26.1523\"/>\n",
       "<text text-anchor=\"middle\" x=\"1201.49\" y=\"-26.1256\" font-family=\"Times,serif\" font-size=\"14.00\">St30</text>\n",
       "</g>\n",
       "<!-- St20 -->\n",
       "<g id=\"node16\" class=\"node\"><title>St20</title>\n",
       "<ellipse fill=\"none\" stroke=\"black\" cx=\"1301.14\" cy=\"-30.3256\" rx=\"26.1751\" ry=\"26.1751\"/>\n",
       "<ellipse fill=\"none\" stroke=\"black\" cx=\"1301.14\" cy=\"-30.3256\" rx=\"30.1522\" ry=\"30.1522\"/>\n",
       "<text text-anchor=\"middle\" x=\"1301.14\" y=\"-26.1256\" font-family=\"Times,serif\" font-size=\"14.00\">St20</text>\n",
       "</g>\n",
       "<!-- St30&#45;&gt;St20 -->\n",
       "<g id=\"edge13\" class=\"edge\"><title>St30&#45;&gt;St20</title>\n",
       "<path fill=\"none\" stroke=\"black\" d=\"M1227.89,-30.3256C1237.83,-30.3256 1249.46,-30.3256 1260.45,-30.3256\"/>\n",
       "<polygon fill=\"black\" stroke=\"black\" points=\"1260.71,-33.8257 1270.71,-30.3256 1260.71,-26.8257 1260.71,-33.8257\"/>\n",
       "<text text-anchor=\"middle\" x=\"1249.31\" y=\"-33.1256\" font-family=\"Times,serif\" font-size=\"14.00\">1</text>\n",
       "</g>\n",
       "<!-- St29 -->\n",
       "<g id=\"node3\" class=\"node\"><title>St29</title>\n",
       "<ellipse fill=\"none\" stroke=\"black\" cx=\"1504.44\" cy=\"-30.3256\" rx=\"26.1523\" ry=\"26.1523\"/>\n",
       "<text text-anchor=\"middle\" x=\"1504.44\" y=\"-26.1256\" font-family=\"Times,serif\" font-size=\"14.00\">St29</text>\n",
       "</g>\n",
       "<!-- St14 -->\n",
       "<g id=\"node15\" class=\"node\"><title>St14</title>\n",
       "<ellipse fill=\"none\" stroke=\"black\" cx=\"1604.09\" cy=\"-30.3256\" rx=\"26.1751\" ry=\"26.1751\"/>\n",
       "<ellipse fill=\"none\" stroke=\"black\" cx=\"1604.09\" cy=\"-30.3256\" rx=\"30.1522\" ry=\"30.1522\"/>\n",
       "<text text-anchor=\"middle\" x=\"1604.09\" y=\"-26.1256\" font-family=\"Times,serif\" font-size=\"14.00\">St14</text>\n",
       "</g>\n",
       "<!-- St29&#45;&gt;St14 -->\n",
       "<g id=\"edge16\" class=\"edge\"><title>St29&#45;&gt;St14</title>\n",
       "<path fill=\"none\" stroke=\"black\" d=\"M1530.84,-30.3256C1540.78,-30.3256 1552.41,-30.3256 1563.4,-30.3256\"/>\n",
       "<polygon fill=\"black\" stroke=\"black\" points=\"1563.67,-33.8257 1573.67,-30.3256 1563.67,-26.8257 1563.67,-33.8257\"/>\n",
       "<text text-anchor=\"middle\" x=\"1552.27\" y=\"-33.1256\" font-family=\"Times,serif\" font-size=\"14.00\">1</text>\n",
       "</g>\n",
       "<!-- St35 -->\n",
       "<g id=\"node4\" class=\"node\"><title>St35</title>\n",
       "<ellipse fill=\"none\" stroke=\"black\" cx=\"810.884\" cy=\"-30.3256\" rx=\"26.1523\" ry=\"26.1523\"/>\n",
       "<text text-anchor=\"middle\" x=\"810.884\" y=\"-26.1256\" font-family=\"Times,serif\" font-size=\"14.00\">St35</text>\n",
       "</g>\n",
       "<!-- St31 -->\n",
       "<g id=\"node12\" class=\"node\"><title>St31</title>\n",
       "<ellipse fill=\"none\" stroke=\"black\" cx=\"906.535\" cy=\"-30.3256\" rx=\"26.1523\" ry=\"26.1523\"/>\n",
       "<text text-anchor=\"middle\" x=\"906.535\" y=\"-26.1256\" font-family=\"Times,serif\" font-size=\"14.00\">St31</text>\n",
       "</g>\n",
       "<!-- St35&#45;&gt;St31 -->\n",
       "<g id=\"edge9\" class=\"edge\"><title>St35&#45;&gt;St31</title>\n",
       "<path fill=\"none\" stroke=\"black\" d=\"M837.475,-30.3256C847.489,-30.3256 859.146,-30.3256 869.955,-30.3256\"/>\n",
       "<polygon fill=\"black\" stroke=\"black\" points=\"869.976,-33.8257 879.976,-30.3256 869.975,-26.8257 869.976,-33.8257\"/>\n",
       "<text text-anchor=\"middle\" x=\"858.71\" y=\"-33.1256\" font-family=\"Times,serif\" font-size=\"14.00\">1</text>\n",
       "</g>\n",
       "<!-- St28 -->\n",
       "<g id=\"node5\" class=\"node\"><title>St28</title>\n",
       "<ellipse fill=\"none\" stroke=\"black\" cx=\"1807.4\" cy=\"-30.3256\" rx=\"26.1523\" ry=\"26.1523\"/>\n",
       "<text text-anchor=\"middle\" x=\"1807.4\" y=\"-26.1256\" font-family=\"Times,serif\" font-size=\"14.00\">St28</text>\n",
       "</g>\n",
       "<!-- St13 -->\n",
       "<g id=\"node14\" class=\"node\"><title>St13</title>\n",
       "<ellipse fill=\"none\" stroke=\"black\" cx=\"1907.05\" cy=\"-30.3256\" rx=\"26.1751\" ry=\"26.1751\"/>\n",
       "<ellipse fill=\"none\" stroke=\"black\" cx=\"1907.05\" cy=\"-30.3256\" rx=\"30.1522\" ry=\"30.1522\"/>\n",
       "<text text-anchor=\"middle\" x=\"1907.05\" y=\"-26.1256\" font-family=\"Times,serif\" font-size=\"14.00\">St13</text>\n",
       "</g>\n",
       "<!-- St28&#45;&gt;St13 -->\n",
       "<g id=\"edge19\" class=\"edge\"><title>St28&#45;&gt;St13</title>\n",
       "<path fill=\"none\" stroke=\"black\" d=\"M1833.8,-30.3256C1843.73,-30.3256 1855.36,-30.3256 1866.36,-30.3256\"/>\n",
       "<polygon fill=\"black\" stroke=\"black\" points=\"1866.62,-33.8257 1876.62,-30.3256 1866.62,-26.8257 1866.62,-33.8257\"/>\n",
       "<text text-anchor=\"middle\" x=\"1855.22\" y=\"-33.1256\" font-family=\"Times,serif\" font-size=\"14.00\">1</text>\n",
       "</g>\n",
       "<!-- St26 -->\n",
       "<g id=\"node6\" class=\"node\"><title>St26</title>\n",
       "<ellipse fill=\"none\" stroke=\"black\" cx=\"2413.3\" cy=\"-30.3256\" rx=\"26.1523\" ry=\"26.1523\"/>\n",
       "<text text-anchor=\"middle\" x=\"2413.3\" y=\"-26.1256\" font-family=\"Times,serif\" font-size=\"14.00\">St26</text>\n",
       "</g>\n",
       "<!-- St15 -->\n",
       "<g id=\"node17\" class=\"node\"><title>St15</title>\n",
       "<ellipse fill=\"none\" stroke=\"black\" cx=\"2512.95\" cy=\"-30.3256\" rx=\"26.1751\" ry=\"26.1751\"/>\n",
       "<ellipse fill=\"none\" stroke=\"black\" cx=\"2512.95\" cy=\"-30.3256\" rx=\"30.1522\" ry=\"30.1522\"/>\n",
       "<text text-anchor=\"middle\" x=\"2512.95\" y=\"-26.1256\" font-family=\"Times,serif\" font-size=\"14.00\">St15</text>\n",
       "</g>\n",
       "<!-- St26&#45;&gt;St15 -->\n",
       "<g id=\"edge25\" class=\"edge\"><title>St26&#45;&gt;St15</title>\n",
       "<path fill=\"none\" stroke=\"black\" d=\"M2439.7,-30.3256C2449.64,-30.3256 2461.27,-30.3256 2472.26,-30.3256\"/>\n",
       "<polygon fill=\"black\" stroke=\"black\" points=\"2472.53,-33.8257 2482.53,-30.3256 2472.53,-26.8257 2472.53,-33.8257\"/>\n",
       "<text text-anchor=\"middle\" x=\"2461.13\" y=\"-33.1256\" font-family=\"Times,serif\" font-size=\"14.00\">1</text>\n",
       "</g>\n",
       "<!-- St36 -->\n",
       "<g id=\"node7\" class=\"node\"><title>St36</title>\n",
       "<ellipse fill=\"none\" stroke=\"black\" cx=\"515.93\" cy=\"-30.3256\" rx=\"26.1523\" ry=\"26.1523\"/>\n",
       "<text text-anchor=\"middle\" x=\"515.93\" y=\"-26.1256\" font-family=\"Times,serif\" font-size=\"14.00\">St36</text>\n",
       "</g>\n",
       "<!-- St32 -->\n",
       "<g id=\"node10\" class=\"node\"><title>St32</title>\n",
       "<ellipse fill=\"none\" stroke=\"black\" cx=\"611.582\" cy=\"-30.3256\" rx=\"26.1523\" ry=\"26.1523\"/>\n",
       "<text text-anchor=\"middle\" x=\"611.582\" y=\"-26.1256\" font-family=\"Times,serif\" font-size=\"14.00\">St32</text>\n",
       "</g>\n",
       "<!-- St36&#45;&gt;St32 -->\n",
       "<g id=\"edge6\" class=\"edge\"><title>St36&#45;&gt;St32</title>\n",
       "<path fill=\"none\" stroke=\"black\" d=\"M542.521,-30.3256C552.535,-30.3256 564.193,-30.3256 575.001,-30.3256\"/>\n",
       "<polygon fill=\"black\" stroke=\"black\" points=\"575.022,-33.8257 585.022,-30.3256 575.022,-26.8257 575.022,-33.8257\"/>\n",
       "<text text-anchor=\"middle\" x=\"563.756\" y=\"-33.1256\" font-family=\"Times,serif\" font-size=\"14.00\">1</text>\n",
       "</g>\n",
       "<!-- St34 -->\n",
       "<g id=\"node8\" class=\"node\"><title>St34</title>\n",
       "<ellipse fill=\"none\" stroke=\"black\" cx=\"1105.84\" cy=\"-30.3256\" rx=\"26.1523\" ry=\"26.1523\"/>\n",
       "<text text-anchor=\"middle\" x=\"1105.84\" y=\"-26.1256\" font-family=\"Times,serif\" font-size=\"14.00\">St34</text>\n",
       "</g>\n",
       "<!-- St34&#45;&gt;St30 -->\n",
       "<g id=\"edge12\" class=\"edge\"><title>St34&#45;&gt;St30</title>\n",
       "<path fill=\"none\" stroke=\"black\" d=\"M1132.43,-30.3256C1142.44,-30.3256 1154.1,-30.3256 1164.91,-30.3256\"/>\n",
       "<polygon fill=\"black\" stroke=\"black\" points=\"1164.93,-33.8257 1174.93,-30.3256 1164.93,-26.8257 1164.93,-33.8257\"/>\n",
       "<text text-anchor=\"middle\" x=\"1153.66\" y=\"-33.1256\" font-family=\"Times,serif\" font-size=\"14.00\">1</text>\n",
       "</g>\n",
       "<!-- St33 -->\n",
       "<g id=\"node9\" class=\"node\"><title>St33</title>\n",
       "<ellipse fill=\"none\" stroke=\"black\" cx=\"316.628\" cy=\"-30.3256\" rx=\"26.1523\" ry=\"26.1523\"/>\n",
       "<text text-anchor=\"middle\" x=\"316.628\" y=\"-26.1256\" font-family=\"Times,serif\" font-size=\"14.00\">St33</text>\n",
       "</g>\n",
       "<!-- St23 -->\n",
       "<g id=\"node25\" class=\"node\"><title>St23</title>\n",
       "<ellipse fill=\"none\" stroke=\"black\" cx=\"416.279\" cy=\"-30.3256\" rx=\"26.1751\" ry=\"26.1751\"/>\n",
       "<ellipse fill=\"none\" stroke=\"black\" cx=\"416.279\" cy=\"-30.3256\" rx=\"30.1522\" ry=\"30.1522\"/>\n",
       "<text text-anchor=\"middle\" x=\"416.279\" y=\"-26.1256\" font-family=\"Times,serif\" font-size=\"14.00\">St23</text>\n",
       "</g>\n",
       "<!-- St33&#45;&gt;St23 -->\n",
       "<g id=\"edge4\" class=\"edge\"><title>St33&#45;&gt;St23</title>\n",
       "<path fill=\"none\" stroke=\"black\" d=\"M343.03,-30.3256C352.965,-30.3256 364.596,-30.3256 375.587,-30.3256\"/>\n",
       "<polygon fill=\"black\" stroke=\"black\" points=\"375.852,-33.8257 385.852,-30.3256 375.852,-26.8257 375.852,-33.8257\"/>\n",
       "<text text-anchor=\"middle\" x=\"364.454\" y=\"-33.1256\" font-family=\"Times,serif\" font-size=\"14.00\">1</text>\n",
       "</g>\n",
       "<!-- St22 -->\n",
       "<g id=\"node24\" class=\"node\"><title>St22</title>\n",
       "<ellipse fill=\"none\" stroke=\"black\" cx=\"711.233\" cy=\"-30.3256\" rx=\"26.1751\" ry=\"26.1751\"/>\n",
       "<ellipse fill=\"none\" stroke=\"black\" cx=\"711.233\" cy=\"-30.3256\" rx=\"30.1522\" ry=\"30.1522\"/>\n",
       "<text text-anchor=\"middle\" x=\"711.233\" y=\"-26.1256\" font-family=\"Times,serif\" font-size=\"14.00\">St22</text>\n",
       "</g>\n",
       "<!-- St32&#45;&gt;St22 -->\n",
       "<g id=\"edge7\" class=\"edge\"><title>St32&#45;&gt;St22</title>\n",
       "<path fill=\"none\" stroke=\"black\" d=\"M637.983,-30.3256C647.919,-30.3256 659.55,-30.3256 670.541,-30.3256\"/>\n",
       "<polygon fill=\"black\" stroke=\"black\" points=\"670.806,-33.8257 680.806,-30.3256 670.806,-26.8257 670.806,-33.8257\"/>\n",
       "<text text-anchor=\"middle\" x=\"659.407\" y=\"-33.1256\" font-family=\"Times,serif\" font-size=\"14.00\">1</text>\n",
       "</g>\n",
       "<!-- St27 -->\n",
       "<g id=\"node11\" class=\"node\"><title>St27</title>\n",
       "<ellipse fill=\"none\" stroke=\"black\" cx=\"2110.35\" cy=\"-30.3256\" rx=\"26.1523\" ry=\"26.1523\"/>\n",
       "<text text-anchor=\"middle\" x=\"2110.35\" y=\"-26.1256\" font-family=\"Times,serif\" font-size=\"14.00\">St27</text>\n",
       "</g>\n",
       "<!-- St12 -->\n",
       "<g id=\"node26\" class=\"node\"><title>St12</title>\n",
       "<ellipse fill=\"none\" stroke=\"black\" cx=\"2210\" cy=\"-30.3256\" rx=\"26.1751\" ry=\"26.1751\"/>\n",
       "<ellipse fill=\"none\" stroke=\"black\" cx=\"2210\" cy=\"-30.3256\" rx=\"30.1522\" ry=\"30.1522\"/>\n",
       "<text text-anchor=\"middle\" x=\"2210\" y=\"-26.1256\" font-family=\"Times,serif\" font-size=\"14.00\">St12</text>\n",
       "</g>\n",
       "<!-- St27&#45;&gt;St12 -->\n",
       "<g id=\"edge22\" class=\"edge\"><title>St27&#45;&gt;St12</title>\n",
       "<path fill=\"none\" stroke=\"black\" d=\"M2136.75,-30.3256C2146.69,-30.3256 2158.32,-30.3256 2169.31,-30.3256\"/>\n",
       "<polygon fill=\"black\" stroke=\"black\" points=\"2169.57,-33.8257 2179.57,-30.3256 2169.57,-26.8257 2169.57,-33.8257\"/>\n",
       "<text text-anchor=\"middle\" x=\"2158.18\" y=\"-33.1256\" font-family=\"Times,serif\" font-size=\"14.00\">1</text>\n",
       "</g>\n",
       "<!-- St21 -->\n",
       "<g id=\"node21\" class=\"node\"><title>St21</title>\n",
       "<ellipse fill=\"none\" stroke=\"black\" cx=\"1006.19\" cy=\"-30.3256\" rx=\"26.1751\" ry=\"26.1751\"/>\n",
       "<ellipse fill=\"none\" stroke=\"black\" cx=\"1006.19\" cy=\"-30.3256\" rx=\"30.1522\" ry=\"30.1522\"/>\n",
       "<text text-anchor=\"middle\" x=\"1006.19\" y=\"-26.1256\" font-family=\"Times,serif\" font-size=\"14.00\">St21</text>\n",
       "</g>\n",
       "<!-- St31&#45;&gt;St21 -->\n",
       "<g id=\"edge10\" class=\"edge\"><title>St31&#45;&gt;St21</title>\n",
       "<path fill=\"none\" stroke=\"black\" d=\"M932.937,-30.3256C942.872,-30.3256 954.503,-30.3256 965.494,-30.3256\"/>\n",
       "<polygon fill=\"black\" stroke=\"black\" points=\"965.76,-33.8257 975.759,-30.3256 965.759,-26.8257 965.76,-33.8257\"/>\n",
       "<text text-anchor=\"middle\" x=\"954.361\" y=\"-33.1256\" font-family=\"Times,serif\" font-size=\"14.00\">1</text>\n",
       "</g>\n",
       "<!-- St37 -->\n",
       "<g id=\"node13\" class=\"node\"><title>St37</title>\n",
       "<ellipse fill=\"none\" stroke=\"black\" cx=\"220.977\" cy=\"-30.3256\" rx=\"26.1523\" ry=\"26.1523\"/>\n",
       "<text text-anchor=\"middle\" x=\"220.977\" y=\"-26.1256\" font-family=\"Times,serif\" font-size=\"14.00\">St37</text>\n",
       "</g>\n",
       "<!-- St37&#45;&gt;St33 -->\n",
       "<g id=\"edge3\" class=\"edge\"><title>St37&#45;&gt;St33</title>\n",
       "<path fill=\"none\" stroke=\"black\" d=\"M247.567,-30.3256C257.581,-30.3256 269.239,-30.3256 280.047,-30.3256\"/>\n",
       "<polygon fill=\"black\" stroke=\"black\" points=\"280.068,-33.8257 290.068,-30.3256 280.068,-26.8257 280.068,-33.8257\"/>\n",
       "<text text-anchor=\"middle\" x=\"268.802\" y=\"-33.1256\" font-family=\"Times,serif\" font-size=\"14.00\">1</text>\n",
       "</g>\n",
       "<!-- St18 -->\n",
       "<g id=\"node23\" class=\"node\"><title>St18</title>\n",
       "<ellipse fill=\"none\" stroke=\"black\" cx=\"2010.7\" cy=\"-30.3256\" rx=\"26.1751\" ry=\"26.1751\"/>\n",
       "<ellipse fill=\"none\" stroke=\"black\" cx=\"2010.7\" cy=\"-30.3256\" rx=\"30.1522\" ry=\"30.1522\"/>\n",
       "<text text-anchor=\"middle\" x=\"2010.7\" y=\"-26.1256\" font-family=\"Times,serif\" font-size=\"14.00\">St18</text>\n",
       "</g>\n",
       "<!-- St13&#45;&gt;St18 -->\n",
       "<g id=\"edge20\" class=\"edge\"><title>St13&#45;&gt;St18</title>\n",
       "<path fill=\"none\" stroke=\"black\" d=\"M1937.45,-30.3256C1947.67,-30.3256 1959.3,-30.3256 1970.21,-30.3256\"/>\n",
       "<polygon fill=\"black\" stroke=\"black\" points=\"1970.36,-33.8257 1980.36,-30.3256 1970.36,-26.8257 1970.36,-33.8257\"/>\n",
       "<text text-anchor=\"middle\" x=\"1958.87\" y=\"-33.1256\" font-family=\"Times,serif\" font-size=\"14.00\">1</text>\n",
       "</g>\n",
       "<!-- St19 -->\n",
       "<g id=\"node20\" class=\"node\"><title>St19</title>\n",
       "<ellipse fill=\"none\" stroke=\"black\" cx=\"1707.74\" cy=\"-30.3256\" rx=\"26.1751\" ry=\"26.1751\"/>\n",
       "<ellipse fill=\"none\" stroke=\"black\" cx=\"1707.74\" cy=\"-30.3256\" rx=\"30.1522\" ry=\"30.1522\"/>\n",
       "<text text-anchor=\"middle\" x=\"1707.74\" y=\"-26.1256\" font-family=\"Times,serif\" font-size=\"14.00\">St19</text>\n",
       "</g>\n",
       "<!-- St14&#45;&gt;St19 -->\n",
       "<g id=\"edge17\" class=\"edge\"><title>St14&#45;&gt;St19</title>\n",
       "<path fill=\"none\" stroke=\"black\" d=\"M1634.5,-30.3256C1644.72,-30.3256 1656.35,-30.3256 1667.25,-30.3256\"/>\n",
       "<polygon fill=\"black\" stroke=\"black\" points=\"1667.41,-33.8257 1677.41,-30.3256 1667.41,-26.8257 1667.41,-33.8257\"/>\n",
       "<text text-anchor=\"middle\" x=\"1655.92\" y=\"-33.1256\" font-family=\"Times,serif\" font-size=\"14.00\">1</text>\n",
       "</g>\n",
       "<!-- St24 -->\n",
       "<g id=\"node19\" class=\"node\"><title>St24</title>\n",
       "<ellipse fill=\"none\" stroke=\"black\" cx=\"1404.79\" cy=\"-30.3256\" rx=\"26.1751\" ry=\"26.1751\"/>\n",
       "<ellipse fill=\"none\" stroke=\"black\" cx=\"1404.79\" cy=\"-30.3256\" rx=\"30.1522\" ry=\"30.1522\"/>\n",
       "<text text-anchor=\"middle\" x=\"1404.79\" y=\"-26.1256\" font-family=\"Times,serif\" font-size=\"14.00\">St24</text>\n",
       "</g>\n",
       "<!-- St20&#45;&gt;St24 -->\n",
       "<g id=\"edge14\" class=\"edge\"><title>St20&#45;&gt;St24</title>\n",
       "<path fill=\"none\" stroke=\"black\" d=\"M1331.54,-30.3256C1341.76,-30.3256 1353.4,-30.3256 1364.3,-30.3256\"/>\n",
       "<polygon fill=\"black\" stroke=\"black\" points=\"1364.46,-33.8257 1374.46,-30.3256 1364.46,-26.8257 1364.46,-33.8257\"/>\n",
       "<text text-anchor=\"middle\" x=\"1352.97\" y=\"-33.1256\" font-family=\"Times,serif\" font-size=\"14.00\">1</text>\n",
       "</g>\n",
       "<!-- St15&#45;&gt;St15 -->\n",
       "<g id=\"edge26\" class=\"edge\"><title>St15&#45;&gt;St15</title>\n",
       "<path fill=\"none\" stroke=\"black\" d=\"M2503.59,-59.5795C2503.39,-70.0857 2506.51,-78.6512 2512.95,-78.6512 2517.08,-78.6512 2519.85,-75.1359 2521.25,-69.8471\"/>\n",
       "<polygon fill=\"black\" stroke=\"black\" points=\"2524.76,-69.8886 2522.32,-59.5795 2517.8,-69.1626 2524.76,-69.8886\"/>\n",
       "<text text-anchor=\"middle\" x=\"2512.95\" y=\"-81.4512\" font-family=\"Times,serif\" font-size=\"14.00\">1</text>\n",
       "</g>\n",
       "<!-- St25&#45;&gt;St37 -->\n",
       "<g id=\"edge2\" class=\"edge\"><title>St25&#45;&gt;St37</title>\n",
       "<path fill=\"none\" stroke=\"black\" d=\"M151.889,-30.3256C162.078,-30.3256 173.599,-30.3256 184.228,-30.3256\"/>\n",
       "<polygon fill=\"black\" stroke=\"black\" points=\"184.477,-33.8257 194.477,-30.3256 184.476,-26.8257 184.477,-33.8257\"/>\n",
       "<text text-anchor=\"middle\" x=\"173.151\" y=\"-33.1256\" font-family=\"Times,serif\" font-size=\"14.00\">1</text>\n",
       "</g>\n",
       "<!-- St24&#45;&gt;St29 -->\n",
       "<g id=\"edge15\" class=\"edge\"><title>St24&#45;&gt;St29</title>\n",
       "<path fill=\"none\" stroke=\"black\" d=\"M1435.35,-30.3256C1445.54,-30.3256 1457.06,-30.3256 1467.69,-30.3256\"/>\n",
       "<polygon fill=\"black\" stroke=\"black\" points=\"1467.94,-33.8257 1477.94,-30.3256 1467.94,-26.8257 1467.94,-33.8257\"/>\n",
       "<text text-anchor=\"middle\" x=\"1456.62\" y=\"-33.1256\" font-family=\"Times,serif\" font-size=\"14.00\">1</text>\n",
       "</g>\n",
       "<!-- St19&#45;&gt;St28 -->\n",
       "<g id=\"edge18\" class=\"edge\"><title>St19&#45;&gt;St28</title>\n",
       "<path fill=\"none\" stroke=\"black\" d=\"M1738.31,-30.3256C1748.5,-30.3256 1760.02,-30.3256 1770.65,-30.3256\"/>\n",
       "<polygon fill=\"black\" stroke=\"black\" points=\"1770.9,-33.8257 1780.9,-30.3256 1770.9,-26.8257 1770.9,-33.8257\"/>\n",
       "<text text-anchor=\"middle\" x=\"1759.57\" y=\"-33.1256\" font-family=\"Times,serif\" font-size=\"14.00\">1</text>\n",
       "</g>\n",
       "<!-- St21&#45;&gt;St34 -->\n",
       "<g id=\"edge11\" class=\"edge\"><title>St21&#45;&gt;St34</title>\n",
       "<path fill=\"none\" stroke=\"black\" d=\"M1036.75,-30.3256C1046.94,-30.3256 1058.46,-30.3256 1069.09,-30.3256\"/>\n",
       "<polygon fill=\"black\" stroke=\"black\" points=\"1069.34,-33.8257 1079.34,-30.3256 1069.34,-26.8257 1069.34,-33.8257\"/>\n",
       "<text text-anchor=\"middle\" x=\"1058.01\" y=\"-33.1256\" font-family=\"Times,serif\" font-size=\"14.00\">1</text>\n",
       "</g>\n",
       "<!-- St17 -->\n",
       "<g id=\"node22\" class=\"node\"><title>St17</title>\n",
       "<ellipse fill=\"none\" stroke=\"black\" cx=\"2313.65\" cy=\"-30.3256\" rx=\"26.1751\" ry=\"26.1751\"/>\n",
       "<ellipse fill=\"none\" stroke=\"black\" cx=\"2313.65\" cy=\"-30.3256\" rx=\"30.1522\" ry=\"30.1522\"/>\n",
       "<text text-anchor=\"middle\" x=\"2313.65\" y=\"-26.1256\" font-family=\"Times,serif\" font-size=\"14.00\">St17</text>\n",
       "</g>\n",
       "<!-- St17&#45;&gt;St26 -->\n",
       "<g id=\"edge24\" class=\"edge\"><title>St17&#45;&gt;St26</title>\n",
       "<path fill=\"none\" stroke=\"black\" d=\"M2344.22,-30.3256C2354.4,-30.3256 2365.93,-30.3256 2376.55,-30.3256\"/>\n",
       "<polygon fill=\"black\" stroke=\"black\" points=\"2376.8,-33.8257 2386.8,-30.3256 2376.8,-26.8257 2376.8,-33.8257\"/>\n",
       "<text text-anchor=\"middle\" x=\"2365.48\" y=\"-33.1256\" font-family=\"Times,serif\" font-size=\"14.00\">1</text>\n",
       "</g>\n",
       "<!-- St18&#45;&gt;St27 -->\n",
       "<g id=\"edge21\" class=\"edge\"><title>St18&#45;&gt;St27</title>\n",
       "<path fill=\"none\" stroke=\"black\" d=\"M2041.26,-30.3256C2051.45,-30.3256 2062.97,-30.3256 2073.6,-30.3256\"/>\n",
       "<polygon fill=\"black\" stroke=\"black\" points=\"2073.85,-33.8257 2083.85,-30.3256 2073.85,-26.8257 2073.85,-33.8257\"/>\n",
       "<text text-anchor=\"middle\" x=\"2062.52\" y=\"-33.1256\" font-family=\"Times,serif\" font-size=\"14.00\">1</text>\n",
       "</g>\n",
       "<!-- St22&#45;&gt;St35 -->\n",
       "<g id=\"edge8\" class=\"edge\"><title>St22&#45;&gt;St35</title>\n",
       "<path fill=\"none\" stroke=\"black\" d=\"M741.796,-30.3256C751.985,-30.3256 763.506,-30.3256 774.135,-30.3256\"/>\n",
       "<polygon fill=\"black\" stroke=\"black\" points=\"774.384,-33.8257 784.384,-30.3256 774.384,-26.8257 774.384,-33.8257\"/>\n",
       "<text text-anchor=\"middle\" x=\"763.058\" y=\"-33.1256\" font-family=\"Times,serif\" font-size=\"14.00\">1</text>\n",
       "</g>\n",
       "<!-- St23&#45;&gt;St36 -->\n",
       "<g id=\"edge5\" class=\"edge\"><title>St23&#45;&gt;St36</title>\n",
       "<path fill=\"none\" stroke=\"black\" d=\"M446.843,-30.3256C457.031,-30.3256 468.553,-30.3256 479.181,-30.3256\"/>\n",
       "<polygon fill=\"black\" stroke=\"black\" points=\"479.43,-33.8257 489.43,-30.3256 479.43,-26.8257 479.43,-33.8257\"/>\n",
       "<text text-anchor=\"middle\" x=\"468.105\" y=\"-33.1256\" font-family=\"Times,serif\" font-size=\"14.00\">1</text>\n",
       "</g>\n",
       "<!-- St12&#45;&gt;St17 -->\n",
       "<g id=\"edge23\" class=\"edge\"><title>St12&#45;&gt;St17</title>\n",
       "<path fill=\"none\" stroke=\"black\" d=\"M2240.4,-30.3256C2250.62,-30.3256 2262.26,-30.3256 2273.16,-30.3256\"/>\n",
       "<polygon fill=\"black\" stroke=\"black\" points=\"2273.32,-33.8257 2283.32,-30.3256 2273.32,-26.8257 2273.32,-33.8257\"/>\n",
       "<text text-anchor=\"middle\" x=\"2261.83\" y=\"-33.1256\" font-family=\"Times,serif\" font-size=\"14.00\">1</text>\n",
       "</g>\n",
       "</g>\n",
       "</svg>\n"
      ],
      "text/plain": [
       "<graphviz.dot.Digraph at 0x10d25ab00>"
      ]
     },
     "execution_count": 73,
     "metadata": {},
     "output_type": "execute_result"
    }
   ],
   "source": [
    "dotObj_dfa(min_dfa(nfa2dfa(re2nfa(\"(111+1111111111111)*\"))))"
   ]
  },
  {
   "cell_type": "code",
   "execution_count": 74,
   "metadata": {
    "run_control": {
     "frozen": false,
     "read_only": false
    }
   },
   "outputs": [
    {
     "data": {
      "text/plain": [
       "0"
      ]
     },
     "execution_count": 74,
     "metadata": {},
     "output_type": "execute_result"
    }
   ],
   "source": [
    "ResetStNum()"
   ]
  },
  {
   "cell_type": "code",
   "execution_count": 75,
   "metadata": {
    "run_control": {
     "frozen": false,
     "read_only": false
    }
   },
   "outputs": [
    {
     "name": "stderr",
     "output_type": "stream",
     "text": [
      "Generating LALR tables\n"
     ]
    },
    {
     "data": {
      "image/svg+xml": [
       "<?xml version=\"1.0\" encoding=\"UTF-8\" standalone=\"no\"?>\n",
       "<!DOCTYPE svg PUBLIC \"-//W3C//DTD SVG 1.1//EN\"\n",
       " \"http://www.w3.org/Graphics/SVG/1.1/DTD/svg11.dtd\">\n",
       "<!-- Generated by graphviz version 2.38.0 (20140413.2041)\n",
       " -->\n",
       "<!-- Title: %3 Pages: 1 -->\n",
       "<svg width=\"2551pt\" height=\"101pt\"\n",
       " viewBox=\"0.00 0.00 2551.28 100.65\" xmlns=\"http://www.w3.org/2000/svg\" xmlns:xlink=\"http://www.w3.org/1999/xlink\">\n",
       "<g id=\"graph0\" class=\"graph\" transform=\"scale(1 1) rotate(0) translate(4 96.6512)\">\n",
       "<title>%3</title>\n",
       "<polygon fill=\"white\" stroke=\"none\" points=\"-4,4 -4,-96.6512 2547.28,-96.6512 2547.28,4 -4,4\"/>\n",
       "<!-- EMPTY -->\n",
       "<g id=\"node1\" class=\"node\"><title>EMPTY</title>\n",
       "</g>\n",
       "<!-- St25 -->\n",
       "<g id=\"node18\" class=\"node\"><title>St25</title>\n",
       "<ellipse fill=\"none\" stroke=\"black\" cx=\"121.326\" cy=\"-30.3256\" rx=\"26.1751\" ry=\"26.1751\"/>\n",
       "<ellipse fill=\"none\" stroke=\"black\" cx=\"121.326\" cy=\"-30.3256\" rx=\"30.1522\" ry=\"30.1522\"/>\n",
       "<text text-anchor=\"middle\" x=\"121.326\" y=\"-26.1256\" font-family=\"Times,serif\" font-size=\"14.00\">St25</text>\n",
       "</g>\n",
       "<!-- EMPTY&#45;&gt;St25 -->\n",
       "<g id=\"edge1\" class=\"edge\"><title>EMPTY&#45;&gt;St25</title>\n",
       "<path fill=\"none\" stroke=\"black\" d=\"M54.2099,-30.3256C62.4098,-30.3256 71.6499,-30.3256 80.5651,-30.3256\"/>\n",
       "<polygon fill=\"black\" stroke=\"black\" points=\"80.7998,-33.8257 90.7998,-30.3256 80.7998,-26.8257 80.7998,-33.8257\"/>\n",
       "</g>\n",
       "<!-- St30 -->\n",
       "<g id=\"node2\" class=\"node\"><title>St30</title>\n",
       "<ellipse fill=\"none\" stroke=\"black\" cx=\"1201.49\" cy=\"-30.3256\" rx=\"26.1523\" ry=\"26.1523\"/>\n",
       "<text text-anchor=\"middle\" x=\"1201.49\" y=\"-26.1256\" font-family=\"Times,serif\" font-size=\"14.00\">St30</text>\n",
       "</g>\n",
       "<!-- St20 -->\n",
       "<g id=\"node16\" class=\"node\"><title>St20</title>\n",
       "<ellipse fill=\"none\" stroke=\"black\" cx=\"1301.14\" cy=\"-30.3256\" rx=\"26.1751\" ry=\"26.1751\"/>\n",
       "<ellipse fill=\"none\" stroke=\"black\" cx=\"1301.14\" cy=\"-30.3256\" rx=\"30.1522\" ry=\"30.1522\"/>\n",
       "<text text-anchor=\"middle\" x=\"1301.14\" y=\"-26.1256\" font-family=\"Times,serif\" font-size=\"14.00\">St20</text>\n",
       "</g>\n",
       "<!-- St30&#45;&gt;St20 -->\n",
       "<g id=\"edge13\" class=\"edge\"><title>St30&#45;&gt;St20</title>\n",
       "<path fill=\"none\" stroke=\"black\" d=\"M1227.89,-30.3256C1237.83,-30.3256 1249.46,-30.3256 1260.45,-30.3256\"/>\n",
       "<polygon fill=\"black\" stroke=\"black\" points=\"1260.71,-33.8257 1270.71,-30.3256 1260.71,-26.8257 1260.71,-33.8257\"/>\n",
       "<text text-anchor=\"middle\" x=\"1249.31\" y=\"-33.1256\" font-family=\"Times,serif\" font-size=\"14.00\">1</text>\n",
       "</g>\n",
       "<!-- St29 -->\n",
       "<g id=\"node3\" class=\"node\"><title>St29</title>\n",
       "<ellipse fill=\"none\" stroke=\"black\" cx=\"1504.44\" cy=\"-30.3256\" rx=\"26.1523\" ry=\"26.1523\"/>\n",
       "<text text-anchor=\"middle\" x=\"1504.44\" y=\"-26.1256\" font-family=\"Times,serif\" font-size=\"14.00\">St29</text>\n",
       "</g>\n",
       "<!-- St14 -->\n",
       "<g id=\"node15\" class=\"node\"><title>St14</title>\n",
       "<ellipse fill=\"none\" stroke=\"black\" cx=\"1604.09\" cy=\"-30.3256\" rx=\"26.1751\" ry=\"26.1751\"/>\n",
       "<ellipse fill=\"none\" stroke=\"black\" cx=\"1604.09\" cy=\"-30.3256\" rx=\"30.1522\" ry=\"30.1522\"/>\n",
       "<text text-anchor=\"middle\" x=\"1604.09\" y=\"-26.1256\" font-family=\"Times,serif\" font-size=\"14.00\">St14</text>\n",
       "</g>\n",
       "<!-- St29&#45;&gt;St14 -->\n",
       "<g id=\"edge16\" class=\"edge\"><title>St29&#45;&gt;St14</title>\n",
       "<path fill=\"none\" stroke=\"black\" d=\"M1530.84,-30.3256C1540.78,-30.3256 1552.41,-30.3256 1563.4,-30.3256\"/>\n",
       "<polygon fill=\"black\" stroke=\"black\" points=\"1563.67,-33.8257 1573.67,-30.3256 1563.67,-26.8257 1563.67,-33.8257\"/>\n",
       "<text text-anchor=\"middle\" x=\"1552.27\" y=\"-33.1256\" font-family=\"Times,serif\" font-size=\"14.00\">1</text>\n",
       "</g>\n",
       "<!-- St35 -->\n",
       "<g id=\"node4\" class=\"node\"><title>St35</title>\n",
       "<ellipse fill=\"none\" stroke=\"black\" cx=\"810.884\" cy=\"-30.3256\" rx=\"26.1523\" ry=\"26.1523\"/>\n",
       "<text text-anchor=\"middle\" x=\"810.884\" y=\"-26.1256\" font-family=\"Times,serif\" font-size=\"14.00\">St35</text>\n",
       "</g>\n",
       "<!-- St31 -->\n",
       "<g id=\"node12\" class=\"node\"><title>St31</title>\n",
       "<ellipse fill=\"none\" stroke=\"black\" cx=\"906.535\" cy=\"-30.3256\" rx=\"26.1523\" ry=\"26.1523\"/>\n",
       "<text text-anchor=\"middle\" x=\"906.535\" y=\"-26.1256\" font-family=\"Times,serif\" font-size=\"14.00\">St31</text>\n",
       "</g>\n",
       "<!-- St35&#45;&gt;St31 -->\n",
       "<g id=\"edge9\" class=\"edge\"><title>St35&#45;&gt;St31</title>\n",
       "<path fill=\"none\" stroke=\"black\" d=\"M837.475,-30.3256C847.489,-30.3256 859.146,-30.3256 869.955,-30.3256\"/>\n",
       "<polygon fill=\"black\" stroke=\"black\" points=\"869.976,-33.8257 879.976,-30.3256 869.975,-26.8257 869.976,-33.8257\"/>\n",
       "<text text-anchor=\"middle\" x=\"858.71\" y=\"-33.1256\" font-family=\"Times,serif\" font-size=\"14.00\">1</text>\n",
       "</g>\n",
       "<!-- St28 -->\n",
       "<g id=\"node5\" class=\"node\"><title>St28</title>\n",
       "<ellipse fill=\"none\" stroke=\"black\" cx=\"1807.4\" cy=\"-30.3256\" rx=\"26.1523\" ry=\"26.1523\"/>\n",
       "<text text-anchor=\"middle\" x=\"1807.4\" y=\"-26.1256\" font-family=\"Times,serif\" font-size=\"14.00\">St28</text>\n",
       "</g>\n",
       "<!-- St13 -->\n",
       "<g id=\"node14\" class=\"node\"><title>St13</title>\n",
       "<ellipse fill=\"none\" stroke=\"black\" cx=\"1907.05\" cy=\"-30.3256\" rx=\"26.1751\" ry=\"26.1751\"/>\n",
       "<ellipse fill=\"none\" stroke=\"black\" cx=\"1907.05\" cy=\"-30.3256\" rx=\"30.1522\" ry=\"30.1522\"/>\n",
       "<text text-anchor=\"middle\" x=\"1907.05\" y=\"-26.1256\" font-family=\"Times,serif\" font-size=\"14.00\">St13</text>\n",
       "</g>\n",
       "<!-- St28&#45;&gt;St13 -->\n",
       "<g id=\"edge19\" class=\"edge\"><title>St28&#45;&gt;St13</title>\n",
       "<path fill=\"none\" stroke=\"black\" d=\"M1833.8,-30.3256C1843.73,-30.3256 1855.36,-30.3256 1866.36,-30.3256\"/>\n",
       "<polygon fill=\"black\" stroke=\"black\" points=\"1866.62,-33.8257 1876.62,-30.3256 1866.62,-26.8257 1866.62,-33.8257\"/>\n",
       "<text text-anchor=\"middle\" x=\"1855.22\" y=\"-33.1256\" font-family=\"Times,serif\" font-size=\"14.00\">1</text>\n",
       "</g>\n",
       "<!-- St26 -->\n",
       "<g id=\"node6\" class=\"node\"><title>St26</title>\n",
       "<ellipse fill=\"none\" stroke=\"black\" cx=\"2413.3\" cy=\"-30.3256\" rx=\"26.1523\" ry=\"26.1523\"/>\n",
       "<text text-anchor=\"middle\" x=\"2413.3\" y=\"-26.1256\" font-family=\"Times,serif\" font-size=\"14.00\">St26</text>\n",
       "</g>\n",
       "<!-- St15 -->\n",
       "<g id=\"node17\" class=\"node\"><title>St15</title>\n",
       "<ellipse fill=\"none\" stroke=\"black\" cx=\"2512.95\" cy=\"-30.3256\" rx=\"26.1751\" ry=\"26.1751\"/>\n",
       "<ellipse fill=\"none\" stroke=\"black\" cx=\"2512.95\" cy=\"-30.3256\" rx=\"30.1522\" ry=\"30.1522\"/>\n",
       "<text text-anchor=\"middle\" x=\"2512.95\" y=\"-26.1256\" font-family=\"Times,serif\" font-size=\"14.00\">St15</text>\n",
       "</g>\n",
       "<!-- St26&#45;&gt;St15 -->\n",
       "<g id=\"edge25\" class=\"edge\"><title>St26&#45;&gt;St15</title>\n",
       "<path fill=\"none\" stroke=\"black\" d=\"M2439.7,-30.3256C2449.64,-30.3256 2461.27,-30.3256 2472.26,-30.3256\"/>\n",
       "<polygon fill=\"black\" stroke=\"black\" points=\"2472.53,-33.8257 2482.53,-30.3256 2472.53,-26.8257 2472.53,-33.8257\"/>\n",
       "<text text-anchor=\"middle\" x=\"2461.13\" y=\"-33.1256\" font-family=\"Times,serif\" font-size=\"14.00\">1</text>\n",
       "</g>\n",
       "<!-- St36 -->\n",
       "<g id=\"node7\" class=\"node\"><title>St36</title>\n",
       "<ellipse fill=\"none\" stroke=\"black\" cx=\"515.93\" cy=\"-30.3256\" rx=\"26.1523\" ry=\"26.1523\"/>\n",
       "<text text-anchor=\"middle\" x=\"515.93\" y=\"-26.1256\" font-family=\"Times,serif\" font-size=\"14.00\">St36</text>\n",
       "</g>\n",
       "<!-- St32 -->\n",
       "<g id=\"node10\" class=\"node\"><title>St32</title>\n",
       "<ellipse fill=\"none\" stroke=\"black\" cx=\"611.582\" cy=\"-30.3256\" rx=\"26.1523\" ry=\"26.1523\"/>\n",
       "<text text-anchor=\"middle\" x=\"611.582\" y=\"-26.1256\" font-family=\"Times,serif\" font-size=\"14.00\">St32</text>\n",
       "</g>\n",
       "<!-- St36&#45;&gt;St32 -->\n",
       "<g id=\"edge6\" class=\"edge\"><title>St36&#45;&gt;St32</title>\n",
       "<path fill=\"none\" stroke=\"black\" d=\"M542.521,-30.3256C552.535,-30.3256 564.193,-30.3256 575.001,-30.3256\"/>\n",
       "<polygon fill=\"black\" stroke=\"black\" points=\"575.022,-33.8257 585.022,-30.3256 575.022,-26.8257 575.022,-33.8257\"/>\n",
       "<text text-anchor=\"middle\" x=\"563.756\" y=\"-33.1256\" font-family=\"Times,serif\" font-size=\"14.00\">1</text>\n",
       "</g>\n",
       "<!-- St34 -->\n",
       "<g id=\"node8\" class=\"node\"><title>St34</title>\n",
       "<ellipse fill=\"none\" stroke=\"black\" cx=\"1105.84\" cy=\"-30.3256\" rx=\"26.1523\" ry=\"26.1523\"/>\n",
       "<text text-anchor=\"middle\" x=\"1105.84\" y=\"-26.1256\" font-family=\"Times,serif\" font-size=\"14.00\">St34</text>\n",
       "</g>\n",
       "<!-- St34&#45;&gt;St30 -->\n",
       "<g id=\"edge12\" class=\"edge\"><title>St34&#45;&gt;St30</title>\n",
       "<path fill=\"none\" stroke=\"black\" d=\"M1132.43,-30.3256C1142.44,-30.3256 1154.1,-30.3256 1164.91,-30.3256\"/>\n",
       "<polygon fill=\"black\" stroke=\"black\" points=\"1164.93,-33.8257 1174.93,-30.3256 1164.93,-26.8257 1164.93,-33.8257\"/>\n",
       "<text text-anchor=\"middle\" x=\"1153.66\" y=\"-33.1256\" font-family=\"Times,serif\" font-size=\"14.00\">1</text>\n",
       "</g>\n",
       "<!-- St33 -->\n",
       "<g id=\"node9\" class=\"node\"><title>St33</title>\n",
       "<ellipse fill=\"none\" stroke=\"black\" cx=\"316.628\" cy=\"-30.3256\" rx=\"26.1523\" ry=\"26.1523\"/>\n",
       "<text text-anchor=\"middle\" x=\"316.628\" y=\"-26.1256\" font-family=\"Times,serif\" font-size=\"14.00\">St33</text>\n",
       "</g>\n",
       "<!-- St23 -->\n",
       "<g id=\"node25\" class=\"node\"><title>St23</title>\n",
       "<ellipse fill=\"none\" stroke=\"black\" cx=\"416.279\" cy=\"-30.3256\" rx=\"26.1751\" ry=\"26.1751\"/>\n",
       "<ellipse fill=\"none\" stroke=\"black\" cx=\"416.279\" cy=\"-30.3256\" rx=\"30.1522\" ry=\"30.1522\"/>\n",
       "<text text-anchor=\"middle\" x=\"416.279\" y=\"-26.1256\" font-family=\"Times,serif\" font-size=\"14.00\">St23</text>\n",
       "</g>\n",
       "<!-- St33&#45;&gt;St23 -->\n",
       "<g id=\"edge4\" class=\"edge\"><title>St33&#45;&gt;St23</title>\n",
       "<path fill=\"none\" stroke=\"black\" d=\"M343.03,-30.3256C352.965,-30.3256 364.596,-30.3256 375.587,-30.3256\"/>\n",
       "<polygon fill=\"black\" stroke=\"black\" points=\"375.852,-33.8257 385.852,-30.3256 375.852,-26.8257 375.852,-33.8257\"/>\n",
       "<text text-anchor=\"middle\" x=\"364.454\" y=\"-33.1256\" font-family=\"Times,serif\" font-size=\"14.00\">1</text>\n",
       "</g>\n",
       "<!-- St22 -->\n",
       "<g id=\"node24\" class=\"node\"><title>St22</title>\n",
       "<ellipse fill=\"none\" stroke=\"black\" cx=\"711.233\" cy=\"-30.3256\" rx=\"26.1751\" ry=\"26.1751\"/>\n",
       "<ellipse fill=\"none\" stroke=\"black\" cx=\"711.233\" cy=\"-30.3256\" rx=\"30.1522\" ry=\"30.1522\"/>\n",
       "<text text-anchor=\"middle\" x=\"711.233\" y=\"-26.1256\" font-family=\"Times,serif\" font-size=\"14.00\">St22</text>\n",
       "</g>\n",
       "<!-- St32&#45;&gt;St22 -->\n",
       "<g id=\"edge7\" class=\"edge\"><title>St32&#45;&gt;St22</title>\n",
       "<path fill=\"none\" stroke=\"black\" d=\"M637.983,-30.3256C647.919,-30.3256 659.55,-30.3256 670.541,-30.3256\"/>\n",
       "<polygon fill=\"black\" stroke=\"black\" points=\"670.806,-33.8257 680.806,-30.3256 670.806,-26.8257 670.806,-33.8257\"/>\n",
       "<text text-anchor=\"middle\" x=\"659.407\" y=\"-33.1256\" font-family=\"Times,serif\" font-size=\"14.00\">1</text>\n",
       "</g>\n",
       "<!-- St27 -->\n",
       "<g id=\"node11\" class=\"node\"><title>St27</title>\n",
       "<ellipse fill=\"none\" stroke=\"black\" cx=\"2110.35\" cy=\"-30.3256\" rx=\"26.1523\" ry=\"26.1523\"/>\n",
       "<text text-anchor=\"middle\" x=\"2110.35\" y=\"-26.1256\" font-family=\"Times,serif\" font-size=\"14.00\">St27</text>\n",
       "</g>\n",
       "<!-- St12 -->\n",
       "<g id=\"node26\" class=\"node\"><title>St12</title>\n",
       "<ellipse fill=\"none\" stroke=\"black\" cx=\"2210\" cy=\"-30.3256\" rx=\"26.1751\" ry=\"26.1751\"/>\n",
       "<ellipse fill=\"none\" stroke=\"black\" cx=\"2210\" cy=\"-30.3256\" rx=\"30.1522\" ry=\"30.1522\"/>\n",
       "<text text-anchor=\"middle\" x=\"2210\" y=\"-26.1256\" font-family=\"Times,serif\" font-size=\"14.00\">St12</text>\n",
       "</g>\n",
       "<!-- St27&#45;&gt;St12 -->\n",
       "<g id=\"edge22\" class=\"edge\"><title>St27&#45;&gt;St12</title>\n",
       "<path fill=\"none\" stroke=\"black\" d=\"M2136.75,-30.3256C2146.69,-30.3256 2158.32,-30.3256 2169.31,-30.3256\"/>\n",
       "<polygon fill=\"black\" stroke=\"black\" points=\"2169.57,-33.8257 2179.57,-30.3256 2169.57,-26.8257 2169.57,-33.8257\"/>\n",
       "<text text-anchor=\"middle\" x=\"2158.18\" y=\"-33.1256\" font-family=\"Times,serif\" font-size=\"14.00\">1</text>\n",
       "</g>\n",
       "<!-- St21 -->\n",
       "<g id=\"node21\" class=\"node\"><title>St21</title>\n",
       "<ellipse fill=\"none\" stroke=\"black\" cx=\"1006.19\" cy=\"-30.3256\" rx=\"26.1751\" ry=\"26.1751\"/>\n",
       "<ellipse fill=\"none\" stroke=\"black\" cx=\"1006.19\" cy=\"-30.3256\" rx=\"30.1522\" ry=\"30.1522\"/>\n",
       "<text text-anchor=\"middle\" x=\"1006.19\" y=\"-26.1256\" font-family=\"Times,serif\" font-size=\"14.00\">St21</text>\n",
       "</g>\n",
       "<!-- St31&#45;&gt;St21 -->\n",
       "<g id=\"edge10\" class=\"edge\"><title>St31&#45;&gt;St21</title>\n",
       "<path fill=\"none\" stroke=\"black\" d=\"M932.937,-30.3256C942.872,-30.3256 954.503,-30.3256 965.494,-30.3256\"/>\n",
       "<polygon fill=\"black\" stroke=\"black\" points=\"965.76,-33.8257 975.759,-30.3256 965.759,-26.8257 965.76,-33.8257\"/>\n",
       "<text text-anchor=\"middle\" x=\"954.361\" y=\"-33.1256\" font-family=\"Times,serif\" font-size=\"14.00\">1</text>\n",
       "</g>\n",
       "<!-- St37 -->\n",
       "<g id=\"node13\" class=\"node\"><title>St37</title>\n",
       "<ellipse fill=\"none\" stroke=\"black\" cx=\"220.977\" cy=\"-30.3256\" rx=\"26.1523\" ry=\"26.1523\"/>\n",
       "<text text-anchor=\"middle\" x=\"220.977\" y=\"-26.1256\" font-family=\"Times,serif\" font-size=\"14.00\">St37</text>\n",
       "</g>\n",
       "<!-- St37&#45;&gt;St33 -->\n",
       "<g id=\"edge3\" class=\"edge\"><title>St37&#45;&gt;St33</title>\n",
       "<path fill=\"none\" stroke=\"black\" d=\"M247.567,-30.3256C257.581,-30.3256 269.239,-30.3256 280.047,-30.3256\"/>\n",
       "<polygon fill=\"black\" stroke=\"black\" points=\"280.068,-33.8257 290.068,-30.3256 280.068,-26.8257 280.068,-33.8257\"/>\n",
       "<text text-anchor=\"middle\" x=\"268.802\" y=\"-33.1256\" font-family=\"Times,serif\" font-size=\"14.00\">1</text>\n",
       "</g>\n",
       "<!-- St18 -->\n",
       "<g id=\"node23\" class=\"node\"><title>St18</title>\n",
       "<ellipse fill=\"none\" stroke=\"black\" cx=\"2010.7\" cy=\"-30.3256\" rx=\"26.1751\" ry=\"26.1751\"/>\n",
       "<ellipse fill=\"none\" stroke=\"black\" cx=\"2010.7\" cy=\"-30.3256\" rx=\"30.1522\" ry=\"30.1522\"/>\n",
       "<text text-anchor=\"middle\" x=\"2010.7\" y=\"-26.1256\" font-family=\"Times,serif\" font-size=\"14.00\">St18</text>\n",
       "</g>\n",
       "<!-- St13&#45;&gt;St18 -->\n",
       "<g id=\"edge20\" class=\"edge\"><title>St13&#45;&gt;St18</title>\n",
       "<path fill=\"none\" stroke=\"black\" d=\"M1937.45,-30.3256C1947.67,-30.3256 1959.3,-30.3256 1970.21,-30.3256\"/>\n",
       "<polygon fill=\"black\" stroke=\"black\" points=\"1970.36,-33.8257 1980.36,-30.3256 1970.36,-26.8257 1970.36,-33.8257\"/>\n",
       "<text text-anchor=\"middle\" x=\"1958.87\" y=\"-33.1256\" font-family=\"Times,serif\" font-size=\"14.00\">1</text>\n",
       "</g>\n",
       "<!-- St19 -->\n",
       "<g id=\"node20\" class=\"node\"><title>St19</title>\n",
       "<ellipse fill=\"none\" stroke=\"black\" cx=\"1707.74\" cy=\"-30.3256\" rx=\"26.1751\" ry=\"26.1751\"/>\n",
       "<ellipse fill=\"none\" stroke=\"black\" cx=\"1707.74\" cy=\"-30.3256\" rx=\"30.1522\" ry=\"30.1522\"/>\n",
       "<text text-anchor=\"middle\" x=\"1707.74\" y=\"-26.1256\" font-family=\"Times,serif\" font-size=\"14.00\">St19</text>\n",
       "</g>\n",
       "<!-- St14&#45;&gt;St19 -->\n",
       "<g id=\"edge17\" class=\"edge\"><title>St14&#45;&gt;St19</title>\n",
       "<path fill=\"none\" stroke=\"black\" d=\"M1634.5,-30.3256C1644.72,-30.3256 1656.35,-30.3256 1667.25,-30.3256\"/>\n",
       "<polygon fill=\"black\" stroke=\"black\" points=\"1667.41,-33.8257 1677.41,-30.3256 1667.41,-26.8257 1667.41,-33.8257\"/>\n",
       "<text text-anchor=\"middle\" x=\"1655.92\" y=\"-33.1256\" font-family=\"Times,serif\" font-size=\"14.00\">1</text>\n",
       "</g>\n",
       "<!-- St24 -->\n",
       "<g id=\"node19\" class=\"node\"><title>St24</title>\n",
       "<ellipse fill=\"none\" stroke=\"black\" cx=\"1404.79\" cy=\"-30.3256\" rx=\"26.1751\" ry=\"26.1751\"/>\n",
       "<ellipse fill=\"none\" stroke=\"black\" cx=\"1404.79\" cy=\"-30.3256\" rx=\"30.1522\" ry=\"30.1522\"/>\n",
       "<text text-anchor=\"middle\" x=\"1404.79\" y=\"-26.1256\" font-family=\"Times,serif\" font-size=\"14.00\">St24</text>\n",
       "</g>\n",
       "<!-- St20&#45;&gt;St24 -->\n",
       "<g id=\"edge14\" class=\"edge\"><title>St20&#45;&gt;St24</title>\n",
       "<path fill=\"none\" stroke=\"black\" d=\"M1331.54,-30.3256C1341.76,-30.3256 1353.4,-30.3256 1364.3,-30.3256\"/>\n",
       "<polygon fill=\"black\" stroke=\"black\" points=\"1364.46,-33.8257 1374.46,-30.3256 1364.46,-26.8257 1364.46,-33.8257\"/>\n",
       "<text text-anchor=\"middle\" x=\"1352.97\" y=\"-33.1256\" font-family=\"Times,serif\" font-size=\"14.00\">1</text>\n",
       "</g>\n",
       "<!-- St15&#45;&gt;St15 -->\n",
       "<g id=\"edge26\" class=\"edge\"><title>St15&#45;&gt;St15</title>\n",
       "<path fill=\"none\" stroke=\"black\" d=\"M2503.59,-59.5795C2503.39,-70.0857 2506.51,-78.6512 2512.95,-78.6512 2517.08,-78.6512 2519.85,-75.1359 2521.25,-69.8471\"/>\n",
       "<polygon fill=\"black\" stroke=\"black\" points=\"2524.76,-69.8886 2522.32,-59.5795 2517.8,-69.1626 2524.76,-69.8886\"/>\n",
       "<text text-anchor=\"middle\" x=\"2512.95\" y=\"-81.4512\" font-family=\"Times,serif\" font-size=\"14.00\">1</text>\n",
       "</g>\n",
       "<!-- St25&#45;&gt;St37 -->\n",
       "<g id=\"edge2\" class=\"edge\"><title>St25&#45;&gt;St37</title>\n",
       "<path fill=\"none\" stroke=\"black\" d=\"M151.889,-30.3256C162.078,-30.3256 173.599,-30.3256 184.228,-30.3256\"/>\n",
       "<polygon fill=\"black\" stroke=\"black\" points=\"184.477,-33.8257 194.477,-30.3256 184.476,-26.8257 184.477,-33.8257\"/>\n",
       "<text text-anchor=\"middle\" x=\"173.151\" y=\"-33.1256\" font-family=\"Times,serif\" font-size=\"14.00\">1</text>\n",
       "</g>\n",
       "<!-- St24&#45;&gt;St29 -->\n",
       "<g id=\"edge15\" class=\"edge\"><title>St24&#45;&gt;St29</title>\n",
       "<path fill=\"none\" stroke=\"black\" d=\"M1435.35,-30.3256C1445.54,-30.3256 1457.06,-30.3256 1467.69,-30.3256\"/>\n",
       "<polygon fill=\"black\" stroke=\"black\" points=\"1467.94,-33.8257 1477.94,-30.3256 1467.94,-26.8257 1467.94,-33.8257\"/>\n",
       "<text text-anchor=\"middle\" x=\"1456.62\" y=\"-33.1256\" font-family=\"Times,serif\" font-size=\"14.00\">1</text>\n",
       "</g>\n",
       "<!-- St19&#45;&gt;St28 -->\n",
       "<g id=\"edge18\" class=\"edge\"><title>St19&#45;&gt;St28</title>\n",
       "<path fill=\"none\" stroke=\"black\" d=\"M1738.31,-30.3256C1748.5,-30.3256 1760.02,-30.3256 1770.65,-30.3256\"/>\n",
       "<polygon fill=\"black\" stroke=\"black\" points=\"1770.9,-33.8257 1780.9,-30.3256 1770.9,-26.8257 1770.9,-33.8257\"/>\n",
       "<text text-anchor=\"middle\" x=\"1759.57\" y=\"-33.1256\" font-family=\"Times,serif\" font-size=\"14.00\">1</text>\n",
       "</g>\n",
       "<!-- St21&#45;&gt;St34 -->\n",
       "<g id=\"edge11\" class=\"edge\"><title>St21&#45;&gt;St34</title>\n",
       "<path fill=\"none\" stroke=\"black\" d=\"M1036.75,-30.3256C1046.94,-30.3256 1058.46,-30.3256 1069.09,-30.3256\"/>\n",
       "<polygon fill=\"black\" stroke=\"black\" points=\"1069.34,-33.8257 1079.34,-30.3256 1069.34,-26.8257 1069.34,-33.8257\"/>\n",
       "<text text-anchor=\"middle\" x=\"1058.01\" y=\"-33.1256\" font-family=\"Times,serif\" font-size=\"14.00\">1</text>\n",
       "</g>\n",
       "<!-- St17 -->\n",
       "<g id=\"node22\" class=\"node\"><title>St17</title>\n",
       "<ellipse fill=\"none\" stroke=\"black\" cx=\"2313.65\" cy=\"-30.3256\" rx=\"26.1751\" ry=\"26.1751\"/>\n",
       "<ellipse fill=\"none\" stroke=\"black\" cx=\"2313.65\" cy=\"-30.3256\" rx=\"30.1522\" ry=\"30.1522\"/>\n",
       "<text text-anchor=\"middle\" x=\"2313.65\" y=\"-26.1256\" font-family=\"Times,serif\" font-size=\"14.00\">St17</text>\n",
       "</g>\n",
       "<!-- St17&#45;&gt;St26 -->\n",
       "<g id=\"edge24\" class=\"edge\"><title>St17&#45;&gt;St26</title>\n",
       "<path fill=\"none\" stroke=\"black\" d=\"M2344.22,-30.3256C2354.4,-30.3256 2365.93,-30.3256 2376.55,-30.3256\"/>\n",
       "<polygon fill=\"black\" stroke=\"black\" points=\"2376.8,-33.8257 2386.8,-30.3256 2376.8,-26.8257 2376.8,-33.8257\"/>\n",
       "<text text-anchor=\"middle\" x=\"2365.48\" y=\"-33.1256\" font-family=\"Times,serif\" font-size=\"14.00\">1</text>\n",
       "</g>\n",
       "<!-- St18&#45;&gt;St27 -->\n",
       "<g id=\"edge21\" class=\"edge\"><title>St18&#45;&gt;St27</title>\n",
       "<path fill=\"none\" stroke=\"black\" d=\"M2041.26,-30.3256C2051.45,-30.3256 2062.97,-30.3256 2073.6,-30.3256\"/>\n",
       "<polygon fill=\"black\" stroke=\"black\" points=\"2073.85,-33.8257 2083.85,-30.3256 2073.85,-26.8257 2073.85,-33.8257\"/>\n",
       "<text text-anchor=\"middle\" x=\"2062.52\" y=\"-33.1256\" font-family=\"Times,serif\" font-size=\"14.00\">1</text>\n",
       "</g>\n",
       "<!-- St22&#45;&gt;St35 -->\n",
       "<g id=\"edge8\" class=\"edge\"><title>St22&#45;&gt;St35</title>\n",
       "<path fill=\"none\" stroke=\"black\" d=\"M741.796,-30.3256C751.985,-30.3256 763.506,-30.3256 774.135,-30.3256\"/>\n",
       "<polygon fill=\"black\" stroke=\"black\" points=\"774.384,-33.8257 784.384,-30.3256 774.384,-26.8257 774.384,-33.8257\"/>\n",
       "<text text-anchor=\"middle\" x=\"763.058\" y=\"-33.1256\" font-family=\"Times,serif\" font-size=\"14.00\">1</text>\n",
       "</g>\n",
       "<!-- St23&#45;&gt;St36 -->\n",
       "<g id=\"edge5\" class=\"edge\"><title>St23&#45;&gt;St36</title>\n",
       "<path fill=\"none\" stroke=\"black\" d=\"M446.843,-30.3256C457.031,-30.3256 468.553,-30.3256 479.181,-30.3256\"/>\n",
       "<polygon fill=\"black\" stroke=\"black\" points=\"479.43,-33.8257 489.43,-30.3256 479.43,-26.8257 479.43,-33.8257\"/>\n",
       "<text text-anchor=\"middle\" x=\"468.105\" y=\"-33.1256\" font-family=\"Times,serif\" font-size=\"14.00\">1</text>\n",
       "</g>\n",
       "<!-- St12&#45;&gt;St17 -->\n",
       "<g id=\"edge23\" class=\"edge\"><title>St12&#45;&gt;St17</title>\n",
       "<path fill=\"none\" stroke=\"black\" d=\"M2240.4,-30.3256C2250.62,-30.3256 2262.26,-30.3256 2273.16,-30.3256\"/>\n",
       "<polygon fill=\"black\" stroke=\"black\" points=\"2273.32,-33.8257 2283.32,-30.3256 2273.32,-26.8257 2273.32,-33.8257\"/>\n",
       "<text text-anchor=\"middle\" x=\"2261.83\" y=\"-33.1256\" font-family=\"Times,serif\" font-size=\"14.00\">1</text>\n",
       "</g>\n",
       "</g>\n",
       "</svg>\n"
      ],
      "text/plain": [
       "<graphviz.dot.Digraph at 0x10d26b8d0>"
      ]
     },
     "execution_count": 75,
     "metadata": {},
     "output_type": "execute_result"
    }
   ],
   "source": [
    "dotObj_dfa(min_dfa(nfa2dfa(re2nfa(\"(111+1111111111111)*\"))))"
   ]
  },
  {
   "cell_type": "code",
   "execution_count": 76,
   "metadata": {
    "run_control": {
     "frozen": false,
     "read_only": false
    }
   },
   "outputs": [
    {
     "data": {
      "text/plain": [
       "0"
      ]
     },
     "execution_count": 76,
     "metadata": {},
     "output_type": "execute_result"
    }
   ],
   "source": [
    "ResetStNum()"
   ]
  },
  {
   "cell_type": "code",
   "execution_count": 77,
   "metadata": {
    "run_control": {
     "frozen": false,
     "read_only": false
    }
   },
   "outputs": [
    {
     "name": "stderr",
     "output_type": "stream",
     "text": [
      "Generating LALR tables\n"
     ]
    },
    {
     "data": {
      "image/svg+xml": [
       "<?xml version=\"1.0\" encoding=\"UTF-8\" standalone=\"no\"?>\n",
       "<!DOCTYPE svg PUBLIC \"-//W3C//DTD SVG 1.1//EN\"\n",
       " \"http://www.w3.org/Graphics/SVG/1.1/DTD/svg11.dtd\">\n",
       "<!-- Generated by graphviz version 2.38.0 (20140413.2041)\n",
       " -->\n",
       "<!-- Title: %3 Pages: 1 -->\n",
       "<svg width=\"2551pt\" height=\"101pt\"\n",
       " viewBox=\"0.00 0.00 2551.28 100.65\" xmlns=\"http://www.w3.org/2000/svg\" xmlns:xlink=\"http://www.w3.org/1999/xlink\">\n",
       "<g id=\"graph0\" class=\"graph\" transform=\"scale(1 1) rotate(0) translate(4 96.6512)\">\n",
       "<title>%3</title>\n",
       "<polygon fill=\"white\" stroke=\"none\" points=\"-4,4 -4,-96.6512 2547.28,-96.6512 2547.28,4 -4,4\"/>\n",
       "<!-- EMPTY -->\n",
       "<g id=\"node1\" class=\"node\"><title>EMPTY</title>\n",
       "</g>\n",
       "<!-- St25 -->\n",
       "<g id=\"node18\" class=\"node\"><title>St25</title>\n",
       "<ellipse fill=\"none\" stroke=\"black\" cx=\"121.326\" cy=\"-30.3256\" rx=\"26.1751\" ry=\"26.1751\"/>\n",
       "<ellipse fill=\"none\" stroke=\"black\" cx=\"121.326\" cy=\"-30.3256\" rx=\"30.1522\" ry=\"30.1522\"/>\n",
       "<text text-anchor=\"middle\" x=\"121.326\" y=\"-26.1256\" font-family=\"Times,serif\" font-size=\"14.00\">St25</text>\n",
       "</g>\n",
       "<!-- EMPTY&#45;&gt;St25 -->\n",
       "<g id=\"edge1\" class=\"edge\"><title>EMPTY&#45;&gt;St25</title>\n",
       "<path fill=\"none\" stroke=\"black\" d=\"M54.2099,-30.3256C62.4098,-30.3256 71.6499,-30.3256 80.5651,-30.3256\"/>\n",
       "<polygon fill=\"black\" stroke=\"black\" points=\"80.7998,-33.8257 90.7998,-30.3256 80.7998,-26.8257 80.7998,-33.8257\"/>\n",
       "</g>\n",
       "<!-- St30 -->\n",
       "<g id=\"node2\" class=\"node\"><title>St30</title>\n",
       "<ellipse fill=\"none\" stroke=\"black\" cx=\"1201.49\" cy=\"-30.3256\" rx=\"26.1523\" ry=\"26.1523\"/>\n",
       "<text text-anchor=\"middle\" x=\"1201.49\" y=\"-26.1256\" font-family=\"Times,serif\" font-size=\"14.00\">St30</text>\n",
       "</g>\n",
       "<!-- St20 -->\n",
       "<g id=\"node16\" class=\"node\"><title>St20</title>\n",
       "<ellipse fill=\"none\" stroke=\"black\" cx=\"1301.14\" cy=\"-30.3256\" rx=\"26.1751\" ry=\"26.1751\"/>\n",
       "<ellipse fill=\"none\" stroke=\"black\" cx=\"1301.14\" cy=\"-30.3256\" rx=\"30.1522\" ry=\"30.1522\"/>\n",
       "<text text-anchor=\"middle\" x=\"1301.14\" y=\"-26.1256\" font-family=\"Times,serif\" font-size=\"14.00\">St20</text>\n",
       "</g>\n",
       "<!-- St30&#45;&gt;St20 -->\n",
       "<g id=\"edge13\" class=\"edge\"><title>St30&#45;&gt;St20</title>\n",
       "<path fill=\"none\" stroke=\"black\" d=\"M1227.89,-30.3256C1237.83,-30.3256 1249.46,-30.3256 1260.45,-30.3256\"/>\n",
       "<polygon fill=\"black\" stroke=\"black\" points=\"1260.71,-33.8257 1270.71,-30.3256 1260.71,-26.8257 1260.71,-33.8257\"/>\n",
       "<text text-anchor=\"middle\" x=\"1249.31\" y=\"-33.1256\" font-family=\"Times,serif\" font-size=\"14.00\">1</text>\n",
       "</g>\n",
       "<!-- St29 -->\n",
       "<g id=\"node3\" class=\"node\"><title>St29</title>\n",
       "<ellipse fill=\"none\" stroke=\"black\" cx=\"1504.44\" cy=\"-30.3256\" rx=\"26.1523\" ry=\"26.1523\"/>\n",
       "<text text-anchor=\"middle\" x=\"1504.44\" y=\"-26.1256\" font-family=\"Times,serif\" font-size=\"14.00\">St29</text>\n",
       "</g>\n",
       "<!-- St14 -->\n",
       "<g id=\"node15\" class=\"node\"><title>St14</title>\n",
       "<ellipse fill=\"none\" stroke=\"black\" cx=\"1604.09\" cy=\"-30.3256\" rx=\"26.1751\" ry=\"26.1751\"/>\n",
       "<ellipse fill=\"none\" stroke=\"black\" cx=\"1604.09\" cy=\"-30.3256\" rx=\"30.1522\" ry=\"30.1522\"/>\n",
       "<text text-anchor=\"middle\" x=\"1604.09\" y=\"-26.1256\" font-family=\"Times,serif\" font-size=\"14.00\">St14</text>\n",
       "</g>\n",
       "<!-- St29&#45;&gt;St14 -->\n",
       "<g id=\"edge16\" class=\"edge\"><title>St29&#45;&gt;St14</title>\n",
       "<path fill=\"none\" stroke=\"black\" d=\"M1530.84,-30.3256C1540.78,-30.3256 1552.41,-30.3256 1563.4,-30.3256\"/>\n",
       "<polygon fill=\"black\" stroke=\"black\" points=\"1563.67,-33.8257 1573.67,-30.3256 1563.67,-26.8257 1563.67,-33.8257\"/>\n",
       "<text text-anchor=\"middle\" x=\"1552.27\" y=\"-33.1256\" font-family=\"Times,serif\" font-size=\"14.00\">1</text>\n",
       "</g>\n",
       "<!-- St35 -->\n",
       "<g id=\"node4\" class=\"node\"><title>St35</title>\n",
       "<ellipse fill=\"none\" stroke=\"black\" cx=\"810.884\" cy=\"-30.3256\" rx=\"26.1523\" ry=\"26.1523\"/>\n",
       "<text text-anchor=\"middle\" x=\"810.884\" y=\"-26.1256\" font-family=\"Times,serif\" font-size=\"14.00\">St35</text>\n",
       "</g>\n",
       "<!-- St31 -->\n",
       "<g id=\"node12\" class=\"node\"><title>St31</title>\n",
       "<ellipse fill=\"none\" stroke=\"black\" cx=\"906.535\" cy=\"-30.3256\" rx=\"26.1523\" ry=\"26.1523\"/>\n",
       "<text text-anchor=\"middle\" x=\"906.535\" y=\"-26.1256\" font-family=\"Times,serif\" font-size=\"14.00\">St31</text>\n",
       "</g>\n",
       "<!-- St35&#45;&gt;St31 -->\n",
       "<g id=\"edge9\" class=\"edge\"><title>St35&#45;&gt;St31</title>\n",
       "<path fill=\"none\" stroke=\"black\" d=\"M837.475,-30.3256C847.489,-30.3256 859.146,-30.3256 869.955,-30.3256\"/>\n",
       "<polygon fill=\"black\" stroke=\"black\" points=\"869.976,-33.8257 879.976,-30.3256 869.975,-26.8257 869.976,-33.8257\"/>\n",
       "<text text-anchor=\"middle\" x=\"858.71\" y=\"-33.1256\" font-family=\"Times,serif\" font-size=\"14.00\">1</text>\n",
       "</g>\n",
       "<!-- St28 -->\n",
       "<g id=\"node5\" class=\"node\"><title>St28</title>\n",
       "<ellipse fill=\"none\" stroke=\"black\" cx=\"1807.4\" cy=\"-30.3256\" rx=\"26.1523\" ry=\"26.1523\"/>\n",
       "<text text-anchor=\"middle\" x=\"1807.4\" y=\"-26.1256\" font-family=\"Times,serif\" font-size=\"14.00\">St28</text>\n",
       "</g>\n",
       "<!-- St13 -->\n",
       "<g id=\"node14\" class=\"node\"><title>St13</title>\n",
       "<ellipse fill=\"none\" stroke=\"black\" cx=\"1907.05\" cy=\"-30.3256\" rx=\"26.1751\" ry=\"26.1751\"/>\n",
       "<ellipse fill=\"none\" stroke=\"black\" cx=\"1907.05\" cy=\"-30.3256\" rx=\"30.1522\" ry=\"30.1522\"/>\n",
       "<text text-anchor=\"middle\" x=\"1907.05\" y=\"-26.1256\" font-family=\"Times,serif\" font-size=\"14.00\">St13</text>\n",
       "</g>\n",
       "<!-- St28&#45;&gt;St13 -->\n",
       "<g id=\"edge19\" class=\"edge\"><title>St28&#45;&gt;St13</title>\n",
       "<path fill=\"none\" stroke=\"black\" d=\"M1833.8,-30.3256C1843.73,-30.3256 1855.36,-30.3256 1866.36,-30.3256\"/>\n",
       "<polygon fill=\"black\" stroke=\"black\" points=\"1866.62,-33.8257 1876.62,-30.3256 1866.62,-26.8257 1866.62,-33.8257\"/>\n",
       "<text text-anchor=\"middle\" x=\"1855.22\" y=\"-33.1256\" font-family=\"Times,serif\" font-size=\"14.00\">1</text>\n",
       "</g>\n",
       "<!-- St26 -->\n",
       "<g id=\"node6\" class=\"node\"><title>St26</title>\n",
       "<ellipse fill=\"none\" stroke=\"black\" cx=\"2413.3\" cy=\"-30.3256\" rx=\"26.1523\" ry=\"26.1523\"/>\n",
       "<text text-anchor=\"middle\" x=\"2413.3\" y=\"-26.1256\" font-family=\"Times,serif\" font-size=\"14.00\">St26</text>\n",
       "</g>\n",
       "<!-- St15 -->\n",
       "<g id=\"node17\" class=\"node\"><title>St15</title>\n",
       "<ellipse fill=\"none\" stroke=\"black\" cx=\"2512.95\" cy=\"-30.3256\" rx=\"26.1751\" ry=\"26.1751\"/>\n",
       "<ellipse fill=\"none\" stroke=\"black\" cx=\"2512.95\" cy=\"-30.3256\" rx=\"30.1522\" ry=\"30.1522\"/>\n",
       "<text text-anchor=\"middle\" x=\"2512.95\" y=\"-26.1256\" font-family=\"Times,serif\" font-size=\"14.00\">St15</text>\n",
       "</g>\n",
       "<!-- St26&#45;&gt;St15 -->\n",
       "<g id=\"edge25\" class=\"edge\"><title>St26&#45;&gt;St15</title>\n",
       "<path fill=\"none\" stroke=\"black\" d=\"M2439.7,-30.3256C2449.64,-30.3256 2461.27,-30.3256 2472.26,-30.3256\"/>\n",
       "<polygon fill=\"black\" stroke=\"black\" points=\"2472.53,-33.8257 2482.53,-30.3256 2472.53,-26.8257 2472.53,-33.8257\"/>\n",
       "<text text-anchor=\"middle\" x=\"2461.13\" y=\"-33.1256\" font-family=\"Times,serif\" font-size=\"14.00\">1</text>\n",
       "</g>\n",
       "<!-- St36 -->\n",
       "<g id=\"node7\" class=\"node\"><title>St36</title>\n",
       "<ellipse fill=\"none\" stroke=\"black\" cx=\"515.93\" cy=\"-30.3256\" rx=\"26.1523\" ry=\"26.1523\"/>\n",
       "<text text-anchor=\"middle\" x=\"515.93\" y=\"-26.1256\" font-family=\"Times,serif\" font-size=\"14.00\">St36</text>\n",
       "</g>\n",
       "<!-- St32 -->\n",
       "<g id=\"node10\" class=\"node\"><title>St32</title>\n",
       "<ellipse fill=\"none\" stroke=\"black\" cx=\"611.582\" cy=\"-30.3256\" rx=\"26.1523\" ry=\"26.1523\"/>\n",
       "<text text-anchor=\"middle\" x=\"611.582\" y=\"-26.1256\" font-family=\"Times,serif\" font-size=\"14.00\">St32</text>\n",
       "</g>\n",
       "<!-- St36&#45;&gt;St32 -->\n",
       "<g id=\"edge6\" class=\"edge\"><title>St36&#45;&gt;St32</title>\n",
       "<path fill=\"none\" stroke=\"black\" d=\"M542.521,-30.3256C552.535,-30.3256 564.193,-30.3256 575.001,-30.3256\"/>\n",
       "<polygon fill=\"black\" stroke=\"black\" points=\"575.022,-33.8257 585.022,-30.3256 575.022,-26.8257 575.022,-33.8257\"/>\n",
       "<text text-anchor=\"middle\" x=\"563.756\" y=\"-33.1256\" font-family=\"Times,serif\" font-size=\"14.00\">1</text>\n",
       "</g>\n",
       "<!-- St34 -->\n",
       "<g id=\"node8\" class=\"node\"><title>St34</title>\n",
       "<ellipse fill=\"none\" stroke=\"black\" cx=\"1105.84\" cy=\"-30.3256\" rx=\"26.1523\" ry=\"26.1523\"/>\n",
       "<text text-anchor=\"middle\" x=\"1105.84\" y=\"-26.1256\" font-family=\"Times,serif\" font-size=\"14.00\">St34</text>\n",
       "</g>\n",
       "<!-- St34&#45;&gt;St30 -->\n",
       "<g id=\"edge12\" class=\"edge\"><title>St34&#45;&gt;St30</title>\n",
       "<path fill=\"none\" stroke=\"black\" d=\"M1132.43,-30.3256C1142.44,-30.3256 1154.1,-30.3256 1164.91,-30.3256\"/>\n",
       "<polygon fill=\"black\" stroke=\"black\" points=\"1164.93,-33.8257 1174.93,-30.3256 1164.93,-26.8257 1164.93,-33.8257\"/>\n",
       "<text text-anchor=\"middle\" x=\"1153.66\" y=\"-33.1256\" font-family=\"Times,serif\" font-size=\"14.00\">1</text>\n",
       "</g>\n",
       "<!-- St33 -->\n",
       "<g id=\"node9\" class=\"node\"><title>St33</title>\n",
       "<ellipse fill=\"none\" stroke=\"black\" cx=\"316.628\" cy=\"-30.3256\" rx=\"26.1523\" ry=\"26.1523\"/>\n",
       "<text text-anchor=\"middle\" x=\"316.628\" y=\"-26.1256\" font-family=\"Times,serif\" font-size=\"14.00\">St33</text>\n",
       "</g>\n",
       "<!-- St23 -->\n",
       "<g id=\"node25\" class=\"node\"><title>St23</title>\n",
       "<ellipse fill=\"none\" stroke=\"black\" cx=\"416.279\" cy=\"-30.3256\" rx=\"26.1751\" ry=\"26.1751\"/>\n",
       "<ellipse fill=\"none\" stroke=\"black\" cx=\"416.279\" cy=\"-30.3256\" rx=\"30.1522\" ry=\"30.1522\"/>\n",
       "<text text-anchor=\"middle\" x=\"416.279\" y=\"-26.1256\" font-family=\"Times,serif\" font-size=\"14.00\">St23</text>\n",
       "</g>\n",
       "<!-- St33&#45;&gt;St23 -->\n",
       "<g id=\"edge4\" class=\"edge\"><title>St33&#45;&gt;St23</title>\n",
       "<path fill=\"none\" stroke=\"black\" d=\"M343.03,-30.3256C352.965,-30.3256 364.596,-30.3256 375.587,-30.3256\"/>\n",
       "<polygon fill=\"black\" stroke=\"black\" points=\"375.852,-33.8257 385.852,-30.3256 375.852,-26.8257 375.852,-33.8257\"/>\n",
       "<text text-anchor=\"middle\" x=\"364.454\" y=\"-33.1256\" font-family=\"Times,serif\" font-size=\"14.00\">1</text>\n",
       "</g>\n",
       "<!-- St22 -->\n",
       "<g id=\"node24\" class=\"node\"><title>St22</title>\n",
       "<ellipse fill=\"none\" stroke=\"black\" cx=\"711.233\" cy=\"-30.3256\" rx=\"26.1751\" ry=\"26.1751\"/>\n",
       "<ellipse fill=\"none\" stroke=\"black\" cx=\"711.233\" cy=\"-30.3256\" rx=\"30.1522\" ry=\"30.1522\"/>\n",
       "<text text-anchor=\"middle\" x=\"711.233\" y=\"-26.1256\" font-family=\"Times,serif\" font-size=\"14.00\">St22</text>\n",
       "</g>\n",
       "<!-- St32&#45;&gt;St22 -->\n",
       "<g id=\"edge7\" class=\"edge\"><title>St32&#45;&gt;St22</title>\n",
       "<path fill=\"none\" stroke=\"black\" d=\"M637.983,-30.3256C647.919,-30.3256 659.55,-30.3256 670.541,-30.3256\"/>\n",
       "<polygon fill=\"black\" stroke=\"black\" points=\"670.806,-33.8257 680.806,-30.3256 670.806,-26.8257 670.806,-33.8257\"/>\n",
       "<text text-anchor=\"middle\" x=\"659.407\" y=\"-33.1256\" font-family=\"Times,serif\" font-size=\"14.00\">1</text>\n",
       "</g>\n",
       "<!-- St27 -->\n",
       "<g id=\"node11\" class=\"node\"><title>St27</title>\n",
       "<ellipse fill=\"none\" stroke=\"black\" cx=\"2110.35\" cy=\"-30.3256\" rx=\"26.1523\" ry=\"26.1523\"/>\n",
       "<text text-anchor=\"middle\" x=\"2110.35\" y=\"-26.1256\" font-family=\"Times,serif\" font-size=\"14.00\">St27</text>\n",
       "</g>\n",
       "<!-- St12 -->\n",
       "<g id=\"node26\" class=\"node\"><title>St12</title>\n",
       "<ellipse fill=\"none\" stroke=\"black\" cx=\"2210\" cy=\"-30.3256\" rx=\"26.1751\" ry=\"26.1751\"/>\n",
       "<ellipse fill=\"none\" stroke=\"black\" cx=\"2210\" cy=\"-30.3256\" rx=\"30.1522\" ry=\"30.1522\"/>\n",
       "<text text-anchor=\"middle\" x=\"2210\" y=\"-26.1256\" font-family=\"Times,serif\" font-size=\"14.00\">St12</text>\n",
       "</g>\n",
       "<!-- St27&#45;&gt;St12 -->\n",
       "<g id=\"edge22\" class=\"edge\"><title>St27&#45;&gt;St12</title>\n",
       "<path fill=\"none\" stroke=\"black\" d=\"M2136.75,-30.3256C2146.69,-30.3256 2158.32,-30.3256 2169.31,-30.3256\"/>\n",
       "<polygon fill=\"black\" stroke=\"black\" points=\"2169.57,-33.8257 2179.57,-30.3256 2169.57,-26.8257 2169.57,-33.8257\"/>\n",
       "<text text-anchor=\"middle\" x=\"2158.18\" y=\"-33.1256\" font-family=\"Times,serif\" font-size=\"14.00\">1</text>\n",
       "</g>\n",
       "<!-- St21 -->\n",
       "<g id=\"node21\" class=\"node\"><title>St21</title>\n",
       "<ellipse fill=\"none\" stroke=\"black\" cx=\"1006.19\" cy=\"-30.3256\" rx=\"26.1751\" ry=\"26.1751\"/>\n",
       "<ellipse fill=\"none\" stroke=\"black\" cx=\"1006.19\" cy=\"-30.3256\" rx=\"30.1522\" ry=\"30.1522\"/>\n",
       "<text text-anchor=\"middle\" x=\"1006.19\" y=\"-26.1256\" font-family=\"Times,serif\" font-size=\"14.00\">St21</text>\n",
       "</g>\n",
       "<!-- St31&#45;&gt;St21 -->\n",
       "<g id=\"edge10\" class=\"edge\"><title>St31&#45;&gt;St21</title>\n",
       "<path fill=\"none\" stroke=\"black\" d=\"M932.937,-30.3256C942.872,-30.3256 954.503,-30.3256 965.494,-30.3256\"/>\n",
       "<polygon fill=\"black\" stroke=\"black\" points=\"965.76,-33.8257 975.759,-30.3256 965.759,-26.8257 965.76,-33.8257\"/>\n",
       "<text text-anchor=\"middle\" x=\"954.361\" y=\"-33.1256\" font-family=\"Times,serif\" font-size=\"14.00\">1</text>\n",
       "</g>\n",
       "<!-- St37 -->\n",
       "<g id=\"node13\" class=\"node\"><title>St37</title>\n",
       "<ellipse fill=\"none\" stroke=\"black\" cx=\"220.977\" cy=\"-30.3256\" rx=\"26.1523\" ry=\"26.1523\"/>\n",
       "<text text-anchor=\"middle\" x=\"220.977\" y=\"-26.1256\" font-family=\"Times,serif\" font-size=\"14.00\">St37</text>\n",
       "</g>\n",
       "<!-- St37&#45;&gt;St33 -->\n",
       "<g id=\"edge3\" class=\"edge\"><title>St37&#45;&gt;St33</title>\n",
       "<path fill=\"none\" stroke=\"black\" d=\"M247.567,-30.3256C257.581,-30.3256 269.239,-30.3256 280.047,-30.3256\"/>\n",
       "<polygon fill=\"black\" stroke=\"black\" points=\"280.068,-33.8257 290.068,-30.3256 280.068,-26.8257 280.068,-33.8257\"/>\n",
       "<text text-anchor=\"middle\" x=\"268.802\" y=\"-33.1256\" font-family=\"Times,serif\" font-size=\"14.00\">1</text>\n",
       "</g>\n",
       "<!-- St18 -->\n",
       "<g id=\"node23\" class=\"node\"><title>St18</title>\n",
       "<ellipse fill=\"none\" stroke=\"black\" cx=\"2010.7\" cy=\"-30.3256\" rx=\"26.1751\" ry=\"26.1751\"/>\n",
       "<ellipse fill=\"none\" stroke=\"black\" cx=\"2010.7\" cy=\"-30.3256\" rx=\"30.1522\" ry=\"30.1522\"/>\n",
       "<text text-anchor=\"middle\" x=\"2010.7\" y=\"-26.1256\" font-family=\"Times,serif\" font-size=\"14.00\">St18</text>\n",
       "</g>\n",
       "<!-- St13&#45;&gt;St18 -->\n",
       "<g id=\"edge20\" class=\"edge\"><title>St13&#45;&gt;St18</title>\n",
       "<path fill=\"none\" stroke=\"black\" d=\"M1937.45,-30.3256C1947.67,-30.3256 1959.3,-30.3256 1970.21,-30.3256\"/>\n",
       "<polygon fill=\"black\" stroke=\"black\" points=\"1970.36,-33.8257 1980.36,-30.3256 1970.36,-26.8257 1970.36,-33.8257\"/>\n",
       "<text text-anchor=\"middle\" x=\"1958.87\" y=\"-33.1256\" font-family=\"Times,serif\" font-size=\"14.00\">1</text>\n",
       "</g>\n",
       "<!-- St19 -->\n",
       "<g id=\"node20\" class=\"node\"><title>St19</title>\n",
       "<ellipse fill=\"none\" stroke=\"black\" cx=\"1707.74\" cy=\"-30.3256\" rx=\"26.1751\" ry=\"26.1751\"/>\n",
       "<ellipse fill=\"none\" stroke=\"black\" cx=\"1707.74\" cy=\"-30.3256\" rx=\"30.1522\" ry=\"30.1522\"/>\n",
       "<text text-anchor=\"middle\" x=\"1707.74\" y=\"-26.1256\" font-family=\"Times,serif\" font-size=\"14.00\">St19</text>\n",
       "</g>\n",
       "<!-- St14&#45;&gt;St19 -->\n",
       "<g id=\"edge17\" class=\"edge\"><title>St14&#45;&gt;St19</title>\n",
       "<path fill=\"none\" stroke=\"black\" d=\"M1634.5,-30.3256C1644.72,-30.3256 1656.35,-30.3256 1667.25,-30.3256\"/>\n",
       "<polygon fill=\"black\" stroke=\"black\" points=\"1667.41,-33.8257 1677.41,-30.3256 1667.41,-26.8257 1667.41,-33.8257\"/>\n",
       "<text text-anchor=\"middle\" x=\"1655.92\" y=\"-33.1256\" font-family=\"Times,serif\" font-size=\"14.00\">1</text>\n",
       "</g>\n",
       "<!-- St24 -->\n",
       "<g id=\"node19\" class=\"node\"><title>St24</title>\n",
       "<ellipse fill=\"none\" stroke=\"black\" cx=\"1404.79\" cy=\"-30.3256\" rx=\"26.1751\" ry=\"26.1751\"/>\n",
       "<ellipse fill=\"none\" stroke=\"black\" cx=\"1404.79\" cy=\"-30.3256\" rx=\"30.1522\" ry=\"30.1522\"/>\n",
       "<text text-anchor=\"middle\" x=\"1404.79\" y=\"-26.1256\" font-family=\"Times,serif\" font-size=\"14.00\">St24</text>\n",
       "</g>\n",
       "<!-- St20&#45;&gt;St24 -->\n",
       "<g id=\"edge14\" class=\"edge\"><title>St20&#45;&gt;St24</title>\n",
       "<path fill=\"none\" stroke=\"black\" d=\"M1331.54,-30.3256C1341.76,-30.3256 1353.4,-30.3256 1364.3,-30.3256\"/>\n",
       "<polygon fill=\"black\" stroke=\"black\" points=\"1364.46,-33.8257 1374.46,-30.3256 1364.46,-26.8257 1364.46,-33.8257\"/>\n",
       "<text text-anchor=\"middle\" x=\"1352.97\" y=\"-33.1256\" font-family=\"Times,serif\" font-size=\"14.00\">1</text>\n",
       "</g>\n",
       "<!-- St15&#45;&gt;St15 -->\n",
       "<g id=\"edge26\" class=\"edge\"><title>St15&#45;&gt;St15</title>\n",
       "<path fill=\"none\" stroke=\"black\" d=\"M2503.59,-59.5795C2503.39,-70.0857 2506.51,-78.6512 2512.95,-78.6512 2517.08,-78.6512 2519.85,-75.1359 2521.25,-69.8471\"/>\n",
       "<polygon fill=\"black\" stroke=\"black\" points=\"2524.76,-69.8886 2522.32,-59.5795 2517.8,-69.1626 2524.76,-69.8886\"/>\n",
       "<text text-anchor=\"middle\" x=\"2512.95\" y=\"-81.4512\" font-family=\"Times,serif\" font-size=\"14.00\">1</text>\n",
       "</g>\n",
       "<!-- St25&#45;&gt;St37 -->\n",
       "<g id=\"edge2\" class=\"edge\"><title>St25&#45;&gt;St37</title>\n",
       "<path fill=\"none\" stroke=\"black\" d=\"M151.889,-30.3256C162.078,-30.3256 173.599,-30.3256 184.228,-30.3256\"/>\n",
       "<polygon fill=\"black\" stroke=\"black\" points=\"184.477,-33.8257 194.477,-30.3256 184.476,-26.8257 184.477,-33.8257\"/>\n",
       "<text text-anchor=\"middle\" x=\"173.151\" y=\"-33.1256\" font-family=\"Times,serif\" font-size=\"14.00\">1</text>\n",
       "</g>\n",
       "<!-- St24&#45;&gt;St29 -->\n",
       "<g id=\"edge15\" class=\"edge\"><title>St24&#45;&gt;St29</title>\n",
       "<path fill=\"none\" stroke=\"black\" d=\"M1435.35,-30.3256C1445.54,-30.3256 1457.06,-30.3256 1467.69,-30.3256\"/>\n",
       "<polygon fill=\"black\" stroke=\"black\" points=\"1467.94,-33.8257 1477.94,-30.3256 1467.94,-26.8257 1467.94,-33.8257\"/>\n",
       "<text text-anchor=\"middle\" x=\"1456.62\" y=\"-33.1256\" font-family=\"Times,serif\" font-size=\"14.00\">1</text>\n",
       "</g>\n",
       "<!-- St19&#45;&gt;St28 -->\n",
       "<g id=\"edge18\" class=\"edge\"><title>St19&#45;&gt;St28</title>\n",
       "<path fill=\"none\" stroke=\"black\" d=\"M1738.31,-30.3256C1748.5,-30.3256 1760.02,-30.3256 1770.65,-30.3256\"/>\n",
       "<polygon fill=\"black\" stroke=\"black\" points=\"1770.9,-33.8257 1780.9,-30.3256 1770.9,-26.8257 1770.9,-33.8257\"/>\n",
       "<text text-anchor=\"middle\" x=\"1759.57\" y=\"-33.1256\" font-family=\"Times,serif\" font-size=\"14.00\">1</text>\n",
       "</g>\n",
       "<!-- St21&#45;&gt;St34 -->\n",
       "<g id=\"edge11\" class=\"edge\"><title>St21&#45;&gt;St34</title>\n",
       "<path fill=\"none\" stroke=\"black\" d=\"M1036.75,-30.3256C1046.94,-30.3256 1058.46,-30.3256 1069.09,-30.3256\"/>\n",
       "<polygon fill=\"black\" stroke=\"black\" points=\"1069.34,-33.8257 1079.34,-30.3256 1069.34,-26.8257 1069.34,-33.8257\"/>\n",
       "<text text-anchor=\"middle\" x=\"1058.01\" y=\"-33.1256\" font-family=\"Times,serif\" font-size=\"14.00\">1</text>\n",
       "</g>\n",
       "<!-- St17 -->\n",
       "<g id=\"node22\" class=\"node\"><title>St17</title>\n",
       "<ellipse fill=\"none\" stroke=\"black\" cx=\"2313.65\" cy=\"-30.3256\" rx=\"26.1751\" ry=\"26.1751\"/>\n",
       "<ellipse fill=\"none\" stroke=\"black\" cx=\"2313.65\" cy=\"-30.3256\" rx=\"30.1522\" ry=\"30.1522\"/>\n",
       "<text text-anchor=\"middle\" x=\"2313.65\" y=\"-26.1256\" font-family=\"Times,serif\" font-size=\"14.00\">St17</text>\n",
       "</g>\n",
       "<!-- St17&#45;&gt;St26 -->\n",
       "<g id=\"edge24\" class=\"edge\"><title>St17&#45;&gt;St26</title>\n",
       "<path fill=\"none\" stroke=\"black\" d=\"M2344.22,-30.3256C2354.4,-30.3256 2365.93,-30.3256 2376.55,-30.3256\"/>\n",
       "<polygon fill=\"black\" stroke=\"black\" points=\"2376.8,-33.8257 2386.8,-30.3256 2376.8,-26.8257 2376.8,-33.8257\"/>\n",
       "<text text-anchor=\"middle\" x=\"2365.48\" y=\"-33.1256\" font-family=\"Times,serif\" font-size=\"14.00\">1</text>\n",
       "</g>\n",
       "<!-- St18&#45;&gt;St27 -->\n",
       "<g id=\"edge21\" class=\"edge\"><title>St18&#45;&gt;St27</title>\n",
       "<path fill=\"none\" stroke=\"black\" d=\"M2041.26,-30.3256C2051.45,-30.3256 2062.97,-30.3256 2073.6,-30.3256\"/>\n",
       "<polygon fill=\"black\" stroke=\"black\" points=\"2073.85,-33.8257 2083.85,-30.3256 2073.85,-26.8257 2073.85,-33.8257\"/>\n",
       "<text text-anchor=\"middle\" x=\"2062.52\" y=\"-33.1256\" font-family=\"Times,serif\" font-size=\"14.00\">1</text>\n",
       "</g>\n",
       "<!-- St22&#45;&gt;St35 -->\n",
       "<g id=\"edge8\" class=\"edge\"><title>St22&#45;&gt;St35</title>\n",
       "<path fill=\"none\" stroke=\"black\" d=\"M741.796,-30.3256C751.985,-30.3256 763.506,-30.3256 774.135,-30.3256\"/>\n",
       "<polygon fill=\"black\" stroke=\"black\" points=\"774.384,-33.8257 784.384,-30.3256 774.384,-26.8257 774.384,-33.8257\"/>\n",
       "<text text-anchor=\"middle\" x=\"763.058\" y=\"-33.1256\" font-family=\"Times,serif\" font-size=\"14.00\">1</text>\n",
       "</g>\n",
       "<!-- St23&#45;&gt;St36 -->\n",
       "<g id=\"edge5\" class=\"edge\"><title>St23&#45;&gt;St36</title>\n",
       "<path fill=\"none\" stroke=\"black\" d=\"M446.843,-30.3256C457.031,-30.3256 468.553,-30.3256 479.181,-30.3256\"/>\n",
       "<polygon fill=\"black\" stroke=\"black\" points=\"479.43,-33.8257 489.43,-30.3256 479.43,-26.8257 479.43,-33.8257\"/>\n",
       "<text text-anchor=\"middle\" x=\"468.105\" y=\"-33.1256\" font-family=\"Times,serif\" font-size=\"14.00\">1</text>\n",
       "</g>\n",
       "<!-- St12&#45;&gt;St17 -->\n",
       "<g id=\"edge23\" class=\"edge\"><title>St12&#45;&gt;St17</title>\n",
       "<path fill=\"none\" stroke=\"black\" d=\"M2240.4,-30.3256C2250.62,-30.3256 2262.26,-30.3256 2273.16,-30.3256\"/>\n",
       "<polygon fill=\"black\" stroke=\"black\" points=\"2273.32,-33.8257 2283.32,-30.3256 2273.32,-26.8257 2273.32,-33.8257\"/>\n",
       "<text text-anchor=\"middle\" x=\"2261.83\" y=\"-33.1256\" font-family=\"Times,serif\" font-size=\"14.00\">1</text>\n",
       "</g>\n",
       "</g>\n",
       "</svg>\n"
      ],
      "text/plain": [
       "<graphviz.dot.Digraph at 0x10d25a9b0>"
      ]
     },
     "execution_count": 77,
     "metadata": {},
     "output_type": "execute_result"
    }
   ],
   "source": [
    "dotObj_dfa(min_dfa(nfa2dfa(re2nfa(\"(111+1111111111111)*\"))))"
   ]
  }
 ],
 "metadata": {
  "kernelspec": {
   "display_name": "Python 3",
   "language": "python",
   "name": "python3"
  },
  "language_info": {
   "codemirror_mode": {
    "name": "ipython",
    "version": 3
   },
   "file_extension": ".py",
   "mimetype": "text/x-python",
   "name": "python",
   "nbconvert_exporter": "python",
   "pygments_lexer": "ipython3",
   "version": "3.6.0"
  },
  "toc": {
   "colors": {
    "hover_highlight": "#DAA520",
    "running_highlight": "#FF0000",
    "selected_highlight": "#FFD700"
   },
   "moveMenuLeft": true,
   "nav_menu": {
    "height": "318px",
    "width": "252px"
   },
   "navigate_menu": true,
   "number_sections": true,
   "sideBar": true,
   "threshold": 4,
   "toc_cell": false,
   "toc_section_display": "block",
   "toc_window_display": false,
   "widenNotebook": false
  }
 },
 "nbformat": 4,
 "nbformat_minor": 2
}
