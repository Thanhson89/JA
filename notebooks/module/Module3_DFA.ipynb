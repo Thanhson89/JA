{
 "cells": [
  {
   "cell_type": "code",
   "execution_count": 1,
   "metadata": {
    "run_control": {
     "frozen": false,
     "read_only": false
    }
   },
   "outputs": [
    {
     "name": "stdout",
     "output_type": "stream",
     "text": [
      "You may use any of these help commands:\n",
      "help(ResetStNum)\n",
      "help(NxtStateStr)\n",
      "\n"
     ]
    }
   ],
   "source": [
    "import sys\n",
    "sys.path[0:0] = ['../..','../../3rdparty'] # Put these at the head of the search path\n",
    "from jove.DotBashers          import *\n",
    "from jove.TransitionSelectors import *\n",
    "from jove.SystemImports       import *"
   ]
  },
  {
   "cell_type": "markdown",
   "metadata": {
    "run_control": {
     "frozen": false,
     "read_only": false
    }
   },
   "source": [
    "# Top-level functions in this module\n",
    "\n",
    "```\n",
    "This module contains the following functions that may be used in other modules to exercise concepts, compose functions, etc.\n",
    "Here are the argument types\n",
    "\n",
    "D     : DFA\n",
    "Q     : set of states \n",
    "q0    : initial state\n",
    "F     : Final set of states\n",
    "q     : state\n",
    "c     : character (symbol)\n",
    "s     : string\n",
    "Sigma : Alphabet (set)\n",
    "\n",
    "Here are the functions\n",
    " \n",
    "def mkp_dfa(Q, Sigma, Delta, q0, F):\n",
    "def mk_dfa(Q, Sigma, Delta, q0, F):\n",
    "def totalize_dfa(D):\n",
    "\n",
    "def step_dfa(Q, q, c):\n",
    "def run_dfa(D, s):\n",
    "def accepts_dfa(D, s):\n",
    "\n",
    "def comp_dfa(D):\n",
    "def union_dfa(D1, D2):\n",
    "def intersect_dfa(D1, D2):\n",
    "\n",
    "def iso_dfa(D1,D2):\n",
    "def langeq_dfa(D1,D2):\n",
    "\n",
    "def min_dfa(D, state_name_mode='succinct'):\n",
    "\n",
    "```"
   ]
  },
  {
   "cell_type": "markdown",
   "metadata": {
    "run_control": {
     "frozen": false,
     "read_only": false
    }
   },
   "source": [
    "# Chapter-3: Deterministic Finite Automata\n",
    "\n",
    "\n",
    "We begin our study of Deterministic Finite Automata. Please read the book. You *must* be doing two kinds of exercises:\n",
    "\n",
    "* Do exercises on paper. That is the math you need from this course. There is no short-cut to it.\n",
    "\n",
    "* Play with two tools, namely JFLAP and Sinap. The second tool is created by a team of SW Engg Lab Project students, namely Shayne Anderson, Daniel James, CJ Dimaano, and Dyllon Gagnier. They have contributed a _gem_ of a tool. But even gems need polish and development; hence your help in this matter will be greatly appreciated! The more you use Sinap, the more it will become better. \n",
    "\n",
    " - Sinap also provides JFLAP file converters, and so you can actually play with JFLAP and then move to Sinap.\n",
    "\n",
    "* Do the programming challenges (and play with the code) presented in this notebook (more exercises will be added). This programming part builds intuitions and helps knowledge stick. \n",
    "\n",
    "Notice that I recommend doing the math, playing with JFLAP/Sinap and then playing with the code in these notebooks. In reality, you must round-robin through these tasks.\n",
    "\n",
    "> You do not understand anything unless you have studied it in multiple ways _(John McCarthy)_\n"
   ]
  },
  {
   "cell_type": "markdown",
   "metadata": {
    "run_control": {
     "frozen": false,
     "read_only": false
    }
   },
   "source": [
    "# Coding Philosophy\n",
    "\n",
    "Clearly, the code in this book can be cast into an object-oriented style. We avoid doing so for these reasons:\n",
    "\n",
    "* We want to keep the barrier to entry as low as possible. In fact, we are extremely parsimonious in our use of Python constructs. \n",
    "\n",
    "* We prefer to modularize each concept into specific sections where we treat the math and code as being almost at the same level. We also want these Jupyter notes to resemble Knuth's \"literate programs\". More specifically,\n",
    "\n",
    "- In math, when you present DFA as a quintuple $(Q, \\Sigma, \\delta, q_0, F)$, you are not thinking OOP; rather, math prefers flat structures (for simple ideas that span a few pages). We want the code to resemble math written at this level. Hence the notion of bringing in another layer (namely objects) is felt un-necessary.\n",
    "\n",
    "- When math gets tedious, we _do_ need structuring. Leslie Lamport has written a paper \"How to write a formula\", explaining how long formulae need to be written as code. Thus, even math _may_ need structured programming principles at a certain higher level of complexity.  We feel that this subject matter hasn't reached that level of complexity, and hence \"math dictates modularization\", not code.\n",
    "\n",
    "* With discipline, one can write readable code. The volume of code we have in these notes is not high. For that level of complexity, a functional / recursive / higher-order style with short segments of code tesselating with math is a better approach than lead one's mind totally away from math by showing more features of Python.\n",
    "\n",
    "* By presenting my intellectual contribution of a large swath of _Models of Computation_ in this simple \"mathy-coding\" style, I am inviting others to prove me wrong and actually show that other modularization methods can work, too. I.e. this work is by no means the end of any story; it is just something I want to contribute and move on, hoping others will improve on my work far more!"
   ]
  },
  {
   "cell_type": "markdown",
   "metadata": {
    "run_control": {
     "frozen": false,
     "read_only": false
    }
   },
   "source": [
    "<span style=\"color:blue\"> **We begin defining DFA by providing its structure. ** </span>\n",
    "\n",
    "We will first set up a series of definitions ending at the mk_dfa function that helps build DFA. \n",
    "\n",
    "There are also two allied functions, namely mkp_dfa and totalize_dfa. mkp_dfa helps save labor by allowing you to specify just the main transitions you want in the DFA. Then typically one applies totalize_dfa which fills all the \"gaps\", sending the DFA to a \"black-hole\" state for those possibilities.  \n",
    "\n",
    "Once functions are set up, we will define step_dfa, run_dfa and accepts_dfa. \n",
    "\n",
    "We will also be defining functions for displaying DFA with the help of the _dot_ tool. The first function dot_dfa_w_bh shows the full DFA (including black-hole moves). Another function dot_dfa (which has a shorter name, and hence more inviting to employ frequently) suppresses these black-hole moves (that may be distractingly many, which can clutter the dot-generated view). In defining these dot converters, we will be sanitizing certain strings so that the dot tool can handle these edge labels.\n",
    "\n",
    "We will also provide dot_dfa_pdf and dot_dfa_w_bh_pdf that generates a PDF output.\n",
    "\n",
    "<span style=\"color:blue\"> **------** </span>\n",
    "\n",
    "A DFA is a quintuple $(Q,\\Sigma,\\delta,q_0,F)$, where:\n",
    "\n",
    "* $Q$ is a _finite nonempty_ set of states.\n",
    "\n",
    "* $\\Sigma$ is a _finite nonempty_ alphabet containing _symbols_.\n",
    "\n",
    "* $\\delta$ is a **total** \n",
    "\ttransition function, containing a set of _transitions_. The transitions take\n",
    "    a pair from $Q\\times \\Sigma$ and return a state in $Q$. All this is succinctly\n",
    "    captured by writing\n",
    "    $\\delta: Q\\times \\Sigma \\rightarrow Q$. \n",
    "    \n",
    "    - Note that in mathematics, one considers all functions to tbe **total** i.e., is defined everywhere in the domain. In programming (and computability theory), often functions are not total in this sense. We will be using the CS notion of partial functions and total functions early on, so that you don't have too many surprises later on (but we will remind you the math usage which always requires total functions)\n",
    "    \n",
    "  \n",
    "* $q_0\\in Q$, is _the_ initial state.\n",
    "\n",
    "* $F\\subseteq Q$ is a _finite_ (and _possibly empty_) set of\n",
    "\tfinal (or _accepting_) states. These are shown as double-circled nodes in the graph of a DFA. \n",
    " \n",
    "Some terminology:\n",
    "\n",
    "> We call $Q$,$\\Sigma$, $\\delta$, $q_0$, and $F$ the **_traits_** of the DFA.\n",
    "\n",
    "> We will call a DFA **_structurally consistent_** or simply **\"consistent\"** if its traits pass the aforesaid checks.\n",
    "\n",
    "> We will call a DFA **_partially consistent_** if it meets most of the structural consistency conditions, but may be supplied a _partial_ $\\delta$ function (which function totalize_dfa will be eager to make totally consistent). \n",
    "\n",
    "Specifically, partial consistency will include the following checks:\n",
    "\n",
    "* $Q$ is a _finite nonempty_ set of states.\n",
    "\n",
    "* $\\Sigma$ is a _finite nonempty_ alphabet containing _symbols_.\n",
    "\n",
    "* The supplied $\\delta$ function will be checked to see if it has allowed domain and range points. \n",
    " - The domain points must be a subset of $Q\\times \\Sigma$\n",
    " - The range points must be a subset of $Q$\n",
    "  We do no insist that the supplied $\\delta$ be total.\n",
    "    \n",
    "* $q_0\\in Q$, is _the_ initial state.\n",
    "\n",
    "* $F\\subseteq Q$ is a _finite_ (and _possibly empty_) set of\n",
    "\tfinal (or _accepting_) states.  \n",
    "    \n",
    "Also to maintain sanity with respect to our Python encoding, we assume that the user does not have a state called \"BH\" in their DFA, unless its Delta is already total. (BH will be used to denote black-hole states that we introduce.)"
   ]
  },
  {
   "cell_type": "markdown",
   "metadata": {
    "run_control": {
     "frozen": false,
     "read_only": false
    }
   },
   "source": [
    "<span style=\"color:blue\"> **Here is how we will represent a DFA in Python (taking Figure 3.4's example from the book). You can clearly see how the traits of the DFA are encoded. We prefer a Python dictionary, as it supports a number of convenient operations, and also one can add additional fields easily. ** </span>"
   ]
  },
  {
   "cell_type": "code",
   "execution_count": 2,
   "metadata": {
    "code_folding": [],
    "run_control": {
     "frozen": false,
     "read_only": false
    }
   },
   "outputs": [],
   "source": [
    "DFA_fig34 = { 'Q': {'A', 'IF', 'B'},\n",
    "              'Sigma': {'0', '1'},\n",
    "              'Delta': { ('IF', '0'): 'A',\n",
    "                         ('IF', '1'): 'IF',\n",
    "                         ('A', '0'): 'B',\n",
    "                         ('A', '1'): 'A',\n",
    "                         ('B', '0'): 'IF',\n",
    "                         ('B', '1'): 'B' },\n",
    "              'q0': 'IF', \n",
    "              'F': {'IF'}   \n",
    "            }"
   ]
  },
  {
   "cell_type": "markdown",
   "metadata": {
    "run_control": {
     "frozen": false,
     "read_only": false
    }
   },
   "source": [
    "<span style=\"color:blue\"> \n",
    "**\n",
    "We will now introduce extractors for the transitions contained in Delta.\n",
    "** \n",
    "</span>\n",
    "* Since we use many pairs, we introduce **fst** and **snd** to extract those components\n",
    "* Since we employ functions encoded as key/value pairs, we introduce **fn_dom** and **fn_range** to extract those\n",
    "  - We return the range elements (fn_range)\n",
    "     as a list so that NFA routines can also use this function   \n",
    "     (NFA would want to return a set of sets, but that's not representable\n",
    "     in Python; now, with fn_range returning a list, we will end up gettin\n",
    "     a list of sets, which is fine in Python.)\n",
    "  - Bowing to uniformity, we will return a list for fn_dom also.\n",
    "* Since a function itself is a set of _transitions_, we also introduce the extractor **fn_trans**. The transitions go from fn_dom to fn_range.\n",
    "* Since the members of Delta are _transitions_, we introduce three extractors. Notice that transitions Tr are of the form ((trSrc,trSymb), trTrg) where from and to are states, and symb is a symbol belonging to $\\Sigma$. Here are the extractors:\n",
    "\n",
    " - **trSrc** that returns the source of a transition\n",
    " - **trSymb** that returns the symbol that labels the transition\n",
    " - **trTrg** that labels the target of the transition"
   ]
  },
  {
   "cell_type": "markdown",
   "metadata": {
    "run_control": {
     "frozen": false,
     "read_only": false
    }
   },
   "source": [
    "#### When we defined our DFA_fig34 (above), we just pasted the elements of the hash-table by hand. This approach has many problems: (1) mistakes are easily made (2) constraints on the DFA quintuple are not checked (3) we can't automate the generation of DFAs. To avoid these, we will now present three of the aforementioned functions, namely mk_dfa, mkp_dfa and totalize_dfa. Then we will provide the definitions of all supporting functions that these functions need."
   ]
  },
  {
   "cell_type": "markdown",
   "metadata": {
    "ExecuteTime": {
     "end_time": "2017-05-04T16:48:47.563840Z",
     "start_time": "2017-05-04T16:48:47.552840Z"
    },
    "code_folding": [],
    "run_control": {
     "frozen": false,
     "read_only": false
    }
   },
   "source": [
    "Note that the consistency checkers of DFA are in DotBashers.    "
   ]
  },
  {
   "cell_type": "code",
   "execution_count": 3,
   "metadata": {
    "code_folding": [],
    "run_control": {
     "frozen": false,
     "read_only": false
    }
   },
   "outputs": [],
   "source": [
    "def mkp_dfa(Q, Sigma, Delta, q0, F):\n",
    "    \"\"\"In : Traits of a DFA\n",
    "       Out: A DFA\n",
    "       Check for partial consistency of the given DFA traits.\n",
    "       If the check passes, make and return a DFA with a partial \n",
    "       Delta.\n",
    "    \"\"\"\n",
    "    newDFA = {\"Q\":Q, \"Sigma\":Sigma, \"Delta\":Delta, \"q0\":q0, \"F\":F}\n",
    "    assert(\n",
    "        is_partially_consistent_dfa(newDFA)\n",
    "    ), \"DFA given to mkp_dfa is not partially consistent. Plz check its components.\"\n",
    "    return(newDFA)\n",
    "\n",
    "def mk_dfa(Q, Sigma, Delta, q0, F):\n",
    "    \"\"\"In : Traits of a DFA\n",
    "       Out: A DFA\n",
    "       Check for structural consistency of the given DFA traits.\n",
    "       If the check passes, make and return a DFA with a total \n",
    "       Delta.\n",
    "    \"\"\"\n",
    "    newDFA = {\"Q\":Q, \"Sigma\":Sigma, \"Delta\":Delta, \"q0\":q0, \"F\":F}\n",
    "    assert(\n",
    "        is_consistent_dfa(newDFA)\n",
    "    ), \"DFA given to mk_dfa is not consistent. Plz check its components.\"\n",
    "    return(newDFA)\n",
    "\n",
    "def totalize_dfa(D):\n",
    "    \"\"\"In : Partially consistent DFA\n",
    "       Out: A consistent DFA \n",
    "       Given a partially specified DFA, make it total by \n",
    "       transitioning to state BH wherever the incoming Delta \n",
    "       has gaps. The returned DFA is structurally consistent.\n",
    "    \"\"\"\n",
    "    assert(\n",
    "        is_partially_consistent_dfa(D)\n",
    "    ), \"DFA given to totalize_dfa is not partially consistent.\"\n",
    "    if set(fn_dom(D[\"Delta\"])) == set(product(D[\"Q\"], D[\"Sigma\"])):\n",
    "        # It is already total!\n",
    "        return D \n",
    "    else:        \n",
    "        # We must introduce a BH state of not already present\n",
    "        # and proceed from there\n",
    "        incoming_Delta = D[\"Delta\"].copy()\n",
    "    \n",
    "        # Gaps in incoming_Delta's transition function are sent\n",
    "        # to the BH (black-hole) state\n",
    "        gaps_in_Tr = { (q,c) : \"BH\" for q in D[\"Q\"] for c in D[\"Sigma\"] \n",
    "                       if (q,c) not in D[\"Delta\"] }\n",
    "    \n",
    "        # We are gonna add a new black-hole-state.\n",
    "        # It must curl back to itself for every symbol in Sigma\n",
    "        bh_self_absorbent_moves = { (\"BH\", c): \"BH\" for c in D[\"Sigma\"] }\n",
    "\n",
    "        # Fill the gaps in incoming_Delta\n",
    "        incoming_Delta.update( gaps_in_Tr )\n",
    "    \n",
    "        # Add in the moves where the black-hole state curls \n",
    "        # back to itself\n",
    "        incoming_Delta.update( bh_self_absorbent_moves )\n",
    "        \n",
    "        # All updates required are accomplished\n",
    "        finished_Delta = incoming_Delta\n",
    "    \n",
    "        # See that we update D[\"Q\"] with the \"BH\" (black-hole) \n",
    "        # state; also return the fixed-up incoming_Delta\n",
    "        return {\"Q\"    : D[\"Q\"] | { \"BH\" }, \n",
    "                \"Sigma\": D[\"Sigma\"],    \n",
    "                \"Delta\": finished_Delta,\n",
    "                \"q0\"   : D[\"q0\"],          \n",
    "                \"F\"    : D[\"F\"] }\n",
    "    \n"
   ]
  },
  {
   "cell_type": "markdown",
   "metadata": {
    "run_control": {
     "frozen": false,
     "read_only": false
    }
   },
   "source": [
    "# Routines to generate 'dot' graphs from DFA"
   ]
  },
  {
   "cell_type": "markdown",
   "metadata": {
    "run_control": {
     "frozen": false,
     "read_only": false
    }
   },
   "source": [
    "<span style=\"color:blue\"> **We can now write routines to print DFA using dot. The main routines are listed below.** </span>\n",
    "\n",
    "* dot_dfa_w_bh : lists all states of a DFA including black-hole states\n",
    "* dot_dfa      : lists all isNotBH states (see below for a defn), i.e. suppress black-holes\n",
    "     - Usually there are too many transitions to them and that clutters the view\n",
    "     "
   ]
  },
  {
   "cell_type": "markdown",
   "metadata": {
    "run_control": {
     "frozen": false,
     "read_only": false
    }
   },
   "source": [
    "======"
   ]
  },
  {
   "cell_type": "markdown",
   "metadata": {
    "collapsed": true,
    "run_control": {
     "frozen": false,
     "read_only": false
    }
   },
   "source": [
    "## Some Tests that were administered to debug the above code"
   ]
  },
  {
   "cell_type": "markdown",
   "metadata": {
    "run_control": {
     "frozen": false,
     "read_only": false
    }
   },
   "source": [
    "### Let us now administer some tests to mk_dfa, mkp_dfa and totalize_dfa\n",
    "\n",
    "1. If you totalize_dfa a structurally consistent DFA, you get back that same DFA (it is a no op).\n",
    "2. If you take a structurally consistent DFA, make it partial by dropping some of its mappings,  \n",
    "   and totalize it, you get a structurally consistent DFA.\n",
    "\n",
    "In general, it is good to think of axioms that must be obeyed and derive tests based on them."
   ]
  },
  {
   "cell_type": "code",
   "execution_count": 4,
   "metadata": {
    "code_folding": [],
    "run_control": {
     "frozen": false,
     "read_only": false
    }
   },
   "outputs": [],
   "source": [
    "# Some tests pertaining to totalize_dfa, is_consistent_dfa, etc\n",
    "\n",
    "DFA_fig34 = { 'Q': {'A', 'IF', 'B'},\n",
    "              'Sigma': {'0', '1'},\n",
    "              'Delta': { ('IF', '0'): 'A',\n",
    "                         ('IF', '1'): 'IF',\n",
    "                         ('A', '0'): 'B',\n",
    "                         ('A', '1'): 'A',\n",
    "                         ('B', '0'): 'IF',\n",
    "                         ('B', '1'): 'B' },\n",
    "              'q0': 'IF', \n",
    "              'F': {'IF'}   \n",
    "            }\n",
    "\n",
    "def tests_dfa_consist():\n",
    "    \"\"\"Some tests wrt DFA routines.\n",
    "    \"\"\"\n",
    "    DFA_fig34_Q     = DFA_fig34[\"Q\"]\n",
    "    DFA_fig34_Sigma = DFA_fig34[\"Sigma\"]\n",
    "    randQ           = random.choice(list(DFA_fig34_Q))\n",
    "    randSym         = random.choice(list(DFA_fig34_Sigma))\n",
    "\n",
    "    DFA_fig34_deepcopy  = copy.deepcopy(DFA_fig34)\n",
    "\n",
    "    print('is_consistent_dfa(DFA_fig34) =', \n",
    "           is_consistent_dfa(DFA_fig34) )\n",
    "    print('Removing mapping for ' + \n",
    "          \"(\" + randQ + \",\" + randSym + \")\" + \n",
    "          \"from DFA_fig34_deepcopy\")\n",
    "    DFA_fig34_deepcopy[\"Delta\"].pop((randQ,randSym))\n",
    "    print('is_consistent_dfa(DFA_fig34_deepcopy) =', \n",
    "         is_consistent_dfa(DFA_fig34_deepcopy) )\n",
    "\n",
    "    totalized = totalize_dfa(DFA_fig34_deepcopy)\n",
    "    print ( 'is_consistent_dfa(totalized) =', \n",
    "          is_consistent_dfa(totalized) )\n",
    "\n",
    "    assert(totalized == totalize_dfa(totalized)) # Must pass  "
   ]
  },
  {
   "cell_type": "markdown",
   "metadata": {
    "run_control": {
     "frozen": false,
     "read_only": false
    }
   },
   "source": [
    "### Let us now administer some tests to print dot-strings generated.\n",
    "\n",
    "We will demonstrate two ways to print automata: \n",
    "\n",
    "1. First generate a dot string via dot_dfa or dot_dfa_w_bh\n",
    "   (calling the result \"dot_string\") \n",
    "   1. Then use the srcObj = Source(dot_string) call\n",
    "   2. Thereafter we can display the srcObj object directly into the browser\n",
    "   3. Or, one can also later convert the dot_string to svg or PDF\n",
    "2. OR, one can directly generate a dot object via the dotObj_dfa or dotObj_dfa_w_bh call\n",
    "   (calling the result \"dot_object\")\n",
    "   1. Then directly display the dot_object\n",
    "   2. There are conversions available for dot_object to other formats too"
   ]
  },
  {
   "cell_type": "code",
   "execution_count": 5,
   "metadata": {
    "code_folding": [],
    "run_control": {
     "frozen": false,
     "read_only": false
    }
   },
   "outputs": [],
   "source": [
    "DFA_fig34 = { 'Q': {'A', 'IF', 'B'},\n",
    "              'Sigma': {'0', '1'},\n",
    "              'Delta': { ('IF', '0'): 'A',\n",
    "                         ('IF', '1'): 'IF',\n",
    "                         ('A', '0'): 'B',\n",
    "                         ('A', '1'): 'A',\n",
    "                         ('B', '0'): 'IF',\n",
    "                         ('B', '1'): 'B' },\n",
    "              'q0': 'IF', \n",
    "              'F': {'IF'}   \n",
    "            }\n",
    "\n",
    "def dfa_dot_tests():\n",
    "    \"\"\"Some dot-routine related tests.\n",
    "    \"\"\"\n",
    "    dot_string = dot_dfa(DFA_fig34)\n",
    "    dot_object1 = Source(dot_string)\n",
    "    return dot_object1.source"
   ]
  },
  {
   "cell_type": "code",
   "execution_count": null,
   "metadata": {
    "run_control": {
     "frozen": false,
     "read_only": false
    }
   },
   "outputs": [],
   "source": []
  },
  {
   "cell_type": "markdown",
   "metadata": {
    "run_control": {
     "frozen": false,
     "read_only": false
    }
   },
   "source": [
    "# Stepping and Running DFA\n",
    "\n",
    "Now that we've managed to define DFA, check for its consistency, and also learned how to produce drawings of its state transition diagram, we come to the core aspects of DFA, namely\n",
    "\n",
    "* How the state transition function $\\delta$ \"works\"\n",
    "  - captured in step_dfa\n",
    "\n",
    "* How to run a DFA on a string, thus obtaining the $\\hat{\\delta}$ function\n",
    "  - captured in run_dfa\n",
    "  \n",
    "* The check of whether a DFA accepts_dfa a string\n",
    "  - captured by the predicate accepts_dfa"
   ]
  },
  {
   "cell_type": "code",
   "execution_count": 6,
   "metadata": {
    "code_folding": [],
    "run_control": {
     "frozen": false,
     "read_only": false
    }
   },
   "outputs": [],
   "source": [
    "def step_dfa(D, q, c):\n",
    "    \"\"\"In : D (consistent DFA)\n",
    "            q (state in D)\n",
    "            c (symbol in D's sigma)\n",
    "       Out: next state of q via c (state in D) \n",
    "    \"\"\"\n",
    "    assert(c in D[\"Sigma\"]), \"step_dfa given c not in Sigma.\"\n",
    "    assert(q in D[\"Q\"]), \"step_dfa given q not in Q.\"\n",
    "    return D[\"Delta\"][(q,c)]\n",
    "\n",
    "def run_dfa(D, s):\n",
    "    \"\"\"In : D (consistent DFA)\n",
    "            q (state in D)\n",
    "            s (string over D's sigma, including \"\")\n",
    "       Out: next state of q via s (state in D) \n",
    "    \"\"\"    \n",
    "    state = D[\"q0\"]\n",
    "    while s != \"\":\n",
    "        state = step_dfa(D, state, s[0])\n",
    "        s = s[1:]\n",
    "    return state\n",
    "\n",
    "def accepts_dfa(D, s):\n",
    "    \"\"\"In : D (consistent DFA)\n",
    "            s (string over D's sigma, including \"\")\n",
    "       Out: Boolean (if state after s-run is in D's final).\n",
    "    \"\"\"\n",
    "    return run_dfa(D, s) in D[\"F\"]\n"
   ]
  },
  {
   "cell_type": "markdown",
   "metadata": {
    "run_control": {
     "frozen": false,
     "read_only": false
    }
   },
   "source": [
    "## Let us test functions step_dfa, run_dfa, and accepts_dfa"
   ]
  },
  {
   "cell_type": "code",
   "execution_count": 7,
   "metadata": {
    "code_folding": [],
    "run_control": {
     "frozen": false,
     "read_only": false
    }
   },
   "outputs": [],
   "source": [
    "# Some tests of step, run, etc.\n",
    "\n",
    "DFA_fig34 = { 'Q': {'A', 'IF', 'B'},\n",
    "              'Sigma': {'0', '1'},\n",
    "              'Delta': { ('IF', '0'): 'A',\n",
    "                         ('IF', '1'): 'IF',\n",
    "                         ('A', '0'): 'B',\n",
    "                         ('A', '1'): 'A',\n",
    "                         ('B', '0'): 'IF',\n",
    "                         ('B', '1'): 'B' },\n",
    "              'q0': 'IF', \n",
    "              'F': {'IF'}   \n",
    "            }\n",
    "\n",
    "def step_run_accepts_tests():\n",
    "    print(\"step_dfa(DFA_fig34, 'IF', '1') = \", \n",
    "          step_dfa(DFA_fig34, 'IF', '1'))\n",
    "    print(\"step_dfa(DFA_fig34, 'A', '0') = \", \n",
    "          step_dfa(DFA_fig34, 'A', '0'))\n",
    "\n",
    "    print(\"run_dfa(DFA_fig34, '101001') = \", \n",
    "          run_dfa(DFA_fig34, '101001'))\n",
    "    print(\"run_dfa(DFA_fig34, '101000') = \", \n",
    "          run_dfa(DFA_fig34, '101000'))\n",
    "\n",
    "    print(\"accepts_dfa(DFA_fig34, '101001') = \", \n",
    "          accepts_dfa(DFA_fig34, '101001')) \n",
    "    print(\"accepts_dfa(DFA_fig34, '101000') = \", \n",
    "          accepts_dfa(DFA_fig34, '101000')) "
   ]
  },
  {
   "cell_type": "code",
   "execution_count": 8,
   "metadata": {
    "run_control": {
     "frozen": false,
     "read_only": false
    }
   },
   "outputs": [
    {
     "data": {
      "image/svg+xml": [
       "<?xml version=\"1.0\" encoding=\"UTF-8\" standalone=\"no\"?>\n",
       "<!DOCTYPE svg PUBLIC \"-//W3C//DTD SVG 1.1//EN\"\n",
       " \"http://www.w3.org/Graphics/SVG/1.1/DTD/svg11.dtd\">\n",
       "<!-- Generated by graphviz version 2.38.0 (20140413.2041)\n",
       " -->\n",
       "<!-- Title: %3 Pages: 1 -->\n",
       "<svg width=\"301pt\" height=\"137pt\"\n",
       " viewBox=\"0.00 0.00 301.00 137.00\" xmlns=\"http://www.w3.org/2000/svg\" xmlns:xlink=\"http://www.w3.org/1999/xlink\">\n",
       "<g id=\"graph0\" class=\"graph\" transform=\"scale(1 1) rotate(0) translate(4 133)\">\n",
       "<title>%3</title>\n",
       "<polygon fill=\"white\" stroke=\"none\" points=\"-4,4 -4,-133 297,-133 297,4 -4,4\"/>\n",
       "<!-- EMPTY -->\n",
       "<g id=\"node1\" class=\"node\"><title>EMPTY</title>\n",
       "</g>\n",
       "<!-- IF -->\n",
       "<g id=\"node4\" class=\"node\"><title>IF</title>\n",
       "<ellipse fill=\"none\" stroke=\"black\" cx=\"113\" cy=\"-75\" rx=\"18\" ry=\"18\"/>\n",
       "<ellipse fill=\"none\" stroke=\"black\" cx=\"113\" cy=\"-75\" rx=\"22\" ry=\"22\"/>\n",
       "<text text-anchor=\"middle\" x=\"113\" y=\"-70.8\" font-family=\"Times,serif\" font-size=\"14.00\">IF</text>\n",
       "</g>\n",
       "<!-- EMPTY&#45;&gt;IF -->\n",
       "<g id=\"edge1\" class=\"edge\"><title>EMPTY&#45;&gt;IF</title>\n",
       "<path fill=\"none\" stroke=\"black\" d=\"M54.1177,-75C62.5406,-75 71.9629,-75 80.7191,-75\"/>\n",
       "<polygon fill=\"black\" stroke=\"black\" points=\"80.9574,-78.5001 90.9574,-75 80.9573,-71.5001 80.9574,-78.5001\"/>\n",
       "</g>\n",
       "<!-- B -->\n",
       "<g id=\"node2\" class=\"node\"><title>B</title>\n",
       "<ellipse fill=\"none\" stroke=\"black\" cx=\"275\" cy=\"-75\" rx=\"18\" ry=\"18\"/>\n",
       "<text text-anchor=\"middle\" x=\"275\" y=\"-70.8\" font-family=\"Times,serif\" font-size=\"14.00\">B</text>\n",
       "</g>\n",
       "<!-- B&#45;&gt;B -->\n",
       "<g id=\"edge7\" class=\"edge\"><title>B&#45;&gt;B</title>\n",
       "<path fill=\"none\" stroke=\"black\" d=\"M268.266,-92.0373C266.892,-101.858 269.137,-111 275,-111 278.665,-111 280.916,-107.429 281.753,-102.353\"/>\n",
       "<polygon fill=\"black\" stroke=\"black\" points=\"285.252,-102.031 281.734,-92.0373 278.252,-102.044 285.252,-102.031\"/>\n",
       "<text text-anchor=\"middle\" x=\"275\" y=\"-113.8\" font-family=\"Times,serif\" font-size=\"14.00\">1</text>\n",
       "</g>\n",
       "<!-- B&#45;&gt;IF -->\n",
       "<g id=\"edge6\" class=\"edge\"><title>B&#45;&gt;IF</title>\n",
       "<path fill=\"none\" stroke=\"black\" d=\"M256.935,-75.7202C244.929,-76.1898 228.485,-76.7586 214,-77 198.002,-77.2666 193.998,-77.2499 178,-77 167.358,-76.8338 155.724,-76.5121 145.329,-76.1746\"/>\n",
       "<polygon fill=\"black\" stroke=\"black\" points=\"145.152,-72.6666 135.038,-75.8229 144.913,-79.6625 145.152,-72.6666\"/>\n",
       "<text text-anchor=\"middle\" x=\"196\" y=\"-79.8\" font-family=\"Times,serif\" font-size=\"14.00\">0</text>\n",
       "</g>\n",
       "<!-- A -->\n",
       "<g id=\"node3\" class=\"node\"><title>A</title>\n",
       "<ellipse fill=\"none\" stroke=\"black\" cx=\"196\" cy=\"-18\" rx=\"18\" ry=\"18\"/>\n",
       "<text text-anchor=\"middle\" x=\"196\" y=\"-13.8\" font-family=\"Times,serif\" font-size=\"14.00\">A</text>\n",
       "</g>\n",
       "<!-- A&#45;&gt;B -->\n",
       "<g id=\"edge4\" class=\"edge\"><title>A&#45;&gt;B</title>\n",
       "<path fill=\"none\" stroke=\"black\" d=\"M211.123,-28.4547C222.52,-36.8913 238.758,-48.9118 251.878,-58.6237\"/>\n",
       "<polygon fill=\"black\" stroke=\"black\" points=\"249.847,-61.4749 259.967,-64.6116 254.012,-55.8487 249.847,-61.4749\"/>\n",
       "<text text-anchor=\"middle\" x=\"235.5\" y=\"-50.8\" font-family=\"Times,serif\" font-size=\"14.00\">0</text>\n",
       "</g>\n",
       "<!-- A&#45;&gt;A -->\n",
       "<g id=\"edge5\" class=\"edge\"><title>A&#45;&gt;A</title>\n",
       "<path fill=\"none\" stroke=\"black\" d=\"M189.266,-35.0373C187.892,-44.8579 190.137,-54 196,-54 199.665,-54 201.916,-50.4289 202.753,-45.3529\"/>\n",
       "<polygon fill=\"black\" stroke=\"black\" points=\"206.252,-45.0307 202.734,-35.0373 199.252,-45.0439 206.252,-45.0307\"/>\n",
       "<text text-anchor=\"middle\" x=\"196\" y=\"-56.8\" font-family=\"Times,serif\" font-size=\"14.00\">1</text>\n",
       "</g>\n",
       "<!-- IF&#45;&gt;A -->\n",
       "<g id=\"edge2\" class=\"edge\"><title>IF&#45;&gt;A</title>\n",
       "<path fill=\"none\" stroke=\"black\" d=\"M131.576,-62.6318C143.522,-54.2252 159.436,-43.0264 172.335,-33.9498\"/>\n",
       "<polygon fill=\"black\" stroke=\"black\" points=\"174.533,-36.6827 180.697,-28.0654 170.504,-30.958 174.533,-36.6827\"/>\n",
       "<text text-anchor=\"middle\" x=\"156.5\" y=\"-48.8\" font-family=\"Times,serif\" font-size=\"14.00\">0</text>\n",
       "</g>\n",
       "<!-- IF&#45;&gt;IF -->\n",
       "<g id=\"edge3\" class=\"edge\"><title>IF&#45;&gt;IF</title>\n",
       "<path fill=\"none\" stroke=\"black\" d=\"M105.683,-95.9908C104.78,-106.087 107.219,-115 113,-115 116.704,-115 119.036,-111.342 119.996,-106.059\"/>\n",
       "<polygon fill=\"black\" stroke=\"black\" points=\"123.496,-106.097 120.317,-95.9908 116.5,-105.874 123.496,-106.097\"/>\n",
       "<text text-anchor=\"middle\" x=\"113\" y=\"-117.8\" font-family=\"Times,serif\" font-size=\"14.00\">1</text>\n",
       "</g>\n",
       "</g>\n",
       "</svg>\n"
      ],
      "text/plain": [
       "<graphviz.dot.Digraph at 0x101085cc0>"
      ]
     },
     "execution_count": 8,
     "metadata": {},
     "output_type": "execute_result"
    }
   ],
   "source": [
    "dotObj_dfa(DFA_fig34, \"DFA_fig34\")"
   ]
  },
  {
   "cell_type": "markdown",
   "metadata": {
    "run_control": {
     "frozen": false,
     "read_only": false
    }
   },
   "source": [
    " <span style=\"color:blue\"> **Ideally one likes to have an \"Recognizes a language\" test also, but we don't have enough machinery to specify \"a language\". Well one can specif \"a language\" through another DFA, but then we are asking about \"exactly the strings of the reference DFA D being accepted by the user-build DFA D1. I leave its implementation as an exercise, given that DFA union and complement are being defined.** </span>"
   ]
  },
  {
   "cell_type": "markdown",
   "metadata": {
    "run_control": {
     "frozen": false,
     "read_only": false
    }
   },
   "source": [
    "### The language of a DFA state\n",
    "\n",
    "Imagine you are a doctor walking around with a new type of stethoscope called the __language stethoscope__ (LScope). LScope can be applied to a given state of a DFA and you can listen to that state; you will then \"hear\" the language of that state!  Now if you take the DFA in Figure 3.4 (DFA_fig34 above), and apply LScope to the state IF, you will hear the language of the DFA (all strings that can start from IF and reach some final state). If you apply LScope to state A, you will hear a different language: its language is \"two zeros, followed by a multiple (zero or more) of three 0s (with 1s appearing anywhere). If you apply LScope to state B, its language can be \"heard as\" a single 0 followed by a multiple of three 0s, with 1s appearing arbitrarily anywhere.\n",
    "\n",
    "We will walk around with our __language stethoscope__ LScope a lot in this and future chapters, to explain things clearly. In fact, we will be using it to explain DFA minimization very soon."
   ]
  },
  {
   "cell_type": "markdown",
   "metadata": {
    "run_control": {
     "frozen": false,
     "read_only": false
    }
   },
   "source": [
    "## DFA complementation\n",
    "\n",
    "DFA complementation works by flipping the final and non-final states. We must check that the DFA is totalized before we embark on that, as the 'black-hole' state will now become 'white-hole' (a final state from which all symbols lead back to itself)."
   ]
  },
  {
   "cell_type": "code",
   "execution_count": 9,
   "metadata": {
    "code_folding": [],
    "run_control": {
     "frozen": false,
     "read_only": false
    }
   },
   "outputs": [],
   "source": [
    "def comp_dfa(D):\n",
    "    \"\"\"In : D (DFA : partially consistent)\n",
    "       Out: Consistent DFA that is D's complement.\n",
    "       Before we begin, make D total. This is crucial, \n",
    "       as the black-hole states if any\n",
    "       become \"white-hole\" states in the complemented DFA \n",
    "       (i.e. really turn into accepting \n",
    "       states from which one can't get out).\n",
    "       Then flip the FINAL and NON-FINAL states.\n",
    "    \"\"\"\n",
    "    Dtot = totalize_dfa(D)\n",
    "    return mk_dfa(D[\"Q\"],D[\"Sigma\"],D[\"Delta\"],D[\"q0\"],D[\"Q\"]-D[\"F\"])\n"
   ]
  },
  {
   "cell_type": "code",
   "execution_count": 10,
   "metadata": {
    "code_folding": [],
    "run_control": {
     "frozen": false,
     "read_only": false
    }
   },
   "outputs": [
    {
     "data": {
      "image/svg+xml": [
       "<?xml version=\"1.0\" encoding=\"UTF-8\" standalone=\"no\"?>\n",
       "<!DOCTYPE svg PUBLIC \"-//W3C//DTD SVG 1.1//EN\"\n",
       " \"http://www.w3.org/Graphics/SVG/1.1/DTD/svg11.dtd\">\n",
       "<!-- Generated by graphviz version 2.38.0 (20140413.2041)\n",
       " -->\n",
       "<!-- Title: %3 Pages: 1 -->\n",
       "<svg width=\"309pt\" height=\"117pt\"\n",
       " viewBox=\"0.00 0.00 309.00 117.00\" xmlns=\"http://www.w3.org/2000/svg\" xmlns:xlink=\"http://www.w3.org/1999/xlink\">\n",
       "<g id=\"graph0\" class=\"graph\" transform=\"scale(1 1) rotate(0) translate(4 113)\">\n",
       "<title>%3</title>\n",
       "<polygon fill=\"white\" stroke=\"none\" points=\"-4,4 -4,-113 305,-113 305,4 -4,4\"/>\n",
       "<!-- EMPTY -->\n",
       "<g id=\"node1\" class=\"node\"><title>EMPTY</title>\n",
       "</g>\n",
       "<!-- IF -->\n",
       "<g id=\"node2\" class=\"node\"><title>IF</title>\n",
       "<ellipse fill=\"none\" stroke=\"black\" cx=\"109\" cy=\"-22\" rx=\"18\" ry=\"18\"/>\n",
       "<text text-anchor=\"middle\" x=\"109\" y=\"-17.8\" font-family=\"Times,serif\" font-size=\"14.00\">IF</text>\n",
       "</g>\n",
       "<!-- EMPTY&#45;&gt;IF -->\n",
       "<g id=\"edge1\" class=\"edge\"><title>EMPTY&#45;&gt;IF</title>\n",
       "<path fill=\"none\" stroke=\"black\" d=\"M54.195,-22C62.6538,-22 72.0513,-22 80.5951,-22\"/>\n",
       "<polygon fill=\"black\" stroke=\"black\" points=\"80.8257,-25.5001 90.8257,-22 80.8257,-18.5001 80.8257,-25.5001\"/>\n",
       "</g>\n",
       "<!-- IF&#45;&gt;IF -->\n",
       "<g id=\"edge3\" class=\"edge\"><title>IF&#45;&gt;IF</title>\n",
       "<path fill=\"none\" stroke=\"black\" d=\"M102.621,-39.0373C101.319,-48.8579 103.445,-58 109,-58 112.472,-58 114.604,-54.4289 115.398,-49.3529\"/>\n",
       "<polygon fill=\"black\" stroke=\"black\" points=\"118.897,-49.031 115.379,-39.0373 111.897,-49.0435 118.897,-49.031\"/>\n",
       "<text text-anchor=\"middle\" x=\"109\" y=\"-60.8\" font-family=\"Times,serif\" font-size=\"14.00\">1</text>\n",
       "</g>\n",
       "<!-- A -->\n",
       "<g id=\"node4\" class=\"node\"><title>A</title>\n",
       "<ellipse fill=\"none\" stroke=\"black\" cx=\"192\" cy=\"-55\" rx=\"18\" ry=\"18\"/>\n",
       "<ellipse fill=\"none\" stroke=\"black\" cx=\"192\" cy=\"-55\" rx=\"22\" ry=\"22\"/>\n",
       "<text text-anchor=\"middle\" x=\"192\" y=\"-50.8\" font-family=\"Times,serif\" font-size=\"14.00\">A</text>\n",
       "</g>\n",
       "<!-- IF&#45;&gt;A -->\n",
       "<g id=\"edge2\" class=\"edge\"><title>IF&#45;&gt;A</title>\n",
       "<path fill=\"none\" stroke=\"black\" d=\"M126.003,-28.5197C136.262,-32.6994 149.881,-38.2476 162.001,-43.1854\"/>\n",
       "<polygon fill=\"black\" stroke=\"black\" points=\"160.725,-46.445 171.307,-46.9767 163.366,-39.9624 160.725,-46.445\"/>\n",
       "<text text-anchor=\"middle\" x=\"148.5\" y=\"-40.8\" font-family=\"Times,serif\" font-size=\"14.00\">0</text>\n",
       "</g>\n",
       "<!-- B -->\n",
       "<g id=\"node3\" class=\"node\"><title>B</title>\n",
       "<ellipse fill=\"none\" stroke=\"black\" cx=\"279\" cy=\"-22\" rx=\"18\" ry=\"18\"/>\n",
       "<ellipse fill=\"none\" stroke=\"black\" cx=\"279\" cy=\"-22\" rx=\"22\" ry=\"22\"/>\n",
       "<text text-anchor=\"middle\" x=\"279\" y=\"-17.8\" font-family=\"Times,serif\" font-size=\"14.00\">B</text>\n",
       "</g>\n",
       "<!-- B&#45;&gt;IF -->\n",
       "<g id=\"edge6\" class=\"edge\"><title>B&#45;&gt;IF</title>\n",
       "<path fill=\"none\" stroke=\"black\" d=\"M257.384,-17.129C244.908,-14.4332 228.633,-11.36 214,-10 194.528,-8.1903 189.46,-8.07304 170,-10 159.016,-11.0877 147.064,-13.2693 136.739,-15.4777\"/>\n",
       "<polygon fill=\"black\" stroke=\"black\" points=\"135.664,-12.132 126.677,-17.744 137.202,-18.961 135.664,-12.132\"/>\n",
       "<text text-anchor=\"middle\" x=\"192\" y=\"-12.8\" font-family=\"Times,serif\" font-size=\"14.00\">0</text>\n",
       "</g>\n",
       "<!-- B&#45;&gt;B -->\n",
       "<g id=\"edge7\" class=\"edge\"><title>B&#45;&gt;B</title>\n",
       "<path fill=\"none\" stroke=\"black\" d=\"M271.317,-42.9908C270.369,-53.0872 272.93,-62 279,-62 282.889,-62 285.337,-58.3422 286.346,-53.0587\"/>\n",
       "<polygon fill=\"black\" stroke=\"black\" points=\"289.846,-53.1023 286.683,-42.9908 282.85,-52.868 289.846,-53.1023\"/>\n",
       "<text text-anchor=\"middle\" x=\"279\" y=\"-64.8\" font-family=\"Times,serif\" font-size=\"14.00\">1</text>\n",
       "</g>\n",
       "<!-- A&#45;&gt;B -->\n",
       "<g id=\"edge4\" class=\"edge\"><title>A&#45;&gt;B</title>\n",
       "<path fill=\"none\" stroke=\"black\" d=\"M212.714,-47.3462C223.366,-43.2109 236.728,-38.0231 248.585,-33.4199\"/>\n",
       "<polygon fill=\"black\" stroke=\"black\" points=\"250.043,-36.6086 258.098,-29.7266 247.509,-30.0831 250.043,-36.6086\"/>\n",
       "<text text-anchor=\"middle\" x=\"235.5\" y=\"-41.8\" font-family=\"Times,serif\" font-size=\"14.00\">0</text>\n",
       "</g>\n",
       "<!-- A&#45;&gt;A -->\n",
       "<g id=\"edge5\" class=\"edge\"><title>A&#45;&gt;A</title>\n",
       "<path fill=\"none\" stroke=\"black\" d=\"M184.317,-75.9908C183.369,-86.0872 185.93,-95 192,-95 195.889,-95 198.337,-91.3422 199.346,-86.0587\"/>\n",
       "<polygon fill=\"black\" stroke=\"black\" points=\"202.846,-86.1023 199.683,-75.9908 195.85,-85.868 202.846,-86.1023\"/>\n",
       "<text text-anchor=\"middle\" x=\"192\" y=\"-97.8\" font-family=\"Times,serif\" font-size=\"14.00\">1</text>\n",
       "</g>\n",
       "</g>\n",
       "</svg>\n"
      ],
      "text/plain": [
       "<graphviz.dot.Digraph at 0x102245710>"
      ]
     },
     "execution_count": 10,
     "metadata": {},
     "output_type": "execute_result"
    }
   ],
   "source": [
    "# Run a complementation test\n",
    "DFA_fig34_comp = comp_dfa(DFA_fig34)\n",
    "dotObj_dfa(DFA_fig34_comp, \"DFA_fig34_comp\")\n",
    "dotObj_dfa(DFA_fig34)\n",
    "dotObj_dfa(DFA_fig34_comp, \"DFA_fig34_comp\")"
   ]
  },
  {
   "cell_type": "markdown",
   "metadata": {
    "run_control": {
     "frozen": false,
     "read_only": false
    }
   },
   "source": [
    "## DFA Union\n",
    "\n",
    "DFA union has a straightforward definition as in the book. We march the DFAs in tandem. We accept if either DFA accepts_dfa."
   ]
  },
  {
   "cell_type": "code",
   "execution_count": 11,
   "metadata": {
    "code_folding": [],
    "run_control": {
     "frozen": false,
     "read_only": false
    }
   },
   "outputs": [],
   "source": [
    "def union_dfa(D1in, D2in):\n",
    "    \"\"\"In : D1in (consistent DFA)\n",
    "            D2in (consistent DFA)\n",
    "       Out: DFA for language union of D1in, D2in (consistent DFA). \n",
    "    \"\"\"\n",
    "    assert(is_consistent_dfa(D1in)), \"Inconsist. DFA1 in union_dfa\"\n",
    "    assert(is_consistent_dfa(D2in)), \"Inconsist. DFA2 in union_dfa\"\n",
    "    if (D1in[\"Sigma\"] != D2in[\"Sigma\"]):\n",
    "        print(\"Union on DFA with different alphabets.\")\n",
    "        print(\"Making alphabets the same (taking unions).\")\n",
    "        Sigma = D1in[\"Sigma\"] | D2in[\"Sigma\"]\n",
    "        D1   = copy.deepcopy(D1in)\n",
    "        D2   = copy.deepcopy(D2in)\n",
    "        D1[\"Sigma\"] = Sigma\n",
    "        D2[\"Sigma\"] = Sigma\n",
    "        D1 = totalize_dfa(D1)\n",
    "        D2 = totalize_dfa(D2)\n",
    "    else:\n",
    "        D1 = totalize_dfa(D1in)\n",
    "        D2 = totalize_dfa(D2in)\n",
    "   \n",
    "    # The states can be anything in the cartesian product\n",
    "    Q     = set(product(D1[\"Q\"], D2[\"Q\"]))\n",
    "    \n",
    "    # Accept if one of the DFAs accepts\n",
    "    F     = (set(product(D1[\"F\"], D2[\"Q\"])) | \n",
    "             set(product(D1[\"Q\"], D2[\"F\"])))\n",
    "    \n",
    "    # Start a lock-step march from the respective q0\n",
    "    q0    = (D1[\"q0\"], D2[\"q0\"])\n",
    "    \n",
    "    # The transition function attempts to march both\n",
    "    # DFAs in lock-step per their own transition functions\n",
    "    Delta = { ((q1,q2),ch) : (q1p, q2p) \n",
    "               for q1 in D1[\"Q\"] for q1p in D1[\"Q\"] \n",
    "               for q2 in D2[\"Q\"] for q2p in D2[\"Q\"] \n",
    "               for ch in D1[\"Sigma\"] \n",
    "               if D1[\"Delta\"][(q1,ch)] == q1p and\n",
    "                  D2[\"Delta\"][(q2,ch)] == q2p }\n",
    "                                                          \n",
    "    return pruneUnreach(\n",
    "        mk_dfa(Q, D1[\"Sigma\"], Delta, q0, F))"
   ]
  },
  {
   "cell_type": "code",
   "execution_count": 12,
   "metadata": {
    "run_control": {
     "frozen": false,
     "read_only": false
    }
   },
   "outputs": [],
   "source": [
    "def intersect_dfa(D1in, D2in):\n",
    "    \"\"\"In : D1in (consistent DFA)\n",
    "            D2in (consistent DFA)\n",
    "       Out: DFA for language intersection of D1in, D2in (consistent DFA). \n",
    "    \"\"\"\n",
    "    assert(is_consistent_dfa(D1in)), \"Inconsist. DFA1 in intersect_dfa\"\n",
    "    assert(is_consistent_dfa(D2in)), \"Inconsist. DFA2 in intersect_dfa\"\n",
    "    if (D1in[\"Sigma\"] != D2in[\"Sigma\"]):\n",
    "        print(\"Intersection on DFA with different alphabets.\")\n",
    "        print(\"Making alphabets the same (taking unions).\")\n",
    "        Sigma = D1in[\"Sigma\"] | D2in[\"Sigma\"]\n",
    "        D1   = copy.deepcopy(D1in)\n",
    "        D2   = copy.deepcopy(D2in)\n",
    "        D1[\"Sigma\"] = Sigma\n",
    "        D2[\"Sigma\"] = Sigma\n",
    "        D1 = totalize_dfa(D1)\n",
    "        D2 = totalize_dfa(D2)\n",
    "    else:\n",
    "        D1 = totalize_dfa(D1in)\n",
    "        D2 = totalize_dfa(D2in)\n",
    " \n",
    "    Q     = set(product(D1[\"Q\"], D2[\"Q\"]))\n",
    "    \n",
    "    # This is the only difference with the union:\n",
    "    # The final states are those when both DFA accept\n",
    "    F     = set(product(D1[\"F\"], D2[\"F\"]))\n",
    "           \n",
    "    q0    = (D1[\"q0\"], D2[\"q0\"])\n",
    "    Delta = { ((q1,q2),ch) : (q1p, q2p) \n",
    "               for q1 in D1[\"Q\"] for q1p in D1[\"Q\"] \n",
    "               for q2 in D2[\"Q\"] for q2p in D2[\"Q\"] \n",
    "               for ch in D1[\"Sigma\"] \n",
    "               if D1[\"Delta\"][(q1,ch)] == q1p and\n",
    "                  D2[\"Delta\"][(q2,ch)] == q2p }\n",
    "                                                          \n",
    "    return pruneUnreach(\n",
    "        mk_dfa(Q, D1[\"Sigma\"], Delta, q0, F))"
   ]
  },
  {
   "cell_type": "code",
   "execution_count": 13,
   "metadata": {
    "run_control": {
     "frozen": false,
     "read_only": false
    }
   },
   "outputs": [
    {
     "data": {
      "image/svg+xml": [
       "<?xml version=\"1.0\" encoding=\"UTF-8\" standalone=\"no\"?>\n",
       "<!DOCTYPE svg PUBLIC \"-//W3C//DTD SVG 1.1//EN\"\n",
       " \"http://www.w3.org/Graphics/SVG/1.1/DTD/svg11.dtd\">\n",
       "<!-- Generated by graphviz version 2.38.0 (20140413.2041)\n",
       " -->\n",
       "<!-- Title: %3 Pages: 1 -->\n",
       "<svg width=\"309pt\" height=\"117pt\"\n",
       " viewBox=\"0.00 0.00 309.00 117.00\" xmlns=\"http://www.w3.org/2000/svg\" xmlns:xlink=\"http://www.w3.org/1999/xlink\">\n",
       "<g id=\"graph0\" class=\"graph\" transform=\"scale(1 1) rotate(0) translate(4 113)\">\n",
       "<title>%3</title>\n",
       "<polygon fill=\"white\" stroke=\"none\" points=\"-4,4 -4,-113 305,-113 305,4 -4,4\"/>\n",
       "<!-- EMPTY -->\n",
       "<g id=\"node1\" class=\"node\"><title>EMPTY</title>\n",
       "</g>\n",
       "<!-- IF -->\n",
       "<g id=\"node2\" class=\"node\"><title>IF</title>\n",
       "<ellipse fill=\"none\" stroke=\"black\" cx=\"109\" cy=\"-22\" rx=\"18\" ry=\"18\"/>\n",
       "<text text-anchor=\"middle\" x=\"109\" y=\"-17.8\" font-family=\"Times,serif\" font-size=\"14.00\">IF</text>\n",
       "</g>\n",
       "<!-- EMPTY&#45;&gt;IF -->\n",
       "<g id=\"edge1\" class=\"edge\"><title>EMPTY&#45;&gt;IF</title>\n",
       "<path fill=\"none\" stroke=\"black\" d=\"M54.195,-22C62.6538,-22 72.0513,-22 80.5951,-22\"/>\n",
       "<polygon fill=\"black\" stroke=\"black\" points=\"80.8257,-25.5001 90.8257,-22 80.8257,-18.5001 80.8257,-25.5001\"/>\n",
       "</g>\n",
       "<!-- IF&#45;&gt;IF -->\n",
       "<g id=\"edge3\" class=\"edge\"><title>IF&#45;&gt;IF</title>\n",
       "<path fill=\"none\" stroke=\"black\" d=\"M102.621,-39.0373C101.319,-48.8579 103.445,-58 109,-58 112.472,-58 114.604,-54.4289 115.398,-49.3529\"/>\n",
       "<polygon fill=\"black\" stroke=\"black\" points=\"118.897,-49.031 115.379,-39.0373 111.897,-49.0435 118.897,-49.031\"/>\n",
       "<text text-anchor=\"middle\" x=\"109\" y=\"-60.8\" font-family=\"Times,serif\" font-size=\"14.00\">1</text>\n",
       "</g>\n",
       "<!-- A -->\n",
       "<g id=\"node4\" class=\"node\"><title>A</title>\n",
       "<ellipse fill=\"none\" stroke=\"black\" cx=\"192\" cy=\"-55\" rx=\"18\" ry=\"18\"/>\n",
       "<ellipse fill=\"none\" stroke=\"black\" cx=\"192\" cy=\"-55\" rx=\"22\" ry=\"22\"/>\n",
       "<text text-anchor=\"middle\" x=\"192\" y=\"-50.8\" font-family=\"Times,serif\" font-size=\"14.00\">A</text>\n",
       "</g>\n",
       "<!-- IF&#45;&gt;A -->\n",
       "<g id=\"edge2\" class=\"edge\"><title>IF&#45;&gt;A</title>\n",
       "<path fill=\"none\" stroke=\"black\" d=\"M126.003,-28.5197C136.262,-32.6994 149.881,-38.2476 162.001,-43.1854\"/>\n",
       "<polygon fill=\"black\" stroke=\"black\" points=\"160.725,-46.445 171.307,-46.9767 163.366,-39.9624 160.725,-46.445\"/>\n",
       "<text text-anchor=\"middle\" x=\"148.5\" y=\"-40.8\" font-family=\"Times,serif\" font-size=\"14.00\">0</text>\n",
       "</g>\n",
       "<!-- B -->\n",
       "<g id=\"node3\" class=\"node\"><title>B</title>\n",
       "<ellipse fill=\"none\" stroke=\"black\" cx=\"279\" cy=\"-22\" rx=\"18\" ry=\"18\"/>\n",
       "<ellipse fill=\"none\" stroke=\"black\" cx=\"279\" cy=\"-22\" rx=\"22\" ry=\"22\"/>\n",
       "<text text-anchor=\"middle\" x=\"279\" y=\"-17.8\" font-family=\"Times,serif\" font-size=\"14.00\">B</text>\n",
       "</g>\n",
       "<!-- B&#45;&gt;IF -->\n",
       "<g id=\"edge6\" class=\"edge\"><title>B&#45;&gt;IF</title>\n",
       "<path fill=\"none\" stroke=\"black\" d=\"M257.384,-17.129C244.908,-14.4332 228.633,-11.36 214,-10 194.528,-8.1903 189.46,-8.07304 170,-10 159.016,-11.0877 147.064,-13.2693 136.739,-15.4777\"/>\n",
       "<polygon fill=\"black\" stroke=\"black\" points=\"135.664,-12.132 126.677,-17.744 137.202,-18.961 135.664,-12.132\"/>\n",
       "<text text-anchor=\"middle\" x=\"192\" y=\"-12.8\" font-family=\"Times,serif\" font-size=\"14.00\">0</text>\n",
       "</g>\n",
       "<!-- B&#45;&gt;B -->\n",
       "<g id=\"edge7\" class=\"edge\"><title>B&#45;&gt;B</title>\n",
       "<path fill=\"none\" stroke=\"black\" d=\"M271.317,-42.9908C270.369,-53.0872 272.93,-62 279,-62 282.889,-62 285.337,-58.3422 286.346,-53.0587\"/>\n",
       "<polygon fill=\"black\" stroke=\"black\" points=\"289.846,-53.1023 286.683,-42.9908 282.85,-52.868 289.846,-53.1023\"/>\n",
       "<text text-anchor=\"middle\" x=\"279\" y=\"-64.8\" font-family=\"Times,serif\" font-size=\"14.00\">1</text>\n",
       "</g>\n",
       "<!-- A&#45;&gt;B -->\n",
       "<g id=\"edge4\" class=\"edge\"><title>A&#45;&gt;B</title>\n",
       "<path fill=\"none\" stroke=\"black\" d=\"M212.714,-47.3462C223.366,-43.2109 236.728,-38.0231 248.585,-33.4199\"/>\n",
       "<polygon fill=\"black\" stroke=\"black\" points=\"250.043,-36.6086 258.098,-29.7266 247.509,-30.0831 250.043,-36.6086\"/>\n",
       "<text text-anchor=\"middle\" x=\"235.5\" y=\"-41.8\" font-family=\"Times,serif\" font-size=\"14.00\">0</text>\n",
       "</g>\n",
       "<!-- A&#45;&gt;A -->\n",
       "<g id=\"edge5\" class=\"edge\"><title>A&#45;&gt;A</title>\n",
       "<path fill=\"none\" stroke=\"black\" d=\"M184.317,-75.9908C183.369,-86.0872 185.93,-95 192,-95 195.889,-95 198.337,-91.3422 199.346,-86.0587\"/>\n",
       "<polygon fill=\"black\" stroke=\"black\" points=\"202.846,-86.1023 199.683,-75.9908 195.85,-85.868 202.846,-86.1023\"/>\n",
       "<text text-anchor=\"middle\" x=\"192\" y=\"-97.8\" font-family=\"Times,serif\" font-size=\"14.00\">1</text>\n",
       "</g>\n",
       "</g>\n",
       "</svg>\n"
      ],
      "text/plain": [
       "<graphviz.dot.Digraph at 0x102271518>"
      ]
     },
     "execution_count": 13,
     "metadata": {},
     "output_type": "execute_result"
    }
   ],
   "source": [
    "dotObj_dfa(DFA_fig34_comp)"
   ]
  },
  {
   "cell_type": "markdown",
   "metadata": {
    "run_control": {
     "frozen": false,
     "read_only": false
    }
   },
   "source": [
    "The most surprising observation we can make is that the above diagram still represents a DFA!! A DFA can have isolated islands. While useless, the above meets ALL the consistency conditions of a DFA. \n",
    "\n",
    "However, it is annoying to have disconnected states. Clearly, they are totally redundant. We may also have reachable states that are redundant (are completely equivalent to an existing state). Both these types of redundancies can be eliminated through a suitable DFA minimization algorithm which will soon be discussed.\n",
    "\n",
    "Minimization is achieved in two phases:\n",
    "\n",
    "1. Eliminate unreachable states\n",
    "\n",
    "2. Merge language-equivalent and redundant states. More specifically, if you apply our __language stethoscope__ LScope (mentioned in an earlier cell) to two states A and B and \"hear\" the same language, you can merge these states.\n",
    "\n",
    "### Exercise for you:\n",
    "\n",
    "Write a more elaborate union_dfa that does not do an indiscriminate cartesian product. For instance, the state (A_IF) and also (B_IF) should not even have been generated if we had gone by the idea of \"reachable in K hops\". We can call this \"lock-step cartesian product\". That is\n",
    "\n",
    " * Situating a  DFA  and its complement in state IF, if we feed a $0$, they both go to their own states A.  \n",
    " \n",
    " * Thus, the state (IF_A) should not arise"
   ]
  },
  {
   "cell_type": "markdown",
   "metadata": {
    "run_control": {
     "frozen": false,
     "read_only": false
    }
   },
   "source": [
    "### Eliminating unreachable states\n",
    "\n",
    "Let us write the code for eliminating unreachable states. Function pruneUnreach(DFA) returns a new DFA with unreachable states in the input DFA removed (all transitions from them are also removed)."
   ]
  },
  {
   "cell_type": "code",
   "execution_count": 14,
   "metadata": {
    "run_control": {
     "frozen": false,
     "read_only": false
    }
   },
   "outputs": [],
   "source": [
    "def pruneUnreach(D):\n",
    "    \"\"\"In : D (consistent DFA)\n",
    "       Out: Consistent DFA.\n",
    "       Given a consistent (and of course total) DFA D,\n",
    "       returns a new (consistent) DFA with unreachable \n",
    "       states in D removed. Transitions from each unreachable \n",
    "       state are also removed. Reachable states are those that\n",
    "       can be reached in |D[\"Q\"]| - 1 steps or less.\n",
    "    \"\"\"\n",
    "    Nsteps   = len(D[\"Q\"]) - 1 # Search this far\n",
    "    Frontier = set({D[\"q0\"]})  # BFS frontier\n",
    "    AccumF   = Frontier        # Used to accumulate Frontier changes\n",
    "    for n in range(Nsteps):\n",
    "        for q in Frontier:\n",
    "            for ch in D[\"Sigma\"]:\n",
    "                AccumF = AccumF | set({step_dfa(D, q, ch)})\n",
    "        Frontier = AccumF\n",
    "        \n",
    "    newQ     = Frontier\n",
    "    newF     = D[\"F\"] & Frontier\n",
    "    newDelta = dict({ ((q,ch),qp) \n",
    "                      for ((q,ch),qp) in fn_trans(D[\"Delta\"]) \n",
    "                      if q in Frontier })\n",
    "    return mk_dfa(Frontier, D[\"Sigma\"], newDelta, D[\"q0\"], newF)"
   ]
  },
  {
   "cell_type": "code",
   "execution_count": 15,
   "metadata": {
    "run_control": {
     "frozen": false,
     "read_only": false
    }
   },
   "outputs": [
    {
     "data": {
      "image/svg+xml": [
       "<?xml version=\"1.0\" encoding=\"UTF-8\" standalone=\"no\"?>\n",
       "<!DOCTYPE svg PUBLIC \"-//W3C//DTD SVG 1.1//EN\"\n",
       " \"http://www.w3.org/Graphics/SVG/1.1/DTD/svg11.dtd\">\n",
       "<!-- Generated by graphviz version 2.38.0 (20140413.2041)\n",
       " -->\n",
       "<!-- Title: %3 Pages: 1 -->\n",
       "<svg width=\"412pt\" height=\"188pt\"\n",
       " viewBox=\"0.00 0.00 412.10 188.34\" xmlns=\"http://www.w3.org/2000/svg\" xmlns:xlink=\"http://www.w3.org/1999/xlink\">\n",
       "<g id=\"graph0\" class=\"graph\" transform=\"scale(1 1) rotate(0) translate(4 184.336)\">\n",
       "<title>%3</title>\n",
       "<polygon fill=\"white\" stroke=\"none\" points=\"-4,4 -4,-184.336 408.104,-184.336 408.104,4 -4,4\"/>\n",
       "<!-- EMPTY -->\n",
       "<g id=\"node1\" class=\"node\"><title>EMPTY</title>\n",
       "</g>\n",
       "<!-- \\(IF_IF\\) -->\n",
       "<g id=\"node4\" class=\"node\"><title>\\(IF_IF\\)</title>\n",
       "<ellipse fill=\"none\" stroke=\"black\" cx=\"131.145\" cy=\"-108.191\" rx=\"36.2759\" ry=\"36.2759\"/>\n",
       "<ellipse fill=\"none\" stroke=\"black\" cx=\"131.145\" cy=\"-108.191\" rx=\"40.2904\" ry=\"40.2904\"/>\n",
       "<text text-anchor=\"middle\" x=\"131.145\" y=\"-103.991\" font-family=\"Times,serif\" font-size=\"14.00\">(IF_IF)</text>\n",
       "</g>\n",
       "<!-- EMPTY&#45;&gt;\\(IF_IF\\) -->\n",
       "<g id=\"edge1\" class=\"edge\"><title>EMPTY&#45;&gt;\\(IF_IF\\)</title>\n",
       "<path fill=\"none\" stroke=\"black\" d=\"M54.0398,-108.191C62.1135,-108.191 71.296,-108.191 80.4211,-108.191\"/>\n",
       "<polygon fill=\"black\" stroke=\"black\" points=\"80.6371,-111.691 90.6371,-108.191 80.637,-104.691 80.6371,-111.691\"/>\n",
       "</g>\n",
       "<!-- \\(A_A\\) -->\n",
       "<g id=\"node2\" class=\"node\"><title>\\(A_A\\)</title>\n",
       "<ellipse fill=\"none\" stroke=\"black\" cx=\"251.481\" cy=\"-37.1914\" rx=\"33.3631\" ry=\"33.3631\"/>\n",
       "<ellipse fill=\"none\" stroke=\"black\" cx=\"251.481\" cy=\"-37.1914\" rx=\"37.3837\" ry=\"37.3837\"/>\n",
       "<text text-anchor=\"middle\" x=\"251.481\" y=\"-32.9914\" font-family=\"Times,serif\" font-size=\"14.00\">(A_A)</text>\n",
       "</g>\n",
       "<!-- \\(A_A\\)&#45;&gt;\\(A_A\\) -->\n",
       "<g id=\"edge4\" class=\"edge\"><title>\\(A_A\\)&#45;&gt;\\(A_A\\)</title>\n",
       "<path fill=\"none\" stroke=\"black\" d=\"M240.623,-73.0225C240.895,-83.8888 244.514,-92.3827 251.481,-92.3827 256.053,-92.3827 259.184,-88.7247 260.872,-83.1387\"/>\n",
       "<polygon fill=\"black\" stroke=\"black\" points=\"264.368,-83.4214 262.34,-73.0225 257.44,-82.4165 264.368,-83.4214\"/>\n",
       "<text text-anchor=\"middle\" x=\"251.481\" y=\"-95.1827\" font-family=\"Times,serif\" font-size=\"14.00\">1</text>\n",
       "</g>\n",
       "<!-- \\(B_B\\) -->\n",
       "<g id=\"node3\" class=\"node\"><title>\\(B_B\\)</title>\n",
       "<ellipse fill=\"none\" stroke=\"black\" cx=\"367.888\" cy=\"-108.191\" rx=\"32.4083\" ry=\"32.4083\"/>\n",
       "<ellipse fill=\"none\" stroke=\"black\" cx=\"367.888\" cy=\"-108.191\" rx=\"36.4323\" ry=\"36.4323\"/>\n",
       "<text text-anchor=\"middle\" x=\"367.888\" y=\"-103.991\" font-family=\"Times,serif\" font-size=\"14.00\">(B_B)</text>\n",
       "</g>\n",
       "<!-- \\(A_A\\)&#45;&gt;\\(B_B\\) -->\n",
       "<g id=\"edge3\" class=\"edge\"><title>\\(A_A\\)&#45;&gt;\\(B_B\\)</title>\n",
       "<path fill=\"none\" stroke=\"black\" d=\"M283.441,-56.405C297.142,-64.9074 313.407,-75.0011 327.922,-84.0091\"/>\n",
       "<polygon fill=\"black\" stroke=\"black\" points=\"326.352,-87.1543 336.695,-89.4535 330.043,-81.2066 326.352,-87.1543\"/>\n",
       "<text text-anchor=\"middle\" x=\"310.173\" y=\"-76.9914\" font-family=\"Times,serif\" font-size=\"14.00\">0</text>\n",
       "</g>\n",
       "<!-- \\(B_B\\)&#45;&gt;\\(B_B\\) -->\n",
       "<g id=\"edge5\" class=\"edge\"><title>\\(B_B\\)&#45;&gt;\\(B_B\\)</title>\n",
       "<path fill=\"none\" stroke=\"black\" d=\"M357.394,-142.866C357.554,-153.79 361.052,-162.407 367.888,-162.407 372.374,-162.407 375.423,-158.696 377.034,-153.057\"/>\n",
       "<polygon fill=\"black\" stroke=\"black\" points=\"380.54,-153.239 378.382,-142.866 373.601,-152.321 380.54,-153.239\"/>\n",
       "<text text-anchor=\"middle\" x=\"367.888\" y=\"-165.207\" font-family=\"Times,serif\" font-size=\"14.00\">1</text>\n",
       "</g>\n",
       "<!-- \\(B_B\\)&#45;&gt;\\(IF_IF\\) -->\n",
       "<g id=\"edge6\" class=\"edge\"><title>\\(B_B\\)&#45;&gt;\\(IF_IF\\)</title>\n",
       "<path fill=\"none\" stroke=\"black\" d=\"M331.501,-112.032C318.103,-113.309 302.701,-114.565 288.673,-115.191 255.647,-116.666 247.319,-116.596 214.29,-115.191 203.67,-114.74 192.298,-113.961 181.505,-113.083\"/>\n",
       "<polygon fill=\"black\" stroke=\"black\" points=\"181.639,-109.582 171.378,-112.218 181.044,-116.556 181.639,-109.582\"/>\n",
       "<text text-anchor=\"middle\" x=\"251.481\" y=\"-118.991\" font-family=\"Times,serif\" font-size=\"14.00\">0</text>\n",
       "</g>\n",
       "<!-- \\(IF_IF\\)&#45;&gt;\\(A_A\\) -->\n",
       "<g id=\"edge7\" class=\"edge\"><title>\\(IF_IF\\)&#45;&gt;\\(A_A\\)</title>\n",
       "<path fill=\"none\" stroke=\"black\" d=\"M166.055,-87.8456C179.856,-79.5657 195.913,-69.9317 210.296,-61.302\"/>\n",
       "<polygon fill=\"black\" stroke=\"black\" points=\"212.226,-64.2258 219,-56.0797 208.624,-58.2233 212.226,-64.2258\"/>\n",
       "<text text-anchor=\"middle\" x=\"192.79\" y=\"-74.9914\" font-family=\"Times,serif\" font-size=\"14.00\">0</text>\n",
       "</g>\n",
       "<!-- \\(IF_IF\\)&#45;&gt;\\(IF_IF\\) -->\n",
       "<g id=\"edge2\" class=\"edge\"><title>\\(IF_IF\\)&#45;&gt;\\(IF_IF\\)</title>\n",
       "<path fill=\"none\" stroke=\"black\" d=\"M120.324,-147.049C120.798,-157.96 124.405,-166.336 131.145,-166.336 135.568,-166.336 138.642,-162.729 140.367,-157.165\"/>\n",
       "<polygon fill=\"black\" stroke=\"black\" points=\"143.862,-157.473 141.966,-147.049 136.947,-156.379 143.862,-157.473\"/>\n",
       "<text text-anchor=\"middle\" x=\"131.145\" y=\"-169.136\" font-family=\"Times,serif\" font-size=\"14.00\">1</text>\n",
       "</g>\n",
       "</g>\n",
       "</svg>\n"
      ],
      "text/plain": [
       "<graphviz.dot.Digraph at 0x1022499e8>"
      ]
     },
     "execution_count": 15,
     "metadata": {},
     "output_type": "execute_result"
    }
   ],
   "source": [
    "# One more test\n",
    "du     = union_dfa(DFA_fig34, DFA_fig34_comp)\n",
    "dotObj_dfa(du, \"orig union\")\n",
    "pdu    = pruneUnreach(du)\n",
    "pdu\n",
    "pduObj = dotObj_dfa(pdu, \"union of 34 and comp\")\n",
    "pduObj\n",
    "\n"
   ]
  },
  {
   "cell_type": "markdown",
   "metadata": {
    "run_control": {
     "frozen": false,
     "read_only": false
    }
   },
   "source": [
    "# DFA Isomorphism\n",
    "\n",
    "This routine is handy to check whether two DFA are isomorphic. Given they are rooted at q0, the isomorphism-check is linear in the number of edges."
   ]
  },
  {
   "cell_type": "code",
   "execution_count": 16,
   "metadata": {
    "run_control": {
     "frozen": false,
     "read_only": false
    }
   },
   "outputs": [],
   "source": [
    "def iso_dfa(D1,D2):\n",
    "    \"\"\"Given consistent and total DFAs D1 and D2,\n",
    "       check whether they are isomorphic. Two DFAs\n",
    "       are isomorphic if they have the same number\n",
    "       of states and are language-equivalent. (One would\n",
    "       then be able to match-up state for state and transition\n",
    "       for transition.)\n",
    "    \"\"\"\n",
    "    assert(is_consistent_dfa(D1)), \"Inconsist. DFA1 in iso_dfa\"\n",
    "    assert(is_consistent_dfa(D2)), \"Inconsist. DFA2 in iso_dfa\"\n",
    "    return (len(D1[\"Q\"]) == len(D2[\"Q\"]) and\n",
    "            langeq_dfa(D1, D2))"
   ]
  },
  {
   "cell_type": "code",
   "execution_count": 17,
   "metadata": {
    "run_control": {
     "frozen": false,
     "read_only": false
    }
   },
   "outputs": [],
   "source": [
    "def langeq_dfa(D1, D2, gen_counterex=False):\n",
    "    \"\"\"Given consistent and total DFAs D1 and D2,\n",
    "       check whether they are language-equivalent. \n",
    "       gen_counterex is a flag that triggers the\n",
    "        printing of a counter-example showing the\n",
    "        pairs that were marched in tandem till a\n",
    "        difference was found.\n",
    "        \n",
    "       Two DFAs are language-equivalent if they \n",
    "       accept the same set of strings. We determine\n",
    "       this through a joint depth-first walk of the \n",
    "       two DFAs until we detect a difference (return\n",
    "       False then) or all pairs of states have been\n",
    "       visited (return True then).\n",
    "    \"\"\"\n",
    "    if D1[\"Sigma\"] != D2[\"Sigma\"]:\n",
    "        print(\"The DFA cannot be compared, as their\", end=\"\")\n",
    "        print(\" alphabets are different; namely:\")\n",
    "        print(\"Sigma1 = \", D1[\"Sigma\"])\n",
    "        print(\"Sigma2 = \", D2[\"Sigma\"])\n",
    "        return False\n",
    "    else:\n",
    "        (eqStatus, cex_path) = h_langeq_dfa(D1[\"q0\"], D1,\n",
    "                                            D2[\"q0\"], D2, \n",
    "                                            Visited=[])\n",
    "        if not eqStatus:\n",
    "            if gen_counterex:\n",
    "                print(\"The DFA are NOT language equivalent!\")\n",
    "                print(\"Path leading to counterexample is: \")\n",
    "                print(cex_path)\n",
    "        return eqStatus # True or False\n",
    "\n",
    "def same_status(q1, D1, q2, D2):\n",
    "    \"\"\"Check if q1,q2 are both accepting\n",
    "       or both non-accepting wrt D1,D2 resply.\n",
    "    \"\"\"\n",
    "    return (q1 in D1[\"F\"]) == (q2 in D2[\"F\"])\n",
    "\n",
    "def h_langeq_dfa(q1, D1, q2, D2, Visited):\n",
    "    \"\"\"Helper for langeq_dfa. \n",
    "       If (q1,q2) is in Visited, no screw-up so far, so\n",
    "        continue. Else if they agree in status, recursively\n",
    "        check for all reachable configurations (a DFS in\n",
    "        recursion). Else (if they differ in status),\n",
    "        then return (False, Visited) where the latter is\n",
    "        the counter-example trace.  \n",
    "    \"\"\"\n",
    "    if (q1,q2) in Visited:\n",
    "        return (True, Visited)\n",
    "    else:\n",
    "        extVisited = Visited + [(q1,q2)]\n",
    "        if not same_status(q1,D1,q2,D2):\n",
    "            return (False, extVisited)\n",
    "        else:\n",
    "            l_nxt_status = list(\n",
    "            map(lambda symb:\n",
    "                h_langeq_dfa(D1[\"Delta\"][(q1,symb)], D1,\n",
    "                             D2[\"Delta\"][(q2,symb)], D2,\n",
    "                             extVisited),\n",
    "                D1[\"Sigma\"]))\n",
    "            l_rejects = list(filter(lambda x: x[0]==False, l_nxt_status))\n",
    "            if l_rejects==[]:\n",
    "                return (True, extVisited)\n",
    "            else:\n",
    "                return l_rejects[0] # which is the first offending (status,cex)"
   ]
  },
  {
   "cell_type": "code",
   "execution_count": 18,
   "metadata": {
    "code_folding": [],
    "run_control": {
     "frozen": false,
     "read_only": false
    }
   },
   "outputs": [
    {
     "data": {
      "image/svg+xml": [
       "<?xml version=\"1.0\" encoding=\"UTF-8\" standalone=\"no\"?>\n",
       "<!DOCTYPE svg PUBLIC \"-//W3C//DTD SVG 1.1//EN\"\n",
       " \"http://www.w3.org/Graphics/SVG/1.1/DTD/svg11.dtd\">\n",
       "<!-- Generated by graphviz version 2.38.0 (20140413.2041)\n",
       " -->\n",
       "<!-- Title: %3 Pages: 1 -->\n",
       "<svg width=\"301pt\" height=\"137pt\"\n",
       " viewBox=\"0.00 0.00 301.00 137.00\" xmlns=\"http://www.w3.org/2000/svg\" xmlns:xlink=\"http://www.w3.org/1999/xlink\">\n",
       "<g id=\"graph0\" class=\"graph\" transform=\"scale(1 1) rotate(0) translate(4 133)\">\n",
       "<title>%3</title>\n",
       "<polygon fill=\"white\" stroke=\"none\" points=\"-4,4 -4,-133 297,-133 297,4 -4,4\"/>\n",
       "<!-- EMPTY -->\n",
       "<g id=\"node1\" class=\"node\"><title>EMPTY</title>\n",
       "</g>\n",
       "<!-- IF -->\n",
       "<g id=\"node4\" class=\"node\"><title>IF</title>\n",
       "<ellipse fill=\"none\" stroke=\"black\" cx=\"113\" cy=\"-75\" rx=\"18\" ry=\"18\"/>\n",
       "<ellipse fill=\"none\" stroke=\"black\" cx=\"113\" cy=\"-75\" rx=\"22\" ry=\"22\"/>\n",
       "<text text-anchor=\"middle\" x=\"113\" y=\"-70.8\" font-family=\"Times,serif\" font-size=\"14.00\">IF</text>\n",
       "</g>\n",
       "<!-- EMPTY&#45;&gt;IF -->\n",
       "<g id=\"edge1\" class=\"edge\"><title>EMPTY&#45;&gt;IF</title>\n",
       "<path fill=\"none\" stroke=\"black\" d=\"M54.1177,-75C62.5406,-75 71.9629,-75 80.7191,-75\"/>\n",
       "<polygon fill=\"black\" stroke=\"black\" points=\"80.9574,-78.5001 90.9574,-75 80.9573,-71.5001 80.9574,-78.5001\"/>\n",
       "</g>\n",
       "<!-- B -->\n",
       "<g id=\"node2\" class=\"node\"><title>B</title>\n",
       "<ellipse fill=\"none\" stroke=\"black\" cx=\"275\" cy=\"-75\" rx=\"18\" ry=\"18\"/>\n",
       "<text text-anchor=\"middle\" x=\"275\" y=\"-70.8\" font-family=\"Times,serif\" font-size=\"14.00\">B</text>\n",
       "</g>\n",
       "<!-- B&#45;&gt;B -->\n",
       "<g id=\"edge7\" class=\"edge\"><title>B&#45;&gt;B</title>\n",
       "<path fill=\"none\" stroke=\"black\" d=\"M268.266,-92.0373C266.892,-101.858 269.137,-111 275,-111 278.665,-111 280.916,-107.429 281.753,-102.353\"/>\n",
       "<polygon fill=\"black\" stroke=\"black\" points=\"285.252,-102.031 281.734,-92.0373 278.252,-102.044 285.252,-102.031\"/>\n",
       "<text text-anchor=\"middle\" x=\"275\" y=\"-113.8\" font-family=\"Times,serif\" font-size=\"14.00\">1</text>\n",
       "</g>\n",
       "<!-- B&#45;&gt;IF -->\n",
       "<g id=\"edge6\" class=\"edge\"><title>B&#45;&gt;IF</title>\n",
       "<path fill=\"none\" stroke=\"black\" d=\"M256.935,-75.7202C244.929,-76.1898 228.485,-76.7586 214,-77 198.002,-77.2666 193.998,-77.2499 178,-77 167.358,-76.8338 155.724,-76.5121 145.329,-76.1746\"/>\n",
       "<polygon fill=\"black\" stroke=\"black\" points=\"145.152,-72.6666 135.038,-75.8229 144.913,-79.6625 145.152,-72.6666\"/>\n",
       "<text text-anchor=\"middle\" x=\"196\" y=\"-79.8\" font-family=\"Times,serif\" font-size=\"14.00\">0</text>\n",
       "</g>\n",
       "<!-- A -->\n",
       "<g id=\"node3\" class=\"node\"><title>A</title>\n",
       "<ellipse fill=\"none\" stroke=\"black\" cx=\"196\" cy=\"-18\" rx=\"18\" ry=\"18\"/>\n",
       "<text text-anchor=\"middle\" x=\"196\" y=\"-13.8\" font-family=\"Times,serif\" font-size=\"14.00\">A</text>\n",
       "</g>\n",
       "<!-- A&#45;&gt;B -->\n",
       "<g id=\"edge4\" class=\"edge\"><title>A&#45;&gt;B</title>\n",
       "<path fill=\"none\" stroke=\"black\" d=\"M211.123,-28.4547C222.52,-36.8913 238.758,-48.9118 251.878,-58.6237\"/>\n",
       "<polygon fill=\"black\" stroke=\"black\" points=\"249.847,-61.4749 259.967,-64.6116 254.012,-55.8487 249.847,-61.4749\"/>\n",
       "<text text-anchor=\"middle\" x=\"235.5\" y=\"-50.8\" font-family=\"Times,serif\" font-size=\"14.00\">0</text>\n",
       "</g>\n",
       "<!-- A&#45;&gt;A -->\n",
       "<g id=\"edge5\" class=\"edge\"><title>A&#45;&gt;A</title>\n",
       "<path fill=\"none\" stroke=\"black\" d=\"M189.266,-35.0373C187.892,-44.8579 190.137,-54 196,-54 199.665,-54 201.916,-50.4289 202.753,-45.3529\"/>\n",
       "<polygon fill=\"black\" stroke=\"black\" points=\"206.252,-45.0307 202.734,-35.0373 199.252,-45.0439 206.252,-45.0307\"/>\n",
       "<text text-anchor=\"middle\" x=\"196\" y=\"-56.8\" font-family=\"Times,serif\" font-size=\"14.00\">1</text>\n",
       "</g>\n",
       "<!-- IF&#45;&gt;A -->\n",
       "<g id=\"edge2\" class=\"edge\"><title>IF&#45;&gt;A</title>\n",
       "<path fill=\"none\" stroke=\"black\" d=\"M131.576,-62.6318C143.522,-54.2252 159.436,-43.0264 172.335,-33.9498\"/>\n",
       "<polygon fill=\"black\" stroke=\"black\" points=\"174.533,-36.6827 180.697,-28.0654 170.504,-30.958 174.533,-36.6827\"/>\n",
       "<text text-anchor=\"middle\" x=\"156.5\" y=\"-48.8\" font-family=\"Times,serif\" font-size=\"14.00\">0</text>\n",
       "</g>\n",
       "<!-- IF&#45;&gt;IF -->\n",
       "<g id=\"edge3\" class=\"edge\"><title>IF&#45;&gt;IF</title>\n",
       "<path fill=\"none\" stroke=\"black\" d=\"M105.683,-95.9908C104.78,-106.087 107.219,-115 113,-115 116.704,-115 119.036,-111.342 119.996,-106.059\"/>\n",
       "<polygon fill=\"black\" stroke=\"black\" points=\"123.496,-106.097 120.317,-95.9908 116.5,-105.874 123.496,-106.097\"/>\n",
       "<text text-anchor=\"middle\" x=\"113\" y=\"-117.8\" font-family=\"Times,serif\" font-size=\"14.00\">1</text>\n",
       "</g>\n",
       "</g>\n",
       "</svg>\n"
      ],
      "text/plain": [
       "<graphviz.dot.Digraph at 0x102271a20>"
      ]
     },
     "execution_count": 18,
     "metadata": {},
     "output_type": "execute_result"
    }
   ],
   "source": [
    "D34 = {   'Q': {'A', 'IF', 'B'},\n",
    "          'Sigma': {'0', '1'},\n",
    "          'Delta': { ('IF', '0'): 'A',\n",
    "                     ('IF', '1'): 'IF',\n",
    "                     ('A', '0'): 'B',\n",
    "                     ('A', '1'): 'A',\n",
    "                     ('B', '0'): 'IF',\n",
    "                     ('B', '1'): 'B' },\n",
    "          'q0': 'IF', \n",
    "          'F': {'IF'}   \n",
    "        }\n",
    "\n",
    "D34bl = { 'Q': {'A', 'IF', 'B', 'A1', 'B1'},\n",
    "          'Sigma': {'0', '1'},\n",
    "          'Delta': { ('IF', '0'): 'A',\n",
    "                     ('IF', '1'): 'IF',\n",
    "                     ('A', '0'): 'B1',\n",
    "                     ('A', '1'): 'A1',\n",
    "                     ('A1', '0'): 'B',\n",
    "                     ('A1', '1'): 'A',\n",
    "                     ('B1', '0'): 'IF',\n",
    "                     ('B1', '1'): 'B',\n",
    "                     ('B','0') : 'IF',\n",
    "                     ('B', '1'): 'B1' },\n",
    "          'q0': 'IF', \n",
    "          'F': {'IF'}   \n",
    "        }\n",
    "\n",
    "\n",
    "d34 = dotObj_dfa(D34, \"D34\")\n",
    "d34 # Display it!"
   ]
  },
  {
   "cell_type": "code",
   "execution_count": 19,
   "metadata": {
    "run_control": {
     "frozen": false,
     "read_only": false
    }
   },
   "outputs": [
    {
     "data": {
      "text/plain": [
       "True"
      ]
     },
     "execution_count": 19,
     "metadata": {},
     "output_type": "execute_result"
    }
   ],
   "source": [
    "langeq_dfa(D34,D34bl,False)"
   ]
  },
  {
   "cell_type": "code",
   "execution_count": 20,
   "metadata": {
    "run_control": {
     "frozen": false,
     "read_only": false
    }
   },
   "outputs": [
    {
     "data": {
      "text/plain": [
       "False"
      ]
     },
     "execution_count": 20,
     "metadata": {},
     "output_type": "execute_result"
    }
   ],
   "source": [
    "iso_dfa(D34,D34bl)"
   ]
  },
  {
   "cell_type": "code",
   "execution_count": 21,
   "metadata": {
    "run_control": {
     "frozen": false,
     "read_only": false
    }
   },
   "outputs": [
    {
     "data": {
      "text/plain": [
       "{'Delta': {('A', '0'): 'B',\n",
       "  ('A', '1'): 'A',\n",
       "  ('B', '0'): 'IF',\n",
       "  ('B', '1'): 'B',\n",
       "  ('IF', '0'): 'A',\n",
       "  ('IF', '1'): 'IF'},\n",
       " 'F': {'IF'},\n",
       " 'Q': {'A', 'B', 'IF'},\n",
       " 'Sigma': {'0', '1'},\n",
       " 'q0': 'IF'}"
      ]
     },
     "execution_count": 21,
     "metadata": {},
     "output_type": "execute_result"
    }
   ],
   "source": [
    "DFA_fig34\n",
    "d34 = DFA_fig34\n",
    "d34"
   ]
  },
  {
   "cell_type": "code",
   "execution_count": 22,
   "metadata": {
    "run_control": {
     "frozen": false,
     "read_only": false
    }
   },
   "outputs": [
    {
     "data": {
      "text/plain": [
       "{'Delta': {('A', '0'): 'B',\n",
       "  ('A', '1'): 'A',\n",
       "  ('B', '0'): 'IF',\n",
       "  ('B', '1'): 'B',\n",
       "  ('IF', '0'): 'A',\n",
       "  ('IF', '1'): 'IF'},\n",
       " 'F': {'A', 'B'},\n",
       " 'Q': {'A', 'B', 'IF'},\n",
       " 'Sigma': {'0', '1'},\n",
       " 'q0': 'IF'}"
      ]
     },
     "execution_count": 22,
     "metadata": {},
     "output_type": "execute_result"
    }
   ],
   "source": [
    "d34c = DFA_fig34_comp\n",
    "d34c"
   ]
  },
  {
   "cell_type": "code",
   "execution_count": 23,
   "metadata": {
    "run_control": {
     "frozen": false,
     "read_only": false
    }
   },
   "outputs": [
    {
     "data": {
      "text/plain": [
       "True"
      ]
     },
     "execution_count": 23,
     "metadata": {},
     "output_type": "execute_result"
    }
   ],
   "source": [
    "iso_dfa(d34,d34)"
   ]
  },
  {
   "cell_type": "code",
   "execution_count": 24,
   "metadata": {
    "run_control": {
     "frozen": false,
     "read_only": false
    }
   },
   "outputs": [
    {
     "data": {
      "text/plain": [
       "False"
      ]
     },
     "execution_count": 24,
     "metadata": {},
     "output_type": "execute_result"
    }
   ],
   "source": [
    "iso_dfa(d34,d34c)"
   ]
  },
  {
   "cell_type": "code",
   "execution_count": 25,
   "metadata": {
    "run_control": {
     "frozen": false,
     "read_only": false
    }
   },
   "outputs": [],
   "source": [
    "d34v1 = {'Delta': {('A', '0'): 'B',\n",
    "  ('A', '1'): 'B',\n",
    "  ('B', '0'): 'IF',\n",
    "  ('B', '1'): 'B',\n",
    "  ('IF', '0'): 'A',\n",
    "  ('IF', '1'): 'IF'},\n",
    " 'F': {'IF'},\n",
    " 'Q': {'A', 'B', 'IF'},\n",
    " 'Sigma': {'0', '1'},\n",
    " 'q0': 'IF'}"
   ]
  },
  {
   "cell_type": "code",
   "execution_count": 26,
   "metadata": {
    "run_control": {
     "frozen": false,
     "read_only": false
    }
   },
   "outputs": [
    {
     "data": {
      "image/svg+xml": [
       "<?xml version=\"1.0\" encoding=\"UTF-8\" standalone=\"no\"?>\n",
       "<!DOCTYPE svg PUBLIC \"-//W3C//DTD SVG 1.1//EN\"\n",
       " \"http://www.w3.org/Graphics/SVG/1.1/DTD/svg11.dtd\">\n",
       "<!-- Generated by graphviz version 2.38.0 (20140413.2041)\n",
       " -->\n",
       "<!-- Title: %3 Pages: 1 -->\n",
       "<svg width=\"301pt\" height=\"113pt\"\n",
       " viewBox=\"0.00 0.00 301.00 113.00\" xmlns=\"http://www.w3.org/2000/svg\" xmlns:xlink=\"http://www.w3.org/1999/xlink\">\n",
       "<g id=\"graph0\" class=\"graph\" transform=\"scale(1 1) rotate(0) translate(4 109)\">\n",
       "<title>%3</title>\n",
       "<polygon fill=\"white\" stroke=\"none\" points=\"-4,4 -4,-109 297,-109 297,4 -4,4\"/>\n",
       "<!-- EMPTY -->\n",
       "<g id=\"node1\" class=\"node\"><title>EMPTY</title>\n",
       "</g>\n",
       "<!-- IF -->\n",
       "<g id=\"node4\" class=\"node\"><title>IF</title>\n",
       "<ellipse fill=\"none\" stroke=\"black\" cx=\"113\" cy=\"-51\" rx=\"18\" ry=\"18\"/>\n",
       "<ellipse fill=\"none\" stroke=\"black\" cx=\"113\" cy=\"-51\" rx=\"22\" ry=\"22\"/>\n",
       "<text text-anchor=\"middle\" x=\"113\" y=\"-46.8\" font-family=\"Times,serif\" font-size=\"14.00\">IF</text>\n",
       "</g>\n",
       "<!-- EMPTY&#45;&gt;IF -->\n",
       "<g id=\"edge1\" class=\"edge\"><title>EMPTY&#45;&gt;IF</title>\n",
       "<path fill=\"none\" stroke=\"black\" d=\"M54.1177,-51C62.5406,-51 71.9629,-51 80.7191,-51\"/>\n",
       "<polygon fill=\"black\" stroke=\"black\" points=\"80.9574,-54.5001 90.9574,-51 80.9573,-47.5001 80.9574,-54.5001\"/>\n",
       "</g>\n",
       "<!-- B -->\n",
       "<g id=\"node2\" class=\"node\"><title>B</title>\n",
       "<ellipse fill=\"none\" stroke=\"black\" cx=\"275\" cy=\"-43\" rx=\"18\" ry=\"18\"/>\n",
       "<text text-anchor=\"middle\" x=\"275\" y=\"-38.8\" font-family=\"Times,serif\" font-size=\"14.00\">B</text>\n",
       "</g>\n",
       "<!-- B&#45;&gt;B -->\n",
       "<g id=\"edge5\" class=\"edge\"><title>B&#45;&gt;B</title>\n",
       "<path fill=\"none\" stroke=\"black\" d=\"M268.266,-60.0373C266.892,-69.8579 269.137,-79 275,-79 278.665,-79 280.916,-75.4289 281.753,-70.3529\"/>\n",
       "<polygon fill=\"black\" stroke=\"black\" points=\"285.252,-70.0307 281.734,-60.0373 278.252,-70.0439 285.252,-70.0307\"/>\n",
       "<text text-anchor=\"middle\" x=\"275\" y=\"-81.8\" font-family=\"Times,serif\" font-size=\"14.00\">1</text>\n",
       "</g>\n",
       "<!-- B&#45;&gt;IF -->\n",
       "<g id=\"edge4\" class=\"edge\"><title>B&#45;&gt;IF</title>\n",
       "<path fill=\"none\" stroke=\"black\" d=\"M256.972,-46.3825C251.28,-47.3892 244.887,-48.3864 239,-49 207.267,-52.3079 170.761,-52.4764 145.427,-52.0201\"/>\n",
       "<polygon fill=\"black\" stroke=\"black\" points=\"145.376,-48.5182 135.301,-51.7937 145.22,-55.5164 145.376,-48.5182\"/>\n",
       "<text text-anchor=\"middle\" x=\"196\" y=\"-54.8\" font-family=\"Times,serif\" font-size=\"14.00\">0</text>\n",
       "</g>\n",
       "<!-- A -->\n",
       "<g id=\"node3\" class=\"node\"><title>A</title>\n",
       "<ellipse fill=\"none\" stroke=\"black\" cx=\"196\" cy=\"-18\" rx=\"18\" ry=\"18\"/>\n",
       "<text text-anchor=\"middle\" x=\"196\" y=\"-13.8\" font-family=\"Times,serif\" font-size=\"14.00\">A</text>\n",
       "</g>\n",
       "<!-- A&#45;&gt;B -->\n",
       "<g id=\"edge2\" class=\"edge\"><title>A&#45;&gt;B</title>\n",
       "<path fill=\"none\" stroke=\"black\" d=\"M213.33,-23.3019C223.436,-26.5832 236.635,-30.8685 248.14,-34.6038\"/>\n",
       "<polygon fill=\"black\" stroke=\"black\" points=\"247.102,-37.9466 257.694,-37.7058 249.263,-31.2887 247.102,-37.9466\"/>\n",
       "<text text-anchor=\"middle\" x=\"235.5\" y=\"-33.8\" font-family=\"Times,serif\" font-size=\"14.00\">0</text>\n",
       "</g>\n",
       "<!-- A&#45;&gt;B -->\n",
       "<g id=\"edge3\" class=\"edge\"><title>A&#45;&gt;B</title>\n",
       "<path fill=\"none\" stroke=\"black\" d=\"M212.965,-11.4541C220.985,-9.12696 230.731,-7.78952 239,-11 245.246,-13.4248 251.057,-17.5414 256.079,-22.0292\"/>\n",
       "<polygon fill=\"black\" stroke=\"black\" points=\"253.717,-24.6167 263.271,-29.1973 258.659,-19.6589 253.717,-24.6167\"/>\n",
       "<text text-anchor=\"middle\" x=\"235.5\" y=\"-13.8\" font-family=\"Times,serif\" font-size=\"14.00\">1</text>\n",
       "</g>\n",
       "<!-- IF&#45;&gt;A -->\n",
       "<g id=\"edge6\" class=\"edge\"><title>IF&#45;&gt;A</title>\n",
       "<path fill=\"none\" stroke=\"black\" d=\"M133.608,-43.0116C144.399,-38.6151 157.916,-33.1083 169.517,-28.3819\"/>\n",
       "<polygon fill=\"black\" stroke=\"black\" points=\"171.162,-31.491 179.103,-24.4767 168.521,-25.0084 171.162,-31.491\"/>\n",
       "<text text-anchor=\"middle\" x=\"156.5\" y=\"-36.8\" font-family=\"Times,serif\" font-size=\"14.00\">0</text>\n",
       "</g>\n",
       "<!-- IF&#45;&gt;IF -->\n",
       "<g id=\"edge7\" class=\"edge\"><title>IF&#45;&gt;IF</title>\n",
       "<path fill=\"none\" stroke=\"black\" d=\"M105.683,-71.9908C104.78,-82.0872 107.219,-91 113,-91 116.704,-91 119.036,-87.3422 119.996,-82.0587\"/>\n",
       "<polygon fill=\"black\" stroke=\"black\" points=\"123.496,-82.0973 120.317,-71.9908 116.5,-81.8741 123.496,-82.0973\"/>\n",
       "<text text-anchor=\"middle\" x=\"113\" y=\"-93.8\" font-family=\"Times,serif\" font-size=\"14.00\">1</text>\n",
       "</g>\n",
       "</g>\n",
       "</svg>\n"
      ],
      "text/plain": [
       "<graphviz.dot.Digraph at 0x101085048>"
      ]
     },
     "execution_count": 26,
     "metadata": {},
     "output_type": "execute_result"
    }
   ],
   "source": [
    "dotObj_dfa(d34v1)"
   ]
  },
  {
   "cell_type": "code",
   "execution_count": 27,
   "metadata": {
    "run_control": {
     "frozen": false,
     "read_only": false
    }
   },
   "outputs": [],
   "source": [
    "d34v2 = {'Delta': {('A', '0'): 'B',\n",
    "  ('A', '1'): 'B',\n",
    "  ('B', '0'): 'IF',\n",
    "  ('B', '1'): 'B',\n",
    "  ('IF', '0'): 'A',\n",
    "  ('IF', '1'): 'IF'},\n",
    " 'F': {'IF', 'B'},\n",
    " 'Q': {'A', 'B', 'IF'},\n",
    " 'Sigma': {'0', '1'},\n",
    " 'q0': 'IF'}"
   ]
  },
  {
   "cell_type": "code",
   "execution_count": 28,
   "metadata": {
    "run_control": {
     "frozen": false,
     "read_only": false
    }
   },
   "outputs": [
    {
     "data": {
      "text/plain": [
       "False"
      ]
     },
     "execution_count": 28,
     "metadata": {},
     "output_type": "execute_result"
    }
   ],
   "source": [
    "iso_dfa(d34,d34v1)"
   ]
  },
  {
   "cell_type": "code",
   "execution_count": 29,
   "metadata": {
    "run_control": {
     "frozen": false,
     "read_only": false
    }
   },
   "outputs": [
    {
     "data": {
      "text/plain": [
       "False"
      ]
     },
     "execution_count": 29,
     "metadata": {},
     "output_type": "execute_result"
    }
   ],
   "source": [
    "iso_dfa(d34,d34v2)"
   ]
  },
  {
   "cell_type": "code",
   "execution_count": 30,
   "metadata": {
    "run_control": {
     "frozen": false,
     "read_only": false
    }
   },
   "outputs": [
    {
     "data": {
      "text/plain": [
       "False"
      ]
     },
     "execution_count": 30,
     "metadata": {},
     "output_type": "execute_result"
    }
   ],
   "source": [
    "iso_dfa(d34v1,d34v2)"
   ]
  },
  {
   "cell_type": "code",
   "execution_count": 31,
   "metadata": {
    "run_control": {
     "frozen": false,
     "read_only": false
    }
   },
   "outputs": [
    {
     "data": {
      "image/svg+xml": [
       "<?xml version=\"1.0\" encoding=\"UTF-8\" standalone=\"no\"?>\n",
       "<!DOCTYPE svg PUBLIC \"-//W3C//DTD SVG 1.1//EN\"\n",
       " \"http://www.w3.org/Graphics/SVG/1.1/DTD/svg11.dtd\">\n",
       "<!-- Generated by graphviz version 2.38.0 (20140413.2041)\n",
       " -->\n",
       "<!-- Title: %3 Pages: 1 -->\n",
       "<svg width=\"396pt\" height=\"157pt\"\n",
       " viewBox=\"0.00 0.00 396.10 157.34\" xmlns=\"http://www.w3.org/2000/svg\" xmlns:xlink=\"http://www.w3.org/1999/xlink\">\n",
       "<g id=\"graph0\" class=\"graph\" transform=\"scale(1 1) rotate(0) translate(4 153.336)\">\n",
       "<title>%3</title>\n",
       "<polygon fill=\"white\" stroke=\"none\" points=\"-4,4 -4,-153.336 392.104,-153.336 392.104,4 -4,4\"/>\n",
       "<!-- EMPTY -->\n",
       "<g id=\"node1\" class=\"node\"><title>EMPTY</title>\n",
       "</g>\n",
       "<!-- \\(IF_IF\\) -->\n",
       "<g id=\"node4\" class=\"node\"><title>\\(IF_IF\\)</title>\n",
       "<ellipse fill=\"none\" stroke=\"black\" cx=\"131.145\" cy=\"-77.1914\" rx=\"36.2759\" ry=\"36.2759\"/>\n",
       "<ellipse fill=\"none\" stroke=\"black\" cx=\"131.145\" cy=\"-77.1914\" rx=\"40.2904\" ry=\"40.2904\"/>\n",
       "<text text-anchor=\"middle\" x=\"131.145\" y=\"-72.9914\" font-family=\"Times,serif\" font-size=\"14.00\">(IF_IF)</text>\n",
       "</g>\n",
       "<!-- EMPTY&#45;&gt;\\(IF_IF\\) -->\n",
       "<g id=\"edge1\" class=\"edge\"><title>EMPTY&#45;&gt;\\(IF_IF\\)</title>\n",
       "<path fill=\"none\" stroke=\"black\" d=\"M54.0398,-77.1914C62.1135,-77.1914 71.296,-77.1914 80.4211,-77.1914\"/>\n",
       "<polygon fill=\"black\" stroke=\"black\" points=\"80.6371,-80.6915 90.6371,-77.1914 80.637,-73.6915 80.6371,-80.6915\"/>\n",
       "</g>\n",
       "<!-- \\(A_A\\) -->\n",
       "<g id=\"node2\" class=\"node\"><title>\\(A_A\\)</title>\n",
       "<ellipse fill=\"none\" stroke=\"black\" cx=\"247.481\" cy=\"-33.1914\" rx=\"33.3839\" ry=\"33.3839\"/>\n",
       "<text text-anchor=\"middle\" x=\"247.481\" y=\"-28.9914\" font-family=\"Times,serif\" font-size=\"14.00\">(A_A)</text>\n",
       "</g>\n",
       "<!-- \\(B_B\\) -->\n",
       "<g id=\"node3\" class=\"node\"><title>\\(B_B\\)</title>\n",
       "<ellipse fill=\"none\" stroke=\"black\" cx=\"355.888\" cy=\"-70.1914\" rx=\"32.4324\" ry=\"32.4324\"/>\n",
       "<text text-anchor=\"middle\" x=\"355.888\" y=\"-65.9914\" font-family=\"Times,serif\" font-size=\"14.00\">(B_B)</text>\n",
       "</g>\n",
       "<!-- \\(A_A\\)&#45;&gt;\\(B_B\\) -->\n",
       "<g id=\"edge3\" class=\"edge\"><title>\\(A_A\\)&#45;&gt;\\(B_B\\)</title>\n",
       "<path fill=\"none\" stroke=\"black\" d=\"M278.973,-43.7941C290.296,-47.7313 303.309,-52.256 315.325,-56.4345\"/>\n",
       "<polygon fill=\"black\" stroke=\"black\" points=\"314.532,-59.864 325.126,-59.8425 316.831,-53.2523 314.532,-59.864\"/>\n",
       "<text text-anchor=\"middle\" x=\"302.173\" y=\"-54.9914\" font-family=\"Times,serif\" font-size=\"14.00\">0</text>\n",
       "</g>\n",
       "<!-- \\(A_A\\)&#45;&gt;\\(B_B\\) -->\n",
       "<g id=\"edge5\" class=\"edge\"><title>\\(A_A\\)&#45;&gt;\\(B_B\\)</title>\n",
       "<path fill=\"none\" stroke=\"black\" d=\"M280.528,-29.6134C288.885,-29.6412 297.762,-30.5494 305.673,-33.1914 311.927,-35.2802 318.025,-38.5108 323.679,-42.2116\"/>\n",
       "<polygon fill=\"black\" stroke=\"black\" points=\"321.996,-45.313 332.156,-48.3176 326.088,-39.633 321.996,-45.313\"/>\n",
       "<text text-anchor=\"middle\" x=\"302.173\" y=\"-35.9914\" font-family=\"Times,serif\" font-size=\"14.00\">1</text>\n",
       "</g>\n",
       "<!-- \\(B_B\\)&#45;&gt;\\(B_B\\) -->\n",
       "<g id=\"edge4\" class=\"edge\"><title>\\(B_B\\)&#45;&gt;\\(B_B\\)</title>\n",
       "<path fill=\"none\" stroke=\"black\" d=\"M346.141,-101.084C346.037,-111.774 349.287,-120.407 355.888,-120.407 360.22,-120.407 363.109,-116.689 364.554,-111.112\"/>\n",
       "<polygon fill=\"black\" stroke=\"black\" points=\"368.043,-111.402 365.636,-101.084 361.083,-110.651 368.043,-111.402\"/>\n",
       "<text text-anchor=\"middle\" x=\"355.888\" y=\"-123.207\" font-family=\"Times,serif\" font-size=\"14.00\">1</text>\n",
       "</g>\n",
       "<!-- \\(B_B\\)&#45;&gt;\\(IF_IF\\) -->\n",
       "<g id=\"edge6\" class=\"edge\"><title>\\(B_B\\)&#45;&gt;\\(IF_IF\\)</title>\n",
       "<path fill=\"none\" stroke=\"black\" d=\"M323.491,-72.682C310.279,-73.6325 294.737,-74.6233 280.673,-75.1914 247.741,-76.5215 210.672,-77.022 181.804,-77.1897\"/>\n",
       "<polygon fill=\"black\" stroke=\"black\" points=\"181.547,-73.6908 171.563,-77.2374 181.579,-80.6907 181.547,-73.6908\"/>\n",
       "<text text-anchor=\"middle\" x=\"247.481\" y=\"-78.9914\" font-family=\"Times,serif\" font-size=\"14.00\">0</text>\n",
       "</g>\n",
       "<!-- \\(IF_IF\\)&#45;&gt;\\(A_A\\) -->\n",
       "<g id=\"edge7\" class=\"edge\"><title>\\(IF_IF\\)&#45;&gt;\\(A_A\\)</title>\n",
       "<path fill=\"none\" stroke=\"black\" d=\"M168.951,-63.0273C181.005,-58.3887 194.447,-53.2155 206.71,-48.4966\"/>\n",
       "<polygon fill=\"black\" stroke=\"black\" points=\"208.166,-51.6864 216.242,-44.8283 205.652,-45.1534 208.166,-51.6864\"/>\n",
       "<text text-anchor=\"middle\" x=\"192.79\" y=\"-57.9914\" font-family=\"Times,serif\" font-size=\"14.00\">0</text>\n",
       "</g>\n",
       "<!-- \\(IF_IF\\)&#45;&gt;\\(IF_IF\\) -->\n",
       "<g id=\"edge2\" class=\"edge\"><title>\\(IF_IF\\)&#45;&gt;\\(IF_IF\\)</title>\n",
       "<path fill=\"none\" stroke=\"black\" d=\"M120.324,-116.049C120.798,-126.96 124.405,-135.336 131.145,-135.336 135.568,-135.336 138.642,-131.729 140.367,-126.165\"/>\n",
       "<polygon fill=\"black\" stroke=\"black\" points=\"143.862,-126.473 141.966,-116.049 136.947,-125.379 143.862,-126.473\"/>\n",
       "<text text-anchor=\"middle\" x=\"131.145\" y=\"-138.136\" font-family=\"Times,serif\" font-size=\"14.00\">1</text>\n",
       "</g>\n",
       "</g>\n",
       "</svg>\n"
      ],
      "text/plain": [
       "<graphviz.dot.Digraph at 0x101085160>"
      ]
     },
     "execution_count": 31,
     "metadata": {},
     "output_type": "execute_result"
    }
   ],
   "source": [
    "div1 = pruneUnreach(intersect_dfa(d34v1,d34v2))\n",
    "dotObj_dfa(div1)"
   ]
  },
  {
   "cell_type": "code",
   "execution_count": 32,
   "metadata": {
    "run_control": {
     "frozen": false,
     "read_only": false
    }
   },
   "outputs": [
    {
     "data": {
      "image/svg+xml": [
       "<?xml version=\"1.0\" encoding=\"UTF-8\" standalone=\"no\"?>\n",
       "<!DOCTYPE svg PUBLIC \"-//W3C//DTD SVG 1.1//EN\"\n",
       " \"http://www.w3.org/Graphics/SVG/1.1/DTD/svg11.dtd\">\n",
       "<!-- Generated by graphviz version 2.38.0 (20140413.2041)\n",
       " -->\n",
       "<!-- Title: %3 Pages: 1 -->\n",
       "<svg width=\"404pt\" height=\"157pt\"\n",
       " viewBox=\"0.00 0.00 404.10 157.34\" xmlns=\"http://www.w3.org/2000/svg\" xmlns:xlink=\"http://www.w3.org/1999/xlink\">\n",
       "<g id=\"graph0\" class=\"graph\" transform=\"scale(1 1) rotate(0) translate(4 153.336)\">\n",
       "<title>%3</title>\n",
       "<polygon fill=\"white\" stroke=\"none\" points=\"-4,4 -4,-153.336 400.104,-153.336 400.104,4 -4,4\"/>\n",
       "<!-- EMPTY -->\n",
       "<g id=\"node1\" class=\"node\"><title>EMPTY</title>\n",
       "</g>\n",
       "<!-- \\(IF_IF\\) -->\n",
       "<g id=\"node4\" class=\"node\"><title>\\(IF_IF\\)</title>\n",
       "<ellipse fill=\"none\" stroke=\"black\" cx=\"131.145\" cy=\"-77.1914\" rx=\"36.2759\" ry=\"36.2759\"/>\n",
       "<ellipse fill=\"none\" stroke=\"black\" cx=\"131.145\" cy=\"-77.1914\" rx=\"40.2904\" ry=\"40.2904\"/>\n",
       "<text text-anchor=\"middle\" x=\"131.145\" y=\"-72.9914\" font-family=\"Times,serif\" font-size=\"14.00\">(IF_IF)</text>\n",
       "</g>\n",
       "<!-- EMPTY&#45;&gt;\\(IF_IF\\) -->\n",
       "<g id=\"edge1\" class=\"edge\"><title>EMPTY&#45;&gt;\\(IF_IF\\)</title>\n",
       "<path fill=\"none\" stroke=\"black\" d=\"M54.0398,-77.1914C62.1135,-77.1914 71.296,-77.1914 80.4211,-77.1914\"/>\n",
       "<polygon fill=\"black\" stroke=\"black\" points=\"80.6371,-80.6915 90.6371,-77.1914 80.637,-73.6915 80.6371,-80.6915\"/>\n",
       "</g>\n",
       "<!-- \\(A_A\\) -->\n",
       "<g id=\"node2\" class=\"node\"><title>\\(A_A\\)</title>\n",
       "<ellipse fill=\"none\" stroke=\"black\" cx=\"247.481\" cy=\"-33.1914\" rx=\"33.3839\" ry=\"33.3839\"/>\n",
       "<text text-anchor=\"middle\" x=\"247.481\" y=\"-28.9914\" font-family=\"Times,serif\" font-size=\"14.00\">(A_A)</text>\n",
       "</g>\n",
       "<!-- \\(B_B\\) -->\n",
       "<g id=\"node3\" class=\"node\"><title>\\(B_B\\)</title>\n",
       "<ellipse fill=\"none\" stroke=\"black\" cx=\"359.888\" cy=\"-70.1914\" rx=\"32.4083\" ry=\"32.4083\"/>\n",
       "<ellipse fill=\"none\" stroke=\"black\" cx=\"359.888\" cy=\"-70.1914\" rx=\"36.4323\" ry=\"36.4323\"/>\n",
       "<text text-anchor=\"middle\" x=\"359.888\" y=\"-65.9914\" font-family=\"Times,serif\" font-size=\"14.00\">(B_B)</text>\n",
       "</g>\n",
       "<!-- \\(A_A\\)&#45;&gt;\\(B_B\\) -->\n",
       "<g id=\"edge3\" class=\"edge\"><title>\\(A_A\\)&#45;&gt;\\(B_B\\)</title>\n",
       "<path fill=\"none\" stroke=\"black\" d=\"M279.236,-43.4979C290.513,-47.2773 303.497,-51.6285 315.665,-55.7062\"/>\n",
       "<polygon fill=\"black\" stroke=\"black\" points=\"314.606,-59.0427 325.2,-58.9017 316.831,-52.4055 314.606,-59.0427\"/>\n",
       "<text text-anchor=\"middle\" x=\"302.173\" y=\"-53.9914\" font-family=\"Times,serif\" font-size=\"14.00\">0</text>\n",
       "</g>\n",
       "<!-- \\(A_A\\)&#45;&gt;\\(B_B\\) -->\n",
       "<g id=\"edge5\" class=\"edge\"><title>\\(A_A\\)&#45;&gt;\\(B_B\\)</title>\n",
       "<path fill=\"none\" stroke=\"black\" d=\"M280.483,-28.997C288.84,-28.879 297.729,-29.6462 305.673,-32.1914 311.845,-34.169 317.911,-37.1546 323.612,-40.6002\"/>\n",
       "<polygon fill=\"black\" stroke=\"black\" points=\"321.962,-43.7058 332.231,-46.3146 325.83,-37.8716 321.962,-43.7058\"/>\n",
       "<text text-anchor=\"middle\" x=\"302.173\" y=\"-34.9914\" font-family=\"Times,serif\" font-size=\"14.00\">1</text>\n",
       "</g>\n",
       "<!-- \\(B_B\\)&#45;&gt;\\(B_B\\) -->\n",
       "<g id=\"edge4\" class=\"edge\"><title>\\(B_B\\)&#45;&gt;\\(B_B\\)</title>\n",
       "<path fill=\"none\" stroke=\"black\" d=\"M349.394,-104.866C349.554,-115.79 353.052,-124.407 359.888,-124.407 364.374,-124.407 367.423,-120.696 369.034,-115.057\"/>\n",
       "<polygon fill=\"black\" stroke=\"black\" points=\"372.54,-115.239 370.382,-104.866 365.601,-114.321 372.54,-115.239\"/>\n",
       "<text text-anchor=\"middle\" x=\"359.888\" y=\"-127.207\" font-family=\"Times,serif\" font-size=\"14.00\">1</text>\n",
       "</g>\n",
       "<!-- \\(B_B\\)&#45;&gt;\\(IF_IF\\) -->\n",
       "<g id=\"edge6\" class=\"edge\"><title>\\(B_B\\)&#45;&gt;\\(IF_IF\\)</title>\n",
       "<path fill=\"none\" stroke=\"black\" d=\"M323.476,-72.8341C310.074,-73.7346 294.677,-74.6498 280.673,-75.1914 247.738,-76.465 210.67,-76.9654 181.803,-77.1472\"/>\n",
       "<polygon fill=\"black\" stroke=\"black\" points=\"181.543,-73.6484 171.562,-77.2006 181.58,-80.6483 181.543,-73.6484\"/>\n",
       "<text text-anchor=\"middle\" x=\"247.481\" y=\"-78.9914\" font-family=\"Times,serif\" font-size=\"14.00\">0</text>\n",
       "</g>\n",
       "<!-- \\(IF_IF\\)&#45;&gt;\\(A_A\\) -->\n",
       "<g id=\"edge7\" class=\"edge\"><title>\\(IF_IF\\)&#45;&gt;\\(A_A\\)</title>\n",
       "<path fill=\"none\" stroke=\"black\" d=\"M168.951,-63.0273C181.005,-58.3887 194.447,-53.2155 206.71,-48.4966\"/>\n",
       "<polygon fill=\"black\" stroke=\"black\" points=\"208.166,-51.6864 216.242,-44.8283 205.652,-45.1534 208.166,-51.6864\"/>\n",
       "<text text-anchor=\"middle\" x=\"192.79\" y=\"-57.9914\" font-family=\"Times,serif\" font-size=\"14.00\">0</text>\n",
       "</g>\n",
       "<!-- \\(IF_IF\\)&#45;&gt;\\(IF_IF\\) -->\n",
       "<g id=\"edge2\" class=\"edge\"><title>\\(IF_IF\\)&#45;&gt;\\(IF_IF\\)</title>\n",
       "<path fill=\"none\" stroke=\"black\" d=\"M120.324,-116.049C120.798,-126.96 124.405,-135.336 131.145,-135.336 135.568,-135.336 138.642,-131.729 140.367,-126.165\"/>\n",
       "<polygon fill=\"black\" stroke=\"black\" points=\"143.862,-126.473 141.966,-116.049 136.947,-125.379 143.862,-126.473\"/>\n",
       "<text text-anchor=\"middle\" x=\"131.145\" y=\"-138.136\" font-family=\"Times,serif\" font-size=\"14.00\">1</text>\n",
       "</g>\n",
       "</g>\n",
       "</svg>\n"
      ],
      "text/plain": [
       "<graphviz.dot.Digraph at 0x101085d30>"
      ]
     },
     "execution_count": 32,
     "metadata": {},
     "output_type": "execute_result"
    }
   ],
   "source": [
    "div2 = pruneUnreach(union_dfa(d34v1,d34v2))\n",
    "dotObj_dfa(div2)"
   ]
  },
  {
   "cell_type": "code",
   "execution_count": 33,
   "metadata": {
    "run_control": {
     "frozen": false,
     "read_only": false
    }
   },
   "outputs": [
    {
     "data": {
      "text/plain": [
       "False"
      ]
     },
     "execution_count": 33,
     "metadata": {},
     "output_type": "execute_result"
    }
   ],
   "source": [
    "iso_dfa(div1,div2)"
   ]
  },
  {
   "cell_type": "code",
   "execution_count": 34,
   "metadata": {
    "run_control": {
     "frozen": false,
     "read_only": false
    }
   },
   "outputs": [
    {
     "name": "stdout",
     "output_type": "stream",
     "text": [
      "The DFA are NOT language equivalent!\n",
      "Path leading to counterexample is: \n",
      "[(('IF', 'IF'), ('IF', 'IF')), (('A', 'A'), ('A', 'A')), (('B', 'B'), ('B', 'B'))]\n"
     ]
    },
    {
     "data": {
      "text/plain": [
       "False"
      ]
     },
     "execution_count": 34,
     "metadata": {},
     "output_type": "execute_result"
    }
   ],
   "source": [
    "langeq_dfa(div1,div2,True)"
   ]
  },
  {
   "cell_type": "code",
   "execution_count": 35,
   "metadata": {
    "run_control": {
     "frozen": false,
     "read_only": false
    }
   },
   "outputs": [
    {
     "data": {
      "image/svg+xml": [
       "<?xml version=\"1.0\" encoding=\"UTF-8\" standalone=\"no\"?>\n",
       "<!DOCTYPE svg PUBLIC \"-//W3C//DTD SVG 1.1//EN\"\n",
       " \"http://www.w3.org/Graphics/SVG/1.1/DTD/svg11.dtd\">\n",
       "<!-- Generated by graphviz version 2.38.0 (20140413.2041)\n",
       " -->\n",
       "<!-- Title: %3 Pages: 1 -->\n",
       "<svg width=\"470pt\" height=\"149pt\"\n",
       " viewBox=\"0.00 0.00 469.68 149.00\" xmlns=\"http://www.w3.org/2000/svg\" xmlns:xlink=\"http://www.w3.org/1999/xlink\">\n",
       "<g id=\"graph0\" class=\"graph\" transform=\"scale(1 1) rotate(0) translate(4 145)\">\n",
       "<title>%3</title>\n",
       "<polygon fill=\"white\" stroke=\"none\" points=\"-4,4 -4,-145 465.684,-145 465.684,4 -4,4\"/>\n",
       "<!-- EMPTY -->\n",
       "<g id=\"node1\" class=\"node\"><title>EMPTY</title>\n",
       "</g>\n",
       "<!-- IF -->\n",
       "<g id=\"node6\" class=\"node\"><title>IF</title>\n",
       "<ellipse fill=\"none\" stroke=\"black\" cx=\"113\" cy=\"-75\" rx=\"18\" ry=\"18\"/>\n",
       "<ellipse fill=\"none\" stroke=\"black\" cx=\"113\" cy=\"-75\" rx=\"22\" ry=\"22\"/>\n",
       "<text text-anchor=\"middle\" x=\"113\" y=\"-70.8\" font-family=\"Times,serif\" font-size=\"14.00\">IF</text>\n",
       "</g>\n",
       "<!-- EMPTY&#45;&gt;IF -->\n",
       "<g id=\"edge1\" class=\"edge\"><title>EMPTY&#45;&gt;IF</title>\n",
       "<path fill=\"none\" stroke=\"black\" d=\"M54.1177,-75C62.5406,-75 71.9629,-75 80.7191,-75\"/>\n",
       "<polygon fill=\"black\" stroke=\"black\" points=\"80.9574,-78.5001 90.9574,-75 80.9573,-71.5001 80.9574,-78.5001\"/>\n",
       "</g>\n",
       "<!-- A1 -->\n",
       "<g id=\"node2\" class=\"node\"><title>A1</title>\n",
       "<ellipse fill=\"none\" stroke=\"black\" cx=\"277.915\" cy=\"-100\" rx=\"20.8304\" ry=\"20.8304\"/>\n",
       "<text text-anchor=\"middle\" x=\"277.915\" y=\"-95.8\" font-family=\"Times,serif\" font-size=\"14.00\">A1</text>\n",
       "</g>\n",
       "<!-- B -->\n",
       "<g id=\"node3\" class=\"node\"><title>B</title>\n",
       "<ellipse fill=\"none\" stroke=\"black\" cx=\"359.83\" cy=\"-109\" rx=\"18\" ry=\"18\"/>\n",
       "<text text-anchor=\"middle\" x=\"359.83\" y=\"-104.8\" font-family=\"Times,serif\" font-size=\"14.00\">B</text>\n",
       "</g>\n",
       "<!-- A1&#45;&gt;B -->\n",
       "<g id=\"edge6\" class=\"edge\"><title>A1&#45;&gt;B</title>\n",
       "<path fill=\"none\" stroke=\"black\" d=\"M299.081,-102.271C308.999,-103.388 321.094,-104.75 331.801,-105.956\"/>\n",
       "<polygon fill=\"black\" stroke=\"black\" points=\"331.584,-109.454 341.913,-107.095 332.367,-102.498 331.584,-109.454\"/>\n",
       "<text text-anchor=\"middle\" x=\"320.33\" y=\"-108.8\" font-family=\"Times,serif\" font-size=\"14.00\">0</text>\n",
       "</g>\n",
       "<!-- A -->\n",
       "<g id=\"node5\" class=\"node\"><title>A</title>\n",
       "<ellipse fill=\"none\" stroke=\"black\" cx=\"196\" cy=\"-75\" rx=\"18\" ry=\"18\"/>\n",
       "<text text-anchor=\"middle\" x=\"196\" y=\"-70.8\" font-family=\"Times,serif\" font-size=\"14.00\">A</text>\n",
       "</g>\n",
       "<!-- A1&#45;&gt;A -->\n",
       "<g id=\"edge7\" class=\"edge\"><title>A1&#45;&gt;A</title>\n",
       "<path fill=\"none\" stroke=\"black\" d=\"M262.328,-85.8129C255.752,-80.3803 247.55,-74.8148 239,-72 234.218,-70.4255 228.968,-69.9154 223.85,-70.0109\"/>\n",
       "<polygon fill=\"black\" stroke=\"black\" points=\"223.369,-66.5397 213.718,-70.9105 223.988,-73.5123 223.369,-66.5397\"/>\n",
       "<text text-anchor=\"middle\" x=\"235.5\" y=\"-74.8\" font-family=\"Times,serif\" font-size=\"14.00\">1</text>\n",
       "</g>\n",
       "<!-- B1 -->\n",
       "<g id=\"node4\" class=\"node\"><title>B1</title>\n",
       "<ellipse fill=\"none\" stroke=\"black\" cx=\"441.257\" cy=\"-58\" rx=\"20.3544\" ry=\"20.3544\"/>\n",
       "<text text-anchor=\"middle\" x=\"441.257\" y=\"-53.8\" font-family=\"Times,serif\" font-size=\"14.00\">B1</text>\n",
       "</g>\n",
       "<!-- B&#45;&gt;B1 -->\n",
       "<g id=\"edge11\" class=\"edge\"><title>B&#45;&gt;B1</title>\n",
       "<path fill=\"none\" stroke=\"black\" d=\"M371.434,-94.6391C377.76,-86.9663 386.386,-77.9107 395.83,-72 400.425,-69.1241 405.66,-66.7945 410.884,-64.9221\"/>\n",
       "<polygon fill=\"black\" stroke=\"black\" points=\"412.233,-68.1682 420.747,-61.8618 410.159,-61.4826 412.233,-68.1682\"/>\n",
       "<text text-anchor=\"middle\" x=\"399.33\" y=\"-74.8\" font-family=\"Times,serif\" font-size=\"14.00\">1</text>\n",
       "</g>\n",
       "<!-- B&#45;&gt;IF -->\n",
       "<g id=\"edge10\" class=\"edge\"><title>B&#45;&gt;IF</title>\n",
       "<path fill=\"none\" stroke=\"black\" d=\"M343.368,-116.296C337.356,-118.954 330.356,-121.836 323.83,-124 295.524,-133.387 286.39,-135.054 257,-130 215.26,-122.822 170.122,-103.296 141.96,-89.5591\"/>\n",
       "<polygon fill=\"black\" stroke=\"black\" points=\"143.253,-86.2929 132.741,-84.9714 140.134,-92.5599 143.253,-86.2929\"/>\n",
       "<text text-anchor=\"middle\" x=\"235.5\" y=\"-129.8\" font-family=\"Times,serif\" font-size=\"14.00\">0</text>\n",
       "</g>\n",
       "<!-- B1&#45;&gt;B -->\n",
       "<g id=\"edge9\" class=\"edge\"><title>B1&#45;&gt;B</title>\n",
       "<path fill=\"none\" stroke=\"black\" d=\"M426.078,-71.7896C419.377,-77.8554 411.055,-84.7728 402.83,-90 397.637,-93.2998 391.776,-96.3312 386.116,-98.9577\"/>\n",
       "<polygon fill=\"black\" stroke=\"black\" points=\"384.694,-95.7593 376.934,-102.972 387.498,-102.173 384.694,-95.7593\"/>\n",
       "<text text-anchor=\"middle\" x=\"399.33\" y=\"-96.8\" font-family=\"Times,serif\" font-size=\"14.00\">1</text>\n",
       "</g>\n",
       "<!-- B1&#45;&gt;IF -->\n",
       "<g id=\"edge8\" class=\"edge\"><title>B1&#45;&gt;IF</title>\n",
       "<path fill=\"none\" stroke=\"black\" d=\"M428.471,-41.8438C414.457,-24.682 389.345,-0 360.83,-0 195,-0 195,-0 195,-0 166.324,-0 143.499,-25.6206 129.481,-46.9128\"/>\n",
       "<polygon fill=\"black\" stroke=\"black\" points=\"126.333,-45.3462 124.021,-55.6856 132.276,-49.045 126.333,-45.3462\"/>\n",
       "<text text-anchor=\"middle\" x=\"277.915\" y=\"-2.8\" font-family=\"Times,serif\" font-size=\"14.00\">0</text>\n",
       "</g>\n",
       "<!-- A&#45;&gt;A1 -->\n",
       "<g id=\"edge5\" class=\"edge\"><title>A&#45;&gt;A1</title>\n",
       "<path fill=\"none\" stroke=\"black\" d=\"M212.444,-82.3527C218.453,-85.0184 225.457,-87.8897 232,-90 236.785,-91.5433 241.932,-92.9321 246.974,-94.1493\"/>\n",
       "<polygon fill=\"black\" stroke=\"black\" points=\"246.502,-97.6302 257.025,-96.4007 248.032,-90.7995 246.502,-97.6302\"/>\n",
       "<text text-anchor=\"middle\" x=\"235.5\" y=\"-95.8\" font-family=\"Times,serif\" font-size=\"14.00\">1</text>\n",
       "</g>\n",
       "<!-- A&#45;&gt;B1 -->\n",
       "<g id=\"edge4\" class=\"edge\"><title>A&#45;&gt;B1</title>\n",
       "<path fill=\"none\" stroke=\"black\" d=\"M213.622,-70.5517C219.398,-69.1793 225.946,-67.8158 232,-67 295.213,-58.4817 370.098,-57.4267 410.621,-57.596\"/>\n",
       "<polygon fill=\"black\" stroke=\"black\" points=\"410.604,-61.0959 420.628,-57.6663 410.653,-54.0961 410.604,-61.0959\"/>\n",
       "<text text-anchor=\"middle\" x=\"320.33\" y=\"-62.8\" font-family=\"Times,serif\" font-size=\"14.00\">0</text>\n",
       "</g>\n",
       "<!-- IF&#45;&gt;A -->\n",
       "<g id=\"edge2\" class=\"edge\"><title>IF&#45;&gt;A</title>\n",
       "<path fill=\"none\" stroke=\"black\" d=\"M135.282,-75C145.266,-75 157.278,-75 167.903,-75\"/>\n",
       "<polygon fill=\"black\" stroke=\"black\" points=\"167.94,-78.5001 177.939,-75 167.939,-71.5001 167.94,-78.5001\"/>\n",
       "<text text-anchor=\"middle\" x=\"156.5\" y=\"-77.8\" font-family=\"Times,serif\" font-size=\"14.00\">0</text>\n",
       "</g>\n",
       "<!-- IF&#45;&gt;IF -->\n",
       "<g id=\"edge3\" class=\"edge\"><title>IF&#45;&gt;IF</title>\n",
       "<path fill=\"none\" stroke=\"black\" d=\"M105.683,-95.9908C104.78,-106.087 107.219,-115 113,-115 116.704,-115 119.036,-111.342 119.996,-106.059\"/>\n",
       "<polygon fill=\"black\" stroke=\"black\" points=\"123.496,-106.097 120.317,-95.9908 116.5,-105.874 123.496,-106.097\"/>\n",
       "<text text-anchor=\"middle\" x=\"113\" y=\"-117.8\" font-family=\"Times,serif\" font-size=\"14.00\">1</text>\n",
       "</g>\n",
       "</g>\n",
       "</svg>\n"
      ],
      "text/plain": [
       "<graphviz.dot.Digraph at 0x102245be0>"
      ]
     },
     "execution_count": 35,
     "metadata": {},
     "output_type": "execute_result"
    }
   ],
   "source": [
    "d34bl = dotObj_dfa(D34bl, \"D34bl\")\n",
    "d34bl # Display it!"
   ]
  },
  {
   "cell_type": "code",
   "execution_count": 36,
   "metadata": {
    "run_control": {
     "frozen": false,
     "read_only": false
    }
   },
   "outputs": [
    {
     "data": {
      "text/plain": [
       "False"
      ]
     },
     "execution_count": 36,
     "metadata": {},
     "output_type": "execute_result"
    }
   ],
   "source": [
    "iso_dfa(D34,D34bl)"
   ]
  },
  {
   "cell_type": "code",
   "execution_count": 37,
   "metadata": {
    "run_control": {
     "frozen": false,
     "read_only": false
    }
   },
   "outputs": [
    {
     "data": {
      "text/plain": [
       "True"
      ]
     },
     "execution_count": 37,
     "metadata": {},
     "output_type": "execute_result"
    }
   ],
   "source": [
    "langeq_dfa(D34,D34bl)"
   ]
  },
  {
   "cell_type": "markdown",
   "metadata": {
    "collapsed": true,
    "run_control": {
     "frozen": false,
     "read_only": false
    }
   },
   "source": [
    "#### "
   ]
  },
  {
   "cell_type": "code",
   "execution_count": 38,
   "metadata": {
    "run_control": {
     "frozen": false,
     "read_only": false
    }
   },
   "outputs": [
    {
     "data": {
      "text/plain": [
       "{'Delta': {(('A', 'A'), '0'): ('B', 'B'),\n",
       "  (('A', 'A'), '1'): ('A', 'A'),\n",
       "  (('B', 'B'), '0'): ('IF', 'IF'),\n",
       "  (('B', 'B'), '1'): ('B', 'B'),\n",
       "  (('IF', 'IF'), '0'): ('A', 'A'),\n",
       "  (('IF', 'IF'), '1'): ('IF', 'IF')},\n",
       " 'F': {('A', 'A'), ('B', 'B'), ('IF', 'IF')},\n",
       " 'Q': {('A', 'A'), ('B', 'B'), ('IF', 'IF')},\n",
       " 'Sigma': {'0', '1'},\n",
       " 'q0': ('IF', 'IF')}"
      ]
     },
     "execution_count": 38,
     "metadata": {},
     "output_type": "execute_result"
    }
   ],
   "source": [
    "du"
   ]
  },
  {
   "cell_type": "markdown",
   "metadata": {
    "run_control": {
     "frozen": false,
     "read_only": false
    }
   },
   "source": [
    "# DFA Minimization\n",
    "\n",
    "This is a good juncture at which to introduce DFA minimization. \n",
    "\n",
    "## Definition of DFA minimization\n",
    "\n",
    "We define minimization only for consistent DFA.\n",
    " \n",
    "> _A consistent DFA D is minimal if it satisfies two properties_\n",
    " \n",
    ">  1. There should not be any unreachable states (from the start state) in it\n",
    " \n",
    ">  2. For any pair of distinct states $(s_1,s_2)$ in $D$, we must not have the case that for all strings $s$ in $\\Sigma^*$, $\\hat{\\delta}(s_1,s) = \\hat{\\delta}(s_2,s)$.\n",
    "\n",
    "\n",
    "We don't want useless states and we don't want redundant states. For instance, let me make a redundant DFA with duplicate states, below. Then you can easily see how even bloated DFAs can recognize the same language. After seeing this fact, we will introduce you to a DFA minimization algorithm.\n",
    "\n",
    "First, let's learn how to deliberately bloat a DFA:"
   ]
  },
  {
   "cell_type": "markdown",
   "metadata": {
    "run_control": {
     "frozen": false,
     "read_only": false
    }
   },
   "source": [
    "## DFA minimization algorithm (high level)\n",
    "\n",
    "Having seen two examples of bloated DFA, we now define a minimization algorithm. Here is the gist. The actual algorithm is in the code that follows.\n",
    "\n",
    "1. Put the states into two equivalence classes (EC):\n",
    "\n",
    " a. All non-final states are in one EC, say NF\n",
    " b. All final states are in another EC, say F\n",
    " c. We call any (sa,sb) such that sa in NF and sb in F as **zero-distinguishable** states, as \n",
    "    a $\\varepsilon$ string can distinguish sa and sb (meaning, when sa is evolved through $\\varepsilon$ or $sb$ is evolved through $\\varepsilon$, the resulting state is the same -- sa or sb)\n",
    "    \n",
    "     * \"Evolved through\" means $\\hat{\\delta}(sa,\\varepsilon) = sa$, and similarly for sb\n",
    "     \n",
    "     * In our example DFA d34bl, IF is zero-distinguishable from all other states\n",
    " \n",
    "2. In general, we have $k$-distinguishable states for $k>0$ (above step discussed $k=0$ as zero-distinguishability)\n",
    "\n",
    "3. Split states:\n",
    " \n",
    " a. Take a state pair $(s_1,s_2)$ such that they are not $k$ distinguishable.\n",
    " b. Take $c\\in\\Sigma$\n",
    " c. If $\\delta(s_1,c) = sn_1$ and $\\delta(s_2,c) = sn_2$ and $(sn_1,sn_2)$ are $k$-distinguishable, mark $(s_1,s_2)$ as $k+1$-distinguishable. \n",
    " \n",
    "4. Repeat the above process till across one sweep, the distinguishability relation does not change.\n",
    "\n",
    "5. Take all maximal sets of pairs of states that have not been found distinguishable yet. Pick a representative from each such maximal set. These states are in the final DFA. \n",
    "\n",
    "6. Go by the state transitions of the representative states. (The remaining states in the equivalence classes are not necessary.)\n",
    "\n",
    "  * In our example, all pairs in $\\{A,A1\\} \\times \\{B,B1\\}$ will be 1-distinguishable (distinction made by $0$)\n",
    "  \n",
    "  * The final equivalence classes will be $\\{IF\\}$, and then $\\{A,A1\\}$, and $\\{B,B1\\}$.\n",
    "  \n",
    "\n",
    "<span style=\"color:blue\"> **Clearly, the above algorithm cannot make full sense till you see how it can be worked out \"by hand\" using some pictures. This is what we will now do before showing you the actual code.\n",
    "\n",
    "** </span>\n"
   ]
  },
  {
   "cell_type": "code",
   "execution_count": 39,
   "metadata": {
    "run_control": {
     "frozen": false,
     "read_only": false
    }
   },
   "outputs": [
    {
     "data": {
      "image/svg+xml": [
       "<?xml version=\"1.0\" encoding=\"UTF-8\" standalone=\"no\"?>\n",
       "<!DOCTYPE svg PUBLIC \"-//W3C//DTD SVG 1.1//EN\"\n",
       " \"http://www.w3.org/Graphics/SVG/1.1/DTD/svg11.dtd\">\n",
       "<!-- Generated by graphviz version 2.38.0 (20140413.2041)\n",
       " -->\n",
       "<!-- Title: %3 Pages: 1 -->\n",
       "<svg width=\"470pt\" height=\"149pt\"\n",
       " viewBox=\"0.00 0.00 469.68 149.00\" xmlns=\"http://www.w3.org/2000/svg\" xmlns:xlink=\"http://www.w3.org/1999/xlink\">\n",
       "<g id=\"graph0\" class=\"graph\" transform=\"scale(1 1) rotate(0) translate(4 145)\">\n",
       "<title>%3</title>\n",
       "<polygon fill=\"white\" stroke=\"none\" points=\"-4,4 -4,-145 465.684,-145 465.684,4 -4,4\"/>\n",
       "<!-- EMPTY -->\n",
       "<g id=\"node1\" class=\"node\"><title>EMPTY</title>\n",
       "</g>\n",
       "<!-- IF -->\n",
       "<g id=\"node6\" class=\"node\"><title>IF</title>\n",
       "<ellipse fill=\"none\" stroke=\"black\" cx=\"113\" cy=\"-75\" rx=\"18\" ry=\"18\"/>\n",
       "<ellipse fill=\"none\" stroke=\"black\" cx=\"113\" cy=\"-75\" rx=\"22\" ry=\"22\"/>\n",
       "<text text-anchor=\"middle\" x=\"113\" y=\"-70.8\" font-family=\"Times,serif\" font-size=\"14.00\">IF</text>\n",
       "</g>\n",
       "<!-- EMPTY&#45;&gt;IF -->\n",
       "<g id=\"edge1\" class=\"edge\"><title>EMPTY&#45;&gt;IF</title>\n",
       "<path fill=\"none\" stroke=\"black\" d=\"M54.1177,-75C62.5406,-75 71.9629,-75 80.7191,-75\"/>\n",
       "<polygon fill=\"black\" stroke=\"black\" points=\"80.9574,-78.5001 90.9574,-75 80.9573,-71.5001 80.9574,-78.5001\"/>\n",
       "</g>\n",
       "<!-- A1 -->\n",
       "<g id=\"node2\" class=\"node\"><title>A1</title>\n",
       "<ellipse fill=\"none\" stroke=\"black\" cx=\"277.915\" cy=\"-100\" rx=\"20.8304\" ry=\"20.8304\"/>\n",
       "<text text-anchor=\"middle\" x=\"277.915\" y=\"-95.8\" font-family=\"Times,serif\" font-size=\"14.00\">A1</text>\n",
       "</g>\n",
       "<!-- B -->\n",
       "<g id=\"node3\" class=\"node\"><title>B</title>\n",
       "<ellipse fill=\"none\" stroke=\"black\" cx=\"359.83\" cy=\"-109\" rx=\"18\" ry=\"18\"/>\n",
       "<text text-anchor=\"middle\" x=\"359.83\" y=\"-104.8\" font-family=\"Times,serif\" font-size=\"14.00\">B</text>\n",
       "</g>\n",
       "<!-- A1&#45;&gt;B -->\n",
       "<g id=\"edge4\" class=\"edge\"><title>A1&#45;&gt;B</title>\n",
       "<path fill=\"none\" stroke=\"black\" d=\"M299.081,-102.271C308.999,-103.388 321.094,-104.75 331.801,-105.956\"/>\n",
       "<polygon fill=\"black\" stroke=\"black\" points=\"331.584,-109.454 341.913,-107.095 332.367,-102.498 331.584,-109.454\"/>\n",
       "<text text-anchor=\"middle\" x=\"320.33\" y=\"-108.8\" font-family=\"Times,serif\" font-size=\"14.00\">0</text>\n",
       "</g>\n",
       "<!-- A -->\n",
       "<g id=\"node5\" class=\"node\"><title>A</title>\n",
       "<ellipse fill=\"none\" stroke=\"black\" cx=\"196\" cy=\"-75\" rx=\"18\" ry=\"18\"/>\n",
       "<text text-anchor=\"middle\" x=\"196\" y=\"-70.8\" font-family=\"Times,serif\" font-size=\"14.00\">A</text>\n",
       "</g>\n",
       "<!-- A1&#45;&gt;A -->\n",
       "<g id=\"edge9\" class=\"edge\"><title>A1&#45;&gt;A</title>\n",
       "<path fill=\"none\" stroke=\"black\" d=\"M262.328,-85.8129C255.752,-80.3803 247.55,-74.8148 239,-72 234.218,-70.4255 228.968,-69.9154 223.85,-70.0109\"/>\n",
       "<polygon fill=\"black\" stroke=\"black\" points=\"223.369,-66.5397 213.718,-70.9105 223.988,-73.5123 223.369,-66.5397\"/>\n",
       "<text text-anchor=\"middle\" x=\"235.5\" y=\"-74.8\" font-family=\"Times,serif\" font-size=\"14.00\">1</text>\n",
       "</g>\n",
       "<!-- B1 -->\n",
       "<g id=\"node4\" class=\"node\"><title>B1</title>\n",
       "<ellipse fill=\"none\" stroke=\"black\" cx=\"441.257\" cy=\"-58\" rx=\"20.3544\" ry=\"20.3544\"/>\n",
       "<text text-anchor=\"middle\" x=\"441.257\" y=\"-53.8\" font-family=\"Times,serif\" font-size=\"14.00\">B1</text>\n",
       "</g>\n",
       "<!-- B&#45;&gt;B1 -->\n",
       "<g id=\"edge8\" class=\"edge\"><title>B&#45;&gt;B1</title>\n",
       "<path fill=\"none\" stroke=\"black\" d=\"M371.434,-94.6391C377.76,-86.9663 386.386,-77.9107 395.83,-72 400.425,-69.1241 405.66,-66.7945 410.884,-64.9221\"/>\n",
       "<polygon fill=\"black\" stroke=\"black\" points=\"412.233,-68.1682 420.747,-61.8618 410.159,-61.4826 412.233,-68.1682\"/>\n",
       "<text text-anchor=\"middle\" x=\"399.33\" y=\"-74.8\" font-family=\"Times,serif\" font-size=\"14.00\">1</text>\n",
       "</g>\n",
       "<!-- B&#45;&gt;IF -->\n",
       "<g id=\"edge11\" class=\"edge\"><title>B&#45;&gt;IF</title>\n",
       "<path fill=\"none\" stroke=\"black\" d=\"M343.368,-116.296C337.356,-118.954 330.356,-121.836 323.83,-124 295.524,-133.387 286.39,-135.054 257,-130 215.26,-122.822 170.122,-103.296 141.96,-89.5591\"/>\n",
       "<polygon fill=\"black\" stroke=\"black\" points=\"143.253,-86.2929 132.741,-84.9714 140.134,-92.5599 143.253,-86.2929\"/>\n",
       "<text text-anchor=\"middle\" x=\"235.5\" y=\"-129.8\" font-family=\"Times,serif\" font-size=\"14.00\">0</text>\n",
       "</g>\n",
       "<!-- B1&#45;&gt;B -->\n",
       "<g id=\"edge6\" class=\"edge\"><title>B1&#45;&gt;B</title>\n",
       "<path fill=\"none\" stroke=\"black\" d=\"M426.078,-71.7896C419.377,-77.8554 411.055,-84.7728 402.83,-90 397.637,-93.2998 391.776,-96.3312 386.116,-98.9577\"/>\n",
       "<polygon fill=\"black\" stroke=\"black\" points=\"384.694,-95.7593 376.934,-102.972 387.498,-102.173 384.694,-95.7593\"/>\n",
       "<text text-anchor=\"middle\" x=\"399.33\" y=\"-96.8\" font-family=\"Times,serif\" font-size=\"14.00\">1</text>\n",
       "</g>\n",
       "<!-- B1&#45;&gt;IF -->\n",
       "<g id=\"edge5\" class=\"edge\"><title>B1&#45;&gt;IF</title>\n",
       "<path fill=\"none\" stroke=\"black\" d=\"M428.471,-41.8438C414.457,-24.682 389.345,-0 360.83,-0 195,-0 195,-0 195,-0 166.324,-0 143.499,-25.6206 129.481,-46.9128\"/>\n",
       "<polygon fill=\"black\" stroke=\"black\" points=\"126.333,-45.3462 124.021,-55.6856 132.276,-49.045 126.333,-45.3462\"/>\n",
       "<text text-anchor=\"middle\" x=\"277.915\" y=\"-2.8\" font-family=\"Times,serif\" font-size=\"14.00\">0</text>\n",
       "</g>\n",
       "<!-- A&#45;&gt;A1 -->\n",
       "<g id=\"edge2\" class=\"edge\"><title>A&#45;&gt;A1</title>\n",
       "<path fill=\"none\" stroke=\"black\" d=\"M212.444,-82.3527C218.453,-85.0184 225.457,-87.8897 232,-90 236.785,-91.5433 241.932,-92.9321 246.974,-94.1493\"/>\n",
       "<polygon fill=\"black\" stroke=\"black\" points=\"246.502,-97.6302 257.025,-96.4007 248.032,-90.7995 246.502,-97.6302\"/>\n",
       "<text text-anchor=\"middle\" x=\"235.5\" y=\"-95.8\" font-family=\"Times,serif\" font-size=\"14.00\">1</text>\n",
       "</g>\n",
       "<!-- A&#45;&gt;B1 -->\n",
       "<g id=\"edge7\" class=\"edge\"><title>A&#45;&gt;B1</title>\n",
       "<path fill=\"none\" stroke=\"black\" d=\"M213.622,-70.5517C219.398,-69.1793 225.946,-67.8158 232,-67 295.213,-58.4817 370.098,-57.4267 410.621,-57.596\"/>\n",
       "<polygon fill=\"black\" stroke=\"black\" points=\"410.604,-61.0959 420.628,-57.6663 410.653,-54.0961 410.604,-61.0959\"/>\n",
       "<text text-anchor=\"middle\" x=\"320.33\" y=\"-62.8\" font-family=\"Times,serif\" font-size=\"14.00\">0</text>\n",
       "</g>\n",
       "<!-- IF&#45;&gt;A -->\n",
       "<g id=\"edge10\" class=\"edge\"><title>IF&#45;&gt;A</title>\n",
       "<path fill=\"none\" stroke=\"black\" d=\"M135.282,-75C145.266,-75 157.278,-75 167.903,-75\"/>\n",
       "<polygon fill=\"black\" stroke=\"black\" points=\"167.94,-78.5001 177.939,-75 167.939,-71.5001 167.94,-78.5001\"/>\n",
       "<text text-anchor=\"middle\" x=\"156.5\" y=\"-77.8\" font-family=\"Times,serif\" font-size=\"14.00\">0</text>\n",
       "</g>\n",
       "<!-- IF&#45;&gt;IF -->\n",
       "<g id=\"edge3\" class=\"edge\"><title>IF&#45;&gt;IF</title>\n",
       "<path fill=\"none\" stroke=\"black\" d=\"M105.683,-95.9908C104.78,-106.087 107.219,-115 113,-115 116.704,-115 119.036,-111.342 119.996,-106.059\"/>\n",
       "<polygon fill=\"black\" stroke=\"black\" points=\"123.496,-106.097 120.317,-95.9908 116.5,-105.874 123.496,-106.097\"/>\n",
       "<text text-anchor=\"middle\" x=\"113\" y=\"-117.8\" font-family=\"Times,serif\" font-size=\"14.00\">1</text>\n",
       "</g>\n",
       "</g>\n",
       "</svg>\n"
      ],
      "text/plain": [
       "<graphviz.dot.Digraph at 0x102245358>"
      ]
     },
     "execution_count": 39,
     "metadata": {},
     "output_type": "execute_result"
    }
   ],
   "source": [
    "dotObj_dfa(pruneUnreach(D34bl), \"D34bl\")"
   ]
  },
  {
   "cell_type": "markdown",
   "metadata": {
    "run_control": {
     "frozen": false,
     "read_only": false
    }
   },
   "source": [
    "## A fully worked-out example\n",
    "\n",
    "<font size=\"3\"> \n",
    "\n",
    "This is the initial display of a matrix (only the lower half shown, as the upper half is symmetric). The matrix shows \".\" which are points at which state pairs \"collide.\" The dots in this figure allow for these pairs to collide (we show pairs only one way, i.e. (P,Q) and not the other way i.e. (Q,P) also).\n",
    "\n",
    "</font>"
   ]
  },
  {
   "cell_type": "markdown",
   "metadata": {
    "run_control": {
     "frozen": false,
     "read_only": false
    }
   },
   "source": [
    "<font size=\"4\"> \n",
    "\n",
    "\n",
    "```\n",
    "\n",
    "A   .\n",
    "\n",
    "A1  .   .\n",
    "\n",
    "B   .   .   .\n",
    "\n",
    "B1  .   .   .   .\n",
    "\n",
    "    IF  A   A1  B\n",
    "    \n",
    "The above is a convenient arrangement to talk about these pairs:\n",
    "\n",
    "\n",
    "(A, IF),\n",
    "\n",
    "(A1, IF), (A1, A)\n",
    "\n",
    "(B, IF),  (B, A),  (B, A1)\n",
    "\n",
    "(B1, IF), (B1, A), (B1, A1), (B1, B)\n",
    "\n",
    "Now, here is how the computation proceeds for this example:\n",
    "===========================================================\n",
    "\n",
    "Frame-0              Frame-1                Frame-2                \n",
    " \n",
    "A   -1                A   0                  A   0                 \n",
    "\n",
    "A1  -1   -1           A1  0   -1             A1  0   -1            \n",
    " \n",
    "B   -1   -1  -1       B   0   -1   -1        B   0   1   1         \n",
    "\n",
    "B1  -1   -1  -1  -1   B1  0   -1   -1  -1    B1  0   1   1   -1    \n",
    "\n",
    "    IF   A   A1  B        IF  A    A1  B         IF  A   A1  B         \n",
    "    \n",
    "    \n",
    "Frame-3 = Frame-2   \n",
    "\n",
    "A   0 \n",
    "\n",
    "A1  0   -1\n",
    "\n",
    "B   0   1   1\n",
    "\n",
    "B1  0   1   1   -1\n",
    "\n",
    "    IF  A   A1  B   \n",
    "``` \n",
    "\n",
    "<br>\n",
    "<br>\n",
    "\n",
    "Let's see another example as well. We will explain the second \n",
    "example (we leave the above example wrt **D34bl** as something you can explain.\n",
    "\n",
    "</font>"
   ]
  },
  {
   "cell_type": "code",
   "execution_count": 40,
   "metadata": {
    "run_control": {
     "frozen": false,
     "read_only": false
    }
   },
   "outputs": [],
   "source": [
    "### DFA minimization (another example)"
   ]
  },
  {
   "cell_type": "code",
   "execution_count": 41,
   "metadata": {
    "code_folding": [],
    "run_control": {
     "frozen": false,
     "read_only": false
    }
   },
   "outputs": [
    {
     "data": {
      "image/svg+xml": [
       "<?xml version=\"1.0\" encoding=\"UTF-8\" standalone=\"no\"?>\n",
       "<!DOCTYPE svg PUBLIC \"-//W3C//DTD SVG 1.1//EN\"\n",
       " \"http://www.w3.org/Graphics/SVG/1.1/DTD/svg11.dtd\">\n",
       "<!-- Generated by graphviz version 2.38.0 (20140413.2041)\n",
       " -->\n",
       "<!-- Title: %3 Pages: 1 -->\n",
       "<svg width=\"403pt\" height=\"134pt\"\n",
       " viewBox=\"0.00 0.00 403.07 134.11\" xmlns=\"http://www.w3.org/2000/svg\" xmlns:xlink=\"http://www.w3.org/1999/xlink\">\n",
       "<g id=\"graph0\" class=\"graph\" transform=\"scale(1 1) rotate(0) translate(4 130.108)\">\n",
       "<title>%3</title>\n",
       "<polygon fill=\"white\" stroke=\"none\" points=\"-4,4 -4,-130.108 399.075,-130.108 399.075,4 -4,4\"/>\n",
       "<!-- EMPTY -->\n",
       "<g id=\"node1\" class=\"node\"><title>EMPTY</title>\n",
       "</g>\n",
       "<!-- S1 -->\n",
       "<g id=\"node2\" class=\"node\"><title>S1</title>\n",
       "<ellipse fill=\"none\" stroke=\"black\" cx=\"110.447\" cy=\"-59.661\" rx=\"19.3939\" ry=\"19.3939\"/>\n",
       "<text text-anchor=\"middle\" x=\"110.447\" y=\"-55.461\" font-family=\"Times,serif\" font-size=\"14.00\">S1</text>\n",
       "</g>\n",
       "<!-- EMPTY&#45;&gt;S1 -->\n",
       "<g id=\"edge1\" class=\"edge\"><title>EMPTY&#45;&gt;S1</title>\n",
       "<path fill=\"none\" stroke=\"black\" d=\"M54.2186,-59.661C62.6822,-59.661 72.1072,-59.661 80.7407,-59.661\"/>\n",
       "<polygon fill=\"black\" stroke=\"black\" points=\"80.7613,-63.1611 90.7613,-59.661 80.7613,-56.1611 80.7613,-63.1611\"/>\n",
       "</g>\n",
       "<!-- S3 -->\n",
       "<g id=\"node5\" class=\"node\"><title>S3</title>\n",
       "<ellipse fill=\"none\" stroke=\"black\" cx=\"196.341\" cy=\"-88.661\" rx=\"19.4029\" ry=\"19.4029\"/>\n",
       "<ellipse fill=\"none\" stroke=\"black\" cx=\"196.341\" cy=\"-88.661\" rx=\"23.3939\" ry=\"23.3939\"/>\n",
       "<text text-anchor=\"middle\" x=\"196.341\" y=\"-84.461\" font-family=\"Times,serif\" font-size=\"14.00\">S3</text>\n",
       "</g>\n",
       "<!-- S1&#45;&gt;S3 -->\n",
       "<g id=\"edge2\" class=\"edge\"><title>S1&#45;&gt;S3</title>\n",
       "<path fill=\"none\" stroke=\"black\" d=\"M129.239,-65.8111C139.459,-69.3442 152.583,-73.8806 164.439,-77.9789\"/>\n",
       "<polygon fill=\"black\" stroke=\"black\" points=\"163.413,-81.3276 174.008,-81.2868 165.7,-74.7117 163.413,-81.3276\"/>\n",
       "<text text-anchor=\"middle\" x=\"151.394\" y=\"-77.461\" font-family=\"Times,serif\" font-size=\"14.00\">b</text>\n",
       "</g>\n",
       "<!-- S2 -->\n",
       "<g id=\"node7\" class=\"node\"><title>S2</title>\n",
       "<ellipse fill=\"none\" stroke=\"black\" cx=\"196.341\" cy=\"-23.661\" rx=\"19.4029\" ry=\"19.4029\"/>\n",
       "<ellipse fill=\"none\" stroke=\"black\" cx=\"196.341\" cy=\"-23.661\" rx=\"23.3939\" ry=\"23.3939\"/>\n",
       "<text text-anchor=\"middle\" x=\"196.341\" y=\"-19.461\" font-family=\"Times,serif\" font-size=\"14.00\">S2</text>\n",
       "</g>\n",
       "<!-- S1&#45;&gt;S2 -->\n",
       "<g id=\"edge3\" class=\"edge\"><title>S1&#45;&gt;S2</title>\n",
       "<path fill=\"none\" stroke=\"black\" d=\"M128.83,-52.2018C139.282,-47.7166 152.876,-41.8832 165.048,-36.66\"/>\n",
       "<polygon fill=\"black\" stroke=\"black\" points=\"166.608,-39.7992 174.417,-32.6394 163.848,-33.3665 166.608,-39.7992\"/>\n",
       "<text text-anchor=\"middle\" x=\"151.394\" y=\"-47.461\" font-family=\"Times,serif\" font-size=\"14.00\">a</text>\n",
       "</g>\n",
       "<!-- S5 -->\n",
       "<g id=\"node3\" class=\"node\"><title>S5</title>\n",
       "<ellipse fill=\"none\" stroke=\"black\" cx=\"282.234\" cy=\"-84.661\" rx=\"19.3939\" ry=\"19.3939\"/>\n",
       "<text text-anchor=\"middle\" x=\"282.234\" y=\"-80.461\" font-family=\"Times,serif\" font-size=\"14.00\">S5</text>\n",
       "</g>\n",
       "<!-- S6 -->\n",
       "<g id=\"node6\" class=\"node\"><title>S6</title>\n",
       "<ellipse fill=\"none\" stroke=\"black\" cx=\"371.628\" cy=\"-56.661\" rx=\"19.4029\" ry=\"19.4029\"/>\n",
       "<ellipse fill=\"none\" stroke=\"black\" cx=\"371.628\" cy=\"-56.661\" rx=\"23.3939\" ry=\"23.3939\"/>\n",
       "<text text-anchor=\"middle\" x=\"371.628\" y=\"-52.461\" font-family=\"Times,serif\" font-size=\"14.00\">S6</text>\n",
       "</g>\n",
       "<!-- S5&#45;&gt;S6 -->\n",
       "<g id=\"edge8\" class=\"edge\"><title>S5&#45;&gt;S6</title>\n",
       "<path fill=\"none\" stroke=\"black\" d=\"M300.92,-78.9948C311.861,-75.4894 326.222,-70.8882 339.065,-66.7735\"/>\n",
       "<polygon fill=\"black\" stroke=\"black\" points=\"340.489,-69.9925 348.944,-63.6082 338.353,-63.3263 340.489,-69.9925\"/>\n",
       "<text text-anchor=\"middle\" x=\"324.931\" y=\"-89.461\" font-family=\"Times,serif\" font-size=\"14.00\">b </text>\n",
       "<text text-anchor=\"middle\" x=\"324.931\" y=\"-75.461\" font-family=\"Times,serif\" font-size=\"14.00\"> a</text>\n",
       "</g>\n",
       "<!-- S4 -->\n",
       "<g id=\"node4\" class=\"node\"><title>S4</title>\n",
       "<ellipse fill=\"none\" stroke=\"black\" cx=\"282.234\" cy=\"-27.661\" rx=\"19.3939\" ry=\"19.3939\"/>\n",
       "<text text-anchor=\"middle\" x=\"282.234\" y=\"-23.461\" font-family=\"Times,serif\" font-size=\"14.00\">S4</text>\n",
       "</g>\n",
       "<!-- S4&#45;&gt;S6 -->\n",
       "<g id=\"edge9\" class=\"edge\"><title>S4&#45;&gt;S6</title>\n",
       "<path fill=\"none\" stroke=\"black\" d=\"M301.741,-31.1548C310.475,-33.0168 320.977,-35.5655 330.181,-38.661 333.742,-39.8585 337.417,-41.2548 341.033,-42.7304\"/>\n",
       "<polygon fill=\"black\" stroke=\"black\" points=\"339.781,-46.0015 350.35,-46.7394 342.548,-39.5716 339.781,-46.0015\"/>\n",
       "<text text-anchor=\"middle\" x=\"324.931\" y=\"-55.461\" font-family=\"Times,serif\" font-size=\"14.00\">b </text>\n",
       "<text text-anchor=\"middle\" x=\"324.931\" y=\"-41.461\" font-family=\"Times,serif\" font-size=\"14.00\"> a</text>\n",
       "</g>\n",
       "<!-- S3&#45;&gt;S5 -->\n",
       "<g id=\"edge4\" class=\"edge\"><title>S3&#45;&gt;S5</title>\n",
       "<path fill=\"none\" stroke=\"black\" d=\"M220.046,-89.962C227.891,-90.1933 236.732,-90.211 244.787,-89.661 247.352,-89.4859 250.011,-89.2422 252.672,-88.9559\"/>\n",
       "<polygon fill=\"black\" stroke=\"black\" points=\"253.255,-92.4103 262.743,-87.6951 252.386,-85.4645 253.255,-92.4103\"/>\n",
       "<text text-anchor=\"middle\" x=\"241.287\" y=\"-92.461\" font-family=\"Times,serif\" font-size=\"14.00\">a</text>\n",
       "</g>\n",
       "<!-- S3&#45;&gt;S4 -->\n",
       "<g id=\"edge6\" class=\"edge\"><title>S3&#45;&gt;S4</title>\n",
       "<path fill=\"none\" stroke=\"black\" d=\"M215.959,-75.1231C228.314,-66.1397 244.628,-54.2778 257.856,-44.6599\"/>\n",
       "<polygon fill=\"black\" stroke=\"black\" points=\"260,-47.4282 266.03,-38.7165 255.883,-41.7666 260,-47.4282\"/>\n",
       "<text text-anchor=\"middle\" x=\"241.287\" y=\"-61.461\" font-family=\"Times,serif\" font-size=\"14.00\">b</text>\n",
       "</g>\n",
       "<!-- S6&#45;&gt;S6 -->\n",
       "<g id=\"edge10\" class=\"edge\"><title>S6&#45;&gt;S6</title>\n",
       "<path fill=\"none\" stroke=\"black\" d=\"M363.174,-78.8344C362.251,-89.1206 365.069,-98.1078 371.628,-98.1078 375.83,-98.1078 378.496,-94.4195 379.628,-89.0641\"/>\n",
       "<polygon fill=\"black\" stroke=\"black\" points=\"383.135,-88.9801 380.083,-78.8344 376.142,-88.669 383.135,-88.9801\"/>\n",
       "<text text-anchor=\"middle\" x=\"371.628\" y=\"-114.908\" font-family=\"Times,serif\" font-size=\"14.00\">b </text>\n",
       "<text text-anchor=\"middle\" x=\"371.628\" y=\"-100.908\" font-family=\"Times,serif\" font-size=\"14.00\"> a</text>\n",
       "</g>\n",
       "<!-- S2&#45;&gt;S5 -->\n",
       "<g id=\"edge7\" class=\"edge\"><title>S2&#45;&gt;S5</title>\n",
       "<path fill=\"none\" stroke=\"black\" d=\"M219.875,-26.7068C228.218,-28.6085 237.428,-31.6867 244.787,-36.661 249.799,-40.0486 257.719,-50.1679 264.897,-60.247\"/>\n",
       "<polygon fill=\"black\" stroke=\"black\" points=\"262.091,-62.342 270.672,-68.5554 267.838,-58.3466 262.091,-62.342\"/>\n",
       "<text text-anchor=\"middle\" x=\"241.287\" y=\"-39.461\" font-family=\"Times,serif\" font-size=\"14.00\">b</text>\n",
       "</g>\n",
       "<!-- S2&#45;&gt;S4 -->\n",
       "<g id=\"edge5\" class=\"edge\"><title>S2&#45;&gt;S4</title>\n",
       "<path fill=\"none\" stroke=\"black\" d=\"M214.499,-8.81844C223.337,-2.96539 234.411,1.66098 244.787,-1.66098 249.84,-3.27835 254.789,-5.88132 259.33,-8.8294\"/>\n",
       "<polygon fill=\"black\" stroke=\"black\" points=\"257.335,-11.7062 267.482,-14.7555 261.451,-6.04428 257.335,-11.7062\"/>\n",
       "<text text-anchor=\"middle\" x=\"241.287\" y=\"-4.46098\" font-family=\"Times,serif\" font-size=\"14.00\">a</text>\n",
       "</g>\n",
       "</g>\n",
       "</svg>\n"
      ],
      "text/plain": [
       "<graphviz.dot.Digraph at 0x102249160>"
      ]
     },
     "execution_count": 41,
     "metadata": {},
     "output_type": "execute_result"
    }
   ],
   "source": [
    "Bloat1 = {'Q': {'S1', 'S3', 'S2', 'S5', 'S4', 'S6' },\n",
    "          'Sigma': {'b', 'a'},\n",
    "          'Delta': { ('S1','b') : 'S3',\n",
    "                     ('S1','a') : 'S2',\n",
    "                     ('S3','a') : 'S5',\n",
    "                     ('S2','a') : 'S4',\n",
    "                     ('S3','b') : 'S4',\n",
    "                     ('S2','b') : 'S5',\n",
    "                     ('S5','b') : 'S6',\n",
    "                     ('S5','a') : 'S6',\n",
    "                     ('S4','b') : 'S6',\n",
    "                     ('S4','a') : 'S6',\n",
    "                     ('S6','b') : 'S6',\n",
    "                     ('S6','a') : 'S6' },\n",
    "          'q0': 'S1', \n",
    "          'F': {'S2','S3','S6'}   \n",
    "        }\n",
    "\n",
    "\n",
    "Bloat1O = dotObj_dfa(Bloat1, \"Bloat1\")\n",
    "Bloat1O # Display it!"
   ]
  },
  {
   "cell_type": "markdown",
   "metadata": {
    "run_control": {
     "frozen": false,
     "read_only": false
    }
   },
   "source": [
    "\n",
    "Now, here is how the computation proceeds for this example:\n",
    "-------------------------------------------------------- \n",
    " \n",
    " <br>\n",
    " \n",
    "<font size=\"3\"> \n",
    "\n",
    "\n",
    "```\n",
    " \n",
    "Frame-0                  Frame-1                   Frame-2                    \n",
    "                                                                                                     \n",
    "S2  -1                   S2   0                    S2   0                     \n",
    "\n",
    "S3  -1  -1               S3   0  -1                S3   0  -1                 \n",
    "\n",
    "S4  -1  -1  -1           S4  -1   0   0            S4   2   0   0             \n",
    "\n",
    "S5  -1  -1  -1  -1       S5  -1   0   0  -1        S5   2   0   0  -1         \n",
    "\n",
    "S6  -1  -1  -1  -1  -1   S6   0  -1  -1   0   0    S6   0   1   1   0   0     \n",
    "\n",
    "    S1  S2  S3  S4  S5       S1  S2  S3  S4  S5        S1  S2  S3  S4  S5        \n",
    "\n",
    "Initial                  0-distinguishable         1-distinguishable                         \n",
    "     \n",
    "     \n",
    "Frame-3                 Frame-4     \n",
    "                        =\n",
    "                        Frame-3\n",
    "\n",
    "S2   0\n",
    "\n",
    "S3   0  -1\n",
    "\n",
    "S4   2   0   0\n",
    "\n",
    "S5   2   0   0  -1\n",
    "\n",
    "S6   0   1   1   0   0\n",
    "\n",
    "    S1  S2  S3  S4  S5\n",
    "    \n",
    "2-distinguishable \n",
    "     \n",
    "```\n",
    "</font>"
   ]
  },
  {
   "cell_type": "markdown",
   "metadata": {
    "run_control": {
     "frozen": false,
     "read_only": false
    }
   },
   "source": [
    "Here is the algorithm, going frame by frame.\n",
    "\n",
    "- Initial Frame: \n",
    "\n",
    "     The initial frame is drawn to clash all _combinations_ of states taken two at a time.\n",
    "     Since we have 6 states, we have $6\\choose 2$ = $15$ entries. We put a -1 against each\n",
    "     such pair to denote that they have not been found distinguishable yet.\n",
    "\n",
    "- Frame *0-distinguishable*: We now put a 0 where a pair of states is 0-distinguishable. This means the states are distinguisable after consuming $\\varepsilon$. This of course means that the states are themselves distinguishable. This is only possible if one is a final state and the other is not (in that case, one state, after consuming $\\varepsilon$ accepts_dfa, and another state after consuming $\\varepsilon$ does not accept.\n",
    "\n",
    "  - So for instance, notice that (S3,S1) and (S4,S2) are 0-distinguishable, meaning that one is a final and the other is a non-final state.\n",
    "\n",
    "- Frame *1-distinguishable*: We now put a 1 where a pair of states is 1-distinguishable. This means the states are distinguisable after consuming a string of length $1$ (a single symbol). This is only possible if one state transitions to a final state and the other transitions to a non-final state after consuming a member of $\\Sigma$. \n",
    "\n",
    "  State pairs (S6,S2) and (S6,S3) are of this kind. While both S6 and S2 are final states (hence _0-indistinguishable_), after consuming an 'a' (or a 'b') they respectively go to a final/non-final state.\n",
    " This means that\n",
    "\n",
    "  - after processing **the same symbol** one state -- let's say pre_p -- finds itself landing in a state p and another state  -- let's say pre_q -- finds itself landing in a state q such that (p,q) is 0-distinguishable.\n",
    "  \n",
    "  - When this happens, states pre-p and pre-q are **1-distinguishable**.\n",
    "\n",
    "- Frame *2-distinguishable*: We now put a 2 where a pair of states is 2-distinguishable. This means the states are distinguisable after consuming a string of length $2$ (a string of length $2$). This is only possible if one state transitions to a state (say p) and the other transitions to state (say q) after consuming a member of $\\Sigma$ such that (p,q) is **1-distinguishable**. State pairs (S5,S1) and (S4,S1) are 2-distinguishable because\n",
    "\n",
    "  - after processing **the same symbol** one state -- let's say pre_p -- finds itself landing in a state p and another state  -- let's say pre_q -- finds itself landing in a state q such that (p,q) is 0-distinguishable.\n",
    "  \n",
    "  - When this happens, states pre-p and pre-q are **1-distinguishable**.\n",
    "  \n",
    "  - One example is this:\n",
    "  \n",
    "    - S5 and S1 are 2-distinguishable.\n",
    "    \n",
    "    - This is because after seeing an 'aa', S1 lands in a non-final state while S5 lands in a final state\n",
    "    \n",
    "    - Observe that \"aa\" = \"a\" + \"a\" . Thus, after eating the first \"a\", S1 lands in S2 while S5 lands in S6, and (S2,S6) have already been deemed 1-distinguishable.\n",
    "    \n",
    "    - Thus, when we mark (S5,S1) as 2-distinguishable, we are sending the matrix entry at (S5,S2) from \n",
    "      -1 to 2\n",
    " \n",
    "\n",
    "\n",
    "  - Now, in search of 3-distinguishability, we catch hold of all pairs in the matrix and see if we can send another -1 entry to \"3\". This appears not to happen. \n",
    "  \n",
    "     - Thus, if (S2,S3) is pushed via any sequence of symbols (any string) of any length, it\n",
    "       always stays in the same type of state. Thus, after seeing 'ababba', S2 is in S6, while S3 \n",
    "        is also in S6.\n",
    "\n",
    "\n",
    " - Thus, given no changes in the matrix, we stop."
   ]
  },
  {
   "cell_type": "markdown",
   "metadata": {
    "run_control": {
     "frozen": false,
     "read_only": false
    }
   },
   "source": [
    "## Code for DFA minimization\n",
    "\n",
    "We now provide the code for DFA minimization, referring to the above narrative to keep us focused as to which part of the algorithm we are implementing."
   ]
  },
  {
   "cell_type": "markdown",
   "metadata": {
    "run_control": {
     "frozen": false,
     "read_only": false
    }
   },
   "source": [
    "### The heart of the algorithm is function fixptDist. This seeks the fixpoint (or \"fixed-point\") of the Dist (or Distinguishability) relation. Neat eh?\n",
    "\n",
    "A fixpoint of a function f is a value x such that f(x) = x. In our case, the functiion in question is one that take the entire matrix (frame) and tries to spit out the next matrix (frame). When we get a matrix m such that f(m) = m, the matrix has stabilized.\n",
    "\n",
    "In our case, we obtain a fixpoint of the function with respect to input value \"ht\" (hash-table) representing our matrix. We also pass along the DFA in question (\"D\") that is a read-only argument (to consult its transition function, etc).\n",
    "\n",
    "See how the code speaks for itself:\n",
    "\n",
    "* We set \"changed = True\" outside a while loop, and enter this loop \"while changed\".\n",
    "\n",
    "* We set changed = False, hoping to get out\n",
    "\n",
    "  - Any change-causing activity (n-distinguishability for some n) will set changed back to True\n",
    "  \n",
    "  - If not, we will \"get out of the jail\"\n",
    "  \n",
    "  - Termination is guaranteed. Why?\n",
    "    \n",
    "      * There are only a finite number of states\n",
    "      \n",
    "      * If we pump a long-enough string from a pair of states,\n",
    "      \n",
    "          - Clearly, it can try to meander, visiting fresh state pairs that are m-distinguishable for \n",
    "             an m <= n (those other state pairs and their distinguishability distance\n",
    "             were generated in an earlier pass or the current pass)\n",
    "             \n",
    "      * In short, for any pair of states (p,q), there is a maximal (loop-free) string s such that \n",
    "        $\\hat{\\delta}(p,s) \\in F$ while $\\hat{\\delta}(q,s)\\in (Q\\setminus F)$. This is the highest the \n",
    "        distinguishability number can get to.\n",
    "             \n",
    "           - If $s$ has a loop, there is a shorter string that establishes the distinguishability \n",
    "              number.\n",
    "         \n",
    "         "
   ]
  },
  {
   "cell_type": "markdown",
   "metadata": {
    "run_control": {
     "frozen": false,
     "read_only": false
    }
   },
   "source": [
    "We now go through all aspects of the code:\n",
    "\n",
    "* We first iterate across \"kv\" (key,value) pairs in ht.items(), i.e. we iterate through all \n",
    "  the matrix entries (pairs) which are recorded in \"ht\" (the hash table). The value recorded is the\n",
    "  distinguishability number.\n",
    "  \n",
    "* We obtain s0 and s1, the states that this hash-table entry is modeling.\n",
    "\n",
    "* We iterate across all $c\\in\\Sigma$\n",
    "\n",
    "* We obtain the next state after sending s0 and s1 via $c$\n",
    "\n",
    "* If we land in the same next state (ns0 == ns1), we continue (try to \"get out of the jail\" by not\n",
    "  resetting changed)\n",
    "  \n",
    "* If this is a visited pair (i.e. (ns0,ns1) in ht), then\n",
    "\n",
    "  - If one is \"-1\" while the other is >= 0  (meaning they are distinguishable states)\n",
    "     \n",
    "       - then we set changed = True, and continue, breaking this iteration of the \"for c\"\n",
    "       \n",
    "       - else we examine it as pair (ns1, ns0). This is because \"ht\" does not store both \n",
    "          (ns0,ns1) and (ns1,ns0). But we have to check both ways\n",
    "          \n",
    "       - we apply the same logic\n",
    "       \n",
    "* If we can find distinguishability, we increase the ht number\n",
    "\n",
    "* else we will get out of the loop!"
   ]
  },
  {
   "cell_type": "code",
   "execution_count": 42,
   "metadata": {
    "code_folding": [],
    "run_control": {
     "frozen": false,
     "read_only": false
    }
   },
   "outputs": [],
   "source": [
    "def fixptDist(D, ht):\n",
    "    \"\"\"In : D (consistent DFA)\n",
    "            ht (hash-table of distinguishability pair distances)\n",
    "       Out: ht that has attained a fixpoint in distinguishability.\n",
    "       Helper (but main workhorse) for min_dfa.\n",
    "       Given an initial hash-table ht and a DFA D to be minimized,\n",
    "       determine the min. distinguishability distances, going frame \n",
    "       by frame, as illustrated in the DFA minimization algorithm. \n",
    "       Return fixpoint ht. Fixpoint is when ht ceases to change.\n",
    "    \"\"\"\n",
    "    changed = True\n",
    "    while changed:\n",
    "        changed = False\n",
    "        for kv in ht.items():\n",
    "            s0 = kv[0][0]\n",
    "            s1 = kv[0][1]\n",
    "            for c in D[\"Sigma\"]:\n",
    "                ns0 = D[\"Delta\"][(s0,c)]\n",
    "                ns1 = D[\"Delta\"][(s1,c)]\n",
    "                #\n",
    "                # Distinguishable state pairs carry \n",
    "                # \"distinguishability distance\" in the ht\n",
    "                if ns0 == ns1:\n",
    "                    continue\n",
    "                if (ns0, ns1) in ht:\n",
    "                    # s0,s1 are distinguishable\n",
    "                    if ht[(s0,s1)] == -1 and ht[(ns0, ns1)] >= 0: \n",
    "                        # acquire one more than the\n",
    "                        # dist. number of (ns0,ns1)\n",
    "                        ht[(s0,s1)] = ht[(ns0, ns1)] + 1          \n",
    "                        changed = True                            \n",
    "                        break\n",
    "                else:\n",
    "                    # ht stores only (ns0,ns1); \n",
    "                    # so check the other way\n",
    "                    if (ns1, ns0) in ht:                              \n",
    "                        if ht[(s0,s1)] == -1 and ht[(ns1, ns0)] >= 0:  \n",
    "                            ht[(s0,s1)] = ht[(ns1, ns0)] + 1           \n",
    "                            changed = True                             \n",
    "                            break                                      \n",
    "                    else:                                              \n",
    "                        print(\"ht doesn't cover all reqd state combos.\")\n",
    "    return ht"
   ]
  },
  {
   "cell_type": "code",
   "execution_count": 43,
   "metadata": {
    "run_control": {
     "frozen": false,
     "read_only": false
    }
   },
   "outputs": [],
   "source": [
    "def min_dfa(D, state_name_mode='succinct'):  # Default state mode\n",
    "    \"\"\"In : D (consistent DFA to be minimized)\n",
    "       Out: Minimized version of D.\n",
    "       The top-level callable DFA minimizer.\n",
    "       Given a DFA D, go through the state minimization algorithm.\n",
    "       state_name_mode is 'verbose' or 'succinct', producing two \n",
    "       variants, as you can guess.\n",
    "       If the state_name_mode is verbose, we will make state names\n",
    "       by stringing together the state names in the equivalence\n",
    "       classes. Else we keep the name of the representative of \n",
    "       eqch equivalence class.\n",
    "    \"\"\"\n",
    "    if (len(D[\"Q\"]) == 1): # Already minimal\n",
    "        return D\n",
    "    else:\n",
    "        # Build a dict of all state combinations of DFA.\n",
    "        # Function state_combos also imparts a -1 for each state pair,\n",
    "        # initializing the separation distance at -1.  \n",
    "        ht = dict(state_combos(list(D[\"Q\"])))\n",
    "    \n",
    "        # Mark final and non-final states to be 0-distinguishable.\n",
    "        # This is achieved by putting a 0 against those state pairs.\n",
    "        sepFinNonFin(D, ht)\n",
    "    \n",
    "        # Main fixpoint computation: Assigning distinguishability dist. \n",
    "        #==============================================================\n",
    "        ht = fixptDist(D, ht)\n",
    "    \n",
    "        # Pick out equivalent state-pairs, i.e. those that cannot be \n",
    "        # distinguished. These are still with a \"-1\" in ht.\n",
    "        ht_1 = [ stpair for (stpair, dist) in ht.items() if dist == -1 ]\n",
    "    \n",
    "        # Now form equivalence classes\n",
    "        # what's returned is \n",
    "        # [(rep_1, [all_eql_states_1]), (rep_2, [all_eql_states_2]),...]\n",
    "        # which includes all equivalence classes of size 2 or more.\n",
    "        rep_eqc = bash_eql_classes(ht_1)\n",
    "\n",
    "        # Now we have to deal with singleton equivalence classes. \n",
    "        # These sit unmerged, OUTSIDE OF ALL (x,y) in ht_1\n",
    "        # i.e. all the entries in ht_1 are PARTNERED STATE PAIRS.  \n",
    "    \n",
    "        # If we now take D[\"Q\"] and subtract from it all those x and y\n",
    "        # which are present in some pair in ht_1, we obtain completely\n",
    "        # non-mergable states. These are states in their own eql. classes.\n",
    "    \n",
    "        # 1. Find all partnered states from ht_1\n",
    "        Partnered_states = list({x for (x,y) in ht_1} |\n",
    "                                {y for (x,y) in ht_1})\n",
    "    \n",
    "        # 2. Now who is left un-partnered?\n",
    "        List_of_self_only_eqlt_states = listminus(D[\"Q\"], Partnered_states)                     \n",
    "    \n",
    "        # 3. For these singletons, i.e. \"self-only equivalent states\", \n",
    "        # they are self-representative. Form pairs that indicate this fact.\n",
    "        rep_eqc_1 = [(x, [x]) for x in List_of_self_only_eqlt_states]\n",
    "    \n",
    "        # 4. OK now, we can combine the set of pairs where each pair is \n",
    "        # (representative, [the list of equivalent states])\n",
    "        # So finally we get the list of equivalence classes with \n",
    "        # representatives  which is of this form:\n",
    "        # [(a0,[a0, a1, a2, a3, a4]), (b0,[b0, b1]), (c0,[c0]), ...] \n",
    "        final_rep_eqc = rep_eqc + rep_eqc_1\n",
    "    \n",
    "        # We are now ready to build a DFA out of final_rep_eqc. \n",
    "        # =====================================================\n",
    "    \n",
    "        # 1. First, form the set of minimized states, which are \n",
    "        # state representatives.\n",
    "        minQ = {x for (x,y) in final_rep_eqc}\n",
    "    \n",
    "        # 2. The Alpbahet remains the same.\n",
    "        minSigma = D[\"Sigma\"]\n",
    "    \n",
    "        # 3. The starting state is the representative of D[\"q0\"]\n",
    "        minq0 = q0_of(D[\"q0\"], final_rep_eqc)\n",
    "    \n",
    "        # 4. The final states are the representatives of the original\n",
    "        #    final states. This is computed by helper F_of.\n",
    "        minF = F_of(D[\"F\"], final_rep_eqc)\n",
    "    \n",
    "        # 5. The transition relation of the minimized DFA is obtained\n",
    "        #    by the helper Delta_of\n",
    "        minDelta = Delta_of(D[\"Delta\"], final_rep_eqc)\n",
    "    \n",
    "        # 6. We now need to rename the states if the user wants verbose \n",
    "        #    names (default is succinct). Verbose names are the name of \n",
    "        #    states in each equivalence class strung together sep by \"_\".\n",
    "        if state_name_mode == 'verbose':\n",
    "            # First build a state-renaming hash-table involving \n",
    "            # mk_state_eqc_name\n",
    "            state_rename_ht = { x : mk_state_eqc_name(y) \n",
    "                                for (x,y) in final_rep_eqc }\n",
    "        \n",
    "            minQ            = { state_rename_ht[x] for x in minQ }\n",
    "            minq0           = state_rename_ht[minq0]\n",
    "            minF            = { state_rename_ht[f] for f in minF }\n",
    "            minDelta = { (state_rename_ht[x], y) : state_rename_ht[z] \n",
    "                         for ((x,y),z) in minDelta.items() }\n",
    "        #\n",
    "        # Return the finished (minimized) DFA!\n",
    "        return mk_dfa(minQ, minSigma, minDelta, minq0, minF)"
   ]
  },
  {
   "cell_type": "code",
   "execution_count": 44,
   "metadata": {
    "run_control": {
     "frozen": false,
     "read_only": false
    }
   },
   "outputs": [],
   "source": [
    "def pairFR(L):\n",
    "    \"\"\"In : L (list of states)\n",
    "       Out: List of pairs with L[0] paired with each state in L[1:],\n",
    "            with the distinguishability distance initialized to -1.\n",
    "       Helper for generating state_combos.\n",
    "    \"\"\"\n",
    "    return list(map(lambda x: ((L[0], x), -1), L[1:]))"
   ]
  },
  {
   "cell_type": "code",
   "execution_count": 45,
   "metadata": {
    "run_control": {
     "frozen": false,
     "read_only": false
    }
   },
   "outputs": [],
   "source": [
    "def state_combos(L):\n",
    "    \"\"\"In : L (list of states)\n",
    "       Out: List of combinations of L's states (rep. as pairs),\n",
    "            with distinguishability distances marked as -1. \n",
    "       Helper for min_dfa.\n",
    "       Given a list of DFA states L (assume length >= 2),\n",
    "       Form state combinations, paired up as (L[i], L[i+1]).\n",
    "       This forms the 'ht' that is acted upon by fixptDist.\n",
    "    \"\"\"\n",
    "    if len(L) <= 2:\n",
    "        return([((L[0], L[1]), -1)])\n",
    "    else:\n",
    "        return (pairFR(L)) + (state_combos(L[1:]))"
   ]
  },
  {
   "cell_type": "code",
   "execution_count": 46,
   "metadata": {
    "run_control": {
     "frozen": false,
     "read_only": false
    }
   },
   "outputs": [],
   "source": [
    "def sepFinNonFin(D, ht):\n",
    "    \"\"\"In : D (consistent DFA)\n",
    "            ht (hash table of distinguishability distances)\n",
    "       Out: ht with (nonfinal,final) pairs in ht\n",
    "            marked with a distinguishability distance of 0.\n",
    "       Helper for min_dfa.\n",
    "       Given a hash-table of separation distances and a DFA D,\n",
    "       mark each state pair (final,non-final) with value 0\n",
    "       indicating their 0-distinguishability.\n",
    "    \"\"\"\n",
    "    # Form a separation predicate \n",
    "    sepPred = lambda x,y: (x in D[\"F\"] and y in (D[\"Q\"] - D[\"F\"]) or \n",
    "                           y in D[\"F\"] and x in (D[\"Q\"] - D[\"F\"]))\n",
    "                         \n",
    "    # Now separate all states where sepPred holds\n",
    "    for kv in ht.items():\n",
    "        if sepPred(kv[0][0], kv[0][1]):\n",
    "            # Mark that this pair is 0-distinguishable\n",
    "            ht[kv[0]] = 0"
   ]
  },
  {
   "cell_type": "code",
   "execution_count": 47,
   "metadata": {
    "run_control": {
     "frozen": false,
     "read_only": false
    }
   },
   "outputs": [],
   "source": [
    "def bash_eql_classes(eql_reln):\n",
    "    \"\"\"In : eql_reln (equivalence relation : list of pairs of states).\n",
    "       Out: List of equivalence classes with representatives.\n",
    "            I.e. a structure of the form\n",
    "            [ (state0, [state0, state1, state2,]), ... ]\n",
    "            where state0 is a representative for the three (for example)\n",
    "            equivalent states state0, state1, state2. There are as many\n",
    "            such pairs as equivalence classes.\n",
    "       Helper for min_dfa.\n",
    "       Given an Eql. reln. of the form \n",
    "       [(a,b),(a,c),(d,e),(f,h),(g,f),..].\n",
    "       1. Grow eql classes \n",
    "       2. Elect a representative for each eql class\n",
    "       3. Return \"equivalence classes with representatives.\"\n",
    "       This is a structure of the form\n",
    "        [(a0,[a0, a1, a2, a3, a4]), (b0,[b0, b1]), (c0,[c0]), ...] \n",
    "       where \"a0\" is a state and a0,a1,a2,a3,a4 are equivalent to it\n",
    "       The same goes for the bs, cs, etc.\n",
    "    \"\"\"\n",
    "    return bash_1(eql_reln, []) # seed with empty list of eql class sets."
   ]
  },
  {
   "cell_type": "code",
   "execution_count": 48,
   "metadata": {
    "run_control": {
     "frozen": false,
     "read_only": false
    }
   },
   "outputs": [],
   "source": [
    "def listminus(L1, L2):\n",
    "    \"\"\"In : L1 : list or set\n",
    "            L2 : list or set\n",
    "       Out: List of items in L1 that are not in L2.\n",
    "       Helper for min_dfa and bash_1. Implements subtraction (L1 - L2).\n",
    "    \"\"\"\n",
    "    return [x for x in L1 if x not in L2]"
   ]
  },
  {
   "cell_type": "code",
   "execution_count": 49,
   "metadata": {
    "run_control": {
     "frozen": false,
     "read_only": false
    }
   },
   "outputs": [],
   "source": [
    "def bash_1(eql_reln, L_eq_classes):\n",
    "    \"\"\"In : eql_reln (equivalence relation : list of pairs of eqlt states)\n",
    "            L_eq_classes (list of eql classes which are SETS of states \n",
    "            for now.)\n",
    "       Out: return list of equivalence classes with representatives.\n",
    "       Helper for bash_eql_classes. \n",
    "       1) eql_reln is the current equivalence relation \n",
    "          (list of pairs)\n",
    "       2) L_eq_classes is a list of sets that are the eqlt \n",
    "          classes coalesced thus far.\n",
    "       3) We remove one pair at a time from the eql_reln and find\n",
    "          existing equivalence classes to expand, thus modifying\n",
    "          L_eq_classes each time. \n",
    "       Once the equivalence relation is emptied, we call mk_rep_eqc\n",
    "       thus making a list of equivalence classes with representatives\n",
    "       of the form \n",
    "       [(a0,[a0, a1, a2, a3, a4]), (b0,[b0, b1]), (c0,[c0]), ...]. \n",
    "    \"\"\"\n",
    "    if eql_reln == []:\n",
    "        # When we have fully processed the given equivalence \n",
    "        # relation, return a list of equivalence classes with \n",
    "        # representatives of the form \n",
    "        # [(a0,[a0, a1, a2, a3, a4]), (b0,[b0, b1]), (c0,[c0]), ...]\n",
    "        return mk_rep_eqc(L_eq_classes)\n",
    "    else:\n",
    "        # pick the next pair from the eql_reln being coalesced\n",
    "        eq0 = eql_reln[0]   \n",
    "        a = eq0[0]          \n",
    "        b = eq0[1]   \n",
    "        \n",
    "        # We know that a is a state that is equivalent to b, since\n",
    "        # they exist as a pair in eql_reln[0].\n",
    "        \n",
    "        # Now we must see if 'a' already lives in a COALESCED \n",
    "        # equivalence class\n",
    "   \n",
    "        # Set Sa is a typical equivalence class in L_eq_classes\n",
    "        # See if 'a' is in Sa.\n",
    "        \n",
    "        SaL = [Sa for Sa in L_eq_classes if a in Sa]\n",
    "        \n",
    "        # There must be zero or one such set as Sa. \n",
    "        # Thus, |SaL| = 0 or 1\n",
    "        \n",
    "        # Similarly, see which (if any) eql class that b lives in\n",
    "        SbL = [Sb for Sb in L_eq_classes if b in Sb]  \n",
    "        \n",
    "        # Now there are four cases:\n",
    "        \n",
    "        # 1. a,b pair is totally new (not in any eql. class so far)\n",
    "        if (SaL == [] and SbL == []):\n",
    "            # Add a fresh eql class {a,b} to L_eq_classes and recurse\n",
    "            return bash_1(eql_reln[1:], [{a,b}] + L_eq_classes)\n",
    "        \n",
    "        # 2. a is in eql class SaL[0] while b is not in any eql class\n",
    "        elif (SbL == [] and not(SaL == [])):\n",
    "            # Remove the little eql. class in which 'a' sits\n",
    "            # replace by a bigger eql. class that now also includes 'b'. \n",
    "            # That is, we must invite 'b' into the same eql class \n",
    "            # in which 'a' sits (this being SaL[0]).\n",
    "            \n",
    "            # Then we take away the eql class that 'a' sits in from \n",
    "            # L_eq_classes, and of course replace it with an expanded \n",
    "            # version that includes b\n",
    "            New_L_eq_classes = (listminus(L_eq_classes, SaL) +\n",
    "                                [SaL[0] | {b}])\n",
    "            \n",
    "            return bash_1(eql_reln[1:], New_L_eq_classes)\n",
    "        \n",
    "        # 3. b is in eql class SbL[0] while a is not in any eql class\n",
    "        elif (SaL == [] and not(SbL == [])):\n",
    "            # Similar steps as above, with 'a' being invited in.\n",
    "            \n",
    "            New_L_eq_classes = (listminus(L_eq_classes, SbL) +\n",
    "                                [SbL[0] | {a}])\n",
    "            \n",
    "            return bash_1(eql_reln[1:], New_L_eq_classes)\n",
    "        \n",
    "        else:\n",
    "            # a and b are both in their own little eql. classes\n",
    "            # We must now collapse both the eql classes into a huge one\n",
    "            # Remove both little pre-existing eql. classes. Replace \n",
    "            # with union-ed one. Neither 'a' nor 'b' is being invited in\n",
    "            # afresh; rather, the eql classes they are in \n",
    "            # (i.e. SaL[0],SbL[0]) are being merged.\n",
    "            \n",
    "            New_L_eq_classes = (listminus(L_eq_classes,SaL+SbL) + \n",
    "                                [SaL[0] | SbL[0]])\n",
    "            \n",
    "            return bash_1(eql_reln[1:], New_L_eq_classes)"
   ]
  },
  {
   "cell_type": "code",
   "execution_count": 50,
   "metadata": {
    "run_control": {
     "frozen": false,
     "read_only": false
    }
   },
   "outputs": [],
   "source": [
    "def mk_rep_eqc(L_eq_classes):\n",
    "    \"\"\"Helper for bash_1 that finds the representative of a set of\n",
    "       equivalent states. Given the final equivalence classes,\n",
    "       make representatives for each; stick the repr. at the \n",
    "       head of a pair. Thus, (repr, eql-class-with-repr) list\n",
    "       is returned.\n",
    "    \"\"\"\n",
    "    Ll = list(map(lambda x: list(x), L_eq_classes))\n",
    "    return list(map(lambda x: (x[0], x), Ll))"
   ]
  },
  {
   "cell_type": "code",
   "execution_count": 51,
   "metadata": {
    "run_control": {
     "frozen": false,
     "read_only": false
    }
   },
   "outputs": [],
   "source": [
    "def F_of(F, final_rep_eqc):\n",
    "    \"\"\"In : F (final states of DFA)\n",
    "            final_rep_eqc : equivalence class with representatives\n",
    "       Out: A set of representatives of the final states \n",
    "       Helper for min_dfa.\n",
    "       Given F, the final states of a DFA and final equivalence\n",
    "       classes with representatives of the form \n",
    "       [(rep,[states eql to rep], ...)\n",
    "       obtain those equivalence classes in which the original final \n",
    "       states live. Form a set of the representatives of these states. \n",
    "       This will be the set of representatives of the final states.\n",
    "    \"\"\"\n",
    "    return { x for (x,X) in final_rep_eqc \n",
    "             if not (set(F) & set(X)) == set({}) }"
   ]
  },
  {
   "cell_type": "code",
   "execution_count": 52,
   "metadata": {
    "run_control": {
     "frozen": false,
     "read_only": false
    }
   },
   "outputs": [],
   "source": [
    "def rep_of_s(s, final_rep_eqc):\n",
    "    \"\"\"Helper for min_dfa. Given a list \n",
    "       [(rep_of_s1, [states_eql_to_s1]),...]\n",
    "       that has states paired with the list of equivalent states, \n",
    "       return the representative of s.\n",
    "    \"\"\"\n",
    "    if final_rep_eqc == []:\n",
    "        print(\"Error, did not find a rep for state s\")\n",
    "    else:\n",
    "        x_X = final_rep_eqc[0]\n",
    "        if s in x_X[1]:\n",
    "            return x_X[0]\n",
    "        else:\n",
    "            return q0_of(s, final_rep_eqc[1:])    "
   ]
  },
  {
   "cell_type": "code",
   "execution_count": 53,
   "metadata": {
    "run_control": {
     "frozen": false,
     "read_only": false
    }
   },
   "outputs": [],
   "source": [
    "def q0_of(q0, final_rep_eqc):\n",
    "    \"\"\"Helper for min_dfa. Given the initial state of the DFA and\n",
    "       the list [(rep, [eql states]), ...], find the representative\n",
    "       of q0 in lieu of q0.\n",
    "    \"\"\"\n",
    "    return rep_of_s(q0, final_rep_eqc)"
   ]
  },
  {
   "cell_type": "code",
   "execution_count": 54,
   "metadata": {
    "run_control": {
     "frozen": false,
     "read_only": false
    }
   },
   "outputs": [],
   "source": [
    "def Delta_of(Delta, final_rep_of_eqc):\n",
    "    \"\"\"In : Delta (transition function of the given DFA)\n",
    "            final_rep_of_eqc (eql classes with representatives)\n",
    "       Out: Form a dict of representatives' moves.\n",
    "       Helper for min_dfa. \n",
    "       Given the original transition function Delta and the\n",
    "       list [(rep_of_eqc, [equivalent states,...]), ...], \n",
    "       produce a new transition function with state representatives \n",
    "       (not the original states) jumping around!\n",
    "       The nice thing is that if multiple states had jumped around, \n",
    "       their transitions AUTOMATICALLY GET MERGED when we pool \n",
    "       the transitions into a hash-table (dictionary). Thus, we are \n",
    "       merging transitions among equivalent states also.\n",
    "    \"\"\"\n",
    "    return { (rep_of_s(s0, final_rep_of_eqc), a): \n",
    "              rep_of_s(s1, final_rep_of_eqc)  \n",
    "              for  ((s0,a),s1) in Delta.items() }"
   ]
  },
  {
   "cell_type": "code",
   "execution_count": 55,
   "metadata": {
    "code_folding": [],
    "run_control": {
     "frozen": false,
     "read_only": false
    }
   },
   "outputs": [],
   "source": [
    "def mk_state_eqc_name(L):\n",
    "    \"\"\"In : List of states (in each eql class)\n",
    "       Out: single state names by bashing the states separated by \"_\".\n",
    "       Helper for min_dfa. \n",
    "       Given a list of states, bash the \n",
    "       state names together separated by an underscore. \n",
    "       This is useful when 'verbose mode' state name printing \n",
    "       is desired.\n",
    "    \"\"\"\n",
    "    return \"_\".join(L)"
   ]
  },
  {
   "cell_type": "code",
   "execution_count": 56,
   "metadata": {
    "run_control": {
     "frozen": false,
     "read_only": false
    }
   },
   "outputs": [
    {
     "data": {
      "image/svg+xml": [
       "<?xml version=\"1.0\" encoding=\"UTF-8\" standalone=\"no\"?>\n",
       "<!DOCTYPE svg PUBLIC \"-//W3C//DTD SVG 1.1//EN\"\n",
       " \"http://www.w3.org/Graphics/SVG/1.1/DTD/svg11.dtd\">\n",
       "<!-- Generated by graphviz version 2.38.0 (20140413.2041)\n",
       " -->\n",
       "<!-- Title: %3 Pages: 1 -->\n",
       "<svg width=\"410pt\" height=\"101pt\"\n",
       " viewBox=\"0.00 0.00 410.07 100.89\" xmlns=\"http://www.w3.org/2000/svg\" xmlns:xlink=\"http://www.w3.org/1999/xlink\">\n",
       "<g id=\"graph0\" class=\"graph\" transform=\"scale(1 1) rotate(0) translate(4 96.8937)\">\n",
       "<title>%3</title>\n",
       "<polygon fill=\"white\" stroke=\"none\" points=\"-4,4 -4,-96.8937 406.075,-96.8937 406.075,4 -4,4\"/>\n",
       "<!-- EMPTY -->\n",
       "<g id=\"node1\" class=\"node\"><title>EMPTY</title>\n",
       "</g>\n",
       "<!-- S1 -->\n",
       "<g id=\"node2\" class=\"node\"><title>S1</title>\n",
       "<ellipse fill=\"none\" stroke=\"black\" cx=\"110.447\" cy=\"-23.4469\" rx=\"19.3939\" ry=\"19.3939\"/>\n",
       "<text text-anchor=\"middle\" x=\"110.447\" y=\"-19.2469\" font-family=\"Times,serif\" font-size=\"14.00\">S1</text>\n",
       "</g>\n",
       "<!-- EMPTY&#45;&gt;S1 -->\n",
       "<g id=\"edge1\" class=\"edge\"><title>EMPTY&#45;&gt;S1</title>\n",
       "<path fill=\"none\" stroke=\"black\" d=\"M54.2186,-23.4469C62.6822,-23.4469 72.1072,-23.4469 80.7407,-23.4469\"/>\n",
       "<polygon fill=\"black\" stroke=\"black\" points=\"80.7613,-26.947 90.7613,-23.4469 80.7613,-19.947 80.7613,-26.947\"/>\n",
       "</g>\n",
       "<!-- S3 -->\n",
       "<g id=\"node4\" class=\"node\"><title>S3</title>\n",
       "<ellipse fill=\"none\" stroke=\"black\" cx=\"199.841\" cy=\"-23.4469\" rx=\"19.4029\" ry=\"19.4029\"/>\n",
       "<ellipse fill=\"none\" stroke=\"black\" cx=\"199.841\" cy=\"-23.4469\" rx=\"23.3939\" ry=\"23.3939\"/>\n",
       "<text text-anchor=\"middle\" x=\"199.841\" y=\"-19.2469\" font-family=\"Times,serif\" font-size=\"14.00\">S3</text>\n",
       "</g>\n",
       "<!-- S1&#45;&gt;S3 -->\n",
       "<g id=\"edge2\" class=\"edge\"><title>S1&#45;&gt;S3</title>\n",
       "<path fill=\"none\" stroke=\"black\" d=\"M129.981,-23.4469C140.444,-23.4469 153.827,-23.4469 166.008,-23.4469\"/>\n",
       "<polygon fill=\"black\" stroke=\"black\" points=\"166.299,-26.947 176.299,-23.4469 166.299,-19.947 166.299,-26.947\"/>\n",
       "<text text-anchor=\"middle\" x=\"153.144\" y=\"-40.2469\" font-family=\"Times,serif\" font-size=\"14.00\">b </text>\n",
       "<text text-anchor=\"middle\" x=\"153.144\" y=\"-26.2469\" font-family=\"Times,serif\" font-size=\"14.00\"> a</text>\n",
       "</g>\n",
       "<!-- S5 -->\n",
       "<g id=\"node3\" class=\"node\"><title>S5</title>\n",
       "<ellipse fill=\"none\" stroke=\"black\" cx=\"289.234\" cy=\"-23.4469\" rx=\"19.3939\" ry=\"19.3939\"/>\n",
       "<text text-anchor=\"middle\" x=\"289.234\" y=\"-19.2469\" font-family=\"Times,serif\" font-size=\"14.00\">S5</text>\n",
       "</g>\n",
       "<!-- S6 -->\n",
       "<g id=\"node5\" class=\"node\"><title>S6</title>\n",
       "<ellipse fill=\"none\" stroke=\"black\" cx=\"378.628\" cy=\"-23.4469\" rx=\"19.4029\" ry=\"19.4029\"/>\n",
       "<ellipse fill=\"none\" stroke=\"black\" cx=\"378.628\" cy=\"-23.4469\" rx=\"23.3939\" ry=\"23.3939\"/>\n",
       "<text text-anchor=\"middle\" x=\"378.628\" y=\"-19.2469\" font-family=\"Times,serif\" font-size=\"14.00\">S6</text>\n",
       "</g>\n",
       "<!-- S5&#45;&gt;S6 -->\n",
       "<g id=\"edge4\" class=\"edge\"><title>S5&#45;&gt;S6</title>\n",
       "<path fill=\"none\" stroke=\"black\" d=\"M308.768,-23.4469C319.232,-23.4469 332.615,-23.4469 344.795,-23.4469\"/>\n",
       "<polygon fill=\"black\" stroke=\"black\" points=\"345.087,-26.947 355.087,-23.4469 345.086,-19.947 345.087,-26.947\"/>\n",
       "<text text-anchor=\"middle\" x=\"331.931\" y=\"-40.2469\" font-family=\"Times,serif\" font-size=\"14.00\">b </text>\n",
       "<text text-anchor=\"middle\" x=\"331.931\" y=\"-26.2469\" font-family=\"Times,serif\" font-size=\"14.00\"> a</text>\n",
       "</g>\n",
       "<!-- S3&#45;&gt;S5 -->\n",
       "<g id=\"edge3\" class=\"edge\"><title>S3&#45;&gt;S5</title>\n",
       "<path fill=\"none\" stroke=\"black\" d=\"M223.347,-23.4469C234.343,-23.4469 247.703,-23.4469 259.435,-23.4469\"/>\n",
       "<polygon fill=\"black\" stroke=\"black\" points=\"259.637,-26.947 269.637,-23.4469 259.637,-19.947 259.637,-26.947\"/>\n",
       "<text text-anchor=\"middle\" x=\"246.537\" y=\"-40.2469\" font-family=\"Times,serif\" font-size=\"14.00\">b </text>\n",
       "<text text-anchor=\"middle\" x=\"246.537\" y=\"-26.2469\" font-family=\"Times,serif\" font-size=\"14.00\"> a</text>\n",
       "</g>\n",
       "<!-- S6&#45;&gt;S6 -->\n",
       "<g id=\"edge5\" class=\"edge\"><title>S6&#45;&gt;S6</title>\n",
       "<path fill=\"none\" stroke=\"black\" d=\"M370.174,-45.6203C369.251,-55.9065 372.069,-64.8937 378.628,-64.8937 382.83,-64.8937 385.496,-61.2054 386.628,-55.85\"/>\n",
       "<polygon fill=\"black\" stroke=\"black\" points=\"390.135,-55.766 387.083,-45.6203 383.142,-55.4549 390.135,-55.766\"/>\n",
       "<text text-anchor=\"middle\" x=\"378.628\" y=\"-81.6937\" font-family=\"Times,serif\" font-size=\"14.00\">b </text>\n",
       "<text text-anchor=\"middle\" x=\"378.628\" y=\"-67.6937\" font-family=\"Times,serif\" font-size=\"14.00\"> a</text>\n",
       "</g>\n",
       "</g>\n",
       "</svg>\n"
      ],
      "text/plain": [
       "<graphviz.dot.Digraph at 0x102271b38>"
      ]
     },
     "execution_count": 56,
     "metadata": {},
     "output_type": "execute_result"
    }
   ],
   "source": [
    "dotObj_dfa(min_dfa(Bloat1), \"shrunkBloat1\")"
   ]
  },
  {
   "cell_type": "code",
   "execution_count": 57,
   "metadata": {
    "run_control": {
     "frozen": false,
     "read_only": false
    }
   },
   "outputs": [],
   "source": [
    "prd34b1 = pruneUnreach(D34bl)"
   ]
  },
  {
   "cell_type": "code",
   "execution_count": 58,
   "metadata": {
    "run_control": {
     "frozen": false,
     "read_only": false
    }
   },
   "outputs": [
    {
     "data": {
      "image/svg+xml": [
       "<?xml version=\"1.0\" encoding=\"UTF-8\" standalone=\"no\"?>\n",
       "<!DOCTYPE svg PUBLIC \"-//W3C//DTD SVG 1.1//EN\"\n",
       " \"http://www.w3.org/Graphics/SVG/1.1/DTD/svg11.dtd\">\n",
       "<!-- Generated by graphviz version 2.38.0 (20140413.2041)\n",
       " -->\n",
       "<!-- Title: %3 Pages: 1 -->\n",
       "<svg width=\"470pt\" height=\"149pt\"\n",
       " viewBox=\"0.00 0.00 469.68 149.00\" xmlns=\"http://www.w3.org/2000/svg\" xmlns:xlink=\"http://www.w3.org/1999/xlink\">\n",
       "<g id=\"graph0\" class=\"graph\" transform=\"scale(1 1) rotate(0) translate(4 145)\">\n",
       "<title>%3</title>\n",
       "<polygon fill=\"white\" stroke=\"none\" points=\"-4,4 -4,-145 465.684,-145 465.684,4 -4,4\"/>\n",
       "<!-- EMPTY -->\n",
       "<g id=\"node1\" class=\"node\"><title>EMPTY</title>\n",
       "</g>\n",
       "<!-- IF -->\n",
       "<g id=\"node6\" class=\"node\"><title>IF</title>\n",
       "<ellipse fill=\"none\" stroke=\"black\" cx=\"113\" cy=\"-75\" rx=\"18\" ry=\"18\"/>\n",
       "<ellipse fill=\"none\" stroke=\"black\" cx=\"113\" cy=\"-75\" rx=\"22\" ry=\"22\"/>\n",
       "<text text-anchor=\"middle\" x=\"113\" y=\"-70.8\" font-family=\"Times,serif\" font-size=\"14.00\">IF</text>\n",
       "</g>\n",
       "<!-- EMPTY&#45;&gt;IF -->\n",
       "<g id=\"edge1\" class=\"edge\"><title>EMPTY&#45;&gt;IF</title>\n",
       "<path fill=\"none\" stroke=\"black\" d=\"M54.1177,-75C62.5406,-75 71.9629,-75 80.7191,-75\"/>\n",
       "<polygon fill=\"black\" stroke=\"black\" points=\"80.9574,-78.5001 90.9574,-75 80.9573,-71.5001 80.9574,-78.5001\"/>\n",
       "</g>\n",
       "<!-- A1 -->\n",
       "<g id=\"node2\" class=\"node\"><title>A1</title>\n",
       "<ellipse fill=\"none\" stroke=\"black\" cx=\"277.915\" cy=\"-100\" rx=\"20.8304\" ry=\"20.8304\"/>\n",
       "<text text-anchor=\"middle\" x=\"277.915\" y=\"-95.8\" font-family=\"Times,serif\" font-size=\"14.00\">A1</text>\n",
       "</g>\n",
       "<!-- B -->\n",
       "<g id=\"node3\" class=\"node\"><title>B</title>\n",
       "<ellipse fill=\"none\" stroke=\"black\" cx=\"359.83\" cy=\"-109\" rx=\"18\" ry=\"18\"/>\n",
       "<text text-anchor=\"middle\" x=\"359.83\" y=\"-104.8\" font-family=\"Times,serif\" font-size=\"14.00\">B</text>\n",
       "</g>\n",
       "<!-- A1&#45;&gt;B -->\n",
       "<g id=\"edge4\" class=\"edge\"><title>A1&#45;&gt;B</title>\n",
       "<path fill=\"none\" stroke=\"black\" d=\"M299.081,-102.271C308.999,-103.388 321.094,-104.75 331.801,-105.956\"/>\n",
       "<polygon fill=\"black\" stroke=\"black\" points=\"331.584,-109.454 341.913,-107.095 332.367,-102.498 331.584,-109.454\"/>\n",
       "<text text-anchor=\"middle\" x=\"320.33\" y=\"-108.8\" font-family=\"Times,serif\" font-size=\"14.00\">0</text>\n",
       "</g>\n",
       "<!-- A -->\n",
       "<g id=\"node5\" class=\"node\"><title>A</title>\n",
       "<ellipse fill=\"none\" stroke=\"black\" cx=\"196\" cy=\"-75\" rx=\"18\" ry=\"18\"/>\n",
       "<text text-anchor=\"middle\" x=\"196\" y=\"-70.8\" font-family=\"Times,serif\" font-size=\"14.00\">A</text>\n",
       "</g>\n",
       "<!-- A1&#45;&gt;A -->\n",
       "<g id=\"edge9\" class=\"edge\"><title>A1&#45;&gt;A</title>\n",
       "<path fill=\"none\" stroke=\"black\" d=\"M262.328,-85.8129C255.752,-80.3803 247.55,-74.8148 239,-72 234.218,-70.4255 228.968,-69.9154 223.85,-70.0109\"/>\n",
       "<polygon fill=\"black\" stroke=\"black\" points=\"223.369,-66.5397 213.718,-70.9105 223.988,-73.5123 223.369,-66.5397\"/>\n",
       "<text text-anchor=\"middle\" x=\"235.5\" y=\"-74.8\" font-family=\"Times,serif\" font-size=\"14.00\">1</text>\n",
       "</g>\n",
       "<!-- B1 -->\n",
       "<g id=\"node4\" class=\"node\"><title>B1</title>\n",
       "<ellipse fill=\"none\" stroke=\"black\" cx=\"441.257\" cy=\"-58\" rx=\"20.3544\" ry=\"20.3544\"/>\n",
       "<text text-anchor=\"middle\" x=\"441.257\" y=\"-53.8\" font-family=\"Times,serif\" font-size=\"14.00\">B1</text>\n",
       "</g>\n",
       "<!-- B&#45;&gt;B1 -->\n",
       "<g id=\"edge8\" class=\"edge\"><title>B&#45;&gt;B1</title>\n",
       "<path fill=\"none\" stroke=\"black\" d=\"M371.434,-94.6391C377.76,-86.9663 386.386,-77.9107 395.83,-72 400.425,-69.1241 405.66,-66.7945 410.884,-64.9221\"/>\n",
       "<polygon fill=\"black\" stroke=\"black\" points=\"412.233,-68.1682 420.747,-61.8618 410.159,-61.4826 412.233,-68.1682\"/>\n",
       "<text text-anchor=\"middle\" x=\"399.33\" y=\"-74.8\" font-family=\"Times,serif\" font-size=\"14.00\">1</text>\n",
       "</g>\n",
       "<!-- B&#45;&gt;IF -->\n",
       "<g id=\"edge11\" class=\"edge\"><title>B&#45;&gt;IF</title>\n",
       "<path fill=\"none\" stroke=\"black\" d=\"M343.368,-116.296C337.356,-118.954 330.356,-121.836 323.83,-124 295.524,-133.387 286.39,-135.054 257,-130 215.26,-122.822 170.122,-103.296 141.96,-89.5591\"/>\n",
       "<polygon fill=\"black\" stroke=\"black\" points=\"143.253,-86.2929 132.741,-84.9714 140.134,-92.5599 143.253,-86.2929\"/>\n",
       "<text text-anchor=\"middle\" x=\"235.5\" y=\"-129.8\" font-family=\"Times,serif\" font-size=\"14.00\">0</text>\n",
       "</g>\n",
       "<!-- B1&#45;&gt;B -->\n",
       "<g id=\"edge6\" class=\"edge\"><title>B1&#45;&gt;B</title>\n",
       "<path fill=\"none\" stroke=\"black\" d=\"M426.078,-71.7896C419.377,-77.8554 411.055,-84.7728 402.83,-90 397.637,-93.2998 391.776,-96.3312 386.116,-98.9577\"/>\n",
       "<polygon fill=\"black\" stroke=\"black\" points=\"384.694,-95.7593 376.934,-102.972 387.498,-102.173 384.694,-95.7593\"/>\n",
       "<text text-anchor=\"middle\" x=\"399.33\" y=\"-96.8\" font-family=\"Times,serif\" font-size=\"14.00\">1</text>\n",
       "</g>\n",
       "<!-- B1&#45;&gt;IF -->\n",
       "<g id=\"edge5\" class=\"edge\"><title>B1&#45;&gt;IF</title>\n",
       "<path fill=\"none\" stroke=\"black\" d=\"M428.471,-41.8438C414.457,-24.682 389.345,-0 360.83,-0 195,-0 195,-0 195,-0 166.324,-0 143.499,-25.6206 129.481,-46.9128\"/>\n",
       "<polygon fill=\"black\" stroke=\"black\" points=\"126.333,-45.3462 124.021,-55.6856 132.276,-49.045 126.333,-45.3462\"/>\n",
       "<text text-anchor=\"middle\" x=\"277.915\" y=\"-2.8\" font-family=\"Times,serif\" font-size=\"14.00\">0</text>\n",
       "</g>\n",
       "<!-- A&#45;&gt;A1 -->\n",
       "<g id=\"edge2\" class=\"edge\"><title>A&#45;&gt;A1</title>\n",
       "<path fill=\"none\" stroke=\"black\" d=\"M212.444,-82.3527C218.453,-85.0184 225.457,-87.8897 232,-90 236.785,-91.5433 241.932,-92.9321 246.974,-94.1493\"/>\n",
       "<polygon fill=\"black\" stroke=\"black\" points=\"246.502,-97.6302 257.025,-96.4007 248.032,-90.7995 246.502,-97.6302\"/>\n",
       "<text text-anchor=\"middle\" x=\"235.5\" y=\"-95.8\" font-family=\"Times,serif\" font-size=\"14.00\">1</text>\n",
       "</g>\n",
       "<!-- A&#45;&gt;B1 -->\n",
       "<g id=\"edge7\" class=\"edge\"><title>A&#45;&gt;B1</title>\n",
       "<path fill=\"none\" stroke=\"black\" d=\"M213.622,-70.5517C219.398,-69.1793 225.946,-67.8158 232,-67 295.213,-58.4817 370.098,-57.4267 410.621,-57.596\"/>\n",
       "<polygon fill=\"black\" stroke=\"black\" points=\"410.604,-61.0959 420.628,-57.6663 410.653,-54.0961 410.604,-61.0959\"/>\n",
       "<text text-anchor=\"middle\" x=\"320.33\" y=\"-62.8\" font-family=\"Times,serif\" font-size=\"14.00\">0</text>\n",
       "</g>\n",
       "<!-- IF&#45;&gt;A -->\n",
       "<g id=\"edge10\" class=\"edge\"><title>IF&#45;&gt;A</title>\n",
       "<path fill=\"none\" stroke=\"black\" d=\"M135.282,-75C145.266,-75 157.278,-75 167.903,-75\"/>\n",
       "<polygon fill=\"black\" stroke=\"black\" points=\"167.94,-78.5001 177.939,-75 167.939,-71.5001 167.94,-78.5001\"/>\n",
       "<text text-anchor=\"middle\" x=\"156.5\" y=\"-77.8\" font-family=\"Times,serif\" font-size=\"14.00\">0</text>\n",
       "</g>\n",
       "<!-- IF&#45;&gt;IF -->\n",
       "<g id=\"edge3\" class=\"edge\"><title>IF&#45;&gt;IF</title>\n",
       "<path fill=\"none\" stroke=\"black\" d=\"M105.683,-95.9908C104.78,-106.087 107.219,-115 113,-115 116.704,-115 119.036,-111.342 119.996,-106.059\"/>\n",
       "<polygon fill=\"black\" stroke=\"black\" points=\"123.496,-106.097 120.317,-95.9908 116.5,-105.874 123.496,-106.097\"/>\n",
       "<text text-anchor=\"middle\" x=\"113\" y=\"-117.8\" font-family=\"Times,serif\" font-size=\"14.00\">1</text>\n",
       "</g>\n",
       "</g>\n",
       "</svg>\n"
      ],
      "text/plain": [
       "<graphviz.dot.Digraph at 0x102271da0>"
      ]
     },
     "execution_count": 58,
     "metadata": {},
     "output_type": "execute_result"
    }
   ],
   "source": [
    "dotObj_dfa(prd34b1, \"prd34b1\")"
   ]
  },
  {
   "cell_type": "code",
   "execution_count": 59,
   "metadata": {
    "run_control": {
     "frozen": false,
     "read_only": false
    }
   },
   "outputs": [
    {
     "data": {
      "image/svg+xml": [
       "<?xml version=\"1.0\" encoding=\"UTF-8\" standalone=\"no\"?>\n",
       "<!DOCTYPE svg PUBLIC \"-//W3C//DTD SVG 1.1//EN\"\n",
       " \"http://www.w3.org/Graphics/SVG/1.1/DTD/svg11.dtd\">\n",
       "<!-- Generated by graphviz version 2.38.0 (20140413.2041)\n",
       " -->\n",
       "<!-- Title: %3 Pages: 1 -->\n",
       "<svg width=\"307pt\" height=\"142pt\"\n",
       " viewBox=\"0.00 0.00 306.83 141.92\" xmlns=\"http://www.w3.org/2000/svg\" xmlns:xlink=\"http://www.w3.org/1999/xlink\">\n",
       "<g id=\"graph0\" class=\"graph\" transform=\"scale(1 1) rotate(0) translate(4 137.915)\">\n",
       "<title>%3</title>\n",
       "<polygon fill=\"white\" stroke=\"none\" points=\"-4,4 -4,-137.915 302.83,-137.915 302.83,4 -4,4\"/>\n",
       "<!-- EMPTY -->\n",
       "<g id=\"node1\" class=\"node\"><title>EMPTY</title>\n",
       "</g>\n",
       "<!-- IF -->\n",
       "<g id=\"node4\" class=\"node\"><title>IF</title>\n",
       "<ellipse fill=\"none\" stroke=\"black\" cx=\"113\" cy=\"-79.915\" rx=\"18\" ry=\"18\"/>\n",
       "<ellipse fill=\"none\" stroke=\"black\" cx=\"113\" cy=\"-79.915\" rx=\"22\" ry=\"22\"/>\n",
       "<text text-anchor=\"middle\" x=\"113\" y=\"-75.715\" font-family=\"Times,serif\" font-size=\"14.00\">IF</text>\n",
       "</g>\n",
       "<!-- EMPTY&#45;&gt;IF -->\n",
       "<g id=\"edge1\" class=\"edge\"><title>EMPTY&#45;&gt;IF</title>\n",
       "<path fill=\"none\" stroke=\"black\" d=\"M54.1177,-79.915C62.5406,-79.915 71.9629,-79.915 80.7191,-79.915\"/>\n",
       "<polygon fill=\"black\" stroke=\"black\" points=\"80.9574,-83.4151 90.9574,-79.915 80.9573,-76.4151 80.9574,-83.4151\"/>\n",
       "</g>\n",
       "<!-- A1 -->\n",
       "<g id=\"node2\" class=\"node\"><title>A1</title>\n",
       "<ellipse fill=\"none\" stroke=\"black\" cx=\"198.915\" cy=\"-20.915\" rx=\"20.8304\" ry=\"20.8304\"/>\n",
       "<text text-anchor=\"middle\" x=\"198.915\" y=\"-16.715\" font-family=\"Times,serif\" font-size=\"14.00\">A1</text>\n",
       "</g>\n",
       "<!-- A1&#45;&gt;A1 -->\n",
       "<g id=\"edge2\" class=\"edge\"><title>A1&#45;&gt;A1</title>\n",
       "<path fill=\"none\" stroke=\"black\" d=\"M191.317,-40.5376C190.148,-50.684 192.681,-59.83 198.915,-59.83 202.909,-59.83 205.384,-56.0765 206.339,-50.711\"/>\n",
       "<polygon fill=\"black\" stroke=\"black\" points=\"209.842,-50.596 206.513,-40.5376 202.843,-50.4763 209.842,-50.596\"/>\n",
       "<text text-anchor=\"middle\" x=\"198.915\" y=\"-62.63\" font-family=\"Times,serif\" font-size=\"14.00\">1</text>\n",
       "</g>\n",
       "<!-- B -->\n",
       "<g id=\"node3\" class=\"node\"><title>B</title>\n",
       "<ellipse fill=\"none\" stroke=\"black\" cx=\"280.83\" cy=\"-79.915\" rx=\"18\" ry=\"18\"/>\n",
       "<text text-anchor=\"middle\" x=\"280.83\" y=\"-75.715\" font-family=\"Times,serif\" font-size=\"14.00\">B</text>\n",
       "</g>\n",
       "<!-- A1&#45;&gt;B -->\n",
       "<g id=\"edge4\" class=\"edge\"><title>A1&#45;&gt;B</title>\n",
       "<path fill=\"none\" stroke=\"black\" d=\"M216.473,-33.1399C228.474,-42 244.823,-54.0702 257.907,-63.7299\"/>\n",
       "<polygon fill=\"black\" stroke=\"black\" points=\"255.832,-66.5479 265.956,-69.6717 259.989,-60.9164 255.832,-66.5479\"/>\n",
       "<text text-anchor=\"middle\" x=\"241.33\" y=\"-56.715\" font-family=\"Times,serif\" font-size=\"14.00\">0</text>\n",
       "</g>\n",
       "<!-- B&#45;&gt;B -->\n",
       "<g id=\"edge6\" class=\"edge\"><title>B&#45;&gt;B</title>\n",
       "<path fill=\"none\" stroke=\"black\" d=\"M274.096,-96.9523C272.722,-106.773 274.967,-115.915 280.83,-115.915 284.495,-115.915 286.746,-112.344 287.583,-107.268\"/>\n",
       "<polygon fill=\"black\" stroke=\"black\" points=\"291.082,-106.946 287.564,-96.9523 284.082,-106.959 291.082,-106.946\"/>\n",
       "<text text-anchor=\"middle\" x=\"280.83\" y=\"-118.715\" font-family=\"Times,serif\" font-size=\"14.00\">1</text>\n",
       "</g>\n",
       "<!-- B&#45;&gt;IF -->\n",
       "<g id=\"edge5\" class=\"edge\"><title>B&#45;&gt;IF</title>\n",
       "<path fill=\"none\" stroke=\"black\" d=\"M262.769,-80.9952C250.766,-81.6996 234.323,-82.5529 219.83,-82.915 201.245,-83.3794 196.586,-83.3504 178,-82.915 167.353,-82.6656 155.718,-82.1832 145.324,-81.6768\"/>\n",
       "<polygon fill=\"black\" stroke=\"black\" points=\"145.2,-78.166 135.034,-81.1493 144.841,-85.1568 145.2,-78.166\"/>\n",
       "<text text-anchor=\"middle\" x=\"198.915\" y=\"-85.715\" font-family=\"Times,serif\" font-size=\"14.00\">0</text>\n",
       "</g>\n",
       "<!-- IF&#45;&gt;A1 -->\n",
       "<g id=\"edge7\" class=\"edge\"><title>IF&#45;&gt;A1</title>\n",
       "<path fill=\"none\" stroke=\"black\" d=\"M131.387,-67.6902C143.438,-59.2177 159.663,-47.8099 173.073,-38.3813\"/>\n",
       "<polygon fill=\"black\" stroke=\"black\" points=\"175.239,-41.1368 181.407,-32.522 171.213,-35.4105 175.239,-41.1368\"/>\n",
       "<text text-anchor=\"middle\" x=\"156.5\" y=\"-54.715\" font-family=\"Times,serif\" font-size=\"14.00\">0</text>\n",
       "</g>\n",
       "<!-- IF&#45;&gt;IF -->\n",
       "<g id=\"edge3\" class=\"edge\"><title>IF&#45;&gt;IF</title>\n",
       "<path fill=\"none\" stroke=\"black\" d=\"M105.683,-100.906C104.78,-111.002 107.219,-119.915 113,-119.915 116.704,-119.915 119.036,-116.257 119.996,-110.974\"/>\n",
       "<polygon fill=\"black\" stroke=\"black\" points=\"123.496,-111.012 120.317,-100.906 116.5,-110.789 123.496,-111.012\"/>\n",
       "<text text-anchor=\"middle\" x=\"113\" y=\"-122.715\" font-family=\"Times,serif\" font-size=\"14.00\">1</text>\n",
       "</g>\n",
       "</g>\n",
       "</svg>\n"
      ],
      "text/plain": [
       "<graphviz.dot.Digraph at 0x102271208>"
      ]
     },
     "execution_count": 59,
     "metadata": {},
     "output_type": "execute_result"
    }
   ],
   "source": [
    "dotObj_dfa(min_dfa(prd34b1), \"prd34b1min\")"
   ]
  },
  {
   "cell_type": "markdown",
   "metadata": {
    "collapsed": true,
    "run_control": {
     "frozen": false,
     "read_only": false
    }
   },
   "source": [
    "# Conclusions\n",
    "\n",
    "This notebook covered the basics of DFA including\n",
    "\n",
    "* Representations, consistency conditions\n",
    "\n",
    "* Making partial DFA and making them complete\n",
    "\n",
    "* DFA representation generation in Dot and Dot Object formats\n",
    "\n",
    "* DFA string and language acceptance\n",
    "\n",
    "* DFA union\n",
    "\n",
    "* DFA unreachable state elimination\n",
    "\n",
    "* DFA minimization\n",
    "\n",
    "Many of these routines have been tested extensively, especially DFA minimization (this is in the context of RE to NFA to DFA to min-DFA).\n",
    "\n",
    "The part that remains pertaining to DFA is conversion of DFA to regular expressions. That is taken up in another Jupter notebook. "
   ]
  }
 ],
 "metadata": {
  "kernelspec": {
   "display_name": "Python 3",
   "language": "python",
   "name": "python3"
  },
  "language_info": {
   "codemirror_mode": {
    "name": "ipython",
    "version": 3
   },
   "file_extension": ".py",
   "mimetype": "text/x-python",
   "name": "python",
   "nbconvert_exporter": "python",
   "pygments_lexer": "ipython3",
   "version": "3.6.0"
  },
  "toc": {
   "colors": {
    "hover_highlight": "#DAA520",
    "running_highlight": "#FF0000",
    "selected_highlight": "#FFD700"
   },
   "moveMenuLeft": true,
   "nav_menu": {
    "height": "318px",
    "width": "252px"
   },
   "navigate_menu": true,
   "number_sections": true,
   "sideBar": true,
   "threshold": 4,
   "toc_cell": false,
   "toc_section_display": "block",
   "toc_window_display": false,
   "widenNotebook": false
  }
 },
 "nbformat": 4,
 "nbformat_minor": 1
}
