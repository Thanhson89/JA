{
 "cells": [
  {
   "cell_type": "markdown",
   "metadata": {},
   "source": [
    "# Animating Machines"
   ]
  },
  {
   "cell_type": "code",
   "execution_count": 5,
   "metadata": {},
   "outputs": [],
   "source": [
    "import sys\n",
    "sys.path[0:0] = ['../..','../../3rdparty'] # Put these at the head of the search path\n",
    "\n",
    "from jove.Def_md2mc      import *"
   ]
  },
  {
   "cell_type": "markdown",
   "metadata": {},
   "source": [
    "You can animate any Jove machine (DFA, NFA, PDA, TM) using the corresponding Animate* class which will create a widget to interact with the machine.\n",
    "\n",
    "You can enter a string for the machine to consume in the 'Input:' text box at the top of the widget. The string must be composed of symbols in the machine's alphabet which is displayed in input box by default. If the string contains unknown symbols the 'Animate' button will turn red with the message 'Invalid Input' until the string is updated.\n",
    "\n",
    "Click the 'Animate' button when you are ready for the machine to animate using your input. This disables the input textbox and enables the play controls at the bottom of the widget. When you are done exploring the current input click the 'Change Input' button to disable the play controls and re-enable the input textbox. \n",
    "\n",
    "The play controls at the bottom of widget (from left to right) consist of:\n",
    "* Play          : play/resume the animation\n",
    "* Pause         : pause the animation\n",
    "* Stop          : stop the animation, play will start from the beginning\n",
    "* Loop          : loop when the end of the animation is reached and continue playing from the beginning\n",
    "* Step Backward : take one 'step' backward in the animation\n",
    "* Step Forward  : take one 'step' forward in the animation\n",
    "* Speed         : this slider lets you increase the animation playback speed"
   ]
  },
  {
   "cell_type": "markdown",
   "metadata": {},
   "source": [
    "## DFA"
   ]
  },
  {
   "cell_type": "code",
   "execution_count": 6,
   "metadata": {},
   "outputs": [],
   "source": [
    "ev0end1 = md2mc('''\n",
    "DFA\n",
    "I : 0 -> A\n",
    "A : 0 | 1 -> I\n",
    "I : 1 -> F\n",
    "F : 0 | 1 -> I\n",
    "''')"
   ]
  },
  {
   "cell_type": "markdown",
   "metadata": {},
   "source": [
    "Feed a DFA into AnimateDFA as the first positional argument.  \n",
    "AnimateDFA has several optional parameters:\n",
    "* FuseEdges  (bool): If True, draws only one edge between pairs of states with the transition labels stacked above it.\n",
    "* pick_start (bool): If True, a dropdown box is added at the top of the widget to pick which state the DFA starts in.\n",
    "* max_width (float): The maximum width of the DFA in inches. This prevents large drawings from extending beyond the draw area which forces the area to become scrollable."
   ]
  },
  {
   "cell_type": "code",
   "execution_count": 7,
   "metadata": {
    "scrolled": false
   },
   "outputs": [
    {
     "data": {
      "application/vnd.jupyter.widget-view+json": {
       "model_id": "ef45d8dd74df413d9afbe0be3720002a",
       "version_major": 2,
       "version_minor": 0
      },
      "text/plain": [
       "VBox(children=(HBox(children=(Text(value='', description='Input:', layout=Layout(width='500px'), placeholder='…"
      ]
     },
     "metadata": {},
     "output_type": "display_data"
    },
    {
     "data": {
      "text/plain": [
       "<jove.AnimateDFA.AnimateDFA at 0x26b6396a6a0>"
      ]
     },
     "execution_count": 7,
     "metadata": {},
     "output_type": "execute_result"
    }
   ],
   "source": [
    "from jove.AnimateDFA import *\n",
    "AnimateDFA(ev0end1, FuseEdges=True)"
   ]
  },
  {
   "cell_type": "markdown",
   "metadata": {},
   "source": [
    "## NFA"
   ]
  },
  {
   "cell_type": "code",
   "execution_count": 4,
   "metadata": {},
   "outputs": [],
   "source": [
    "nfahas01 = md2mc('''\n",
    "NFA \n",
    "I : 0 | 1 -> I\n",
    "I : '' -> A\n",
    "A : 0  -> B\n",
    "B : 1  -> C\n",
    "C : 0 | 1 -> C\n",
    "C : '' -> F\n",
    "''')"
   ]
  },
  {
   "cell_type": "markdown",
   "metadata": {},
   "source": [
    "Feed a NFA into AnimateNFA as the first positional argument.  \n",
    "AnimateNFA has several optional parameters:\n",
    "* FuseEdges  (bool): If True, draws only one edge between pairs of states with the transition labels stacked above it.\n",
    "* pick_start (bool): If True, a multi-select box is added to the top of the widget to pick which state(s) the NFA starts in. Select multiple states by holding 'Ctrl' when clicking on state names.\n",
    "* max_width (float): The maximum width of the NFA in inches. This prevents large drawings from extending beyond the draw area which forces the area to become scrollable."
   ]
  },
  {
   "cell_type": "code",
   "execution_count": 5,
   "metadata": {},
   "outputs": [
    {
     "data": {
      "application/vnd.jupyter.widget-view+json": {
       "model_id": "4aaf4fa8921f46a2bedf85beaa62b860",
       "version_major": 2,
       "version_minor": 0
      },
      "text/plain": [
       "VBox(children=(HBox(children=(Text(value='', description='Input:', layout=Layout(width='500px'), placeholder='…"
      ]
     },
     "metadata": {},
     "output_type": "display_data"
    },
    {
     "data": {
      "text/plain": [
       "<jove.AnimateNFA.AnimateNFA at 0x2112cb14eb8>"
      ]
     },
     "execution_count": 5,
     "metadata": {},
     "output_type": "execute_result"
    }
   ],
   "source": [
    "from jove.AnimateNFA import *\n",
    "AnimateNFA(nfahas01, FuseEdges=False)"
   ]
  },
  {
   "cell_type": "markdown",
   "metadata": {},
   "source": [
    "## PDA"
   ]
  },
  {
   "cell_type": "code",
   "execution_count": 2,
   "metadata": {},
   "outputs": [],
   "source": [
    "f27sip = md2mc('''\n",
    "PDA\n",
    "iq2    : a  , ''  ; a     -> iq2\n",
    "iq2    : '' , ''  ; ''    -> q3,q5\n",
    "q3     : b  , a   ; ''    -> q3\n",
    "q3     : '' , #   ; ''    -> fq4\n",
    "fq4    : c  , ''  ; ''    -> fq4\n",
    "q5     : b  , ''  ; ''    -> q5\n",
    "q5     : '' , ''  ; ''    -> q6\n",
    "q6     : c  , a   ; ''    -> q6\n",
    "q6     : '' , #   ; ''    -> fq7\n",
    "''')"
   ]
  },
  {
   "cell_type": "markdown",
   "metadata": {},
   "source": [
    "Feed a PDA into AnimatePDA as the first positional argument.  \n",
    "AnimatePDA has several optional parameters:\n",
    "* FuseEdges  (bool): If True, draws only one edge between pairs of states with the transition labels stacked above it.\n",
    "* max_stack (int): The maximum stack size that can be picked using the 'Stack Size' slider. The slider default value is always 6.\n",
    "* max_width (float): The maximum width of the PDA in inches. This prevents large drawings from extending beyond the draw area which forces the area to become scrollable.\n",
    "\n",
    "The AnimatePDA widget has two additional controls at the top. The 'Acceptance' dropdown lets you choose the acceptance criteria used when animating the PDA. 'State' will accept paths where the machine is in a final state when the input has been consumed. 'Stack' will accept paths where the stack is empty when the input has been consumed. The 'Stack Size' slider to changes the stack size used when looking for accepting paths.  \n",
    "\n",
    "The 'Path' dropdown box at the bottom of the widget will be populated with one option for each accepting path found for the provided input. If no accepting path is found the graph will highlight red and a message displayed confirming the input was rejected."
   ]
  },
  {
   "cell_type": "code",
   "execution_count": 3,
   "metadata": {
    "scrolled": false
   },
   "outputs": [
    {
     "data": {
      "application/vnd.jupyter.widget-view+json": {
       "model_id": "cfeb5dcc87b44f06a051ef4cc1a12a3f",
       "version_major": 2,
       "version_minor": 0
      },
      "text/plain": [
       "VBox(children=(HBox(children=(Text(value='', description='Input:', layout=Layout(width='500px'), placeholder='…"
      ]
     },
     "metadata": {},
     "output_type": "display_data"
    },
    {
     "data": {
      "text/plain": [
       "<jove.AnimatePDA.AnimatePDA at 0x26b6388c6d8>"
      ]
     },
     "execution_count": 3,
     "metadata": {},
     "output_type": "execute_result"
    }
   ],
   "source": [
    "from jove.AnimatePDA import *\n",
    "AnimatePDA(f27sip, FuseEdges=True)"
   ]
  },
  {
   "cell_type": "markdown",
   "metadata": {},
   "source": [
    "## TM"
   ]
  },
  {
   "cell_type": "code",
   "execution_count": 8,
   "metadata": {},
   "outputs": [],
   "source": [
    "ndtm101 = md2mc('''TM\n",
    "\n",
    "I : 0; A, R | 1; B, R -> I\n",
    "I : 0; 0, S | 1; 1, S -> TryMyLuck\n",
    "\n",
    "TryMyLuck : 1; Q, R -> Got1Sk0\n",
    "Got1Sk0   : 0; P, R -> Got10Sk1\n",
    "Got10Sk1  : 1; Q, R -> Found101\n",
    "\n",
    "I : .; ., R -> Reject\n",
    " \n",
    "''')"
   ]
  },
  {
   "cell_type": "markdown",
   "metadata": {},
   "source": [
    "Feed a TM into AnimateTM as the first positional argument.  \n",
    "AnimateTM has several optional parameters:\n",
    "* FuseEdges  (bool): If True, draws only one edge between pairs of states with the transition labels stacked above it.\n",
    "* show_rejected (bool): If True, the path selection dropdown box will also include rejected paths that were explored by the TM. If False and there are no accepting paths, the TM drawing will be colored red and a message will display stating the input was rejected.\n",
    "* max_width (float): The maximum width of the TM in inches. This prevents large drawings from extending beyond the draw area which forces the area to become scrollable.\n",
    "\n",
    "The 'Fuel' spinner box at the top of the widget can be used to increase the number of steps the machine is allowed to take while searching for an accepting path. This forces the machine to stop in a finite amount of time.\n",
    "The dropdown box at the bottom of the widget is populated with all accepting paths found for the provided input. If 'show_rejected=True' the dropdown will also include animations for the rejected paths that the TM searched."
   ]
  },
  {
   "cell_type": "code",
   "execution_count": 9,
   "metadata": {},
   "outputs": [
    {
     "data": {
      "application/vnd.jupyter.widget-view+json": {
       "model_id": "5c889428a2c5403699c04ea8d137fc7e",
       "version_major": 2,
       "version_minor": 0
      },
      "text/plain": [
       "VBox(children=(HBox(children=(Text(value='', description='Input:', layout=Layout(width='500px'), placeholder='…"
      ]
     },
     "metadata": {},
     "output_type": "display_data"
    },
    {
     "data": {
      "text/plain": [
       "<jove.AnimateTM.AnimateTM at 0x2112ccd0400>"
      ]
     },
     "execution_count": 9,
     "metadata": {},
     "output_type": "execute_result"
    }
   ],
   "source": [
    "from jove.AnimateTM import *\n",
    "AnimateTM(ndtm101, FuseEdges=True)"
   ]
  }
 ],
 "metadata": {
  "kernelspec": {
   "display_name": "Python 3",
   "language": "python",
   "name": "python3"
  },
  "language_info": {
   "codemirror_mode": {
    "name": "ipython",
    "version": 3
   },
   "file_extension": ".py",
   "mimetype": "text/x-python",
   "name": "python",
   "nbconvert_exporter": "python",
   "pygments_lexer": "ipython3",
   "version": "3.6.5"
  }
 },
 "nbformat": 4,
 "nbformat_minor": 2
}
